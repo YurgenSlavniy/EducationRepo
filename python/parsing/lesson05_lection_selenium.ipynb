{
 "cells": [
  {
   "cell_type": "markdown",
   "id": "e452af00",
   "metadata": {},
   "source": [
    "# Методы сбора и обработки данных из сети Интернет\n",
    "###  Selenium в Python\n",
    "\n",
    "Специфичный, своеобразный инструмент для сбора данных со своими правилами. У этого инструмента нет аналога. \n",
    "\n",
    "- Основы Selenium\n",
    "- Selenium WebDriver\n",
    "- Работа с Selenium в python\n",
    "\n",
    "Изначально Selenium - инструмент для автоматизации действий веб-браузера. Чаще всего используется для тестирования. \n",
    "\n",
    "Официальная страница проекта - https://docs.seleniumhq.org/\n",
    "\n",
    "Для замены рутинных действий, совершаемых тестировщиками, чтобы проверить не сломало ли нововведение какое нибудь старый функционал, отрабатывает ли нововедение с критическими параметрами. Для автоматизации следующих рутинных действий:\n",
    "- нажимает на ссылки\n",
    "- нажимает на кнопки\n",
    "- вводит данные в поля для ввода данных\n",
    "- переходит по страничкам\n",
    "- скроллит\n",
    "- делает драгн дропы\n",
    "- клики мышками\n",
    "- эмулирует нажатия на клавиши клавиатуры\n",
    "\n",
    "Всё это селениум умеет делать. \n"
   ]
  },
  {
   "cell_type": "markdown",
   "id": "a84e1f47",
   "metadata": {},
   "source": [
    "Чтобы воспроизвести все эти человеческие действия нужно страницу открыть в браузере. Страница открывается в некоем браузере и все действия на этой открывшейся страннице выполняются с помощью кода.  И вскоре этот инструмент стали использовать для сбора данных. \n",
    "\n",
    "Раз стрница открылась в браузере значит на неё сработал джава скрипт, Раз джава скрипт на странице сработал - подгрузились все динамические процессы, которые в обычном запросе будут отсутствовать.  \n",
    "\n",
    "Селениум позволяет получать динамические данные. + открываются новые возможности, ведь если страница открылась нам доступны все возможности страницы. В том числе поля для ввода данных логина и пароля. Через селениум можно проходить автоматическую авторизацию. \n",
    "\n",
    "Дело не в иснструменте, а дело в запросе. Делая зпрос через модуль реквестс, который по сути запрашивает шаблон хтмл страницы. Вопрос в том, загрузит ли бэкэнд в этот запрос данные какие то или не загрузит. Или он загрузит только джаваскрипты, которые сработают в момент его открытия в браузере и джава скрипты уже будут загружать данные на страницу. "
   ]
  },
  {
   "cell_type": "markdown",
   "id": "4c7773ae",
   "metadata": {},
   "source": [
    "`Selenium` это универсальный вебинструмент типа Web Driver. Веб драйвер по сути это наш браузер, вернее саказать его ядро без каких либо дополнительных нагрузок (приложения, графический интерфейс) только основная логика и механика браузера. Он есть для всех браузеров без исключения, даже для дредэксплорера. \n",
    "\n",
    "`Web Driver` есть для любого браузера. И он обеспечивает взаимодействие непосредственно с самим браузером. Мы управляем этим универсальным иснтрументом с помощью библиотек для языка программирования. Для python, для Ruby, Java client library, .Net client librery, PHP client library и т.д.\n",
    "\n",
    "# Практика\n"
   ]
  },
  {
   "cell_type": "markdown",
   "id": "f40ca8c6",
   "metadata": {},
   "source": [
    "1. ШАГ: Начинается всё с установки. "
   ]
  },
  {
   "cell_type": "code",
   "execution_count": 1,
   "id": "c3a801cc",
   "metadata": {},
   "outputs": [
    {
     "name": "stdout",
     "output_type": "stream",
     "text": [
      "Collecting selenium\n",
      "  Downloading selenium-4.8.0-py3-none-any.whl (6.3 MB)\n",
      "     ---------------------------------------- 6.3/6.3 MB 1.4 MB/s eta 0:00:00\n",
      "Collecting certifi>=2021.10.8\n",
      "  Using cached certifi-2022.12.7-py3-none-any.whl (155 kB)\n",
      "Collecting trio~=0.17\n",
      "  Downloading trio-0.22.0-py3-none-any.whl (384 kB)\n",
      "     -------------------------------------- 384.9/384.9 kB 2.0 MB/s eta 0:00:00\n",
      "Requirement already satisfied: urllib3[socks]~=1.26 in c:\\users\\777\\appdata\\local\\programs\\python\\python38\\lib\\site-packages (from selenium) (1.26.5)\n",
      "Collecting trio-websocket~=0.9\n",
      "  Downloading trio_websocket-0.9.2-py3-none-any.whl (16 kB)\n",
      "Requirement already satisfied: cffi>=1.14 in c:\\users\\777\\appdata\\local\\programs\\python\\python38\\lib\\site-packages (from trio~=0.17->selenium) (1.15.0)\n",
      "Collecting sniffio\n",
      "  Downloading sniffio-1.3.0-py3-none-any.whl (10 kB)\n",
      "Requirement already satisfied: idna in c:\\users\\777\\appdata\\local\\programs\\python\\python38\\lib\\site-packages (from trio~=0.17->selenium) (2.10)\n",
      "Requirement already satisfied: attrs>=19.2.0 in c:\\users\\777\\appdata\\local\\programs\\python\\python38\\lib\\site-packages (from trio~=0.17->selenium) (21.4.0)\n",
      "Collecting exceptiongroup>=1.0.0rc9\n",
      "  Downloading exceptiongroup-1.1.0-py3-none-any.whl (14 kB)\n",
      "Collecting outcome\n",
      "  Downloading outcome-1.2.0-py2.py3-none-any.whl (9.7 kB)\n",
      "Collecting sortedcontainers\n",
      "  Downloading sortedcontainers-2.4.0-py2.py3-none-any.whl (29 kB)\n",
      "Collecting async-generator>=1.9\n",
      "  Downloading async_generator-1.10-py3-none-any.whl (18 kB)\n",
      "Collecting wsproto>=0.14\n",
      "  Downloading wsproto-1.2.0-py3-none-any.whl (24 kB)\n",
      "Collecting PySocks!=1.5.7,<2.0,>=1.5.6\n",
      "  Downloading PySocks-1.7.1-py3-none-any.whl (16 kB)\n",
      "Requirement already satisfied: pycparser in c:\\users\\777\\appdata\\local\\programs\\python\\python38\\lib\\site-packages (from cffi>=1.14->trio~=0.17->selenium) (2.21)\n",
      "Collecting h11<1,>=0.9.0\n",
      "  Downloading h11-0.14.0-py3-none-any.whl (58 kB)\n",
      "     ---------------------------------------- 58.3/58.3 kB 1.5 MB/s eta 0:00:00\n",
      "Installing collected packages: sortedcontainers, sniffio, PySocks, outcome, h11, exceptiongroup, certifi, async-generator, wsproto, trio, trio-websocket, selenium\n",
      "  Attempting uninstall: certifi\n",
      "    Found existing installation: certifi 2021.5.30\n",
      "    Uninstalling certifi-2021.5.30:\n",
      "      Successfully uninstalled certifi-2021.5.30\n",
      "Successfully installed PySocks-1.7.1 async-generator-1.10 certifi-2022.12.7 exceptiongroup-1.1.0 h11-0.14.0 outcome-1.2.0 selenium-4.8.0 sniffio-1.3.0 sortedcontainers-2.4.0 trio-0.22.0 trio-websocket-0.9.2 wsproto-1.2.0\n"
     ]
    },
    {
     "name": "stderr",
     "output_type": "stream",
     "text": [
      "WARNING: There was an error checking the latest version of pip.\n"
     ]
    }
   ],
   "source": [
    "! pip install selenium"
   ]
  },
  {
   "cell_type": "markdown",
   "id": "530387fa",
   "metadata": {},
   "source": [
    "Модуля request нам не здесь не нужно, селениум делает запросы сам через свой браузер. \n",
    "\n",
    "2. ШАГ: определиться с браузером. \n",
    "\n",
    "У каждого своя специфика и ньюансы работы. Наиболе оптимальны - Chrome, Opera, FireFox. Браузер в системе должен быть установлен обязательно. \n",
    "\n",
    "3. ШАГ: Web Driver.\n",
    "\n",
    "Это отдельное ядро, отдельное о нашего основного брузера. В поисковой строке пишем chrome web driver и ищем в интернете. Скачиваем вебдрайвер не ниже версии, которая стоит у нас в системе. Проверить нашу версию: в браузере chrome://version \n",
    "Скачиваем chromedriver win32.zip даже если версия нашей системы 64 разрядная. \n",
    "\n",
    "Для удобства чтобы не искать путь к файлу закидываем файл со скаченным драйвером в директорию с проектом. \n",
    "\n",
    "Силениум достаточно сложная библиотека. Огромное количество модулей, огромное количество веток. Не смотря на то что решается один пул задач, структура сложная в силу того,что необходима поддержка разных браузеров с учётом их движков, их ядер. Сами модули поделены на большое количество групп, каждая группа направлена на определённую функциональность, либо на решение какой то определённой одной задачи. Поэтому целиком всю библиотеку нет смысла импортировать, а только части которые нужны здесь и сейчас. По 10-15 импортов из одного селениума - нормальная ситуация. \n",
    "\n",
    "### импортируем вебдрайвер из библиотеки и сервисный класс\n",
    "ссервисный класс для того, чтобы создать некий мост между нашим кодом и браузером в котором будет выполняться воспроизвведение нашего кода. Выбираем наш браузер `from selenium.webdriver.chrome.service`. Service - и есть сервисный класс. "
   ]
  },
  {
   "cell_type": "code",
   "execution_count": 1,
   "id": "b74926e4",
   "metadata": {},
   "outputs": [],
   "source": [
    "from selenium import webdriver\n",
    "from selenium.webdriver.chrome.service import Service\n",
    "from selenium.webdriver.common.by import By"
   ]
  },
  {
   "cell_type": "markdown",
   "id": "c8879331",
   "metadata": {},
   "source": [
    "Теперь нам надо всё это подружить между собой , создать сервисный объект. В конструкцию которого передадим путь до хром веб драйвера в виде обычной строки и это можно сделать с помощью неименованного параметра. `Service('./chromedriver')`"
   ]
  },
  {
   "cell_type": "code",
   "execution_count": 4,
   "id": "c366ef9e",
   "metadata": {},
   "outputs": [],
   "source": [
    "s = Service('./chromedriver')"
   ]
  },
  {
   "cell_type": "markdown",
   "id": "6a66df66",
   "metadata": {},
   "source": [
    "Для того чтобы создать сам клиент - подключение к нашему браузеру. У каждого браузера свой класс. У каждого класса свой набор методов. В .Chrome передаём сервисный объект с помощью именного параметра `(service = s)`. "
   ]
  },
  {
   "cell_type": "code",
   "execution_count": 5,
   "id": "4aaab035",
   "metadata": {},
   "outputs": [],
   "source": [
    "driver = webdriver.Chrome(service=s)"
   ]
  },
  {
   "cell_type": "markdown",
   "id": "4236c178",
   "metadata": {},
   "source": [
    "Этот драйвер будем считать личным браузером. В новом окне открылась страница браузера Chrome через который будет происходить вся работа. \n",
    "\n",
    "Cделаем запрос. Метод get(). в качестве параметра адрес по которому хотим выполнить запрос. "
   ]
  },
  {
   "cell_type": "code",
   "execution_count": 6,
   "id": "1c7d927f",
   "metadata": {},
   "outputs": [],
   "source": [
    "driver.get('https://www.yandex.ru/')"
   ]
  },
  {
   "cell_type": "markdown",
   "id": "7a555b46",
   "metadata": {},
   "source": [
    "Отправимся на сайт GeekBrains. Разлогинимся. Это будет нашей стартовой точкой. \n",
    "### https://gb.ru/"
   ]
  },
  {
   "cell_type": "code",
   "execution_count": 9,
   "id": "e4b13c81",
   "metadata": {},
   "outputs": [],
   "source": [
    " driver.get('https://gb.ru/login')"
   ]
  },
  {
   "cell_type": "markdown",
   "id": "c6e69ed6",
   "metadata": {},
   "source": [
    "###  Показать основные возможности взаимодействия со страницей средствами selenium\n"
   ]
  },
  {
   "cell_type": "markdown",
   "id": "bef6fb1c",
   "metadata": {},
   "source": [
    "После запуска открывается окно браузера google Chrome. Мы выполнили гет запрос посути, но результат пришёл не нам в какую то переменную в респонс, а он пришёл в драйвер, а драйвер это ядро браузера. Оно открылось в отдельном окне, отдельным потоком. Причём открытоё окно это процесс юпитерноутбука, пайчарарма. Пайтоновский процесс. У нас на руках в  `driver` есть всё что нам необходимо для работы с сайтом. Здесь есть \n",
    "- сконвертированный уже ДОМ. \n",
    "- html код\n",
    "\n",
    "Дальнейшая работа зависит от поставленной цели. "
   ]
  },
  {
   "cell_type": "markdown",
   "id": "977acd86",
   "metadata": {},
   "source": [
    "### Авторизация на GB\n",
    "C помощью инструментов разработчика ищем поля ввода логина и пароля . \n",
    "\n",
    "```\n",
    "<input autofocus=\"autofocus\" class=\"form-control input-lg\" placeholder=\"E-mail\" required=\"required\" data-testid=\"login-email\" type=\"email\" value=\"\" name=\"user[email]\" id=\"user_email\">\n",
    "```\n",
    "\n",
    "Находим нужный нам тег. Если видим айдишник, `id=\"user_email\"` от него можно удобно работать. \n",
    "\n",
    "Далее используем метод библиотеки селениум. Есть метод который принимает в себя параметр того как искать. `driver.find_element()` , внутри в качестве критерия поиска мы должны передать сущность отдельную - экземпляр класса `By`. Но сперва надо подключить эту сущность. `from selenium.webdriver.common.by import By`.  И уже к этому объекту применяем методы. Нам надо найти ID `id=\"user_email\"`. Для этого формируем `driver.find_element(By.ID, 'user_email')`.  Он найдётся и вернётся в качестве результата. "
   ]
  },
  {
   "cell_type": "code",
   "execution_count": 10,
   "id": "f6073ff3",
   "metadata": {},
   "outputs": [],
   "source": [
    "from selenium.webdriver.common.by import By"
   ]
  },
  {
   "cell_type": "code",
   "execution_count": 12,
   "id": "d3e68aa2",
   "metadata": {},
   "outputs": [
    {
     "data": {
      "text/plain": [
       "<selenium.webdriver.remote.webelement.WebElement (session=\"5f8f54d8bdd21d465e45b8fbfb5cc200\", element=\"0a5c48fb-6f71-4e97-a25c-49a4044f7deb\")>"
      ]
     },
     "execution_count": 12,
     "metadata": {},
     "output_type": "execute_result"
    }
   ],
   "source": [
    "driver.find_element(By.ID, 'user_email')"
   ]
  },
  {
   "cell_type": "code",
   "execution_count": 14,
   "id": "06a8035a",
   "metadata": {},
   "outputs": [],
   "source": [
    "input = driver.find_element(By.ID, 'user_email')"
   ]
  },
  {
   "cell_type": "markdown",
   "id": "8bc5ffe8",
   "metadata": {},
   "source": [
    "Элемент будет найден и сохранён в переменную `input`. Далее внутрь данного элемента мы должны отправить последовательность символов. Делается это с помощью метода `send_keys(\"последовательность символов\")` Будет эмитироваться набор данных с клавиатуры. "
   ]
  },
  {
   "cell_type": "code",
   "execution_count": 15,
   "id": "9bbc00c2",
   "metadata": {},
   "outputs": [],
   "source": [
    "input.send_keys(\"study.ai_172@mail.ru\")"
   ]
  },
  {
   "cell_type": "markdown",
   "id": "160d32a8",
   "metadata": {},
   "source": [
    "Далее находим поле для ввода пароля. Инструмент разработчика смотрим инспекцию элемента. \n",
    "\n",
    "```\n",
    "<input autocomplete=\"off\" class=\"form-control input-lg\" placeholder=\"Пароль\" required=\"required\" data-testid=\"login-password\" type=\"password\" name=\"user[password]\" id=\"user_password\">\n",
    "```\n",
    "\n",
    "Воспользуемся той же самой переменной, т.к после того как её использовали для ввода логина, переменная дальше не используется и будет висеть мёртвым грузом. Поэтому её и используем. `input = driver.find_element(By.ID, 'user_password')`. переменная поработает и с другим объектом. "
   ]
  },
  {
   "cell_type": "code",
   "execution_count": 16,
   "id": "42e9c793",
   "metadata": {},
   "outputs": [],
   "source": [
    "input = driver.find_element(By.ID, 'user_password')"
   ]
  },
  {
   "cell_type": "code",
   "execution_count": 17,
   "id": "e20c1391",
   "metadata": {},
   "outputs": [],
   "source": [
    "input.send_keys(\"Password172\")"
   ]
  },
  {
   "cell_type": "markdown",
   "id": "198427cc",
   "metadata": {},
   "source": [
    "Конечно логин и пароль в открытом виде передовать опасно, этот пример больше для наглядности. "
   ]
  },
  {
   "cell_type": "markdown",
   "id": "f81eb5ec",
   "metadata": {},
   "source": [
    "Дальше люди делятся на 2 категории чтобы войти: \n",
    "- кликают мышкй по кнопке войти. \n",
    "- жмут ENTER на клавиатуре для того чтобы авторизоваться. \n",
    "\n",
    "мы симетируем нажатие клавиши ентер. Воспользуемся методом `send_keys()` но внутрь передадим объект. Который также предварительно нужно импортировать. импортируем класс Keys. Этот класс поддерживает вызов методов напрямую без создания объектов. Keys. и куча методов по одному на каждую клавишу клавиатуры. "
   ]
  },
  {
   "cell_type": "code",
   "execution_count": 18,
   "id": "a19e3c7f",
   "metadata": {},
   "outputs": [],
   "source": [
    "from selenium.webdriver.common.keys import Keys"
   ]
  },
  {
   "cell_type": "code",
   "execution_count": 19,
   "id": "0e6df44a",
   "metadata": {},
   "outputs": [],
   "source": [
    "input.send_keys(Keys.ENTER)"
   ]
  },
  {
   "cell_type": "markdown",
   "id": "f920e3c6",
   "metadata": {},
   "source": [
    "Мы заходим на страницу, думаем что мы хотим, описываем последовательность действий что для этого надо, затем под последовательность действий формируем алгоритм и код под каждое действие. "
   ]
  },
  {
   "cell_type": "markdown",
   "id": "af5677b1",
   "metadata": {},
   "source": [
    "Мы оказались внутри и дальше будут происходить действия уже в залогиненом профиле. Но есть и сайты защищённые от селениума. Селениум выполняет гет запросы в рамках браузера. На страницу загружаются динамические элементы. Раз динамические элементы доступны, значит можем собрать больше данных. "
   ]
  },
  {
   "cell_type": "markdown",
   "id": "3987c68d",
   "metadata": {},
   "source": [
    "### процесс закрытия драйвера селениума"
   ]
  },
  {
   "cell_type": "code",
   "execution_count": 20,
   "id": "8ab310fc",
   "metadata": {},
   "outputs": [],
   "source": [
    "driver.close()"
   ]
  },
  {
   "cell_type": "markdown",
   "id": "edb2061d",
   "metadata": {},
   "source": [
    "### Принципы отладки иработы с Селениумом\n",
    "перейдём по кнопке профиль из выпадающего на нашей страницесписка, при наведении мыши на профиль. Инспектируем этот элемент.\n",
    "```\n",
    "<span class=\"mn-dropdown-item__text\">Профиль</span>\n",
    "```\n",
    "\n",
    "На многих сайтах есть адаптивная вёрстка. Т.е отображается сайт в зависимости от размера окна в котором открыта страница. При уменьшении страницы вёрстка адаптируется. И при этой адаптации могут меняться классы. Если селениум открывает окно на полстраницы, то и инспектировать надо , когда окно открыто на полстраницы. Иначе могут поменяться классы нужного нам элемента в зависимости от вёрстки. Следим за тем в каком состоянии сайт открывается. Фиксируемся, инспектируем элементы. \n",
    "\n",
    "В пайчарме работаем в режиме отладки. дебаг режим. пустую функцию print() создаём и ставим на ней красный кружок. Запускаем в режиме отладки. Смотрим на переменные и на то что у нас подгружено и находим Driver - объект со множеством свойств. Это динамический объект и он хронит в себе страницу. которая на данный момент отображается в открывшемся драйвером браузере. Если мы покликали куда то, то в режиме отладчика можем наблюдать за состоянием этого динамического объекта. Внутри драйвера меняется дом и хтмл код. \n",
    "\n",
    "Всё что происходит в браузере всё тоже самое происходит в драйвере. \n",
    "\n",
    "Возвращаемся к поиску профиля, анализируем код элемента, видим тэг span которых находится у нас в хтмл вёрстке. Значит он есть в доме, можем его найти посмотреть. Можем с ним провзоимодействовать.\n",
    "\n",
    "```\n",
    "<a href=\"/users/my\" class=\"mn-dropdown-item__link\"><span class=\"mn-dropdown-item__text\">\n",
    "                    Профиль\n",
    "                  </span> <!----></a>\n",
    "```\n",
    " у тега спан родитель тег а и у него есть атрибут ссылка `a href=\"/users/my\"` на наш профиль. \n",
    " \n",
    "мы находимся в режиме отладки, на паузе. Перемещаемся в терминал, где будем тестить свои селекторы. нам нужна кнопка профиль, создаём переменную. "
   ]
  },
  {
   "cell_type": "code",
   "execution_count": null,
   "id": "befed5d6",
   "metadata": {},
   "outputs": [],
   "source": [
    "profile = driver.find_element(By.CLASS_NAME, 'mn-dropdown-item__link')"
   ]
  },
  {
   "cell_type": "markdown",
   "id": "10aef33d",
   "metadata": {},
   "source": [
    "В отладке проще тестировать селекторы, так как если ошибка выскакивает, мы продолжаем в КОНСОЛЕ режима дебаг тестировать селекторы, приложение не падает. Дальше у полученного ответа можем взять атрибут с помощью метода"
   ]
  },
  {
   "cell_type": "code",
   "execution_count": null,
   "id": "96c26bb4",
   "metadata": {},
   "outputs": [],
   "source": [
    "profile.get_attribute('href')"
   ]
  },
  {
   "cell_type": "markdown",
   "id": "bd7efa23",
   "metadata": {},
   "source": [
    "Получили ссылко но не ту. Продолжаем писать в КОНСОЛЕ режима дебаг и искать селектор, который нам выберет нужный элемент. Используем другой метод, через икс пас найдём в доме тег `a` который содержит в себе атрибут `href` который содержит в себя часть текста `'/users/'`"
   ]
  },
  {
   "cell_type": "code",
   "execution_count": null,
   "id": "de9b60f9",
   "metadata": {},
   "outputs": [],
   "source": [
    "profile = driver.find_element(By.XPATH, \"//a[contains(@href, '/users/')]\")"
   ]
  },
  {
   "cell_type": "code",
   "execution_count": null,
   "id": "0e511438",
   "metadata": {},
   "outputs": [],
   "source": [
    "href = profile.get_atribute('href')"
   ]
  },
  {
   "cell_type": "markdown",
   "id": "f4d62abe",
   "metadata": {},
   "source": [
    "Дальше мы обращаемся к нашему драйверу и выполняем гет запрос по найденной ссылке"
   ]
  },
  {
   "cell_type": "code",
   "execution_count": null,
   "id": "6c1325b3",
   "metadata": {},
   "outputs": [],
   "source": [
    "driver.get(href)"
   ]
  },
  {
   "cell_type": "markdown",
   "id": "20a6e3bb",
   "metadata": {},
   "source": [
    "Оставляем брекпоинт на том же месте и тестируем смотрим как отрабатывает. \n",
    "\n",
    "В профиль мы перешли, а дальше нам интересна кнопка - редактировать профиль. Смотрим её код. \n",
    "```\n",
    "<a class=\"text-sm btn btn-primary relative inline-block wrap\" href=\"/profile\">Редактировать профиль</a>\n",
    "```\n",
    "дальше извлекаем ссылку на которую ведёт эта кнопка  `href=\"/profile\"` с помощью `.get_atribute('href')` и делаем гет запрос на эту ссылку, после чего попадаем на страницу, где форма редактирования данных. \n"
   ]
  },
  {
   "cell_type": "code",
   "execution_count": null,
   "id": "e2fc7927",
   "metadata": {},
   "outputs": [],
   "source": [
    "profile = driver.find_element(By.CLASS_NAME, \"text-sm\")\n",
    "href = profile.get_atribute('href')\n",
    "driver.get(href)"
   ]
  },
  {
   "cell_type": "markdown",
   "id": "bba80af6",
   "metadata": {},
   "source": [
    "В селениуме есть огромное количество способов уже решённых посредствам создания отдельных классов и реализацией их методов, которые позволяют нам взаимодействовать с разными элементами на странице максимально удобными способами. В частности посмотрим на работу с выпадающим списком. Часовой пояс реализован в приложении в виде выпадающего списка. \n",
    "\n",
    "### Как работать с выпадающим списком\n",
    "\n",
    "Для начала надо опять же исследовать элемент с помощью инструмента разработчика. \n",
    "\n",
    "```\n",
    "<select name=\"user[time_zone]\" id=\"info_user_time_zone\"><option value=\"Kaliningrad\">(GMT+02:00) Калининград</option>\n",
    "<option value=\"Kyiv\">(GMT+02:00) Киев</option>\n",
    "<option value=\"Riga\">(GMT+02:00) Рига</option>\n",
    "<option value=\"Minsk\">(GMT+03:00) Минск</option>\n",
    "<option selected=\"selected\" value=\"Moscow\">(GMT+03:00) Москва</option>\n",
    "<option value=\"Simferopol\">(GMT+03:00) Симферополь</option>\n",
    "<option value=\"Simferopol\">(GMT+03:00) Симферополь</option>\n",
    "<option value=\"Volgograd\">(GMT+03:00) Волгоград</option>\n",
    "<option value=\"Astrakhan\">(GMT+04:00) Астрахань</option>\n",
    "<option value=\"Samara\">(GMT+04:00) Самара</option>\n",
    "<option value=\"Saratov\">(GMT+04:00) Саратов</option>\n",
    "<option value=\"Ulyanovsk\">(GMT+04:00) Ульяновск</option>\n",
    "<option value=\"Ekaterinburg\">(GMT+05:00) Екатеринбург</option>\n",
    "<option value=\"Almaty\">(GMT+06:00) Алма-Ата</option>\n",
    "<option value=\"Omsk\">(GMT+06:00) Омск</option>\n",
    "<option value=\"Barnaul\">(GMT+07:00) Барнаул</option>\n",
    "<option value=\"Krasnoyarsk\">(GMT+07:00) Красноярск</option>\n",
    "<option value=\"Novokuznetsk\">(GMT+07:00) Новокузнецк</option>\n",
    "<option value=\"Novosibirsk\">(GMT+07:00) Новосибирск</option>\n",
    "<option value=\"Irkutsk\">(GMT+08:00) Иркутск</option>\n",
    "<option value=\"Chita\">(GMT+09:00) Чита</option>\n",
    "<option value=\"Khandyga\">(GMT+09:00) Хандыга</option>\n",
    "<option value=\"Yakutsk\">(GMT+09:00) Якутск</option>\n",
    "<option value=\"Ust-Nera\">(GMT+10:00) Усть-Нера</option>\n",
    "<option value=\"Vladivostok\">(GMT+10:00) Владивосток</option>\n",
    "<option value=\"Magadan\">(GMT+11:00) Магадан</option>\n",
    "<option value=\"Sakhalin\">(GMT+11:00) Сахалин</option>\n",
    "<option value=\"Srednekolymsk\">(GMT+11:00) Среднеколымск</option>\n",
    "<option value=\"Anadyr\">(GMT+12:00) Анадырь</option>\n",
    "<option value=\"Kamchatka\">(GMT+12:00) Камчатка</option><option value=\"\" disabled=\"disabled\">-------------</option>\n",
    "<option value=\"International Date Line West\">(GMT-12:00) Международная линия перемены дат</option>\n",
    "<option value=\"American Samoa\">(GMT-11:00) Американское Самоа</option>\n",
    "<option value=\"Midway Island\">(GMT-11:00) Остров Мидуэй</option>\n",
    "<option value=\"Hawaii\">(GMT-10:00) Гавайи</option>\n",
    "<option value=\"Alaska\">(GMT-09:00) Аляска</option>\n",
    "<option value=\"Pacific Time (US &amp; Canada)\">(GMT-08:00) Североамериканское тихоокеанское время</option>\n",
    "<option value=\"Tijuana\">(GMT-08:00) Тихуана</option>\n",
    "<option value=\"Arizona\">(GMT-07:00) Аризона</option>\n",
    "<option value=\"Chihuahua\">(GMT-07:00) Чиуауа</option>\n",
    "<option value=\"Mazatlan\">(GMT-07:00) Масатлан</option>\n",
    "<option value=\"Mountain Time (US &amp; Canada)\">(GMT-07:00) Североамериканское горное время</option>\n",
    "<option value=\"Central America\">(GMT-06:00) Центральная Америка</option>\n",
    "<option value=\"Central Time (US &amp; Canada)\">(GMT-06:00) Североамериканское центральное время</option>\n",
    "<option value=\"Guadalajara\">(GMT-06:00) Гвадалахара</option>\n",
    "<option value=\"Mexico City\">(GMT-06:00) Мехико</option>\n",
    "<option value=\"Monterrey\">(GMT-06:00) Монтеррей</option>\n",
    "<option value=\"Saskatchewan\">(GMT-06:00) Саскачеван</option>\n",
    "<option value=\"Bogota\">(GMT-05:00) Богота</option>\n",
    "<option value=\"Eastern Time (US &amp; Canada)\">(GMT-05:00) Североамериканское восточное время</option>\n",
    "<option value=\"Indiana (East)\">(GMT-05:00) Индиана</option>\n",
    "<option value=\"Lima\">(GMT-05:00) Лимо</option>\n",
    "<option value=\"Quito\">(GMT-05:00) Кито</option>\n",
    "<option value=\"Atlantic Time (Canada)\">(GMT-04:00) Североамериканское атлантическое время</option>\n",
    "<option value=\"Caracas\">(GMT-04:00) Каракас</option>\n",
    "<option value=\"Georgetown\">(GMT-04:00) Джорджтаун</option>\n",
    "<option value=\"La Paz\">(GMT-04:00) Ла-Пас</option>\n",
    "<option value=\"Puerto Rico\">(GMT-04:00) Puerto Rico</option>\n",
    "<option value=\"Santiago\">(GMT-03:00) Сантьяго</option>\n",
    "<option value=\"Newfoundland\">(GMT-03:30) Ньюфаундленд</option>\n",
    "<option value=\"Brasilia\">(GMT-03:00) Бразилиа</option>\n",
    "<option value=\"Buenos Aires\">(GMT-03:00) Буэнос-Айрес</option>\n",
    "<option value=\"Greenland\">(GMT-03:00) Гренландия</option>\n",
    "<option value=\"Montevideo\">(GMT-03:00) Монтевидео</option>\n",
    "<option value=\"Mid-Atlantic\">(GMT-02:00) Центральноатлантическое время</option>\n",
    "<option value=\"Azores\">(GMT-01:00) Азорские острова</option>\n",
    "<option value=\"Cape Verde Is.\">(GMT-01:00) Кабо-Верде</option>\n",
    "<option value=\"Edinburgh\">(GMT+00:00) Эдинбург</option>\n",
    "<option value=\"Lisbon\">(GMT+00:00) Лиссабон</option>\n",
    "<option value=\"London\">(GMT+00:00) Лондон</option>\n",
    "<option value=\"Monrovia\">(GMT+00:00) Монровия</option>\n",
    "<option value=\"UTC\">(GMT+00:00) Всемирное координированное время (UTC)</option>\n",
    "<option value=\"Amsterdam\">(GMT+01:00) Амстердам</option>\n",
    "<option value=\"Belgrade\">(GMT+01:00) Белград</option>\n",
    "<option value=\"Berlin\">(GMT+01:00) Берлин</option>\n",
    "<option value=\"Bern\">(GMT+01:00) Берн</option>\n",
    "<option value=\"Bratislava\">(GMT+01:00) Братислава</option>\n",
    "<option value=\"Brussels\">(GMT+01:00) Брюссель</option>\n",
    "<option value=\"Budapest\">(GMT+01:00) Будапешт</option>\n",
    "<option value=\"Casablanca\">(GMT+01:00) Касабланка</option>\n",
    "<option value=\"Copenhagen\">(GMT+01:00) Копенгаген</option>\n",
    "<option value=\"Dublin\">(GMT+00:00) Дублин</option>\n",
    "<option value=\"Ljubljana\">(GMT+01:00) Любляна</option>\n",
    "<option value=\"Madrid\">(GMT+01:00) Мадрид</option>\n",
    "<option value=\"Paris\">(GMT+01:00) Париж</option>\n",
    "<option value=\"Prague\">(GMT+01:00) Прага</option>\n",
    "<option value=\"Rome\">(GMT+01:00) Рим</option>\n",
    "<option value=\"Sarajevo\">(GMT+01:00) Сараево</option>\n",
    "<option value=\"Skopje\">(GMT+01:00) Скопье</option>\n",
    "<option value=\"Stockholm\">(GMT+01:00) Стокгольм</option>\n",
    "<option value=\"Vienna\">(GMT+01:00) Вена</option>\n",
    "<option value=\"Warsaw\">(GMT+01:00) Варшава</option>\n",
    "<option value=\"West Central Africa\">(GMT+01:00) Западноафриканское время</option>\n",
    "<option value=\"Zagreb\">(GMT+01:00) Загреб</option>\n",
    "<option value=\"Zurich\">(GMT+01:00) Цюрих</option>\n",
    "<option value=\"Athens\">(GMT+02:00) Афины</option>\n",
    "<option value=\"Bucharest\">(GMT+02:00) Бухарест</option>\n",
    "<option value=\"Cairo\">(GMT+02:00) Каир</option>\n",
    "<option value=\"Harare\">(GMT+02:00) Хараре</option>\n",
    "<option value=\"Helsinki\">(GMT+02:00) Хельсинки</option>\n",
    "<option value=\"Jerusalem\">(GMT+02:00) Иерусалим</option>\n",
    "<option value=\"Pretoria\">(GMT+02:00) Претория</option>\n",
    "<option value=\"Sofia\">(GMT+02:00) София</option>\n",
    "<option value=\"Tallinn\">(GMT+02:00) Таллин</option>\n",
    "<option value=\"Vilnius\">(GMT+02:00) Вильнюс</option>\n",
    "<option value=\"Baghdad\">(GMT+03:00) Багдад</option>\n",
    "<option value=\"Istanbul\">(GMT+03:00) Стамбул</option>\n",
    "<option value=\"Kuwait\">(GMT+03:00) Кувейт</option>\n",
    "<option value=\"Nairobi\">(GMT+03:00) Найроби</option>\n",
    "<option value=\"Riyadh\">(GMT+03:00) Эр-Рияд</option>\n",
    "<option value=\"St. Petersburg\">(GMT+03:00) Санкт-Петербург</option>\n",
    "<option value=\"Tehran\">(GMT+03:30) Тегеран</option>\n",
    "<option value=\"Abu Dhabi\">(GMT+04:00) Абу-Даби</option>\n",
    "<option value=\"Baku\">(GMT+04:00) Баку</option>\n",
    "<option value=\"Muscat\">(GMT+04:00) Маскат</option>\n",
    "<option value=\"Tbilisi\">(GMT+04:00) Тбилиси</option>\n",
    "<option value=\"Yerevan\">(GMT+04:00) Ереван</option>\n",
    "<option value=\"Kabul\">(GMT+04:30) Кабул</option>\n",
    "<option value=\"Islamabad\">(GMT+05:00) Исламабад</option>\n",
    "<option value=\"Karachi\">(GMT+05:00) Карачи</option>\n",
    "<option value=\"Tashkent\">(GMT+05:00) Ташкент</option>\n",
    "<option value=\"Chennai\">(GMT+05:30) Ченнаи</option>\n",
    "<option value=\"Kolkata\">(GMT+05:30) Калькутта</option>\n",
    "<option value=\"Mumbai\">(GMT+05:30) Бомбей</option>\n",
    "<option value=\"New Delhi\">(GMT+05:30) Нью-Дели</option>\n",
    "<option value=\"Sri Jayawardenepura\">(GMT+05:30) Шри-Джаяварденепура-Котте</option>\n",
    "<option value=\"Kathmandu\">(GMT+05:45) Катманду</option>\n",
    "<option value=\"Astana\">(GMT+06:00) Астана</option>\n",
    "<option value=\"Dhaka\">(GMT+06:00) Дакка</option>\n",
    "<option value=\"Urumqi\">(GMT+06:00) Урумчи</option>\n",
    "<option value=\"Rangoon\">(GMT+06:30) Рангун</option>\n",
    "<option value=\"Bangkok\">(GMT+07:00) Бангкок</option>\n",
    "<option value=\"Hanoi\">(GMT+07:00) Ханой</option>\n",
    "<option value=\"Jakarta\">(GMT+07:00) Джакарта</option>\n",
    "<option value=\"Beijing\">(GMT+08:00) Пекин</option>\n",
    "<option value=\"Chongqing\">(GMT+08:00) Чунцин</option>\n",
    "<option value=\"Hong Kong\">(GMT+08:00) Гонконг</option>\n",
    "<option value=\"Kuala Lumpur\">(GMT+08:00) Куала-Лумпур</option>\n",
    "<option value=\"Perth\">(GMT+08:00) Перт</option>\n",
    "<option value=\"Singapore\">(GMT+08:00) Сингапур</option>\n",
    "<option value=\"Taipei\">(GMT+08:00) Тайпей</option>\n",
    "<option value=\"Ulaanbaatar\">(GMT+08:00) Улан-Батор</option>\n",
    "<option value=\"Osaka\">(GMT+09:00) Осака</option>\n",
    "<option value=\"Sapporo\">(GMT+09:00) Саппоро</option>\n",
    "<option value=\"Seoul\">(GMT+09:00) Сейл</option>\n",
    "<option value=\"Tokyo\">(GMT+09:00) Токио</option>\n",
    "<option value=\"Adelaide\">(GMT+10:30) Аделаида</option>\n",
    "<option value=\"Darwin\">(GMT+09:30) Дарвин</option>\n",
    "<option value=\"Brisbane\">(GMT+10:00) Брисбен</option>\n",
    "<option value=\"Canberra\">(GMT+11:00) Канберра</option>\n",
    "<option value=\"Guam\">(GMT+10:00) Гуам</option>\n",
    "<option value=\"Hobart\">(GMT+11:00) Хобарт</option>\n",
    "<option value=\"Melbourne\">(GMT+11:00) Мельбурн</option>\n",
    "<option value=\"Port Moresby\">(GMT+10:00) Порт-Морсби</option>\n",
    "<option value=\"Sydney\">(GMT+11:00) Сидней</option>\n",
    "<option value=\"New Caledonia\">(GMT+11:00) Новая Каледония</option>\n",
    "<option value=\"Solomon Is.\">(GMT+11:00) Саломоновы острова</option>\n",
    "<option value=\"Auckland\">(GMT+13:00) Окленд</option>\n",
    "<option value=\"Fiji\">(GMT+12:00) Фиджи</option>\n",
    "<option value=\"Marshall Is.\">(GMT+12:00) Маршалловы острова</option>\n",
    "<option value=\"Wellington\">(GMT+13:00) Веллингтон</option>\n",
    "<option value=\"Chatham Is.\">(GMT+13:45) Остров Чатем</option>\n",
    "<option value=\"Nuku'alofa\">(GMT+13:00) Нукуалофа</option>\n",
    "<option value=\"Samoa\">(GMT+13:00) Самоа</option>\n",
    "<option value=\"Tokelau Is.\">(GMT+13:00) Токелау</option></select>\n",
    "```\n",
    "\n",
    "Тэг `select`. `<select name=\"user[time_zone]\" id=\"info_user_time_zone\">` у которого есть 2 атрибута. Внутри у него большое количество тегов `option` в каждом из которых находится один элмент из списка. \n",
    "ищем необходимый нам тег. \n",
    "\n",
    "`<option selected=\"selected\" value=\"Moscow\">(GMT+03:00) Москва</option>`\n",
    "\n",
    "для того чтобы работаь с элементами множественного выбора (выподающие списки, чексбоксы, радиобатаны) нужно импорптировать специальный класс Select который работает с этими тегами. "
   ]
  },
  {
   "cell_type": "code",
   "execution_count": 23,
   "id": "10f3619f",
   "metadata": {},
   "outputs": [],
   "source": [
    "from selenium.webdriver.support.ui import Select"
   ]
  },
  {
   "cell_type": "code",
   "execution_count": null,
   "id": "37595537",
   "metadata": {},
   "outputs": [],
   "source": [
    "timezone = driver.find_element(By.NAME, 'user[time_zone]')"
   ]
  },
  {
   "cell_type": "markdown",
   "id": "0b38aeed",
   "metadata": {},
   "source": [
    "Создаём объект класса Select а параметром передаём timezone"
   ]
  },
  {
   "cell_type": "code",
   "execution_count": null,
   "id": "1c6358d2",
   "metadata": {},
   "outputs": [],
   "source": [
    "select = Select(timezone)"
   ]
  },
  {
   "cell_type": "markdown",
   "id": "f2c68737",
   "metadata": {},
   "source": [
    "После того как создали объект мы можем к нему обратиться используя разные методы. "
   ]
  },
  {
   "cell_type": "code",
   "execution_count": null,
   "id": "dd436214",
   "metadata": {},
   "outputs": [],
   "source": [
    "select.select_by_value(\"Moscow\")"
   ]
  },
  {
   "cell_type": "code",
   "execution_count": null,
   "id": "9228edd6",
   "metadata": {},
   "outputs": [],
   "source": [
    "select.select_by_visible_text(\"Москва\")"
   ]
  },
  {
   "cell_type": "code",
   "execution_count": null,
   "id": "ebd88de8",
   "metadata": {},
   "outputs": [],
   "source": [
    "select.select_by_index()"
   ]
  },
  {
   "cell_type": "markdown",
   "id": "37c5bf97",
   "metadata": {},
   "source": [
    "Касательно тега `foarm` смотрим в инструментах разработчика и потом смотрим техническую документацию библиотеки и там написано как работать с формами. Видим тег и помним что есть готовые методы.  Нашли нужное нам поле и с помощью метода сыбмит сохраняем."
   ]
  },
  {
   "cell_type": "code",
   "execution_count": null,
   "id": "66df3b28",
   "metadata": {},
   "outputs": [],
   "source": [
    "timzone.submit()"
   ]
  },
  {
   "cell_type": "markdown",
   "id": "5f1bab01",
   "metadata": {},
   "source": [
    "### метод принимающий джаваскрипт. "
   ]
  },
  {
   "cell_type": "code",
   "execution_count": null,
   "id": "54c6c76b",
   "metadata": {},
   "outputs": [],
   "source": [
    "driver.execute_script('')"
   ]
  },
  {
   "cell_type": "code",
   "execution_count": null,
   "id": "4b7647dc",
   "metadata": {},
   "outputs": [],
   "source": [
    "driver.execute_script(\"document.querySelector('#aid_atats').value = '12.03.2022'\")"
   ]
  },
  {
   "cell_type": "markdown",
   "id": "2bf34a6d",
   "metadata": {},
   "source": [
    "aid_atats - название класса со всплывающим календарём для выбора даты. `querySelector` - выбираем с помощью css селекторов элемент. У нас происходит запрос к документу, мы выбрали по айдишнику `('#aid_atats')`, и свойству value назначили текстовое значение '12.03.2022'. "
   ]
  },
  {
   "cell_type": "code",
   "execution_count": null,
   "id": "cbc10bd5",
   "metadata": {},
   "outputs": [],
   "source": [
    "from selenium import webdriver\n",
    "from selenium.webdriver.chrome.service import Service\n",
    "from selenium.webdriver.common.by import By\n",
    "from selenium.webdriver.common.keys import Keys\n",
    "from selenium.webdriver.support.ui import Select\n",
    "\n",
    "\n",
    "s = Service('./chromedriver')\n",
    "driver = webdriver.Chrome(service=s)\n",
    "\n",
    "driver.get(\"https://www.atsenergo.ru/results/rsv/index\")\n",
    "\n",
    "date = driver.find_element(By.ID, \"aid_stats_1_date2\")\n",
    "driver.execute_script(\"document.querySelector('#aid_stats_1_date2').value = '11.01.1991'\")"
   ]
  },
  {
   "cell_type": "markdown",
   "id": "a171433f",
   "metadata": {},
   "source": [
    "### Работа с динамически загружаемыми элементами. "
   ]
  },
  {
   "cell_type": "markdown",
   "id": "a1e417ca",
   "metadata": {},
   "source": [
    "На примере сайта пятёрка.ру"
   ]
  },
  {
   "cell_type": "code",
   "execution_count": null,
   "id": "01d581a6",
   "metadata": {},
   "outputs": [],
   "source": [
    "from pprint import pprint\n",
    "from selenium import webdriver\n",
    "from selenium.webdriver.chrome.service import Service\n",
    "from selenium.webdriver.common.by import By\n",
    "from selenium.webdriver.chrome.options import Options\n",
    "from selenium.webdriver.support.ui import WebDriverWait\n",
    "from selenium.webdriver.support import expected_conditions as EC\n",
    "\n",
    "import time\n",
    "\n",
    "s = Service('./chromedriver')\n",
    "options = Options()\n",
    "options.add_argument('start-maximized')\n",
    "\n",
    "driver = webdriver.Chrome(service=s, options=options)\n",
    "driver.implicitly_wait(10)\n",
    "driver.get(\"https://5ka.ru/special_offers\")\n",
    "\n",
    "print()\n",
    "\n",
    "button = driver.find_element(By.XPATH, \"//span[contains(text(),'РџСЂРёРЅСЏС‚СЊ')]\")\n",
    "button.click()\n",
    "button = driver.find_element(By.XPATH, \"//span[contains(text(),'РџРѕРЅСЏС‚РЅРѕ')]\")\n",
    "button.click()\n",
    "\n",
    "page = 0\n",
    "while page < 3:\n",
    "    try:\n",
    "        wait = WebDriverWait(driver, 10)\n",
    "        button = wait.until(EC.presence_of_element_located((By.CLASS_NAME, \"add-more-btn\")))\n",
    "        # button = driver.find_element(By.CLASS_NAME, \"add-more-btn\")\n",
    "        button.click()\n",
    "        page += 1\n",
    "    except:\n",
    "        break\n",
    "\n",
    "time.sleep(1)\n",
    "goods = driver.find_elements(By.XPATH, \"//div[@class='product-card item']\")\n",
    "for good in goods:\n",
    "    name = good.find_element(By.CLASS_NAME, \"item-name\").text\n",
    "    pprint(name)"
   ]
  },
  {
   "cell_type": "markdown",
   "id": "d771a15a",
   "metadata": {},
   "source": [
    "На сайте ретейлера пятёрочка https://5ka.ru/special_offers мы видим страничку со специальными предложениями. Мы видим часть представленных товаров и кнопку `загрузить ещё`. Изучив html код данной страницы то каждый отдельный `div` соответствует каждому товару. \n",
    "\n",
    "```\n",
    "<div class=\"product-card item\" data-v-2d064667=\"\" data-v-8dd3b5d2=\"\"><div class=\"image-cont\" data-v-2d064667=\"\"><img src=\"https://media.5ka.ru/media/products/3331435.jpg\" alt=\"NIVEA Антиперспирант Черное и белое. Невидим. 50мл, арт.82240\" data-v-2d064667=\"\"> <div class=\"discount-hint hint\" data-v-2d064667=\"\">\n",
    "      -34 %\n",
    "    </div> <!----> <!----> <!----></div> <div class=\"prices\" data-v-2d064667=\"\"><div class=\"price-discount\" data-v-2d064667=\"\"><span data-v-2d064667=\"\"><span class=\"from\" data-v-2d064667=\"\">от</span>\n",
    "        159\n",
    "      </span> <div class=\"price-right\" data-v-2d064667=\"\"><span class=\"price-discount_cents\" data-v-2d064667=\"\">\n",
    "          99\n",
    "        </span> <span class=\"price-regular\" data-v-2d064667=\"\">\n",
    "          239\n",
    "          <sup data-v-2d064667=\"\">.99</sup></span></div></div></div> <div class=\"item-name\" data-v-2d064667=\"\">\n",
    "    NIVEA Антиперспирант Черн...\n",
    "  </div> <div class=\"item-date\" data-v-2d064667=\"\"><svg width=\"24\" height=\"24\" viewBox=\"0 0 24 24\" fill=\"none\" xmlns=\"http://www.w3.org/2000/svg\" data-v-2d064667=\"\"><path fill-rule=\"evenodd\" clip-rule=\"evenodd\" d=\"M8.85 1C8.38056 1 8 1.38056 8 1.85C8 2.31944 8.38056 2.7 8.85 2.7H15.15C15.6194 2.7 16 2.31944 16 1.85C16 1.38056 15.6194 1 15.15 1H8.85ZM12 21C16.4663 21 20 17.4828 20 13.25C20 9.01722 16.4663 5.5 12 5.5C7.53369 5.5 4 9.01722 4 13.25C4 17.4828 7.53369 21 12 21ZM12 23C17.5228 23 22 18.6348 22 13.25C22 7.86522 17.5228 3.5 12 3.5C6.47715 3.5 2 7.86522 2 13.25C2 18.6348 6.47715 23 12 23ZM11.0044 13.7369C11.0479 14.1655 11.4099 14.5 11.85 14.5H16.15C16.6194 14.5 17 14.1194 17 13.65C17 13.1806 16.6194 12.8 16.15 12.8H12.7V9.35C12.7 8.88056 12.3194 8.5 11.85 8.5C11.3806 8.5 11 8.88056 11 9.35V13.65C11 13.6793 11.0015 13.7083 11.0044 13.7369Z\" fill=\"#b2b2b2\"></path></svg>\n",
    "    до 8 марта\n",
    "  </div> <!----></div>\n",
    "```\n",
    "\n",
    "родительский класс со вложенными карточка товара.\n",
    "`<div class=\"product-card item\" data-v-2d064667=\"\" data-v-8dd3b5d2=\"\">`\n",
    "\n",
    "находим тег с кнопкой `загрузить ещё`. \n",
    "\n",
    "```\n",
    "<button type=\"button\" class=\"add-more-btn\" data-v-8dd3b5d2=\"\">\n",
    "        Загрузить<br data-v-8dd3b5d2=\"\">ещё\n",
    "      </button>\n",
    "```\n",
    "\n"
   ]
  },
  {
   "cell_type": "markdown",
   "id": "44cb866d",
   "metadata": {},
   "source": [
    "После нажатия на кнопку, у нас подгружаются ещё элементы и становится список более полный с товарами. С каждым нажатием на эту кнопку у нас подгружаются `div` с новыми товарами.\n",
    "\n",
    "Изначально этих товаров нет и делая обычныйгет запрос мы получаем только 15 элментов. А наша задача собрать все элементы, все товары. Максимальное количество. Наша задача будет прокликать эту кнопку `загрузить ещё` пока мы не упрёмся в потолок. "
   ]
  },
  {
   "cell_type": "code",
   "execution_count": 28,
   "id": "5bc6815d",
   "metadata": {},
   "outputs": [],
   "source": [
    "from selenium import webdriver\n",
    "from selenium.webdriver.chrome.service import Service\n",
    "from selenium.webdriver.common.by import By\n",
    "\n",
    "s = Service('./chromedriver')\n",
    "driver = webdriver.Chrome(service=s)\n",
    "\n",
    "driver.get(\"https://5ka.ru/special_offers\")"
   ]
  },
  {
   "cell_type": "markdown",
   "id": "931ca8c1",
   "metadata": {},
   "source": [
    "Пока что пропишим минимум с которого стоит начинать. \n",
    "Определяем нашу точку входа \"https://5ka.ru/special_offers\" Проверяем попадаем ли мы на сайт. На сайт мы попали, но с небольшими ньюансами. \n",
    "\n",
    "Дальше наша задача оптимизировать работу и для начала сделаем окно открывающегося браузера для автоматической работы на полный экран. Для этого нам потребуется отдельный блок, отдельный класс `Options`. "
   ]
  },
  {
   "cell_type": "code",
   "execution_count": null,
   "id": "81424294",
   "metadata": {},
   "outputs": [],
   "source": [
    "from selenium.webdriver.chrome.options import Options"
   ]
  },
  {
   "cell_type": "markdown",
   "id": "a3adb7ba",
   "metadata": {},
   "source": [
    "когда мы создаём объект класса Chrome `webdriver.Chrome(service=s)` мы должны указать опции для запуска нашего браузера. Поэтому формируем эти опции до того как у нас определяется переменная `driver = webdriver.Chrome(service=s) ` до момента когда мы создаём наш клиент. \n",
    "\n",
    "Создаём экземпляр класса Options. Причём при создании данного объекта мы ничего не передаём, никаких дополнительных параметров. Мы просто создаём пустой объект."
   ]
  },
  {
   "cell_type": "code",
   "execution_count": null,
   "id": "18f3a892",
   "metadata": {},
   "outputs": [],
   "source": [
    "options = Options()"
   ]
  },
  {
   "cell_type": "markdown",
   "id": "93b6fe9c",
   "metadata": {},
   "source": [
    "А дальше наши options мы начинаем наделять дополнительными параметрами запуска. Можно посмотреть документацию, какие параметры можем задавать. Chrome.options.selenium. В частности можно задать любой размер стартового экрана. Можно подключать расширения внутрь нашего браузера. Передаём аргумент 'start-maximized' - полноэкранный режим. "
   ]
  },
  {
   "cell_type": "code",
   "execution_count": null,
   "id": "cf60701e",
   "metadata": {},
   "outputs": [],
   "source": [
    "options.add_argument('start-maximized')"
   ]
  },
  {
   "cell_type": "markdown",
   "id": "b7557fdb",
   "metadata": {},
   "source": [
    "Дальше добавляем новый аргумент в наш клиент"
   ]
  },
  {
   "cell_type": "code",
   "execution_count": null,
   "id": "bc20ffaa",
   "metadata": {},
   "outputs": [],
   "source": [
    "driver = webdriver.Chrome(service=s, options=options)\n"
   ]
  },
  {
   "cell_type": "markdown",
   "id": "e1fb23d1",
   "metadata": {},
   "source": [
    "Проверяем как отрабатывает видоизменёный код."
   ]
  },
  {
   "cell_type": "code",
   "execution_count": 37,
   "id": "d519c516",
   "metadata": {},
   "outputs": [],
   "source": [
    "from selenium import webdriver\n",
    "from selenium.webdriver.chrome.service import Service\n",
    "from selenium.webdriver.common.by import By\n",
    "from selenium.webdriver.chrome.options import Options\n",
    "\n",
    "s = Service('./chromedriver')\n",
    "\n",
    "options = Options()\n",
    "options.add_argument('start-maximized')\n",
    "\n",
    "driver = webdriver.Chrome(service=s, options=options)\n",
    "\n",
    "driver.get(\"https://5ka.ru/special_offers\")"
   ]
  },
  {
   "cell_type": "markdown",
   "id": "e4f255ee",
   "metadata": {},
   "source": [
    "Теперь наша задача найти кнопку `загрузить ещё` и на неё кликнуть. Мы смотрели код этой кнопки:\n",
    "```\n",
    "<button type=\"button\" class=\"add-more-btn\" data-v-8dd3b5d2=\"\">\n",
    "        Загрузить<br data-v-8dd3b5d2=\"\">ещё\n",
    "      </button>\n",
    "```\n",
    "Мы можем зацепиться за уникальный класс `class=\"add-more-btn\"`. \n",
    "Обозначим переменную под кнопку. "
   ]
  },
  {
   "cell_type": "code",
   "execution_count": null,
   "id": "87f88f4c",
   "metadata": {},
   "outputs": [],
   "source": [
    "button = driver.find_element(By.CLASS_NAME, \"add-more-btn\")"
   ]
  },
  {
   "cell_type": "markdown",
   "id": "2419fea6",
   "metadata": {},
   "source": [
    "И потом эметируем клик по этой кнопке"
   ]
  },
  {
   "cell_type": "code",
   "execution_count": null,
   "id": "3f6979e8",
   "metadata": {},
   "outputs": [],
   "source": [
    "button.click()"
   ]
  },
  {
   "cell_type": "markdown",
   "id": "b4545724",
   "metadata": {},
   "source": [
    "и всё это мы пока что сделаем в бесконечном цикле. Мы не знаем что будет когда закончатся клики, как они закончатся."
   ]
  },
  {
   "cell_type": "code",
   "execution_count": null,
   "id": "5d99f5ad",
   "metadata": {},
   "outputs": [],
   "source": [
    "while True:\n",
    "    button = driver.find_element(By.CLASS_NAME, \"add-more-btn\")\n",
    "    button.click()"
   ]
  },
  {
   "cell_type": "markdown",
   "id": "4b303129",
   "metadata": {},
   "source": [
    "Мы наткнулись на ошибку. Возможный её вариант - код работает быстрее чем прогружется страница. Это особенно касается динамиеских элементов, которые формируются в процессе наших действий. мы кликнули на кнопку, код пошёл работать, а элементы ещё не успели прогрузиться. Среднее время ответа от сервера 300-400 милисекунд в идеальных условиях. Время тратится чтобы данные загрузились у нас в браузере.  Код срабатывает быстрее и мы ищем нашу кнопку, пока её ещё нет физически в хтмл вёрстке. И ошибка у нас - невозможно найти элемент по данному селектору. Поиск происходит по хтмл коду который у нас есть здесь и сейчас, а код не успел подгрузиться. \n",
    "\n",
    "Добавим одно очень удобное свойство для нашего драйвера, который решает проблему ранних опросов элементов на странице. `implicitly_wait(10)` это свойство. Свойство объекта. Это не тайм слип. Силениум при опросе будет ждать ответа 10 секунд. Это правило распространяется до конца нашего кода. "
   ]
  },
  {
   "cell_type": "code",
   "execution_count": 36,
   "id": "1fd13bcf",
   "metadata": {},
   "outputs": [],
   "source": [
    "driver.implicitly_wait(10)"
   ]
  },
  {
   "cell_type": "markdown",
   "id": "08f5cf7a",
   "metadata": {},
   "source": [
    "Теперь выпала ошибка всплывающего окна. Когда сайт открываются всплывают 2 окна, которые нам мешают перейти к хтмл вёрстке страницы. \n",
    "\n",
    "инспектируем мешающие нам кнопки.\n",
    "\n",
    "`<span data-v-6179c049=\"\" class=\"\">\n",
    "        Да, верно\n",
    "      </span>`\n",
    "      \n",
    "и ещё одна кнопка ещё одного всплывающего окна:\n",
    "\n",
    "`<span data-v-6179c049=\"\" class=\"\">\n",
    "            Принять\n",
    "          </span>`"
   ]
  },
  {
   "cell_type": "markdown",
   "id": "0a4b372f",
   "metadata": {},
   "source": [
    "когда мы начинаем искать элемент `data-v-6179c049` их в документе оказывается 35\n",
    "\n",
    "Теперь наша задача самостоятельно выбрать эту кнопку, кликнуть на него прямой командой, \n",
    "\n",
    "в селениум при коменде `click()` кликается не по кнопке, не по тегу, а кликается по той области в которой находится объект этого тега. (координаты экраны, ось икс и ось игрик) Селениум проверяет какой элемент получил клик. И если не тот который был заявлен, выпадает ошибка. \n",
    "\n",
    "Исправим это, принудительно ликнув на всплывающие окна. Зададим переменную стартовой кнопки. Будем искать элемент кнопки, выбирать с помощтю xpath селектора. Используем функцию contains() и искать будем по тексту в теге span. "
   ]
  },
  {
   "cell_type": "code",
   "execution_count": null,
   "id": "338c24b6",
   "metadata": {},
   "outputs": [],
   "source": [
    "start_button = driver.find_element(By.XPATH, \"//span[contains(text(), 'Да, верно')]\")\n",
    "start_button.click()"
   ]
  },
  {
   "cell_type": "markdown",
   "id": "f47713e1",
   "metadata": {},
   "source": [
    "Аналогично поступим со всплывающим окном, предупреждающем о cooke. Инспектируем элемент и находим кнопку \n",
    "\n",
    "```\n",
    "<span data-v-6179c049=\"\" class=\"\">\n",
    "            Принять\n",
    "          </span>\n",
    "```\n",
    "Также принудительно кликнем по этой кнопке, воспользовавшись аналогичным решением, как поступили с предыдущей кнопкой. Определяем переменную для этой кнопки - cooke. Дальше методом find_element() ищем нужную кнопку, находящуюся в теге span. \n"
   ]
  },
  {
   "cell_type": "code",
   "execution_count": null,
   "id": "93697239",
   "metadata": {},
   "outputs": [],
   "source": [
    "cooke = driver.find_element(By.XPATH, \"//span[contains(text(), 'Принять')]\")\n",
    "cooke.click()"
   ]
  },
  {
   "cell_type": "markdown",
   "id": "7d5420f3",
   "metadata": {},
   "source": [
    "Итак мы кликаем 2 всплывающих окна и имеем доступ к контенту страницы, где теперь можно добраться до нужной нам кнопки `Загрузить ещё`\n",
    "\n",
    "```\n",
    "<button type=\"button\" class=\"add-more-btn\" data-v-8dd3b5d2=\"\">\n",
    "        Загрузить<br data-v-8dd3b5d2=\"\">ещё\n",
    "      </button>\n",
    "```\n"
   ]
  },
  {
   "cell_type": "code",
   "execution_count": null,
   "id": "d5ab08ff",
   "metadata": {},
   "outputs": [],
   "source": [
    "from selenium import webdriver\n",
    "from selenium.webdriver.chrome.service import Service\n",
    "from selenium.webdriver.common.by import By\n",
    "from selenium.webdriver.chrome.options import Options\n",
    "\n",
    "s = Service('./chromedriver')\n",
    "\n",
    "options = Options()\n",
    "options.add_argument('start-maximized')\n",
    "\n",
    "driver = webdriver.Chrome(service=s, options=options)\n",
    "driver.implicitly_wait(10)\n",
    "\n",
    "driver.get(\"https://5ka.ru/special_offers\")\n",
    "\n",
    "start_button = driver.find_element(By.XPATH, \"//span[contains(text(), 'Да, верно')]\")\n",
    "start_button.click()\n",
    "\n",
    "cooke = driver.find_element(By.XPATH, \"//span[contains(text(), 'Принять')]\")\n",
    "cooke.click()"
   ]
  },
  {
   "cell_type": "markdown",
   "id": "c07154b7",
   "metadata": {},
   "source": [
    "Дальше подключаем бесконечный цикл и начинаем кликать по искомой изначально кнопке `Загрузить ещё` добавляя товары на страницу. Подгружаются всё новые и новые элементы. И так будет происходить пока не закончится эта кнопка, пока не дойдём до последних подгружаемых товаров, а дальше выпадает ошибка, так как селениум не может найти этой кнопки на странице. "
   ]
  },
  {
   "cell_type": "code",
   "execution_count": null,
   "id": "66b66d56",
   "metadata": {},
   "outputs": [],
   "source": [
    "from selenium import webdriver\n",
    "from selenium.webdriver.chrome.service import Service\n",
    "from selenium.webdriver.common.by import By\n",
    "from selenium.webdriver.chrome.options import Options\n",
    "\n",
    "s = Service('./chromedriver')\n",
    "\n",
    "options = Options()\n",
    "options.add_argument('start-maximized')\n",
    "\n",
    "driver = webdriver.Chrome(service=s, options=options)\n",
    "driver.implicitly_wait(10)\n",
    "\n",
    "driver.get(\"https://5ka.ru/special_offers\")\n",
    "\n",
    "start_button = driver.find_element(By.XPATH, \"//span[contains(text(), 'Да, верно')]\")\n",
    "start_button.click()\n",
    "\n",
    "cooke = driver.find_element(By.XPATH, \"//span[contains(text(), 'Принять')]\")\n",
    "cooke.click()\n",
    "\n",
    "\n",
    "while True:\n",
    "    button = driver.find_element(By.CLASS_NAME, \"add-more-btn\")\n",
    "    button.click()"
   ]
  },
  {
   "cell_type": "markdown",
   "id": "c5bc1fa7",
   "metadata": {},
   "source": [
    "Теперь нам доступны все элементы, осталось проинспектировать страничку. Видим список `div` тегов с товарами. Дальше в драйвере driver у нас хтмл код находится на руках и можем его обрабатывать. \n",
    "\n",
    "для того чтобы найти все товары можно использовать метод `driver.find_elements()` - метод множественного поиска элементов в отличии от `driver.find_element()`, который ищет до первого вхождения, удовлетворяющего условию поиска. \n"
   ]
  },
  {
   "cell_type": "code",
   "execution_count": null,
   "id": "bab792dc",
   "metadata": {},
   "outputs": [],
   "source": [
    "goods = driver.find_elements(By.CLASS_NAME, 'product-card-item')"
   ]
  },
  {
   "cell_type": "markdown",
   "id": "28b76a35",
   "metadata": {},
   "source": [
    "Чтобы собрать полные данные надо заходить в карточку продукта.\n",
    "\n",
    "Изменим код чтобы не выпадала ошибка, после того как мы не находим кнопки `Загрузить ещё`. При необноружении этой кнопки мы выходим из бесконечного цикла с помощью `break`. "
   ]
  },
  {
   "cell_type": "code",
   "execution_count": null,
   "id": "f0e495fb",
   "metadata": {},
   "outputs": [],
   "source": [
    "while True:\n",
    "    \n",
    "    try:\n",
    "        button = driver.find_element(By.CLASS_NAME, \"add-more-btn\")\n",
    "        button.click()\n",
    "    except:\n",
    "        break"
   ]
  },
  {
   "cell_type": "markdown",
   "id": "67bf6cd6",
   "metadata": {},
   "source": [
    "И дальше мы уже итеррируемся по списку товаров. как и в бьютифул супе мы получаем маленький кусочка ДОМа и из него уже извлекаем нужную нам информацию. "
   ]
  },
  {
   "cell_type": "code",
   "execution_count": null,
   "id": "c3eab8ec",
   "metadata": {},
   "outputs": [],
   "source": [
    "goods = driver.find_elements(By.XPATH, \"//div[@class='product-card item']\")\n",
    "for good in goods:\n",
    "    name = good.find_element(By.CLASS_NAME, \"item-name\").text\n",
    "    pprint(name)"
   ]
  },
  {
   "cell_type": "markdown",
   "id": "3db79fd3",
   "metadata": {},
   "source": [
    "Чтобы не раскрывать все странички можем ограничиться несколькими страничками. "
   ]
  },
  {
   "cell_type": "code",
   "execution_count": null,
   "id": "788e7bd9",
   "metadata": {},
   "outputs": [],
   "source": [
    "page = 0\n",
    "\n",
    "while page < 3:\n",
    "    \n",
    "    try:\n",
    "        button = driver.find_element(By.CLASS_NAME, \"add-more-btn\")\n",
    "        button.click()\n",
    "        page += 1\n",
    "    except:\n",
    "        break"
   ]
  },
  {
   "cell_type": "markdown",
   "id": "81c8bed3",
   "metadata": {},
   "source": [
    "Ещё один ньюанс. Нам нужна небольшая задержка, так как после того как нажимается кнопка `Показать ещё`, хтмл код обновляется, подгружая новые дивы с товарами, и надо подождать пока они подгрузятся. Поэтому делаем небольшую задержку. time.sleep(), где в качестве параметра указываем секунды ожидания. "
   ]
  },
  {
   "cell_type": "code",
   "execution_count": null,
   "id": "b500f765",
   "metadata": {},
   "outputs": [],
   "source": [
    "import time \n",
    "\n",
    "time.sleep(1)"
   ]
  },
  {
   "cell_type": "markdown",
   "id": "a1bcfff8",
   "metadata": {},
   "source": [
    "`goods = driver.find_elements(By.CLASS_NAME, 'product-card-item')\")` \n",
    "\n",
    "Здесь также есть ньюанс у нас 2 класса: `product-card item`. Поэтому может отрабатывать неккорректно, т.к CLASS_NAME с 2 умя классами может несправится. Можем использовать xpath селектор. \n",
    "\n",
    "`goods = driver.find_elements(By.XPATH, \"//div[@class='product-card item']\")`"
   ]
  },
  {
   "cell_type": "markdown",
   "id": "56583a2e",
   "metadata": {},
   "source": [
    "#### Итоговый код:"
   ]
  },
  {
   "cell_type": "code",
   "execution_count": 15,
   "id": "bc4182b6",
   "metadata": {},
   "outputs": [
    {
     "name": "stdout",
     "output_type": "stream",
     "text": [
      "'Дск Грибы Шампиньоны 1 кг'\n",
      "'Дск Перец микс 1шт'\n",
      "'Грейпфрут красный 1 кг'\n",
      "'Дск Виноград КРАСНЫЙ 1кг'\n",
      "'Дск Яблоки ГОЛДЕН 1кг'\n",
      "'Дск Кукуруза сахарная в п...'\n",
      "'Дск Зелень Петрушка в упа...'\n",
      "'Дск Капуста КИТАЙСКАЯ 1кг'\n",
      "'Дск Ананасы 1кг'\n",
      "'Дск Груши КОНФЕРЕНЦИЯ 1кг'\n",
      "'Дск Зелень Укроп в упаков...'\n",
      "'Дск Огурцы короткоплодные...'\n",
      "'Дск Чеснок фасованный 1уп'\n",
      "'Дск Картофель мытый 2,5кг'\n",
      "'Дск Томаты ЧЕРРИ красные...'\n",
      "'Салатная смесь \"Тоскана\"...'\n",
      "'GLOBAL VILLAGE Капуста кв...'\n",
      "'Дск Салат РУККОЛА 75г'\n",
      "'Дск Редис красный 500г'\n",
      "'Зубатка синяя Мастерфиш к...'\n",
      "'Атлантика Горбуша ломтики...'\n",
      "'Креветки северные, Polar,...'\n",
      "'Камбала Polar филе заморо...'\n",
      "'ПЕРВ. СВЕЖ. Филе в паниро...'\n",
      "'Филе горбуши Polar порцио...'\n",
      "'Рыбное кулинарное изделие...'\n",
      "'Капитан Норд Мясо мидий (...'\n",
      "'Соленая пищевая рыбная пр...'\n",
      "'Сельдь т/о ф-к в масле с...'\n",
      "'Пищевая рыбная продукция...'\n",
      "'Капитан Норд Кальмар гига...'\n",
      "'АГУША Пюре ЦЫПЛЕНОК мясно...'\n",
      "'АГУША Пюре ИНДЕЙКА мясное...'\n",
      "'АГУША Пюре ГОВЯДИНА мясно...'\n",
      "'АГУША Пюре ЦЫПЛЕН/ГОВЯДИН...'\n",
      "'АГУША Пюре КРОЛИК мясное...'\n",
      "'Каша Агуша Засыпай-ка Мол...'\n",
      "'Каша Агуша Засыпай-ка Мол...'\n",
      "'Каша Агуша Засыпай-ка Мол...'\n",
      "'Каша Агуша Засыпай-ка Мол...'\n",
      "'Каша мол стер «Вставай-ка...'\n",
      "'Каша молочная рисовая с к...'\n",
      "'Каша молочная злаковая с...'\n",
      "'МЯС.ФЕРМА Ребра свиные к/...'\n",
      "'Шоколад Ritter Sport Моло...'\n",
      "'Шоколад Ritter Sport Темн...'\n",
      "'Конфеты Комильфо шоколадн...'\n",
      "'Зубная щетка Colgate Зиг...'\n",
      "'Масло Ideal, подсолнечное...'\n",
      "'Кофе молотый Julius Meinl...'\n",
      "'Кофе молотый Julius Meinl...'\n",
      "'Крем Nivea универсальный...'\n",
      "'Бальзам после бритья Nive...'\n",
      "'Крупа Гречневая, элитная,...'\n",
      "'Чай Ahmad Tea, Earl Grey,...'\n",
      "'Средство для посудомоечно...'\n",
      "'Средство чистящее Cillit...'\n",
      "'Набор шоколадных конфет M...'\n",
      "'Конфеты из молочного шоко...'\n",
      "'Приправа Maggi, букет при...'\n"
     ]
    }
   ],
   "source": [
    "from pprint import pprint\n",
    "from selenium import webdriver\n",
    "from selenium.webdriver.chrome.service import Service\n",
    "from selenium.webdriver.common.by import By\n",
    "from selenium.webdriver.chrome.options import Options\n",
    "from selenium.webdriver.support.ui import WebDriverWait\n",
    "from selenium.webdriver.support import expected_conditions as EC\n",
    "\n",
    "import time\n",
    "\n",
    "s = Service('./chromedriver')\n",
    "options = Options()\n",
    "options.add_argument('start-maximized')\n",
    "\n",
    "driver = webdriver.Chrome(service=s, options=options)\n",
    "driver.implicitly_wait(10)\n",
    "driver.get(\"https://5ka.ru/special_offers\")\n",
    "\n",
    "\n",
    "start_button = driver.find_element(By.XPATH, \"//span[contains(text(), 'Да, верно')]\")\n",
    "start_button.click()\n",
    "\n",
    "cooke = driver.find_element(By.XPATH, \"//span[contains(text(), 'Принять')]\")\n",
    "cooke.click()\n",
    "\n",
    "page = 0\n",
    "while page < 3:\n",
    "    try:\n",
    "        wait = WebDriverWait(driver, 10)\n",
    "        button = wait.until(EC.presence_of_element_located((By.CLASS_NAME, \"add-more-btn\")))\n",
    "        # button = driver.find_element(By.CLASS_NAME, \"add-more-btn\")\n",
    "        button.click()\n",
    "        page += 1\n",
    "    except:\n",
    "        break\n",
    "\n",
    "time.sleep(1)\n",
    "goods = driver.find_elements(By.XPATH, \"//div[@class='product-card item']\")\n",
    "for good in goods:\n",
    "    name = good.find_element(By.CLASS_NAME, \"item-name\").text\n",
    "    pprint(name)"
   ]
  },
  {
   "cell_type": "markdown",
   "id": "b225c1a9",
   "metadata": {},
   "source": [
    "### Ещё один скпособ как можно выбирать элементы на странице с использованием управляемых задержек  и использованием ожидаемых событий. "
   ]
  },
  {
   "cell_type": "markdown",
   "id": "323a829d",
   "metadata": {},
   "source": [
    "`driver.implicitly_wait()` срабатывает не всегда. Есть дополнительные 2 класса для управляемых задержек и ожидаемых событий. В цикле while переделаем более сложную выборку кнопки. \n",
    "Импортируем необходимые классы. "
   ]
  },
  {
   "cell_type": "code",
   "execution_count": 12,
   "id": "94ea79a2",
   "metadata": {},
   "outputs": [],
   "source": [
    "from selenium.webdriver.support.ui import WebDriverWait"
   ]
  },
  {
   "cell_type": "markdown",
   "id": "88e37424",
   "metadata": {},
   "source": [
    "импортируем класс ожидаемых событий "
   ]
  },
  {
   "cell_type": "code",
   "execution_count": 13,
   "id": "812a647d",
   "metadata": {},
   "outputs": [],
   "source": [
    "from selenium.webdriver.support import expected_conditions"
   ]
  },
  {
   "cell_type": "markdown",
   "id": "64b72129",
   "metadata": {},
   "source": [
    "когда мы понимаем что некоторый элемент может подгружаться достаточно долго и на его появление влияют какие ещё события лучше использовать через событие - ожидание. \n",
    "\n",
    "создаём объект ожидания `wait` это будет экземпляр класса `WebDriverWait`. параметром в который мы передаём наш текущий драйвер со всем своим содержимым, со всем домом, а второй параметр - таймаут. "
   ]
  },
  {
   "cell_type": "code",
   "execution_count": null,
   "id": "80e4f3e8",
   "metadata": {},
   "outputs": [],
   "source": [
    "wait = WebDriverWait(driver, 10)\n",
    "button = wait.until(expected_conditions.метод)"
   ]
  },
  {
   "cell_type": "markdown",
   "id": "8ba215df",
   "metadata": {},
   "source": [
    "`wait.until()` мы ждём пока случится в скобках указываем то что должно случиться. Класс expected_conditions. у которого также есть статик методы. Это событие, которое мы ждём, пока они не станут доступными. Более тонкая выборка моментов, которые нам нужны. Ждём пока элемент не станет кликабельным. Если элемент пропадает, метод сработает, ждёт пока элемент станет кликабельным. Когда элемент появляется и становится кликабельным - всё хорошо.  Либо метод - ждём пока элемент не появится в вёрстке. Пока элемент не будет выбран и т.д . много методов. "
   ]
  },
  {
   "cell_type": "code",
   "execution_count": null,
   "id": "e25f7505",
   "metadata": {},
   "outputs": [],
   "source": [
    "button = wait.until(expected_conditions.precence_of_element_located())"
   ]
  },
  {
   "cell_type": "markdown",
   "id": "74d45f45",
   "metadata": {},
   "source": [
    "`.precence_of_element_located()` в параметр этого метода указываем картедж (By.CLASS_NAME, \"add-more-btn\"). Картеж из двух элементов: (By.CLASS_NAME и \"add-more-btn\")"
   ]
  },
  {
   "cell_type": "code",
   "execution_count": null,
   "id": "d15f49c1",
   "metadata": {},
   "outputs": [],
   "source": [
    "button = wait.until(expected_conditions.precence_of_element_located((By.CLASS_NAME, \"add-more-btn\")))"
   ]
  },
  {
   "cell_type": "code",
   "execution_count": null,
   "id": "3abebb60",
   "metadata": {},
   "outputs": [],
   "source": [
    "while page < 3:\n",
    "    try:\n",
    "        wait = WebDriverWait(driver, 10)\n",
    "        button = wait.until(EC.presence_of_element_located((By.CLASS_NAME, \"add-more-btn\")))\n",
    "        # button = driver.find_element(By.CLASS_NAME, \"add-more-btn\")\n",
    "        button.click()"
   ]
  },
  {
   "cell_type": "markdown",
   "id": "14e14ef4",
   "metadata": {},
   "source": [
    "теперь button.click() будет сробатывать, когда `WebDriverWait` нас пропустит"
   ]
  },
  {
   "cell_type": "code",
   "execution_count": null,
   "id": "932df18e",
   "metadata": {},
   "outputs": [],
   "source": [
    "button = WebDriverWait(driver, 10).wait.until(EC.presence_of_element_located((By.CLASS_NAME, \"add-more-btn\")))"
   ]
  },
  {
   "cell_type": "markdown",
   "id": "6782cfff",
   "metadata": {},
   "source": [
    "Кнопки выбирать профессиональнее через WebDriverWait()"
   ]
  },
  {
   "cell_type": "markdown",
   "id": "a6d3b76c",
   "metadata": {},
   "source": [
    "### Откуда берутся данные"
   ]
  },
  {
   "cell_type": "markdown",
   "id": "130e5920",
   "metadata": {},
   "source": [
    "Есть какой то механизм, который делает запрос на сервер и нам возвращаются данные. Открываем консоль разработчика, переходим во вкладку `network`, выбираем вкладку `Fetch/XHR` нажимаем на кнопку нашу `Загрузить ещё` и видим всего одну ссылку \n",
    "\n",
    "```\n",
    "https://5ka.ru/api/v2/special_offers/?records_per_page=15&page=5&store=31Z6&ordering=&price_promo__gte=&price_promo__lte=&categories=&search=\n",
    "```\n",
    "\n",
    "Инициатор Java Script. 2 раза кликаем по этой ссылке и она откроется в новом окне. код. Смотрим на адресную строчку и видим апи `https://5ka.ru/api/v2/...`. Нам возвращаются данные по таварам по акции. Получается джейсон с данными о товаре, по сути карточка товара.  С информацией о предыдущей странице и о следующей. очень информативный джейсон. \n",
    "\n",
    "Всё можно было реализовать без селениума посредствам запросов к этому самому апи. \n",
    "\n",
    "```\n",
    "https://5ka.ru/api/v2/special_offers/?records_per_page=15&page=5&store=31Z6&ordering=&price_promo__gte=&price_promo__lte=&categories=&search=\n",
    "```\n",
    "\n",
    "у ссылки есть параметр номер страницы page=5. Просто в гет запросе перебирать можно было бы до тех пор пока следующая страница 'next_page' не станет равным Null. \n",
    "\n",
    "Полученные данные закидываем в моного и всё быстро собрали. "
   ]
  },
  {
   "cell_type": "markdown",
   "id": "953c6c3c",
   "metadata": {},
   "source": [
    "### Ресурс посмотреть свой АПИ адрес"
   ]
  },
  {
   "cell_type": "markdown",
   "id": "89b04884",
   "metadata": {},
   "source": [
    "www.myip.ru - откуда у ресурса берётся эта информация? Она же не статически подгружается. Пронаблюдаем за работой через инструмент разработчика вкладки `network`, выбираем вкладку `Fetch/XHR`. Обновляем страничку и смотрим на запросы. Видим важный запрос `index_small.php`. Дважды кликаем по этому запросу, смотрим на адрес: `https://myip.ru/index_small.php` и содержание ответа: \n",
    "\n",
    "```\n",
    "Ваш IP-адрес\n",
    "87.249.25.127\n",
    "Имя вашего хоста\n",
    "static-87-249-25-127.tel.ru\n",
    "```\n",
    "по факту делается гет запрос по адресу\n",
    "\n",
    "`Request URL:  https://myip.ru/index_small.php`\n",
    "\n",
    "ив  ответе получаем текст. Здесь работает бэкэнд на php. "
   ]
  },
  {
   "cell_type": "markdown",
   "id": "3acfe183",
   "metadata": {},
   "source": [
    "### На примере picabu"
   ]
  },
  {
   "cell_type": "code",
   "execution_count": null,
   "id": "4bd7ff11",
   "metadata": {},
   "outputs": [],
   "source": [
    "from selenium import webdriver\n",
    "from selenium.webdriver.common.by import By\n",
    "from selenium.webdriver.chrome.options import Options\n",
    "from selenium.webdriver.chrome.service import Service\n",
    "from selenium.webdriver.common.action_chains import ActionChains\n",
    "from selenium.webdriver.common.keys import Keys\n",
    "import time\n",
    "\n",
    "options = Options()\n",
    "options.add_argument(\"start-maximized\")\n",
    "\n",
    "s = Service('./chromedriver')\n",
    "driver = webdriver.Chrome(service=s, options=options)\n",
    "\n",
    "driver.get(\"https://pikabu.ru/\")\n",
    "\n",
    "\n",
    "for i in range(5):\n",
    "    articles = driver.find_elements(By.TAG_NAME, 'article')\n",
    "    actions = ActionChains(driver)\n",
    "    actions.move_to_element(articles[-1])\n",
    "    actions.perform()\n",
    "    time.sleep(4)\n",
    "\n",
    "    # actions.click()\n",
    "    # actions.send_keys(\"Hello\")\n",
    "    # actions.key_down(Keys.CONTROL).key_down(Keys.c).key_up(Keys.CONTROL).key_up(Keys.c)"
   ]
  },
  {
   "cell_type": "markdown",
   "id": "1c867ed0",
   "metadata": {},
   "source": [
    "Начинаем с минимального кода и буду добавлять"
   ]
  },
  {
   "cell_type": "code",
   "execution_count": null,
   "id": "bfd90600",
   "metadata": {},
   "outputs": [],
   "source": [
    "from selenium import webdriver\n",
    "from selenium.webdriver.common.by import By\n",
    "from selenium.webdriver.chrome.options import Options\n",
    "from selenium.webdriver.chrome.service import Service\n",
    "\n",
    "\n",
    "options = Options()\n",
    "options.add_argument(\"start-maximized\")\n",
    "\n",
    "s = Service('./chromedriver')\n",
    "driver = webdriver.Chrome(service=s, options=options)\n",
    "\n",
    "driver.get(\"https://pikabu.ru/\")"
   ]
  },
  {
   "cell_type": "markdown",
   "id": "e398eba7",
   "metadata": {},
   "source": [
    "Данные подгружаются динамически, но только после того как мы пролистываем страницу до определённого момента. Кнопки `загрузить далее` как было в примере пятёрочки здесь нету. \n",
    "У нас нету рычагов скрола, мы не снаем сколько надо скроллить, чтобы подгрузились данные. \n",
    "\n",
    "Для решения данной проблемы есть модуль `ActionChains`который предоставляет возможность дополнительного взаимодействия с элементами. Позволяет решить проблему динамической загрузки во время скроллинга. "
   ]
  },
  {
   "cell_type": "code",
   "execution_count": null,
   "id": "2d938556",
   "metadata": {},
   "outputs": [],
   "source": [
    "from selenium.webdriver.common.action_chains import ActionChains"
   ]
  },
  {
   "cell_type": "markdown",
   "id": "f5bd7339",
   "metadata": {},
   "source": [
    "Нам нужно изначально понять по какому принципу происходит скролл. Что является признаком конца страницы? \n",
    "\n",
    "Самая последняя статья. Нам надо найти сразу последнюю статью. \n",
    "Изучаем элементы находим тег `<Article>`. Находим все элементы:"
   ]
  },
  {
   "cell_type": "code",
   "execution_count": null,
   "id": "e9f5c5b9",
   "metadata": {},
   "outputs": [],
   "source": [
    "articles = driver.find_elements(By.TAG_NAME, 'article')"
   ]
  },
  {
   "cell_type": "markdown",
   "id": "b1c5d6c4",
   "metadata": {},
   "source": [
    "После того как мы собрали все статьи с загруженной страницы, приступаем к созданию объекта `ActionChains`. "
   ]
  },
  {
   "cell_type": "code",
   "execution_count": null,
   "id": "0e2fc50a",
   "metadata": {},
   "outputs": [],
   "source": [
    "actions = ActionChains(driver)"
   ]
  },
  {
   "cell_type": "markdown",
   "id": "5c6c88f7",
   "metadata": {},
   "source": [
    "`ActionChains` - цепочка событий. Когда мы обращаемся к созданному объекту actions у нас появляется большая группа методов, которая позволяет делать многое. `move_to_element` перенос фокуса браузера к указанному элементу в хтмл вёрстке. Не важно виден он сейчас на странице или не виден. Если он есть в хтмл вёрстке к нему произойдёт скролл. Из `articles`берём последний элемент  `articles[-1]`. "
   ]
  },
  {
   "cell_type": "code",
   "execution_count": null,
   "id": "1e7bac00",
   "metadata": {},
   "outputs": [],
   "source": [
    "actions.move_to_element(articles[-1])"
   ]
  },
  {
   "cell_type": "markdown",
   "id": "586b432a",
   "metadata": {},
   "source": [
    "методы `ActionChains` можно посмотреть в документации или во всплывающих подсказках пайчарма. \n",
    "\n",
    "В одну цепочку можем ставить несколько методов. В этом экшнс как в секе будут копиться эти действия, а когда понимаем, что дальше копить не надо, вызываем метод `actions.perform()` и у нас всё накопленное выливается на элемент и действие происходит. Сложные комплексные действия, нажатия нескольких клавиш. "
   ]
  },
  {
   "cell_type": "code",
   "execution_count": null,
   "id": "2a0c00c0",
   "metadata": {},
   "outputs": [],
   "source": [
    "actions.key_down(Keys.CONTROL).key_down(Keys.c).key_up(Keys.CONTROL).key_up(Keys.c)"
   ]
  },
  {
   "cell_type": "code",
   "execution_count": null,
   "id": "7cc0611b",
   "metadata": {},
   "outputs": [],
   "source": [
    "for i in range(5):"
   ]
  },
  {
   "cell_type": "markdown",
   "id": "0faec2ae",
   "metadata": {},
   "source": [
    "Делаем 5 скролов вниз. "
   ]
  },
  {
   "cell_type": "markdown",
   "id": "a4477cb8",
   "metadata": {},
   "source": [
    "# Разбор Домашней работы предыдущего урока"
   ]
  },
  {
   "cell_type": "markdown",
   "id": "965c9119",
   "metadata": {},
   "source": [
    "# https://github.com/Elias7810\n",
    "рекомендация: Получать ссылки на новости, а дальше делать гет запрос по этой ссылке, чтобы изнутри собирать данные. Каждая страничка с новостью будет одинаковой вёрстки, поэтому удобно собирать данные. "
   ]
  },
  {
   "cell_type": "code",
   "execution_count": null,
   "id": "d26dc92a",
   "metadata": {},
   "outputs": [],
   "source": [
    "from lxml import html\n",
    "import requests\n",
    "from pprint import pprint\n",
    "from pymongo import MongoClient\n",
    "\n",
    "client = MongoClient('127.0.0.1', 27017)\n",
    "db = client['news']\n",
    "\n",
    "\n",
    "url = 'https://news.mail.ru'\n",
    "headers = {'user-agent':'Mozilla/5.0 (Windows NT 10.0; Win64; x64) AppleWebKit/537.36 (KHTML, like Gecko) Chrome/102.0.5005.61/63 Safari/537.36'}\n",
    "response = requests.get(url, headers=headers)\n",
    "dom = html.fromstring(response.text)\n",
    "\n",
    "#Отдельно выделил главную новость и остальные новости, т. к. по главной новости есть дополнительный тектстовый  раздел subtitle, который я включил в содержание новости.\n",
    "#По остальным новостям такого раздела нет\n",
    "main_news= dom.xpath('//td[@class=\"daynews__main\"]//*/text()')\n",
    "main_news = [el.replace('\\xa0', ' ') for el in main_news]\n",
    "main_news='. '.join(main_news)\n",
    "main_news_link = dom.xpath('//td[@class=\"daynews__main\"]//*/@href')\n",
    "response_d = requests.get(main_news_link[0], headers=headers)\n",
    "dom_d = html.fromstring(response_d.text)\n",
    "main_news_date = dom_d.xpath('//span//*//@datetime')\n",
    "\n",
    "\n",
    "dict1 = {}\n",
    "dict1['type'] = 'Mail.ru_main_news_with_subtitle'\n",
    "dict1['content'] =  main_news\n",
    "dict1['news_link'] = main_news_link[0]\n",
    "dict1['news_date'] = main_news_date[0]\n",
    "#Я понял так, что база собирает и НАКАПЛИВАЕТ информацию о новостях за период, поэтому новые новости добавляются к старым, не удаляя их\n",
    "#(выполняется только проверка на дублирование). Если это не так (нужны только актуальные новости), то в начале кода следует выполнить команду  db.news.drop().\n",
    "#Но не вижу смысла в базе, имеющей всего 5 записей)\n",
    "db.news.update_one({'news_link' : dict1['news_link']},{'$set': dict1 }, upsert=True)\n",
    "\n",
    "\n",
    "other_news= dom.xpath('//td[@class=\"daynews__items\"]/*')\n",
    "for news in other_news:\n",
    "    dict2= {}\n",
    "    dict2['type'] = 'Mail.ru_other_news'\n",
    "    dict2['content'] = news.xpath('.//text()')[0].replace('\\xa0', ' ')\n",
    "    dict2['news_link'] = news.xpath('.//@href')[0]\n",
    "    response_l = requests.get(dict2['news_link'], headers=headers)\n",
    "    dom_l = html.fromstring(response_l.text)\n",
    "    dict2['news_date'] = dom_l.xpath('//span//*//@datetime')[0]\n",
    "    db.news.update_one({'news_link' : dict2['news_link']},{'$set': dict2 }, upsert=True)\n",
    "    \n",
    "for el in db.news.find({}):\n",
    "    print (el)"
   ]
  },
  {
   "cell_type": "markdown",
   "id": "bcfd6206",
   "metadata": {},
   "source": [
    "# https://github.com/Androkotey"
   ]
  },
  {
   "cell_type": "code",
   "execution_count": null,
   "id": "c30c3832",
   "metadata": {},
   "outputs": [],
   "source": [
    "# lenta.ru\n",
    "\n",
    "from lxml import html\n",
    "import my_functions as my\n",
    "\n",
    "\n",
    "def get_data(url):\n",
    "    \"\"\" Возвращает список с собранной информацией по новостям \"\"\"\n",
    "    dom = html.fromstring(my.my_request(url))\n",
    "\n",
    "    items = dom.xpath(\"//a[contains(@class, '_topnews')]\")\n",
    "\n",
    "    list_items = []\n",
    "    for item in items:\n",
    "        item_info = dict()\n",
    "\n",
    "        link = item.xpath(\"./@href\")[0]\n",
    "        title = item.xpath(\".//*[contains(@class, 'title') and not (contains(@class, 'titles'))]/text()\")[0]\n",
    "        time = item.xpath(\".//time[contains(@class, 'date')]/text()\")[0]\n",
    "\n",
    "        info = my.get_info_lenta(link, time)\n",
    "        item_info['link'] = info[0]\n",
    "        item_info['source'] = info[1]\n",
    "        item_info['timestamp'] = info[2]\n",
    "        item_info['datetime'] = info[3]\n",
    "        item_info['title'] = title\n",
    "\n",
    "        list_items.append(item_info)\n",
    "\n",
    "    return list_items\n",
    "\n",
    "\n",
    "@my.multiple_call(count=10, pause=60)\n",
    "def main():\n",
    "    data = get_data('https://lenta.ru/')  # получение информации о главных новостях\n",
    "\n",
    "    with my.connect_to_mongodb_collection(database_name='hw4', collection_name='news', delete=False) as collection:\n",
    "        my.data_insert(collection, data)  # добавление новостей в коллекцию\n",
    "\n",
    "\n",
    "if __name__ == '__main__':\n",
    "    main()"
   ]
  },
  {
   "cell_type": "code",
   "execution_count": null,
   "id": "b06aac30",
   "metadata": {},
   "outputs": [],
   "source": [
    "# mail.py\n",
    "\n",
    "from lxml import html\n",
    "import my_functions as my\n",
    "\n",
    "\n",
    "def get_links(url):\n",
    "    \"\"\" Собирает ссылки на новости \"\"\"\n",
    "    dom = html.fromstring(my.my_request(url))\n",
    "\n",
    "    links_1 = \"//a[contains(@class, 'js-topnews__item')]/@href\"  # ссылки на топ-новости с картинками\n",
    "    links_2 = \"//li//a[not(contains(@href, 'foto-dnya'))]/@href\"  # ссылки на все новости без картинок\n",
    "    links_3 = \"//a[@class='newsitem__title link-holder']/@href\"  # ссылки на остальные новости с картинками\n",
    "\n",
    "    links = dom.xpath('|'.join([links_1, links_2, links_3]))\n",
    "    return set(links)\n",
    "\n",
    "\n",
    "def get_info(url):\n",
    "    \"\"\" Извлекает данные с одной страницы \"\"\"\n",
    "    dom = html.fromstring(my.my_request(url))\n",
    "\n",
    "    # защита от прямых ссылок на источник и от diafilm\n",
    "    if not url.startswith('https://news.mail.ru/') or 'diafilm' in url:\n",
    "        return\n",
    "\n",
    "    item_info = dict()\n",
    "\n",
    "    link = url\n",
    "    source = dom.xpath(\"//a[contains(@class,'breadcrumbs__link')]/span[@class='link__text']/../@href\")[0]\n",
    "    title = dom.xpath(\"//h1[@class='hdr__inner']/text()\")[0]\n",
    "    date = dom.xpath(\"//span[@datetime]/@datetime\")[0]\n",
    "\n",
    "    item_info['link'] = link\n",
    "    item_info['source'] = source\n",
    "    item_info['title'] = title\n",
    "    item_info['timestamp'], item_info['datetime'] = my.get_date_mail(date)\n",
    "\n",
    "    return item_info\n",
    "\n",
    "\n",
    "def get_data(links):\n",
    "    \"\"\" Обходит список ссылок и возвращает список с собранной информацией \"\"\"\n",
    "\n",
    "    list_news = []\n",
    "    for link in links:\n",
    "        info = get_info(link)\n",
    "        if info:\n",
    "            list_news.append(info)\n",
    "    return list_news\n",
    "\n",
    "\n",
    "@my.multiple_call(count=10, pause=60)\n",
    "def main():\n",
    "    links = get_links('https://news.mail.ru/')\n",
    "    data = get_data(links)\n",
    "\n",
    "    with my.connect_to_mongodb_collection(database_name='hw4', collection_name='news', delete=False) as collection:\n",
    "        my.data_insert(collection, data)\n",
    "\n",
    "\n",
    "if __name__ == \"__main__\":\n",
    "    main()"
   ]
  },
  {
   "cell_type": "code",
   "execution_count": null,
   "id": "0fb644fa",
   "metadata": {},
   "outputs": [],
   "source": [
    "# my_functions.py\n",
    "\n",
    "from pymongo import MongoClient\n",
    "from contextlib import contextmanager\n",
    "from datetime import datetime, timedelta\n",
    "import re\n",
    "import requests\n",
    "\n",
    "\n",
    "# Функции для mail\n",
    "def get_date_mail(date):\n",
    "    \"\"\" Возвращает дату в двух форматах \"\"\"\n",
    "    news_timespan = datetime.fromisoformat(date)\n",
    "    news_datetime = news_timespan.strftime('%H:%M %Y-%m-%d')\n",
    "    return news_timespan, news_datetime\n",
    "\n",
    "\n",
    "# Функции для yandex\n",
    "def get_date_yandex(time):\n",
    "    \"\"\" Комбинирует время новости и сегодняшнюю дату (не смог найти дату на странице) \"\"\"\n",
    "\n",
    "    today = datetime.now()\n",
    "    time = time.replace('вчера', str(today.day - 1))\n",
    "    if len(time.split(' ')) > 2:\n",
    "        day = int(time.split(' ')[0])\n",
    "        today = today - timedelta(days=today.day - day)\n",
    "        time = time[-5:]\n",
    "\n",
    "    news_datetime = time + ' ' + str(today.date())\n",
    "    time = list(map(int, time.split(':')))\n",
    "    news_timestamp = today.replace(hour=time[0], minute=time[1], second=0)\n",
    "    return news_timestamp, news_datetime\n",
    "\n",
    "\n",
    "# Функции для lenta\n",
    "def get_info_lenta(link, time):\n",
    "    \"\"\" Возвращает кортеж из ссылки, источника и даты в двух форматах \"\"\"\n",
    "\n",
    "    date = get_date_lenta(link)\n",
    "    dt = time + ' ' + date\n",
    "\n",
    "    if link.startswith('/'):\n",
    "        link = 'https://lenta.ru' + link\n",
    "        source = 'https://lenta.ru'\n",
    "        timestamp = datetime.strptime(time + ' ' + date, '%H:%M %Y/%m/%d')\n",
    "    else:\n",
    "        source = re.search(r\"(https://\\w+.\\w+)\", link)[0]\n",
    "        timestamp = datetime.strptime(time + ' ' + date, '%H:%M %d/%m/%Y')\n",
    "\n",
    "    return link, source, timestamp, dt\n",
    "\n",
    "\n",
    "def get_date_lenta(link):\n",
    "    \"\"\" Получает дату из ссылок двух видов \"\"\"\n",
    "\n",
    "    if link.startswith('/'):\n",
    "        pattern = r\"(?:\\d[\\d/]+\\d)\"\n",
    "        return re.search(pattern, link)[0][:10]\n",
    "    else:\n",
    "        pattern = r\"(?:\\d[\\d-]+\\d)\"\n",
    "        return re.search(pattern, link)[0].replace('-', '/')\n",
    "\n",
    "\n",
    "# Общие функции\n",
    "def my_request(url):\n",
    "    headers = {'user-agent': 'Mozilla/5.0 (Windows NT 10.0; Win64; x64) AppleWebKit/537.36 (KHTML, like Gecko) '\n",
    "                             'Chrome/101.0.4951.67 Safari/537.36'}\n",
    "    response = requests.get(url, headers=headers)\n",
    "    if response.ok and len(response.text) > 7000:\n",
    "        return response.text\n",
    "    else:\n",
    "        print(\"Что-то не так\")\n",
    "        exit()\n",
    "\n",
    "\n",
    "def data_insert(collection, data, index='title'):\n",
    "    \"\"\" Добавляет данные в коллекцию \"\"\"\n",
    "    # Удалить дубликаты из монго (сначала добавлял по ссылке, но у Яндекса они динамические...):\n",
    "    # db.news.find({}, {title:1}).sort({_id:1}).forEach(function(doc){db.news.remove({_id:{$gt:doc._id}, title:doc.title});})\n",
    "\n",
    "    news_before = collection.count_documents({})\n",
    "\n",
    "    for doc in data:\n",
    "        collection.update_one({index: doc[index]},\n",
    "                              {'$setOnInsert': {**doc}},\n",
    "                              upsert=True)\n",
    "\n",
    "    news_after = collection.count_documents({})\n",
    "    difference = news_after - news_before\n",
    "    if difference:\n",
    "        print(f'В коллекцию добавлено {difference} записей')\n",
    "    else:\n",
    "        print('Нечего добавлять')\n",
    "\n",
    "\n",
    "def multiple_call(count, pause):\n",
    "    \"\"\" Декоратор вызывает функцию несколько раз с паузами \"\"\"\n",
    "    from time import sleep\n",
    "\n",
    "    def my_decorator(func):\n",
    "        def wrapped(*args, **kwargs):\n",
    "            for i in range(count):\n",
    "                func(*args, **kwargs)\n",
    "                sleep(pause)\n",
    "\n",
    "        return wrapped\n",
    "\n",
    "    return my_decorator\n",
    "\n",
    "\n",
    "@contextmanager\n",
    "def connect_to_mongodb_collection(database_name, collection_name, delete=False):\n",
    "    \"\"\" Открывает соединение, удаляет коллекцию после отработки, если необходимо, и закрывает соединение \"\"\"\n",
    "\n",
    "    client = MongoClient('127.0.0.1', 27017)\n",
    "    db = client[database_name]\n",
    "    collection = db[collection_name]\n",
    "\n",
    "    yield collection\n",
    "\n",
    "    count_documents = collection.count_documents({})\n",
    "    if delete:\n",
    "        db.drop_collection(collection_name)\n",
    "        print(f\"Удалена коллеция с {count_documents} документами\")\n",
    "    client.close()"
   ]
  },
  {
   "cell_type": "code",
   "execution_count": null,
   "id": "da9b1742",
   "metadata": {},
   "outputs": [],
   "source": [
    "# yandex.py\n",
    "\n",
    "from lxml import html\n",
    "import my_functions as my\n",
    "\n",
    "\n",
    "def get_data(url):\n",
    "    \"\"\" Возвращает список с собранной информацией по новостям\"\"\"\n",
    "\n",
    "    dom = html.fromstring(my.my_request(url))\n",
    "\n",
    "    # Проверяем в том числе, чтобы внутри нужного контейнера не было упоминаний про рекламу, потом возвращемся наверх\n",
    "    items = dom.xpath(\"//div[contains(@class, 'mg-grid__item')]/*[not(contains(@class, 'advert'))]/..\")\n",
    "    list_items = []\n",
    "    for item in items:\n",
    "        item_info = dict()\n",
    "\n",
    "        link = item.xpath(\".//h2/a/@href\")[0]\n",
    "        title = item.xpath(\".//h2/a/text()\")[0]\n",
    "        source = item.xpath(\".//a[@class='mg-card__source-link']/text()\")[0]\n",
    "        time = item.xpath(\".//span[@class='mg-card-source__time']/text()\")[0]\n",
    "\n",
    "        item_info['link'] = link\n",
    "        item_info['title'] = title\n",
    "        item_info['source'] = source\n",
    "        item_info['timestamp'], item_info['datetime'] = my.get_date_yandex(time)\n",
    "\n",
    "        list_items.append(item_info)\n",
    "\n",
    "    return list_items\n",
    "\n",
    "\n",
    "@my.multiple_call(count=10, pause=60)\n",
    "def main():\n",
    "    data = get_data('https://yandex.ru/news')  # получение информации о главных новостях\n",
    "    with my.connect_to_mongodb_collection(database_name='hw4', collection_name='news', delete=False) as collection:\n",
    "        my.data_insert(collection, data)  # добавление новостей в коллекцию\n",
    "\n",
    "\n",
    "if __name__ == '__main__':\n",
    "    main()\n"
   ]
  },
  {
   "cell_type": "markdown",
   "id": "c003dad0",
   "metadata": {},
   "source": [
    "# https://github.com/LittleFox26"
   ]
  },
  {
   "cell_type": "code",
   "execution_count": null,
   "id": "97ea0f75",
   "metadata": {},
   "outputs": [],
   "source": [
    "from lxml import html\n",
    "import requests\n",
    "from pprint import pprint\n",
    "from datetime import date\n",
    "from pymongo import MongoClient\n",
    "from pymongo.errors import DuplicateKeyError\n",
    "import hashlib\n",
    "\n",
    "\n",
    "\n",
    "client = MongoClient('127.0.0.1', 27017)\n",
    "db = client['newsDB']\n",
    "# db.drop_collection(db.news)\n",
    "newsDB = db.newsDB\n",
    "\n",
    "\n",
    "h = hashlib.new('sha256')\n",
    "\n",
    "url = 'https://yandex.ru/news/'\n",
    "headers = {'user-agent': 'Mozilla/5.0 (Windows NT 10.0; Win64; x64) /'\n",
    "                         'AppleWebKit/537.36 (KHTML, like Gecko) /'\n",
    "                         'Chrome/101.0.4951.67 Safari/537.36'}\n",
    "\n",
    "response = requests.get(url, headers=headers)\n",
    "\n",
    "dom = html.fromstring(response.text)\n",
    "# Собираем топ-5 новостей с Яндекса. Главная новость отличается от 4х остальных, поэтому схожих узлов не так много:(\n",
    "news = dom.xpath(\"//section[contains(@aria-labelledby, 'top-heading')]//h2[contains(@class, 'mg-card__title')]\")\n",
    "\n",
    "top_news = []\n",
    "for el in news:\n",
    "    news_info = {}\n",
    "\n",
    "    # Извлекаем заголовок новости, неразрывные пробелы заменяем обычными\n",
    "    name = el.xpath(\".//a/text()\")\n",
    "    name[0] = name[0].replace('\\xa0', ' ')\n",
    "\n",
    "    # Извлекаем ссылку на новость\n",
    "    link = el.xpath(\".//a/@href\")\n",
    "\n",
    "    # Извлекаем источник. На Яндексе он представлен в явном виде,\n",
    "    # но главная новость отличается от остальных, схожих тегов повыше не нашлось,\n",
    "    # пришлось много раз подниматься вверх\n",
    "    source = el.xpath(\"./../../..//a[@class='mg-card__source-link']/text()\")\n",
    "\n",
    "    # В топе новости только сегодняшние, поэтому дату берём на сегодняшний день, а время - из новости\n",
    "    date_time = el.xpath(\"./../../..//span[@class='mg-card-source__time']/text()\")\n",
    "    today = date.today().strftime(\"%d/%m/%Y\")\n",
    "    date_time.insert(0, today)\n",
    "    # Собираем всё в один список\n",
    "    news_info['name'] = name\n",
    "    news_info['link'] = link\n",
    "    news_info['source'] = source\n",
    "    news_info['date_time'] = date_time\n",
    "    top_news.append(news_info)\n",
    "\n",
    "# pprint(top_news)\n",
    "\n",
    "# Добавляем полученные данные в БД:\n",
    "def db_update(database, news_list):\n",
    "\n",
    "    for n in news_list:\n",
    "        try:\n",
    "            # Генерируем id по заголовку, т.к. некоторые параметры в ссылке\n",
    "            # на одну и ту же новость меняются со временем => новость может добавиться много раз,\n",
    "            # а заголовки вряд ли будут одинаковыми у разных новостей\n",
    "            b_name = bytes(n['name'][0], 'utf-8')\n",
    "            h.update(b_name)\n",
    "            _id = h.hexdigest()\n",
    "            database.insert_one({'_id': _id, **n})\n",
    "        except DuplicateKeyError:\n",
    "            print('The news has already been added to database.')\n",
    "\n",
    "\n",
    "db_update(newsDB, top_news)\n",
    "#\n",
    "# for i in newsDB.find({}):\n",
    "#     pprint(i)"
   ]
  },
  {
   "cell_type": "markdown",
   "id": "9d226918",
   "metadata": {},
   "source": [
    "# https://github.com/belkanov"
   ]
  },
  {
   "cell_type": "code",
   "execution_count": null,
   "id": "0c29f8c5",
   "metadata": {},
   "outputs": [],
   "source": [
    "\"\"\"\n",
    "1. Развернуть у себя на компьютере/виртуальной машине/хостинге MongoDB и\n",
    "реализовать функцию, которая будет добавлять только новые вакансии в вашу базу.\n",
    "2. Написать функцию, которая производит поиск и выводит на экран вакансии с\n",
    "заработной платой больше введённой суммы (необходимо анализировать оба поля зарплаты).\n",
    "Для тех, кто выполнил задание с Росконтролем - напишите запрос для поиска продуктов\n",
    "с рейтингом не ниже введенного или качеством не ниже введенного\n",
    "(то есть цифра вводится одна, а запрос проверяет оба поля)\n",
    "\"\"\"\n",
    "import logging\n",
    "from hashlib import sha3_256\n",
    "from pprint import pprint\n",
    "from time import sleep\n",
    "from typing import Optional\n",
    "from lxml import html\n",
    "\n",
    "import requests\n",
    "from pymongo import MongoClient\n",
    "from pymongo.collection import Collection\n",
    "from pymongo.errors import DuplicateKeyError\n",
    "from bson.objectid import ObjectId\n",
    "\n",
    "from constants import *\n",
    "\n",
    "logging.basicConfig(format='%(asctime)s | %(levelname)-8s | %(name)s | %(message)s',\n",
    "                    datefmt='%Y-%m-%d %H:%M:%S')\n",
    "logger = logging.getLogger('job_scraper')\n",
    "logger.setLevel(logging.INFO)\n",
    "\n",
    "# если включить - можно увидеть редиректы\n",
    "# requests_log = logging.getLogger(\"urllib3\")\n",
    "# requests_log.setLevel(logging.DEBUG)\n",
    "# requests_log.propagate = True\n",
    "\n",
    "\n",
    "def get_response(url, headers=HEADERS, params=None):\n",
    "    timeouts = (5, 5)  # conn, read\n",
    "\n",
    "    for i in range(5):\n",
    "        response = requests.get(url,\n",
    "                                headers=headers,\n",
    "                                params=params,\n",
    "                                timeout=timeouts)\n",
    "        if response.ok:\n",
    "            logger.debug('response - OK')\n",
    "            break\n",
    "        else:\n",
    "            logger.debug('response - NOT OK (%s)', response.status_code)\n",
    "            sleep_time = i + 1\n",
    "            logger.warning(f'Не смог получить ответ для %s. Подождем %d сек.',\n",
    "                           response.url,\n",
    "                           sleep_time)\n",
    "            sleep(sleep_time)\n",
    "    else:\n",
    "        raise SystemExit(1, f'Так и не смог получить ответ для {response.url}')\n",
    "\n",
    "    return response\n",
    "\n",
    "\n",
    "def save_to_file(data, file_name):\n",
    "    with open(file_name, 'w', encoding='utf8') as f:\n",
    "        f.write(data)\n",
    "\n",
    "\n",
    "def is_link_ok(link):\n",
    "    # Натыкался на разное, что, по идее, не подходит под стандартные новости.\n",
    "    # Например\n",
    "    # https://news.mail.ru/diafilm/12-po-rossii-kazan/\n",
    "    # слайдшоу по достопримечательностям Казани\n",
    "    #\n",
    "    # https://news.mail.ru/stories/4-foto-dnya/\n",
    "    # там галерея из 35 фото с изначально пустыми ДИВами,\n",
    "    # Дата самой \"новости\" всегда 3 ноября 2021 (поэтому ее не беру),\n",
    "    # актуальные даты есть только у фото, которые заполняются динамически.\n",
    "    #\n",
    "    # решил такое пропускать\n",
    "    if link.split('/')[-2].isdecimal():\n",
    "        return True\n",
    "    logger.warning('ПРОПУЩЕНО: скорее всего не обычная новость: %s', link)\n",
    "    return False\n",
    "\n",
    "\n",
    "def parse_response(response):\n",
    "    news_info_list = []\n",
    "    news_links = []\n",
    "    dom = html.fromstring(response.text)\n",
    "    anchor = dom.xpath(XPATH_ANCHOR)[0]\n",
    "\n",
    "    # сначала картинки (5шт)\n",
    "    news_links.extend(anchor.xpath('.//a/@href'))\n",
    "    # потом текст под ними (6шт)\n",
    "    news_links.extend(anchor.xpath('../following-sibling::ul/li[not(contains(@class, \"hidden\"))]/a/@href'))\n",
    "\n",
    "    logger.info('Нашел %d новостей. Обрабатываю...', len(news_links))\n",
    "    for news_idx, news_link in enumerate(news_links):\n",
    "        logger.info('Parse news #%d', news_idx+1)\n",
    "        if not is_link_ok(news_link):\n",
    "            continue\n",
    "\n",
    "        news_response = get_response(news_link)\n",
    "        news_dom = html.fromstring(news_response.text)\n",
    "        news_anchor = news_dom.xpath('//div[@data-logger-parent=\"content\"]')[0]\n",
    "\n",
    "        metainfo_anchor = news_anchor.xpath('.//span[@class=\"note\"]')\n",
    "        news_info = {\n",
    "            'link': str(news_link),  # приводим к явной строке <_ElementUnicodeResult>\n",
    "            'pub_date': metainfo_anchor[0].xpath('./span/@datetime')[0],\n",
    "            'source_name': metainfo_anchor[1].xpath('./a//text()')[0],\n",
    "            'source_link': metainfo_anchor[1].xpath('./a/@href')[0],  # решил добавить\n",
    "            'news_title': news_anchor.xpath('.//h1/text()')[0],\n",
    "        }\n",
    "        news_info_list.append(news_info)\n",
    "\n",
    "    return news_info_list\n",
    "\n",
    "\n",
    "def get_mongo_collection(collection_name: str) -> Optional[Collection]:\n",
    "    client = MongoClient(host=MONGODB_HOST,\n",
    "                         port=MONGODB_PORT,\n",
    "                         username=MONGO_INITDB_ROOT_USERNAME,\n",
    "                         password=MONGO_INITDB_ROOT_PASSWORD)\n",
    "    db = client[MONGODB_DB_NAME]\n",
    "\n",
    "    collection = getattr(db, collection_name, None)\n",
    "    if collection is None:\n",
    "        raise ValueError(1, f\"Коллекция {collection_name} не найдена\")\n",
    "\n",
    "    return collection\n",
    "\n",
    "\n",
    "def save_to_mongo(data):\n",
    "    mailru_news_collection = get_mongo_collection(MONGO_COLLECTION)\n",
    "    for row in data:\n",
    "        try:\n",
    "            # если вдруг будет http вместо https или поменяется поддомен, то\n",
    "            # получим другой хэш (даже без него все равно уникальность сломается).\n",
    "            # Хочется чуть больше стабильности =)\n",
    "            # 'https://news.mail.ru/society/51496205/' =>\n",
    "            # 'society51496205'\n",
    "            news_unique_str = ''.join(row['link'].split('/')[3:5])\n",
    "            news_hash = sha3_256(news_unique_str.encode('utf-8')).hexdigest()\n",
    "            mailru_news_collection.insert_one({'_id': news_hash, **row})\n",
    "        except DuplicateKeyError as e:\n",
    "            logger.debug('Для ID=%s уже есть запись. Пропускаем', vacancy_id)  # noqa\n",
    "            pass\n",
    "\n",
    "\n",
    "def main():\n",
    "    url = MAIN_URL\n",
    "    logger.info('Parse %s', url)\n",
    "    response = get_response(url)\n",
    "    if not response:\n",
    "        logger.error('NO response from %s', url)\n",
    "        raise SystemExit(1)\n",
    "\n",
    "    try:\n",
    "        news_info_list = parse_response(response)\n",
    "    except ValueError as e:\n",
    "        logger.exception(e)\n",
    "        save_to_file(response.text, 'error_response.html')\n",
    "        raise SystemExit(1)\n",
    "\n",
    "    logger.info('Сохраняю их в Mongo')\n",
    "    save_to_mongo(news_info_list)\n",
    "\n",
    "\n",
    "if __name__ == '__main__':\n",
    "    logger.info('--- START')\n",
    "    main()\n",
    "    logger.info('--- END')\n"
   ]
  }
 ],
 "metadata": {
  "kernelspec": {
   "display_name": "Python 3 (ipykernel)",
   "language": "python",
   "name": "python3"
  },
  "language_info": {
   "codemirror_mode": {
    "name": "ipython",
    "version": 3
   },
   "file_extension": ".py",
   "mimetype": "text/x-python",
   "name": "python",
   "nbconvert_exporter": "python",
   "pygments_lexer": "ipython3",
   "version": "3.8.8"
  }
 },
 "nbformat": 4,
 "nbformat_minor": 5
}

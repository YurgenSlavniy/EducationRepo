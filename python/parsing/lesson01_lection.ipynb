{
 "cells": [
  {
   "cell_type": "markdown",
   "id": "1a03af6b",
   "metadata": {},
   "source": [
    "# Методы сбора и обработки данных из сети Интернет #\n",
    "Курс посвящён одной цели - научиться принимать решения по тому где и как собирать данные. \n",
    "\n",
    "как правило задача: \n",
    "- мы пришли на сайт, \n",
    "- проанализировали html код, \n",
    "- проанализировали логику работы, \n",
    "- накидали в голове черновик того, как будут собираться данные. (какое должно быть приложение, какие тхнологии подключить, какие библиотеки, возможно даже принять решение, что сйат не подходит для сбора данных и надо искать данные где то ещё)\n",
    "\n",
    "Данные собираются, структурируются, сохроняются. работа с базами данных. "
   ]
  },
  {
   "cell_type": "markdown",
   "id": "9cc1cfa7",
   "metadata": {},
   "source": [
    "### План урока ###\n",
    "- основные понятия (парсинг, скрапинг, краулинг)\n",
    "- HTTP и HTTPS\n",
    "- GET запросы из разных клиентов\n",
    "- API, формат данных JSON\n",
    "- Работа с запросами и API в python\n"
   ]
  },
  {
   "cell_type": "markdown",
   "id": "da513baf",
   "metadata": {},
   "source": [
    "### Три основных понятия курса ###\n",
    "- Парсинг\n",
    "- Скрапинг\n",
    "- Краулинг\n",
    "\n",
    "`Парсинг` - автоматический сбор данных. Похоже на ксерокс документов, хотя помимо ксерокса много разных инструментов. Ксерокс один из производителей, но умеет ксерить множество других аппаратов. Парсинг более узкий термин. Представим, что мы изучаем китайский и используем для этого бумажный словарь. \n",
    "Увидели незнакомый иероглиф и начинаем листать словарь в поисках этого иероглифа. Водим пальцем по столбикам с иероглифами, пока не находим нужный нам. \n",
    "Пока мы водим пальцем по иероглифом это и есть парсинг. Мы анализируем образ иероглифа искомого с теми которые есть в словаре, пока не находим полного совпадения. Парсинг заканчивается на том моменте, когда мы нашли нужный иероглиф. Мы даже ещё не прочитали перевод и не узнали что он означает, но парсинг уже можно считать завершённым.  парсеры программы, которые просто ищут, синтаксически анализируют информацию предоставленную им в качестве работы. как только находят совпадение или не находят - процесс парсинга закончился. По сути парсеры только ищут.\n",
    "\n",
    "`Скрапинг` - процесс под ключ. он включает в себя парсинг, обработку информации, сохранение если нужно. Весь полностью пайплан от точки А до точки Б. где точка А - постановка задачи, точка Б - финальный результат. Скрапер сперва парсит, потом анализирует, преобразует если надо, и выдаёт в готовом виде. Фреймворк который будет помагать нам - scrapy. \n",
    "\n",
    "`Краулинг` - это боты поисковых систем. Они также ищут и анализируют, но они её не сохраняют в том виде, в котором мы изначально думаем. Краулеры поднимают или опускают поисковые выдачи сайта в поисковых системах. Алгоритмы работы краулиров пытаются разгадать сиошники. В него входит огромное количество технических процессов, симантики и прочего.  Алгоритмы работы краулеров секретны и переодически меняются. "
   ]
  },
  {
   "cell_type": "markdown",
   "id": "995af649",
   "metadata": {},
   "source": [
    "### Технические составляющие ###\n",
    "Мы заходим в браузер, у нас чистая страница, где нету ничего (about blank).  Далее вводим адрес какого то сайта, нажимаем ентер. Вследствии этого происходит огромное количество технических процессов, которые сопутствуют передачи информации с сервера в наш браузер. Но для того чтобы эта передача состоялась мы должнысоблюсти правила нашего запроса. \n",
    "\n",
    "### HTTP и HTTPS ###\n",
    "#### `1 шаг. Протокол` ####\n",
    "Начинается всё с протокола. Разница между HTTP и HTTPS в том что второй протокол применяет шифрование данных. Это один и тот же протокол, но первый не шифрует данные, а второй шифрует. В зашифрованном протаколе все данные преобразуются в зашифрованный код, который при перехвате не имеет смысла, если не известны алгоритмы расшифровки. Сервер знает эти алгоритмы и принимая зашифрованный код переводит его обратна в понятный пользователювид, каким всё было при отправке. \n",
    "\n",
    "`Откуда наш браузер знает как надо шифровать данные?` до выполнения запроса происходят разные процессы. Браузер и сервер взаимодействуют понимая друг друга. \n",
    "для шифрования и расшифровки надо знать криптографию, но браузер делает всё самостоятельно без нашего участия. \n",
    "\n",
    "Без протокола ничего работать не будет! В 95% случаев сейчас используется протокол HTTPS. \n",
    "\n",
    "### HTTP и HTTPS - методы ###\n",
    "#### `2 шаг. Метод` ####\n",
    "\n",
    "- GET  - полуить ресурс\n",
    "- PUT  - обновить\n",
    "- POST - создать\n",
    "- DELETE - удалить\n",
    "- PATCH - исправить\n",
    "- HEAD\n",
    "- OPTIONS\n",
    "- TRACE\n",
    "- CONNECT\n",
    "\n",
    "Метод имеет более тонкую структуру и более тонкое обращение с ним. Изначально мы не знаем с помощью какого метода можно обратиться к серверу. Мы приходим на сервер. И как сообщить серверу, что мы хотим сделать? Загрузка страницы, вывод информации подразумевает загрузку с сервера. Мы сообщаем серверу, что хотим получить определённый ресурс и данные с сервера загружаются в наш браузер, затрачивая при этом трафик. Наш браузер постоянно запрашивает информацию с сервера - трафик есть всегда. Наш браузер сообщает серверу, что он хочет сделать. браузер хочет получить ресурс и для этого используется метод GET. Но это не единственно возможная операция которую мы можем совершить с сервером. Хотя GET наиболее часто используемый метод (90% случаев). \n",
    "\n",
    "Все сервера строятся по правилам вебразработчиков, которые нигде и никак не регламентированы. Любой разработчик может настроить свой сервер только на понимание определённых конкретных методов. Причём тех, которые он захочет. По умолчанию GET есть практически всегда, т.к для взаимодействия с сервером изначально когда мы только приходим к нему выполняется по умолчанию GET запрос. Чтобы получить хоть какую то информацию.  Идём на сайт, выполняем GET запрос. получаем HTML код, а дальше сценарии развития достаточно многогранны. Когда мы работаем с сервером мы всегда работаем по его правилам. \n",
    "\n",
    "По нажатию клаыиши F12 - открывается консоль разработчика - важный инструмент который нам будет помогать. Закладка `Network` - посвящена работе сети и мы можем видить как наш браузер взаимодействует с сервером. \n",
    "\n",
    "какие методы будет принимать сервер неизвестно. Как эти методы отрабатываю также неизвестно. Что делает какой метод определяется настройками сервера. Любой разработчик может написать любую реакцию на любой метод. "
   ]
  },
  {
   "cell_type": "markdown",
   "id": "a6b63ceb",
   "metadata": {},
   "source": [
    "### HTTP и HTTPS - заголовки ###\n",
    "#### `3 шаг. Заголовки ` ####\n",
    "- General\n",
    "- Request\n",
    "- Response\n",
    "- Entity\n",
    "\n",
    "Из этих треёх составляющих составляется целиком запрос. Протокол + Метод + Заголовки. При отбрасывании одной из частей запрос технически не состоится. \n",
    "\n",
    "Заголовки - некоторая дополнительная обвязка на запрос. Представим функцию с параметрами. Например складывает 2 числа. числа передаём как параметры. В зависимости от того, какие числа мы запишем при вызове функции у нас будет разный результат. \n",
    "\n",
    "Заголовки делятся условно на 4 основные группы: `General, Request, Response, Entity`. Из них обязательный только один - General.  если мы создадим запрос и не передадим важные, основные General заголовки, то ответа не получится. точно также и у сервера. Сервер, когда отвечает и присылает нам какой то ответ у него тоже есть обязательные заголовки, которые должны присутствовать в каждом ответе.  В зависимости от ситуации эти главные заголовки могут быть разные. \n",
    "\n",
    "2 обязательных заголовка, которые всегда должны присутствовать от нас, как от клиента в сторону сервера, это информация о том с какого клиента мы делаем запрос и информация о том какие данные в каком формате мы готовы от сервера получить. \n",
    "\n",
    "`Request` - заголовок который идёт от нас. От клиента на сервер. (например куки, которые сервер нам выдал), (автоматическая авторизация, которая запомнилась)\n",
    "`Response` - от сервера к клиенту. \n",
    "\n",
    "протокол, метод, заголовок - отправляем на сервер, получаем ответ. "
   ]
  },
  {
   "cell_type": "markdown",
   "id": "3d8239e8",
   "metadata": {},
   "source": [
    "### HTTP и HTTPS - статус коды ###\n",
    "- 1XX - information\n",
    "- 2XX - success\n",
    "- 3XX - redirect\n",
    "- 4XX - client error\n",
    "- 5XX - server error\n",
    "\n",
    "информационные числа, показывающие насколько удачно прошёл запрос. 1XX статус коды носят информационный характер (чаще всего в момент разработки, отладки, тестирования) предназначены как правило не для конечного пользователя. 2ХХ - статускоды успехов, успешная авторизация, успешный запрос и т.д. 3ХХ - редиректы, когда мы пришли на какой то ресурс, а нас перекидывают на другой сервер, другой адрес. 4ХХ - ошибка на стороне клиента, не работает интернет, отвалился кабель, ошибка при вводе логина с паролем и т.д. 5ХХ - ошибка на стороне сервера, не зависит от пользователя. \n",
    "\n",
    "Есть определённые метода в библиотеках пайтон, которые позвляют смотреть статус код, прежде чем выполнять дольнейшую логику работы программы. \n",
    "\n",
    "Разработчик может сам сделать статус код под определённую ошибку (418 - I'm teapot). Любой разработчик может привязать любое событие к любому статускоду. \n",
    "\n",
    "В интернете можно найти таблицу ошибок и статускодов. \n",
    "\n"
   ]
  },
  {
   "cell_type": "markdown",
   "id": "32e6befd",
   "metadata": {},
   "source": [
    "# Практическая составляющая #"
   ]
  },
  {
   "cell_type": "markdown",
   "id": "4b359e46",
   "metadata": {},
   "source": [
    "Работать будем терминале (в башконсоле, командной строке)."
   ]
  },
  {
   "cell_type": "markdown",
   "id": "3b7663bc",
   "metadata": {},
   "source": [
    "#### `curl --version` ####\n",
    "смотрим версию консольной утилиты, которой будем пользоваться.\n",
    "\n",
    "В пайтоне мы будем пользоваться специальным модулем выполнения запросов\n",
    "#### ` request ` ####\n"
   ]
  },
  {
   "cell_type": "markdown",
   "id": "91674c4e",
   "metadata": {},
   "source": [
    "в консоле вызываем консольную утилиту curl, которая выполняет запрос по указанному нами адресу. Передаём параметр \"-v\", чтобы информация о процессах выполнения запроса отобразилась внутри консоли, после этого указываем адрес ресурса, куда делаем запрос.\n",
    "#### `curl -v google.com` ####\n",
    "в качестве адреса можем указать практически любой url \n"
   ]
  },
  {
   "cell_type": "markdown",
   "id": "095fa6f0",
   "metadata": {},
   "source": [
    "в консоле получаем ответ:\n",
    "```\n",
    " % Total    % Received % Xferd  Average Speed   Time    Time     Time  Current\n",
    "                                 Dload  Upload   Total   Spent    Left  Speed\n",
    "  0     0    0     0    0     0      0      0 --:--:-- --:--:-- --:--:--     0*   Trying 64.233.162.94:80...\n",
    "* Connected to google.ru (64.233.162.94) port 80 (#0)\n",
    "> GET / HTTP/1.1\n",
    "> Host: google.ru\n",
    "> User-Agent: curl/7.75.0\n",
    "> Accept: */*\n",
    ">\n",
    "* Mark bundle as not supporting multiuse\n",
    "< HTTP/1.1 302 Found\n",
    "< Location: http://google.ru/?safe=active\n",
    "< Cache-Control: private\n",
    "< Date: Thu, 19 Feb 2009 11:08:01 GMT\n",
    "< Server: Apache//2.2.6\n",
    "< Content-Type: text/html; charset=windows-1251\n",
    "< Content-Length: 40\n",
    "<\n",
    "{ [40 bytes data]\n",
    "100    40  100    40    0     0    615      0 --:--:-- --:--:-- --:--:--   625<html><body>Mimimimimi!!</body></html>\n",
    "\n",
    "* Connection #0 to host google.ru left intact\n",
    "```\n",
    "\n",
    "\n"
   ]
  },
  {
   "cell_type": "markdown",
   "id": "5353ff02",
   "metadata": {},
   "source": [
    "Разберёмся с тем, что же происходило, после нажатия ентер и отправки запроса. \n",
    "\n",
    "Те строчки которые начинаются с символа \" * \" - это техническая работа запроса. \n",
    "\n",
    "` *   Trying 64.233.162.94:80... `\n",
    "\n",
    "`* Connected to google.ru (64.233.162.94) port 80 (#0)` - попытка выполнения запроса по данному ай пи адресу. все технические процессы происходят с использованием адресов. Так называемое DNS имя. \n",
    "\n",
    "```\n",
    "> GET / HTTP/1.1\n",
    "> Host: google.ru\n",
    "> User-Agent: curl/7.75.0\n",
    "> Accept: */*\n",
    ">\n",
    "``` \n",
    "Непосредственно пошёл наш запрос. То что уходит на сервер перед этим стоит символ \">\".\n",
    "\n",
    "`GET / HTTP/1.1` - идёт гет запрос и протокол мы видим, версию протокола. т.к используем консоль - версия протокола 1.1. работает на более низких уровнях. \n",
    "\n",
    "`> Host: google.ru` адрес к которому мы обращались для выполнения запроса. \n",
    "\n",
    "`> User-Agent: curl/7.75.0`\n",
    "\n",
    "`> Accept: */*` \n",
    "далее идут 2 заголовка без которых ничего работать не будет.  первый заголовок называется `User-Agent:`. В этом заголовке хронится информация о нас как о клиенте, который делает запрос.\n",
    "\n",
    "Мы пришли на google.ru и сказали: здрасти, я curl/7.75.0.  Поактически мы сообщили гуглу, что пришли автоматически собирать данные, т.к наш юзер агент не используется для обычного просмотра сайтов. Мы пользуемся браузером а не консолью как правило. Некоторые ресурсы могут не пустить нас дальше, когда видят User-Agent: curl/7.75.0. \n",
    "\n",
    "`> Accept: */*`  - второй по умолчанию удобно заполненный заголовок. который является обязательным. сообщает о том, в каком формате и в каком виде мы готовы принять ответ от сервера. \"*/*\" означает, что мы готовы принимать всё что угодно в любом формате. \n",
    "Мы берём всё! \n",
    "\n",
    "запрос составлен: \n",
    "- метод: GET \n",
    "- протокол: HTTP/1.1\n",
    "- заголовки: User-Agent, Accept\n",
    "\n",
    "Всё это вместе объединилось и отправилось на сервер. Сервер нас понял. увидел и нам отвечает:\n",
    "```\n",
    "* Mark bundle as not supporting multiuse\n",
    "< HTTP/1.1 302 Found\n",
    "< Location: http://google.ru/?safe=active\n",
    "< Cache-Control: private\n",
    "< Date: Thu, 19 Feb 2009 11:08:01 GMT\n",
    "< Server: Apache//2.2.6\n",
    "< Content-Type: text/html; charset=windows-1251\n",
    "< Content-Length: 40\n",
    "<\n",
    "{ [40 bytes data]\n",
    "100    40  100    40    0     0    615      0 --:--:-- --:--:-- --:--:--   625<html><body>Mimimimimi!!</body></html>\n",
    "\n",
    "* Connection #0 to host google.ru left intact\n",
    "```\n",
    "\n",
    "Отвечает по тому же самому протоколу: \n",
    "`< HTTP/1.1 302 Found`, может работать по другим протоколам и версиям, но ответ даёт по тому же протоколу, по которому был запрос. `302 Found` - идёт статускод. `Found` - разъяснение статускода. \n",
    "\n",
    "Когда мы получаем от сервера 3ХХ статускод, сервер обязан всегда приложить заголовок `< Location:`. Этот заголовок для 300-ых статускодов является обязательным. \n",
    "\n",
    "`< Location: http://google.ru/?safe=active` - куда же перенаправил нас изначальный хост (Host: google.ru). \n",
    "сервер не хочет с нами работать, пока мы не указали все уровни доменов. Домен первого уровня - RU, домен второго уровня - Google. Домен третьего уровня - WWW.\n",
    "\n",
    "`< Content-Type: text/html; charset=windows-1251`\n",
    "\n",
    "`Content-Type:` - говорит о том в каком формате и каком виде нам возвращается ответ. ` text/html` - нам пришёл текстовый ответ, в этом тексте содержится html код. Это один из вариантов который можно вбить например в `> Accept: */*`.  Если это сделать, всё что придёт в ответе помимо этого пролетит мимо нас. \n",
    "также указана кодировка в которой нам пришёл ответ `charset=windows-1251`. \n",
    "\n",
    "При ответе мы получаем и другие дополнительные заголовки. \n",
    "```\n",
    "< Cache-Control: private\n",
    "< Date: Thu, 19 Feb 2009 11:08:01 GMT\n",
    "< Server: Apache//2.2.6\n",
    "< Content-Type: text/html; charset=windows-1251\n",
    "< Content-Length: 40\n",
    "<\n",
    "```\n",
    "\n",
    "Всю эту техническую информацию мы в браузере не видим, когда делаем запросы и переходим по ссылкам. Если нужно это посмотреть, можно воспользоваться консолью разработчика (F12).  На странице браузера же мы видим вот эту часть - тело ответа:\n",
    "```\n",
    "{ [40 bytes data]\n",
    "100    40  100    40    0     0    615      0 --:--:-- --:--:-- --:--:--   625<html><body>Mimimimimi!!</body></html>\n",
    "```\n",
    "\n",
    "В курсе мы будем постоянно говорить об HTML коде и его атрибутах и на этом всё будет построенно. мы будем собирать данные из html кода. "
   ]
  },
  {
   "cell_type": "markdown",
   "id": "a61b161d",
   "metadata": {},
   "source": [
    "изменим немного запрос и посмотрим на результат:\n",
    "#### ` curl -v www.google.ru` ####\n",
    "\n",
    "статускод 200 ОК говорит о том, что процесс завершился корректно. Сервер подстраивается под разные клиенты и разные условия работы. Как правило всегда есть cookee и если всё корректно отрабатывает будет заголовок с куками, которые должны приклеиться как идентификационный номер. И дальше по кукам нас сервер может идентифицировать. \n",
    "\n",
    "\n"
   ]
  },
  {
   "cell_type": "markdown",
   "id": "31d19cc6",
   "metadata": {},
   "source": [
    "Модернизируем наш запрос и замаскируемся под браузер гугл хром. Для этого укажем параметр \"-H\" куда пропишем заголовок \"User-Agent:\". Заголовок возьмём из браузера гугл хром, для этого в адресной строке google-браузера прописываем:`chrome://version`, после чего увидим заголовки и найдём интересующий нас: \n",
    "`User Agent\tMozilla/5.0 (Windows NT 6.3; Win64; x64) AppleWebKit/537.36 (KHTML, like Gecko) Chrome/109.0.0.0 Safari/537.36`:\n",
    "#### `curl -v -H \"User-Agent:\tMozilla/5.0 (Windows NT 6.3; Win64; x64) AppleWebKit/537.36 (KHTML, like Gecko) Chrome/109.0.0.0 Safari/537.36 \"  www.google.ru` ####\n",
    "\n",
    "результат:\n",
    "```\n",
    "$  Trying 216.239.38.120:80...\n",
    "> Host: www.google.ru\n",
    "> Accept: */*\n",
    "> User-Agent:Mozilla/5.0 (Windows NT 6.3; Win64; x64) AppleWebKit/537.36 (KHTML, like Gecko) Chrome/109.0.0.0 Safari/537.36\n",
    ">\n",
    "* Mark bundle as not supporting multiuse\n",
    "< HTTP/1.1 302 Found\n",
    "< Location: http://www.google.ru/?safe=active\n",
    "< Cache-Control: private\n",
    "< Date: Thu, 19 Feb 2009 11:08:01 GMT\n",
    "< Server: Apache//2.2.6\n",
    "< Content-Type: text/html; charset=windows-1251\n",
    "< Content-Length: 40\n",
    "<\n",
    "{ [40 bytes data]\n",
    "100    40  100    40    0     0    655      0 --:--:-- --:--:-- --:--:--   677<html><body>Mimimimimi!!</body></html>\n",
    "\n",
    "```"
   ]
  },
  {
   "cell_type": "markdown",
   "id": "834abfee",
   "metadata": {},
   "source": [
    "Мы видим что поменялся заголовок: \n",
    "`> User-Agent:Mozilla/5.0 (Windows NT 6.3; Win64; x64) AppleWebKit/537.36 (KHTML, like Gecko) Chrome/109.0.0.0 Safari/537.36 `\n",
    "\n",
    "мы видим статус код 302 Found  и перенаправление в локацию:\n",
    "`< Location: http://www.google.ru/?safe=active`\n",
    "Мы изменили информацию о клиенте и для сервера мы теперь его родной браузер. А раз роднойбраузер он хочет работать с нами как с родным браузером по всем стандартам индустрии, а это шифрование и т.д. \n",
    "\n",
    "\n"
   ]
  },
  {
   "cell_type": "markdown",
   "id": "7251fa37",
   "metadata": {},
   "source": [
    "изменим запрос ещё раз указывая и протокол и шифрование и все уровни доменных адресов:\n",
    "#### `curl -v -H \"User-Agent:    Mozilla/5.0 (Windows NT 6.3; Win64; x64) AppleWebKit/537.36 (KHTML, like Gecko) Chrome/109.0.0.0 Safari/537.36 \"  https://www.google.ru ` ####\n",
    "\n",
    "ответ:\n",
    "```\n",
    "Trying 216.239.38.120:443...\n",
    "* Connected to www.google.ru (216.239.38.120) port 443 (#0)\n",
    "* ALPN, offering h2\n",
    "* ALPN, offering http/1.1\n",
    "* successfully set certificate verify locations:\n",
    "*  CAfile: C:/Program Files/Git/mingw64/ssl/certs/ca-bundle.crt\n",
    "*  CApath: none\n",
    "} [5 bytes data]\n",
    "* TLSv1.3 (OUT), TLS handshake, Client hello (1):\n",
    "} [512 bytes data]\n",
    "  0     0    0     0    0     0      0      0 --:--:-- --:--:-- --:--:--     0<!doctype html><html itemscope=\"\" itemtype=\"http://schema.org/WebPage\" lang=\"ru\"><head><meta charset=\"UTF-8\"><meta content=\"origin\" name=\"referrer\"><meta content=\"/images/branding/googleg/1x/googleg_standard_color_128dp.png\" itemprop=\"image\"><link href=\"/manifest?pwa=webhp\" crossorigin=\"use-credentials\" rel=\"manifest\"><title>Google</title><script nonce=\"mcUgtYXBAexcIaO68FfvjQ\">(function(){window.google={kEI:'fCzJY8GdC8-urgTIh5mABQ',kEXPI:'31',kBL:'tS1v'};google.sn='webhp';google.kHL='ru';})();(function(){\n",
    "var f=this||self;var h,k=[];function l(a){for(var b;a&&(!a.getAttribute||!(b=a.getAttribute(\"eid\")));)a=a.parentNode;return b||h}function m(a){for(var b=null;a&&(!a.getAttribute||!(b=a.getAttribute(\"leid\")));)a=a.parentNode;return b}\n",
    "function n(a,b,c,d,g){var e=\"\";c||-1!==b.search(\"&ei=\")||(e=\"&ei=\"+l(d),-1===b.search(\"&lei=\")&&(d=m(d))&&(e+=\"&lei=\"+d));d=\"\";!c&&f._cshid&&-1===b.search(\"&cshid=\")&&\"slh\"!==a&&(d=\"&cshid=\"+f._cshid);c=c||\"/\"+(g||\"gen_204\")+\"?atyp=i&ct=\"+a+\"&cad=\"+b+e+\"&zx=\"+Date.now()+d;/^http:/i.test(c)&&\"https:\"===window.location.protocol&&(google.ml&&google.ml(Error(\"a\"),!1,{src:c,glmm:1}),c=\"\");return c};h=google.kEI;google.getEI=l;google.getLEI=m;google.ml=function(){return null};google.log=function(a,b,c,d,g){if(c=n(a,b,c,d,g)){a=new Image;var e=k.length;k[e]=a;a.onerror=a.onload=a.onabort=function(){delete k[e]};a.src=c}};google.logUrl=n;}).call(this);(function(){google.y={};google.sy=[];google.x=function(a,b){if(a)var c=a.id;else{do c=Math.random();while(google.y[c])}google.y[c]=[a,b];return!1};google.sx=function(a){google.sy.push(a)};google.lm=[];google.plm=func\n",
    "```\n"
   ]
  },
  {
   "cell_type": "markdown",
   "id": "004fd48e",
   "metadata": {},
   "source": [
    "До момента пока дошли до выполнения самого запроса очень много непонятного кода, когда сам момент выполнения запроса:\n",
    "```\n",
    "> GET / HTTP/2\n",
    "> Host: www.google.ru\n",
    "> accept: */*\n",
    "> user-agent:Mozilla/5.0 (Windows NT 6.3; Win64; x64) AppleWebKit/537.36 (KHTML, like Gecko) Chrome/109.0.0.0 Safari/537.36\n",
    ">\n",
    "```\n",
    "А до этого у нас происходит так называемый процесс рукопожатия или TLS handshake. То есть когда мы используем протокол шифрования, браузер-клиент должен знать как шифровать данные, поэтому он сначала идёт до сервера, спрашивает эту информацию у сервера, обмениваются сертификатами шифрования, какими то ещёдополнительными алгоритмами, много других тхнических процессов, и после того как эту информацию всю получили, далее идёт запрос. > > > . После того как прошёл запрос, открывается сессия дешифрования, расшифровываем полученные данные. Заголовков ответа стало много больше. Стартовая страница гугла, которую мы получили с помощью современного клиента. \n",
    "\n",
    "\n"
   ]
  },
  {
   "cell_type": "markdown",
   "id": "80706c0f",
   "metadata": {},
   "source": [
    "Ресурс и сервер одно и тоже, мы отправляли запрос в одно и тоже место, а реакция разная, в зависимости от того, какую обвязку мы делаем вокруг нашего запроса. нужно знать с какими параметрами и заголовками к каким ресурсам надо обращаться, чтобы всё было корректно. "
   ]
  },
  {
   "cell_type": "markdown",
   "id": "6d946720",
   "metadata": {},
   "source": [
    "## C Помощью Пайтон запросы ##"
   ]
  },
  {
   "cell_type": "markdown",
   "id": "3f801ae5",
   "metadata": {},
   "source": [
    "Устанавливаем модуль requests. По сути это curl в оболочке пайтона, который может делать GET запросы.  В консоле пишем команду:\n",
    "#### `pip install requests` ####\n",
    "\n",
    "и начинаем всё с импорта этого модуля:"
   ]
  },
  {
   "cell_type": "code",
   "execution_count": 2,
   "id": "e7753f2f",
   "metadata": {},
   "outputs": [],
   "source": [
    "import requests"
   ]
  },
  {
   "cell_type": "markdown",
   "id": "a76076a1",
   "metadata": {},
   "source": [
    "сделаем get запрос. `requests.метод`. Метод с помощью которого мы будем делать запрос. Используем метод get. Единственным параметром внутри метода будет ссылка. Причём важно, что указывается в ссылке используемый протокол. Причём если не указать протокол, произойдёт ошибка. \n",
    "\n",
    "Как это работает: метод get у модуля requests выполняет запрос методом get по указанной ссылке и возвращает ответ в виде ОБЪЕКТА. Раз возвращает, то нам лучше записать переменную response в которую будет помещён возвращённый ответ."
   ]
  },
  {
   "cell_type": "code",
   "execution_count": 1,
   "id": "15651610",
   "metadata": {},
   "outputs": [],
   "source": [
    "import requests\n",
    "\n",
    "response = requests.get('https://www.google.com')"
   ]
  },
  {
   "cell_type": "markdown",
   "id": "d1c016f1",
   "metadata": {},
   "source": [
    "Теперь посмотрим, что находится внутри этой переменной. "
   ]
  },
  {
   "cell_type": "code",
   "execution_count": 2,
   "id": "c7f4f8ed",
   "metadata": {},
   "outputs": [
    {
     "name": "stdout",
     "output_type": "stream",
     "text": [
      "<Response [200]>\n"
     ]
    }
   ],
   "source": [
    "print(response)"
   ]
  },
  {
   "cell_type": "markdown",
   "id": "2489b483",
   "metadata": {},
   "source": [
    "Так как пайтон интерпритируемый язык, в пайчарме есть возможность запускать код в режиме отладки и смотреть состояние объектов и напрямую на них влиять. Режим отладки - дебагинг. К отладчику в пайчарме полезно будет обучиться. Нам важно смотреть на внутреннее состояние объектов, на разных этапах останавливаться и проверять содержимое, собрались ли данные или нет. \n",
    "Для этого пишем пустую команду print() и ставим на неё брекпоинт (красный кружок на полях), чтобы остановиться в этом месте и посмотреть на содержимое предыдущих выполненных команд кода. \n",
    "\n",
    "У нас есть объект класса Response. Это именно объект, экземпляр класса response. Если мы раскроем этот объект в режими дебагинга, увидим много параметров.  В частности параметр Headers - заголовки. Нам возвращается объект класса Response.\n",
    "\n",
    "В дебагере находим объект, открываем его и видим кучу свойств этого объекта. В частности находим там headers. \n",
    "```\n",
    "{'Date': 'Thu, 19 Jan 2023 17:47:03 GMT', 'Expires': '-1', 'Cache-Control': 'private, max-age=0', 'Content-Type': 'text/html; charset=ISO-8859-1', 'Cross-Origin-Opener-Policy-Report-Only': 'same-origin-allow-popups; report-to=\"gws\"', 'Report-To': '{\"group\":\"gws\",\"max_age\":2592000,\"endpoints\":[{\"url\":\"https://csp.withgoogle.com/csp/report-to/gws/other\"}]}', 'P3P': 'CP=\"This is not a P3P policy! See g.co/p3phelp for more info.\"', 'Content-Encoding': 'gzip', 'Server': 'gws', 'X-XSS-Protection': '0', 'X-Frame-Options': 'SAMEORIGIN', 'Set-Cookie': '1P_JAR=2023-01-19-17; expires=Sat, 18-Feb-2023 17:47:03 GMT; path=/; domain=.google.com; Secure, AEC=ARSKqsLuGo4KUARpkeDR_5t-3epr7hoO-x9zHn5mX2twLn6OwVM19o3u7k4; expires=Tue, 18-Jul-2023 17:47:03 GMT; path=/; domain=.google.com; Secure; HttpOnly; SameSite=lax, NID=511=WTq_XxUeGxRlDMEdki5_dxcVlJlLRdSmjPhtSNWzGEDwcxyikCA7_SPSWcHmxCXev4L3dZHNpPogFHM0TBXTJFUjrtOfPaA4izCg8cR4Gt_pHPKkx-REjAu-0dQtAWfqKb0mmt0CHmHRTAc9Q1pXoJLw4RQiHUMw0YjL8EDcmZ0; expires=Fri, 21-Jul-2023 17:47:03 GMT; path=/; domain=.google.com; HttpOnly', 'Alt-Svc': 'h3=\":443\"; ma=2592000,h3-29=\":443\"; ma=2592000,h3-Q050=\":443\"; ma=2592000,h3-Q046=\":443\"; ma=2592000,h3-Q043=\":443\"; ma=2592000,quic=\":443\"; ma=2592000; v=\"46,43\"', 'Transfer-Encoding': 'chunked'}\n",
    "```\n",
    "\n",
    "также можем получить данные указав метод и параметр:\n"
   ]
  },
  {
   "cell_type": "code",
   "execution_count": 3,
   "id": "e55f970f",
   "metadata": {},
   "outputs": [
    {
     "data": {
      "text/plain": [
       "{'Date': 'Thu, 19 Jan 2023 17:52:11 GMT', 'Expires': '-1', 'Cache-Control': 'private, max-age=0', 'Content-Type': 'text/html; charset=ISO-8859-1', 'Cross-Origin-Opener-Policy-Report-Only': 'same-origin-allow-popups; report-to=\"gws\"', 'Report-To': '{\"group\":\"gws\",\"max_age\":2592000,\"endpoints\":[{\"url\":\"https://csp.withgoogle.com/csp/report-to/gws/other\"}]}', 'P3P': 'CP=\"This is not a P3P policy! See g.co/p3phelp for more info.\"', 'Content-Encoding': 'gzip', 'Server': 'gws', 'X-XSS-Protection': '0', 'X-Frame-Options': 'SAMEORIGIN', 'Set-Cookie': '1P_JAR=2023-01-19-17; expires=Sat, 18-Feb-2023 17:52:11 GMT; path=/; domain=.google.com; Secure, AEC=ARSKqsK42LAFJrrsqqtKbAfK1LyktrPMRtz5bhdy-nTE0YyLqdDI5M7zbKM; expires=Tue, 18-Jul-2023 17:52:11 GMT; path=/; domain=.google.com; Secure; HttpOnly; SameSite=lax, NID=511=ozZu8-J7kRbWYPOUrd3YUueVcquSfiaBmfsOoqvTJVQWGC5IL3ft3hJ1xEkrDn2D4RV3sDJmTAJjFIBmJRYZysWD147yh7bNheS9oHTI5SROlpCEWHBY7sTkYc1zBULzB8D-hSLPP8N2nZ380GdLOf27uqlLKekQ5Ei3-N2_0YY; expires=Fri, 21-Jul-2023 17:52:11 GMT; path=/; domain=.google.com; HttpOnly', 'Alt-Svc': 'h3=\":443\"; ma=2592000,h3-29=\":443\"; ma=2592000,h3-Q050=\":443\"; ma=2592000,h3-Q046=\":443\"; ma=2592000,h3-Q043=\":443\"; ma=2592000,quic=\":443\"; ma=2592000; v=\"46,43\"', 'Transfer-Encoding': 'chunked'}"
      ]
     },
     "execution_count": 3,
     "metadata": {},
     "output_type": "execute_result"
    }
   ],
   "source": [
    "response.headers"
   ]
  },
  {
   "cell_type": "markdown",
   "id": "9bfacbaa",
   "metadata": {},
   "source": [
    "То есть мы работаем с этим объектом. Можем читать его свойства и выполнять методы с этим объектом. Так нам сейчасвернулись в все заголовки причём в виде словаря. То есть если нам нужно посмотреть например Content-Type:"
   ]
  },
  {
   "cell_type": "code",
   "execution_count": 4,
   "id": "e55698d1",
   "metadata": {},
   "outputs": [
    {
     "data": {
      "text/plain": [
       "'text/html; charset=ISO-8859-1'"
      ]
     },
     "execution_count": 4,
     "metadata": {},
     "output_type": "execute_result"
    }
   ],
   "source": [
    "response.headers.get('Content-Type')"
   ]
  },
  {
   "cell_type": "markdown",
   "id": "b5897436",
   "metadata": {},
   "source": [
    "нам возвращается конкретный заголовок. "
   ]
  },
  {
   "cell_type": "markdown",
   "id": "34debf35",
   "metadata": {},
   "source": [
    "### Основные возможности модуля ###"
   ]
  },
  {
   "cell_type": "markdown",
   "id": "71ee282b",
   "metadata": {},
   "source": [
    "проверка успешности завершения запроса"
   ]
  },
  {
   "cell_type": "code",
   "execution_count": 5,
   "id": "484c06f3",
   "metadata": {},
   "outputs": [
    {
     "data": {
      "text/plain": [
       "200"
      ]
     },
     "execution_count": 5,
     "metadata": {},
     "output_type": "execute_result"
    }
   ],
   "source": [
    "response.status_code"
   ]
  },
  {
   "cell_type": "markdown",
   "id": "0ad20433",
   "metadata": {},
   "source": [
    "от этого можно писать код, мы убеждаемся что запрос прошёл успешно, а дальше логика . 200 возвращается всегда, когда всё хорошо. Но привязка именно к 200 статус коду не весьма корректна, так как есть другие статус коды успешной операции. "
   ]
  },
  {
   "cell_type": "code",
   "execution_count": 6,
   "id": "88c7abf2",
   "metadata": {},
   "outputs": [],
   "source": [
    "if response.status_code == 200:\n",
    "    pass"
   ]
  },
  {
   "cell_type": "markdown",
   "id": "37f7d5e5",
   "metadata": {},
   "source": [
    "более точная проверка успешности есть внутри статуса ОК. если всё в порядке нам возвращается True. если статускоды строго меньше 400 нам возвращается True, иначе возвращается False."
   ]
  },
  {
   "cell_type": "code",
   "execution_count": 7,
   "id": "edc4f4a4",
   "metadata": {},
   "outputs": [
    {
     "data": {
      "text/plain": [
       "True"
      ]
     },
     "execution_count": 7,
     "metadata": {},
     "output_type": "execute_result"
    }
   ],
   "source": [
    "response.ok"
   ]
  },
  {
   "cell_type": "code",
   "execution_count": 8,
   "id": "1556d9c5",
   "metadata": {},
   "outputs": [],
   "source": [
    "if response.ok:\n",
    "    pass"
   ]
  },
  {
   "cell_type": "markdown",
   "id": "db8a888f",
   "metadata": {},
   "source": [
    "Отдельно хронится encoding - кодировка. Если она нам понадобится "
   ]
  },
  {
   "cell_type": "code",
   "execution_count": 10,
   "id": "d50d982d",
   "metadata": {},
   "outputs": [
    {
     "data": {
      "text/plain": [
       "'ISO-8859-1'"
      ]
     },
     "execution_count": 10,
     "metadata": {},
     "output_type": "execute_result"
    }
   ],
   "source": [
    "response.encoding"
   ]
  },
  {
   "cell_type": "markdown",
   "id": "698adb3e",
   "metadata": {},
   "source": [
    "посмотреть тело нашего ответа. Актуально лишь в том случае, когда у нас 'Content-Type': 'text/html; Именно там будет содержаться HTML код нашего ответа. Здесь будет содержаться нужная нам информация, когда мы парсим."
   ]
  },
  {
   "cell_type": "code",
   "execution_count": 11,
   "id": "5aefc9d5",
   "metadata": {},
   "outputs": [
    {
     "data": {
      "text/plain": [
       "'<!doctype html><html itemscope=\"\" itemtype=\"http://schema.org/WebPage\" lang=\"ru\"><head><meta content=\"&#1055;&#1086;&#1080;&#1089;&#1082; &#1080;&#1085;&#1092;&#1086;&#1088;&#1084;&#1072;&#1094;&#1080;&#1080; &#1074; &#1080;&#1085;&#1090;&#1077;&#1088;&#1085;&#1077;&#1090;&#1077;: &#1074;&#1077;&#1073; &#1089;&#1090;&#1088;&#1072;&#1085;&#1080;&#1094;&#1099;, &#1082;&#1072;&#1088;&#1090;&#1080;&#1085;&#1082;&#1080;, &#1074;&#1080;&#1076;&#1077;&#1086; &#1080; &#1084;&#1085;&#1086;&#1075;&#1086;&#1077; &#1076;&#1088;&#1091;&#1075;&#1086;&#1077;.\" name=\"description\"><meta content=\"noodp\" name=\"robots\"><meta content=\"text/html; charset=UTF-8\" http-equiv=\"Content-Type\"><meta content=\"/images/branding/googleg/1x/googleg_standard_color_128dp.png\" itemprop=\"image\"><title>Google</title><script nonce=\"sHgtjH5okNOpevtDhCb1SQ\">(function(){window.google={kEI:\\'S4PJY8yTEpiExc8P7Piq0A8\\',kEXPI:\\'0,1359409,6059,206,4804,2316,383,246,5,1129120,1197771,754,379965,16115,28684,22430,1362,12317,17582,4998,13228,3847,6884,3738,22741,5081,1593,1279,2743,148,1103,840,2197,4100,3514,606,2023,2297,14670,3227,2845,7,4774,34,791,19390,4086,4695,1851,6514,9242,3,346,230,6460,148,13975,4,1528,2304,7039,3580,16729,7422,7357,27453,7428,5812,2545,4094,17,4035,3,3541,1,14261,24781,2,3110,2,14022,1649,4600,19490,6700,31121,4568,6256,23421,1252,5835,14967,4333,7484,445,2,2,1,26632,8155,7381,1480,14490,873,19633,7,1922,5784,3995,7783,11347,1510,750,9932,4832,8312,18192,11812,8324,14,82,4641,15565,1622,1778,670,3182,1125,8048,942,5901,721,1020,2356,252,3002,565,7,558,991,782,2248,427,1033,42,291,2669,723,144,12,770,1410,20,3,867,136,2125,424,3344,1376,947,312,45,500,75,29,463,259,2846,1211,1037,432,434,761,1668,1052,16,184,5,29,1620,108,359,103,218,85,238,23,102,426,6,14,3,179,1858,128,841,573,2118,1570,1122,381,297,12,108,1212,157,949,2,3,17,2,3,41,179,357,919,258,675,184,82,104,1163,1392,336,1436,44,212,2,355,20,112,2,63,984,4565,9,209,252,437,89,5,1852,136,579,87,1575,2,187,1901,577,188,448,656,5266495,39,2,5,44,8798799,3311,141,795,19735,1,1,346,3831,20726633,2920772,299249,550,4041592,7379,11257,3103,303,5595,11,3835,7196,196\\',kBL:\\'tS1v\\'};google.sn=\\'webhp\\';google.kHL=\\'ru\\';})();(function(){\\nvar f=this||self;var h,k=[];function l(a){for(var b;a&&(!a.getAttribute||!(b=a.getAttribute(\"eid\")));)a=a.parentNode;return b||h}function m(a){for(var b=null;a&&(!a.getAttribute||!(b=a.getAttribute(\"leid\")));)a=a.parentNode;return b}\\nfunction n(a,b,c,d,g){var e=\"\";c||-1!==b.search(\"&ei=\")||(e=\"&ei=\"+l(d),-1===b.search(\"&lei=\")&&(d=m(d))&&(e+=\"&lei=\"+d));d=\"\";!c&&f._cshid&&-1===b.search(\"&cshid=\")&&\"slh\"!==a&&(d=\"&cshid=\"+f._cshid);c=c||\"/\"+(g||\"gen_204\")+\"?atyp=i&ct=\"+a+\"&cad=\"+b+e+\"&zx=\"+Date.now()+d;/^http:/i.test(c)&&\"https:\"===window.location.protocol&&(google.ml&&google.ml(Error(\"a\"),!1,{src:c,glmm:1}),c=\"\");return c};h=google.kEI;google.getEI=l;google.getLEI=m;google.ml=function(){return null};google.log=function(a,b,c,d,g){if(c=n(a,b,c,d,g)){a=new Image;var e=k.length;k[e]=a;a.onerror=a.onload=a.onabort=function(){delete k[e]};a.src=c}};google.logUrl=n;}).call(this);(function(){google.y={};google.sy=[];google.x=function(a,b){if(a)var c=a.id;else{do c=Math.random();while(google.y[c])}google.y[c]=[a,b];return!1};google.sx=function(a){google.sy.push(a)};google.lm=[];google.plm=function(a){google.lm.push.apply(google.lm,a)};google.lq=[];google.load=function(a,b,c){google.lq.push([[a],b,c])};google.loadAll=function(a,b){google.lq.push([a,b])};google.bx=!1;google.lx=function(){};}).call(this);google.f={};(function(){\\ndocument.documentElement.addEventListener(\"submit\",function(b){var a;if(a=b.target){var c=a.getAttribute(\"data-submitfalse\");a=\"1\"===c||\"q\"===c&&!a.elements.q.value?!0:!1}else a=!1;a&&(b.preventDefault(),b.stopPropagation())},!0);document.documentElement.addEventListener(\"click\",function(b){var a;a:{for(a=b.target;a&&a!==document.documentElement;a=a.parentElement)if(\"A\"===a.tagName){a=\"1\"===a.getAttribute(\"data-nohref\");break a}a=!1}a&&b.preventDefault()},!0);}).call(this);</script><style>#gbar,#guser{font-size:13px;padding-top:1px !important;}#gbar{height:22px}#guser{padding-bottom:7px !important;text-align:right}.gbh,.gbd{border-top:1px solid #c9d7f1;font-size:1px}.gbh{height:0;position:absolute;top:24px;width:100%}@media all{.gb1{height:22px;margin-right:.5em;vertical-align:top}#gbar{float:left}}a.gb1,a.gb4{text-decoration:underline !important}a.gb1,a.gb4{color:#00c !important}.gbi .gb4{color:#dd8e27 !important}.gbf .gb4{color:#900 !important}\\n</style><style>body,td,a,p,.h{font-family:arial,sans-serif}body{margin:0;overflow-y:scroll}#gog{padding:3px 8px 0}td{line-height:.8em}.gac_m td{line-height:17px}form{margin-bottom:20px}.h{color:#1558d6}em{font-weight:bold;font-style:normal}.lst{height:25px;width:496px}.gsfi,.lst{font:18px arial,sans-serif}.gsfs{font:17px arial,sans-serif}.ds{display:inline-box;display:inline-block;margin:3px 0 4px;margin-left:4px}input{font-family:inherit}body{background:#fff;color:#000}a{color:#4b11a8;text-decoration:none}a:hover,a:active{text-decoration:underline}.fl a{color:#1558d6}a:visited{color:#4b11a8}.sblc{padding-top:5px}.sblc a{display:block;margin:2px 0;margin-left:13px;font-size:11px}.lsbb{background:#f8f9fa;border:solid 1px;border-color:#dadce0 #70757a #70757a #dadce0;height:30px}.lsbb{display:block}#WqQANb a{display:inline-block;margin:0 12px}.lsb{background:url(/images/nav_logo229.png) 0 -261px repeat-x;border:none;color:#000;cursor:pointer;height:30px;margin:0;outline:0;font:15px arial,sans-serif;vertical-align:top}.lsb:active{background:#dadce0}.lst:focus{outline:none}.Ucigb{width:458px}</style><script nonce=\"sHgtjH5okNOpevtDhCb1SQ\">(function(){window.google.erd={jsr:1,bv:1725,de:true};\\nvar h=this||self;var k,l=null!=(k=h.mei)?k:1,n,p=null!=(n=h.sdo)?n:!0,q=0,r,t=google.erd,v=t.jsr;google.ml=function(a,b,d,m,e){e=void 0===e?2:e;b&&(r=a&&a.message);if(google.dl)return google.dl(a,e,d),null;if(0>v){window.console&&console.error(a,d);if(-2===v)throw a;b=!1}else b=!a||!a.message||\"Error loading script\"===a.message||q>=l&&!m?!1:!0;if(!b)return null;q++;d=d||{};b=encodeURIComponent;var c=\"/gen_204?atyp=i&ei=\"+b(google.kEI);google.kEXPI&&(c+=\"&jexpid=\"+b(google.kEXPI));c+=\"&srcpg=\"+b(google.sn)+\"&jsr=\"+b(t.jsr)+\"&bver=\"+b(t.bv);var f=a.lineNumber;void 0!==f&&(c+=\"&line=\"+f);var g=\\na.fileName;g&&(0<g.indexOf(\"-extension:/\")&&(e=3),c+=\"&script=\"+b(g),f&&g===window.location.href&&(f=document.documentElement.outerHTML.split(\"\\\\n\")[f],c+=\"&cad=\"+b(f?f.substring(0,300):\"No script found.\")));c+=\"&jsel=\"+e;for(var u in d)c+=\"&\",c+=b(u),c+=\"=\",c+=b(d[u]);c=c+\"&emsg=\"+b(a.name+\": \"+a.message);c=c+\"&jsst=\"+b(a.stack||\"N/A\");12288<=c.length&&(c=c.substr(0,12288));a=c;m||google.log(0,\"\",a);return a};window.onerror=function(a,b,d,m,e){r!==a&&(a=e instanceof Error?e:Error(a),void 0===d||\"lineNumber\"in a||(a.lineNumber=d),void 0===b||\"fileName\"in a||(a.fileName=b),google.ml(a,!1,void 0,!1,\"SyntaxError\"===a.name||\"SyntaxError\"===a.message.substring(0,11)||-1!==a.message.indexOf(\"Script error\")?3:0));r=null;p&&q>=l&&(window.onerror=null)};})();</script></head><body bgcolor=\"#fff\"><script nonce=\"sHgtjH5okNOpevtDhCb1SQ\">(function(){var src=\\'/images/nav_logo229.png\\';var iesg=false;document.body.onload = function(){window.n && window.n();if (document.images){new Image().src=src;}\\nif (!iesg){document.f&&document.f.q.focus();document.gbqf&&document.gbqf.q.focus();}\\n}\\n})();</script><div id=\"mngb\"><div id=gbar><nobr><b class=gb1>&#1055;&#1086;&#1080;&#1089;&#1082;</b> <a class=gb1 href=\"https://www.google.ru/imghp?hl=ru&tab=wi\">&#1050;&#1072;&#1088;&#1090;&#1080;&#1085;&#1082;&#1080;</a> <a class=gb1 href=\"https://maps.google.ru/maps?hl=ru&tab=wl\">&#1050;&#1072;&#1088;&#1090;&#1099;</a> <a class=gb1 href=\"https://play.google.com/?hl=ru&tab=w8\">Play</a> <a class=gb1 href=\"https://www.youtube.com/?tab=w1\">YouTube</a> <a class=gb1 href=\"https://news.google.com/?tab=wn\">&#1053;&#1086;&#1074;&#1086;&#1089;&#1090;&#1080;</a> <a class=gb1 href=\"https://mail.google.com/mail/?tab=wm\">&#1055;&#1086;&#1095;&#1090;&#1072;</a> <a class=gb1 href=\"https://drive.google.com/?tab=wo\">&#1044;&#1080;&#1089;&#1082;</a> <a class=gb1 style=\"text-decoration:none\" href=\"https://www.google.ru/intl/ru/about/products?tab=wh\"><u>&#1045;&#1097;&#1105;</u> &raquo;</a></nobr></div><div id=guser width=100%><nobr><span id=gbn class=gbi></span><span id=gbf class=gbf></span><span id=gbe></span><a href=\"http://www.google.ru/history/optout?hl=ru\" class=gb4>&#1048;&#1089;&#1090;&#1086;&#1088;&#1080;&#1103; &#1074;&#1077;&#1073;-&#1087;&#1086;&#1080;&#1089;&#1082;&#1072;</a> | <a  href=\"/preferences?hl=ru\" class=gb4>&#1053;&#1072;&#1089;&#1090;&#1088;&#1086;&#1081;&#1082;&#1080;</a> | <a target=_top id=gb_70 href=\"https://accounts.google.com/ServiceLogin?hl=ru&passive=true&continue=https://www.google.com/&ec=GAZAAQ\" class=gb4>&#1042;&#1086;&#1081;&#1090;&#1080;</a></nobr></div><div class=gbh style=left:0></div><div class=gbh style=right:0></div></div><center><br clear=\"all\" id=\"lgpd\"><div id=\"lga\"><img alt=\"Google\" height=\"92\" src=\"/images/branding/googlelogo/1x/googlelogo_white_background_color_272x92dp.png\" style=\"padding:28px 0 14px\" width=\"272\" id=\"hplogo\"><br><br></div><form action=\"/search\" name=\"f\"><table cellpadding=\"0\" cellspacing=\"0\"><tr valign=\"top\"><td width=\"25%\">&nbsp;</td><td align=\"center\" nowrap=\"\"><input name=\"ie\" value=\"ISO-8859-1\" type=\"hidden\"><input value=\"ru\" name=\"hl\" type=\"hidden\"><input name=\"source\" type=\"hidden\" value=\"hp\"><input name=\"biw\" type=\"hidden\"><input name=\"bih\" type=\"hidden\"><div class=\"ds\" style=\"height:32px;margin:4px 0\"><div style=\"position:relative;zoom:1\"><input class=\"lst Ucigb\" style=\"margin:0;padding:5px 8px 0 6px;vertical-align:top;color:#000;padding-right:38px\" autocomplete=\"off\" value=\"\" title=\"&#1055;&#1086;&#1080;&#1089;&#1082; &#1074; Google\" maxlength=\"2048\" name=\"q\" size=\"57\"><img src=\"/textinputassistant/tia.png\" style=\"position:absolute;cursor:pointer;right:5px;top:4px;z-index:300\" data-script-url=\"/textinputassistant/11/ru_tia.js\" id=\"tsuid_1\" alt=\"\" height=\"23\" width=\"27\"><script nonce=\"sHgtjH5okNOpevtDhCb1SQ\">(function(){var id=\\'tsuid_1\\';document.getElementById(id).onclick = function(){var s = document.createElement(\\'script\\');s.src = this.getAttribute(\\'data-script-url\\');(document.getElementById(\\'xjsc\\')||document.body).appendChild(s);};})();</script></div></div><br style=\"line-height:0\"><span class=\"ds\"><span class=\"lsbb\"><input class=\"lsb\" value=\"&#1055;&#1086;&#1080;&#1089;&#1082; &#1074; Google\" name=\"btnG\" type=\"submit\"></span></span><span class=\"ds\"><span class=\"lsbb\"><input class=\"lsb\" id=\"tsuid_2\" value=\"&#1052;&#1085;&#1077; &#1087;&#1086;&#1074;&#1077;&#1079;&#1105;&#1090;!\" name=\"btnI\" type=\"submit\"><script nonce=\"sHgtjH5okNOpevtDhCb1SQ\">(function(){var id=\\'tsuid_2\\';document.getElementById(id).onclick = function(){if (this.form.q.value){this.checked = 1;if (this.form.iflsig)this.form.iflsig.disabled = false;}\\nelse top.location=\\'/doodles/\\';};})();</script><input value=\"AK50M_UAAAAAY8mRW9jFj9ZnGHdFKvQVv7reBJv4RC2b\" name=\"iflsig\" type=\"hidden\"></span></span></td><td class=\"fl sblc\" align=\"left\" nowrap=\"\" width=\"25%\"><a href=\"/advanced_search?hl=ru&amp;authuser=0\">&#1056;&#1072;&#1089;&#1096;&#1080;&#1088;&#1077;&#1085;&#1085;&#1099;&#1081; &#1087;&#1086;&#1080;&#1089;&#1082;</a></td></tr></table><input id=\"gbv\" name=\"gbv\" type=\"hidden\" value=\"1\"><script nonce=\"sHgtjH5okNOpevtDhCb1SQ\">(function(){var a,b=\"1\";if(document&&document.getElementById)if(\"undefined\"!=typeof XMLHttpRequest)b=\"2\";else if(\"undefined\"!=typeof ActiveXObject){var c,d,e=[\"MSXML2.XMLHTTP.6.0\",\"MSXML2.XMLHTTP.3.0\",\"MSXML2.XMLHTTP\",\"Microsoft.XMLHTTP\"];for(c=0;d=e[c++];)try{new ActiveXObject(d),b=\"2\"}catch(h){}}a=b;if(\"2\"==a&&-1==location.search.indexOf(\"&gbv=2\")){var f=google.gbvu,g=document.getElementById(\"gbv\");g&&(g.value=a);f&&window.setTimeout(function(){location.href=f},0)};}).call(this);</script></form><div id=\"gac_scont\"></div><div style=\"font-size:83%;min-height:3.5em\"><br></div><span id=\"footer\"><div style=\"font-size:10pt\"><div style=\"margin:19px auto;text-align:center\" id=\"WqQANb\"><a href=\"http://www.google.ru/intl/ru/services/\">&#1056;&#1077;&#1096;&#1077;&#1085;&#1080;&#1103; &#1076;&#1083;&#1103; &#1073;&#1080;&#1079;&#1085;&#1077;&#1089;&#1072;</a><a href=\"/intl/ru/about.html\">&#1042;&#1089;&#1105; &#1086; Google</a><a href=\"https://www.google.com/setprefdomain?prefdom=RU&amp;prev=https://www.google.ru/&amp;sig=K_0LDS_OMO6t4PJIkLx85caK0oXoQ%3D\">Google.ru</a></div></div><p style=\"font-size:8pt;color:#70757a\">&copy; 2023 - <a href=\"/intl/ru/policies/privacy/\">&#1050;&#1086;&#1085;&#1092;&#1080;&#1076;&#1077;&#1085;&#1094;&#1080;&#1072;&#1083;&#1100;&#1085;&#1086;&#1089;&#1090;&#1100;</a> - <a href=\"/intl/ru/policies/terms/\">&#1059;&#1089;&#1083;&#1086;&#1074;&#1080;&#1103;</a></p></span></center><script nonce=\"sHgtjH5okNOpevtDhCb1SQ\">(function(){window.google.cdo={height:757,width:1440};(function(){var a=window.innerWidth,b=window.innerHeight;if(!a||!b){var c=window.document,d=\"CSS1Compat\"==c.compatMode?c.documentElement:c.body;a=d.clientWidth;b=d.clientHeight}a&&b&&(a!=google.cdo.width||b!=google.cdo.height)&&google.log(\"\",\"\",\"/client_204?&atyp=i&biw=\"+a+\"&bih=\"+b+\"&ei=\"+google.kEI);}).call(this);})();</script> <script nonce=\"sHgtjH5okNOpevtDhCb1SQ\">(function(){google.xjs={ck:\\'xjs.hp.L0TU2uVtv08.L.X.O\\',cs:\\'ACT90oHeLfC1hgHEDBDi6VKV3pA236AYOw\\',excm:[]};})();</script>  <script nonce=\"sHgtjH5okNOpevtDhCb1SQ\">(function(){var u=\\'/xjs/_/js/k\\\\x3dxjs.hp.en.8UPhvtaCaYg.O/am\\\\x3dAADoBABQAGAB/d\\\\x3d1/ed\\\\x3d1/rs\\\\x3dACT90oGGty4VLK7SJASQ1Wph716ETKGnxQ/m\\\\x3dsb_he,d\\';var amd=0;\\nvar d=this||self,e=function(a){return a};var g;var l=function(a,b){this.g=b===h?a:\"\"};l.prototype.toString=function(){return this.g+\"\"};var h={};\\nfunction m(){var a=u;google.lx=function(){p(a);google.lx=function(){}};google.bx||google.lx()}\\nfunction p(a){google.timers&&google.timers.load&&google.tick&&google.tick(\"load\",\"xjsls\");var b=document;var c=\"SCRIPT\";\"application/xhtml+xml\"===b.contentType&&(c=c.toLowerCase());c=b.createElement(c);a=null===a?\"null\":void 0===a?\"undefined\":a;if(void 0===g){b=null;var k=d.trustedTypes;if(k&&k.createPolicy){try{b=k.createPolicy(\"goog#html\",{createHTML:e,createScript:e,createScriptURL:e})}catch(q){d.console&&d.console.error(q.message)}g=b}else g=b}a=(b=g)?b.createScriptURL(a):a;a=new l(a,h);c.src=\\na instanceof l&&a.constructor===l?a.g:\"type_error:TrustedResourceUrl\";var f,n;(f=(a=null==(n=(f=(c.ownerDocument&&c.ownerDocument.defaultView||window).document).querySelector)?void 0:n.call(f,\"script[nonce]\"))?a.nonce||a.getAttribute(\"nonce\")||\"\":\"\")&&c.setAttribute(\"nonce\",f);document.body.appendChild(c);google.psa=!0};google.xjsu=u;setTimeout(function(){0<amd?google.caft(function(){return m()},amd):m()},0);})();function _DumpException(e){throw e;}\\nfunction _F_installCss(c){}\\n(function(){google.jl={blt:\\'none\\',chnk:0,dw:false,dwu:true,emtn:0,end:0,ico:false,ikb:0,ine:false,injs:\\'none\\',injt:0,injth:0,injv2:false,lls:\\'default\\',pdt:0,rep:0,snet:true,strt:0,ubm:false,uwp:true};})();(function(){var pmc=\\'{\\\\x22d\\\\x22:{},\\\\x22sb_he\\\\x22:{\\\\x22agen\\\\x22:true,\\\\x22cgen\\\\x22:true,\\\\x22client\\\\x22:\\\\x22heirloom-hp\\\\x22,\\\\x22dh\\\\x22:true,\\\\x22ds\\\\x22:\\\\x22\\\\x22,\\\\x22fl\\\\x22:true,\\\\x22host\\\\x22:\\\\x22google.com\\\\x22,\\\\x22jsonp\\\\x22:true,\\\\x22msgs\\\\x22:{\\\\x22cibl\\\\x22:\\\\x22&#1059;&#1076;&#1072;&#1083;&#1080;&#1090;&#1100; &#1087;&#1086;&#1080;&#1089;&#1082;&#1086;&#1074;&#1099;&#1081; &#1079;&#1072;&#1087;&#1088;&#1086;&#1089;\\\\x22,\\\\x22dym\\\\x22:\\\\x22&#1042;&#1086;&#1079;&#1084;&#1086;&#1078;&#1085;&#1086;, &#1074;&#1099; &#1080;&#1084;&#1077;&#1083;&#1080; &#1074; &#1074;&#1080;&#1076;&#1091;:\\\\x22,\\\\x22lcky\\\\x22:\\\\x22&#1052;&#1085;&#1077; &#1087;&#1086;&#1074;&#1077;&#1079;&#1105;&#1090;!\\\\x22,\\\\x22lml\\\\x22:\\\\x22&#1055;&#1086;&#1076;&#1088;&#1086;&#1073;&#1085;&#1077;&#1077;...\\\\x22,\\\\x22psrc\\\\x22:\\\\x22&#1069;&#1090;&#1086;&#1090; &#1079;&#1072;&#1087;&#1088;&#1086;&#1089; &#1073;&#1099;&#1083; &#1091;&#1076;&#1072;&#1083;&#1077;&#1085; &#1080;&#1079; &#1074;&#1072;&#1096;&#1077;&#1081; \\\\\\\\u003Ca href\\\\x3d\\\\\\\\\\\\x22/history\\\\\\\\\\\\x22\\\\\\\\u003E&#1080;&#1089;&#1090;&#1086;&#1088;&#1080;&#1080; &#1074;&#1077;&#1073;-&#1087;&#1086;&#1080;&#1089;&#1082;&#1072;\\\\\\\\u003C/a\\\\\\\\u003E\\\\x22,\\\\x22psrl\\\\x22:\\\\x22&#1059;&#1076;&#1072;&#1083;&#1080;&#1090;&#1100;\\\\x22,\\\\x22sbit\\\\x22:\\\\x22&#1055;&#1086;&#1080;&#1089;&#1082; &#1087;&#1086; &#1082;&#1072;&#1088;&#1090;&#1080;&#1085;&#1082;&#1077;\\\\x22,\\\\x22srch\\\\x22:\\\\x22&#1055;&#1086;&#1080;&#1089;&#1082; &#1074; Google\\\\x22},\\\\x22ovr\\\\x22:{},\\\\x22pq\\\\x22:\\\\x22\\\\x22,\\\\x22rfs\\\\x22:[],\\\\x22sbas\\\\x22:\\\\x220 3px 8px 0 rgba(0,0,0,0.2),0 0 0 1px rgba(0,0,0,0.08)\\\\x22,\\\\x22stok\\\\x22:\\\\x22PAxFoYdAFvCAv1Bu-BFWe_ayH74\\\\x22}}\\';google.pmc=JSON.parse(pmc);})();</script>        </body></html>'"
      ]
     },
     "execution_count": 11,
     "metadata": {},
     "output_type": "execute_result"
    }
   ],
   "source": [
    "response.text"
   ]
  },
  {
   "cell_type": "markdown",
   "id": "c911133d",
   "metadata": {},
   "source": [
    "Скачивание файлов также постороено на выполнение GET запросов. Поэтому можно пользоваться респонс контентом которых хронит в себе бинарное содержимое ответа на наш запрос. Информация будет содержаться без искажений, т.к не зависит от кодировки. В том виде в котором нам её отправил сервер. Главное правильно сохронить это содержимое."
   ]
  },
  {
   "cell_type": "code",
   "execution_count": 12,
   "id": "57a2ed7d",
   "metadata": {},
   "outputs": [
    {
     "data": {
      "text/plain": [
       "b'<!doctype html><html itemscope=\"\" itemtype=\"http://schema.org/WebPage\" lang=\"ru\"><head><meta content=\"&#1055;&#1086;&#1080;&#1089;&#1082; &#1080;&#1085;&#1092;&#1086;&#1088;&#1084;&#1072;&#1094;&#1080;&#1080; &#1074; &#1080;&#1085;&#1090;&#1077;&#1088;&#1085;&#1077;&#1090;&#1077;: &#1074;&#1077;&#1073; &#1089;&#1090;&#1088;&#1072;&#1085;&#1080;&#1094;&#1099;, &#1082;&#1072;&#1088;&#1090;&#1080;&#1085;&#1082;&#1080;, &#1074;&#1080;&#1076;&#1077;&#1086; &#1080; &#1084;&#1085;&#1086;&#1075;&#1086;&#1077; &#1076;&#1088;&#1091;&#1075;&#1086;&#1077;.\" name=\"description\"><meta content=\"noodp\" name=\"robots\"><meta content=\"text/html; charset=UTF-8\" http-equiv=\"Content-Type\"><meta content=\"/images/branding/googleg/1x/googleg_standard_color_128dp.png\" itemprop=\"image\"><title>Google</title><script nonce=\"sHgtjH5okNOpevtDhCb1SQ\">(function(){window.google={kEI:\\'S4PJY8yTEpiExc8P7Piq0A8\\',kEXPI:\\'0,1359409,6059,206,4804,2316,383,246,5,1129120,1197771,754,379965,16115,28684,22430,1362,12317,17582,4998,13228,3847,6884,3738,22741,5081,1593,1279,2743,148,1103,840,2197,4100,3514,606,2023,2297,14670,3227,2845,7,4774,34,791,19390,4086,4695,1851,6514,9242,3,346,230,6460,148,13975,4,1528,2304,7039,3580,16729,7422,7357,27453,7428,5812,2545,4094,17,4035,3,3541,1,14261,24781,2,3110,2,14022,1649,4600,19490,6700,31121,4568,6256,23421,1252,5835,14967,4333,7484,445,2,2,1,26632,8155,7381,1480,14490,873,19633,7,1922,5784,3995,7783,11347,1510,750,9932,4832,8312,18192,11812,8324,14,82,4641,15565,1622,1778,670,3182,1125,8048,942,5901,721,1020,2356,252,3002,565,7,558,991,782,2248,427,1033,42,291,2669,723,144,12,770,1410,20,3,867,136,2125,424,3344,1376,947,312,45,500,75,29,463,259,2846,1211,1037,432,434,761,1668,1052,16,184,5,29,1620,108,359,103,218,85,238,23,102,426,6,14,3,179,1858,128,841,573,2118,1570,1122,381,297,12,108,1212,157,949,2,3,17,2,3,41,179,357,919,258,675,184,82,104,1163,1392,336,1436,44,212,2,355,20,112,2,63,984,4565,9,209,252,437,89,5,1852,136,579,87,1575,2,187,1901,577,188,448,656,5266495,39,2,5,44,8798799,3311,141,795,19735,1,1,346,3831,20726633,2920772,299249,550,4041592,7379,11257,3103,303,5595,11,3835,7196,196\\',kBL:\\'tS1v\\'};google.sn=\\'webhp\\';google.kHL=\\'ru\\';})();(function(){\\nvar f=this||self;var h,k=[];function l(a){for(var b;a&&(!a.getAttribute||!(b=a.getAttribute(\"eid\")));)a=a.parentNode;return b||h}function m(a){for(var b=null;a&&(!a.getAttribute||!(b=a.getAttribute(\"leid\")));)a=a.parentNode;return b}\\nfunction n(a,b,c,d,g){var e=\"\";c||-1!==b.search(\"&ei=\")||(e=\"&ei=\"+l(d),-1===b.search(\"&lei=\")&&(d=m(d))&&(e+=\"&lei=\"+d));d=\"\";!c&&f._cshid&&-1===b.search(\"&cshid=\")&&\"slh\"!==a&&(d=\"&cshid=\"+f._cshid);c=c||\"/\"+(g||\"gen_204\")+\"?atyp=i&ct=\"+a+\"&cad=\"+b+e+\"&zx=\"+Date.now()+d;/^http:/i.test(c)&&\"https:\"===window.location.protocol&&(google.ml&&google.ml(Error(\"a\"),!1,{src:c,glmm:1}),c=\"\");return c};h=google.kEI;google.getEI=l;google.getLEI=m;google.ml=function(){return null};google.log=function(a,b,c,d,g){if(c=n(a,b,c,d,g)){a=new Image;var e=k.length;k[e]=a;a.onerror=a.onload=a.onabort=function(){delete k[e]};a.src=c}};google.logUrl=n;}).call(this);(function(){google.y={};google.sy=[];google.x=function(a,b){if(a)var c=a.id;else{do c=Math.random();while(google.y[c])}google.y[c]=[a,b];return!1};google.sx=function(a){google.sy.push(a)};google.lm=[];google.plm=function(a){google.lm.push.apply(google.lm,a)};google.lq=[];google.load=function(a,b,c){google.lq.push([[a],b,c])};google.loadAll=function(a,b){google.lq.push([a,b])};google.bx=!1;google.lx=function(){};}).call(this);google.f={};(function(){\\ndocument.documentElement.addEventListener(\"submit\",function(b){var a;if(a=b.target){var c=a.getAttribute(\"data-submitfalse\");a=\"1\"===c||\"q\"===c&&!a.elements.q.value?!0:!1}else a=!1;a&&(b.preventDefault(),b.stopPropagation())},!0);document.documentElement.addEventListener(\"click\",function(b){var a;a:{for(a=b.target;a&&a!==document.documentElement;a=a.parentElement)if(\"A\"===a.tagName){a=\"1\"===a.getAttribute(\"data-nohref\");break a}a=!1}a&&b.preventDefault()},!0);}).call(this);</script><style>#gbar,#guser{font-size:13px;padding-top:1px !important;}#gbar{height:22px}#guser{padding-bottom:7px !important;text-align:right}.gbh,.gbd{border-top:1px solid #c9d7f1;font-size:1px}.gbh{height:0;position:absolute;top:24px;width:100%}@media all{.gb1{height:22px;margin-right:.5em;vertical-align:top}#gbar{float:left}}a.gb1,a.gb4{text-decoration:underline !important}a.gb1,a.gb4{color:#00c !important}.gbi .gb4{color:#dd8e27 !important}.gbf .gb4{color:#900 !important}\\n</style><style>body,td,a,p,.h{font-family:arial,sans-serif}body{margin:0;overflow-y:scroll}#gog{padding:3px 8px 0}td{line-height:.8em}.gac_m td{line-height:17px}form{margin-bottom:20px}.h{color:#1558d6}em{font-weight:bold;font-style:normal}.lst{height:25px;width:496px}.gsfi,.lst{font:18px arial,sans-serif}.gsfs{font:17px arial,sans-serif}.ds{display:inline-box;display:inline-block;margin:3px 0 4px;margin-left:4px}input{font-family:inherit}body{background:#fff;color:#000}a{color:#4b11a8;text-decoration:none}a:hover,a:active{text-decoration:underline}.fl a{color:#1558d6}a:visited{color:#4b11a8}.sblc{padding-top:5px}.sblc a{display:block;margin:2px 0;margin-left:13px;font-size:11px}.lsbb{background:#f8f9fa;border:solid 1px;border-color:#dadce0 #70757a #70757a #dadce0;height:30px}.lsbb{display:block}#WqQANb a{display:inline-block;margin:0 12px}.lsb{background:url(/images/nav_logo229.png) 0 -261px repeat-x;border:none;color:#000;cursor:pointer;height:30px;margin:0;outline:0;font:15px arial,sans-serif;vertical-align:top}.lsb:active{background:#dadce0}.lst:focus{outline:none}.Ucigb{width:458px}</style><script nonce=\"sHgtjH5okNOpevtDhCb1SQ\">(function(){window.google.erd={jsr:1,bv:1725,de:true};\\nvar h=this||self;var k,l=null!=(k=h.mei)?k:1,n,p=null!=(n=h.sdo)?n:!0,q=0,r,t=google.erd,v=t.jsr;google.ml=function(a,b,d,m,e){e=void 0===e?2:e;b&&(r=a&&a.message);if(google.dl)return google.dl(a,e,d),null;if(0>v){window.console&&console.error(a,d);if(-2===v)throw a;b=!1}else b=!a||!a.message||\"Error loading script\"===a.message||q>=l&&!m?!1:!0;if(!b)return null;q++;d=d||{};b=encodeURIComponent;var c=\"/gen_204?atyp=i&ei=\"+b(google.kEI);google.kEXPI&&(c+=\"&jexpid=\"+b(google.kEXPI));c+=\"&srcpg=\"+b(google.sn)+\"&jsr=\"+b(t.jsr)+\"&bver=\"+b(t.bv);var f=a.lineNumber;void 0!==f&&(c+=\"&line=\"+f);var g=\\na.fileName;g&&(0<g.indexOf(\"-extension:/\")&&(e=3),c+=\"&script=\"+b(g),f&&g===window.location.href&&(f=document.documentElement.outerHTML.split(\"\\\\n\")[f],c+=\"&cad=\"+b(f?f.substring(0,300):\"No script found.\")));c+=\"&jsel=\"+e;for(var u in d)c+=\"&\",c+=b(u),c+=\"=\",c+=b(d[u]);c=c+\"&emsg=\"+b(a.name+\": \"+a.message);c=c+\"&jsst=\"+b(a.stack||\"N/A\");12288<=c.length&&(c=c.substr(0,12288));a=c;m||google.log(0,\"\",a);return a};window.onerror=function(a,b,d,m,e){r!==a&&(a=e instanceof Error?e:Error(a),void 0===d||\"lineNumber\"in a||(a.lineNumber=d),void 0===b||\"fileName\"in a||(a.fileName=b),google.ml(a,!1,void 0,!1,\"SyntaxError\"===a.name||\"SyntaxError\"===a.message.substring(0,11)||-1!==a.message.indexOf(\"Script error\")?3:0));r=null;p&&q>=l&&(window.onerror=null)};})();</script></head><body bgcolor=\"#fff\"><script nonce=\"sHgtjH5okNOpevtDhCb1SQ\">(function(){var src=\\'/images/nav_logo229.png\\';var iesg=false;document.body.onload = function(){window.n && window.n();if (document.images){new Image().src=src;}\\nif (!iesg){document.f&&document.f.q.focus();document.gbqf&&document.gbqf.q.focus();}\\n}\\n})();</script><div id=\"mngb\"><div id=gbar><nobr><b class=gb1>&#1055;&#1086;&#1080;&#1089;&#1082;</b> <a class=gb1 href=\"https://www.google.ru/imghp?hl=ru&tab=wi\">&#1050;&#1072;&#1088;&#1090;&#1080;&#1085;&#1082;&#1080;</a> <a class=gb1 href=\"https://maps.google.ru/maps?hl=ru&tab=wl\">&#1050;&#1072;&#1088;&#1090;&#1099;</a> <a class=gb1 href=\"https://play.google.com/?hl=ru&tab=w8\">Play</a> <a class=gb1 href=\"https://www.youtube.com/?tab=w1\">YouTube</a> <a class=gb1 href=\"https://news.google.com/?tab=wn\">&#1053;&#1086;&#1074;&#1086;&#1089;&#1090;&#1080;</a> <a class=gb1 href=\"https://mail.google.com/mail/?tab=wm\">&#1055;&#1086;&#1095;&#1090;&#1072;</a> <a class=gb1 href=\"https://drive.google.com/?tab=wo\">&#1044;&#1080;&#1089;&#1082;</a> <a class=gb1 style=\"text-decoration:none\" href=\"https://www.google.ru/intl/ru/about/products?tab=wh\"><u>&#1045;&#1097;&#1105;</u> &raquo;</a></nobr></div><div id=guser width=100%><nobr><span id=gbn class=gbi></span><span id=gbf class=gbf></span><span id=gbe></span><a href=\"http://www.google.ru/history/optout?hl=ru\" class=gb4>&#1048;&#1089;&#1090;&#1086;&#1088;&#1080;&#1103; &#1074;&#1077;&#1073;-&#1087;&#1086;&#1080;&#1089;&#1082;&#1072;</a> | <a  href=\"/preferences?hl=ru\" class=gb4>&#1053;&#1072;&#1089;&#1090;&#1088;&#1086;&#1081;&#1082;&#1080;</a> | <a target=_top id=gb_70 href=\"https://accounts.google.com/ServiceLogin?hl=ru&passive=true&continue=https://www.google.com/&ec=GAZAAQ\" class=gb4>&#1042;&#1086;&#1081;&#1090;&#1080;</a></nobr></div><div class=gbh style=left:0></div><div class=gbh style=right:0></div></div><center><br clear=\"all\" id=\"lgpd\"><div id=\"lga\"><img alt=\"Google\" height=\"92\" src=\"/images/branding/googlelogo/1x/googlelogo_white_background_color_272x92dp.png\" style=\"padding:28px 0 14px\" width=\"272\" id=\"hplogo\"><br><br></div><form action=\"/search\" name=\"f\"><table cellpadding=\"0\" cellspacing=\"0\"><tr valign=\"top\"><td width=\"25%\">&nbsp;</td><td align=\"center\" nowrap=\"\"><input name=\"ie\" value=\"ISO-8859-1\" type=\"hidden\"><input value=\"ru\" name=\"hl\" type=\"hidden\"><input name=\"source\" type=\"hidden\" value=\"hp\"><input name=\"biw\" type=\"hidden\"><input name=\"bih\" type=\"hidden\"><div class=\"ds\" style=\"height:32px;margin:4px 0\"><div style=\"position:relative;zoom:1\"><input class=\"lst Ucigb\" style=\"margin:0;padding:5px 8px 0 6px;vertical-align:top;color:#000;padding-right:38px\" autocomplete=\"off\" value=\"\" title=\"&#1055;&#1086;&#1080;&#1089;&#1082; &#1074; Google\" maxlength=\"2048\" name=\"q\" size=\"57\"><img src=\"/textinputassistant/tia.png\" style=\"position:absolute;cursor:pointer;right:5px;top:4px;z-index:300\" data-script-url=\"/textinputassistant/11/ru_tia.js\" id=\"tsuid_1\" alt=\"\" height=\"23\" width=\"27\"><script nonce=\"sHgtjH5okNOpevtDhCb1SQ\">(function(){var id=\\'tsuid_1\\';document.getElementById(id).onclick = function(){var s = document.createElement(\\'script\\');s.src = this.getAttribute(\\'data-script-url\\');(document.getElementById(\\'xjsc\\')||document.body).appendChild(s);};})();</script></div></div><br style=\"line-height:0\"><span class=\"ds\"><span class=\"lsbb\"><input class=\"lsb\" value=\"&#1055;&#1086;&#1080;&#1089;&#1082; &#1074; Google\" name=\"btnG\" type=\"submit\"></span></span><span class=\"ds\"><span class=\"lsbb\"><input class=\"lsb\" id=\"tsuid_2\" value=\"&#1052;&#1085;&#1077; &#1087;&#1086;&#1074;&#1077;&#1079;&#1105;&#1090;!\" name=\"btnI\" type=\"submit\"><script nonce=\"sHgtjH5okNOpevtDhCb1SQ\">(function(){var id=\\'tsuid_2\\';document.getElementById(id).onclick = function(){if (this.form.q.value){this.checked = 1;if (this.form.iflsig)this.form.iflsig.disabled = false;}\\nelse top.location=\\'/doodles/\\';};})();</script><input value=\"AK50M_UAAAAAY8mRW9jFj9ZnGHdFKvQVv7reBJv4RC2b\" name=\"iflsig\" type=\"hidden\"></span></span></td><td class=\"fl sblc\" align=\"left\" nowrap=\"\" width=\"25%\"><a href=\"/advanced_search?hl=ru&amp;authuser=0\">&#1056;&#1072;&#1089;&#1096;&#1080;&#1088;&#1077;&#1085;&#1085;&#1099;&#1081; &#1087;&#1086;&#1080;&#1089;&#1082;</a></td></tr></table><input id=\"gbv\" name=\"gbv\" type=\"hidden\" value=\"1\"><script nonce=\"sHgtjH5okNOpevtDhCb1SQ\">(function(){var a,b=\"1\";if(document&&document.getElementById)if(\"undefined\"!=typeof XMLHttpRequest)b=\"2\";else if(\"undefined\"!=typeof ActiveXObject){var c,d,e=[\"MSXML2.XMLHTTP.6.0\",\"MSXML2.XMLHTTP.3.0\",\"MSXML2.XMLHTTP\",\"Microsoft.XMLHTTP\"];for(c=0;d=e[c++];)try{new ActiveXObject(d),b=\"2\"}catch(h){}}a=b;if(\"2\"==a&&-1==location.search.indexOf(\"&gbv=2\")){var f=google.gbvu,g=document.getElementById(\"gbv\");g&&(g.value=a);f&&window.setTimeout(function(){location.href=f},0)};}).call(this);</script></form><div id=\"gac_scont\"></div><div style=\"font-size:83%;min-height:3.5em\"><br></div><span id=\"footer\"><div style=\"font-size:10pt\"><div style=\"margin:19px auto;text-align:center\" id=\"WqQANb\"><a href=\"http://www.google.ru/intl/ru/services/\">&#1056;&#1077;&#1096;&#1077;&#1085;&#1080;&#1103; &#1076;&#1083;&#1103; &#1073;&#1080;&#1079;&#1085;&#1077;&#1089;&#1072;</a><a href=\"/intl/ru/about.html\">&#1042;&#1089;&#1105; &#1086; Google</a><a href=\"https://www.google.com/setprefdomain?prefdom=RU&amp;prev=https://www.google.ru/&amp;sig=K_0LDS_OMO6t4PJIkLx85caK0oXoQ%3D\">Google.ru</a></div></div><p style=\"font-size:8pt;color:#70757a\">&copy; 2023 - <a href=\"/intl/ru/policies/privacy/\">&#1050;&#1086;&#1085;&#1092;&#1080;&#1076;&#1077;&#1085;&#1094;&#1080;&#1072;&#1083;&#1100;&#1085;&#1086;&#1089;&#1090;&#1100;</a> - <a href=\"/intl/ru/policies/terms/\">&#1059;&#1089;&#1083;&#1086;&#1074;&#1080;&#1103;</a></p></span></center><script nonce=\"sHgtjH5okNOpevtDhCb1SQ\">(function(){window.google.cdo={height:757,width:1440};(function(){var a=window.innerWidth,b=window.innerHeight;if(!a||!b){var c=window.document,d=\"CSS1Compat\"==c.compatMode?c.documentElement:c.body;a=d.clientWidth;b=d.clientHeight}a&&b&&(a!=google.cdo.width||b!=google.cdo.height)&&google.log(\"\",\"\",\"/client_204?&atyp=i&biw=\"+a+\"&bih=\"+b+\"&ei=\"+google.kEI);}).call(this);})();</script> <script nonce=\"sHgtjH5okNOpevtDhCb1SQ\">(function(){google.xjs={ck:\\'xjs.hp.L0TU2uVtv08.L.X.O\\',cs:\\'ACT90oHeLfC1hgHEDBDi6VKV3pA236AYOw\\',excm:[]};})();</script>  <script nonce=\"sHgtjH5okNOpevtDhCb1SQ\">(function(){var u=\\'/xjs/_/js/k\\\\x3dxjs.hp.en.8UPhvtaCaYg.O/am\\\\x3dAADoBABQAGAB/d\\\\x3d1/ed\\\\x3d1/rs\\\\x3dACT90oGGty4VLK7SJASQ1Wph716ETKGnxQ/m\\\\x3dsb_he,d\\';var amd=0;\\nvar d=this||self,e=function(a){return a};var g;var l=function(a,b){this.g=b===h?a:\"\"};l.prototype.toString=function(){return this.g+\"\"};var h={};\\nfunction m(){var a=u;google.lx=function(){p(a);google.lx=function(){}};google.bx||google.lx()}\\nfunction p(a){google.timers&&google.timers.load&&google.tick&&google.tick(\"load\",\"xjsls\");var b=document;var c=\"SCRIPT\";\"application/xhtml+xml\"===b.contentType&&(c=c.toLowerCase());c=b.createElement(c);a=null===a?\"null\":void 0===a?\"undefined\":a;if(void 0===g){b=null;var k=d.trustedTypes;if(k&&k.createPolicy){try{b=k.createPolicy(\"goog#html\",{createHTML:e,createScript:e,createScriptURL:e})}catch(q){d.console&&d.console.error(q.message)}g=b}else g=b}a=(b=g)?b.createScriptURL(a):a;a=new l(a,h);c.src=\\na instanceof l&&a.constructor===l?a.g:\"type_error:TrustedResourceUrl\";var f,n;(f=(a=null==(n=(f=(c.ownerDocument&&c.ownerDocument.defaultView||window).document).querySelector)?void 0:n.call(f,\"script[nonce]\"))?a.nonce||a.getAttribute(\"nonce\")||\"\":\"\")&&c.setAttribute(\"nonce\",f);document.body.appendChild(c);google.psa=!0};google.xjsu=u;setTimeout(function(){0<amd?google.caft(function(){return m()},amd):m()},0);})();function _DumpException(e){throw e;}\\nfunction _F_installCss(c){}\\n(function(){google.jl={blt:\\'none\\',chnk:0,dw:false,dwu:true,emtn:0,end:0,ico:false,ikb:0,ine:false,injs:\\'none\\',injt:0,injth:0,injv2:false,lls:\\'default\\',pdt:0,rep:0,snet:true,strt:0,ubm:false,uwp:true};})();(function(){var pmc=\\'{\\\\x22d\\\\x22:{},\\\\x22sb_he\\\\x22:{\\\\x22agen\\\\x22:true,\\\\x22cgen\\\\x22:true,\\\\x22client\\\\x22:\\\\x22heirloom-hp\\\\x22,\\\\x22dh\\\\x22:true,\\\\x22ds\\\\x22:\\\\x22\\\\x22,\\\\x22fl\\\\x22:true,\\\\x22host\\\\x22:\\\\x22google.com\\\\x22,\\\\x22jsonp\\\\x22:true,\\\\x22msgs\\\\x22:{\\\\x22cibl\\\\x22:\\\\x22&#1059;&#1076;&#1072;&#1083;&#1080;&#1090;&#1100; &#1087;&#1086;&#1080;&#1089;&#1082;&#1086;&#1074;&#1099;&#1081; &#1079;&#1072;&#1087;&#1088;&#1086;&#1089;\\\\x22,\\\\x22dym\\\\x22:\\\\x22&#1042;&#1086;&#1079;&#1084;&#1086;&#1078;&#1085;&#1086;, &#1074;&#1099; &#1080;&#1084;&#1077;&#1083;&#1080; &#1074; &#1074;&#1080;&#1076;&#1091;:\\\\x22,\\\\x22lcky\\\\x22:\\\\x22&#1052;&#1085;&#1077; &#1087;&#1086;&#1074;&#1077;&#1079;&#1105;&#1090;!\\\\x22,\\\\x22lml\\\\x22:\\\\x22&#1055;&#1086;&#1076;&#1088;&#1086;&#1073;&#1085;&#1077;&#1077;...\\\\x22,\\\\x22psrc\\\\x22:\\\\x22&#1069;&#1090;&#1086;&#1090; &#1079;&#1072;&#1087;&#1088;&#1086;&#1089; &#1073;&#1099;&#1083; &#1091;&#1076;&#1072;&#1083;&#1077;&#1085; &#1080;&#1079; &#1074;&#1072;&#1096;&#1077;&#1081; \\\\\\\\u003Ca href\\\\x3d\\\\\\\\\\\\x22/history\\\\\\\\\\\\x22\\\\\\\\u003E&#1080;&#1089;&#1090;&#1086;&#1088;&#1080;&#1080; &#1074;&#1077;&#1073;-&#1087;&#1086;&#1080;&#1089;&#1082;&#1072;\\\\\\\\u003C/a\\\\\\\\u003E\\\\x22,\\\\x22psrl\\\\x22:\\\\x22&#1059;&#1076;&#1072;&#1083;&#1080;&#1090;&#1100;\\\\x22,\\\\x22sbit\\\\x22:\\\\x22&#1055;&#1086;&#1080;&#1089;&#1082; &#1087;&#1086; &#1082;&#1072;&#1088;&#1090;&#1080;&#1085;&#1082;&#1077;\\\\x22,\\\\x22srch\\\\x22:\\\\x22&#1055;&#1086;&#1080;&#1089;&#1082; &#1074; Google\\\\x22},\\\\x22ovr\\\\x22:{},\\\\x22pq\\\\x22:\\\\x22\\\\x22,\\\\x22rfs\\\\x22:[],\\\\x22sbas\\\\x22:\\\\x220 3px 8px 0 rgba(0,0,0,0.2),0 0 0 1px rgba(0,0,0,0.08)\\\\x22,\\\\x22stok\\\\x22:\\\\x22PAxFoYdAFvCAv1Bu-BFWe_ayH74\\\\x22}}\\';google.pmc=JSON.parse(pmc);})();</script>        </body></html>'"
      ]
     },
     "execution_count": 12,
     "metadata": {},
     "output_type": "execute_result"
    }
   ],
   "source": [
    "response.content"
   ]
  },
  {
   "cell_type": "markdown",
   "id": "f74cb2a3",
   "metadata": {},
   "source": [
    "как его сохранять. 'page.html' - имя страницы, 'w' - режим на запись, указываем кодировку encoding=response.encoding"
   ]
  },
  {
   "cell_type": "code",
   "execution_count": 13,
   "id": "a202a91e",
   "metadata": {},
   "outputs": [],
   "source": [
    "with open('page.html', 'w', encoding=response.encoding) as f:\n",
    "    f.write(response.text)"
   ]
  },
  {
   "cell_type": "markdown",
   "id": "76d913b5",
   "metadata": {},
   "source": [
    "Мы взяли кодировку, которая непосредственно зашита в нашем ответе response.encoding. и её записали в качестве параметра encoding=response.encoding. Можем принудительно указать кодировку."
   ]
  },
  {
   "cell_type": "code",
   "execution_count": 14,
   "id": "38ff8a58",
   "metadata": {},
   "outputs": [],
   "source": [
    "with open('page.html', 'w', encoding='UTF-8') as f:\n",
    "    f.write(response.text)"
   ]
  },
  {
   "cell_type": "markdown",
   "id": "a576f763",
   "metadata": {},
   "source": [
    "Запись в бинарном режиме надёжнее"
   ]
  },
  {
   "cell_type": "code",
   "execution_count": 15,
   "id": "9cbe3e61",
   "metadata": {},
   "outputs": [],
   "source": [
    "with open('page.html', 'wb') as f:\n",
    "    f.write(response.content)"
   ]
  },
  {
   "cell_type": "markdown",
   "id": "463cba9f",
   "metadata": {},
   "source": [
    "Мы можем для нашего response составить параметры. параметров есть много разных, среди которых есть и заголовки. Задаются заготовки в виде обычного словаря. \n",
    "\n",
    "Где ещё удобно посмотреть заголовки? Открываем консоль разработчика (F12), переходим на нужный нам сайт, переключаем закладку Network (Сеть), выбираем раздел Fetch/XHR, обновляем страничку, открываем любой XHR запрос, и в headers находим user-agent:"
   ]
  },
  {
   "cell_type": "code",
   "execution_count": 1,
   "id": "11d65184",
   "metadata": {},
   "outputs": [],
   "source": [
    "headers = {\"user-agent\":\"Mozilla/5.0 (Windows NT 6.3; Win64; x64) AppleWebKit/537.36 (KHTML, like Gecko) Chrome/109.0.0.0 Safari/537.36\"}"
   ]
  },
  {
   "cell_type": "markdown",
   "id": "7f5233e4",
   "metadata": {},
   "source": [
    "И теперь когда выполняем Get запрос можем подставить туда словарик созданный"
   ]
  },
  {
   "cell_type": "code",
   "execution_count": 3,
   "id": "9169e3ff",
   "metadata": {},
   "outputs": [],
   "source": [
    "response = requests.get('https://exmo.me', headers=headers)"
   ]
  },
  {
   "cell_type": "markdown",
   "id": "6ab31a1c",
   "metadata": {},
   "source": [
    "мы использовали один заголовок, но можно использовать словарь из заголовков когда нужно сформировать конкретный запрос. И дальше подставляем в качестве одного параметра словарик. "
   ]
  },
  {
   "cell_type": "markdown",
   "id": "843e3819",
   "metadata": {},
   "source": [
    "### Разбор примера ###"
   ]
  },
  {
   "cell_type": "markdown",
   "id": "261f103c",
   "metadata": {},
   "source": [
    "Что такое API?  Например с сайта mail.ru нам нужно выдернуть данные по погоде. температура воздуха. На сайте есть такое данное. Чтобы увидить 3 символа: город, температура. Представим ситуацию нам нужно автоматизировать процесс сбора погоды. Чтобы мы делали запрос и нам возвращалась актуальная информация. Сколько сейчас градусов за окном. И мы для этого сделаем запрос и скачаем целиком страницу mail.ru. У страницы огромный html код и ради всего 3ёх символов. \n",
    "\n",
    "Для таких ситуаций существуют специальные сервисы. Сервисы которые по запросу выдают небольшой объём заранее подготовленной информации под которую они настроены. \n",
    "\n",
    "Зачем нам сканировать и собирать целиком всю страницу какого то там ресурса, если мы можем пойти на какой то специальный сервис, сделать запрос в него и он нам выдаст информацию только о погоде. И обрабатывать информацию не придётся, она уже представлена в предобработанном формате. Это и есть API не вдаваясь в технические детали. Под огромное количество целей существуют такие сервисы на которые мы можем делать запросы и получать информацию в структурированном виде. Крупные компании которые обладают ресурсами и данными предоставляют такие сервисы. "
   ]
  },
  {
   "cell_type": "markdown",
   "id": "44861f9b",
   "metadata": {},
   "source": [
    "По погоде есть ресурс openwethermap. Как устроены сервисы API? Первым делом находим техническую документацию по работе с сервисом. API-docs. 70% работы с API сводится к работе с документацией. Общих правил создания таких сервисов нету. \n",
    "\n",
    "На этом ресурсе с погодой нам надо зарегистрироваться и получить персональный API ключ. \n",
    "\n",
    "'appid': 'e5e4cd692a72b0b66ea0a6b80255d1c3'\n",
    "\n",
    "В документации ищем правила создания запросов. \n",
    "Запросы делаются по ссылкам из документации. Предлагается использовать широту и долготу как параметры. Запрос на урлс с указанием широты и долготы и с подстановкой ключа. Ключ используется чтобы идентифицировать именно наш запрос. Есть бесплатные и платные сервисы, для разграничения прав доступа используются ключи."
   ]
  },
  {
   "cell_type": "code",
   "execution_count": 5,
   "id": "1e50d2d5",
   "metadata": {},
   "outputs": [
    {
     "name": "stdout",
     "output_type": "stream",
     "text": [
      "<class 'dict'>\n",
      "{'cod': 401,\n",
      " 'message': 'Invalid API key. Please see '\n",
      "            'https://openweathermap.org/faq#error401 for more info.'}\n"
     ]
    }
   ],
   "source": [
    "import requests\n",
    "from pprint import pprint\n",
    "\n",
    "params = {'q': 'Samara',\n",
    "          'appid': 'e5e4cd692a72b0b66ea0a6b80255d1c3'}\n",
    "url = \"https://api.openweathermap.org/data/2.5/weather\"\n",
    "response = requests.get(url, params=params)\n",
    "j_data = response.json()\n",
    "\n",
    "print(type(j_data))\n",
    "pprint(j_data)"
   ]
  },
  {
   "cell_type": "markdown",
   "id": "5d7891de",
   "metadata": {},
   "source": [
    "ВСЕ URL ссылки делятся на 2 составляющие всё что до \"?\" и всё что после.\n",
    "\n",
    "https://dzen.ru/ ? yredirect=true&clid=2270456&win=334\n",
    "\n",
    "То что до знака вопроса может быть любого содержания, здесь не ищем никакой логики она понятна только веб разработчикам.  \n",
    "\n",
    "После знака вопроса логика едина. То что идёт после знака вопроса называется параметрами запроса. Логика следующая: название параметра знак равно значение параметра. yredirect=true, clid=2270456, win=334. Между параметрами в ссылке стоит знак амперсанта \"&\". Параметры запроса то что может влиять на конечный результат. Запрос делается в одно и тоже место, но в зависимости от выставленных параметров результат будет разным."
   ]
  },
  {
   "cell_type": "markdown",
   "id": "56aad6a6",
   "metadata": {},
   "source": [
    "Запрос можно напрямую подставить в браузер и посмотреть на результат. Плучаем структурированный json ответ. Межбраузерный, межязыковой формат данных. Всё структурированно по ключам и значениям. \n",
    "Большенство API выдают JSON на запрос. "
   ]
  },
  {
   "cell_type": "markdown",
   "id": "64b97935",
   "metadata": {},
   "source": [
    "### Конвертация ответа в JSON ###"
   ]
  },
  {
   "cell_type": "code",
   "execution_count": 6,
   "id": "069c3a5f",
   "metadata": {},
   "outputs": [],
   "source": [
    "j_data = response.json()"
   ]
  },
  {
   "cell_type": "markdown",
   "id": "72398358",
   "metadata": {},
   "source": [
    "Функция для удобного вывода json файлов. "
   ]
  },
  {
   "cell_type": "code",
   "execution_count": 7,
   "id": "9ce6640f",
   "metadata": {
    "scrolled": true
   },
   "outputs": [
    {
     "name": "stdout",
     "output_type": "stream",
     "text": [
      "{'cod': 401,\n",
      " 'message': 'Invalid API key. Please see '\n",
      "            'https://openweathermap.org/faq#error401 for more info.'}\n"
     ]
    }
   ],
   "source": [
    "from pprint import pprint\n",
    "pprint(j_data)"
   ]
  },
  {
   "cell_type": "markdown",
   "id": "425eee49",
   "metadata": {},
   "source": [
    "Как правило целиком ответ нужен не бывет, а нужно выдернуть пару ключей со значениями. Например j_data['name']. Иногда словарь в словаре находится. \n",
    "j_data['wether']['temperature']. "
   ]
  }
 ],
 "metadata": {
  "kernelspec": {
   "display_name": "Python 3 (ipykernel)",
   "language": "python",
   "name": "python3"
  },
  "language_info": {
   "codemirror_mode": {
    "name": "ipython",
    "version": 3
   },
   "file_extension": ".py",
   "mimetype": "text/x-python",
   "name": "python",
   "nbconvert_exporter": "python",
   "pygments_lexer": "ipython3",
   "version": "3.8.8"
  }
 },
 "nbformat": 4,
 "nbformat_minor": 5
}

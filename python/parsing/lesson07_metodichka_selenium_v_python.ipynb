{
 "cells": [
  {
   "cell_type": "markdown",
   "id": "b59674bf",
   "metadata": {},
   "source": [
    "# Методы сбора и обработки данных при помощи Python. Selenium в Python\n",
    "### Оглавление\n",
    "- Введение\n",
    "- История создания\n",
    "- Программные продукты Selenium\n",
    "- Selenium WebDriver\n",
    "- Начало работы\n",
    "- Загрузка Selenium для Python\n",
    "- Пошаговый разбор примера\n",
    "- Навигация\n",
    "- Взаимодействие со страницей\n",
    "- Заполнение форм\n",
    "- Перетаскивание\n",
    "- Переключение между окнами и фреймами\n",
    "- Всплывающие окна\n",
    "- Навигация: история и локация\n",
    "- Куки (cookies)\n",
    "- Поиск элементов\n",
    "- Поиск по Id\n",
    "- Поиск по Name\n",
    "- Поиск по XPath\n",
    "- Поиск гиперссылок по тексту\n",
    "- Поиск элементов по тегу\n",
    "- Поиск элементов по классу\n",
    "- Поиск элементов по CSS- селектору\n",
    "- Ожидания\n",
    "- Явные ожидания\n",
    "- Неявные ожидания\n",
    "- Ускорение работы\n",
    "- Глоссарий\n",
    "- Домашнее задание\n",
    "- Используемая литература"
   ]
  },
  {
   "cell_type": "markdown",
   "id": "38558365",
   "metadata": {},
   "source": [
    "### Введение\n",
    "Сегодня мы познакомимся с Selenium’ом - это инструмент, который чаще сего используется для автоматизации тестирования. Однако для сбора данных он тоже подходит. Хочу обратить ваше внимание на то, что если вам требуется селениум для сбора данных, скорее всего, вы пытаетесь собрать данные с сайта, который активно этому сопротивляется. Помните, пожалуйста, об этичном парсинге и постарайтесь не ломать сайты.\n",
    "Официальная страница проекта — SeleniumHQ Browser Automation"
   ]
  },
  {
   "cell_type": "markdown",
   "id": "a2d8055a",
   "metadata": {},
   "source": [
    "### Selenium WebDriver\n",
    "`Selenium WebDriver (Selenium 2)` — это программная библиотека для управления браузерами, основной продукт в рамках проекта Selenium. Она включает набор модулей для разработки ПО.\n",
    "\n",
    "`Selenium WebDriver` состоит из набора драйверов и клиентских библиотек для таких браузеров, как Firefox, Safari, Chrome и Edge.\n",
    "\n",
    "Чаще всего Selenium WebDriver используют для тестирования функционала веб-сайтов/веб-ориентированных приложений. Но мы будем его использовать для парсинга."
   ]
  },
  {
   "cell_type": "markdown",
   "id": "9ad7b58c",
   "metadata": {},
   "source": [
    "### Загрузка Selenium для Python\n",
    "Вы можете установить Селениум через pip, однако лучше зайти на pypi.org, найти там селениум и не только установить его, но и скачать браузер, через который мы будем осуществлять парсинг. Я\n",
    "предпочитаю использовать firefox, для которого у селениума есть гекодрайвер\n",
    "\n",
    "После скачивания драйвера и установки селениума давайте создадим новую папку селениум. Для удобства я положу в эту папку и гекодрайвер, с помощью которого мы будем запускать наш селениум.\n",
    "\n",
    "Сначала мы научимся логиниться на сайт, затем научимся парсить страницы с бесконечной прокруткой. То есть, например, такие сайты, как ТикТок, где лента имеет бесконечную прокрутку.\n",
    "\n",
    "Итак, сначала нам надо научиться авторизовываться на сайте. Для этого воспользуемся ссылкой quotes.toscrape.com/login\n",
    "\n",
    "Первое, что мы делаем - это импортируем необходимые библиотеки."
   ]
  },
  {
   "cell_type": "code",
   "execution_count": null,
   "id": "6efe20f4",
   "metadata": {},
   "outputs": [],
   "source": [
    "from selenium import webdriver\n",
    "from selenium.webdriver.common.by import By\n",
    "from selenium.webdriver.support.ui import WebDriverWait\n",
    "from selenium.webdriver.support import expected_conditions as EC"
   ]
  },
  {
   "cell_type": "markdown",
   "id": "89d5cfe3",
   "metadata": {},
   "source": [
    "Класс By поможет нам в поиске необходимых тегов, WebDriverWait позволит нам ждать загрузку\n",
    "элементов на странице, а EC позволит устанавливать условия, выполнение которых необходимо для\n",
    "успешной работы парсера.\n",
    "\n",
    "Теперь, первое, что нам надо сделать - это создать дравйер, с помощью которого мы будем\n",
    "открывать страницу и выполнять необходимые действия. В executable_path указываем путь до\n",
    "гекодрайвера."
   ]
  },
  {
   "cell_type": "code",
   "execution_count": null,
   "id": "53305c7d",
   "metadata": {},
   "outputs": [],
   "source": [
    "driver = webdriver.Firefox(executable_path='./geckodriver')"
   ]
  },
  {
   "cell_type": "markdown",
   "id": "d2255385",
   "metadata": {},
   "source": [
    "Затем с помощью метода get() мы передаем ссылку на сайт, который надо открыть."
   ]
  },
  {
   "cell_type": "code",
   "execution_count": null,
   "id": "fc293d10",
   "metadata": {},
   "outputs": [],
   "source": [
    "driver.get('https://quotes.toscrape.com/login')"
   ]
  },
  {
   "cell_type": "markdown",
   "id": "e6d0dd1c",
   "metadata": {},
   "source": [
    "Хочу обратить ваше внимание, что браузер в конце надо закрывать, по тому же принципу, что и\n",
    "работа с базами данных, например. Так что возьмите за правило в конце скрипта обязательно сразу\n",
    "закрывать браузер, иначе вам придется это делать руками. Закрываем браузер с помощью метода\n",
    "quit()"
   ]
  },
  {
   "cell_type": "code",
   "execution_count": null,
   "id": "92db4fc1",
   "metadata": {},
   "outputs": [],
   "source": [
    "driver.quit()"
   ]
  },
  {
   "cell_type": "markdown",
   "id": "8eea3f1e",
   "metadata": {},
   "source": [
    "После того, как драйвер перейдет по ссылке, указанной в методе гет, нам надо заполнить поля для\n",
    "юзернейма и пароля и нажать на кнопку логин. Если мы сразу выполним эти действия, скорее всего,\n",
    "наш скрипт сломается. Потому что драйверу потребуется какое-то время на загрузку страницы, а наш\n",
    "код будет требовать немедленно найти необходимые поля. Чтобы избежать таких ошибок мы будем\n",
    "использовать класс `WebDriverWait`. Он позволяет дожидаться появления на странице определенного\n",
    "элемента и только после этого выполнять дальнейшие действия с кодом.\n",
    "Посмотрим, что у нас должно быть на нашей странице логина, чтобы мы могли авторизоваться.\n",
    "\n",
    "Допустим, мы будем ждать появления формы логина, а именно тега input с айди username и таким же\n",
    "именем."
   ]
  },
  {
   "cell_type": "code",
   "execution_count": null,
   "id": "43a07301",
   "metadata": {},
   "outputs": [],
   "source": [
    "WebDriverWait(driver, 30).until(EC.presence_of_element_located((By.ID, ‘username')))"
   ]
  },
  {
   "cell_type": "markdown",
   "id": "d02a3ee0",
   "metadata": {},
   "source": [
    "То есть код будет ждать 30 секунд, пока не появится элемент с айдишником юзернейм. Если элемент\n",
    "появится на 2ой секунде - код продолжит свое выполнение, если после 30 секунд элемент не\n",
    "появится - код завершит свое выполнение с ошибкой. Такие ожидания лучше заворачивать в\n",
    "try/except, но в данном курсе мы этого не будем касаться. Также лучше всегда указывать айди при\n",
    "поиске элемента, так как имен одинаковых может быть несколько, а вот айди на странице с именем\n",
    "юзернейм - один единственный."
   ]
  },
  {
   "cell_type": "markdown",
   "id": "338f178d",
   "metadata": {},
   "source": [
    "После того, как появится форма на странице, нам надо найти поля логин и пароль и ввести туда\n",
    "значения. Так как это тестовый сайт, вы можете ввести абсолютно любые значения и в любом случае\n",
    "сможете залогиниться.\n",
    "\n",
    "Давайте сначала найдем поле для ввода юзернейма. Оно находится, как мы уже знаем, в теге input с\n",
    "именем и айди name. Будем искать это поле с помощью xpath’a."
   ]
  },
  {
   "cell_type": "code",
   "execution_count": null,
   "id": "56da67dd",
   "metadata": {},
   "outputs": [],
   "source": [
    "login = driver.find_element_by_xpath(\"//input[@id='username']\")"
   ]
  },
  {
   "cell_type": "markdown",
   "id": "337714a7",
   "metadata": {},
   "source": [
    "Теперь посмотрим, где лежит поле для ввода пароля. Оно находится в теге инпут с именем password.\n",
    "Давайте это поле найдем с использованием метода find_element_by_id. Вообще у селениума очень\n",
    "большой выбор методов, с помощью которых вы можете находить элементы на странице. Я\n",
    "предпочитаю xpath, но есть и поиск по имени тега, по его айдишнику, поиск по имени класса и многие\n",
    "другие. Это всё можно найти и изучить в документации. Итак, ищем поле пароля по айди тега."
   ]
  },
  {
   "cell_type": "code",
   "execution_count": null,
   "id": "9c52a7b6",
   "metadata": {},
   "outputs": [],
   "source": [
    "password = driver.find_element_by_id(\"password\")"
   ]
  },
  {
   "cell_type": "markdown",
   "id": "d624252f",
   "metadata": {},
   "source": [
    "После того, как мы нашли эти поля, нам надо ввести в них логин и пароль, допустим, это будет\n",
    "admin/admin и нажать на кнопку логин. Сначала введем"
   ]
  },
  {
   "cell_type": "code",
   "execution_count": null,
   "id": "cf30bde9",
   "metadata": {},
   "outputs": [],
   "source": [
    "login.send_keys('admin')\n",
    "password.send_keys('admin')"
   ]
  },
  {
   "cell_type": "markdown",
   "id": "1ffd8a56",
   "metadata": {},
   "source": [
    "Теперь найдем кнопку логина и нажмем ее. Кнопка находится в теге инпут с атрибутом value равным login. Воспользуемся поискам по xpath."
   ]
  },
  {
   "cell_type": "code",
   "execution_count": null,
   "id": "cb03dca1",
   "metadata": {},
   "outputs": [],
   "source": [
    "login_btn = driver.find_element_by_xpath(«//input[@value='Login']\")"
   ]
  },
  {
   "cell_type": "markdown",
   "id": "47de31ec",
   "metadata": {},
   "source": [
    "После того, как элемент найден, используем метод click()"
   ]
  },
  {
   "cell_type": "code",
   "execution_count": null,
   "id": "5a0e1e78",
   "metadata": {},
   "outputs": [],
   "source": [
    "login_btn.click()"
   ]
  },
  {
   "cell_type": "markdown",
   "id": "e998d17d",
   "metadata": {},
   "source": [
    "Теперь, чтобы убедиться, что мы залогинились, давайте вернем список цитат и html страницы.\n",
    "Соберем просто html цитат, не будем углубляться в подробный сбор. И выведем длину\n",
    "получившегося списка.\n",
    "\n",
    "Обратите внимание, после логина нам так же надо подождать какое-то время, пока страница\n",
    "загрузится. Так что скопируем написанный выше класс ожидания. И теперь будем ждать, пока на\n",
    "странице не появится элемент с классом quote."
   ]
  },
  {
   "cell_type": "code",
   "execution_count": null,
   "id": "bbd41dcb",
   "metadata": {},
   "outputs": [],
   "source": [
    "WebDriverWait(driver, 120).until(EC.presence_of_element_located((By.CLASS_NAME, 'quote')))"
   ]
  },
  {
   "cell_type": "markdown",
   "id": "77d3ac77",
   "metadata": {},
   "source": [
    "После этого получим html"
   ]
  },
  {
   "cell_type": "code",
   "execution_count": null,
   "id": "79260fb0",
   "metadata": {},
   "outputs": [],
   "source": [
    "html = driver.page_source"
   ]
  },
  {
   "cell_type": "markdown",
   "id": "4fe17fea",
   "metadata": {},
   "source": [
    "И цитаты."
   ]
  },
  {
   "cell_type": "code",
   "execution_count": null,
   "id": "103c4497",
   "metadata": {},
   "outputs": [],
   "source": [
    "quotes = driver.find_elements_by_class_name('quote')"
   ]
  },
  {
   "cell_type": "markdown",
   "id": "6e10b034",
   "metadata": {},
   "source": [
    "Обратите внимание, мы написали find elementS, в таком случае нам будет возвращен список всех\n",
    "найденных элементов. Если мы напишем element - нам вернется всего один элемент с указанным\n",
    "классом.\n",
    "\n",
    "Выведем html и длину списка с цитатами"
   ]
  },
  {
   "cell_type": "code",
   "execution_count": null,
   "id": "2507f540",
   "metadata": {},
   "outputs": [],
   "source": [
    "print(html)\n",
    "print(f'Количество цитат равно {len(quotes)}')"
   ]
  },
  {
   "cell_type": "markdown",
   "id": "ad7718d4",
   "metadata": {},
   "source": [
    "Проверяем, что не забыла закрыть драйвер"
   ]
  },
  {
   "cell_type": "code",
   "execution_count": null,
   "id": "bcdc824e",
   "metadata": {},
   "outputs": [],
   "source": [
    "driver.quit()"
   ]
  },
  {
   "cell_type": "markdown",
   "id": "e13b3731",
   "metadata": {},
   "source": [
    "И запускаем скрипт. Как видите, мы всё написали правильно и нам вывелся html и количество цитат -\n",
    "10\n",
    "\n",
    "Теперь приступим к парсингу страниц с бесконечной прокруткой. Давайте в этой же папке создадим\n",
    "новый файлик - infinite_scroll.py\n",
    "\n",
    "Импортируем известные нам библиотеки, скопировав их из предыдущего скрипта, только еще\n",
    "добавим импорт time"
   ]
  },
  {
   "cell_type": "code",
   "execution_count": null,
   "id": "04075402",
   "metadata": {},
   "outputs": [],
   "source": [
    "# infinite_scroll.py\n",
    "\n",
    "import time\n",
    "from selenium import webdriver\n",
    "from selenium.webdriver.common.by import By\n",
    "from selenium.webdriver.support.ui import WebDriverWait\n",
    "from selenium.webdriver.support import expected_conditions as EC\n"
   ]
  },
  {
   "cell_type": "markdown",
   "id": "2e000083",
   "metadata": {},
   "source": [
    "Создаем драйвер, так же, как и в предыдущем скрипте, можем просто скопировать"
   ]
  },
  {
   "cell_type": "code",
   "execution_count": null,
   "id": "fda93ddc",
   "metadata": {},
   "outputs": [],
   "source": [
    "driver = webdriver.Firefox(executable_path='./geckodriver')\n",
    "driver.get('https://quotes.toscrape.com/scroll')"
   ]
  },
  {
   "cell_type": "markdown",
   "id": "ee67ca64",
   "metadata": {},
   "source": [
    "А вот ссылку будем использовать другую - quotes.toscrape.com/scroll. Давайте посмотрим на нее в\n",
    "браузере. Как видите, мы можем прокручивать страницу почти бесконечно, при этом после прокрутки\n",
    "количество элементов с классом quote становится больше, так как добавляются новые, появившиеся\n",
    "при скролинге. Обратите внимание, что скролить мы можем как мышкой, так и нажимая пробел.\n",
    "\n",
    "Мы попробуем спарсить данные, используя оба способа.\n",
    "\n",
    "Для начала снова дождемся появления элементов на странице. Давайте скопируем из предыдущего\n",
    "скрипта - ожидание элемента с классом quote и немного изменим его. Теперь мы будем ждать, пока\n",
    "на странице появится див с классом quotes, так что допишем s в конце."
   ]
  },
  {
   "cell_type": "code",
   "execution_count": null,
   "id": "446c081d",
   "metadata": {},
   "outputs": [],
   "source": [
    "WebDriverWait(driver, 30).until(EC.presence_of_element_located((By.CLASS_NAME, 'quotes')))"
   ]
  },
  {
   "cell_type": "markdown",
   "id": "c136db12",
   "metadata": {},
   "source": [
    "Смотрите, 30 секунд - это изменяемый параметр, вы можете ждать как 1 секунду, так и 1 минуту,\n",
    "учитывайте скорость загрузки страницы при установке лимита ожидания.\n",
    "\n",
    "Теперь объясню вам логику работы скролинга в нашем скрипте. Нам надо, чтобы браузер\n",
    "прокручивал страницу вниз до того момента, пока прокрутка станет невозможной, то есть мы\n",
    "достигнем конца страницы. Чтобы определить момент выхода из цикла прокрутки мы будем\n",
    "использовать высоту тега body.\n",
    "\n",
    "Сейчас я покажу вам наглядно. Идем на сайт и открываем консоль. Вводим"
   ]
  },
  {
   "cell_type": "code",
   "execution_count": null,
   "id": "5b6506a7",
   "metadata": {},
   "outputs": [],
   "source": [
    "document.body.scrollHeight"
   ]
  },
  {
   "cell_type": "markdown",
   "id": "6a0629fb",
   "metadata": {},
   "source": [
    "Нажимаем enter. Вернулась высота тега body.\n",
    "Теперь прокрутим страницу вниз до появления новых элементов.\n",
    "Снова введем `document.body.scrollHeight` , как видите, высота изменилась."
   ]
  },
  {
   "cell_type": "markdown",
   "id": "2f865f55",
   "metadata": {},
   "source": [
    "Давайте докрутим до самого конца. Еще раз вводим `document.body.scrollHeight`. Видите, теперь\n",
    "высота совсем другая, чем была в начале. Именно эту высоту мы и будем использовать как ориентир\n",
    "конца страницы.\n",
    "\n",
    "Для начала еще до цикла мы получим и сохраним в переменную высоту нашего тега, используя\n",
    "метод `execute_script()`"
   ]
  },
  {
   "cell_type": "code",
   "execution_count": null,
   "id": "090b8075",
   "metadata": {},
   "outputs": [],
   "source": [
    "body_height = driver.execute_script(\"return document.body.scrollHeight\")"
   ]
  },
  {
   "cell_type": "markdown",
   "id": "f8b09c6c",
   "metadata": {},
   "source": [
    "Теперь создадим цикл while True. В этом цикле мы будем прокручивать страницу вниз, получать\n",
    "высоту тега body и сравнивать нашу первую высоту с вновь полученной. Если высота будет\n",
    "различаться, мы будем перезаписывать body_height и снова выполнять прокрутку. Если высота не\n",
    "будет меняться, это будет означать, что мы достигли конца страницы, - в таком случае мы будем\n",
    "выходить из цикла."
   ]
  },
  {
   "cell_type": "code",
   "execution_count": null,
   "id": "dc62a70b",
   "metadata": {},
   "outputs": [],
   "source": [
    "while True:\n",
    "    driver.execute_script(f\"window.scrollTo(0, {last_height});\")\n",
    "    new_height = driver.execute_script(\"return document.body.scrollHeight\")\n",
    "    if new_height == body_height:\n",
    "        break\n",
    "    body_height = new_height"
   ]
  },
  {
   "cell_type": "markdown",
   "id": "34cefe70",
   "metadata": {},
   "source": [
    "В `driver.execute_script` мы выполняем команду скролинга окна - `window.scrollTo`. Внутри мы указываем\n",
    "две координаты: первая - координата по горизонтальной оси документа. Так как нам не надо скролить\n",
    "влево или вправо, мы указываем 0 Вторая координата - вертикальная ось документа, в которую мы\n",
    "передаем высоту нашего элемента body.\n",
    "\n",
    "Теперь нам надо обязательно делать паузы между скролингом. Во-первых, чтобы дать элементам\n",
    "время на загрузку, во-вторых, чтобы не перегружать сайт. Запомните, чем больше и тяжелее у вас\n",
    "элементы на странице, тем медленнее элементы будут подгружаться в html. Поэтому если вам надо\n",
    "долго скролить, старайтесь использовать большие паузы.\n",
    "\n",
    "Определим время паузы до начала цикла while"
   ]
  },
  {
   "cell_type": "code",
   "execution_count": null,
   "id": "3e8367f6",
   "metadata": {},
   "outputs": [],
   "source": [
    "pause_time = 0.5"
   ]
  },
  {
   "cell_type": "markdown",
   "id": "ee3ef109",
   "metadata": {},
   "source": [
    "И вставим это время внутри цикла"
   ]
  },
  {
   "cell_type": "code",
   "execution_count": null,
   "id": "7f948627",
   "metadata": {},
   "outputs": [],
   "source": [
    "driver.execute_script(f\"window.scrollTo(0, {last_height});\")\n",
    "pause_time = 0.5\n",
    "new_height = driver.execute_script(\"return document.body.scrollHeight\")"
   ]
  },
  {
   "cell_type": "markdown",
   "id": "d5725a75",
   "metadata": {},
   "source": [
    "И давайте после завершения цикла соберем все цитаты и вернем их длину. Для этого можем\n",
    "скопировать строчки из предыдущего кода."
   ]
  },
  {
   "cell_type": "code",
   "execution_count": null,
   "id": "052252f2",
   "metadata": {},
   "outputs": [],
   "source": [
    "quotes = driver.find_elements_by_class_name(\"quote\")\n",
    "print(f'Количество цитат равно {len(quotes)}')"
   ]
  },
  {
   "cell_type": "markdown",
   "id": "05c1de98",
   "metadata": {},
   "source": [
    "Так, запускаем парсер. Как видите, всё работает. Давайте теперь я вам покажу еще один способ\n",
    "скролить страницу, а именно, используя кнопку пробел. Для этого нам надо импортировать еще два\n",
    "класса."
   ]
  },
  {
   "cell_type": "code",
   "execution_count": null,
   "id": "9dd4605c",
   "metadata": {},
   "outputs": [],
   "source": [
    "from selenium.webdriver.common.keys import Keys\n",
    "from selenium.webdriver.common.action_chains import ActionChains"
   ]
  },
  {
   "cell_type": "markdown",
   "id": "95c487e3",
   "metadata": {},
   "source": [
    "Теперь создаем переменную actions, которая позволит нам выполнять действия в драйвере."
   ]
  },
  {
   "cell_type": "code",
   "execution_count": null,
   "id": "004e3b9d",
   "metadata": {},
   "outputs": [],
   "source": [
    "actions = ActionChains(driver)"
   ]
  },
  {
   "cell_type": "markdown",
   "id": "6117e131",
   "metadata": {},
   "source": [
    "Получение высоты элемента и ее обновление в цикле мы оставляем без изменений, так же как и\n",
    "время паузы. А вот выполнение скрипта скролинга давайте закомментируем и напишем выполнение\n",
    "нажатия кнопки пробел."
   ]
  },
  {
   "cell_type": "code",
   "execution_count": null,
   "id": "5095fd7e",
   "metadata": {},
   "outputs": [],
   "source": [
    "# driver.execute_script(\"window.scrollTo(0, document.body.scrollHeight);\")\n",
    "actions.send_keys(Keys.SPACE).perform()"
   ]
  },
  {
   "cell_type": "markdown",
   "id": "9b4dd0a3",
   "metadata": {},
   "source": [
    "Запускаем скрипт. Как видите, он работает точно так же.\n",
    "\n",
    "Еще есть несколько опций запуска драйвера, которые могут быть полезны при парсинге. Это опция\n",
    "отключения картинок и всплывающих окон. Для этого в начале скрипта нам надо создать профиль,\n",
    "задать профилю нужные значения, а затем при создании драйвера указать этот профиль."
   ]
  },
  {
   "cell_type": "code",
   "execution_count": null,
   "id": "a8eac6d0",
   "metadata": {},
   "outputs": [],
   "source": [
    "profile = webdriver.FirefoxProfile()\n",
    "profile.set_preference('permissions.default.image', 2)\n",
    "profile.set_preference('dom.ipc.plugins.enabled.libflashplayer.so', 'false')\n",
    "driver = webdriver.Firefox(profile, executable_path='./geckodriver')"
   ]
  },
  {
   "cell_type": "markdown",
   "id": "202e9089",
   "metadata": {},
   "source": [
    "`set_preference('permissions.default.image', 2)` - отключает картинки на странице\n",
    "\n",
    "`set_preference('dom.ipc.plugins.enabled.libflashplayer.so', ‘false')` - отключает всплывающие окна. В\n",
    "нашем примере это никак не повлияет на работу скрипта, так как у нас нет ни картинок, ни\n",
    "всплывающих окон. Однако в реальной жизни эти опции часто бывают полезны.\n",
    "\n",
    "Еще есть опция запуска драйвера без графического интерфейса. Для этого надо импортировать\n",
    "класс options и прописать запуск без графического интерфейса."
   ]
  },
  {
   "cell_type": "code",
   "execution_count": null,
   "id": "509588c3",
   "metadata": {},
   "outputs": [],
   "source": [
    "options = Options()\n",
    "options.add_argument('--headless')\n",
    "driver = webdriver.Firefox(options=options, executable_path='./geckodriver')"
   ]
  },
  {
   "cell_type": "markdown",
   "id": "64a677ac",
   "metadata": {},
   "source": [
    "Это ускорит работу скрипта и снизит нагрузку на систему, а также сэкономит объём загружаемых\n",
    "данных. Однако в большинстве случаев сайты распознают такие моменты и моментально блокируют\n",
    "парсеры. На этом наш урок, посвященный селениуму, подошел к концу. Безусловно его функционал\n",
    "не граничивается теми методами, что мы здесь разобрали. Это только самые простые и\n",
    "необходимые. И прошу вас не забывать об этичном парсинге. Работая с селениумом можно легко\n",
    "перегрузить сайт, создав видимость реальных запросов."
   ]
  },
  {
   "cell_type": "markdown",
   "id": "3416f11b",
   "metadata": {},
   "source": [
    "### Глоссарий\n",
    "`Selenium` — инструмент для автоматизации действий веб-браузера, в его рамках представлены такие\n",
    "продукты, как Selenium WebDriver, Selenium RC, Selenium Server, Selenium Grid, Selenium IDE.\n",
    "\n",
    "`Selenium WebDriver` — программная библиотека для управления браузерами, основной продукт в\n",
    "рамках проекта Selenium. Она включает набор модулей для разработки ПО.\n",
    "\n",
    "`XPath` — язык, использующийся для поиска узлов дерева XML-документа.\n",
    "\n",
    "`Явное ожидание` — указание WebDriver ожидать возникновение определённого условия до начала\n",
    "действий.\n",
    "\n",
    "`Неявное ожидание` — указание WebDriver опрашивать DOM определённое количество времени."
   ]
  },
  {
   "cell_type": "markdown",
   "id": "1e8756bf",
   "metadata": {},
   "source": [
    "### Дополнительные материалы\n",
    "\n",
    "1. Современная веб -автоматизация при помощи Python и Selenium .\n",
    "\n",
    "### Домашнее задание\n",
    "Залогиниться на сайте. Вывести сообщение, которое появляется после логина (связка логин/пароль\n",
    "может быть любой).\n",
    "\n",
    "### Используемая литература\n",
    "\n",
    "1. The Selenium Browser Automation Project :: Documentation for Selenium\n",
    "2. The Selenium Browser Automation Project :: Documentation for Selenium\n",
    "3. Open source record and playback test automation for the web\n",
    "4. Пробный запуск браузера"
   ]
  },
  {
   "cell_type": "code",
   "execution_count": null,
   "id": "f327a6f6",
   "metadata": {},
   "outputs": [],
   "source": []
  }
 ],
 "metadata": {
  "kernelspec": {
   "display_name": "Python 3 (ipykernel)",
   "language": "python",
   "name": "python3"
  },
  "language_info": {
   "codemirror_mode": {
    "name": "ipython",
    "version": 3
   },
   "file_extension": ".py",
   "mimetype": "text/x-python",
   "name": "python",
   "nbconvert_exporter": "python",
   "pygments_lexer": "ipython3",
   "version": "3.8.8"
  }
 },
 "nbformat": 4,
 "nbformat_minor": 5
}

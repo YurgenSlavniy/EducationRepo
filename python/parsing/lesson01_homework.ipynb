{
 "cells": [
  {
   "cell_type": "markdown",
   "id": "c11460a1",
   "metadata": {},
   "source": [
    "### Урок 1. Основы клиент-серверного взаимодействия. Работа с API\n",
    "\n",
    "1. Посмотреть документацию к API GitHub, разобраться как вывести список репозиториев для конкретного пользователя, сохранить JSON-вывод в файле *.json.\n",
    "2. Изучить список открытых API (https://www.programmableweb.com/category/all/apis). Найти среди них любое, требующее авторизацию (любого типа). Выполнить запросы к нему, пройдя авторизацию. Ответ сервера записать в файл.\n",
    "Если нет желания заморачиваться с поиском, возьмите API вконтакте (https://vk.com/dev/first_guide). Сделайте запрос, чтобы получить список всех сообществ на которые вы подписаны.\n",
    "\n",
    "Инструкция к сдаче\n",
    "Настоятельно рекомендуем сдавать практическое задание в виде ссылки на pull request.\n",
    "Рекомендуемый способ организации данных в репозитории: создать отдельные папки по темам и помещать в них отдельные файлы для каждой задачи с правильным расширением.\n",
    "\n",
    "Ссылка на инструкцию по работе с git и сдачу практики:\n",
    "https://docs.google.com/document/d/1RAT_ukE39iOfbz1xa39QXae2hBUEZ4U6Fko_wFDdrsM/edit\n",
    "\n",
    "Ссылка на видеокурс по Git:\n",
    "https://geekbrains.ru/courses/1117\n",
    "Очень интересный сайт для простого изучения Git:\n",
    "https://learngitbranching.js.org/?locale=ru_RU\n",
    "\n",
    "Если остались сложности с системой git, обратитесь к преподавателю или наставнику."
   ]
  },
  {
   "cell_type": "code",
   "execution_count": 9,
   "id": "79cc213b",
   "metadata": {},
   "outputs": [
    {
     "name": "stdout",
     "output_type": "stream",
     "text": [
      "Введите имя пользователя для которого будет произведён поиск репозиториев на GitHub:yurgenslavniy\n",
      "Вы ввели имя пользователя: YurgenSlavniy. \n",
      "Список публичных репозиториев данного пользователя: 6\n",
      "\n",
      "1 )  CHECIO\n",
      "2 )  EducationRepo\n",
      "3 )  EVERYDAY\n",
      "4 )  Site-Trade-Helper\n",
      "5 )  Trader_Bot\n",
      "6 )  TSAP\n"
     ]
    }
   ],
   "source": [
    "import requests\n",
    "from pprint import pprint\n",
    "\n",
    "user = input(\"Введите имя пользователя для которого будет произведён поиск репозиториев на GitHub:\")\n",
    "url = \"https://api.github.com/users/\" + user\n",
    "response = requests.get(url)\n",
    "\n",
    "if response.ok:\n",
    "    j_data = response.json()\n",
    "    print(f\"Вы ввели имя пользователя: {j_data['login']}. \\nСписок публичных репозиториев данного пользователя: {j_data['public_repos']}\\n\")\n",
    "    url_repos = 'https://api.github.com/users/' + j_data['login'] + '/repos'\n",
    "    response_repos = requests.get(url_repos)\n",
    "    j_data_repos = response_repos.json()\n",
    "    num = 0\n",
    "    for el in j_data_repos:\n",
    "        num += 1\n",
    "        print(num,') ',el['name'])\n",
    "else:\n",
    "    print(\"Пользователь на гитхаб не обнаружен!\")"
   ]
  },
  {
   "cell_type": "markdown",
   "id": "b4b76a8e",
   "metadata": {},
   "source": [
    "Для решения задания необходимо было найти ссылку `\"https://api.github.com/users/\"`\n",
    "\n",
    "В документации нету, эта ссылка гуглится. \n",
    "\n",
    "вот список пользователей где можно посмотреть решения:\n",
    "- rectorkipa"
   ]
  },
  {
   "cell_type": "code",
   "execution_count": null,
   "id": "53e99967",
   "metadata": {},
   "outputs": [],
   "source": [
    "# 1. Посмотреть документацию к API GitHub,\n",
    "# разобраться как вывести список репозиториев для конкретного пользователя,\n",
    "# сохранить JSON-вывод в файле *.json.\n",
    "\n",
    "import requests\n",
    "import json\n",
    "\n",
    "url = 'https://api.github.com/users/rectorkipa/repos'\n",
    "\n",
    "response = requests.get(url)\n",
    "\n",
    "j_data = response.json()\n",
    "\n",
    "repos = []\n",
    "for i in j_data:\n",
    "    repos.append(i['name'])\n",
    "\n",
    "print('Список репозиториев конкретного пользователя \"rectorkipa\": ', repos)\n",
    "\n",
    "with open('repos.json', 'w') as f:\n",
    "    json.dump(j_data, f)"
   ]
  },
  {
   "cell_type": "code",
   "execution_count": null,
   "id": "865538fe",
   "metadata": {},
   "outputs": [],
   "source": [
    "# 2. Изучить список открытых API (https://www.programmableweb.com/category/all/apis).\n",
    "# Найти среди них любое, требующее авторизацию (любого типа).\n",
    "# Выполнить запросы к нему, пройдя авторизацию. Ответ сервера записать в файл.\n",
    "# Если нет желания заморачиваться с поиском, возьмите API вконтакте (https://vk.com/dev/first_guide).\n",
    "# Сделайте запрос, чтобы получить список всех сообществ на которые вы подписаны.\n",
    "\n",
    "import requests\n",
    "import json\n",
    "\n",
    "url = 'https://api.vk.com/method/groups.get?user_id=55369256&access_token=27b157e4334d45606e422e1807d2a538887a8f40156c75340193f225cafdb2746b18071c05d7900307b58&v=5.131'\n",
    "\n",
    "response = requests.get(url)\n",
    "\n",
    "j_data = response.json()\n",
    "\n",
    "print('Список всех сообществ: ', j_data)\n",
    "\n",
    "with open('vk_groups.json', 'w') as f:\n",
    "    json.dump(j_data, f)\n"
   ]
  },
  {
   "cell_type": "code",
   "execution_count": null,
   "id": "cf445ada",
   "metadata": {},
   "outputs": [],
   "source": [
    "#  Изучить список открытых API (https://www.programmableweb.com/category/all/apis).\n",
    "# Найти среди них любое, требующее авторизацию (любого типа).\n",
    "# Выполнить запросы к нему, пройдя авторизацию.\n",
    "# Ответ сервера записать в файл.\n",
    "\n",
    "import json\n",
    "import requests\n",
    "from pprint import pprint\n",
    "from config import settings\n",
    "\n",
    "# There's The Open Movie Database\n",
    "URL = 'http://www.omdbapi.com/'\n",
    "\n",
    "# Find all movies with words in the title\n",
    "includes_in_title = 'valve'\n",
    "# Get credential info (that's should be your own key)\n",
    "app_key = settings.get('APP_KEY_FOR_OMDBAPI')\n",
    "\n",
    "params = {'apikey': app_key,\n",
    "          's': includes_in_title,\n",
    "          }\n",
    "\n",
    "response = requests.get(URL, params=params)\n",
    "json_data = response.json()\n",
    "\n",
    "if json_data['Response']:\n",
    "    searched_movie = json_data['Search']\n",
    "    file_name = f'results_for\"{includes_in_title}\"'\n",
    "    with open(f'{file_name}.json', 'w') as file:\n",
    "        json.dump(searched_movie, file)\n",
    "else:\n",
    "    print('Nothing found')"
   ]
  },
  {
   "cell_type": "code",
   "execution_count": null,
   "id": "5e28b7ed",
   "metadata": {},
   "outputs": [],
   "source": []
  },
  {
   "cell_type": "code",
   "execution_count": null,
   "id": "0474d712",
   "metadata": {},
   "outputs": [],
   "source": []
  }
 ],
 "metadata": {
  "kernelspec": {
   "display_name": "Python 3 (ipykernel)",
   "language": "python",
   "name": "python3"
  },
  "language_info": {
   "codemirror_mode": {
    "name": "ipython",
    "version": 3
   },
   "file_extension": ".py",
   "mimetype": "text/x-python",
   "name": "python",
   "nbconvert_exporter": "python",
   "pygments_lexer": "ipython3",
   "version": "3.8.8"
  }
 },
 "nbformat": 4,
 "nbformat_minor": 5
}

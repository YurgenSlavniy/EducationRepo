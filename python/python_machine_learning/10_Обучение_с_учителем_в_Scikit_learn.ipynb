{
 "cells": [
  {
   "cell_type": "markdown",
   "metadata": {
    "id": "RQtiPPhrOA3I"
   },
   "source": [
    "# Обучение с учителем в Scikit-learn\n",
    "\n",
    "На предыдущих уроках мы изучили инструменты, которые позволяют работать с данными: загружать, просматривать, фильтровать, преобразовывать, визуализировать. Всё это делалось с помощью библиотек `numpy`, `pandas` и `matplotlib`. Такая работа позволяет получить представление об информации, содержащейся в данных, и сделать какие-то выводы.\n",
    "\n",
    "Когда данных имеется достаточное количество, можно доверить получение выводов по этим данным в руки специальным алгоритмам, умеющим в зависимости от поставленной задачи прогнозировать интересующую нас величину, классифицировать объекты или разбивать их на группы.\n",
    "\n",
    "Совокупность таких алгоритмов образует дисциплину под названием _Машинное обучение_. Эту дисциплину можно разделить на две основные части: обучение с учителем и обучение без учителя. \n",
    "\n",
    "На этом уроке мы рассмотрим обучение с учителем. Основная особенность этого вида обучения состоит в том, что помимо набора данных, по которым мы хотим предсказать ту или иную величину, у нас имеется для этих данных набор правильных ответов. Наша задача в этом случае - построить модель, которая будет способна наиболее точно _обобщать_ эти данные, то есть предсказывать этот правильный ответ по данным, в которых этого правильного ответа у нас нет.\n",
    "\n",
    "## Линейная регрессия\n",
    "\n",
    "Первый алгоритм, который мы рассмотрим - _Линейная регрессия_ - предназначен для предсказания непрерывной величины. Например, это может быть цена на какой-то товар, какой-то физический показатель или иная характеристика, представляющая собой, например, вещественное число. _Задачи регрессии_ - это как раз тип задач, в которых предсказываются такого рода величины.\n",
    "\n",
    "Для решения задач машинного обучения можно использовать библиотеку `scikit-learn` (сокращённо `sklearn`). В этой библиотеке помимо готовых реализаций алгоритмов и моделей машинного обучения есть также средства для предобработки данных и многое другое.\n",
    "\n",
    "Также в библиотеке `sklearn` имеется набор датасетов, которые удобно использовать для знакомства с библиотекой, и на которых можно пробовать различные алгоритмы машинного обучения. Для изучения алгоритма линейной регрессии мы возьмём датасет, содержащий цены на недвижимость в Бостоне различные характеристики этой недвижимости. Для начала загрузим этот датасет:"
   ]
  },
  {
   "cell_type": "code",
   "execution_count": null,
   "metadata": {
    "id": "01GLAtjROA3L"
   },
   "outputs": [],
   "source": [
    "import warnings\n",
    "\n",
    "warnings.filterwarnings('ignore')"
   ]
  },
  {
   "cell_type": "code",
   "execution_count": null,
   "metadata": {
    "id": "Q9sunYzsOA3N"
   },
   "outputs": [],
   "source": [
    "import numpy as np\n",
    "import pandas as pd\n",
    "\n",
    "from sklearn.datasets import load_boston"
   ]
  },
  {
   "cell_type": "markdown",
   "metadata": {
    "id": "plVFwgM9OA3O"
   },
   "source": [
    "Функция `load_boston` загружает датасет. Загрузим его в переменную `boston`. Этот датасет представлен в виде словаря. Посмотрим, какие у этого словаря есть ключи:"
   ]
  },
  {
   "cell_type": "code",
   "execution_count": null,
   "metadata": {
    "id": "QGBkGfYaOA3Q",
    "outputId": "86593ead-66b2-41f0-baa5-49e22c0edede"
   },
   "outputs": [
    {
     "data": {
      "text/plain": [
       "dict_keys(['data', 'target', 'feature_names', 'DESCR', 'filename'])"
      ]
     },
     "execution_count": 3,
     "metadata": {
      "tags": []
     },
     "output_type": "execute_result"
    }
   ],
   "source": [
    "boston = load_boston()\n",
    "\n",
    "boston.keys()"
   ]
  },
  {
   "cell_type": "markdown",
   "metadata": {
    "id": "vpA1j1BIOA3S"
   },
   "source": [
    "Данные о недвижимости хранятся в массиве по ключу `\"data\"`. Посмотрим поближе на эти данные."
   ]
  },
  {
   "cell_type": "code",
   "execution_count": null,
   "metadata": {
    "id": "ORL--_HlOA3U",
    "outputId": "a7550cf4-6e58-442b-9ab4-8e554d51406c"
   },
   "outputs": [
    {
     "data": {
      "text/plain": [
       "(506, 13)"
      ]
     },
     "execution_count": 4,
     "metadata": {
      "tags": []
     },
     "output_type": "execute_result"
    }
   ],
   "source": [
    "data = boston[\"data\"]\n",
    "\n",
    "data.shape"
   ]
  },
  {
   "cell_type": "markdown",
   "metadata": {
    "id": "NOUcqyTwOA3V"
   },
   "source": [
    "Мы видим, что это массив из 506 строк и 13 столбцов. Здесь каждая строка отвечает какому-то объекту (в нашем случае - объекту недвижимости), а столбцы - каким-то его характеристикам. Названия этих признаков хранятся в массиве по ключу `\"feature_names\"`:"
   ]
  },
  {
   "cell_type": "code",
   "execution_count": null,
   "metadata": {
    "id": "2hby0w58OA3W",
    "outputId": "6e6562bb-390e-4943-d222-afa1ef1ed964"
   },
   "outputs": [
    {
     "data": {
      "text/plain": [
       "array(['CRIM', 'ZN', 'INDUS', 'CHAS', 'NOX', 'RM', 'AGE', 'DIS', 'RAD',\n",
       "       'TAX', 'PTRATIO', 'B', 'LSTAT'], dtype='<U7')"
      ]
     },
     "execution_count": 5,
     "metadata": {
      "tags": []
     },
     "output_type": "execute_result"
    }
   ],
   "source": [
    "feature_names = boston[\"feature_names\"]\n",
    "\n",
    "feature_names"
   ]
  },
  {
   "cell_type": "markdown",
   "metadata": {
    "id": "WkMbp-RZOA3X"
   },
   "source": [
    "Не совсем ясно, что представляют из себя эти признаки. Описание всего датасета можно получить по ключу `\"DESCR\"`:"
   ]
  },
  {
   "cell_type": "code",
   "execution_count": null,
   "metadata": {
    "id": "yOHah0SGOA3Z",
    "outputId": "020e8c4f-ad17-4038-cd0c-eff2896fb560"
   },
   "outputs": [
    {
     "name": "stdout",
     "output_type": "stream",
     "text": [
      ".. _boston_dataset:\n",
      "\n",
      "Boston house prices dataset\n",
      "---------------------------\n",
      "\n",
      "**Data Set Characteristics:**  \n",
      "\n",
      "    :Number of Instances: 506 \n",
      "\n",
      "    :Number of Attributes: 13 numeric/categorical predictive. Median Value (attribute 14) is usually the target.\n",
      "\n",
      "    :Attribute Information (in order):\n",
      "        - CRIM     per capita crime rate by town\n",
      "        - ZN       proportion of residential land zoned for lots over 25,000 sq.ft.\n",
      "        - INDUS    proportion of non-retail business acres per town\n",
      "        - CHAS     Charles River dummy variable (= 1 if tract bounds river; 0 otherwise)\n",
      "        - NOX      nitric oxides concentration (parts per 10 million)\n",
      "        - RM       average number of rooms per dwelling\n",
      "        - AGE      proportion of owner-occupied units built prior to 1940\n",
      "        - DIS      weighted distances to five Boston employment centres\n",
      "        - RAD      index of accessibility to radial highways\n",
      "        - TAX      full-value property-tax rate per $10,000\n",
      "        - PTRATIO  pupil-teacher ratio by town\n",
      "        - B        1000(Bk - 0.63)^2 where Bk is the proportion of blacks by town\n",
      "        - LSTAT    % lower status of the population\n",
      "        - MEDV     Median value of owner-occupied homes in $1000's\n",
      "\n",
      "    :Missing Attribute Values: None\n",
      "\n",
      "    :Creator: Harrison, D. and Rubinfeld, D.L.\n",
      "\n",
      "This is a copy of UCI ML housing dataset.\n",
      "https://archive.ics.uci.edu/ml/machine-learning-databases/housing/\n",
      "\n",
      "\n",
      "This dataset was taken from the StatLib library which is maintained at Carnegie Mellon University.\n",
      "\n",
      "The Boston house-price data of Harrison, D. and Rubinfeld, D.L. 'Hedonic\n",
      "prices and the demand for clean air', J. Environ. Economics & Management,\n",
      "vol.5, 81-102, 1978.   Used in Belsley, Kuh & Welsch, 'Regression diagnostics\n",
      "...', Wiley, 1980.   N.B. Various transformations are used in the table on\n",
      "pages 244-261 of the latter.\n",
      "\n",
      "The Boston house-price data has been used in many machine learning papers that address regression\n",
      "problems.   \n",
      "     \n",
      ".. topic:: References\n",
      "\n",
      "   - Belsley, Kuh & Welsch, 'Regression diagnostics: Identifying Influential Data and Sources of Collinearity', Wiley, 1980. 244-261.\n",
      "   - Quinlan,R. (1993). Combining Instance-Based and Model-Based Learning. In Proceedings on the Tenth International Conference of Machine Learning, 236-243, University of Massachusetts, Amherst. Morgan Kaufmann.\n",
      "\n"
     ]
    }
   ],
   "source": [
    "print(boston[\"DESCR\"])"
   ]
  },
  {
   "cell_type": "markdown",
   "metadata": {
    "id": "NU9fghYNOA3b"
   },
   "source": [
    "Данный текст содержит более подробную информацию о датасете, признаках, а также об авторах.\n",
    "\n",
    "Наконец, массив с целевыми значениями (в нашем случае - ценами на недвижимость) можно получить по ключу `\"target\"`:"
   ]
  },
  {
   "cell_type": "code",
   "execution_count": null,
   "metadata": {
    "id": "mGR58cdMOA3d",
    "outputId": "efa616ff-26ab-4d6e-f511-4870b01775ea"
   },
   "outputs": [
    {
     "data": {
      "text/plain": [
       "array([24. , 21.6, 34.7, 33.4, 36.2, 28.7, 22.9, 27.1, 16.5, 18.9])"
      ]
     },
     "execution_count": 7,
     "metadata": {
      "tags": []
     },
     "output_type": "execute_result"
    }
   ],
   "source": [
    "target = boston[\"target\"]\n",
    "\n",
    "target[:10]"
   ]
  },
  {
   "cell_type": "markdown",
   "metadata": {
    "id": "UdYYZeMNOA3d"
   },
   "source": [
    "Создадим несколько таблиц `DataFrame` для более удобного хранения данных. В таблице `X` будут храниться признаки. В качестве названий для столбцов возьмём массив `feature_names`:"
   ]
  },
  {
   "cell_type": "code",
   "execution_count": null,
   "metadata": {
    "id": "uQ3lv5GWOA3d",
    "outputId": "ca434a66-5ee1-43f5-f804-ad224ca6a31a"
   },
   "outputs": [
    {
     "data": {
      "text/html": [
       "<div>\n",
       "<style scoped>\n",
       "    .dataframe tbody tr th:only-of-type {\n",
       "        vertical-align: middle;\n",
       "    }\n",
       "\n",
       "    .dataframe tbody tr th {\n",
       "        vertical-align: top;\n",
       "    }\n",
       "\n",
       "    .dataframe thead th {\n",
       "        text-align: right;\n",
       "    }\n",
       "</style>\n",
       "<table border=\"1\" class=\"dataframe\">\n",
       "  <thead>\n",
       "    <tr style=\"text-align: right;\">\n",
       "      <th></th>\n",
       "      <th>CRIM</th>\n",
       "      <th>ZN</th>\n",
       "      <th>INDUS</th>\n",
       "      <th>CHAS</th>\n",
       "      <th>NOX</th>\n",
       "      <th>RM</th>\n",
       "      <th>AGE</th>\n",
       "      <th>DIS</th>\n",
       "      <th>RAD</th>\n",
       "      <th>TAX</th>\n",
       "      <th>PTRATIO</th>\n",
       "      <th>B</th>\n",
       "      <th>LSTAT</th>\n",
       "    </tr>\n",
       "  </thead>\n",
       "  <tbody>\n",
       "    <tr>\n",
       "      <th>0</th>\n",
       "      <td>0.00632</td>\n",
       "      <td>18.0</td>\n",
       "      <td>2.31</td>\n",
       "      <td>0.0</td>\n",
       "      <td>0.538</td>\n",
       "      <td>6.575</td>\n",
       "      <td>65.2</td>\n",
       "      <td>4.0900</td>\n",
       "      <td>1.0</td>\n",
       "      <td>296.0</td>\n",
       "      <td>15.3</td>\n",
       "      <td>396.90</td>\n",
       "      <td>4.98</td>\n",
       "    </tr>\n",
       "    <tr>\n",
       "      <th>1</th>\n",
       "      <td>0.02731</td>\n",
       "      <td>0.0</td>\n",
       "      <td>7.07</td>\n",
       "      <td>0.0</td>\n",
       "      <td>0.469</td>\n",
       "      <td>6.421</td>\n",
       "      <td>78.9</td>\n",
       "      <td>4.9671</td>\n",
       "      <td>2.0</td>\n",
       "      <td>242.0</td>\n",
       "      <td>17.8</td>\n",
       "      <td>396.90</td>\n",
       "      <td>9.14</td>\n",
       "    </tr>\n",
       "    <tr>\n",
       "      <th>2</th>\n",
       "      <td>0.02729</td>\n",
       "      <td>0.0</td>\n",
       "      <td>7.07</td>\n",
       "      <td>0.0</td>\n",
       "      <td>0.469</td>\n",
       "      <td>7.185</td>\n",
       "      <td>61.1</td>\n",
       "      <td>4.9671</td>\n",
       "      <td>2.0</td>\n",
       "      <td>242.0</td>\n",
       "      <td>17.8</td>\n",
       "      <td>392.83</td>\n",
       "      <td>4.03</td>\n",
       "    </tr>\n",
       "    <tr>\n",
       "      <th>3</th>\n",
       "      <td>0.03237</td>\n",
       "      <td>0.0</td>\n",
       "      <td>2.18</td>\n",
       "      <td>0.0</td>\n",
       "      <td>0.458</td>\n",
       "      <td>6.998</td>\n",
       "      <td>45.8</td>\n",
       "      <td>6.0622</td>\n",
       "      <td>3.0</td>\n",
       "      <td>222.0</td>\n",
       "      <td>18.7</td>\n",
       "      <td>394.63</td>\n",
       "      <td>2.94</td>\n",
       "    </tr>\n",
       "    <tr>\n",
       "      <th>4</th>\n",
       "      <td>0.06905</td>\n",
       "      <td>0.0</td>\n",
       "      <td>2.18</td>\n",
       "      <td>0.0</td>\n",
       "      <td>0.458</td>\n",
       "      <td>7.147</td>\n",
       "      <td>54.2</td>\n",
       "      <td>6.0622</td>\n",
       "      <td>3.0</td>\n",
       "      <td>222.0</td>\n",
       "      <td>18.7</td>\n",
       "      <td>396.90</td>\n",
       "      <td>5.33</td>\n",
       "    </tr>\n",
       "  </tbody>\n",
       "</table>\n",
       "</div>"
      ],
      "text/plain": [
       "      CRIM    ZN  INDUS  CHAS    NOX     RM   AGE     DIS  RAD    TAX  \\\n",
       "0  0.00632  18.0   2.31   0.0  0.538  6.575  65.2  4.0900  1.0  296.0   \n",
       "1  0.02731   0.0   7.07   0.0  0.469  6.421  78.9  4.9671  2.0  242.0   \n",
       "2  0.02729   0.0   7.07   0.0  0.469  7.185  61.1  4.9671  2.0  242.0   \n",
       "3  0.03237   0.0   2.18   0.0  0.458  6.998  45.8  6.0622  3.0  222.0   \n",
       "4  0.06905   0.0   2.18   0.0  0.458  7.147  54.2  6.0622  3.0  222.0   \n",
       "\n",
       "   PTRATIO       B  LSTAT  \n",
       "0     15.3  396.90   4.98  \n",
       "1     17.8  396.90   9.14  \n",
       "2     17.8  392.83   4.03  \n",
       "3     18.7  394.63   2.94  \n",
       "4     18.7  396.90   5.33  "
      ]
     },
     "execution_count": 8,
     "metadata": {
      "tags": []
     },
     "output_type": "execute_result"
    }
   ],
   "source": [
    "X = pd.DataFrame(data, columns=feature_names)\n",
    "\n",
    "X.head()"
   ]
  },
  {
   "cell_type": "markdown",
   "metadata": {
    "id": "M5_iZA_HOA3f"
   },
   "source": [
    "Выведем информацию об этой таблице:"
   ]
  },
  {
   "cell_type": "code",
   "execution_count": null,
   "metadata": {
    "id": "XVX2sDdYOA3g",
    "outputId": "010d6016-0e52-4cf7-dec0-02d806c5bc38"
   },
   "outputs": [
    {
     "name": "stdout",
     "output_type": "stream",
     "text": [
      "<class 'pandas.core.frame.DataFrame'>\n",
      "RangeIndex: 506 entries, 0 to 505\n",
      "Data columns (total 13 columns):\n",
      "CRIM       506 non-null float64\n",
      "ZN         506 non-null float64\n",
      "INDUS      506 non-null float64\n",
      "CHAS       506 non-null float64\n",
      "NOX        506 non-null float64\n",
      "RM         506 non-null float64\n",
      "AGE        506 non-null float64\n",
      "DIS        506 non-null float64\n",
      "RAD        506 non-null float64\n",
      "TAX        506 non-null float64\n",
      "PTRATIO    506 non-null float64\n",
      "B          506 non-null float64\n",
      "LSTAT      506 non-null float64\n",
      "dtypes: float64(13)\n",
      "memory usage: 51.5 KB\n"
     ]
    }
   ],
   "source": [
    "X.info()"
   ]
  },
  {
   "cell_type": "markdown",
   "metadata": {
    "id": "Y8iX2rUSOA3g"
   },
   "source": [
    "Как видно из этой информации, данная таблица не содержит пропущенных значений.\n",
    "\n",
    "Теперь создадим таблицу `y`, в которую запишем целевые значения:"
   ]
  },
  {
   "cell_type": "code",
   "execution_count": null,
   "metadata": {
    "id": "qGMzG5NEOA3i",
    "outputId": "bbf4e572-2483-4ae9-9f02-d43e6d643821"
   },
   "outputs": [
    {
     "name": "stdout",
     "output_type": "stream",
     "text": [
      "<class 'pandas.core.frame.DataFrame'>\n",
      "RangeIndex: 506 entries, 0 to 505\n",
      "Data columns (total 1 columns):\n",
      "price    506 non-null float64\n",
      "dtypes: float64(1)\n",
      "memory usage: 4.0 KB\n"
     ]
    }
   ],
   "source": [
    "y = pd.DataFrame(target, columns=[\"price\"])\n",
    "\n",
    "y.info()"
   ]
  },
  {
   "cell_type": "markdown",
   "metadata": {
    "id": "TVZzApDvOA3i"
   },
   "source": [
    "В этой таблице также нет пропущенных значений.\n",
    "\n",
    "### Разбиение выборки на тренировочную и тестовую\n",
    "\n",
    "Обычно при обучении моделей машинного обучения используют две выборки: тренировочную и тестовую. Первая нужна для того, чтобы обучить модель. Вторая - для проверки качества обученной модели: мы можем сравнить предсказанную на этих данных цену с реальной, поскольку она у нас тоже имеется.\n",
    "\n",
    "Разбиение данных на тренировочную и тестовую выборку можно выполнить с помощью функции `train_test_split` из модуля `sklearn.model_selection`."
   ]
  },
  {
   "cell_type": "code",
   "execution_count": null,
   "metadata": {
    "id": "CH8CW4iwOA3j"
   },
   "outputs": [],
   "source": [
    "from sklearn.model_selection import train_test_split"
   ]
  },
  {
   "cell_type": "code",
   "execution_count": null,
   "metadata": {
    "id": "SucwMIcVOA3k"
   },
   "outputs": [],
   "source": [
    "X_train, X_test, y_train, y_test = train_test_split(X, y, test_size=0.25)"
   ]
  },
  {
   "cell_type": "markdown",
   "metadata": {
    "id": "jWvM8H16OA3k"
   },
   "source": [
    "С помощью параметра `test_size` можно указать, какую часть данных мы хотим выделить под тест. Если подать сюда число из отрезка $[0, 1)$, то оно будет интерпретироваться как доля тестовых объектов. Если же подать число большее или равное 1, это будет число объектов в тестовой выборке.\n",
    "\n",
    "### Построение модели\n",
    "\n",
    "Итак, загрузим модель линейной регрессии:"
   ]
  },
  {
   "cell_type": "code",
   "execution_count": null,
   "metadata": {
    "id": "y0r2zjWIOA3l"
   },
   "outputs": [],
   "source": [
    "from sklearn.linear_model import LinearRegression"
   ]
  },
  {
   "cell_type": "code",
   "execution_count": null,
   "metadata": {
    "id": "TH5_vVBcOA3l"
   },
   "outputs": [],
   "source": [
    "lr = LinearRegression()"
   ]
  },
  {
   "cell_type": "markdown",
   "metadata": {
    "id": "EHb1r6n2OA3m"
   },
   "source": [
    "Модель линейной регрессии по объекту $x = (x_1, \\dots, x_n)$ предсказывает значение целевой переменной, используя линейную функцию \n",
    "\n",
    "$$f(x) = w_0 + w_1 \\cdot x_1 + \\dots + w_n \\cdot x_n.$$ \n",
    "\n",
    "Задача такой модели - в процессе обучения подобрать эти коэффициенты $w_i$ так, чтобы значение этой функции было как можно более близко к реальному целевому значению $y$ объекта $x$.\n",
    "\n",
    "Итак, чтобы обучить модель, мы используем метод `.fit`, в который передаём нашу тренировочную выборку:"
   ]
  },
  {
   "cell_type": "code",
   "execution_count": null,
   "metadata": {
    "id": "Qv8I2tA-OA3m",
    "outputId": "17a209e3-d12d-4f3f-fb11-4cc29b7bdc38"
   },
   "outputs": [
    {
     "data": {
      "text/plain": [
       "LinearRegression(copy_X=True, fit_intercept=True, n_jobs=None,\n",
       "         normalize=False)"
      ]
     },
     "execution_count": 15,
     "metadata": {
      "tags": []
     },
     "output_type": "execute_result"
    }
   ],
   "source": [
    "lr.fit(X_train, y_train)"
   ]
  },
  {
   "cell_type": "markdown",
   "metadata": {
    "id": "205qb-FGOA3o"
   },
   "source": [
    "Теперь, когда модель обучена, мы можем получить предсказанные значения на объектах `X_test` с помощью метода `.predict`:"
   ]
  },
  {
   "cell_type": "code",
   "execution_count": null,
   "metadata": {
    "id": "j7oKv8UIOA3o",
    "outputId": "7a799463-c1bc-4045-cee4-6e00b940ce9a"
   },
   "outputs": [
    {
     "data": {
      "text/plain": [
       "(127, 1)"
      ]
     },
     "execution_count": 16,
     "metadata": {
      "tags": []
     },
     "output_type": "execute_result"
    }
   ],
   "source": [
    "y_pred = lr.predict(X_test)\n",
    "\n",
    "y_pred.shape"
   ]
  },
  {
   "cell_type": "markdown",
   "metadata": {
    "id": "DpYWg2oqOA3p"
   },
   "source": [
    "Создадим таблицу `DataFrame` чтобы сопоставить реальные значения с предсказанными. Поскольку массив `y_pred` является двумерным, переведём его в одномерный, используя метод `.flatten`."
   ]
  },
  {
   "cell_type": "code",
   "execution_count": null,
   "metadata": {
    "id": "NxtECOAiOA3p",
    "outputId": "2e755e73-e109-4580-f3a3-b0c56746043a"
   },
   "outputs": [
    {
     "data": {
      "text/html": [
       "<div>\n",
       "<style scoped>\n",
       "    .dataframe tbody tr th:only-of-type {\n",
       "        vertical-align: middle;\n",
       "    }\n",
       "\n",
       "    .dataframe tbody tr th {\n",
       "        vertical-align: top;\n",
       "    }\n",
       "\n",
       "    .dataframe thead th {\n",
       "        text-align: right;\n",
       "    }\n",
       "</style>\n",
       "<table border=\"1\" class=\"dataframe\">\n",
       "  <thead>\n",
       "    <tr style=\"text-align: right;\">\n",
       "      <th></th>\n",
       "      <th>y_test</th>\n",
       "      <th>y_pred</th>\n",
       "    </tr>\n",
       "  </thead>\n",
       "  <tbody>\n",
       "    <tr>\n",
       "      <th>375</th>\n",
       "      <td>15.0</td>\n",
       "      <td>26.275926</td>\n",
       "    </tr>\n",
       "    <tr>\n",
       "      <th>90</th>\n",
       "      <td>22.6</td>\n",
       "      <td>27.297452</td>\n",
       "    </tr>\n",
       "    <tr>\n",
       "      <th>44</th>\n",
       "      <td>21.2</td>\n",
       "      <td>22.415414</td>\n",
       "    </tr>\n",
       "    <tr>\n",
       "      <th>237</th>\n",
       "      <td>31.5</td>\n",
       "      <td>33.439978</td>\n",
       "    </tr>\n",
       "    <tr>\n",
       "      <th>227</th>\n",
       "      <td>31.6</td>\n",
       "      <td>33.132175</td>\n",
       "    </tr>\n",
       "    <tr>\n",
       "      <th>259</th>\n",
       "      <td>30.1</td>\n",
       "      <td>35.904318</td>\n",
       "    </tr>\n",
       "    <tr>\n",
       "      <th>181</th>\n",
       "      <td>36.2</td>\n",
       "      <td>27.575021</td>\n",
       "    </tr>\n",
       "    <tr>\n",
       "      <th>167</th>\n",
       "      <td>23.8</td>\n",
       "      <td>23.225323</td>\n",
       "    </tr>\n",
       "    <tr>\n",
       "      <th>481</th>\n",
       "      <td>23.7</td>\n",
       "      <td>27.919803</td>\n",
       "    </tr>\n",
       "    <tr>\n",
       "      <th>441</th>\n",
       "      <td>17.1</td>\n",
       "      <td>17.690356</td>\n",
       "    </tr>\n",
       "  </tbody>\n",
       "</table>\n",
       "</div>"
      ],
      "text/plain": [
       "     y_test     y_pred\n",
       "375    15.0  26.275926\n",
       "90     22.6  27.297452\n",
       "44     21.2  22.415414\n",
       "237    31.5  33.439978\n",
       "227    31.6  33.132175\n",
       "259    30.1  35.904318\n",
       "181    36.2  27.575021\n",
       "167    23.8  23.225323\n",
       "481    23.7  27.919803\n",
       "441    17.1  17.690356"
      ]
     },
     "execution_count": 17,
     "metadata": {
      "tags": []
     },
     "output_type": "execute_result"
    }
   ],
   "source": [
    "check_test = pd.DataFrame({\n",
    "    \"y_test\": y_test[\"price\"],\n",
    "    \"y_pred\": y_pred.flatten(),\n",
    "})\n",
    "\n",
    "check_test.head(10)"
   ]
  },
  {
   "cell_type": "markdown",
   "metadata": {
    "id": "C1fJYf_8OA3q"
   },
   "source": [
    "### Метрики оценки качества моделей регрессии\n",
    "\n",
    "Чтобы оценить то, насколько отличаются реальные значения от предсказанных, создадим отдельный столбец с их разностями:"
   ]
  },
  {
   "cell_type": "code",
   "execution_count": null,
   "metadata": {
    "id": "4N59XzI9OA3q",
    "outputId": "036458b5-38b3-41b6-91e7-68202ef1e131"
   },
   "outputs": [
    {
     "data": {
      "text/html": [
       "<div>\n",
       "<style scoped>\n",
       "    .dataframe tbody tr th:only-of-type {\n",
       "        vertical-align: middle;\n",
       "    }\n",
       "\n",
       "    .dataframe tbody tr th {\n",
       "        vertical-align: top;\n",
       "    }\n",
       "\n",
       "    .dataframe thead th {\n",
       "        text-align: right;\n",
       "    }\n",
       "</style>\n",
       "<table border=\"1\" class=\"dataframe\">\n",
       "  <thead>\n",
       "    <tr style=\"text-align: right;\">\n",
       "      <th></th>\n",
       "      <th>y_test</th>\n",
       "      <th>y_pred</th>\n",
       "      <th>error</th>\n",
       "    </tr>\n",
       "  </thead>\n",
       "  <tbody>\n",
       "    <tr>\n",
       "      <th>375</th>\n",
       "      <td>15.0</td>\n",
       "      <td>26.275926</td>\n",
       "      <td>11.275926</td>\n",
       "    </tr>\n",
       "    <tr>\n",
       "      <th>90</th>\n",
       "      <td>22.6</td>\n",
       "      <td>27.297452</td>\n",
       "      <td>4.697452</td>\n",
       "    </tr>\n",
       "    <tr>\n",
       "      <th>44</th>\n",
       "      <td>21.2</td>\n",
       "      <td>22.415414</td>\n",
       "      <td>1.215414</td>\n",
       "    </tr>\n",
       "    <tr>\n",
       "      <th>237</th>\n",
       "      <td>31.5</td>\n",
       "      <td>33.439978</td>\n",
       "      <td>1.939978</td>\n",
       "    </tr>\n",
       "    <tr>\n",
       "      <th>227</th>\n",
       "      <td>31.6</td>\n",
       "      <td>33.132175</td>\n",
       "      <td>1.532175</td>\n",
       "    </tr>\n",
       "  </tbody>\n",
       "</table>\n",
       "</div>"
      ],
      "text/plain": [
       "     y_test     y_pred      error\n",
       "375    15.0  26.275926  11.275926\n",
       "90     22.6  27.297452   4.697452\n",
       "44     21.2  22.415414   1.215414\n",
       "237    31.5  33.439978   1.939978\n",
       "227    31.6  33.132175   1.532175"
      ]
     },
     "execution_count": 18,
     "metadata": {
      "tags": []
     },
     "output_type": "execute_result"
    }
   ],
   "source": [
    "check_test[\"error\"] = check_test[\"y_pred\"] - check_test[\"y_test\"]\n",
    "\n",
    "check_test.head()"
   ]
  },
  {
   "cell_type": "markdown",
   "metadata": {
    "id": "Ks-PH3oDOA3r"
   },
   "source": [
    "Одной из основных метрик для оценки качества моделей регрессии является _средняя квадратическая ошибка_ или _mean squared error_, сокращённо _mse_. Она вычисляется как среднее от квадратов ошибок на каждом из объектов:"
   ]
  },
  {
   "cell_type": "code",
   "execution_count": null,
   "metadata": {
    "id": "WpAWUjbHOA3s",
    "outputId": "37d3de88-0497-435c-b6bc-453aa874c1b8"
   },
   "outputs": [
    {
     "data": {
      "text/plain": [
       "22.996825157561076"
      ]
     },
     "execution_count": 19,
     "metadata": {
      "tags": []
     },
     "output_type": "execute_result"
    }
   ],
   "source": [
    "mse1 = (check_test[\"error\"] ** 2).mean()\n",
    "\n",
    "mse1"
   ]
  },
  {
   "cell_type": "markdown",
   "metadata": {
    "id": "ryRXkrPdOA3t"
   },
   "source": [
    "Эта метрика есть в готовом виде в библиотеке `sklearn`:"
   ]
  },
  {
   "cell_type": "code",
   "execution_count": null,
   "metadata": {
    "id": "mchWeFaKOA3t",
    "outputId": "fa18b589-a0b8-4cf2-825b-e4fd5c992d01"
   },
   "outputs": [
    {
     "data": {
      "text/plain": [
       "22.996825157561076"
      ]
     },
     "execution_count": 20,
     "metadata": {
      "tags": []
     },
     "output_type": "execute_result"
    }
   ],
   "source": [
    "from sklearn.metrics import mean_squared_error\n",
    "\n",
    "mean_squared_error(check_test[\"y_pred\"], check_test[\"y_test\"])"
   ]
  },
  {
   "cell_type": "markdown",
   "metadata": {
    "id": "YElCxb9EOA3t"
   },
   "source": [
    "Также применяется _средняя абсолютная ошибка_. Она представляет из себя среднее не от квадратов ошибок, а от их модулей:"
   ]
  },
  {
   "cell_type": "code",
   "execution_count": null,
   "metadata": {
    "id": "UlFtcqvMOA3t",
    "outputId": "9e486fdb-ece8-4e31-a0b7-ccf8678dfbd7"
   },
   "outputs": [
    {
     "data": {
      "text/plain": [
       "3.5589496170373565"
      ]
     },
     "execution_count": 21,
     "metadata": {
      "tags": []
     },
     "output_type": "execute_result"
    }
   ],
   "source": [
    "(np.abs(check_test[\"error\"])).mean()"
   ]
  },
  {
   "cell_type": "markdown",
   "metadata": {
    "id": "3TfxumqmOA3v"
   },
   "source": [
    "Данная метрика также доступна в готовом виде:"
   ]
  },
  {
   "cell_type": "code",
   "execution_count": null,
   "metadata": {
    "id": "uoD-z49FOA3v",
    "outputId": "56ba4d59-c8e9-4612-ccac-0536ccb3ff8a"
   },
   "outputs": [
    {
     "data": {
      "text/plain": [
       "3.5589496170373565"
      ]
     },
     "execution_count": 22,
     "metadata": {
      "tags": []
     },
     "output_type": "execute_result"
    }
   ],
   "source": [
    "from sklearn.metrics import mean_absolute_error\n",
    "\n",
    "mean_absolute_error(check_test[\"y_pred\"], check_test[\"y_test\"])"
   ]
  },
  {
   "cell_type": "markdown",
   "metadata": {
    "id": "Ar0pbMPNOA3w"
   },
   "source": [
    "Эта метрика отличается от mse тем, что не так сильно реагирует на выбросы в данных, например, на те ситуации, в которых у некоторых объектов недвижимости сильно завышена или сильно занижена цена.\n",
    "\n",
    "### Коэффициенты линейной регрессии\n",
    "\n",
    "Посмотрим, какие коэффициенты подобрала наша модель на этапе обучения. Свободный коэффициент $w_0$ хранится в атрибуте `.intercept_`:"
   ]
  },
  {
   "cell_type": "code",
   "execution_count": null,
   "metadata": {
    "id": "MMY2jMEHOA3w",
    "outputId": "d0ef484a-4f65-4c30-f8c0-8a43e5238553"
   },
   "outputs": [
    {
     "data": {
      "text/plain": [
       "array([34.87383896])"
      ]
     },
     "execution_count": 23,
     "metadata": {
      "tags": []
     },
     "output_type": "execute_result"
    }
   ],
   "source": [
    "lr.intercept_"
   ]
  },
  {
   "cell_type": "markdown",
   "metadata": {
    "id": "-9OpjTqWOA3x"
   },
   "source": [
    "Остальные коэффициенты $w_1$, $\\dots$, $w_n$ хранятся в атрибуте `.coef_`:"
   ]
  },
  {
   "cell_type": "code",
   "execution_count": null,
   "metadata": {
    "id": "Lw3hfNPKOA3x",
    "outputId": "06da26c3-fea8-4a4b-d702-fe358aec03bf"
   },
   "outputs": [
    {
     "data": {
      "text/plain": [
       "array([[-1.08575259e-01,  3.97239591e-02, -8.87670189e-04,\n",
       "         2.78894389e+00, -1.87329298e+01,  4.08193430e+00,\n",
       "         1.89125600e-02, -1.45862719e+00,  2.97366920e-01,\n",
       "        -9.73157811e-03, -1.01075151e+00,  9.40907660e-03,\n",
       "        -5.68346598e-01]])"
      ]
     },
     "execution_count": 24,
     "metadata": {
      "tags": []
     },
     "output_type": "execute_result"
    }
   ],
   "source": [
    "lr.coef_"
   ]
  },
  {
   "cell_type": "markdown",
   "metadata": {
    "id": "xy09JqVROA3x"
   },
   "source": [
    "Давайте визуализируем то, какой вклад вносит каждый из этих коэффициентов:"
   ]
  },
  {
   "cell_type": "code",
   "execution_count": null,
   "metadata": {
    "id": "wKuF0m9TOA3x"
   },
   "outputs": [],
   "source": [
    "from matplotlib import pyplot as plt\n",
    "\n",
    "plt.rcParams['figure.figsize'] = 6, 4\n",
    "\n",
    "%matplotlib inline"
   ]
  },
  {
   "cell_type": "code",
   "execution_count": null,
   "metadata": {
    "id": "vIdd0GL-OA3z",
    "outputId": "61b0573e-52e0-4747-a2a4-41ceb6de84b0"
   },
   "outputs": [
    {
     "data": {
      "image/png": "[encoded data removed]",
      "text/plain": [
       "<Figure size 432x288 with 1 Axes>"
      ]
     },
     "metadata": {
      "needs_background": "light",
      "tags": []
     },
     "output_type": "display_data"
    }
   ],
   "source": [
    "plt.barh(feature_names, lr.coef_.flatten())\n",
    "\n",
    "plt.xlabel(\"Вес признака\")\n",
    "plt.ylabel(\"Признак\")\n",
    "\n",
    "plt.show()"
   ]
  },
  {
   "cell_type": "markdown",
   "metadata": {
    "id": "QpPhhcRROA3z"
   },
   "source": [
    "### Стандартизация признаков\n",
    "\n",
    "Не стоит торопиться с выводами о том, какой признак имеет наибольший вклад в итоговую цену. Если мы посмотрим на таблицу `X_train.describe()`, содержащую статистические данные по таблице `X_train`, мы убедимся, что значения по каждому признаку _не отмасштабированы_, т.е. имеют разный масштаб разброса значений (см. строки `mean` и `std`):"
   ]
  },
  {
   "cell_type": "code",
   "execution_count": null,
   "metadata": {
    "id": "_nMFaJsTOA30",
    "outputId": "6e372443-4c9c-4f84-8ada-0d088cf7adc5"
   },
   "outputs": [
    {
     "data": {
      "text/html": [
       "<div>\n",
       "<style scoped>\n",
       "    .dataframe tbody tr th:only-of-type {\n",
       "        vertical-align: middle;\n",
       "    }\n",
       "\n",
       "    .dataframe tbody tr th {\n",
       "        vertical-align: top;\n",
       "    }\n",
       "\n",
       "    .dataframe thead th {\n",
       "        text-align: right;\n",
       "    }\n",
       "</style>\n",
       "<table border=\"1\" class=\"dataframe\">\n",
       "  <thead>\n",
       "    <tr style=\"text-align: right;\">\n",
       "      <th></th>\n",
       "      <th>CRIM</th>\n",
       "      <th>ZN</th>\n",
       "      <th>INDUS</th>\n",
       "      <th>CHAS</th>\n",
       "      <th>NOX</th>\n",
       "      <th>RM</th>\n",
       "      <th>AGE</th>\n",
       "      <th>DIS</th>\n",
       "      <th>RAD</th>\n",
       "      <th>TAX</th>\n",
       "      <th>PTRATIO</th>\n",
       "      <th>B</th>\n",
       "      <th>LSTAT</th>\n",
       "    </tr>\n",
       "  </thead>\n",
       "  <tbody>\n",
       "    <tr>\n",
       "      <th>count</th>\n",
       "      <td>379.000000</td>\n",
       "      <td>379.000000</td>\n",
       "      <td>379.000000</td>\n",
       "      <td>379.000000</td>\n",
       "      <td>379.000000</td>\n",
       "      <td>379.000000</td>\n",
       "      <td>379.000000</td>\n",
       "      <td>379.000000</td>\n",
       "      <td>379.000000</td>\n",
       "      <td>379.000000</td>\n",
       "      <td>379.000000</td>\n",
       "      <td>379.000000</td>\n",
       "      <td>379.000000</td>\n",
       "    </tr>\n",
       "    <tr>\n",
       "      <th>mean</th>\n",
       "      <td>3.258265</td>\n",
       "      <td>10.427441</td>\n",
       "      <td>10.937388</td>\n",
       "      <td>0.071240</td>\n",
       "      <td>0.552923</td>\n",
       "      <td>6.302881</td>\n",
       "      <td>68.193404</td>\n",
       "      <td>3.771551</td>\n",
       "      <td>9.255937</td>\n",
       "      <td>400.203166</td>\n",
       "      <td>18.465699</td>\n",
       "      <td>361.209393</td>\n",
       "      <td>12.369551</td>\n",
       "    </tr>\n",
       "    <tr>\n",
       "      <th>std</th>\n",
       "      <td>8.184158</td>\n",
       "      <td>21.304374</td>\n",
       "      <td>6.757820</td>\n",
       "      <td>0.257566</td>\n",
       "      <td>0.114337</td>\n",
       "      <td>0.673989</td>\n",
       "      <td>27.776524</td>\n",
       "      <td>2.017809</td>\n",
       "      <td>8.534737</td>\n",
       "      <td>166.758002</td>\n",
       "      <td>2.122875</td>\n",
       "      <td>83.292983</td>\n",
       "      <td>6.930442</td>\n",
       "    </tr>\n",
       "    <tr>\n",
       "      <th>min</th>\n",
       "      <td>0.006320</td>\n",
       "      <td>0.000000</td>\n",
       "      <td>1.250000</td>\n",
       "      <td>0.000000</td>\n",
       "      <td>0.389000</td>\n",
       "      <td>4.368000</td>\n",
       "      <td>2.900000</td>\n",
       "      <td>1.129600</td>\n",
       "      <td>1.000000</td>\n",
       "      <td>187.000000</td>\n",
       "      <td>12.600000</td>\n",
       "      <td>2.520000</td>\n",
       "      <td>1.730000</td>\n",
       "    </tr>\n",
       "    <tr>\n",
       "      <th>25%</th>\n",
       "      <td>0.079640</td>\n",
       "      <td>0.000000</td>\n",
       "      <td>5.130000</td>\n",
       "      <td>0.000000</td>\n",
       "      <td>0.449000</td>\n",
       "      <td>5.890000</td>\n",
       "      <td>45.250000</td>\n",
       "      <td>2.136350</td>\n",
       "      <td>4.000000</td>\n",
       "      <td>277.000000</td>\n",
       "      <td>17.400000</td>\n",
       "      <td>376.355000</td>\n",
       "      <td>6.725000</td>\n",
       "    </tr>\n",
       "    <tr>\n",
       "      <th>50%</th>\n",
       "      <td>0.229690</td>\n",
       "      <td>0.000000</td>\n",
       "      <td>8.560000</td>\n",
       "      <td>0.000000</td>\n",
       "      <td>0.538000</td>\n",
       "      <td>6.209000</td>\n",
       "      <td>76.500000</td>\n",
       "      <td>3.360300</td>\n",
       "      <td>5.000000</td>\n",
       "      <td>311.000000</td>\n",
       "      <td>18.900000</td>\n",
       "      <td>391.980000</td>\n",
       "      <td>11.120000</td>\n",
       "    </tr>\n",
       "    <tr>\n",
       "      <th>75%</th>\n",
       "      <td>2.871190</td>\n",
       "      <td>15.000000</td>\n",
       "      <td>18.100000</td>\n",
       "      <td>0.000000</td>\n",
       "      <td>0.624000</td>\n",
       "      <td>6.627000</td>\n",
       "      <td>93.700000</td>\n",
       "      <td>5.057250</td>\n",
       "      <td>8.000000</td>\n",
       "      <td>666.000000</td>\n",
       "      <td>20.200000</td>\n",
       "      <td>396.225000</td>\n",
       "      <td>16.455000</td>\n",
       "    </tr>\n",
       "    <tr>\n",
       "      <th>max</th>\n",
       "      <td>88.976200</td>\n",
       "      <td>100.000000</td>\n",
       "      <td>27.740000</td>\n",
       "      <td>1.000000</td>\n",
       "      <td>0.871000</td>\n",
       "      <td>8.780000</td>\n",
       "      <td>100.000000</td>\n",
       "      <td>12.126500</td>\n",
       "      <td>24.000000</td>\n",
       "      <td>711.000000</td>\n",
       "      <td>22.000000</td>\n",
       "      <td>396.900000</td>\n",
       "      <td>36.980000</td>\n",
       "    </tr>\n",
       "  </tbody>\n",
       "</table>\n",
       "</div>"
      ],
      "text/plain": [
       "             CRIM          ZN       INDUS        CHAS         NOX          RM  \\\n",
       "count  379.000000  379.000000  379.000000  379.000000  379.000000  379.000000   \n",
       "mean     3.258265   10.427441   10.937388    0.071240    0.552923    6.302881   \n",
       "std      8.184158   21.304374    6.757820    0.257566    0.114337    0.673989   \n",
       "min      0.006320    0.000000    1.250000    0.000000    0.389000    4.368000   \n",
       "25%      0.079640    0.000000    5.130000    0.000000    0.449000    5.890000   \n",
       "50%      0.229690    0.000000    8.560000    0.000000    0.538000    6.209000   \n",
       "75%      2.871190   15.000000   18.100000    0.000000    0.624000    6.627000   \n",
       "max     88.976200  100.000000   27.740000    1.000000    0.871000    8.780000   \n",
       "\n",
       "              AGE         DIS         RAD         TAX     PTRATIO           B  \\\n",
       "count  379.000000  379.000000  379.000000  379.000000  379.000000  379.000000   \n",
       "mean    68.193404    3.771551    9.255937  400.203166   18.465699  361.209393   \n",
       "std     27.776524    2.017809    8.534737  166.758002    2.122875   83.292983   \n",
       "min      2.900000    1.129600    1.000000  187.000000   12.600000    2.520000   \n",
       "25%     45.250000    2.136350    4.000000  277.000000   17.400000  376.355000   \n",
       "50%     76.500000    3.360300    5.000000  311.000000   18.900000  391.980000   \n",
       "75%     93.700000    5.057250    8.000000  666.000000   20.200000  396.225000   \n",
       "max    100.000000   12.126500   24.000000  711.000000   22.000000  396.900000   \n",
       "\n",
       "            LSTAT  \n",
       "count  379.000000  \n",
       "mean    12.369551  \n",
       "std      6.930442  \n",
       "min      1.730000  \n",
       "25%      6.725000  \n",
       "50%     11.120000  \n",
       "75%     16.455000  \n",
       "max     36.980000  "
      ]
     },
     "execution_count": 27,
     "metadata": {
      "tags": []
     },
     "output_type": "execute_result"
    }
   ],
   "source": [
    "X_train.describe()"
   ]
  },
  {
   "cell_type": "markdown",
   "metadata": {
    "id": "7bZRarESOA31"
   },
   "source": [
    "Для решения этой проблемы можно применить _стандартизацию_ признаков. Для этого нужно от значений каждого признака отнять среднее значение этого признака, а затем поделить на среднее квадратическое отклонение этого признака:\n",
    "\n",
    "$$x_{scaled} = \\dfrac{x - x_{mean}}{\\sigma_x}$$\n",
    "\n",
    "После стандартизации каждый признак имеет среднее значение 0 и среднее квадратическое отклонение 1.\n",
    "\n",
    "Изучем инструменты из библиотеки `sklearn`, с помощью которых можно провести стандартизацию данных:"
   ]
  },
  {
   "cell_type": "code",
   "execution_count": null,
   "metadata": {
    "id": "5XMWqnmgOA32"
   },
   "outputs": [],
   "source": [
    "from sklearn.preprocessing import StandardScaler\n",
    "\n",
    "scaler = StandardScaler()"
   ]
  },
  {
   "cell_type": "markdown",
   "metadata": {
    "id": "3MOIN_42OA32"
   },
   "source": [
    "\"Обучим\" объект `scaler` на наших данных, а затем сразу же получим стандартизированные значения. Это можно сделать с помощью одного общего метода `.fit_transform`. (На самом деле этот метод включает в себя два метода: `.fit` и `.transform`.)"
   ]
  },
  {
   "cell_type": "code",
   "execution_count": null,
   "metadata": {
    "id": "7E1T2kC8OA32"
   },
   "outputs": [],
   "source": [
    "X_train_scaled = scaler.fit_transform(X_train)\n",
    "X_train_scaled = pd.DataFrame(X_train_scaled, columns=feature_names)\n",
    "\n",
    "X_test_scaled = scaler.fit_transform(X_test)\n",
    "X_test_scaled = pd.DataFrame(X_test_scaled, columns=feature_names)"
   ]
  },
  {
   "cell_type": "markdown",
   "metadata": {
    "id": "G29TeuhdOA32"
   },
   "source": [
    "Итак, попробуем обучить нашу модель заново, но уже на стандартизированных данных, и выведем аналогичную диаграмму, но уже для новой модели:"
   ]
  },
  {
   "cell_type": "code",
   "execution_count": null,
   "metadata": {
    "id": "AFtIOXA9OA34",
    "outputId": "366c3fcf-a254-4e5b-84c1-3a182a3b0509"
   },
   "outputs": [
    {
     "data": {
      "image/png": "[encoded data removed]",
      "text/plain": [
       "<Figure size 432x288 with 1 Axes>"
      ]
     },
     "metadata": {
      "needs_background": "light",
      "tags": []
     },
     "output_type": "display_data"
    }
   ],
   "source": [
    "lr.fit(X_train_scaled, y_train)\n",
    "\n",
    "plt.barh(feature_names, lr.coef_.flatten())\n",
    "\n",
    "plt.xlabel(\"Вес признака\")\n",
    "plt.ylabel(\"Признак\")\n",
    "\n",
    "plt.show()"
   ]
  },
  {
   "cell_type": "markdown",
   "metadata": {
    "id": "SMw9UYDoOA34"
   },
   "source": [
    "Мы видим, что теперь веса признаков имеют совершенно иные значения друг относительно друга.\n",
    "\n",
    "Важно отметить, что стандартизация важна не только для отбора признаков. Стандартизация является важным этапом предобработки данных, без которого многие алгоритмы будут работать некорректно.\n",
    "\n",
    "Попробуем обучить модель, используя лишь признаки, вес которых достаточно отличается от 0, и посмотрим, как это отразится на качестве модели:"
   ]
  },
  {
   "cell_type": "code",
   "execution_count": null,
   "metadata": {
    "id": "sES7P2IcOA35",
    "outputId": "901f62e3-8011-474e-faa6-bbfee74260a3"
   },
   "outputs": [
    {
     "name": "stdout",
     "output_type": "stream",
     "text": [
      "['CRIM', 'ZN', 'CHAS', 'NOX', 'RM', 'AGE', 'DIS', 'RAD', 'TAX', 'PTRATIO', 'B', 'LSTAT']\n"
     ]
    }
   ],
   "source": [
    "important_features = [\n",
    "    feature\n",
    "    for feature, weight in zip(feature_names, lr.coef_.flatten())\n",
    "    if np.abs(weight) > 0.5\n",
    "]\n",
    "\n",
    "print(important_features)"
   ]
  },
  {
   "cell_type": "code",
   "execution_count": null,
   "metadata": {
    "id": "MILlVX_iOA35",
    "outputId": "0e559a16-5a73-43c9-94e8-2f689f808e11"
   },
   "outputs": [
    {
     "name": "stdout",
     "output_type": "stream",
     "text": [
      "mse до: 22.996825157561076\n",
      "mse после: 23.987042204717945\n"
     ]
    }
   ],
   "source": [
    "lr.fit(\n",
    "    X_train_scaled.loc[:, important_features],\n",
    "    y_train\n",
    ")\n",
    "\n",
    "y_pred = lr.predict(X_test_scaled.loc[:, important_features])\n",
    "\n",
    "mse2 = mean_squared_error(y_test, y_pred)\n",
    "\n",
    "print(\"mse до: {}\".format(mse1))\n",
    "print(\"mse после: {}\".format(mse2))"
   ]
  },
  {
   "cell_type": "markdown",
   "metadata": {
    "id": "YsO9esuJOA36"
   },
   "source": [
    "Стандартизация и отбор признаков иногда позволяют немного уменьшить ошибку, хотя и не всегда.\n",
    "\n",
    "### Модели линейной регрессии с регуляризацией\n",
    "\n",
    "В машинном обучении важной проблемой является _переобучение_, и нужно уметь бороться с переобучением обучаемой модели. Переобучение - это когда модель очень хорошо подстраивается под имеющиеся у неё тренировочные данные, однако, на тестовых данных показывает очень плохой результат.\n",
    "\n",
    "Одним из симптомов переобучения линейных моделей являются очень большие по модулю веса. Бороться с этим можно с помощью _регуляризации_. В библиотеке `sklearn` доступны уже готовые реализации моделей линейной регрессии с L1- и L2-регуляризацией. Это, соответственно, модели `Lasso` и `Ridge` из модуля `sklearn.linear_model`."
   ]
  },
  {
   "cell_type": "code",
   "execution_count": null,
   "metadata": {
    "id": "preagTcIOA36"
   },
   "outputs": [],
   "source": [
    "from sklearn.linear_model import Lasso, Ridge"
   ]
  },
  {
   "cell_type": "markdown",
   "metadata": {
    "id": "H42H_gGnOA36"
   },
   "source": [
    "При этом, коэффициент регуляризации можно задавать с помощью параметра `alpha` при инициализации этих моделей."
   ]
  },
  {
   "cell_type": "code",
   "execution_count": null,
   "metadata": {
    "id": "e5j9zw5AOA36",
    "outputId": "80a8c98c-80ad-4915-9101-bd4d392f0d0a"
   },
   "outputs": [
    {
     "data": {
      "text/plain": [
       "23.986095636013374"
      ]
     },
     "execution_count": 34,
     "metadata": {
      "tags": []
     },
     "output_type": "execute_result"
    }
   ],
   "source": [
    "model = Lasso(alpha=0.03)\n",
    "\n",
    "model.fit(X_train_scaled.loc[:, important_features], y_train)\n",
    "\n",
    "y_pred = model.predict(X_test_scaled.loc[:, important_features])\n",
    "\n",
    "mean_squared_error(y_test, y_pred)"
   ]
  },
  {
   "cell_type": "markdown",
   "metadata": {
    "id": "daIBcIEBOA37"
   },
   "source": [
    "На графике ниже изображено изменение весов признаков при увеличении коэффициента регуляризации `alpha` от $10^{-3}$ до $10$ для модели `Lasso` (L1-регуляризация). Чем больше значение `alpha`, тем сильнее регуляризация и тем сильнее модель \"штрафует\" за большую абсолютную величину признаков. \n",
    "\n",
    "Такой метод часто используется для отбора признаков: у менее ценных признаков гораздо раньше обнуляются веса."
   ]
  },
  {
   "cell_type": "code",
   "execution_count": null,
   "metadata": {
    "id": "fJxZce5UOA37",
    "outputId": "6c3ac10a-33f8-448f-f5f2-3783978fe46a"
   },
   "outputs": [
    {
     "data": {
      "text/plain": [
       "<matplotlib.legend.Legend at 0x7f98b3d1b240>"
      ]
     },
     "execution_count": 35,
     "metadata": {
      "tags": []
     },
     "output_type": "execute_result"
    },
    {
     "data": {
      "image/png": "[encoded data removed]",
      "text/plain": [
       "<Figure size 432x288 with 1 Axes>"
      ]
     },
     "metadata": {
      "needs_background": "light",
      "tags": []
     },
     "output_type": "display_data"
    }
   ],
   "source": [
    "n = 50\n",
    "\n",
    "coeffs = np.zeros((n, len(important_features)))\n",
    "alpha_list = np.logspace(-3, 1, n)\n",
    "\n",
    "for i, val in enumerate(alpha_list):\n",
    "    lasso = Lasso(alpha=val)\n",
    "    lasso.fit(X_train_scaled.loc[:, important_features], y_train)\n",
    "    \n",
    "    coeffs[i, :] = lasso.coef_.flatten()\n",
    "\n",
    "for i in range(len(important_features)):\n",
    "    plt.plot(alpha_list, coeffs[:, i])\n",
    "\n",
    "plt.title('Убывание абсолютных значений весов признаков\\n при увеличении коэффициента регуляризации alpha (Lasso)')\n",
    "\n",
    "plt.xlabel('alpha')\n",
    "plt.ylabel('Вес признака')\n",
    "\n",
    "plt.legend(important_features)"
   ]
  },
  {
   "cell_type": "markdown",
   "metadata": {
    "id": "lEFHkM8AOA38"
   },
   "source": [
    "При использовании модели `Ridge` (L2-регуляризация) наблюдается аналогичный эффект, однако, абсолютные значения весов убывают более плавно и примерно одновременно друг с другом."
   ]
  },
  {
   "cell_type": "code",
   "execution_count": null,
   "metadata": {
    "id": "U5RfeX0LOA39",
    "outputId": "5af35002-edcd-45a0-a809-4f61942bf961"
   },
   "outputs": [
    {
     "data": {
      "text/plain": [
       "<matplotlib.legend.Legend at 0x7f98b3c55d68>"
      ]
     },
     "execution_count": 36,
     "metadata": {
      "tags": []
     },
     "output_type": "execute_result"
    },
    {
     "data": {
      "image/png": "[encoded data removed]",
      "text/plain": [
       "<Figure size 432x288 with 1 Axes>"
      ]
     },
     "metadata": {
      "needs_background": "light",
      "tags": []
     },
     "output_type": "display_data"
    }
   ],
   "source": [
    "n = 50\n",
    "\n",
    "coeffs = np.zeros((n, len(important_features)))\n",
    "alpha_list = np.logspace(-3, 3.5, n)\n",
    "\n",
    "for i, val in enumerate(alpha_list):\n",
    "    ridge = Ridge(alpha=val)\n",
    "    ridge.fit(X_train_scaled.loc[:, important_features], y_train)\n",
    "    \n",
    "    coeffs[i, :] = ridge.coef_.flatten()\n",
    "\n",
    "for i in range(len(important_features)):\n",
    "    plt.plot(alpha_list, coeffs[:, i])\n",
    "\n",
    "plt.title('Убывание абсолютных значений весов признаков\\n при увеличении коэффициента регуляризации alpha (Ridge)')\n",
    "\n",
    "plt.xlabel('alpha')\n",
    "plt.ylabel('Вес признака')\n",
    "\n",
    "plt.legend(important_features)"
   ]
  },
  {
   "cell_type": "markdown",
   "metadata": {
    "id": "iUO420mHOA39"
   },
   "source": [
    "## Логистическая регрессия\n",
    "\n",
    "_Логистическая регрессия_ - это один из самых простых алгоритмов, используемых в _задачах классификации_: имеется набор данных, и у каждого объекта есть метка принадлежности к какому-то классу. Наша задача - предсказать эту метку для объекта. Идея логистической регрессии в том, чтобы предсказывать не метку класса, а вероятность принадлежности данного объекта к каждому из классов. \n",
    "\n",
    "Рассмотрим алгоритм логистической регрессии для _бинарной классификации_, т.е. случая, когда различных классов всего 2. В этом случае задача алгоритма логистической регрессии очень похожа на задачу алгоритма линейной регрессии, рассмотренного ранее: модель должна подобрать коэффициенты $w_0, w_1, \\dots, w_n$. Как используются эти коэффициенты?\n",
    "\n",
    "В начале мы делаем то же самое, что и в линейной регрессии. Мы вычисляем значение\n",
    "\n",
    "$$z = w_0 + w_1 \\cdot x_1 + \\dots + w_n \\cdot x_n.$$\n",
    "\n",
    "Затем величина $z$ помещается в _сигмоидную функцию_:\n",
    "$$f(z) = \\dfrac{1}{1 + e^{- z}}.$$\n",
    "\n",
    "Сигмоидная функция используется для того, чтобы преобразовать число $z$ из промежутка $(- \\infty, \\infty)$ в число $f(z)$ из промежутка $(0, 1)$. Причём, делается это так, что число $f(z)$ можно теперь интерпретировать как вероятность. В нашем случае это будет вероятность принадлежности объекта $x$ классу 1. Соответственно, вероятность принадлежности объекта классу 0 будет равна $1 - f(z)$.\n",
    "\n",
    "Алгоритм логистической регрессии минимизирует функцию потерь $logloss$:\n",
    "\n",
    "$$logloss(x) = - y \\cdot \\operatorname{ln} (p) - (1 - y) \\cdot \\operatorname{ln} (1 - p).$$\n",
    "\n",
    "Здесь $y$ - правильный ответ на объекте $x$ (0 или 1), а $p$ - вычисленная алгоритмом вероятность принадлежности объекта $x$ классу 1.\n",
    "\n",
    "Для того, чтобы разобраться с деталями модели логистической регрессии, мы будем использовать датасет, содержащий информацию о пассажирах Титаника. Этот датасет можно скачать [здесь](https://www.kaggle.com/c/titanic/data)."
   ]
  },
  {
   "cell_type": "code",
   "execution_count": null,
   "metadata": {
    "id": "8L86B-eEOA3-",
    "outputId": "ed90b543-52e6-44aa-9795-78d4c56d1ed7"
   },
   "outputs": [
    {
     "data": {
      "text/html": [
       "<div>\n",
       "<style scoped>\n",
       "    .dataframe tbody tr th:only-of-type {\n",
       "        vertical-align: middle;\n",
       "    }\n",
       "\n",
       "    .dataframe tbody tr th {\n",
       "        vertical-align: top;\n",
       "    }\n",
       "\n",
       "    .dataframe thead th {\n",
       "        text-align: right;\n",
       "    }\n",
       "</style>\n",
       "<table border=\"1\" class=\"dataframe\">\n",
       "  <thead>\n",
       "    <tr style=\"text-align: right;\">\n",
       "      <th></th>\n",
       "      <th>Survived</th>\n",
       "      <th>Pclass</th>\n",
       "      <th>Name</th>\n",
       "      <th>Sex</th>\n",
       "      <th>Age</th>\n",
       "      <th>SibSp</th>\n",
       "      <th>Parch</th>\n",
       "      <th>Ticket</th>\n",
       "      <th>Fare</th>\n",
       "      <th>Cabin</th>\n",
       "      <th>Embarked</th>\n",
       "    </tr>\n",
       "    <tr>\n",
       "      <th>PassengerId</th>\n",
       "      <th></th>\n",
       "      <th></th>\n",
       "      <th></th>\n",
       "      <th></th>\n",
       "      <th></th>\n",
       "      <th></th>\n",
       "      <th></th>\n",
       "      <th></th>\n",
       "      <th></th>\n",
       "      <th></th>\n",
       "      <th></th>\n",
       "    </tr>\n",
       "  </thead>\n",
       "  <tbody>\n",
       "    <tr>\n",
       "      <th>1</th>\n",
       "      <td>0</td>\n",
       "      <td>3</td>\n",
       "      <td>Braund, Mr. Owen Harris</td>\n",
       "      <td>male</td>\n",
       "      <td>22.0</td>\n",
       "      <td>1</td>\n",
       "      <td>0</td>\n",
       "      <td>A/5 21171</td>\n",
       "      <td>7.2500</td>\n",
       "      <td>NaN</td>\n",
       "      <td>S</td>\n",
       "    </tr>\n",
       "    <tr>\n",
       "      <th>2</th>\n",
       "      <td>1</td>\n",
       "      <td>1</td>\n",
       "      <td>Cumings, Mrs. John Bradley (Florence Briggs Th...</td>\n",
       "      <td>female</td>\n",
       "      <td>38.0</td>\n",
       "      <td>1</td>\n",
       "      <td>0</td>\n",
       "      <td>PC 17599</td>\n",
       "      <td>71.2833</td>\n",
       "      <td>C85</td>\n",
       "      <td>C</td>\n",
       "    </tr>\n",
       "    <tr>\n",
       "      <th>3</th>\n",
       "      <td>1</td>\n",
       "      <td>3</td>\n",
       "      <td>Heikkinen, Miss. Laina</td>\n",
       "      <td>female</td>\n",
       "      <td>26.0</td>\n",
       "      <td>0</td>\n",
       "      <td>0</td>\n",
       "      <td>STON/O2. 3101282</td>\n",
       "      <td>7.9250</td>\n",
       "      <td>NaN</td>\n",
       "      <td>S</td>\n",
       "    </tr>\n",
       "    <tr>\n",
       "      <th>4</th>\n",
       "      <td>1</td>\n",
       "      <td>1</td>\n",
       "      <td>Futrelle, Mrs. Jacques Heath (Lily May Peel)</td>\n",
       "      <td>female</td>\n",
       "      <td>35.0</td>\n",
       "      <td>1</td>\n",
       "      <td>0</td>\n",
       "      <td>113803</td>\n",
       "      <td>53.1000</td>\n",
       "      <td>C123</td>\n",
       "      <td>S</td>\n",
       "    </tr>\n",
       "    <tr>\n",
       "      <th>5</th>\n",
       "      <td>0</td>\n",
       "      <td>3</td>\n",
       "      <td>Allen, Mr. William Henry</td>\n",
       "      <td>male</td>\n",
       "      <td>35.0</td>\n",
       "      <td>0</td>\n",
       "      <td>0</td>\n",
       "      <td>373450</td>\n",
       "      <td>8.0500</td>\n",
       "      <td>NaN</td>\n",
       "      <td>S</td>\n",
       "    </tr>\n",
       "  </tbody>\n",
       "</table>\n",
       "</div>"
      ],
      "text/plain": [
       "             Survived  Pclass  \\\n",
       "PassengerId                     \n",
       "1                   0       3   \n",
       "2                   1       1   \n",
       "3                   1       3   \n",
       "4                   1       1   \n",
       "5                   0       3   \n",
       "\n",
       "                                                          Name     Sex   Age  \\\n",
       "PassengerId                                                                    \n",
       "1                                      Braund, Mr. Owen Harris    male  22.0   \n",
       "2            Cumings, Mrs. John Bradley (Florence Briggs Th...  female  38.0   \n",
       "3                                       Heikkinen, Miss. Laina  female  26.0   \n",
       "4                 Futrelle, Mrs. Jacques Heath (Lily May Peel)  female  35.0   \n",
       "5                                     Allen, Mr. William Henry    male  35.0   \n",
       "\n",
       "             SibSp  Parch            Ticket     Fare Cabin Embarked  \n",
       "PassengerId                                                          \n",
       "1                1      0         A/5 21171   7.2500   NaN        S  \n",
       "2                1      0          PC 17599  71.2833   C85        C  \n",
       "3                0      0  STON/O2. 3101282   7.9250   NaN        S  \n",
       "4                1      0            113803  53.1000  C123        S  \n",
       "5                0      0            373450   8.0500   NaN        S  "
      ]
     },
     "execution_count": 37,
     "metadata": {
      "tags": []
     },
     "output_type": "execute_result"
    }
   ],
   "source": [
    "data = pd.read_csv(\"titanic_train.csv\", index_col=\"PassengerId\")\n",
    "\n",
    "data.head()"
   ]
  },
  {
   "cell_type": "markdown",
   "metadata": {
    "id": "cdeZby_LOA3-"
   },
   "source": [
    "Целевым значением для нас будет значение `\"Survived\"` - то, выжил пассажир или нет. Вынесем этот столбец в отдельную переменную `y`, а в переменную `X` запишем все столбцы из таблицы `data` кроме столбца `target`:"
   ]
  },
  {
   "cell_type": "code",
   "execution_count": null,
   "metadata": {
    "id": "aJwN7jwyOA3_"
   },
   "outputs": [],
   "source": [
    "target = \"Survived\"\n",
    "\n",
    "y = data[target]\n",
    "X = data.drop(target, axis=1)"
   ]
  },
  {
   "cell_type": "markdown",
   "metadata": {
    "id": "SCJGD8GMOA3_"
   },
   "source": [
    "Изучим содержимое таблицы `X` более подробно:"
   ]
  },
  {
   "cell_type": "code",
   "execution_count": null,
   "metadata": {
    "id": "KbNRFbt-OA4A",
    "outputId": "8339ce69-c80b-4962-b429-279447791eb9"
   },
   "outputs": [
    {
     "name": "stdout",
     "output_type": "stream",
     "text": [
      "<class 'pandas.core.frame.DataFrame'>\n",
      "Int64Index: 891 entries, 1 to 891\n",
      "Data columns (total 10 columns):\n",
      "Pclass      891 non-null int64\n",
      "Name        891 non-null object\n",
      "Sex         891 non-null object\n",
      "Age         714 non-null float64\n",
      "SibSp       891 non-null int64\n",
      "Parch       891 non-null int64\n",
      "Ticket      891 non-null object\n",
      "Fare        891 non-null float64\n",
      "Cabin       204 non-null object\n",
      "Embarked    889 non-null object\n",
      "dtypes: float64(2), int64(3), object(5)\n",
      "memory usage: 76.6+ KB\n"
     ]
    }
   ],
   "source": [
    "X.info()"
   ]
  },
  {
   "cell_type": "markdown",
   "metadata": {
    "id": "ZPwQlPepOA4B"
   },
   "source": [
    "Прежде чем приступить к обучении модели, данные необходимо почистить. Мы видим, что всего у нас есть данные о 891 пассажире, однако, многие данные пропущены. Например, в столбце `\"Cabin\"` всего 204 непустых значения. Этот столбец мы удалим. Также удалим столбцы `\"Name\"` и `\"Ticket\"`."
   ]
  },
  {
   "cell_type": "code",
   "execution_count": null,
   "metadata": {
    "id": "NuQYAG5pOA4C"
   },
   "outputs": [],
   "source": [
    "X.drop([\"Cabin\", \"Name\", \"Ticket\"], axis=1, inplace=True)"
   ]
  },
  {
   "cell_type": "markdown",
   "metadata": {
    "id": "vbc-iYd3OA4C"
   },
   "source": [
    "В поле `\"Age\"` также немало пропущенных значений. Подставим в них среднее значение по имеющимся данным:"
   ]
  },
  {
   "cell_type": "code",
   "execution_count": null,
   "metadata": {
    "id": "VIebf-HbOA4D",
    "outputId": "c7352b1c-7c09-47ce-8b39-fd22c2052a3c"
   },
   "outputs": [
    {
     "name": "stdout",
     "output_type": "stream",
     "text": [
      "29.69911764705882\n"
     ]
    }
   ],
   "source": [
    "age_mean = X[\"Age\"].mean()\n",
    "\n",
    "print(age_mean)\n",
    "\n",
    "X[\"Age\"].fillna(age_mean, inplace=True)"
   ]
  },
  {
   "cell_type": "markdown",
   "metadata": {
    "id": "dGsoDL6aOA4D"
   },
   "source": [
    "Отметим, что существует и иной подход к заполнению пропущенных значений, который является более предпочтительным при достаточном количестве данных. Через некоторое время нам предстоит разбить наши данные на тренировочную и валидационную выборку. Мы могли бы сначала сделать это, а затем уже заполнить пропущенные значения средними именно по тренировочной и валидационной выборке, соответственно. Это более предпочтительный подход, поскольку средние значения получатся немного разными, что может предотвратить переобучение.\n",
    "\n",
    "Здесь, однако, мы этого делать не будем, поскольку данных не слишком много.\n",
    "\n",
    "Теперь рассмотрим поле `\"Embarked\"`. Оно текстовое, и здесь всего два пропущенных значения. Посмотрим, как часто встречаются возможные значения этого поля в датасете:"
   ]
  },
  {
   "cell_type": "code",
   "execution_count": null,
   "metadata": {
    "id": "LSR23S4BOA4D",
    "outputId": "db983b4e-dc6a-4529-af81-1cb6a170c578"
   },
   "outputs": [
    {
     "data": {
      "text/plain": [
       "S    644\n",
       "C    168\n",
       "Q     77\n",
       "Name: Embarked, dtype: int64"
      ]
     },
     "execution_count": 42,
     "metadata": {
      "tags": []
     },
     "output_type": "execute_result"
    }
   ],
   "source": [
    "X[\"Embarked\"].value_counts()"
   ]
  },
  {
   "cell_type": "markdown",
   "metadata": {
    "id": "wb0pw6ulOA4E"
   },
   "source": [
    "Мы видим, что чаще всего встречается значение `\"S\"`. Заполним им пропущенные значения:"
   ]
  },
  {
   "cell_type": "code",
   "execution_count": null,
   "metadata": {
    "id": "8QkZvCwdOA4F"
   },
   "outputs": [],
   "source": [
    "X[\"Embarked\"].fillna(\"S\", inplace=True)"
   ]
  },
  {
   "cell_type": "markdown",
   "metadata": {
    "id": "_OcudYkyOA4F"
   },
   "source": [
    "Иногда пропущенные значения не заполняют, а используют факт их пропуска в качестве ещё одного признака. Но в этом уроке мы так делать не будем.\n",
    "\n",
    "Обычно непрерывные значения заполняют средним или медианой, а категориальные - модой.\n",
    "\n",
    "Чтобы использовать категориальные признаки в нашей модели, нужно перевести их в числовые. Для поля `\"Sex\"` это сделать легко, поскольку здесь всего два разных значения:"
   ]
  },
  {
   "cell_type": "code",
   "execution_count": null,
   "metadata": {
    "id": "3g-4McI7OA4F",
    "outputId": "3e637f83-54ab-4550-b18a-7848916909c7"
   },
   "outputs": [
    {
     "data": {
      "text/plain": [
       "array(['male', 'female'], dtype=object)"
      ]
     },
     "execution_count": 44,
     "metadata": {
      "tags": []
     },
     "output_type": "execute_result"
    }
   ],
   "source": [
    "X[\"Sex\"].unique()"
   ]
  },
  {
   "cell_type": "markdown",
   "metadata": {
    "id": "k-IyCXNcOA4G"
   },
   "source": [
    "Заменим их на числовые значения 0 и 1:"
   ]
  },
  {
   "cell_type": "code",
   "execution_count": null,
   "metadata": {
    "id": "Bc579CkTOA4G"
   },
   "outputs": [],
   "source": [
    "sex_map = {\n",
    "    \"female\": 1,\n",
    "    \"male\": 0,\n",
    "}\n",
    "\n",
    "X[\"Sex\"] = X[\"Sex\"].map(sex_map)"
   ]
  },
  {
   "cell_type": "markdown",
   "metadata": {
    "id": "mwAxWC-nOA4H"
   },
   "source": [
    "Признак `\"Embarked\"` также является категориальным, но содержит более двух категорий, поэтому переводить их в числовые значения нельзя. Вместо этого используют так называемые _dummy-переменные_. Вместо одной переменной `\"Embarked\"` заведём три переменные `\"Embarked_C\"`, `\"Embarked_Q\"` и `\"Embarked_S\"`. В каждом из этих столбцов теперь будет стоять 1, если у соответствующего объекта переменная `\"Embarked\"` равна этому значению, и 0, если нет.\n",
    "\n",
    "Мы могли бы сделать это вручную, однако, в библиотеке `pandas` уже есть готовая функция для этого:"
   ]
  },
  {
   "cell_type": "code",
   "execution_count": null,
   "metadata": {
    "id": "8BxFzqayOA4H",
    "outputId": "e11fafd2-78b1-4e1c-a2ec-7527051d9bc3"
   },
   "outputs": [
    {
     "data": {
      "text/html": [
       "<div>\n",
       "<style scoped>\n",
       "    .dataframe tbody tr th:only-of-type {\n",
       "        vertical-align: middle;\n",
       "    }\n",
       "\n",
       "    .dataframe tbody tr th {\n",
       "        vertical-align: top;\n",
       "    }\n",
       "\n",
       "    .dataframe thead th {\n",
       "        text-align: right;\n",
       "    }\n",
       "</style>\n",
       "<table border=\"1\" class=\"dataframe\">\n",
       "  <thead>\n",
       "    <tr style=\"text-align: right;\">\n",
       "      <th></th>\n",
       "      <th>Pclass</th>\n",
       "      <th>Sex</th>\n",
       "      <th>Age</th>\n",
       "      <th>SibSp</th>\n",
       "      <th>Parch</th>\n",
       "      <th>Fare</th>\n",
       "      <th>Embarked_C</th>\n",
       "      <th>Embarked_Q</th>\n",
       "      <th>Embarked_S</th>\n",
       "    </tr>\n",
       "    <tr>\n",
       "      <th>PassengerId</th>\n",
       "      <th></th>\n",
       "      <th></th>\n",
       "      <th></th>\n",
       "      <th></th>\n",
       "      <th></th>\n",
       "      <th></th>\n",
       "      <th></th>\n",
       "      <th></th>\n",
       "      <th></th>\n",
       "    </tr>\n",
       "  </thead>\n",
       "  <tbody>\n",
       "    <tr>\n",
       "      <th>1</th>\n",
       "      <td>3</td>\n",
       "      <td>0</td>\n",
       "      <td>22.0</td>\n",
       "      <td>1</td>\n",
       "      <td>0</td>\n",
       "      <td>7.2500</td>\n",
       "      <td>0</td>\n",
       "      <td>0</td>\n",
       "      <td>1</td>\n",
       "    </tr>\n",
       "    <tr>\n",
       "      <th>2</th>\n",
       "      <td>1</td>\n",
       "      <td>1</td>\n",
       "      <td>38.0</td>\n",
       "      <td>1</td>\n",
       "      <td>0</td>\n",
       "      <td>71.2833</td>\n",
       "      <td>1</td>\n",
       "      <td>0</td>\n",
       "      <td>0</td>\n",
       "    </tr>\n",
       "    <tr>\n",
       "      <th>3</th>\n",
       "      <td>3</td>\n",
       "      <td>1</td>\n",
       "      <td>26.0</td>\n",
       "      <td>0</td>\n",
       "      <td>0</td>\n",
       "      <td>7.9250</td>\n",
       "      <td>0</td>\n",
       "      <td>0</td>\n",
       "      <td>1</td>\n",
       "    </tr>\n",
       "    <tr>\n",
       "      <th>4</th>\n",
       "      <td>1</td>\n",
       "      <td>1</td>\n",
       "      <td>35.0</td>\n",
       "      <td>1</td>\n",
       "      <td>0</td>\n",
       "      <td>53.1000</td>\n",
       "      <td>0</td>\n",
       "      <td>0</td>\n",
       "      <td>1</td>\n",
       "    </tr>\n",
       "    <tr>\n",
       "      <th>5</th>\n",
       "      <td>3</td>\n",
       "      <td>0</td>\n",
       "      <td>35.0</td>\n",
       "      <td>0</td>\n",
       "      <td>0</td>\n",
       "      <td>8.0500</td>\n",
       "      <td>0</td>\n",
       "      <td>0</td>\n",
       "      <td>1</td>\n",
       "    </tr>\n",
       "  </tbody>\n",
       "</table>\n",
       "</div>"
      ],
      "text/plain": [
       "             Pclass  Sex   Age  SibSp  Parch     Fare  Embarked_C  Embarked_Q  \\\n",
       "PassengerId                                                                     \n",
       "1                 3    0  22.0      1      0   7.2500           0           0   \n",
       "2                 1    1  38.0      1      0  71.2833           1           0   \n",
       "3                 3    1  26.0      0      0   7.9250           0           0   \n",
       "4                 1    1  35.0      1      0  53.1000           0           0   \n",
       "5                 3    0  35.0      0      0   8.0500           0           0   \n",
       "\n",
       "             Embarked_S  \n",
       "PassengerId              \n",
       "1                     1  \n",
       "2                     0  \n",
       "3                     1  \n",
       "4                     1  \n",
       "5                     1  "
      ]
     },
     "execution_count": 46,
     "metadata": {
      "tags": []
     },
     "output_type": "execute_result"
    }
   ],
   "source": [
    "X = pd.get_dummies(X)\n",
    "\n",
    "X.head()"
   ]
  },
  {
   "cell_type": "markdown",
   "metadata": {
    "id": "f28emvNUOA4H"
   },
   "source": [
    "Несмотря на то, что столбец `\"Pclass\"` является числовым, его тоже хорошо бы рассматривать как категориальный, поскольку класс пассажира - это именно категория, а не непрерывное значение. Для этого зададим для этого столбца тип `\"category\"`, чтобы функция `pd.get_dummies` \"поняла\", что этот столбец тоже нужно обработать."
   ]
  },
  {
   "cell_type": "code",
   "execution_count": null,
   "metadata": {
    "id": "D_RtYI9xOA4I",
    "outputId": "7edf9d26-d6e9-4449-b697-b3d9e37fcbfe"
   },
   "outputs": [
    {
     "data": {
      "text/html": [
       "<div>\n",
       "<style scoped>\n",
       "    .dataframe tbody tr th:only-of-type {\n",
       "        vertical-align: middle;\n",
       "    }\n",
       "\n",
       "    .dataframe tbody tr th {\n",
       "        vertical-align: top;\n",
       "    }\n",
       "\n",
       "    .dataframe thead th {\n",
       "        text-align: right;\n",
       "    }\n",
       "</style>\n",
       "<table border=\"1\" class=\"dataframe\">\n",
       "  <thead>\n",
       "    <tr style=\"text-align: right;\">\n",
       "      <th></th>\n",
       "      <th>Sex</th>\n",
       "      <th>Age</th>\n",
       "      <th>SibSp</th>\n",
       "      <th>Parch</th>\n",
       "      <th>Fare</th>\n",
       "      <th>Embarked_C</th>\n",
       "      <th>Embarked_Q</th>\n",
       "      <th>Embarked_S</th>\n",
       "      <th>Pclass_1</th>\n",
       "      <th>Pclass_2</th>\n",
       "      <th>Pclass_3</th>\n",
       "    </tr>\n",
       "    <tr>\n",
       "      <th>PassengerId</th>\n",
       "      <th></th>\n",
       "      <th></th>\n",
       "      <th></th>\n",
       "      <th></th>\n",
       "      <th></th>\n",
       "      <th></th>\n",
       "      <th></th>\n",
       "      <th></th>\n",
       "      <th></th>\n",
       "      <th></th>\n",
       "      <th></th>\n",
       "    </tr>\n",
       "  </thead>\n",
       "  <tbody>\n",
       "    <tr>\n",
       "      <th>1</th>\n",
       "      <td>0</td>\n",
       "      <td>22.0</td>\n",
       "      <td>1</td>\n",
       "      <td>0</td>\n",
       "      <td>7.2500</td>\n",
       "      <td>0</td>\n",
       "      <td>0</td>\n",
       "      <td>1</td>\n",
       "      <td>0</td>\n",
       "      <td>0</td>\n",
       "      <td>1</td>\n",
       "    </tr>\n",
       "    <tr>\n",
       "      <th>2</th>\n",
       "      <td>1</td>\n",
       "      <td>38.0</td>\n",
       "      <td>1</td>\n",
       "      <td>0</td>\n",
       "      <td>71.2833</td>\n",
       "      <td>1</td>\n",
       "      <td>0</td>\n",
       "      <td>0</td>\n",
       "      <td>1</td>\n",
       "      <td>0</td>\n",
       "      <td>0</td>\n",
       "    </tr>\n",
       "    <tr>\n",
       "      <th>3</th>\n",
       "      <td>1</td>\n",
       "      <td>26.0</td>\n",
       "      <td>0</td>\n",
       "      <td>0</td>\n",
       "      <td>7.9250</td>\n",
       "      <td>0</td>\n",
       "      <td>0</td>\n",
       "      <td>1</td>\n",
       "      <td>0</td>\n",
       "      <td>0</td>\n",
       "      <td>1</td>\n",
       "    </tr>\n",
       "    <tr>\n",
       "      <th>4</th>\n",
       "      <td>1</td>\n",
       "      <td>35.0</td>\n",
       "      <td>1</td>\n",
       "      <td>0</td>\n",
       "      <td>53.1000</td>\n",
       "      <td>0</td>\n",
       "      <td>0</td>\n",
       "      <td>1</td>\n",
       "      <td>1</td>\n",
       "      <td>0</td>\n",
       "      <td>0</td>\n",
       "    </tr>\n",
       "    <tr>\n",
       "      <th>5</th>\n",
       "      <td>0</td>\n",
       "      <td>35.0</td>\n",
       "      <td>0</td>\n",
       "      <td>0</td>\n",
       "      <td>8.0500</td>\n",
       "      <td>0</td>\n",
       "      <td>0</td>\n",
       "      <td>1</td>\n",
       "      <td>0</td>\n",
       "      <td>0</td>\n",
       "      <td>1</td>\n",
       "    </tr>\n",
       "  </tbody>\n",
       "</table>\n",
       "</div>"
      ],
      "text/plain": [
       "             Sex   Age  SibSp  Parch     Fare  Embarked_C  Embarked_Q  \\\n",
       "PassengerId                                                             \n",
       "1              0  22.0      1      0   7.2500           0           0   \n",
       "2              1  38.0      1      0  71.2833           1           0   \n",
       "3              1  26.0      0      0   7.9250           0           0   \n",
       "4              1  35.0      1      0  53.1000           0           0   \n",
       "5              0  35.0      0      0   8.0500           0           0   \n",
       "\n",
       "             Embarked_S  Pclass_1  Pclass_2  Pclass_3  \n",
       "PassengerId                                            \n",
       "1                     1         0         0         1  \n",
       "2                     0         1         0         0  \n",
       "3                     1         0         0         1  \n",
       "4                     1         1         0         0  \n",
       "5                     1         0         0         1  "
      ]
     },
     "execution_count": 47,
     "metadata": {
      "tags": []
     },
     "output_type": "execute_result"
    }
   ],
   "source": [
    "X[\"Pclass\"] = X[\"Pclass\"].astype(\"category\")\n",
    "\n",
    "X = pd.get_dummies(X)\n",
    "\n",
    "X.head()"
   ]
  },
  {
   "cell_type": "markdown",
   "metadata": {
    "id": "Y5pOXYCIOA4J"
   },
   "source": [
    "### Тренировочный, валидационный и тестовый датасеты\n",
    "\n",
    "Ранее мы упомянули _валидационную_ выборку. Давайте разберёмся, что это такое и зачем она нам нужна. Многие модели машинного обучения имеют параметры, которые влияют на то, каким образом обучается модель. В таких случаях мы используем тренировочную выборку чтобы обучить модель, валидационную чтобы проверить её качество и, если нужно, подправить параметры каким-то образом. Наконец, тестовую выборку мы используем лишь для окончательной проверки качества модели.\n",
    "\n",
    "Тестовый датасет с данными о пассажирах Титаника можно найти по вышеуказанной ссылке в файле `test.csv`. Мы же здесь работать с этими данными не будем.\n",
    "\n",
    "Итак, разобьём наши данные на тренировочную и валидационную выборки:"
   ]
  },
  {
   "cell_type": "code",
   "execution_count": null,
   "metadata": {
    "id": "42SLkzpaOA4J"
   },
   "outputs": [],
   "source": [
    "X_train, X_valid, y_train, y_valid = train_test_split(X, y, test_size=0.25, random_state=42)"
   ]
  },
  {
   "cell_type": "markdown",
   "metadata": {
    "id": "pmwAE6ZGOA4K"
   },
   "source": [
    "и приступим к построению моделей.\n",
    "\n",
    "В начале работы над любой задачей рекомендуется сперва построить простую модель, не затрачивая на неё слишком много времени. Затем можно будет уже строить более сложные модели и сравнивать их качество с качеством базовой модели.\n",
    "\n",
    "Ранее мы перевели все наши признаки в числовые. Попробуем просто построить модель, используя все признаки:"
   ]
  },
  {
   "cell_type": "code",
   "execution_count": null,
   "metadata": {
    "id": "eRUv_qcLOA4K"
   },
   "outputs": [],
   "source": [
    "from sklearn.linear_model import LogisticRegression\n",
    "\n",
    "lr = LogisticRegression(solver=\"liblinear\")\n",
    "\n",
    "lr.fit(X_train, y_train)\n",
    "\n",
    "y_pred = lr.predict(X_valid)"
   ]
  },
  {
   "cell_type": "markdown",
   "metadata": {
    "id": "35Fi_yDwOA4L"
   },
   "source": [
    "Для подсчёта правильных ответов будем использовать метрику _accuracy_ (_точность_). Она равна отношению числа объектов, на которых целевой класс был угадан верно, к общему числу объектов."
   ]
  },
  {
   "cell_type": "code",
   "execution_count": null,
   "metadata": {
    "id": "5W9G6eNiOA4L",
    "outputId": "dcbb23b0-56b0-4bbc-da1a-e604bb0f5db9"
   },
   "outputs": [
    {
     "data": {
      "text/plain": [
       "0.8026905829596412"
      ]
     },
     "execution_count": 50,
     "metadata": {
      "tags": []
     },
     "output_type": "execute_result"
    }
   ],
   "source": [
    "from sklearn.metrics import accuracy_score\n",
    "\n",
    "accuracy_score(y_valid, y_pred)"
   ]
  },
  {
   "cell_type": "markdown",
   "metadata": {
    "id": "_N4s_j4POA4L"
   },
   "source": [
    "Также сделаем предсказание на тренировочном датасете и посчитаем точность на нём:"
   ]
  },
  {
   "cell_type": "code",
   "execution_count": null,
   "metadata": {
    "id": "RT0cGSu8OA4M",
    "outputId": "91070c84-6cdc-4887-901e-addbf0c82747"
   },
   "outputs": [
    {
     "data": {
      "text/plain": [
       "0.8083832335329342"
      ]
     },
     "execution_count": 51,
     "metadata": {
      "tags": []
     },
     "output_type": "execute_result"
    }
   ],
   "source": [
    "y_pred_train = lr.predict(X_train)\n",
    "\n",
    "accuracy_score(y_train, y_pred_train)"
   ]
  },
  {
   "cell_type": "markdown",
   "metadata": {
    "id": "z_sObdhjOA4N"
   },
   "source": [
    "Как мы видим, точность на тренировочной и обучающей выборках примерно одинаковая. Если точность на обучающей выборке оказывается сильно выше - это означает, что модель переобучилась.\n",
    "\n",
    "Мы уже говорили о том, что алгоритм логистической регрессии позволяет получить не только предсказанную метку класса, но и вероятность принадлежности этому классу. Эти вероятности можно получить с помощью метода `.predict_proba`:"
   ]
  },
  {
   "cell_type": "code",
   "execution_count": null,
   "metadata": {
    "id": "Cjp-IVi4OA4N",
    "outputId": "0590e7d8-0d51-40fa-b8ec-53e3a17a09c2"
   },
   "outputs": [
    {
     "data": {
      "text/plain": [
       "array([[0.88825086, 0.11174914],\n",
       "       [0.73066427, 0.26933573],\n",
       "       [0.87036675, 0.12963325],\n",
       "       [0.08974892, 0.91025108],\n",
       "       [0.25113482, 0.74886518],\n",
       "       [0.0782079 , 0.9217921 ],\n",
       "       [0.33314914, 0.66685086],\n",
       "       [0.90541514, 0.09458486],\n",
       "       [0.24423873, 0.75576127],\n",
       "       [0.10298449, 0.89701551]])"
      ]
     },
     "execution_count": 52,
     "metadata": {
      "tags": []
     },
     "output_type": "execute_result"
    }
   ],
   "source": [
    "y_pred_proba = lr.predict_proba(X_valid)\n",
    "\n",
    "y_pred_proba[:10]"
   ]
  },
  {
   "cell_type": "markdown",
   "metadata": {
    "id": "tOJoF25COA4N"
   },
   "source": [
    "В первом столбце полученного массива стоит вероятность каждого объекта принадлежать классу 0, а во втором - вероятность принадлежать классу 1. Можно заметить, что сумма значений каждой строки равна 1.\n",
    "\n",
    "## Support Vector Machine\n",
    "\n",
    "_Support Vector Machine_ или _Метод опорных векторов_ является одним из самых известных методов машинного обучения. Он включает в себя несколько алгоритмов, с помощью которых можно решать задачи как классификации, так и регрессии. \n",
    "\n",
    "В задаче классификации метод SVM стремится построить между объектами разных классов \"линию\" (в пространствах больших размерностей это называется _гиперплоскость_) так, чтобы максимизировать расстояние от этой \"линии\" до объектов разных классов. Во многих случаях такой метод работает лучше, чем логистическая регрессия.\n",
    "\n",
    "Алгоритмы метода опорных векторов расположены в модуле `svm` библиотеки `sklearn`. Импортируем из этого модуля модель `SVC` (Support Vector Classifier):"
   ]
  },
  {
   "cell_type": "code",
   "execution_count": null,
   "metadata": {
    "id": "3wlyaL96OA4Q"
   },
   "outputs": [],
   "source": [
    "from sklearn.svm import SVC"
   ]
  },
  {
   "cell_type": "markdown",
   "metadata": {
    "id": "9EYAf-7vOA4R"
   },
   "source": [
    "Алгоритмы метода SVM чувствительны к ненормализованным и нестандартизованным данным. Поэтому прежде чем строить модель, нам следует масштабировать признаки. Ранее мы уже познакомились со _стандартизацией_: тогда мы вычитали из признаков их среднее значение, а затем делили на среднее квадратическое отклонение. Здесь мы попробуем применить _нормализацию_, т.е. расположить признаки так, чтобы минимальное значение каждого признака оказалось равным 0, а максимальное - 1. Это можно сделать с помощью инструмента `MinMaxScaler` из модуля `sklearn.preprocessing`:"
   ]
  },
  {
   "cell_type": "code",
   "execution_count": null,
   "metadata": {
    "id": "i2XsXHnDOA4R"
   },
   "outputs": [],
   "source": [
    "from sklearn.preprocessing import MinMaxScaler\n",
    "\n",
    "scaler = MinMaxScaler()\n",
    "\n",
    "X_train = pd.DataFrame(scaler.fit_transform(X_train), columns=X_train.columns)\n",
    "\n",
    "X_valid = pd.DataFrame(scaler.transform(X_valid), columns=X_valid.columns)"
   ]
  },
  {
   "cell_type": "markdown",
   "metadata": {
    "id": "4DG5DtQnOA4R"
   },
   "source": [
    "Заметим, что для нормализации данных `X_valid` мы использовали не метод `.fit_transform`, а метод `.transform`. Это мотивировано тем, что мы хотели бы, чтобы значения признаков из массивов `X_train` и `X_valid` были согласованы, т.е. чтобы те значения, которые совпадали до нормализации, остались равными и после неё. Поэтому обучать модель заново на значениях из `X_valid` мы не хотим.\n",
    "\n",
    "Итак, создадим модель и обучим её на наших тренировочных данных, а затем проверим её качество на валидационной выборке:"
   ]
  },
  {
   "cell_type": "code",
   "execution_count": null,
   "metadata": {
    "id": "9hmk4LOkOA4S"
   },
   "outputs": [],
   "source": [
    "clf = SVC(gamma=\"auto\")\n",
    "\n",
    "clf.fit(X_train, y_train)\n",
    "\n",
    "y_pred = clf.predict(X_valid)\n",
    "y_pred_train = clf.predict(X_train)"
   ]
  },
  {
   "cell_type": "markdown",
   "metadata": {
    "id": "KizDHeg5OA4T"
   },
   "source": [
    "Оценим точность предсказания:"
   ]
  },
  {
   "cell_type": "code",
   "execution_count": null,
   "metadata": {
    "id": "EQbP8E9LOA4T",
    "outputId": "af7fb72a-31c2-445e-e177-c2e4ff7bcfee"
   },
   "outputs": [
    {
     "data": {
      "text/plain": [
       "0.7847533632286996"
      ]
     },
     "execution_count": 56,
     "metadata": {
      "tags": []
     },
     "output_type": "execute_result"
    }
   ],
   "source": [
    "accuracy_score(y_valid, y_pred)"
   ]
  },
  {
   "cell_type": "code",
   "execution_count": null,
   "metadata": {
    "id": "rtl-CSgsOA4T",
    "outputId": "9b0ec665-fac4-416d-aa4a-7fbbeac857a3"
   },
   "outputs": [
    {
     "data": {
      "text/plain": [
       "0.7874251497005988"
      ]
     },
     "execution_count": 57,
     "metadata": {
      "tags": []
     },
     "output_type": "execute_result"
    }
   ],
   "source": [
    "accuracy_score(y_train, y_pred_train)"
   ]
  },
  {
   "cell_type": "markdown",
   "metadata": {
    "id": "Si24pRe7OA4T"
   },
   "source": [
    "Как мы видим, здесь мы получили более плохую точность, чем ранее, когда использовали модель логистической регрессии. Попробуем получше настроить модель.\n",
    "\n",
    "### Тюнинг модели SVC\n",
    "\n",
    "У модели SVC есть параметр `C`, который штрафует за ошибку классификации. По умолчанию этот параметр равен 1. Зададим несколько возможных значений для этого параметра и посмотрим, какие значения являются наиболее выгодными:"
   ]
  },
  {
   "cell_type": "code",
   "execution_count": null,
   "metadata": {
    "id": "967DU-niOA4U",
    "outputId": "5154b100-df86-4d5d-9ecc-b47f624f9585"
   },
   "outputs": [
    {
     "name": "stdout",
     "output_type": "stream",
     "text": [
      "C = 0.01\n",
      "\tacc_valid = 0.600896860986547\n",
      "\tacc_train = 0.6212574850299402\n",
      "\n",
      "C = 0.1\n",
      "\tacc_valid = 0.7847533632286996\n",
      "\tacc_train = 0.7874251497005988\n",
      "\n",
      "C = 1.0\n",
      "\tacc_valid = 0.7847533632286996\n",
      "\tacc_train = 0.7874251497005988\n",
      "\n",
      "C = 10.0\n",
      "\tacc_valid = 0.8071748878923767\n",
      "\tacc_train = 0.812874251497006\n",
      "\n",
      "C = 100.0\n",
      "\tacc_valid = 0.8161434977578476\n",
      "\tacc_train = 0.8203592814371258\n",
      "\n",
      "C = 1000.0\n",
      "\tacc_valid = 0.8251121076233184\n",
      "\tacc_train = 0.8368263473053892\n",
      "\n",
      "C = 10000.0\n",
      "\tacc_valid = 0.8340807174887892\n",
      "\tacc_train = 0.8473053892215568\n",
      "\n",
      "C = 100000.0\n",
      "\tacc_valid = 0.8071748878923767\n",
      "\tacc_train = 0.8592814371257484\n",
      "\n"
     ]
    }
   ],
   "source": [
    "c_values = np.logspace(-2, 5, 36)\n",
    "\n",
    "accuracy_on_valid = []\n",
    "accuracy_on_train = []\n",
    "\n",
    "for i, value in enumerate(c_values):\n",
    "    clf = SVC(C=value, gamma=\"auto\")\n",
    "    \n",
    "    clf.fit(X_train, y_train)\n",
    "    \n",
    "    y_pred = clf.predict(X_valid)\n",
    "    y_pred_train = clf.predict(X_train)\n",
    "        \n",
    "    acc_valid = accuracy_score(y_valid, y_pred)\n",
    "    acc_train = accuracy_score(y_train, y_pred_train)\n",
    "    \n",
    "    if i % 5 == 0:\n",
    "        print('C = {}'.format(value))\n",
    "        print('\\tacc_valid = {}'.format(acc_valid))\n",
    "        print('\\tacc_train = {}\\n'.format(acc_train))\n",
    "    \n",
    "    accuracy_on_valid.append(acc_valid)\n",
    "    accuracy_on_train.append(acc_train)"
   ]
  },
  {
   "cell_type": "code",
   "execution_count": null,
   "metadata": {
    "id": "r-mE1V_1OA4V",
    "outputId": "5a12025a-c77b-4557-aab5-3add574b9c1e"
   },
   "outputs": [
    {
     "data": {
      "image/png": "[encoded data removed]",
      "text/plain": [
       "<Figure size 432x288 with 1 Axes>"
      ]
     },
     "metadata": {
      "needs_background": "light",
      "tags": []
     },
     "output_type": "display_data"
    }
   ],
   "source": [
    "plt.plot(c_values, accuracy_on_valid, label=\"valid\")\n",
    "plt.plot(c_values, accuracy_on_train, label=\"train\")\n",
    "\n",
    "plt.xlabel('Значение параметра C')\n",
    "plt.ylabel('Accuracy')\n",
    "\n",
    "plt.legend()\n",
    "plt.grid()\n",
    "\n",
    "plt.show()"
   ]
  },
  {
   "cell_type": "markdown",
   "metadata": {
    "id": "2_BKWozoOA4V"
   },
   "source": [
    "Как мы видим, точность на валидационных данных до определённого момента растёт, но затем начинает падать. Пик точности попадает приблизительно на значение $C = 10000$. Дальше мы видим спад точности на валидационных данных, однако, точность на тренировочных данных продолжает расти. Это означает, что модель начинает переобучаться.\n",
    "\n",
    "Можно заметить, что точность на валидационных данных при $C = 10000$ уже выше, чем при использовании логистической регрессии, а также выше, чем при использовании SVM без настройки параметров.\n",
    "\n",
    "## KNN\n",
    "\n",
    "KNN расшифровывается как _K Nearest Neighbours_ или _K ближайших соседей_. Это один из самых простых в понимании методов машинного обучения. Представим каждый объект из рассматриваемых данных в виде точки в пространстве признаков. Метод KNN основан на предположении, что объекты одного класса расположены в пространстве близко друг к другу. Раз так, то можно классифицировать новый объект исходя из того, какие объекты находятся в пространстве рядом с ним.\n",
    "\n",
    "### Масштабирование признаков с использованием RobustScaler\n",
    "\n",
    "В первую очередь, раз мы работаем с расстояниями между объектами, нам необходимо отмасштабировать признаки так, чтобы они вносили в это расстояние соизмеримый вклад. Делать это мы будем с помощью `RobustScaler`. При таком подходе масштабирования признаков минимизируется влияние выбросов в данных. Это достигается за счёт того, что при масштабировании используется медиана и интерквартильный размах."
   ]
  },
  {
   "cell_type": "code",
   "execution_count": null,
   "metadata": {
    "id": "CQMoytJsOA4V"
   },
   "outputs": [],
   "source": [
    "from sklearn.preprocessing import RobustScaler\n",
    "from sklearn.neighbors import KNeighborsClassifier"
   ]
  },
  {
   "cell_type": "code",
   "execution_count": null,
   "metadata": {
    "id": "MdSKc2HBOA4W"
   },
   "outputs": [],
   "source": [
    "X_train, X_valid, y_train, y_valid = train_test_split(X, y, test_size=0.25, random_state=42)\n",
    "\n",
    "scaler = RobustScaler()\n",
    "cols_for_scaling = ['Age', 'SibSp', 'Parch', 'Fare']\n",
    "\n",
    "X_train[cols_for_scaling] = scaler.fit_transform(X_train[cols_for_scaling])\n",
    "X_valid[cols_for_scaling] = scaler.transform(X_valid[cols_for_scaling])"
   ]
  },
  {
   "cell_type": "code",
   "execution_count": null,
   "metadata": {
    "id": "_891-emvOA4W",
    "outputId": "fe15185e-2d70-4b46-8905-7bfaab6bf5cb"
   },
   "outputs": [
    {
     "data": {
      "text/html": [
       "<div>\n",
       "<style scoped>\n",
       "    .dataframe tbody tr th:only-of-type {\n",
       "        vertical-align: middle;\n",
       "    }\n",
       "\n",
       "    .dataframe tbody tr th {\n",
       "        vertical-align: top;\n",
       "    }\n",
       "\n",
       "    .dataframe thead th {\n",
       "        text-align: right;\n",
       "    }\n",
       "</style>\n",
       "<table border=\"1\" class=\"dataframe\">\n",
       "  <thead>\n",
       "    <tr style=\"text-align: right;\">\n",
       "      <th></th>\n",
       "      <th>Age</th>\n",
       "      <th>SibSp</th>\n",
       "      <th>Parch</th>\n",
       "      <th>Fare</th>\n",
       "    </tr>\n",
       "  </thead>\n",
       "  <tbody>\n",
       "    <tr>\n",
       "      <th>count</th>\n",
       "      <td>668.000000</td>\n",
       "      <td>668.000000</td>\n",
       "      <td>668.000000</td>\n",
       "      <td>668.000000</td>\n",
       "    </tr>\n",
       "    <tr>\n",
       "      <th>mean</th>\n",
       "      <td>-0.017145</td>\n",
       "      <td>0.553892</td>\n",
       "      <td>0.372754</td>\n",
       "      <td>0.787570</td>\n",
       "    </tr>\n",
       "    <tr>\n",
       "      <th>std</th>\n",
       "      <td>1.000766</td>\n",
       "      <td>1.185279</td>\n",
       "      <td>0.795588</td>\n",
       "      <td>2.285892</td>\n",
       "    </tr>\n",
       "    <tr>\n",
       "      <th>min</th>\n",
       "      <td>-2.252240</td>\n",
       "      <td>0.000000</td>\n",
       "      <td>0.000000</td>\n",
       "      <td>-0.637874</td>\n",
       "    </tr>\n",
       "    <tr>\n",
       "      <th>25%</th>\n",
       "      <td>-0.592240</td>\n",
       "      <td>0.000000</td>\n",
       "      <td>0.000000</td>\n",
       "      <td>-0.286822</td>\n",
       "    </tr>\n",
       "    <tr>\n",
       "      <th>50%</th>\n",
       "      <td>0.000000</td>\n",
       "      <td>0.000000</td>\n",
       "      <td>0.000000</td>\n",
       "      <td>0.000000</td>\n",
       "    </tr>\n",
       "    <tr>\n",
       "      <th>75%</th>\n",
       "      <td>0.407760</td>\n",
       "      <td>1.000000</td>\n",
       "      <td>0.000000</td>\n",
       "      <td>0.713178</td>\n",
       "    </tr>\n",
       "    <tr>\n",
       "      <th>max</th>\n",
       "      <td>3.869299</td>\n",
       "      <td>8.000000</td>\n",
       "      <td>6.000000</td>\n",
       "      <td>22.056664</td>\n",
       "    </tr>\n",
       "  </tbody>\n",
       "</table>\n",
       "</div>"
      ],
      "text/plain": [
       "              Age       SibSp       Parch        Fare\n",
       "count  668.000000  668.000000  668.000000  668.000000\n",
       "mean    -0.017145    0.553892    0.372754    0.787570\n",
       "std      1.000766    1.185279    0.795588    2.285892\n",
       "min     -2.252240    0.000000    0.000000   -0.637874\n",
       "25%     -0.592240    0.000000    0.000000   -0.286822\n",
       "50%      0.000000    0.000000    0.000000    0.000000\n",
       "75%      0.407760    1.000000    0.000000    0.713178\n",
       "max      3.869299    8.000000    6.000000   22.056664"
      ]
     },
     "execution_count": 62,
     "metadata": {
      "tags": []
     },
     "output_type": "execute_result"
    }
   ],
   "source": [
    "X_train[cols_for_scaling].describe()"
   ]
  },
  {
   "cell_type": "markdown",
   "metadata": {
    "id": "LHl4mfwUOA4X"
   },
   "source": [
    "Как мы видим, после масштабирования мода каждого из масштабируемых признаков стала равной 0.\n",
    "\n",
    "### Классификация с помощью KNN\n",
    "\n",
    "Итак, построим нашу модель. Идея метода заключается в том, что, классифицируя некоторый объект, мы смотрим на `K` его ближайших соседей и смотрим, представителей какого класса среди этих соседей больше всего. К такому классу мы и относим классифицируемый объект.\n",
    "\n",
    "Построим модель для различных `K` чтобы подобрать наиболее удачное значение."
   ]
  },
  {
   "cell_type": "code",
   "execution_count": null,
   "metadata": {
    "id": "6s4A8RhoOA4X",
    "outputId": "1d61bf86-a7c7-4689-e239-30dec705b9bd"
   },
   "outputs": [
    {
     "name": "stdout",
     "output_type": "stream",
     "text": [
      "K = 1\n",
      "\tacc_valid = 0.7623318385650224\n",
      "\tacc_train = 0.9730538922155688\n",
      "\n",
      "K = 3\n",
      "\tacc_valid = 0.8161434977578476\n",
      "\tacc_train = 0.875748502994012\n",
      "\n",
      "K = 5\n",
      "\tacc_valid = 0.8071748878923767\n",
      "\tacc_train = 0.8637724550898204\n",
      "\n",
      "K = 7\n",
      "\tacc_valid = 0.7847533632286996\n",
      "\tacc_train = 0.8323353293413174\n",
      "\n",
      "K = 9\n",
      "\tacc_valid = 0.7802690582959642\n",
      "\tacc_train = 0.8173652694610778\n",
      "\n"
     ]
    }
   ],
   "source": [
    "k_values = np.arange(1, 11)\n",
    "\n",
    "accuracy_on_valid = []\n",
    "accuracy_on_train = []\n",
    "\n",
    "for i, value in enumerate(k_values):\n",
    "    clf = KNeighborsClassifier(n_neighbors=value)\n",
    "    \n",
    "    clf.fit(X_train, y_train)\n",
    "    \n",
    "    y_pred = clf.predict(X_valid)\n",
    "    y_pred_train = clf.predict(X_train)\n",
    "        \n",
    "    acc_valid = accuracy_score(y_valid, y_pred)\n",
    "    acc_train = accuracy_score(y_train, y_pred_train)\n",
    "    \n",
    "    if i % 2 == 0:\n",
    "        print('K = {}'.format(value))\n",
    "        print('\\tacc_valid = {}'.format(acc_valid))\n",
    "        print('\\tacc_train = {}\\n'.format(acc_train))\n",
    "    \n",
    "    accuracy_on_valid.append(acc_valid)\n",
    "    accuracy_on_train.append(acc_train)"
   ]
  },
  {
   "cell_type": "code",
   "execution_count": null,
   "metadata": {
    "id": "bWn1sR7COA4Y",
    "outputId": "a105f857-2fdf-4265-813f-97c7dbf353ec"
   },
   "outputs": [
    {
     "data": {
      "image/png": "[encoded data removed]",
      "text/plain": [
       "<Figure size 432x288 with 1 Axes>"
      ]
     },
     "metadata": {
      "needs_background": "light",
      "tags": []
     },
     "output_type": "display_data"
    }
   ],
   "source": [
    "plt.plot(k_values, accuracy_on_valid, label=\"valid\")\n",
    "plt.plot(k_values, accuracy_on_train, label=\"train\")\n",
    "\n",
    "plt.xlabel('Значение параметра K')\n",
    "plt.ylabel('Accuracy')\n",
    "\n",
    "plt.legend()\n",
    "plt.grid()\n",
    "\n",
    "plt.show()"
   ]
  },
  {
   "cell_type": "markdown",
   "metadata": {
    "id": "kCKwNGhVOA4Z"
   },
   "source": [
    "Мы видим, что при малых значениях `K` модель склонна к переобучению. Оптимальном выбором является число $K = 6$. Построим модель ещё раз, используя эти знания."
   ]
  },
  {
   "cell_type": "code",
   "execution_count": null,
   "metadata": {
    "id": "hRqQR0soOA4Z",
    "outputId": "6076bf7d-8516-457a-a160-28bc74c19a51"
   },
   "outputs": [
    {
     "data": {
      "text/plain": [
       "0.8251121076233184"
      ]
     },
     "execution_count": 65,
     "metadata": {
      "tags": []
     },
     "output_type": "execute_result"
    }
   ],
   "source": [
    "clf = KNeighborsClassifier(n_neighbors=6)\n",
    "\n",
    "clf.fit(X_train, y_train)\n",
    "\n",
    "y_pred = clf.predict(X_valid)\n",
    "\n",
    "accuracy_score(y_valid, y_pred)"
   ]
  },
  {
   "cell_type": "markdown",
   "metadata": {
    "id": "98nSHlCtOA4a"
   },
   "source": [
    "Полученная точность также выше, чем при использовании логистической регрессии.\n",
    "\n",
    "## Метрики качества классификационных моделей\n",
    "\n",
    "Ранее мы для задач классификации использовали только метрику _accuracy_, которая равна доле правильных ответов классификатора к общему количеству объектов в выборке. Такая метрика очень плохо работает в случае несбалансированной выборки (т.е. случая, когда объектов одного класса сильно больше, чем объектов другого). Представим ситуацию: мы классифицируем объекты, среди которых 950 объектов класса 1 и 50 объектов класса 0. На таких данных даже классификатор, который относит все объекты к классу 1 без разбора, даст точность 0.95. Для таких случаев рекомендуется использовать другие метрики качества.\n",
    "\n",
    "Разберёмся подробнее в результатах, которые мы только что получили с помощью классификатора KNN. Для этого будем использовать _confusion matrix_, т.е. _матрицу ошибок_."
   ]
  },
  {
   "cell_type": "code",
   "execution_count": null,
   "metadata": {
    "id": "ofIg1ioYOA4c",
    "outputId": "d8248273-9e45-484f-9bf3-4cfd285e64ab"
   },
   "outputs": [
    {
     "name": "stdout",
     "output_type": "stream",
     "text": [
      "[[123  11]\n",
      " [ 28  61]]\n"
     ]
    }
   ],
   "source": [
    "from sklearn.metrics import confusion_matrix\n",
    "\n",
    "cm = confusion_matrix(y_valid, y_pred)\n",
    "\n",
    "print(cm)"
   ]
  },
  {
   "cell_type": "markdown",
   "metadata": {
    "id": "3V8CufovOA4c"
   },
   "source": [
    "Данная матрица содержит в себе 4 значения:\n",
    "\n",
    "* True Negative (TN) - случаи, когда мы правильно классифицировали объект как объект класса 0 (левое верхнее значение)\n",
    "* False Positive (FP) - случаи, когда мы классифицировали объект как объект класса 1, хотя, он на самом деле имеет класс 0 (правое верхнее)\n",
    "* False Negative (FN) - классифицировали объект как объект класса 0, а на самом деле он имеет класс 1 (левое нижнее)\n",
    "* True Positive (TP) - правильно классифицировали объект как объект класса 1 (правое нижнее)"
   ]
  },
  {
   "cell_type": "code",
   "execution_count": null,
   "metadata": {
    "id": "VltAbm3aOA4c",
    "outputId": "ee48dc46-f00e-4aca-9012-888cce219a73"
   },
   "outputs": [
    {
     "data": {
      "text/plain": [
       "61"
      ]
     },
     "execution_count": 67,
     "metadata": {
      "tags": []
     },
     "output_type": "execute_result"
    }
   ],
   "source": [
    "TP = ((y_pred == 1) & (y_valid) == 1).sum()\n",
    "TP"
   ]
  },
  {
   "cell_type": "code",
   "execution_count": null,
   "metadata": {
    "id": "5T95YEDeOA4c"
   },
   "outputs": [],
   "source": [
    "TN = cm[0, 0]\n",
    "FP = cm[0, 1]\n",
    "FN = cm[1, 0]"
   ]
  },
  {
   "cell_type": "markdown",
   "metadata": {
    "id": "S2NctbPLOA4d"
   },
   "source": [
    "### Точность и полнота\n",
    "\n",
    "Метрика _precision_ (точность) является долей объектов класса 1, верно классифицированных моделью, к общему числу объектов, которые модель классифицировала как объекты класса 1. Т.е.\n",
    "\n",
    "$$precision = \\dfrac{TP}{TP + FP}.$$"
   ]
  },
  {
   "cell_type": "code",
   "execution_count": null,
   "metadata": {
    "id": "QEoRbuCLOA4e",
    "outputId": "a8e7babe-1457-4a71-d3f4-e0424d8c0e92"
   },
   "outputs": [
    {
     "data": {
      "text/plain": [
       "0.8472222222222222"
      ]
     },
     "execution_count": 69,
     "metadata": {
      "tags": []
     },
     "output_type": "execute_result"
    }
   ],
   "source": [
    "precision = TP / (TP + FP)\n",
    "precision"
   ]
  },
  {
   "cell_type": "markdown",
   "metadata": {
    "id": "gUTKpyl2OA4e"
   },
   "source": [
    "Данную метрику можно также сразу посчитать по предсказанным данным с помощью функции `precision_score` из модуля `sklearn.metrics`.\n",
    "\n",
    "Метрика _recall_ (_полнота_) является долей найденных моделью объектов класса 1:\n",
    "\n",
    "$$recall = \\dfrac{TP}{TP + FN}.$$"
   ]
  },
  {
   "cell_type": "code",
   "execution_count": null,
   "metadata": {
    "id": "ah0sDF54OA4f",
    "outputId": "277e4cf1-8bb3-4ac2-a8b3-44fa7ff21d1c"
   },
   "outputs": [
    {
     "data": {
      "text/plain": [
       "0.6853932584269663"
      ]
     },
     "execution_count": 70,
     "metadata": {
      "tags": []
     },
     "output_type": "execute_result"
    }
   ],
   "source": [
    "from sklearn.metrics import recall_score\n",
    "\n",
    "recall_score(y_valid, y_pred)"
   ]
  },
  {
   "cell_type": "markdown",
   "metadata": {
    "id": "2P-cI3YkOA4f"
   },
   "source": [
    "### F-мера\n",
    "\n",
    "Хорошим способом комбинировать эти две метрики является мера $F_1$:\n",
    "\n",
    "$$F_1 = 2 \\cdot \\dfrac{precision \\cdot recall}{precision + recall}.$$"
   ]
  },
  {
   "cell_type": "code",
   "execution_count": null,
   "metadata": {
    "id": "Su4DZTndOA4f",
    "outputId": "a3a479ea-cdc2-472c-d52f-2fdc295f95c2"
   },
   "outputs": [
    {
     "data": {
      "text/plain": [
       "0.7577639751552795"
      ]
     },
     "execution_count": 71,
     "metadata": {
      "tags": []
     },
     "output_type": "execute_result"
    }
   ],
   "source": [
    "from sklearn.metrics import f1_score\n",
    "\n",
    "f1_score(y_valid, y_pred)"
   ]
  },
  {
   "cell_type": "markdown",
   "metadata": {
    "id": "eh5Kdvz3OA4h"
   },
   "source": [
    "### AUC\n",
    "\n",
    "Следующей часто используемой метрикой является метрика _AUC_ или _Area Under Curve_ (площадь под кривой). Часто в качестве кривой используется кривая _ROC_. Разберёмся, что это за кривая. Для этого нам нужно получить не просто метки класса для каждого классифицируемого объекта, а вероятности принадлежности к классу 1. Это можно сделать с помощью метода `.predict_proba`:"
   ]
  },
  {
   "cell_type": "code",
   "execution_count": null,
   "metadata": {
    "id": "vBqx8JBNOA4h",
    "outputId": "1589c31e-4ae1-42e8-f566-0ffbf9978a73"
   },
   "outputs": [
    {
     "name": "stdout",
     "output_type": "stream",
     "text": [
      "[[0.66666667 0.33333333]\n",
      " [0.83333333 0.16666667]\n",
      " [1.         0.        ]\n",
      " [0.         1.        ]\n",
      " [0.5        0.5       ]\n",
      " [0.         1.        ]\n",
      " [0.16666667 0.83333333]\n",
      " [0.83333333 0.16666667]\n",
      " [0.5        0.5       ]\n",
      " [0.16666667 0.83333333]]\n"
     ]
    }
   ],
   "source": [
    "y_pred_proba = clf.predict_proba(X_valid)\n",
    "\n",
    "print(y_pred_proba[:10])"
   ]
  },
  {
   "cell_type": "markdown",
   "metadata": {
    "id": "G-rLhir9OA4i"
   },
   "source": [
    "Данный метод возвращает для каждого классифицируемого объекта список из двух значений. Первой идёт вероятность принадлежности классу 0, а второй - вероятность принадлежности классу 1. Как мы видим, сумма двух значений всегда равна 1. \n",
    "\n",
    "Нам понадобится лишь вероятность принадлежности классу 1:"
   ]
  },
  {
   "cell_type": "code",
   "execution_count": null,
   "metadata": {
    "id": "hj-udKrnOA4i",
    "outputId": "95e8f078-c64e-4433-b3ca-21f089a8c16e"
   },
   "outputs": [
    {
     "name": "stdout",
     "output_type": "stream",
     "text": [
      "[0.33333333 0.16666667 0.         1.         0.5       ]\n"
     ]
    }
   ],
   "source": [
    "y_pred_proba = y_pred_proba[:, 1]\n",
    "\n",
    "print(y_pred_proba[:5])"
   ]
  },
  {
   "cell_type": "markdown",
   "metadata": {
    "id": "zFrsGvlFOA4j"
   },
   "source": [
    "Посмотрим, как распределяются эти вероятности. Для этого построим две гистограммы. В первом случае будем смотреть на распределение вероятностей на объектах, принадлежащих классу 1, а во втором - на объектах класса 0."
   ]
  },
  {
   "cell_type": "code",
   "execution_count": null,
   "metadata": {
    "id": "Aa_8thJ-OA4j",
    "outputId": "ad5dbe16-6320-4f7c-e36a-fd1b62b38eae"
   },
   "outputs": [
    {
     "data": {
      "text/plain": [
       "<matplotlib.legend.Legend at 0x7f98b76e46a0>"
      ]
     },
     "execution_count": 74,
     "metadata": {
      "tags": []
     },
     "output_type": "execute_result"
    },
    {
     "data": {
      "image/png": "[encoded data removed]",
      "text/plain": [
       "<Figure size 432x288 with 1 Axes>"
      ]
     },
     "metadata": {
      "needs_background": "light",
      "tags": []
     },
     "output_type": "display_data"
    }
   ],
   "source": [
    "plt.hist(y_pred_proba[y_valid == 1], bins=7, density=True, label='class 1', alpha=0.5)\n",
    "plt.hist(y_pred_proba[y_valid == 0], bins=7, density=True, label='class 0', alpha=0.5)\n",
    "\n",
    "plt.xlabel(\"Probability\")\n",
    "plt.ylabel(\"Density\")\n",
    "\n",
    "plt.legend()"
   ]
  },
  {
   "cell_type": "markdown",
   "metadata": {
    "id": "IRpQ7SqfOA4j"
   },
   "source": [
    "Мы видим, что наша модель неплохо разделила объекты классов 0 и 1.\n",
    "\n",
    "Теперь построим ROC-кривую. Для этого нам понадобятся следующие значения:\n",
    "\n",
    "* $FPR = \\dfrac{FP}{FP + TN}$ - False Positive Rate, т.е. доля False Positive\n",
    "\n",
    "* $TPR = \\dfrac{TP}{TP + FN}$ - True Positive Rate, т.е. доля True Positive (совпадает с recall)\n",
    "\n",
    "На основании этих метрик строится ROC-кривая. Посчитаем эти значения с помощью функции `roc_curve` из модуля `sklearn.metrics`:"
   ]
  },
  {
   "cell_type": "code",
   "execution_count": null,
   "metadata": {
    "id": "5PztbgLuOA4k"
   },
   "outputs": [],
   "source": [
    "from sklearn.metrics import roc_curve\n",
    "\n",
    "fpr, tpr, thresholds = roc_curve(y_valid, y_pred_proba, pos_label=1)"
   ]
  },
  {
   "cell_type": "markdown",
   "metadata": {
    "id": "zJeXmU2ROA4l"
   },
   "source": [
    "Здесь параметр `pos_label` - метка того класса, который мы считаем позитивным. В нашем случае это класс 1.\n",
    "\n",
    "Идея ROC-кривой состоит в следующем. Если у нас есть массив с вероятностями принадлежности объектов классу 1, то порог, по которому принимается решение, мы можем выбирать сами. Например, если мы возьмём в качестве порога 1, то модель будет классифицировать объекты как объекты класса 1 только если классификатор на них абсолютно уверен (т.е. вероятность равна 1). Мы также можем взять этот порог и меньше: $0.9$, $0.7$, $0.5$ и т.д. Каждому такому выбору порога соответствуют свои значения FPR и TPR.\n",
    "\n",
    "Итак, будем постепенно уменьшать порог, начиная с 1, и смотреть, в какие моменты значения FPR и TPR меняются. Как только какое-нибудь из этих значений изменилось, мы будем сохранять текущее значение FPR, TPR, а также значение порога, на котором произошло изменение. Именно эти значения и возвращает функция `roc_curve`.\n",
    "\n",
    "Например, рассмотрим четвёртый элемент в массиве `thresholds`:"
   ]
  },
  {
   "cell_type": "code",
   "execution_count": null,
   "metadata": {
    "id": "5Q2rLlu4OA4m",
    "outputId": "625a8a53-abc8-4565-c86d-f14f4a6063f5"
   },
   "outputs": [
    {
     "data": {
      "text/plain": [
       "0.6666666666666666"
      ]
     },
     "execution_count": 76,
     "metadata": {
      "tags": []
     },
     "output_type": "execute_result"
    }
   ],
   "source": [
    "th = thresholds[3]\n",
    "th"
   ]
  },
  {
   "cell_type": "markdown",
   "metadata": {
    "id": "D-6nq5kYOA4m"
   },
   "source": [
    "Теперь посмотрим, какие значения FPR и TPR соответствуют этому порогу:"
   ]
  },
  {
   "cell_type": "code",
   "execution_count": null,
   "metadata": {
    "id": "LpH9qgbEOA4n",
    "outputId": "8f0b2b09-e710-42fc-a40a-ab5b89c92047"
   },
   "outputs": [
    {
     "name": "stdout",
     "output_type": "stream",
     "text": [
      "0.08208955223880597\n",
      "0.6853932584269663\n"
     ]
    }
   ],
   "source": [
    "print(fpr[3])\n",
    "print(tpr[3])"
   ]
  },
  {
   "cell_type": "markdown",
   "metadata": {
    "id": "YY4HP_WVOA4n"
   },
   "source": [
    "Эти же значения можно посчитать и руками:"
   ]
  },
  {
   "cell_type": "code",
   "execution_count": null,
   "metadata": {
    "id": "n4Aq7UDQOA4n",
    "outputId": "bcc6da80-d360-4037-dd10-364788a92157"
   },
   "outputs": [
    {
     "name": "stdout",
     "output_type": "stream",
     "text": [
      "0.08208955223880597\n",
      "0.6853932584269663\n"
     ]
    }
   ],
   "source": [
    "fpr_ = ((y_valid==0) & (y_pred==1) & (y_pred_proba>=th)).sum() / (y_valid==0).sum()\n",
    "tpr_ = ((y_valid==1) & (y_pred==1) & (y_pred_proba>=th)).sum() / (y_valid==1).sum()\n",
    "\n",
    "print(fpr_)\n",
    "print(tpr_)"
   ]
  },
  {
   "cell_type": "markdown",
   "metadata": {
    "id": "__5V2G4SOA4n"
   },
   "source": [
    "Теперь ROC-кривая просто строится по точкам, которые получаются, если FPR откладывать по оси x, а TPR - по оси y:"
   ]
  },
  {
   "cell_type": "code",
   "execution_count": null,
   "metadata": {
    "id": "UludF613OA4o",
    "outputId": "14045816-717d-4218-c062-a0cb2c907703"
   },
   "outputs": [
    {
     "data": {
      "image/png": "[encoded data removed]",
      "text/plain": [
       "<Figure size 360x360 with 1 Axes>"
      ]
     },
     "metadata": {
      "needs_background": "light",
      "tags": []
     },
     "output_type": "display_data"
    }
   ],
   "source": [
    "plt.rcParams['figure.figsize'] = 5, 5\n",
    "\n",
    "plt.plot(fpr, tpr)\n",
    "plt.plot([0, 1], [0, 1], color='grey', linestyle='dashed')\n",
    "\n",
    "plt.xlabel('False Positive Rate')\n",
    "plt.ylabel('True Positive Rate')\n",
    "plt.title('ROC curve')\n",
    "\n",
    "plt.show()"
   ]
  },
  {
   "cell_type": "markdown",
   "metadata": {
    "id": "ihc0WxaYOA4p"
   },
   "source": [
    "Соответственно, метрика ROC AUC - это площадь под кривой ROC. Для константного классификатора эта метрика равна $0.5$, поэтому для хороших классификаторов она должна быть между $0.5$ и $1$.\n",
    "\n",
    "Посчитать эту метрику можно и сразу, воспользовавшись соответствующей функцией из библиотеки `sklearn`:"
   ]
  },
  {
   "cell_type": "code",
   "execution_count": null,
   "metadata": {
    "id": "zTtNBNBVOA4p",
    "outputId": "31137d6c-1cb3-42b6-d28e-32f386d27518"
   },
   "outputs": [
    {
     "data": {
      "text/plain": [
       "0.8679356028844541"
      ]
     },
     "execution_count": 80,
     "metadata": {
      "tags": []
     },
     "output_type": "execute_result"
    }
   ],
   "source": [
    "from sklearn.metrics import roc_auc_score\n",
    "\n",
    "roc_auc_score(y_valid, y_pred_proba)"
   ]
  },
  {
   "cell_type": "markdown",
   "metadata": {
    "id": "V2YvZ8CjOA4q"
   },
   "source": [
    "## Деревья решений и случайный лес\n",
    "\n",
    "_Дерево решений_ - один из самых легко интерпретируемых методов машинного обучения. При использовании этого метода по тренировочным данным строится бинарное дерево, в каждом узле которого происходит разбиение данных по значению какого-то признака. На конце каждой ветки дерева (т.е. в каждом её _листе_) располагается метка класса, к которому следует отнести те объекты, которые дошли до соответствующего листа."
   ]
  },
  {
   "cell_type": "code",
   "execution_count": null,
   "metadata": {
    "id": "iCQsJTzcOA4q"
   },
   "outputs": [],
   "source": [
    "from sklearn.tree import DecisionTreeClassifier\n",
    "\n",
    "X_train, X_valid, y_train, y_valid = train_test_split(X, y, test_size=0.25, random_state=42)"
   ]
  },
  {
   "cell_type": "markdown",
   "metadata": {
    "id": "tRP8zPrpOA4r"
   },
   "source": [
    "Разберёмся с тем, какие параметры есть у модели `DecisionTreeClassifier`, и как их настраивать. Первый интересующий нас параметр - максимальная глубина дерева или `max_depth`. Деревья большой глубины склонны к переобучению: модель просто слишком детально подстраивается под тренировочные данные."
   ]
  },
  {
   "cell_type": "code",
   "execution_count": null,
   "metadata": {
    "id": "S0SUisiqOA4r",
    "outputId": "5d73d994-e5dc-4c64-e43b-bba76fabffc5"
   },
   "outputs": [
    {
     "name": "stdout",
     "output_type": "stream",
     "text": [
      "K = 4\n",
      "\tacc_valid = 0.8071748878923767\n",
      "\tacc_train = 0.842814371257485\n",
      "\n",
      "K = 8\n",
      "\tacc_valid = 0.7623318385650224\n",
      "\tacc_train = 0.8967065868263473\n",
      "\n",
      "K = 12\n",
      "\tacc_valid = 0.7443946188340808\n",
      "\tacc_train = 0.9580838323353293\n",
      "\n",
      "K = 16\n",
      "\tacc_valid = 0.7219730941704036\n",
      "\tacc_train = 0.9790419161676647\n",
      "\n"
     ]
    }
   ],
   "source": [
    "max_depth_values = np.arange(2, 20)\n",
    "\n",
    "accuracy_on_valid = []\n",
    "accuracy_on_train = []\n",
    "\n",
    "for i, value in enumerate(max_depth_values):\n",
    "    clf = DecisionTreeClassifier(max_depth=value)\n",
    "    \n",
    "    clf.fit(X_train, y_train)\n",
    "    \n",
    "    y_pred = clf.predict(X_valid)\n",
    "    y_pred_train = clf.predict(X_train)\n",
    "        \n",
    "    acc_valid = accuracy_score(y_valid, y_pred)\n",
    "    acc_train = accuracy_score(y_train, y_pred_train)\n",
    "    \n",
    "    if i % 4 == 2:\n",
    "        print('K = {}'.format(value))\n",
    "        print('\\tacc_valid = {}'.format(acc_valid))\n",
    "        print('\\tacc_train = {}\\n'.format(acc_train))\n",
    "    \n",
    "    accuracy_on_valid.append(acc_valid)\n",
    "    accuracy_on_train.append(acc_train)"
   ]
  },
  {
   "cell_type": "code",
   "execution_count": null,
   "metadata": {
    "id": "o1ZjPb5yOA4r",
    "outputId": "cb571d87-ed8d-47a6-acdd-02e08044f79c"
   },
   "outputs": [
    {
     "data": {
      "image/png": "[encoded data removed]",
      "text/plain": [
       "<Figure size 432x288 with 1 Axes>"
      ]
     },
     "metadata": {
      "needs_background": "light",
      "tags": []
     },
     "output_type": "display_data"
    }
   ],
   "source": [
    "plt.rcParams['figure.figsize'] = 6, 4\n",
    "\n",
    "plt.plot(max_depth_values, accuracy_on_valid, label=\"valid\")\n",
    "plt.plot(max_depth_values, accuracy_on_train, label=\"train\")\n",
    "\n",
    "plt.xlabel('Значение параметра max_depth')\n",
    "plt.ylabel('Accuracy')\n",
    "\n",
    "plt.legend()\n",
    "plt.grid()\n",
    "\n",
    "plt.show()"
   ]
  },
  {
   "cell_type": "markdown",
   "metadata": {
    "id": "UjMXKMaCOA4s"
   },
   "source": [
    "Это мы и наблюдаем: при достаточно больших значениях параметра `max_depth` точность на тренировочных данных почти достигает 1. На валидационных же данных точность достигает своего пика приблизительно на значении `max_depth = 7`, а затем начинает падать."
   ]
  },
  {
   "cell_type": "code",
   "execution_count": null,
   "metadata": {
    "id": "3g0tmVgHOA4s",
    "outputId": "d9326c68-c3a4-4c54-92c6-4d9f922d1a2b"
   },
   "outputs": [
    {
     "data": {
      "text/plain": [
       "0.8071748878923767"
      ]
     },
     "execution_count": 84,
     "metadata": {
      "tags": []
     },
     "output_type": "execute_result"
    }
   ],
   "source": [
    "clf = DecisionTreeClassifier(max_depth=7)\n",
    "\n",
    "clf.fit(X_train, y_train)\n",
    "\n",
    "y_pred = clf.predict(X_valid)\n",
    "\n",
    "accuracy_score(y_valid, y_pred)"
   ]
  },
  {
   "cell_type": "markdown",
   "metadata": {
    "id": "TQZHch1nOA4t"
   },
   "source": [
    "Даже в лучшем случае мы получаем точность, которая уступает точности других рассмотренных нами моделей. \n",
    "\n",
    "Рассмотрим теперь алгоритм, основанный на деревьях решений, но являющийся более сложным, а именно со _Случайным лесом_ или _Random forest_.\n",
    "\n",
    "### Random Forest\n",
    "\n",
    "В этом алгоритме используется _ансамбль_ деревьев решений. Для каждого обучаемого дерева решений создаётся подвыборка из исходной тренировочной выборки, кроме того, при обучении каждого дерева используется лишь часть признаков. \n",
    "\n",
    "На этапе предсказания мы учитываем ответы, полученные каждым из деревьев, и выбираем тот ответ, за который \"проголосовало\" наибольшее количество деревьев. Это позволяет, в частности, уменьшить влияние переобучения каждого из деревьев."
   ]
  },
  {
   "cell_type": "code",
   "execution_count": null,
   "metadata": {
    "id": "c3g2001bOA4t"
   },
   "outputs": [],
   "source": [
    "from sklearn.ensemble import RandomForestClassifier"
   ]
  },
  {
   "cell_type": "markdown",
   "metadata": {
    "id": "Er3ICfDSOA4t"
   },
   "source": [
    "Рассмотрим несколько параметров данной модели:\n",
    "\n",
    "* `n_estimators` - число деревьев в ансамбле\n",
    "* `max_features` - максимальное число признаков, которое может быть использовано при построении каждого дерева\n",
    "* `max_depth` - максимальная глубина дерева\n",
    "\n",
    "Для того, чтобы выбрать подходящий набор параметров, можно использовать _Grid search_ или поиск по сетке. Этот метод используется для того, чтобы перебрать все возможные комбинации параметров и выбрать ту комбинацию, которая максимизирует выбранную нами метрику. Можно воспользоваться готовой реализацией из библиотеки `sklearn`."
   ]
  },
  {
   "cell_type": "code",
   "execution_count": null,
   "metadata": {
    "id": "oFPVv7FbOA4u"
   },
   "outputs": [],
   "source": [
    "from sklearn.model_selection import GridSearchCV"
   ]
  },
  {
   "cell_type": "markdown",
   "metadata": {
    "id": "1vFp5cc3OA4u"
   },
   "source": [
    "Зададим сетку параметров, по которой мы хотели бы провести поиск:"
   ]
  },
  {
   "cell_type": "code",
   "execution_count": null,
   "metadata": {
    "id": "ONcrKfikOA4u"
   },
   "outputs": [],
   "source": [
    "parameters = {\n",
    "    'n_estimators': [150, 200, 250],\n",
    "    'max_features': np.arange(5, 9),\n",
    "    'max_depth': np.arange(5, 10),\n",
    "}\n",
    "\n",
    "clf = GridSearchCV(\n",
    "    estimator=RandomForestClassifier(),\n",
    "    param_grid=parameters,\n",
    "    scoring='accuracy',\n",
    "    cv=5,\n",
    ")"
   ]
  },
  {
   "cell_type": "markdown",
   "metadata": {
    "id": "NxWBIX8KOA4u"
   },
   "source": [
    "`GridSearchCV` - это классификатор, который строится на основе модели `estimator`, пробегая все комбинации значений из `param_grid`. Для каждой комбинации параметров по кросс-валидации на указанном количестве _фолдов_ считается метрика, указанная в `scoring`. Наконец, выбирается та комбинация параметров, при которой выбранная метрика оказалась максимальной, и дальше для предсказания используется именно этот набор параметров.\n",
    "\n",
    "### Кросс-валидация\n",
    "\n",
    "При оценке каждой построенной в процессе модели используется _кросс-валидация_. Это метод, при котором вся обучающая выборка разбивается на заданное число _фолдов_ (частей), и по очереди каждый из этих фолдов выкидывается из тренировочной выборки и используется для валидации. Другими словами, если `cv=5`, то мы строим 5 моделей, для каждой из них выкидывая один из фолдов из обучающей выборки. Затем значения выбранной метрики усредняются на этих 5 моделях."
   ]
  },
  {
   "cell_type": "code",
   "execution_count": null,
   "metadata": {
    "id": "phaKpbGtOA4v",
    "outputId": "88984f29-1c11-4f70-efdc-9cf200fab94b"
   },
   "outputs": [
    {
     "data": {
      "text/plain": [
       "GridSearchCV(cv=5, error_score='raise-deprecating',\n",
       "       estimator=RandomForestClassifier(bootstrap=True, class_weight=None, criterion='gini',\n",
       "            max_depth=None, max_features='auto', max_leaf_nodes=None,\n",
       "            min_impurity_decrease=0.0, min_impurity_split=None,\n",
       "            min_samples_leaf=1, min_samples_split=2,\n",
       "            min_weight_fraction_leaf=0.0, n_estimators='warn', n_jobs=None,\n",
       "            oob_score=False, random_state=None, verbose=0,\n",
       "            warm_start=False),\n",
       "       fit_params=None, iid='warn', n_jobs=None,\n",
       "       param_grid={'n_estimators': [150, 200, 250], 'max_features': array([5, 6, 7, 8]), 'max_depth': array([5, 6, 7, 8, 9])},\n",
       "       pre_dispatch='2*n_jobs', refit=True, return_train_score='warn',\n",
       "       scoring='accuracy', verbose=0)"
      ]
     },
     "execution_count": 88,
     "metadata": {
      "tags": []
     },
     "output_type": "execute_result"
    }
   ],
   "source": [
    "clf.fit(X_train, y_train)"
   ]
  },
  {
   "cell_type": "markdown",
   "metadata": {
    "id": "EH7yIv93OA4w"
   },
   "source": [
    "Для ознакомления с результатами Grid search можно использовать атрибут `.cv_results_`. Удобнее всего визуализировать эти результаты в виде `DataFrame`:"
   ]
  },
  {
   "cell_type": "code",
   "execution_count": null,
   "metadata": {
    "id": "uPV9Ct7xOA4w",
    "outputId": "0628b695-7037-41c6-a4c1-52b462624e49"
   },
   "outputs": [
    {
     "data": {
      "text/plain": [
       "Index(['mean_fit_time', 'std_fit_time', 'mean_score_time', 'std_score_time',\n",
       "       'param_max_depth', 'param_max_features', 'param_n_estimators', 'params',\n",
       "       'split0_test_score', 'split1_test_score', 'split2_test_score',\n",
       "       'split3_test_score', 'split4_test_score', 'mean_test_score',\n",
       "       'std_test_score', 'rank_test_score', 'split0_train_score',\n",
       "       'split1_train_score', 'split2_train_score', 'split3_train_score',\n",
       "       'split4_train_score', 'mean_train_score', 'std_train_score'],\n",
       "      dtype='object')"
      ]
     },
     "execution_count": 89,
     "metadata": {
      "tags": []
     },
     "output_type": "execute_result"
    }
   ],
   "source": [
    "cv_results = pd.DataFrame(clf.cv_results_)\n",
    "\n",
    "cv_results.columns"
   ]
  },
  {
   "cell_type": "markdown",
   "metadata": {
    "id": "kFB2Dx_eOA4w"
   },
   "source": [
    "Посмотрим, как выбранные нами параметры влияют на точность модели:"
   ]
  },
  {
   "cell_type": "code",
   "execution_count": null,
   "metadata": {
    "id": "TKJFEbPmOA4w",
    "outputId": "05eb4369-0073-4ffc-fcb5-f6b57c2f2559"
   },
   "outputs": [
    {
     "data": {
      "text/html": [
       "<div>\n",
       "<style scoped>\n",
       "    .dataframe tbody tr th:only-of-type {\n",
       "        vertical-align: middle;\n",
       "    }\n",
       "\n",
       "    .dataframe tbody tr th {\n",
       "        vertical-align: top;\n",
       "    }\n",
       "\n",
       "    .dataframe thead th {\n",
       "        text-align: right;\n",
       "    }\n",
       "</style>\n",
       "<table border=\"1\" class=\"dataframe\">\n",
       "  <thead>\n",
       "    <tr style=\"text-align: right;\">\n",
       "      <th></th>\n",
       "      <th>param_max_depth</th>\n",
       "      <th>param_max_features</th>\n",
       "      <th>param_n_estimators</th>\n",
       "      <th>mean_test_score</th>\n",
       "      <th>mean_train_score</th>\n",
       "    </tr>\n",
       "  </thead>\n",
       "  <tbody>\n",
       "    <tr>\n",
       "      <th>15</th>\n",
       "      <td>6</td>\n",
       "      <td>6</td>\n",
       "      <td>150</td>\n",
       "      <td>0.826347</td>\n",
       "      <td>0.892967</td>\n",
       "    </tr>\n",
       "    <tr>\n",
       "      <th>21</th>\n",
       "      <td>6</td>\n",
       "      <td>8</td>\n",
       "      <td>150</td>\n",
       "      <td>0.824850</td>\n",
       "      <td>0.897831</td>\n",
       "    </tr>\n",
       "    <tr>\n",
       "      <th>17</th>\n",
       "      <td>6</td>\n",
       "      <td>6</td>\n",
       "      <td>250</td>\n",
       "      <td>0.824850</td>\n",
       "      <td>0.893716</td>\n",
       "    </tr>\n",
       "    <tr>\n",
       "      <th>12</th>\n",
       "      <td>6</td>\n",
       "      <td>5</td>\n",
       "      <td>150</td>\n",
       "      <td>0.824850</td>\n",
       "      <td>0.893714</td>\n",
       "    </tr>\n",
       "    <tr>\n",
       "      <th>14</th>\n",
       "      <td>6</td>\n",
       "      <td>5</td>\n",
       "      <td>250</td>\n",
       "      <td>0.823353</td>\n",
       "      <td>0.892593</td>\n",
       "    </tr>\n",
       "    <tr>\n",
       "      <th>11</th>\n",
       "      <td>5</td>\n",
       "      <td>8</td>\n",
       "      <td>250</td>\n",
       "      <td>0.823353</td>\n",
       "      <td>0.875382</td>\n",
       "    </tr>\n",
       "    <tr>\n",
       "      <th>55</th>\n",
       "      <td>9</td>\n",
       "      <td>7</td>\n",
       "      <td>200</td>\n",
       "      <td>0.821856</td>\n",
       "      <td>0.945737</td>\n",
       "    </tr>\n",
       "    <tr>\n",
       "      <th>54</th>\n",
       "      <td>9</td>\n",
       "      <td>7</td>\n",
       "      <td>150</td>\n",
       "      <td>0.821856</td>\n",
       "      <td>0.943868</td>\n",
       "    </tr>\n",
       "    <tr>\n",
       "      <th>35</th>\n",
       "      <td>7</td>\n",
       "      <td>8</td>\n",
       "      <td>250</td>\n",
       "      <td>0.821856</td>\n",
       "      <td>0.918791</td>\n",
       "    </tr>\n",
       "    <tr>\n",
       "      <th>24</th>\n",
       "      <td>7</td>\n",
       "      <td>5</td>\n",
       "      <td>150</td>\n",
       "      <td>0.821856</td>\n",
       "      <td>0.908310</td>\n",
       "    </tr>\n",
       "  </tbody>\n",
       "</table>\n",
       "</div>"
      ],
      "text/plain": [
       "   param_max_depth param_max_features param_n_estimators  mean_test_score  \\\n",
       "15               6                  6                150         0.826347   \n",
       "21               6                  8                150         0.824850   \n",
       "17               6                  6                250         0.824850   \n",
       "12               6                  5                150         0.824850   \n",
       "14               6                  5                250         0.823353   \n",
       "11               5                  8                250         0.823353   \n",
       "55               9                  7                200         0.821856   \n",
       "54               9                  7                150         0.821856   \n",
       "35               7                  8                250         0.821856   \n",
       "24               7                  5                150         0.821856   \n",
       "\n",
       "    mean_train_score  \n",
       "15          0.892967  \n",
       "21          0.897831  \n",
       "17          0.893716  \n",
       "12          0.893714  \n",
       "14          0.892593  \n",
       "11          0.875382  \n",
       "55          0.945737  \n",
       "54          0.943868  \n",
       "35          0.918791  \n",
       "24          0.908310  "
      ]
     },
     "execution_count": 91,
     "metadata": {
      "tags": []
     },
     "output_type": "execute_result"
    }
   ],
   "source": [
    "param_columns = [\n",
    "    column\n",
    "    for column in cv_results.columns\n",
    "    if column.startswith('param_')\n",
    "]\n",
    "\n",
    "score_columns = ['mean_test_score', 'mean_train_score']\n",
    "\n",
    "cv_results = (cv_results[param_columns + score_columns]\n",
    "              .sort_values(by=score_columns, ascending=False))\n",
    "\n",
    "cv_results.head(10)"
   ]
  },
  {
   "cell_type": "markdown",
   "metadata": {
    "id": "q1kNfMPCOA4x"
   },
   "source": [
    "Мы видим, что наилучшей точности модель достигает, если взять 150 деревьев глубины не более 6, и на каждом из них выбирать не более 6 признаков. При этом модель всё ещё даёт ощутимо более хороший результат на обучающей выборке, но уже не так сильно переобучается.\n",
    "\n",
    "Наилучшие параметры можно также посмотреть, используя атрибут `.best_params_`."
   ]
  },
  {
   "cell_type": "code",
   "execution_count": null,
   "metadata": {
    "id": "AYctq4ULOA4x",
    "outputId": "1a6493a8-ca28-4654-f3fb-ca7de496bda1"
   },
   "outputs": [
    {
     "data": {
      "text/plain": [
       "{'max_depth': 6, 'max_features': 6, 'n_estimators': 150}"
      ]
     },
     "execution_count": 92,
     "metadata": {
      "tags": []
     },
     "output_type": "execute_result"
    }
   ],
   "source": [
    "clf.best_params_"
   ]
  },
  {
   "cell_type": "markdown",
   "metadata": {
    "id": "OlfeYQJnOA4y"
   },
   "source": [
    "Полученная в результате модель аналогична такой модели:"
   ]
  },
  {
   "cell_type": "code",
   "execution_count": null,
   "metadata": {
    "id": "oKTff7jQOA4z",
    "outputId": "48393730-0a78-4285-e224-af1b32b36f79"
   },
   "outputs": [
    {
     "data": {
      "text/plain": [
       "0.8161434977578476"
      ]
     },
     "execution_count": 93,
     "metadata": {
      "tags": []
     },
     "output_type": "execute_result"
    }
   ],
   "source": [
    "clf = RandomForestClassifier(max_depth=6, max_features=6, n_estimators=150)\n",
    "\n",
    "clf.fit(X_train, y_train)\n",
    "\n",
    "y_pred = clf.predict(X_valid)\n",
    "\n",
    "accuracy_score(y_valid, y_pred)"
   ]
  }
 ],
 "metadata": {
  "colab": {
   "collapsed_sections": [
    "TVZzApDvOA3i",
    "jWvM8H16OA3k",
    "C1fJYf_8OA3q",
    "Ar0pbMPNOA3w",
    "QpPhhcRROA3z",
    "YsO9esuJOA36",
    "iUO420mHOA39",
    "Y5pOXYCIOA4J",
    "tOJoF25COA4N",
    "Si24pRe7OA4T",
    "2_BKWozoOA4V",
    "LHl4mfwUOA4X",
    "98nSHlCtOA4a",
    "S2NctbPLOA4d",
    "2P-cI3YkOA4f",
    "eh5Kdvz3OA4h",
    "V2YvZ8CjOA4q",
    "TQZHch1nOA4t",
    "NxWBIX8KOA4u"
   ],
   "name": "Обучение с учителем в Scikit-learn.ipynb",
   "provenance": []
  },
  "kernelspec": {
   "display_name": "Python 3 (ipykernel)",
   "language": "python",
   "name": "python3"
  },
  "language_info": {
   "codemirror_mode": {
    "name": "ipython",
    "version": 3
   },
   "file_extension": ".py",
   "mimetype": "text/x-python",
   "name": "python",
   "nbconvert_exporter": "python",
   "pygments_lexer": "ipython3",
   "version": "3.8.8"
  }
 },
 "nbformat": 4,
 "nbformat_minor": 1
}

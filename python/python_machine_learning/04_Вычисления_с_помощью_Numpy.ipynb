{
 "cells": [
  {
   "cell_type": "markdown",
   "metadata": {
    "id": "PzhYIrETNdZR"
   },
   "source": [
    "# Вычисления с помощью NumPy"
   ]
  },
  {
   "cell_type": "markdown",
   "metadata": {
    "id": "OBKfjECMNdZS"
   },
   "source": [
    "## Многомерные массивы в NumPy\n",
    "\n",
    "Библиотека `numpy` поддерживает работу с многомерными массивами, в том числе, с матрицами, и очень хороша для научных расчётов. Библиотека написана не только на `Python`, но и на языке `C`, который является более низкоуровневым и работает значительно быстрее, поэтому расчёты в `numpy` производятся во много раз быстрее, чем если бы мы использовали для этого стандартные структуры данных из `Python`.\n",
    "\n",
    "Установить библиотеку `numpy` можно следующим образом:\n",
    "\n",
    "* Если вы используете `Python` в составе дистрибутива `Anaconda`, то достаточно в командной строке ввести:   \n",
    "`conda install numpy`\n",
    "\n",
    "* Если вы используете `Python` отдельно, то же самое можно сделать с помощью пакетного менеджера `pip`:   \n",
    "`pip install numpy`"
   ]
  },
  {
   "cell_type": "code",
   "execution_count": null,
   "metadata": {
    "id": "OuuaXS_-GeuE"
   },
   "outputs": [],
   "source": [
    "import numpy as np"
   ]
  },
  {
   "cell_type": "markdown",
   "metadata": {
    "id": "L8CJ1FpmNdZU"
   },
   "source": [
    "Чтобы задать `numpy`-массив, достаточно задать обычный питоновский список `list`, а затем поместить его внутрь функции `np.array`:"
   ]
  },
  {
   "cell_type": "code",
   "execution_count": null,
   "metadata": {
    "id": "AmC-Go00NdZV",
    "outputId": "381688eb-3926-4ea4-f57d-7fa79e4c2e15"
   },
   "outputs": [
    {
     "name": "stdout",
     "output_type": "stream",
     "text": [
      "[1 2 3]\n"
     ]
    }
   ],
   "source": [
    "a = np.array([1, 2, 3])\n",
    "\n",
    "print(a)"
   ]
  },
  {
   "cell_type": "markdown",
   "metadata": {
    "id": "-6zvCYlQNdZV"
   },
   "source": [
    "Внутрь этой функции можно подавать также питоновский кортеж `tuple`.\n",
    "\n",
    "Проверим, к какому типу относится массив `a`:"
   ]
  },
  {
   "cell_type": "code",
   "execution_count": null,
   "metadata": {
    "id": "_czOAuDANdZW",
    "outputId": "283ee0ce-818d-4896-ce79-c68886e16595"
   },
   "outputs": [
    {
     "data": {
      "text/plain": [
       "numpy.ndarray"
      ]
     },
     "execution_count": 3,
     "metadata": {
      "tags": []
     },
     "output_type": "execute_result"
    }
   ],
   "source": [
    "type(a)"
   ]
  },
  {
   "cell_type": "markdown",
   "metadata": {
    "id": "j9CvPz_-NdZW"
   },
   "source": [
    "`ndarray` - сокращение от $n$-dimensional array ($n$-мерный массив).\n",
    "\n",
    "В отличие от стандартных питоновских структур данных, в `numpy` массивы предпочитают данные одного типа. Например, если функция `np.array` вызывается от списка, содержащего как целые (`int`), так и дробные (`float`) значения, то в результирующем массиве все значения будут приведены к типу `float`. Аналогично, если в подаваемом списке есть хотя бы одна строка `str`, то в соответствующем массиве все значения будут приведены к типу `str`. Если мы хотим задать свой тип, к которому нужно привести данные, это можно сделать с помощью аргумента `dtype`:"
   ]
  },
  {
   "cell_type": "code",
   "execution_count": null,
   "metadata": {
    "id": "88TFBTAuNdZY",
    "outputId": "91181b1c-4989-4fea-a5a7-4a6406ce38ba"
   },
   "outputs": [
    {
     "name": "stdout",
     "output_type": "stream",
     "text": [
      "['1' '2' '3.6']\n"
     ]
    }
   ],
   "source": [
    "a = np.array([1, 2, 3.6], dtype=str)\n",
    "\n",
    "print(a)"
   ]
  },
  {
   "cell_type": "markdown",
   "metadata": {
    "id": "c4ZY7r86NdZY"
   },
   "source": [
    "Получить конкретный элемент массива можно теми же способами, что и в стандартных питоновских структурах данных - с помощью квадратных скобок. В `numpy`, как и во всём питоне, индексация начинается с нуля. Например, получить второй элемент из массива `a` (т.е. элемент с индексом $1$) можно так:"
   ]
  },
  {
   "cell_type": "code",
   "execution_count": null,
   "metadata": {
    "id": "avBHmsqPNdZZ",
    "outputId": "69d24c5c-b202-4ce0-e3aa-28e798cd36d5"
   },
   "outputs": [
    {
     "data": {
      "text/plain": [
       "'2'"
      ]
     },
     "execution_count": 5,
     "metadata": {
      "tags": []
     },
     "output_type": "execute_result"
    }
   ],
   "source": [
    "a[1]"
   ]
  },
  {
   "cell_type": "markdown",
   "metadata": {
    "id": "EzpcC_9jNdZZ"
   },
   "source": [
    "Также в `numpy` массивах можно использовать отрицательную индексацию и делать срезы, как и в стандартных списках из питона:"
   ]
  },
  {
   "cell_type": "code",
   "execution_count": null,
   "metadata": {
    "id": "sZM0Ss8ZNdZZ",
    "outputId": "7a6d63ff-6733-465f-e653-a175a813b2a1"
   },
   "outputs": [
    {
     "data": {
      "text/plain": [
       "'3.6'"
      ]
     },
     "execution_count": 6,
     "metadata": {
      "tags": []
     },
     "output_type": "execute_result"
    }
   ],
   "source": [
    "a[-1]"
   ]
  },
  {
   "cell_type": "code",
   "execution_count": null,
   "metadata": {
    "id": "-OJJ4m1XNdZa",
    "outputId": "91fa470b-4091-420d-b5e9-d44f50dea592"
   },
   "outputs": [
    {
     "data": {
      "text/plain": [
       "array(['2', '3.6'], dtype='<U3')"
      ]
     },
     "execution_count": 7,
     "metadata": {
      "tags": []
     },
     "output_type": "execute_result"
    }
   ],
   "source": [
    "a[1:3]"
   ]
  },
  {
   "cell_type": "markdown",
   "metadata": {
    "id": "EG7mFzihNdZc"
   },
   "source": [
    "### Двумерные массивы\n",
    "\n",
    "Пока что мы работали лишь с одномерными массивами. Также в `numpy` можно задать и многомерные массивы. Например, двумерный массив - это массив, каждый элемент из которого - это снова массив.\n",
    "\n",
    "Для `numpy`-массива `a` можно проверить его размерность с помощью атрибута `ndim` и форму с помощью атрибута `shape`:"
   ]
  },
  {
   "cell_type": "code",
   "execution_count": null,
   "metadata": {
    "id": "PmfYdwbjNdZc",
    "outputId": "fec06085-d40b-4115-f3d8-3837289811e0"
   },
   "outputs": [
    {
     "name": "stdout",
     "output_type": "stream",
     "text": [
      "Размерность a: 1\n",
      "Форма a: (3,)\n"
     ]
    }
   ],
   "source": [
    "print(\"Размерность a: {}\".format(a.ndim))\n",
    "\n",
    "print(\"Форма a: {}\".format(a.shape))"
   ]
  },
  {
   "cell_type": "markdown",
   "metadata": {
    "id": "fDILbrkeNdZc"
   },
   "source": [
    "В этом случае размерность равна $1$, а `shape` возвращает кортеж из одного элемента. Зададим теперь двумерный массив:"
   ]
  },
  {
   "cell_type": "code",
   "execution_count": null,
   "metadata": {
    "id": "IszOgqFRGexN",
    "outputId": "40cfbfd0-0955-464a-8484-d4d66695626d"
   },
   "outputs": [
    {
     "name": "stdout",
     "output_type": "stream",
     "text": [
      "[[1 2 3 1]\n",
      " [4 5 6 4]\n",
      " [7 8 9 7]]\n",
      "Размерность A: 2\n",
      "Форма A: (3, 4)\n"
     ]
    }
   ],
   "source": [
    "A = np.array([[1, 2, 3, 1], \n",
    "              [4, 5, 6, 4], \n",
    "              [7, 8, 9, 7]])\n",
    "\n",
    "print(A)\n",
    "\n",
    "print(\"Размерность A: {}\".format(A.ndim))\n",
    "\n",
    "print(\"Форма A: {}\".format(A.shape))"
   ]
  },
  {
   "cell_type": "markdown",
   "metadata": {
    "id": "E0PADTo7NdZd"
   },
   "source": [
    "Атрибут `shape` - это всегда кортеж, размер которого равен размерности массива. Каждый элемент этого кортежа - это размер в каждом измерении. Например, у нашей матрицы $A$, судя по этому атрибуту, $3$ строки и $4$ столбца.\n",
    "\n",
    "С помощью атрибута `size` можно увидеть общее количество элементов массива:"
   ]
  },
  {
   "cell_type": "code",
   "execution_count": null,
   "metadata": {
    "id": "32S6o0NxNdZd",
    "outputId": "2a92d46b-bbf3-4092-a4aa-0301327b4660"
   },
   "outputs": [
    {
     "data": {
      "text/plain": [
       "12"
      ]
     },
     "execution_count": 10,
     "metadata": {
      "tags": []
     },
     "output_type": "execute_result"
    }
   ],
   "source": [
    "A.size"
   ]
  },
  {
   "cell_type": "markdown",
   "metadata": {
    "id": "2USRVOdkNdZf"
   },
   "source": [
    "В случае вложенных друг в друга стандартных питоновских списков `list`, чтобы получить конкретный элемент массива, нужно использовать несколько пар квадратных скобок: `A[0][0]`. В `numpy` массивы также поддерживают такую запись, однако, здесь есть и более удобный вариант - просто писать индексы через запятую:"
   ]
  },
  {
   "cell_type": "code",
   "execution_count": null,
   "metadata": {
    "id": "2_qgco-RNdZf",
    "outputId": "716f6bf3-a3dd-4b4c-8539-2d237832e9bf"
   },
   "outputs": [
    {
     "data": {
      "text/plain": [
       "1"
      ]
     },
     "execution_count": 11,
     "metadata": {
      "tags": []
     },
     "output_type": "execute_result"
    }
   ],
   "source": [
    "A[0, 0]"
   ]
  },
  {
   "cell_type": "markdown",
   "metadata": {
    "id": "7zBECrRJNdZf"
   },
   "source": [
    "Это же работает и в случае отрицательной индексации и в случае срезов:"
   ]
  },
  {
   "cell_type": "code",
   "execution_count": null,
   "metadata": {
    "id": "OMvNj54JNdZf",
    "outputId": "6b3051ef-d05e-4ddf-9b79-33f3dea3fa8e"
   },
   "outputs": [
    {
     "data": {
      "text/plain": [
       "9"
      ]
     },
     "execution_count": 12,
     "metadata": {
      "tags": []
     },
     "output_type": "execute_result"
    }
   ],
   "source": [
    "A[-1, -2]"
   ]
  },
  {
   "cell_type": "code",
   "execution_count": null,
   "metadata": {
    "id": "SqzJnLyXNdZg",
    "outputId": "4d6b467e-433b-4f4b-bd03-94884090e6c6"
   },
   "outputs": [
    {
     "data": {
      "text/plain": [
       "array([[4, 5, 6],\n",
       "       [7, 8, 9]])"
      ]
     },
     "execution_count": 13,
     "metadata": {
      "tags": []
     },
     "output_type": "execute_result"
    }
   ],
   "source": [
    "A[1:, :3]"
   ]
  },
  {
   "cell_type": "markdown",
   "metadata": {
    "id": "SushU2DbNdZh"
   },
   "source": [
    "В случае срезов для `numpy`-массивов важно отметить, что, записывая срез `numpy`-массива, мы ничего нового не создаём, мы лишь получаем _представление_ (_view_) - ссылку на какие-то отдельные элементы оригинального массива. Это означает, что если мы \"создали\" срез из `numpy`-массива, а затем поменяли в нём что-то - эти изменения коснутся и оригинального массива:"
   ]
  },
  {
   "cell_type": "code",
   "execution_count": null,
   "metadata": {
    "id": "YFtWF5AnNdZh",
    "outputId": "779e78fa-3f81-477e-ffa8-28cdd6a88d52"
   },
   "outputs": [
    {
     "name": "stdout",
     "output_type": "stream",
     "text": [
      "[[1 2 3 1]\n",
      " [4 5 6 4]\n",
      " [7 8 9 7]]\n"
     ]
    }
   ],
   "source": [
    "print(A)"
   ]
  },
  {
   "cell_type": "code",
   "execution_count": null,
   "metadata": {
    "id": "Q_NfDPPcNdZi",
    "outputId": "c73f07f8-176d-4a25-a411-06ba413491d3"
   },
   "outputs": [
    {
     "name": "stdout",
     "output_type": "stream",
     "text": [
      "[[4 5 6]\n",
      " [7 8 9]]\n"
     ]
    }
   ],
   "source": [
    "B = A[1:, :3]\n",
    "\n",
    "print(B)"
   ]
  },
  {
   "cell_type": "code",
   "execution_count": null,
   "metadata": {
    "id": "LNWALFmqNdZi",
    "outputId": "1be7ccf2-5675-4e03-ca9f-8eb01612c8db"
   },
   "outputs": [
    {
     "name": "stdout",
     "output_type": "stream",
     "text": [
      "[[ 1  2  3  1]\n",
      " [-4  5  6  4]\n",
      " [ 7  8  9  7]]\n"
     ]
    }
   ],
   "source": [
    "B[0, 0] = -4\n",
    "\n",
    "print(A)"
   ]
  },
  {
   "cell_type": "markdown",
   "metadata": {
    "id": "_Q14Djw7NdZi"
   },
   "source": [
    "Наоборот, если мы меняем значения в оригинальном массиве, они коснутся и всех его представлений, в которых используются эти значения:"
   ]
  },
  {
   "cell_type": "code",
   "execution_count": null,
   "metadata": {
    "id": "JTu20srANdZi",
    "outputId": "7f407606-025f-4a3b-f274-953397f2b648"
   },
   "outputs": [
    {
     "name": "stdout",
     "output_type": "stream",
     "text": [
      "[[-4  5  6]\n",
      " [-7  8  9]]\n"
     ]
    }
   ],
   "source": [
    "A[2, 0] = -7\n",
    "\n",
    "print(B)"
   ]
  },
  {
   "cell_type": "code",
   "execution_count": null,
   "metadata": {
    "id": "zkn41Q-uGexs"
   },
   "outputs": [],
   "source": [
    "b = np.array([[3], \n",
    "     [1], \n",
    "     [2]])"
   ]
  },
  {
   "cell_type": "markdown",
   "metadata": {
    "id": "00kZPbEVNdZk"
   },
   "source": [
    "Если мы хотим всего этого избежать и создать действительно новый массив, нужно использовать метод `copy`:"
   ]
  },
  {
   "cell_type": "code",
   "execution_count": null,
   "metadata": {
    "id": "PPwW3xPwNdZl",
    "outputId": "c0638505-a9aa-40f9-8157-7cd771bc51c6"
   },
   "outputs": [
    {
     "name": "stdout",
     "output_type": "stream",
     "text": [
      "[[6 4]\n",
      " [9 7]]\n"
     ]
    }
   ],
   "source": [
    "C = A[1:3, 2:4].copy()\n",
    "\n",
    "print(C)"
   ]
  },
  {
   "cell_type": "code",
   "execution_count": null,
   "metadata": {
    "id": "x1QbJQa2NdZl",
    "outputId": "0706e45a-1093-46f8-c464-29db50d54e2d"
   },
   "outputs": [
    {
     "name": "stdout",
     "output_type": "stream",
     "text": [
      "[[ 1  2  3  1]\n",
      " [-4  5  6  4]\n",
      " [-7  8  9  7]]\n"
     ]
    }
   ],
   "source": [
    "C[0, 0] = -6\n",
    "\n",
    "print(A)"
   ]
  },
  {
   "cell_type": "markdown",
   "metadata": {
    "id": "gwxv0LrNNdZm"
   },
   "source": [
    "### Типы данных в NumPy\n",
    "\n",
    "Самыми распространёнными типами в `numpy` являются два целочисленных типа: `np.int32` и `np.int64` и два дробных типа: `np.float32` и `np.float64`. Они применяются для, соответственно, $32$-битных и $64$-битных чисел. Последние требуют вдвое больше памяти, чем первые, однако, если вы знаете, что в вашем массиве, например, используются целые числа, которые по модулю больше, чем $2 \\cdot 10^9$, то стоит использовать `np.int64`."
   ]
  },
  {
   "cell_type": "markdown",
   "metadata": {
    "id": "dHiuuCHqNdZm"
   },
   "source": [
    "## Применение NumPy в линейной алгебре\n",
    "\n",
    "### Векторы\n",
    "\n",
    "Для начала разберёмся с тем, как с помощью `numpy` работать с векторами. Зададим несколько векторов:"
   ]
  },
  {
   "cell_type": "code",
   "execution_count": null,
   "metadata": {
    "id": "x1IHQK6cNdZm"
   },
   "outputs": [],
   "source": [
    "a = np.array([0, 1, 2, 3, 4])\n",
    "b = np.array([5, 6, 7, 8, 9])"
   ]
  },
  {
   "cell_type": "markdown",
   "metadata": {
    "id": "ooUW3OZtNdZm"
   },
   "source": [
    "Сейчас мы ограничимся случаем, когда все векторы имеют одинаковый размер.\n",
    "\n",
    "Сложение векторов можно выполнять, просто складывая массивы. Отметим, что это поведение отличается от сложения обычных питоновских списков `list`: списки в таком случае просто склеиваются в один."
   ]
  },
  {
   "cell_type": "code",
   "execution_count": null,
   "metadata": {
    "id": "y-VJ9AnbNdZn",
    "outputId": "1678fdcc-bc84-43de-c358-e4bcf913eecc"
   },
   "outputs": [
    {
     "name": "stdout",
     "output_type": "stream",
     "text": [
      "[0, 1, 2, 3, 4, 5, 6, 7, 8, 9]\n"
     ]
    }
   ],
   "source": [
    "a_ = [0, 1, 2, 3, 4]\n",
    "b_ = [5, 6, 7, 8, 9]\n",
    "\n",
    "c_ = a_ + b_\n",
    "\n",
    "print(c_)"
   ]
  },
  {
   "cell_type": "markdown",
   "metadata": {
    "id": "1otNkEIDNdZo"
   },
   "source": [
    "В `numpy` же массивы в результате такой операции складываются поэлементно:"
   ]
  },
  {
   "cell_type": "code",
   "execution_count": null,
   "metadata": {
    "id": "lMPy4XapNdZo",
    "outputId": "84de0ae9-7e5e-4d24-c777-0d7556044287"
   },
   "outputs": [
    {
     "name": "stdout",
     "output_type": "stream",
     "text": [
      "[ 5  7  9 11 13]\n"
     ]
    }
   ],
   "source": [
    "c = a + b\n",
    "\n",
    "print(c)"
   ]
  },
  {
   "cell_type": "markdown",
   "metadata": {
    "id": "AYDjl1VTNdZo"
   },
   "source": [
    "Также массивы `numpy` можно складывать с помощью функции `np.add`:"
   ]
  },
  {
   "cell_type": "code",
   "execution_count": null,
   "metadata": {
    "id": "Z9fks6k-NdZo",
    "outputId": "8493a767-3d19-4eaf-e1ba-e0f071038d0b"
   },
   "outputs": [
    {
     "name": "stdout",
     "output_type": "stream",
     "text": [
      "[ 5  7  9 11 13]\n"
     ]
    }
   ],
   "source": [
    "c = np.add(a, b)\n",
    "\n",
    "print(c)"
   ]
  },
  {
   "cell_type": "markdown",
   "metadata": {
    "id": "1EmINoMkNdZo"
   },
   "source": [
    "Аналогично, есть два способа вычитать векторы друг из друга:\n",
    "\n",
    "* `d = a - b`\n",
    "* `d = np.subtract(a, b)`"
   ]
  },
  {
   "cell_type": "markdown",
   "metadata": {
    "id": "mX53GeWXNdZp"
   },
   "source": [
    "Для умножения вектора на скаляр также можно пользоваться достаточно естественной записью:"
   ]
  },
  {
   "cell_type": "code",
   "execution_count": null,
   "metadata": {
    "id": "JZ6C-_fTNdZq",
    "outputId": "478c9dbd-4fb3-4914-cbb5-0b645c2b8e37"
   },
   "outputs": [
    {
     "name": "stdout",
     "output_type": "stream",
     "text": [
      "[ 0  3  6  9 12]\n"
     ]
    }
   ],
   "source": [
    "e = a * 3\n",
    "\n",
    "print(e)"
   ]
  },
  {
   "cell_type": "markdown",
   "metadata": {
    "id": "iqV-bhslNdZq"
   },
   "source": [
    "При этом скаляр может быть каким угодно. При умножении на скаляр, каждая координата вектора умножается на этот скаляр.\n",
    "\n",
    "Это поведение тоже отличается от поведения питоновских списков `list` при умножении на число. Последние при этом дублируются заданное количество раз. Скаляр здесь, кроме того, может быть только положительным целым."
   ]
  },
  {
   "cell_type": "code",
   "execution_count": null,
   "metadata": {
    "id": "Uz2FGkGyNdZr",
    "outputId": "e1012a4f-75d3-474b-8483-ed2194c524d1"
   },
   "outputs": [
    {
     "data": {
      "text/plain": [
       "[1, 2, 3, 1, 2, 3, 1, 2, 3]"
      ]
     },
     "execution_count": 26,
     "metadata": {
      "tags": []
     },
     "output_type": "execute_result"
    }
   ],
   "source": [
    "[1, 2, 3] * 3"
   ]
  },
  {
   "cell_type": "markdown",
   "metadata": {
    "id": "tMA0eqpINdZs"
   },
   "source": [
    "Вот ещё несколько способов умножить вектор на скаляр в `numpy`:\n",
    "\n",
    "* с помощью функции `np.multiply`: `e = np.multiply(a, 3)`\n",
    "* с помощью функции `np.dot`: `e = np.dot(a, 3)`\n",
    "* с помощью метода `a.dot`, который есть у любого `numpy`-массива: `e = a.dot(3)`"
   ]
  },
  {
   "cell_type": "markdown",
   "metadata": {
    "id": "33g8x_RYNdZt"
   },
   "source": [
    "Функция `np.dot` (так же, как и метод `a.dot`), кроме того, может вычислять скалярное произведение векторов, а также произведение матриц (об этом чуть позже). \n",
    "\n",
    "Посчитаем скалярное произведение векторов `a` и `b`. Напомним, что чтобы вычислить скалярное произведение двух векторов, нужно попарно перемножить их координаты (первую с первой, вторую со второй и т.д.), а затем сложить результаты."
   ]
  },
  {
   "cell_type": "code",
   "execution_count": null,
   "metadata": {
    "id": "2nWbBkXYNdZt",
    "outputId": "007a56e6-7643-4b93-b095-124f732d5470"
   },
   "outputs": [
    {
     "name": "stdout",
     "output_type": "stream",
     "text": [
      "80\n"
     ]
    }
   ],
   "source": [
    "sp = a.dot(b)\n",
    "\n",
    "print(sp)"
   ]
  },
  {
   "cell_type": "markdown",
   "metadata": {
    "id": "D7oD6b0LNdZu"
   },
   "source": [
    "Также скалярное произведение векторов можно вычислять с помощью оператора `@`:"
   ]
  },
  {
   "cell_type": "code",
   "execution_count": null,
   "metadata": {
    "id": "H22hWqMnNdZu",
    "outputId": "60de4513-9e87-406d-9711-5bcfd4272528"
   },
   "outputs": [
    {
     "name": "stdout",
     "output_type": "stream",
     "text": [
      "80\n"
     ]
    }
   ],
   "source": [
    "sp = a @ b\n",
    "\n",
    "print(sp)"
   ]
  },
  {
   "cell_type": "markdown",
   "metadata": {
    "id": "Oist8E2-NdZv"
   },
   "source": [
    "### Матрицы\n",
    "\n",
    "Разберёмся теперь, как в `numpy` работать с матрицами. Зададим пару матриц:"
   ]
  },
  {
   "cell_type": "code",
   "execution_count": null,
   "metadata": {
    "id": "4A0ddrGINdZv"
   },
   "outputs": [],
   "source": [
    "A = np.array([[0, 1],\n",
    "              [2, 3],\n",
    "              [4, 5]])\n",
    "\n",
    "B = np.array([[6, 7],\n",
    "              [8, 9],\n",
    "              [10, 11]])"
   ]
  },
  {
   "cell_type": "markdown",
   "metadata": {
    "id": "pLUYDkzCNdZv"
   },
   "source": [
    "Матрицы одинакового размера можно складывать и вычитать. Как и с векторами, это можно делать с помощью операторов `+` и `-`, а также с помощью функций `np.add` и `np.subtract`."
   ]
  },
  {
   "cell_type": "code",
   "execution_count": null,
   "metadata": {
    "id": "73pgVlb1NdZw",
    "outputId": "4def89a1-dde2-4c67-b040-5645fd978b06"
   },
   "outputs": [
    {
     "name": "stdout",
     "output_type": "stream",
     "text": [
      "[[ 6  8]\n",
      " [10 12]\n",
      " [14 16]]\n"
     ]
    }
   ],
   "source": [
    "C = A + B\n",
    "\n",
    "print(C)"
   ]
  },
  {
   "cell_type": "code",
   "execution_count": null,
   "metadata": {
    "id": "M8V3esKcNdZw",
    "outputId": "cd3a4739-f21e-410e-e460-f277318db0b6"
   },
   "outputs": [
    {
     "name": "stdout",
     "output_type": "stream",
     "text": [
      "[[-6 -6]\n",
      " [-6 -6]\n",
      " [-6 -6]]\n"
     ]
    }
   ],
   "source": [
    "D = A - B\n",
    "\n",
    "print(D)"
   ]
  },
  {
   "cell_type": "markdown",
   "metadata": {
    "id": "QhsdJVo3NdZx"
   },
   "source": [
    "Матрицу любого размера можно умножать на скаляр. Делается это так же, как и в случае векторов:"
   ]
  },
  {
   "cell_type": "code",
   "execution_count": null,
   "metadata": {
    "id": "33Hu9-slNdZx",
    "outputId": "aab86c9a-0a84-4950-af1e-35d71fb8c9bd"
   },
   "outputs": [
    {
     "name": "stdout",
     "output_type": "stream",
     "text": [
      "[[ 0  3]\n",
      " [ 6  9]\n",
      " [12 15]]\n"
     ]
    }
   ],
   "source": [
    "E = A * 3\n",
    "\n",
    "print(E)"
   ]
  },
  {
   "cell_type": "markdown",
   "metadata": {
    "id": "kMDvt2YvNdZy"
   },
   "source": [
    "### Умножение матриц\n",
    "\n",
    "Матрицы $A$ и $B$ можно умножить друг на друга, если _число столбцов_ первой матрицы равняется _числу строк_ второй матрицы. То есть если $A$ - матрица размера $n \\times k$, то матрица $B$ должна иметь размер $k \\times m$ для некоторого $m$.\n",
    "\n",
    "В таком случае результатом умножения будет матрица $C$ размера $n \\times m$ (т.е. у неё будет строк как у первой матрицы, а столбцов - как у второй).\n",
    "\n",
    "Рассмотрим простейший случай: умножение строки (матрицы размера $1 \\times k$) на столбец (матрицу размера $k \\times 1$). Как мы уже выяснили, в результате получится матрица размера $1 \\times 1$, т.е. число. Что это за число?\n",
    "\n",
    "Чтобы посчитать это число, нужно элементы из строки и столбца попарно перемножить (первый с первым, второй со вторым и т.д.), а затем сложить результаты. Это очень похоже на скалярное произведение векторов.\n",
    "\n",
    "Например, \n",
    "\n",
    "$$\n",
    "\\left(\n",
    "\\begin{matrix}\n",
    "    1 & 2 & 3\n",
    "\\end{matrix}\n",
    "\\right)\n",
    "\\cdot\n",
    "\\left(\n",
    "\\begin{matrix}\n",
    "    1 \\\\\n",
    "    0 \\\\\n",
    "    -1\n",
    "\\end{matrix}\n",
    "\\right)\n",
    "= 1 \\cdot 1 + 2 \\cdot 0 + 3 \\cdot (-1)\n",
    "= -2.\n",
    "$$\n",
    "\n",
    "Вернёмся к общему случаю - умножению матрицы размера $n \\times k$ на матрицу размера $k \\times m$. Мы уже поняли, что это будет матрица размера $n \\times m$. Как \"заполнить\" эту матрицу?\n",
    "\n",
    "Чтобы получить число, стоящее в этой матрице на позиции $(i, j)$, нужно умножить $i$-ю строку первой матрицы на $j$-й столбец второй матрицы (так, как мы это делали выше).\n",
    "\n",
    "Например,\n",
    "\n",
    "$$\n",
    "\\left(\n",
    "\\begin{matrix}\n",
    "    1 & 0 & -1 \\\\\n",
    "    3 & 5 & -4 \n",
    "\\end{matrix}\n",
    "\\right)\n",
    "\\cdot\n",
    "\\left(\n",
    "\\begin{matrix}\n",
    "    1 & 2 & 3 \\\\\n",
    "    4 & 5 & 6 \\\\\n",
    "    7 & 8 & 9\n",
    "\\end{matrix}\n",
    "\\right)\n",
    "=\n",
    "\\left(\n",
    "\\begin{matrix}\n",
    "    1 \\cdot 1 + 0 \\cdot 4 + (-1) \\cdot 7 & 1 \\cdot 2 + 0 \\cdot 5 + (-1) \\cdot 8 & 1 \\cdot 3 + 0 \\cdot 6 + (-1) \\cdot 9 \\\\\n",
    "    3 \\cdot 1 + 5 \\cdot 4 + (-4) \\cdot 7 & 3 \\cdot 2 + 5 \\cdot 5 + (-4) \\cdot 8 & 3 \\cdot 3 + 5 \\cdot 6 + (-4) \\cdot 9\n",
    "\\end{matrix}\n",
    "\\right)\n",
    "=\n",
    "$$\n",
    "\n",
    "$$\n",
    "=\n",
    "\\left(\n",
    "\\begin{matrix}\n",
    "    -6 & -6 & -6 \\\\\n",
    "    -5 & -1 & 3\n",
    "\\end{matrix}\n",
    "\\right).\n",
    "$$"
   ]
  },
  {
   "cell_type": "markdown",
   "metadata": {
    "id": "1lKUeaUcNdZy"
   },
   "source": [
    "Чтобы выполнять умножение матриц в библиотеке `numpy`, будем пользоваться уже знакомой функцией `np.dot`, либо методом `A.dot`:"
   ]
  },
  {
   "cell_type": "code",
   "execution_count": null,
   "metadata": {
    "id": "Opld8PftNdZz",
    "outputId": "bd1031ce-f1ba-4c89-b535-6d66a4c9f453"
   },
   "outputs": [
    {
     "name": "stdout",
     "output_type": "stream",
     "text": [
      "[[-6 -6 -6]\n",
      " [-5 -1  3]]\n"
     ]
    }
   ],
   "source": [
    "A = np.array([[1, 0, -1],\n",
    "              [3, 5, -4]])\n",
    "\n",
    "B = np.array([[1, 2, 3],\n",
    "              [4, 5, 6],\n",
    "              [7, 8, 9]])\n",
    "\n",
    "C = A.dot(B)\n",
    "\n",
    "print(C)"
   ]
  },
  {
   "cell_type": "markdown",
   "metadata": {
    "id": "IprsS3ArNdZz"
   },
   "source": [
    "Если перемножаемые матрицы являются квадратными, то результат их умножения будет снова квадратной матрицей, причём, того же размера. Это означает, что квадратную матрицу можно возводить в степень. В `numpy` это можно делать с помощью функции `matrix_power` из модуля `numpy.linalg`:"
   ]
  },
  {
   "cell_type": "code",
   "execution_count": null,
   "metadata": {
    "id": "WZ6oPCngNdZz",
    "outputId": "ea096526-7dc6-4ad1-a9a4-eea5df91cd7e"
   },
   "outputs": [
    {
     "name": "stdout",
     "output_type": "stream",
     "text": [
      "[[ 468  576  684]\n",
      " [1062 1305 1548]\n",
      " [1656 2034 2412]]\n"
     ]
    }
   ],
   "source": [
    "D = np.linalg.matrix_power(B, 3)\n",
    "\n",
    "print(D)"
   ]
  },
  {
   "cell_type": "markdown",
   "metadata": {
    "id": "JMQuNJtNNdZ1"
   },
   "source": [
    "### Единичная и транспонированная матрица\n",
    "\n",
    "_Единичной матрицей_ называется квадратная матрица, у которого на главной диагонали стоят $1$, а в остальных местах - $0$. (Под _главной диагональю_ мы понимаем диагональ матрицы, которая начинается в левом верхнем углу и заканчивается в правом нижнем.) Единичную матрицу можно задать с помощью функции `np.eye`:"
   ]
  },
  {
   "cell_type": "code",
   "execution_count": null,
   "metadata": {
    "id": "H8adiy8SNdZ1",
    "outputId": "fde30902-ea70-4628-f6b0-8c4937ad0e63"
   },
   "outputs": [
    {
     "name": "stdout",
     "output_type": "stream",
     "text": [
      "[[1. 0. 0.]\n",
      " [0. 1. 0.]\n",
      " [0. 0. 1.]]\n"
     ]
    }
   ],
   "source": [
    "I = np.eye(3)\n",
    "\n",
    "print(I)"
   ]
  },
  {
   "cell_type": "markdown",
   "metadata": {
    "id": "kchJVzSQNdZ1"
   },
   "source": [
    "При умножении любой матрицы на единичную матрицу подходящего размера, результатом будет та же самая матрица:"
   ]
  },
  {
   "cell_type": "code",
   "execution_count": null,
   "metadata": {
    "id": "Re2XQfeWNdZ2",
    "outputId": "e03fec9a-e580-4f76-e3ef-1b3d928212df"
   },
   "outputs": [
    {
     "name": "stdout",
     "output_type": "stream",
     "text": [
      "[[ 1  0 -1]\n",
      " [ 3  5 -4]]\n"
     ]
    }
   ],
   "source": [
    "print(A)"
   ]
  },
  {
   "cell_type": "code",
   "execution_count": null,
   "metadata": {
    "id": "9SXTV4MYNdZ3",
    "outputId": "8b803db4-1aa9-4ec6-f3d1-82c5f73456ab"
   },
   "outputs": [
    {
     "name": "stdout",
     "output_type": "stream",
     "text": [
      "[[ 1.  0. -1.]\n",
      " [ 3.  5. -4.]]\n"
     ]
    }
   ],
   "source": [
    "E = A.dot(I)\n",
    "\n",
    "print(E)"
   ]
  },
  {
   "cell_type": "markdown",
   "metadata": {
    "id": "yJsUDkMrNdZ3"
   },
   "source": [
    "Пусть дана матрица $A$. _Транспонированной матрицей_ называется матрица $A^\\top$, полученная \"отражением\" матрицы $A$ относительно её главной диагонали. Другими словами, столбцы матрицы $A$ становятся строками матрицы $A^\\top$, а строки матрицы $A$ - столбцами матрицы $A^\\top$.\n",
    "\n",
    "Вот несколько способов посчитать транспонированную матрицу в `numpy`:\n",
    "\n",
    "* с помощью функции `np.transpose`: `A_t = np.transpose(A)`\n",
    "* с помощью метода `A.transpose`: `A_t = A.transpose()`\n",
    "* с помощью атрибута `A.T`: `A_t = A.T`"
   ]
  },
  {
   "cell_type": "code",
   "execution_count": null,
   "metadata": {
    "id": "8os4lFE0NdZ3",
    "outputId": "c23d4a9d-659c-4f64-b462-cd798fd9e6e6"
   },
   "outputs": [
    {
     "name": "stdout",
     "output_type": "stream",
     "text": [
      "[[ 1  3]\n",
      " [ 0  5]\n",
      " [-1 -4]]\n"
     ]
    }
   ],
   "source": [
    "A_t = A.T\n",
    "\n",
    "print(A_t)"
   ]
  },
  {
   "cell_type": "markdown",
   "metadata": {
    "id": "GhozMn0YNdZ4"
   },
   "source": [
    "### Определитель и ранг матрицы\n",
    "\n",
    "Если матрица квадратная, то мы можем посчитать её _определитель_. Определитель матрицы - это число, которое в каком-то смысле \"определяет\" её свойства. Например, обратную матрицу можно посчитать только для матрицы, определитель которой не равен $0$ (по аналогии с тем, что делить можно только на числа, не равные $0$).\n",
    "\n",
    "Посчитать определитель можно с помощью функции `det` из модуля `numpy.linalg`:"
   ]
  },
  {
   "cell_type": "code",
   "execution_count": null,
   "metadata": {
    "id": "pjX2ahXdNdZ4",
    "outputId": "903c76a5-f5f7-4756-9c9c-47aadb680bbf"
   },
   "outputs": [
    {
     "name": "stdout",
     "output_type": "stream",
     "text": [
      "0.0\n"
     ]
    }
   ],
   "source": [
    "d = np.linalg.det(B)\n",
    "\n",
    "print(d)"
   ]
  },
  {
   "cell_type": "markdown",
   "metadata": {
    "id": "OOpytuc2NdZ6"
   },
   "source": [
    "Также с помощью функции `matrix_rank` из модуля `numpy.linalg` можно посчитать _ранг_ матрицы. Ранг матрицы - это число линейно независимых строк данной матрицы."
   ]
  },
  {
   "cell_type": "code",
   "execution_count": null,
   "metadata": {
    "id": "51TTqj66NdZ6",
    "outputId": "a87fd5a0-9178-4b82-959d-adc0ca828f66"
   },
   "outputs": [
    {
     "name": "stdout",
     "output_type": "stream",
     "text": [
      "2\n"
     ]
    }
   ],
   "source": [
    "r = np.linalg.matrix_rank(B)\n",
    "\n",
    "print(r)"
   ]
  },
  {
   "cell_type": "markdown",
   "metadata": {
    "id": "sd5A-qvtNdZ7"
   },
   "source": [
    "Если матрица квадратная, то её ранг и определитель связаны следующим образом: определитель матрицы отличен от $0$ тогда и только тогда, когда все её строки являются линейно независимыми. Это, в свою очередь, означает, что её ранг равен её размеру.\n",
    "\n",
    "Например, ранг матрицы $B$ из примера выше равен $2$, при этом её размер равен $3$. Это значит, что не все её строки являются линейно независимыми, поэтому её определитель равен $0$.\n",
    "\n",
    "В отличие от определителя, ранг можно считать и для матрицы, которая не является квадратной. Посчитаем ранг матрицы $A$ размера $2 \\times 3$, определённой выше:"
   ]
  },
  {
   "cell_type": "code",
   "execution_count": null,
   "metadata": {
    "id": "aE9rIwi4NdZ7",
    "outputId": "a48f127c-448f-4b66-b279-00fb8f6e8952"
   },
   "outputs": [
    {
     "name": "stdout",
     "output_type": "stream",
     "text": [
      "2\n"
     ]
    }
   ],
   "source": [
    "r1 = np.linalg.matrix_rank(A)\n",
    "\n",
    "print(r1)"
   ]
  },
  {
   "cell_type": "markdown",
   "metadata": {
    "id": "XHA2XjlZNdZ8"
   },
   "source": [
    "Итак, если определитель квадратной матрицы не равен $0$, то мы можем посчитать для неё _обратную матрицу_. Это матрица, которая при умножении на исходную матрицу даёт единичную матрицу:\n",
    "\n",
    "$$A \\cdot A^{-1} = I$$\n",
    "\n",
    "Обратную матрицу можно посчитать с помощью функции `inv` из модуля `numpy.linalg`:"
   ]
  },
  {
   "cell_type": "code",
   "execution_count": null,
   "metadata": {
    "id": "DK7VvLQ3NdZ8",
    "outputId": "42d43661-7a4b-4bba-e16d-6f0590a3f617"
   },
   "outputs": [
    {
     "name": "stdout",
     "output_type": "stream",
     "text": [
      "85.99999999999989\n"
     ]
    }
   ],
   "source": [
    "F = np.array([[7, 4, 5],\n",
    "              [8, 3, 2],\n",
    "              [6, 10, 12]])\n",
    "\n",
    "print(np.linalg.det(F))"
   ]
  },
  {
   "cell_type": "code",
   "execution_count": null,
   "metadata": {
    "id": "ZJsre49INdZ9",
    "outputId": "92602049-208b-454e-f703-a2e4cdfb2e29"
   },
   "outputs": [
    {
     "name": "stdout",
     "output_type": "stream",
     "text": [
      "[[ 0.18604651  0.02325581 -0.08139535]\n",
      " [-0.97674419  0.62790698  0.30232558]\n",
      " [ 0.72093023 -0.53488372 -0.12790698]]\n"
     ]
    }
   ],
   "source": [
    "F_inv = np.linalg.inv(F)\n",
    "\n",
    "print(F_inv)"
   ]
  },
  {
   "cell_type": "markdown",
   "metadata": {
    "id": "w0DRv0TZNdZ9"
   },
   "source": [
    "Проверим, что условие действительно выполняется:"
   ]
  },
  {
   "cell_type": "code",
   "execution_count": null,
   "metadata": {
    "id": "1J3oyN27NdZ-",
    "outputId": "d92a8052-a73c-46be-fd39-bc66fea80fb9"
   },
   "outputs": [
    {
     "name": "stdout",
     "output_type": "stream",
     "text": [
      "[[ 1.00000000e+00 -5.55111512e-16 -2.77555756e-17]\n",
      " [ 2.22044605e-16  1.00000000e+00  0.00000000e+00]\n",
      " [ 8.88178420e-16 -4.44089210e-16  1.00000000e+00]]\n"
     ]
    }
   ],
   "source": [
    "print(F.dot(F_inv))"
   ]
  },
  {
   "cell_type": "markdown",
   "metadata": {
    "id": "OkefDmRJNdZ_"
   },
   "source": [
    "Если определитель матрицы $A$ равен $d$, то определитель обратной матрицы всегда будет равен $1/d$. Именно поэтому матрицы с определителем, равным $0$, обращать нельзя."
   ]
  },
  {
   "cell_type": "code",
   "execution_count": null,
   "metadata": {
    "id": "X5lx9qi5NdZ_",
    "outputId": "7bb8e999-a18d-4163-d0f0-f1ed50a89d3f"
   },
   "outputs": [
    {
     "name": "stdout",
     "output_type": "stream",
     "text": [
      "0.9999999999999991\n"
     ]
    }
   ],
   "source": [
    "F_d = np.linalg.det(F)\n",
    "\n",
    "F_inv_d = np.linalg.det(F_inv)\n",
    "\n",
    "print(F_d * F_inv_d)"
   ]
  },
  {
   "cell_type": "markdown",
   "metadata": {
    "id": "lJ6_SJsVNdZ_"
   },
   "source": [
    "## Генерирование массивов с заданными свойствами\n",
    "\n",
    "Здесь мы рассмотрим способы задавать массивы различных размеров.\n",
    "\n",
    "Функция `np.zeros` позволяет создать массив любой формы, состоящий из нулей:"
   ]
  },
  {
   "cell_type": "code",
   "execution_count": null,
   "metadata": {
    "id": "XY_mG33zNdaA",
    "outputId": "1df55486-f5e3-48a9-f6a9-efde234715ac"
   },
   "outputs": [
    {
     "name": "stdout",
     "output_type": "stream",
     "text": [
      "[[0. 0. 0. 0.]\n",
      " [0. 0. 0. 0.]\n",
      " [0. 0. 0. 0.]]\n"
     ]
    }
   ],
   "source": [
    "a = np.zeros((3, 4))\n",
    "\n",
    "print(a)"
   ]
  },
  {
   "cell_type": "markdown",
   "metadata": {
    "id": "LgfbwLUfNdaA"
   },
   "source": [
    "Аналогично, функция `np.ones` вернёт массив заданной формы, состоящий из единиц:"
   ]
  },
  {
   "cell_type": "code",
   "execution_count": null,
   "metadata": {
    "id": "2orEVYgiNdaB",
    "outputId": "218082b7-9286-4a00-e8d5-45517cc3ce93"
   },
   "outputs": [
    {
     "name": "stdout",
     "output_type": "stream",
     "text": [
      "[[1. 1. 1. 1.]\n",
      " [1. 1. 1. 1.]\n",
      " [1. 1. 1. 1.]]\n"
     ]
    }
   ],
   "source": [
    "b = np.ones((3, 4))\n",
    "\n",
    "print(b)"
   ]
  },
  {
   "cell_type": "markdown",
   "metadata": {
    "id": "4mvLi2OrNdaB"
   },
   "source": [
    "Последовательности чисел можно создавать с помощью функции `np.arange`. Вот три способа использовать эту функцию:\n",
    "\n",
    "* Если задать только один аргумент, то вернётся последовательность чисел от $0$ до этого аргумента невключительно:"
   ]
  },
  {
   "cell_type": "code",
   "execution_count": null,
   "metadata": {
    "id": "7T7164Q4NdaB",
    "outputId": "95b1aa68-dcc9-474e-9251-c155655509ba"
   },
   "outputs": [
    {
     "name": "stdout",
     "output_type": "stream",
     "text": [
      "[0 1 2 3 4 5 6 7 8 9]\n"
     ]
    }
   ],
   "source": [
    "ar1 = np.arange(10)\n",
    "\n",
    "print(ar1)"
   ]
  },
  {
   "cell_type": "markdown",
   "metadata": {
    "id": "pphzIZrJNdaC"
   },
   "source": [
    "* Если подать два аргумента, то вернётся последовательность чисел от первого аргумента до второго (включая первый, не включая второй):"
   ]
  },
  {
   "cell_type": "code",
   "execution_count": null,
   "metadata": {
    "id": "nwB6kQx4NdaC",
    "outputId": "fc0ef065-7094-46ca-e020-a35d88266fe9"
   },
   "outputs": [
    {
     "name": "stdout",
     "output_type": "stream",
     "text": [
      "[ 2  3  4  5  6  7  8  9 10 11 12]\n"
     ]
    }
   ],
   "source": [
    "ar2 = np.arange(2, 13)\n",
    "\n",
    "print(ar2)"
   ]
  },
  {
   "cell_type": "markdown",
   "metadata": {
    "id": "mrRbT6TTNdaC"
   },
   "source": [
    "* Если подать три аргумента, то третий аргумент будет обозначать шаг, с которым берутся числа в последовательности:"
   ]
  },
  {
   "cell_type": "code",
   "execution_count": null,
   "metadata": {
    "id": "NPazd9C-NdaD",
    "outputId": "afeed1b2-65d2-4094-91be-98fe450ded62"
   },
   "outputs": [
    {
     "name": "stdout",
     "output_type": "stream",
     "text": [
      "[ 2  4  6  8 10 12]\n"
     ]
    }
   ],
   "source": [
    "ar3 = np.arange(2, 13, 2)\n",
    "\n",
    "print(ar3)"
   ]
  },
  {
   "cell_type": "markdown",
   "metadata": {
    "id": "q4YClfQ2NdaD"
   },
   "source": [
    "Отметим, что шаг в функции `np.arange` может быть дробным:"
   ]
  },
  {
   "cell_type": "code",
   "execution_count": null,
   "metadata": {
    "id": "Yvo6mvFvNdaE",
    "outputId": "330d68a6-ac14-4f7f-bbd3-733a9cf3a850"
   },
   "outputs": [
    {
     "name": "stdout",
     "output_type": "stream",
     "text": [
      "[2.  2.1 2.2 2.3 2.4 2.5 2.6 2.7 2.8 2.9]\n"
     ]
    }
   ],
   "source": [
    "ar4 = np.arange(2, 3, 0.1)\n",
    "\n",
    "print(ar4)"
   ]
  },
  {
   "cell_type": "markdown",
   "metadata": {
    "id": "Hnl7NeXBNdaF"
   },
   "source": [
    "Если шаг отрицательный, то последовательность будет возвращена в обратном порядке:"
   ]
  },
  {
   "cell_type": "code",
   "execution_count": null,
   "metadata": {
    "id": "WE7f5CmnNdaF",
    "outputId": "56b8460b-4b91-49cf-df24-102c317d4902"
   },
   "outputs": [
    {
     "name": "stdout",
     "output_type": "stream",
     "text": [
      "[3.  2.9 2.8 2.7 2.6 2.5 2.4 2.3 2.2 2.1]\n"
     ]
    }
   ],
   "source": [
    "ar5 = np.arange(3, 2, -0.1)\n",
    "\n",
    "print(ar5)"
   ]
  },
  {
   "cell_type": "markdown",
   "metadata": {
    "id": "RGSCcH5hNdaH"
   },
   "source": [
    "Ещё одна полезная функция здесь - это функция `np.linspace`. Она позволяет вернуть заданное количество значений, равномерно расставленных между заданными началом и концом отрезка. Отметим, что здесь и левый, и првый концы отрезка включаются в массив:"
   ]
  },
  {
   "cell_type": "code",
   "execution_count": null,
   "metadata": {
    "id": "PKiGQLnhNdaH",
    "outputId": "eb0f918f-c4a1-43e0-ec6b-b2e1290e042f"
   },
   "outputs": [
    {
     "name": "stdout",
     "output_type": "stream",
     "text": [
      "[2.         2.11111111 2.22222222 2.33333333 2.44444444 2.55555556\n",
      " 2.66666667 2.77777778 2.88888889 3.        ]\n"
     ]
    }
   ],
   "source": [
    "c = np.linspace(2, 3, 10)\n",
    "\n",
    "print(c)"
   ]
  },
  {
   "cell_type": "markdown",
   "metadata": {
    "id": "S1gMFFWmNdaI"
   },
   "source": [
    "Функция `np.logspace` имеет похожий эффект, отличие лишь в том, что в качестве начала и конца отрезка мы подаём не сами числа, а степени числа $10$. Например, в ячейке ниже мы задаём массив, содержащий $4$ значения, расставленных равномерно в пределах от $10^0 = 1$ до $10^3 = 1000$."
   ]
  },
  {
   "cell_type": "code",
   "execution_count": null,
   "metadata": {
    "id": "kogDWfxANdaI",
    "outputId": "d70db9cd-b045-4692-f99a-2fdbc6d55a5b"
   },
   "outputs": [
    {
     "name": "stdout",
     "output_type": "stream",
     "text": [
      "[   1.   10.  100. 1000.]\n"
     ]
    }
   ],
   "source": [
    "d = np.logspace(0, 3, 4)\n",
    "\n",
    "print(d)"
   ]
  },
  {
   "cell_type": "markdown",
   "metadata": {
    "id": "cvP6Ak7vNdaJ"
   },
   "source": [
    "### Массивы случайных значений"
   ]
  },
  {
   "cell_type": "markdown",
   "metadata": {
    "id": "EDsTdpoENdaJ"
   },
   "source": [
    "Функция `sample` из модуля `numpy.random` возвращает массив заданной формы, состоящий из чисел, взятых из равномерного распределения на отрезке $[0, 1)$."
   ]
  },
  {
   "cell_type": "code",
   "execution_count": null,
   "metadata": {
    "id": "W1_ld1SDNdaJ",
    "outputId": "4d1aa83d-94f7-40de-aa97-c3e8de044acc"
   },
   "outputs": [
    {
     "name": "stdout",
     "output_type": "stream",
     "text": [
      "[[0.93997522 0.3649222  0.1745136  0.57145376]\n",
      " [0.18031654 0.25954888 0.29623503 0.85737173]\n",
      " [0.86543438 0.62623889 0.6032358  0.14402853]]\n"
     ]
    }
   ],
   "source": [
    "a = np.random.sample((3, 4))\n",
    "\n",
    "print(a)"
   ]
  },
  {
   "cell_type": "markdown",
   "metadata": {
    "id": "kqSzYu7NNdaK"
   },
   "source": [
    "Отметим, что в эту и другие представленные ниже функции можно подавать также не кортеж, а какое-то одно целое число. В этом случае вернётся одномерный массив заданного размера. Также в эти функции можно не подавать аргументы вовсе - в этом случае вернётся лишь одно число."
   ]
  },
  {
   "cell_type": "code",
   "execution_count": null,
   "metadata": {
    "id": "WeyHsyr5NdaK",
    "outputId": "b0b7dd79-9493-410a-97da-4f04bfff337e"
   },
   "outputs": [
    {
     "name": "stdout",
     "output_type": "stream",
     "text": [
      "Одно значение: 0.8883357156837364\n",
      "Три значения: [0.99517333 0.51290899 0.83561873]\n"
     ]
    }
   ],
   "source": [
    "print(\"Одно значение: {}\".format(np.random.sample()))\n",
    "\n",
    "print(\"Три значения: {}\".format(np.random.sample(3)))"
   ]
  },
  {
   "cell_type": "markdown",
   "metadata": {
    "id": "EzyvOkdeNdaL"
   },
   "source": [
    "Функция `randn` из модуля `numpy.random` возвращает аналогичный массив, но уже взятый из нормального распределения (со средним $0$ и среднеквадратическим отклонением $1$):"
   ]
  },
  {
   "cell_type": "code",
   "execution_count": null,
   "metadata": {
    "id": "dpOkmHEjNdaL",
    "outputId": "179b1d56-5042-40ee-d91a-8f9c3ebeb7c5"
   },
   "outputs": [
    {
     "name": "stdout",
     "output_type": "stream",
     "text": [
      "[[-0.14194228  0.64165498  0.04953172 -0.41440644]\n",
      " [ 1.0850997  -0.87161821  0.54785693  0.18092246]\n",
      " [-0.03356476 -1.00275702 -0.62416943  1.55027964]]\n"
     ]
    }
   ],
   "source": [
    "b = np.random.randn(3, 4)\n",
    "\n",
    "print(b)"
   ]
  },
  {
   "cell_type": "markdown",
   "metadata": {
    "id": "AP_WhcI9NdaL"
   },
   "source": [
    "Обратите внимание, что эта функция получает на вход не кортеж `tuple`, а просто последовательность размеров по каждому измерению.\n",
    "\n",
    "Функция `randint` возвращает массив из целых чисел в указанном диапазоне:"
   ]
  },
  {
   "cell_type": "code",
   "execution_count": null,
   "metadata": {
    "id": "cxbgB9CLNdaL",
    "outputId": "d8b51c36-a493-41af-b2f2-8637d7d010c6"
   },
   "outputs": [
    {
     "name": "stdout",
     "output_type": "stream",
     "text": [
      "[[78 38 56 21]\n",
      " [18 12 80 22]\n",
      " [33 71 35 22]]\n"
     ]
    }
   ],
   "source": [
    "c = np.random.randint(0, 100, (3, 4))\n",
    "\n",
    "print(c)"
   ]
  },
  {
   "cell_type": "markdown",
   "metadata": {
    "id": "YPfpEL_hNdaM"
   },
   "source": [
    "Функция `choice` возвращает случайно выбранные элементы из заранее заданного массива:"
   ]
  },
  {
   "cell_type": "code",
   "execution_count": null,
   "metadata": {
    "id": "_gpyzsXWNdaN",
    "outputId": "584bd8bd-eeb1-4e73-ac15-128359491b8b"
   },
   "outputs": [
    {
     "name": "stdout",
     "output_type": "stream",
     "text": [
      "[[ -1  -9  -9  -3]\n",
      " [ -9  -5  -9  -5]\n",
      " [ -6  -6  -7 -10]]\n"
     ]
    }
   ],
   "source": [
    "A = np.arange(-10, 0)\n",
    "\n",
    "d = np.random.choice(A, (3, 4))\n",
    "\n",
    "print(d)"
   ]
  },
  {
   "cell_type": "markdown",
   "metadata": {
    "id": "d7kSsh9DNdaN"
   },
   "source": [
    "### Изменение размеров массива\n",
    "\n",
    "Библиотека `numpy` предоставляет функционал для удобного изменения размера массивов.\n",
    "\n",
    "Например, рассмотрим одномерный массив с $12$ элементами:"
   ]
  },
  {
   "cell_type": "code",
   "execution_count": null,
   "metadata": {
    "id": "hCZ1-HO5NdaN",
    "outputId": "86a62310-c016-4855-f2dc-dfc2b4ba80f2"
   },
   "outputs": [
    {
     "name": "stdout",
     "output_type": "stream",
     "text": [
      "[ 0  1  2  3  4  5  6  7  8  9 10 11]\n"
     ]
    }
   ],
   "source": [
    "ar = np.arange(12)\n",
    "\n",
    "print(ar)"
   ]
  },
  {
   "cell_type": "markdown",
   "metadata": {
    "id": "cqbz_kGHNdaO"
   },
   "source": [
    "Если нам нужно расположить эти значения в двумерном массиве, мы можем сделать это с помощью функции `np.reshape` или метода `ar.reshape`:"
   ]
  },
  {
   "cell_type": "code",
   "execution_count": null,
   "metadata": {
    "id": "KFpG7HJpNdaO",
    "outputId": "962bbb56-d2b8-444b-c266-d813a372c11d"
   },
   "outputs": [
    {
     "name": "stdout",
     "output_type": "stream",
     "text": [
      "[[ 0  1  2  3]\n",
      " [ 4  5  6  7]\n",
      " [ 8  9 10 11]]\n"
     ]
    }
   ],
   "source": [
    "a = ar.reshape(3, 4)\n",
    "\n",
    "print(a)"
   ]
  },
  {
   "cell_type": "markdown",
   "metadata": {
    "id": "Mt8X_K5rNdaO"
   },
   "source": [
    "Ясно, что при этом число элементов получаемого массива должно совпадать с числом элементов в оригинальном массиве. Например, следующая попытка посчитать функцию закончится ошибкой:"
   ]
  },
  {
   "cell_type": "code",
   "execution_count": null,
   "metadata": {
    "id": "DQAXUb9BNdaP",
    "outputId": "501c27a9-2921-4504-df97-ae1421c00733"
   },
   "outputs": [
    {
     "ename": "ValueError",
     "evalue": "cannot reshape array of size 12 into shape (3,5)",
     "output_type": "error",
     "traceback": [
      "\u001b[0;31m---------------------------------------------------------------------------\u001b[0m",
      "\u001b[0;31mValueError\u001b[0m                                Traceback (most recent call last)",
      "\u001b[0;32m<ipython-input-62-92cdbc10f6ee>\u001b[0m in \u001b[0;36m<module>\u001b[0;34m\u001b[0m\n\u001b[0;32m----> 1\u001b[0;31m \u001b[0mb\u001b[0m \u001b[0;34m=\u001b[0m \u001b[0mar\u001b[0m\u001b[0;34m.\u001b[0m \u001b[0mreshape\u001b[0m\u001b[0;34m(\u001b[0m\u001b[0;36m3\u001b[0m\u001b[0;34m,\u001b[0m \u001b[0;36m5\u001b[0m\u001b[0;34m)\u001b[0m\u001b[0;34m\u001b[0m\u001b[0;34m\u001b[0m\u001b[0m\n\u001b[0m",
      "\u001b[0;31mValueError\u001b[0m: cannot reshape array of size 12 into shape (3,5)"
     ]
    }
   ],
   "source": [
    "b = ar.reshape(3, 5)"
   ]
  },
  {
   "cell_type": "markdown",
   "metadata": {
    "id": "n645LcA0NdaP"
   },
   "source": [
    "Если мы знаем количество строк, которое хотим получить, но не знаем количество столбцов, в качестве второго аргумента можно передать число $-1$. Если наоборот мы знаем лишь количество столбцов, можно передать $-1$ в качестве первого аргумента."
   ]
  },
  {
   "cell_type": "code",
   "execution_count": null,
   "metadata": {
    "id": "DsDKMVo0NdaP",
    "outputId": "870a9d1b-0a2c-4d37-ea0b-495300adb06b"
   },
   "outputs": [
    {
     "name": "stdout",
     "output_type": "stream",
     "text": [
      "[[ 0  1  2  3]\n",
      " [ 4  5  6  7]\n",
      " [ 8  9 10 11]]\n"
     ]
    }
   ],
   "source": [
    "b = ar.reshape(3, -1)\n",
    "\n",
    "print(b)"
   ]
  },
  {
   "cell_type": "markdown",
   "metadata": {
    "id": "ycBDw5QVNdaQ"
   },
   "source": [
    "Метод `ar.reshape` не меняет сам массив `ar`, он лишь возвращает новый. Есть также метод `ar.resize`, который делает то же самое, что и `ar.reshape`, но не возвращает ничего и меняет исходный массив:"
   ]
  },
  {
   "cell_type": "code",
   "execution_count": null,
   "metadata": {
    "id": "hB_EF-LzNdaQ",
    "outputId": "4f1da067-fb22-4def-ce40-29a05eff2ea7"
   },
   "outputs": [
    {
     "name": "stdout",
     "output_type": "stream",
     "text": [
      "[[ 0  1  2  3]\n",
      " [ 4  5  6  7]\n",
      " [ 8  9 10 11]]\n"
     ]
    }
   ],
   "source": [
    "ar.resize(3, 4)\n",
    "\n",
    "print(ar)"
   ]
  },
  {
   "cell_type": "markdown",
   "metadata": {
    "id": "YX8Ndze4NdaQ"
   },
   "source": [
    "Обратно, чтобы получить из многомерного массива одномерный, можно воспользоваться методом `ar.flatten`:"
   ]
  },
  {
   "cell_type": "code",
   "execution_count": null,
   "metadata": {
    "id": "kkUpYuQFNdaR",
    "outputId": "7505ae37-0388-48f3-fabc-f1f242895aff"
   },
   "outputs": [
    {
     "name": "stdout",
     "output_type": "stream",
     "text": [
      "[ 0  1  2  3  4  5  6  7  8  9 10 11]\n"
     ]
    }
   ],
   "source": [
    "c = ar.flatten()\n",
    "\n",
    "print(c)"
   ]
  },
  {
   "cell_type": "markdown",
   "metadata": {
    "id": "WTZs7nZANdaR"
   },
   "source": [
    "### Соединение массивов\n",
    "\n",
    "Рассмотрим два массива и разберёмся с тем, как их можно соединить в один."
   ]
  },
  {
   "cell_type": "code",
   "execution_count": null,
   "metadata": {
    "id": "2O2Yo9seNdaR"
   },
   "outputs": [],
   "source": [
    "a = np.zeros((2, 3))\n",
    "\n",
    "b = np.ones((2, 3))"
   ]
  },
  {
   "cell_type": "markdown",
   "metadata": {
    "id": "G4PkLh-5NdaS"
   },
   "source": [
    "Мы можем соединить эти массивы вертикально (т.е. дописать один под другим). Вот несколько способов это сделать:\n",
    "\n",
    "* с помощью функции `np.vstack`: `c = np.vstack((a, b))` (получает на вход кортеж из массивов)\n",
    "* с помощью функции `np.concatenate`: `c = np.concatenate((a, b), axis=0)` (тоже получает на вход кортеж, также нужно указать, вдоль какой оси производится конкатенация)"
   ]
  },
  {
   "cell_type": "code",
   "execution_count": null,
   "metadata": {
    "id": "2WC5QfbPNdaS",
    "outputId": "283b8e3e-02bf-40a7-e61d-49092cf3cbb1"
   },
   "outputs": [
    {
     "name": "stdout",
     "output_type": "stream",
     "text": [
      "[[0. 0. 0.]\n",
      " [0. 0. 0.]\n",
      " [1. 1. 1.]\n",
      " [1. 1. 1.]]\n"
     ]
    }
   ],
   "source": [
    "c = np.vstack((a, b))\n",
    "\n",
    "print(c)"
   ]
  },
  {
   "cell_type": "markdown",
   "metadata": {
    "id": "V-5QZDseNdaS"
   },
   "source": [
    "Также несколько способов это соединить массивы горизонтально (т.е. дописать один правее другого):\n",
    "\n",
    "* с помощью функции `np.hstack`: `c = np.hstack((a, b))`\n",
    "* с помощью функции `np.concatenate`: `c = np.concatenate((a, b), axis=1)` (производится теперь вдоль оси $1$)"
   ]
  },
  {
   "cell_type": "code",
   "execution_count": null,
   "metadata": {
    "id": "YTloosAwNdaS",
    "outputId": "29644029-8671-4252-bddf-2b56e57033ba"
   },
   "outputs": [
    {
     "name": "stdout",
     "output_type": "stream",
     "text": [
      "[[0. 0. 0. 1. 1. 1.]\n",
      " [0. 0. 0. 1. 1. 1.]]\n"
     ]
    }
   ],
   "source": [
    "d = np.concatenate((a, b), axis=1)\n",
    "\n",
    "print(d)"
   ]
  },
  {
   "cell_type": "markdown",
   "metadata": {
    "id": "1tZBBLEXNdaS"
   },
   "source": [
    "Наконец, два двумерных массива можно соединить _в глубину_ (т.е. вдоль новой третьей оси) с помощью функции `np.dstack`:"
   ]
  },
  {
   "cell_type": "code",
   "execution_count": null,
   "metadata": {
    "id": "Pepqx6-1NdaT",
    "outputId": "df304822-3b78-4fe5-ea7a-bb614e2bf35e"
   },
   "outputs": [
    {
     "name": "stdout",
     "output_type": "stream",
     "text": [
      "[[[0. 1.]\n",
      "  [0. 1.]\n",
      "  [0. 1.]]\n",
      "\n",
      " [[0. 1.]\n",
      "  [0. 1.]\n",
      "  [0. 1.]]]\n"
     ]
    }
   ],
   "source": [
    "e = np.dstack((a, b))\n",
    "\n",
    "print(e)"
   ]
  },
  {
   "cell_type": "markdown",
   "metadata": {
    "id": "DPiPYM_TNdaT"
   },
   "source": [
    "## Функции для работы с данными\n",
    "\n",
    "Библиотека `numpy` предлагает удобный функционал для выбора данных из массива. Рассмотрим массив из $10$ случайных целых значений от $0$ до $19$:"
   ]
  },
  {
   "cell_type": "code",
   "execution_count": null,
   "metadata": {
    "id": "rbeVwwyjNdaW",
    "outputId": "9cd5ee10-7be6-464d-ee88-15b2193e90a6"
   },
   "outputs": [
    {
     "name": "stdout",
     "output_type": "stream",
     "text": [
      "[19  9 11  3 14 14 15 16  8  5]\n"
     ]
    }
   ],
   "source": [
    "a = np.random.randint(0, 20, 10)\n",
    "\n",
    "print(a)"
   ]
  },
  {
   "cell_type": "markdown",
   "metadata": {
    "id": "-R7yms0WNdaW"
   },
   "source": [
    "Допустим, мы хотим выбрать все значения этого массива, которые больше $10$. Вот как это можно сделать:"
   ]
  },
  {
   "cell_type": "code",
   "execution_count": null,
   "metadata": {
    "id": "8pTsCjDRNdaX",
    "outputId": "7a645238-c46e-4d11-8c41-1a4474fc3283"
   },
   "outputs": [
    {
     "name": "stdout",
     "output_type": "stream",
     "text": [
      "[19 11 14 14 15 16]\n"
     ]
    }
   ],
   "source": [
    "b = a[a > 10]\n",
    "\n",
    "print(b)"
   ]
  },
  {
   "cell_type": "markdown",
   "metadata": {
    "id": "UCyM03wSNdaX"
   },
   "source": [
    "Свойства можно комбинировать, используя логические операторы \"и\" (обозначается символом $\\&$), \"или\" (символ $\\mid$) и оператор отрицания \"не\" (символ $\\sim$). При этом каждое условие необходимо поставить в круглые скобки:"
   ]
  },
  {
   "cell_type": "code",
   "execution_count": null,
   "metadata": {
    "id": "FP0x9WMLNdaX",
    "outputId": "1bc2b79a-a9ba-4bde-b1d3-0c48965b3d53"
   },
   "outputs": [
    {
     "name": "stdout",
     "output_type": "stream",
     "text": [
      "[14 14 16  8]\n"
     ]
    }
   ],
   "source": [
    "c = a[(a > 0) & (a % 2 == 0)]\n",
    "\n",
    "print(c)"
   ]
  },
  {
   "cell_type": "markdown",
   "metadata": {
    "id": "Gf7N6-AqNdaY"
   },
   "source": [
    "Такая конструкция в `numpy` называется _булевой индексацией_. Разберёмся с ней поподробнее. Что из себя представляет объект `a > 0`?"
   ]
  },
  {
   "cell_type": "code",
   "execution_count": null,
   "metadata": {
    "id": "1YzamM5UNdaY",
    "outputId": "15293807-9563-499f-e948-de74364e33f3"
   },
   "outputs": [
    {
     "name": "stdout",
     "output_type": "stream",
     "text": [
      "[ True False  True False  True  True  True  True False False]\n"
     ]
    }
   ],
   "source": [
    "print(a > 10)"
   ]
  },
  {
   "cell_type": "markdown",
   "metadata": {
    "id": "neAobOpiNdaZ"
   },
   "source": [
    "Как мы видим, это просто `numpy`-массив из булевых значений `True` и `False`. Когда мы подставляем такой массив в качестве _индекса_ массива `a`, нам возвращаются все элементы, на позиции которых в этом массиве стоит значение `True`.\n",
    "\n",
    "Можно просто создать такой массив вручную и передать его в качестве индекса:"
   ]
  },
  {
   "cell_type": "code",
   "execution_count": null,
   "metadata": {
    "id": "f2_x2r4nNdaa",
    "outputId": "f2bb1630-668f-47f2-eef3-3013c7ffa097"
   },
   "outputs": [
    {
     "name": "stdout",
     "output_type": "stream",
     "text": [
      "[19 11  3 16  8]\n"
     ]
    }
   ],
   "source": [
    "ind = np.array([True, False, True, True, False, False, False, True, True, False])\n",
    "\n",
    "print(a[ind])"
   ]
  },
  {
   "cell_type": "markdown",
   "metadata": {
    "id": "1xsImF0QNdab"
   },
   "source": [
    "Другой способ выбрать значения из массива - с помощью функции `np.where`. Она берёт массив из булевых значений и возвращает _индексы_ истинных значений:"
   ]
  },
  {
   "cell_type": "code",
   "execution_count": null,
   "metadata": {
    "id": "ilR8Tv1ZNdab",
    "outputId": "36ea047e-2750-45db-e095-eb87f88618bc"
   },
   "outputs": [
    {
     "name": "stdout",
     "output_type": "stream",
     "text": [
      "(array([0, 2, 4, 5, 6, 7]),)\n"
     ]
    }
   ],
   "source": [
    "ind1 = np.where(a > 10)\n",
    "\n",
    "print(ind1)"
   ]
  },
  {
   "cell_type": "markdown",
   "metadata": {
    "id": "_Z-zYCcDNdao"
   },
   "source": [
    "Такой список индексов можно также передать в массив `a` чтобы получить конкретные значения:"
   ]
  },
  {
   "cell_type": "code",
   "execution_count": null,
   "metadata": {
    "id": "nqBbPvtCNdao",
    "outputId": "831ea7dc-e43f-432e-d524-4b0352c56698"
   },
   "outputs": [
    {
     "name": "stdout",
     "output_type": "stream",
     "text": [
      "[19 11 14 14 15 16]\n"
     ]
    }
   ],
   "source": [
    "d = a[ind1]\n",
    "\n",
    "print(d)"
   ]
  },
  {
   "cell_type": "markdown",
   "metadata": {
    "id": "No3c2PegNdap"
   },
   "source": [
    "То же самое можно сделать и вручную: передать в квадратные скобки массива `a` какой-нибудь список из индексов:"
   ]
  },
  {
   "cell_type": "code",
   "execution_count": null,
   "metadata": {
    "id": "5rN3m42LNdap",
    "outputId": "151490d5-7f90-4ff4-8c02-f09429045ac0"
   },
   "outputs": [
    {
     "name": "stdout",
     "output_type": "stream",
     "text": [
      "[19 14 16]\n"
     ]
    }
   ],
   "source": [
    "e = a[[0, 4, 7]]\n",
    "\n",
    "print(e)"
   ]
  },
  {
   "cell_type": "markdown",
   "metadata": {
    "id": "wIOX0cgBNdap"
   },
   "source": [
    "Отметим также, что если массив `a` является многомерным, то чтобы выбрать таким образом из него значения, нужно указать внутри квадратных скобок через запятую столько списков, сколько имеется у массива измерений:"
   ]
  },
  {
   "cell_type": "code",
   "execution_count": null,
   "metadata": {
    "id": "CoHM7hciNdaq",
    "outputId": "425a0732-37c0-4791-bc3d-0575df3a9048"
   },
   "outputs": [
    {
     "name": "stdout",
     "output_type": "stream",
     "text": [
      "[[19  9]\n",
      " [11  3]\n",
      " [14 14]\n",
      " [15 16]\n",
      " [ 8  5]]\n"
     ]
    }
   ],
   "source": [
    "a.resize((5, 2))\n",
    "\n",
    "print(a)"
   ]
  },
  {
   "cell_type": "code",
   "execution_count": null,
   "metadata": {
    "id": "2LMXxFkNNdaq",
    "outputId": "32c36ca4-e82f-4334-e44e-7b550aa0b198"
   },
   "outputs": [
    {
     "name": "stdout",
     "output_type": "stream",
     "text": [
      "[[11  3]\n",
      " [ 8  5]]\n"
     ]
    }
   ],
   "source": [
    "f = a[[1, 4], :]\n",
    "\n",
    "print(f)"
   ]
  },
  {
   "cell_type": "markdown",
   "metadata": {
    "id": "SkOw7SLwNdaq"
   },
   "source": [
    "### Сортировка\n",
    "\n",
    "Рассмотрим двумерный массив:"
   ]
  },
  {
   "cell_type": "code",
   "execution_count": null,
   "metadata": {
    "id": "Uoy9lKHNNdaq",
    "outputId": "f878b2a8-ef39-49d8-8ea4-3371a9d4e4f1"
   },
   "outputs": [
    {
     "name": "stdout",
     "output_type": "stream",
     "text": [
      "[[2 4 3 3]\n",
      " [2 2 2 4]\n",
      " [5 2 0 3]]\n"
     ]
    }
   ],
   "source": [
    "a = np.random.randint(0, 6, (3, 4))\n",
    "\n",
    "print(a)"
   ]
  },
  {
   "cell_type": "markdown",
   "metadata": {
    "id": "L2F6zoCvNdar"
   },
   "source": [
    "Допустим, мы хотим отсортировать строки этого массива по второму столбцу. Мы можем сделать это вручную, задав индексы строк в нужном нам порядке:"
   ]
  },
  {
   "cell_type": "code",
   "execution_count": null,
   "metadata": {
    "id": "F8sTBk1uNdar",
    "outputId": "bb05b808-e3d9-4049-ce3a-0bc38fff3bc1"
   },
   "outputs": [
    {
     "name": "stdout",
     "output_type": "stream",
     "text": [
      "[[2 2 2 4]\n",
      " [5 2 0 3]\n",
      " [2 4 3 3]]\n"
     ]
    }
   ],
   "source": [
    "b = a[[1, 2, 0], :]\n",
    "\n",
    "print(b)"
   ]
  },
  {
   "cell_type": "markdown",
   "metadata": {
    "id": "8GFYwkmLNdas"
   },
   "source": [
    "Этот процесс можно автоматизировать с помощью метода `a.argsort`. Данный метод возвращает массив из индексов массива `a` в порядке их возрастания по заданной оси:"
   ]
  },
  {
   "cell_type": "code",
   "execution_count": null,
   "metadata": {
    "id": "OMHJDAbuNdas",
    "outputId": "8ef6254d-650a-4aeb-b7f2-43e8710383cd"
   },
   "outputs": [
    {
     "name": "stdout",
     "output_type": "stream",
     "text": [
      "[[0 1 2 0]\n",
      " [1 2 1 2]\n",
      " [2 0 0 1]]\n"
     ]
    }
   ],
   "source": [
    "ind = a.argsort(axis=0)\n",
    "\n",
    "print(ind)"
   ]
  },
  {
   "cell_type": "markdown",
   "metadata": {
    "id": "x_7Rt_SDNdat"
   },
   "source": [
    "В каждом столбце этого массива стоят индексы строк массива `a`, расположенные в том порядке, в котором они бы отсортировали данный столбец по возрастанию. Автоматизируем процесс сортировки массива `a` по второму столбцу. Для этого нужно получить второй столбец из массива, полученного с помощью метода `a.argsort`:"
   ]
  },
  {
   "cell_type": "code",
   "execution_count": null,
   "metadata": {
    "id": "uztoLElcNdat",
    "outputId": "12863307-55fb-4b97-9a29-5aca3dda8f26"
   },
   "outputs": [
    {
     "name": "stdout",
     "output_type": "stream",
     "text": [
      "[1 2 0]\n"
     ]
    }
   ],
   "source": [
    "ind1 = a[:, 1].argsort()\n",
    "\n",
    "print(ind1)"
   ]
  },
  {
   "cell_type": "markdown",
   "metadata": {
    "id": "tMlzrD5vNdat"
   },
   "source": [
    "Итоговая конструкция будет выглядеть так:"
   ]
  },
  {
   "cell_type": "code",
   "execution_count": null,
   "metadata": {
    "id": "nqRoIJMbNdau",
    "outputId": "08c1b18c-d170-4566-a6d7-fff506611254"
   },
   "outputs": [
    {
     "name": "stdout",
     "output_type": "stream",
     "text": [
      "[[2 2 2 4]\n",
      " [5 2 0 3]\n",
      " [2 4 3 3]]\n"
     ]
    }
   ],
   "source": [
    "c = a[a[:, 1].argsort(), :]\n",
    "\n",
    "print(c)"
   ]
  },
  {
   "cell_type": "markdown",
   "metadata": {
    "id": "oPUtfGeYNdav"
   },
   "source": [
    "### Перемешивание\n",
    "\n",
    "Иногда оказывается нужно перемешать значения массива. Это можно сделать с помощью функции `shuffle` из модуля `numpy.random`. Эта функция ничего не возвращает, лишь перемешивает случайным образом элементы данного массива. Отметим, что она перемешивает массив только в первом измерении. Другими словами, если массив двумерный, она лишь переставит его строки местами. Содержимое самих строк при этом не изменится:"
   ]
  },
  {
   "cell_type": "code",
   "execution_count": null,
   "metadata": {
    "id": "oGCN-dyfNdav",
    "outputId": "397feb8f-1cd7-4cb4-8c01-1ade06c13f57"
   },
   "outputs": [
    {
     "name": "stdout",
     "output_type": "stream",
     "text": [
      "[[2 4 3 3]\n",
      " [5 2 0 3]\n",
      " [2 2 2 4]]\n"
     ]
    }
   ],
   "source": [
    "np.random.shuffle(c)\n",
    "\n",
    "print(c)"
   ]
  },
  {
   "cell_type": "markdown",
   "metadata": {
    "id": "T1bRZqfNNdav"
   },
   "source": [
    "### Математические операции над массивами\n",
    "\n",
    "Некоторые математические операции можно выполнять с массивами целиком. Например, мы уже знаем, что массивы можно умножать на число и что массивы одинаковой формы можно складывать."
   ]
  },
  {
   "cell_type": "code",
   "execution_count": null,
   "metadata": {
    "id": "k9yLfjChNdav",
    "outputId": "9a8d3ba5-3eb4-44bc-baf8-375df7edd8b8"
   },
   "outputs": [
    {
     "name": "stdout",
     "output_type": "stream",
     "text": [
      "[[0 1 2]\n",
      " [3 4 5]]\n",
      "[[ 6  7  8]\n",
      " [ 9 10 11]]\n"
     ]
    }
   ],
   "source": [
    "a = np.arange(0, 6).reshape(2, 3)\n",
    "b = np.arange(6, 12).reshape(2, 3)\n",
    "\n",
    "print(a)\n",
    "print(b)"
   ]
  },
  {
   "cell_type": "code",
   "execution_count": null,
   "metadata": {
    "id": "rGp8lAdKNdaw",
    "outputId": "7fe02b08-b3dd-49da-e89d-8953c0c39ea5"
   },
   "outputs": [
    {
     "name": "stdout",
     "output_type": "stream",
     "text": [
      "[[ 6  8 10]\n",
      " [12 14 16]]\n"
     ]
    }
   ],
   "source": [
    "print(a + b)"
   ]
  },
  {
   "cell_type": "code",
   "execution_count": null,
   "metadata": {
    "id": "Ycxs_eN1Ndaw",
    "outputId": "fbdb853c-8a12-408c-814c-47ea4e785ecf"
   },
   "outputs": [
    {
     "name": "stdout",
     "output_type": "stream",
     "text": [
      "[[ 0  2  4]\n",
      " [ 6  8 10]]\n"
     ]
    }
   ],
   "source": [
    "print(a * 2)"
   ]
  },
  {
   "cell_type": "markdown",
   "metadata": {
    "id": "Di4uCd4XNdax"
   },
   "source": [
    "К массивам можно также прибавлять числа - в этом случае к каждому элементу массива прибавляется число:"
   ]
  },
  {
   "cell_type": "code",
   "execution_count": null,
   "metadata": {
    "id": "gorRI_PSNday",
    "outputId": "0839b7e7-8f6b-4562-dd9e-b76599429f13"
   },
   "outputs": [
    {
     "name": "stdout",
     "output_type": "stream",
     "text": [
      "[[1 2 3]\n",
      " [4 5 6]]\n"
     ]
    }
   ],
   "source": [
    "print(a + 1)"
   ]
  },
  {
   "cell_type": "markdown",
   "metadata": {
    "id": "1Ihge2LbNday"
   },
   "source": [
    "Массивы одинакового размера можно поэлементно умножать. (Важно не путать с матричным умножением.)"
   ]
  },
  {
   "cell_type": "code",
   "execution_count": null,
   "metadata": {
    "id": "rmaCek-jNday",
    "outputId": "bf22d6a9-fa6f-497e-8b2d-92f0de96dbb9"
   },
   "outputs": [
    {
     "name": "stdout",
     "output_type": "stream",
     "text": [
      "[[ 0  7 16]\n",
      " [27 40 55]]\n"
     ]
    }
   ],
   "source": [
    "print(a * b)"
   ]
  },
  {
   "cell_type": "markdown",
   "metadata": {
    "id": "j2cBU6LXNda0"
   },
   "source": [
    "С помощью метода `a.sum` можно посчитать сумму всех значений массива. Если указать в этом методе ось `axis`, сумма будет посчитана только вдоль этой оси:"
   ]
  },
  {
   "cell_type": "code",
   "execution_count": null,
   "metadata": {
    "id": "wAFntVvCNda0",
    "outputId": "1a7a44b8-7bec-429a-ad44-ca6f2cd9272e"
   },
   "outputs": [
    {
     "name": "stdout",
     "output_type": "stream",
     "text": [
      "Сумма всех элементов: 15\n",
      "Сумма по столбцам (\"вдоль\" строк): [3 5 7]\n",
      "Сумма по строкам (\"вдоль\" столбцов): [ 3 12]\n"
     ]
    }
   ],
   "source": [
    "print(\"Сумма всех элементов: {}\".format(a.sum()))\n",
    "\n",
    "print('Сумма по столбцам (\"вдоль\" строк): {}'.format(a.sum(axis=0)))\n",
    "\n",
    "print('Сумма по строкам (\"вдоль\" столбцов): {}'.format(a.sum(axis=1)))"
   ]
  },
  {
   "cell_type": "markdown",
   "metadata": {
    "id": "OX5frGgwGeyI"
   },
   "source": [
    "#### Broadcasting\n",
    "\n",
    "В определённых случаях мы можем выполнять операции сложения и умножения над матрицами разных размеров. Концепция _broadcasting_ заключается в том, что в некоторых случаях интерпретатор \"догадывается\", что одну массив надо в каком-то измерении \"растянуть\" до соответствия со вторым массивом. Рассмотрим массив размера $3 \\times 2$:"
   ]
  },
  {
   "cell_type": "code",
   "execution_count": null,
   "metadata": {
    "id": "RYFfBJ5sNda1"
   },
   "outputs": [],
   "source": [
    "a = np.array([[2, 5],\n",
    "              [3, 4],\n",
    "              [6, 1]])"
   ]
  },
  {
   "cell_type": "markdown",
   "metadata": {
    "id": "xM5Eu7GnNda1"
   },
   "source": [
    "а также одномерный массив размера $2$:"
   ]
  },
  {
   "cell_type": "code",
   "execution_count": null,
   "metadata": {
    "id": "gmgeCgxCNda1"
   },
   "outputs": [],
   "source": [
    "b = np.array([1, 2])"
   ]
  },
  {
   "cell_type": "markdown",
   "metadata": {
    "id": "Pti6Z0qqNda1"
   },
   "source": [
    "Если мы попытаемся их сложить, интерпретатор заметит, что у них совпадает одно из измерений: у них обоих $2$ столбца. Поэтому интерпретатор как бы \"растянет\" массив `b` до размера $2 \\times 3$ и прибавит его к массиву `a`:"
   ]
  },
  {
   "cell_type": "code",
   "execution_count": null,
   "metadata": {
    "id": "HcYxxfoeNda1",
    "outputId": "5216cb2a-ccdb-4e3b-8d5b-cb898843c70d"
   },
   "outputs": [
    {
     "name": "stdout",
     "output_type": "stream",
     "text": [
      "[[3 7]\n",
      " [4 6]\n",
      " [7 3]]\n"
     ]
    }
   ],
   "source": [
    "c = a + b\n",
    "\n",
    "print(c)"
   ]
  },
  {
   "cell_type": "markdown",
   "metadata": {
    "id": "qwSMeJYyNda1"
   },
   "source": [
    "На самом деле здесь строка `b` просто прибавится к каждой строке массива `a`.\n",
    "\n",
    "Аналогично можно поступить и со столбцами:"
   ]
  },
  {
   "cell_type": "code",
   "execution_count": null,
   "metadata": {
    "id": "xhIJOuwINda2",
    "outputId": "5a1a961a-e6ef-437e-a463-b6473728e04b"
   },
   "outputs": [
    {
     "name": "stdout",
     "output_type": "stream",
     "text": [
      "[[2 5]\n",
      " [4 5]\n",
      " [5 0]]\n"
     ]
    }
   ],
   "source": [
    "d = np.array([[0],\n",
    "              [1],\n",
    "              [-1]])\n",
    "\n",
    "e = a + d\n",
    "\n",
    "print(e)"
   ]
  },
  {
   "cell_type": "markdown",
   "metadata": {
    "id": "RCsj83VkNda2"
   },
   "source": [
    "Интерпретатор заметит, что у этих массивов совпадает число строк, поэтому \"растянет\" массив `d` до размера массива `a`. Попросту говоря, столбец `b` прибавится к каждому из столбцов массива `a`.\n",
    "\n",
    "Имеются и более сложные конструкции broadcasting, о них можно почитать [здесь](https://docs.scipy.org/doc/numpy/user/basics.broadcasting.html).\n",
    "\n",
    "В случае, когда размеры массивов согласовать не удаётся, выпадает ошибка:"
   ]
  },
  {
   "cell_type": "code",
   "execution_count": null,
   "metadata": {
    "id": "rcbNPZ5GNda3",
    "outputId": "6f2bc786-c376-4791-ab5c-42b0c69d65fa"
   },
   "outputs": [
    {
     "ename": "ValueError",
     "evalue": "operands could not be broadcast together with shapes (3,2) (3,) ",
     "output_type": "error",
     "traceback": [
      "\u001b[0;31m---------------------------------------------------------------------------\u001b[0m",
      "\u001b[0;31mValueError\u001b[0m                                Traceback (most recent call last)",
      "\u001b[0;32m<ipython-input-96-bbb4a55e5786>\u001b[0m in \u001b[0;36m<module>\u001b[0;34m\u001b[0m\n\u001b[1;32m      1\u001b[0m \u001b[0mf\u001b[0m \u001b[0;34m=\u001b[0m \u001b[0mnp\u001b[0m\u001b[0;34m.\u001b[0m\u001b[0marray\u001b[0m\u001b[0;34m(\u001b[0m\u001b[0;34m[\u001b[0m\u001b[0;36m0\u001b[0m\u001b[0;34m,\u001b[0m \u001b[0;36m1\u001b[0m\u001b[0;34m,\u001b[0m \u001b[0;34m-\u001b[0m\u001b[0;36m1\u001b[0m\u001b[0;34m]\u001b[0m\u001b[0;34m)\u001b[0m\u001b[0;34m\u001b[0m\u001b[0;34m\u001b[0m\u001b[0m\n\u001b[1;32m      2\u001b[0m \u001b[0;34m\u001b[0m\u001b[0m\n\u001b[0;32m----> 3\u001b[0;31m \u001b[0ma\u001b[0m \u001b[0;34m+\u001b[0m \u001b[0mf\u001b[0m\u001b[0;34m\u001b[0m\u001b[0;34m\u001b[0m\u001b[0m\n\u001b[0m",
      "\u001b[0;31mValueError\u001b[0m: operands could not be broadcast together with shapes (3,2) (3,) "
     ]
    }
   ],
   "source": [
    "f = np.array([0, 1, -1])\n",
    "\n",
    "a + f"
   ]
  },
  {
   "cell_type": "markdown",
   "metadata": {
    "id": "uKCAGIzBNda3"
   },
   "source": [
    "#### Статистические функции\n",
    "\n",
    "Вот несколько методов, позволяющих вычислить различные статистики массива `a`:\n",
    "\n",
    "* `a.min` - минимальное значение\n",
    "* `a.max` - максимальное значение\n",
    "* `a.mean` - среднее значение\n",
    "* `a.std` - среднее квадратическое отклонение\n",
    "\n",
    "Все эти значения считаются по всему массиву, либо вдоль определённой оси, если задан параметр `axis`."
   ]
  },
  {
   "cell_type": "code",
   "execution_count": null,
   "metadata": {
    "colab": {
     "base_uri": "https://localhost:8080/",
     "height": 167
    },
    "id": "_-yuld7ZNda3",
    "outputId": "89c408ea-c73a-43e9-8da3-391245af16c4"
   },
   "outputs": [
    {
     "ename": "NameError",
     "evalue": "ignored",
     "output_type": "error",
     "traceback": [
      "\u001b[0;31m---------------------------------------------------------------------------\u001b[0m",
      "\u001b[0;31mNameError\u001b[0m                                 Traceback (most recent call last)",
      "\u001b[0;32m<ipython-input-1-bca0e2660b9f>\u001b[0m in \u001b[0;36m<module>\u001b[0;34m()\u001b[0m\n\u001b[0;32m----> 1\u001b[0;31m \u001b[0mprint\u001b[0m\u001b[0;34m(\u001b[0m\u001b[0ma\u001b[0m\u001b[0;34m)\u001b[0m\u001b[0;34m\u001b[0m\u001b[0;34m\u001b[0m\u001b[0m\n\u001b[0m",
      "\u001b[0;31mNameError\u001b[0m: name 'a' is not defined"
     ]
    }
   ],
   "source": [
    "print(a)"
   ]
  },
  {
   "cell_type": "code",
   "execution_count": null,
   "metadata": {
    "colab": {
     "base_uri": "https://localhost:8080/",
     "height": 238
    },
    "id": "JLAFUHk2Nda4",
    "outputId": "3322a85d-458b-44cd-d7d7-859f9c76c8e2"
   },
   "outputs": [
    {
     "ename": "NameError",
     "evalue": "ignored",
     "output_type": "error",
     "traceback": [
      "\u001b[0;31m---------------------------------------------------------------------------\u001b[0m",
      "\u001b[0;31mNameError\u001b[0m                                 Traceback (most recent call last)",
      "\u001b[0;32m<ipython-input-2-ef720e3fed40>\u001b[0m in \u001b[0;36m<module>\u001b[0;34m()\u001b[0m\n\u001b[0;32m----> 1\u001b[0;31m \u001b[0mprint\u001b[0m\u001b[0;34m(\u001b[0m\u001b[0;34m\"Минимальное значение: {}\"\u001b[0m\u001b[0;34m.\u001b[0m\u001b[0mformat\u001b[0m\u001b[0;34m(\u001b[0m\u001b[0ma\u001b[0m\u001b[0;34m.\u001b[0m\u001b[0mmin\u001b[0m\u001b[0;34m(\u001b[0m\u001b[0;34m)\u001b[0m\u001b[0;34m)\u001b[0m\u001b[0;34m)\u001b[0m\u001b[0;34m\u001b[0m\u001b[0;34m\u001b[0m\u001b[0m\n\u001b[0m\u001b[1;32m      2\u001b[0m \u001b[0;34m\u001b[0m\u001b[0m\n\u001b[1;32m      3\u001b[0m \u001b[0mprint\u001b[0m\u001b[0;34m(\u001b[0m\u001b[0;34m\"Средние значения строк: {}\"\u001b[0m\u001b[0;34m.\u001b[0m\u001b[0mformat\u001b[0m\u001b[0;34m(\u001b[0m\u001b[0ma\u001b[0m\u001b[0;34m.\u001b[0m\u001b[0mmean\u001b[0m\u001b[0;34m(\u001b[0m\u001b[0maxis\u001b[0m\u001b[0;34m=\u001b[0m\u001b[0;36m1\u001b[0m\u001b[0;34m)\u001b[0m\u001b[0;34m)\u001b[0m\u001b[0;34m)\u001b[0m\u001b[0;34m\u001b[0m\u001b[0;34m\u001b[0m\u001b[0m\n\u001b[1;32m      4\u001b[0m \u001b[0;34m\u001b[0m\u001b[0m\n\u001b[1;32m      5\u001b[0m \u001b[0mprint\u001b[0m\u001b[0;34m(\u001b[0m\u001b[0;34m\"Средние квадратические отклонения столбцов: {}\"\u001b[0m\u001b[0;34m.\u001b[0m\u001b[0mformat\u001b[0m\u001b[0;34m(\u001b[0m\u001b[0ma\u001b[0m\u001b[0;34m.\u001b[0m\u001b[0mmean\u001b[0m\u001b[0;34m(\u001b[0m\u001b[0maxis\u001b[0m\u001b[0;34m=\u001b[0m\u001b[0;36m0\u001b[0m\u001b[0;34m)\u001b[0m\u001b[0;34m)\u001b[0m\u001b[0;34m)\u001b[0m\u001b[0;34m\u001b[0m\u001b[0;34m\u001b[0m\u001b[0m\n",
      "\u001b[0;31mNameError\u001b[0m: name 'a' is not defined"
     ]
    }
   ],
   "source": [
    "print(\"Минимальное значение: {}\".format(a.min()))\n",
    "\n",
    "print(\"Средние значения строк: {}\".format(a.mean(axis=1)))\n",
    "\n",
    "print(\"Средние квадратические отклонения столбцов: {}\".format(a.mean(axis=0)))"
   ]
  },
  {
   "cell_type": "markdown",
   "metadata": {
    "id": "gLy_rR8pNda4"
   },
   "source": [
    "### Запись и чтение массивов из файла\n",
    "\n",
    "Массивы `numpy` можно сохранять в файлы с расширением `.npy` и читать из таких файлов.\n",
    "\n",
    "Для записи массива в файл используется функция `np.save`:"
   ]
  },
  {
   "cell_type": "code",
   "execution_count": null,
   "metadata": {
    "id": "_fzhK25wNda4"
   },
   "outputs": [],
   "source": [
    "np.save(\"a.npy\", a)"
   ]
  },
  {
   "cell_type": "markdown",
   "metadata": {
    "id": "W8aW0FDqNda5"
   },
   "source": [
    "Для чтения из файла используется функция `np.load`:"
   ]
  },
  {
   "cell_type": "code",
   "execution_count": null,
   "metadata": {
    "id": "mIEqwVC3Nda6"
   },
   "outputs": [],
   "source": [
    "a = np.load(\"a.npy\")"
   ]
  }
 ],
 "metadata": {
  "colab": {
   "collapsed_sections": [
    "gwxv0LrNNdZm",
    "dHiuuCHqNdZm",
    "Oist8E2-NdZv",
    "kMDvt2YvNdZy",
    "JMQuNJtNNdZ1",
    "GhozMn0YNdZ4",
    "lJ6_SJsVNdZ_",
    "cvP6Ak7vNdaJ",
    "d7kSsh9DNdaN",
    "WTZs7nZANdaR",
    "DPiPYM_TNdaT",
    "SkOw7SLwNdaq",
    "oPUtfGeYNdav",
    "T1bRZqfNNdav",
    "OX5frGgwGeyI",
    "uKCAGIzBNda3",
    "gLy_rR8pNda4"
   ],
   "name": "1. Вычисления с помощью Numpy.ipynb",
   "provenance": []
  },
  "kernelspec": {
   "display_name": "Python 3 (ipykernel)",
   "language": "python",
   "name": "python3"
  },
  "language_info": {
   "codemirror_mode": {
    "name": "ipython",
    "version": 3
   },
   "file_extension": ".py",
   "mimetype": "text/x-python",
   "name": "python",
   "nbconvert_exporter": "python",
   "pygments_lexer": "ipython3",
   "version": "3.8.8"
  }
 },
 "nbformat": 4,
 "nbformat_minor": 1
}

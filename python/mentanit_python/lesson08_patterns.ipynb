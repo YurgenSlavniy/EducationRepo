{
 "cells": [
  {
   "cell_type": "markdown",
   "id": "e68701ff",
   "metadata": {},
   "source": [
    "# https://metanit.com/python/tutorial/2.13.php\n",
    "# Pattern matching\n",
    "# Конструкция match\n",
    "\n",
    "Начиная с версии 3.10 в языке Python появилась такая функциональность как pattern matching (сопоставление шаблонов). Pattern matching представляет применение конструкции match, которая позволяет сопоставить выражение с некоторым шаблоном. И если выражение соответствует шаблону, то выполняются определенные действия. В этом смысле конструкция match похожа на конструкцию if/else/elif, которая выполняет определенные действия в зависимости от некоторого условия. Однако функциональность match гораздо шире - она также позволяет извлечь данные из составных типов и применить действия к различным частям объектов.\n",
    "\n",
    "Конструкция match имеет следующее формальное определение:\n",
    "```\n",
    "match выражение:\n",
    "    case шаблон_1:\n",
    "        действие_1\n",
    "    case шаблон_2:\n",
    "        действие_2\n",
    "    ................\n",
    "    case шаблон_N:\n",
    "        действие_N\n",
    "    case _:\n",
    "        действие_по_умолчанию\n",
    "```\n",
    "После ключевого слова match идет сравниваемое выражение. И затем после двоеточия на последующих строках располагаются выражения case. После каждого выражения case указывается шаблон, с которым сравнивается выражение из match. После шаблона через двоеточие указываются набор выполняемых действий блока case.\n",
    "\n",
    "Конструкция match последовательно сравнивает выражение с шаблонами из блоков case. И если был найден шаблон из какого-нибудь блока case соответствует выражению из match, то выполняются инструкции из данного блока case.\n",
    "\n",
    "В качестве паттернов/шаблонов, с которыми сравниваются выражения, могут применяться как данные примитивных типов, так и последовательности элементов и объектов классов.\n",
    "\n",
    "Вначале рассмотрим ситуацию, когда в качестве шаблона выступают литералы примитивных типов. Например, в зависимости от языка выведем приветственное сообщение:"
   ]
  },
  {
   "cell_type": "code",
   "execution_count": null,
   "id": "f8c079f1",
   "metadata": {},
   "outputs": [],
   "source": [
    "def print_hello(language):\n",
    "    match language:\n",
    "        case \"russian\":\n",
    "            print(\"Привет\")\n",
    "        case \"english\":\n",
    "            print(\"Hello\")\n",
    "        case \"german\":\n",
    "            print(\"Hallo\")\n",
    " \n",
    " \n",
    "print_hello(\"english\")      # Hello\n",
    "print_hello(\"german\")       # Hallo\n",
    "print_hello(\"russian\")      # Привет"
   ]
  },
  {
   "cell_type": "markdown",
   "id": "ea75e38e",
   "metadata": {},
   "source": [
    "Здесь функция print_hello принимает параметр language, через который передается выбранный язык. В самой функции конструкция match сравнивает значение переменной language. В блоках case определяются шаблоны - строки, с которыми сопоставляется переменная language.\n",
    "\n",
    "Например при вызове print_hello(\"english\") параметр language равен \"english\", поэтому конструкция match выберет следующий блок case:"
   ]
  },
  {
   "cell_type": "code",
   "execution_count": null,
   "id": "3aea3c32",
   "metadata": {},
   "outputs": [],
   "source": [
    "case \"english\":\n",
    "    print(\"Hello\")"
   ]
  },
  {
   "cell_type": "markdown",
   "id": "2501e118",
   "metadata": {},
   "source": [
    "Обратите внимание, что блоки case имеют отступы от начала конструкции match. А инструкции каждого блока case имеют отступы от начала данного блока case. Но если блок case имеет одну инстукцию, ее можно поместить на той же строке, что и оператор case:"
   ]
  },
  {
   "cell_type": "code",
   "execution_count": null,
   "id": "933c92b5",
   "metadata": {},
   "outputs": [],
   "source": [
    "def print_hello(language):\n",
    "    match language:\n",
    "        case \"russian\": print(\"Привет\")\n",
    "        case \"english\": print(\"Hello\")\n",
    "        case \"german\": print(\"Hallo\")\n",
    " \n",
    " \n",
    "print_hello(\"english\")      # Hello\n",
    "print_hello(\"german\")       # Hallo\n",
    "print_hello(\"russian\")      # Привет"
   ]
  },
  {
   "cell_type": "markdown",
   "id": "00b5f12a",
   "metadata": {},
   "source": [
    "Причем если выражение из match не соответствует ни одному из шаблонов case, то соответственно ни один из этих блоков case не выполняется.\n",
    "\n",
    "Если необходимо, чтобы при несовпадении значений (если ни один из шаблонов case не соответствует выражению match) выполнялись некоторые действия по умолчанию, то в этом случае применяется шаблон _ (прочерк):"
   ]
  },
  {
   "cell_type": "code",
   "execution_count": null,
   "id": "64b9b552",
   "metadata": {},
   "outputs": [],
   "source": [
    "def print_hello(language):\n",
    "    match language:\n",
    "        case \"russian\":\n",
    "            print(\"Привет\")\n",
    "        case \"english\":\n",
    "            print(\"Hello\")\n",
    "        case \"german\":\n",
    "            print(\"Hallo\")\n",
    "        case _:\n",
    "            print(\"Undefined\")\n",
    " \n",
    " \n",
    "print_hello(\"english\")      # Hello\n",
    "print_hello(\"spanish\")      # Undefined"
   ]
  },
  {
   "cell_type": "markdown",
   "id": "13b168ef",
   "metadata": {},
   "source": [
    "Если ни один из шаблонов case не соответствует значению language, то будет выполняться блок:\n",
    "```\n",
    "case _: \n",
    "    print(\"Undefined\")\n",
    "```\n",
    "Но также можно определить блок case, который позволяет сравнивать сразу с несколькими знечениями. В этом случае значения разделяются вертикальной чертой:"
   ]
  },
  {
   "cell_type": "code",
   "execution_count": null,
   "id": "4d5209ec",
   "metadata": {},
   "outputs": [],
   "source": [
    "def print_hello(language):\n",
    "    match language:\n",
    "        case \"russian\":\n",
    "            print(\"Привет\")\n",
    "        case \"american english\" | \"british english\" | \"english\":\n",
    "            print(\"Hello\")\n",
    "        case _:\n",
    "            print(\"Undefined\")\n",
    " \n",
    " \n",
    "print_hello(\"english\")              # Hello\n",
    "print_hello(\"american english\")     # Hello\n",
    "print_hello(\"spanish\")              # Undefined"
   ]
  },
  {
   "cell_type": "markdown",
   "id": "540f017d",
   "metadata": {},
   "source": [
    "В данном случае шаблон case \"american english\" | \"british english\" | \"english\" соответствует сразу трем значениям.\n",
    "\n",
    "Подобным образом можно сравнивать выражения с данными других типов. Например:"
   ]
  },
  {
   "cell_type": "code",
   "execution_count": null,
   "id": "95ac214a",
   "metadata": {},
   "outputs": [],
   "source": [
    "def operation(a, b, code):\n",
    "    match code:\n",
    "        case 1:\n",
    "            return a + b\n",
    "        case 2:\n",
    "            return a - b\n",
    "        case 3:\n",
    "            return a * b\n",
    "        case _:\n",
    "            return 0\n",
    " \n",
    " \n",
    "print(operation(10, 5, 1))      # 15\n",
    "print(operation(10, 5, 2))      # 5\n",
    "print(operation(10, 5, 3))      # 50\n",
    "\n",
    "print(operation(10, 5, 4))      # 0"
   ]
  },
  {
   "cell_type": "markdown",
   "id": "e80c5570",
   "metadata": {},
   "source": [
    "Здесь функция operation принимает два числа и код операции. Конструкция match сравнивает код операции с конкретными значениями и в зависимости от значения выполняет на числами определенную операцию. Например, если code равен 1, то выполняется выражение:\n",
    "```\n",
    "case 1:\n",
    "    return a + b\n",
    "```"
   ]
  },
  {
   "cell_type": "markdown",
   "id": "0c952af9",
   "metadata": {},
   "source": [
    "это выражение case возвратит из функцию сумму чисел a и b.\n",
    "\n",
    "Аналогично если code = 2, то возвращается разность, а если code = 3, то возвращается произведение чисел. Во всех остальных случаях возвращается 0."
   ]
  },
  {
   "cell_type": "markdown",
   "id": "0c73cc2b",
   "metadata": {},
   "source": [
    "# Кортежи в pattern matching\n",
    "В качестве шаблонов в pathern matching в Python могут выступать кортежи. Например:"
   ]
  },
  {
   "cell_type": "code",
   "execution_count": null,
   "id": "7901a519",
   "metadata": {},
   "outputs": [],
   "source": [
    "def print_data(user):\n",
    "    match user:\n",
    "        case (\"Tom\", 37):\n",
    "            print(\"default user\")\n",
    "        case (\"Tom\", age):\n",
    "            print(f\"Age: {age}\")\n",
    "        case (name, 22):\n",
    "            print(f\"Name: {name}\")\n",
    "        case (name, age):\n",
    "            print(f\"Name: {name}  Age: {age}\")\n",
    " \n",
    " \n",
    "print_data((\"Tom\", 37))     # default user\n",
    "print_data((\"Tom\", 28))     # Age: 28\n",
    "print_data((\"Sam\", 22))     # Name: Sam\n",
    "print_data((\"Bob\", 41))     # Name: Bob  Age: 41\n",
    "print_data((\"Tom\", 33, \"Google\"))    # не соответствует ни одному из шаблонов"
   ]
  },
  {
   "cell_type": "markdown",
   "id": "15c75787",
   "metadata": {},
   "source": [
    "В данном случае функция принимает параметр user, который, как предполагается, представляет кортеж из двух элементов. И конструкция match сравнивает этот кортеж с рядом шаблонов. Первый шаблон предполагает, что кортеж user точно соответствует набору значений:"
   ]
  },
  {
   "cell_type": "code",
   "execution_count": null,
   "id": "9969459f",
   "metadata": {},
   "outputs": [],
   "source": [
    "case (\"Tom\", 37):\n",
    "    print(\"default user\")"
   ]
  },
  {
   "cell_type": "markdown",
   "id": "34c3201f",
   "metadata": {},
   "source": [
    "То есть, если первый элемент кортежа равен \"Tom\", а второй - 37, то на консоль выводится строка \"default user\"\n",
    "\n",
    "Второй шаблон соответствует любому двухэлементному кортежу, первый элемент которого равен строке \"Tom\":"
   ]
  },
  {
   "cell_type": "code",
   "execution_count": null,
   "id": "3800ba49",
   "metadata": {},
   "outputs": [],
   "source": [
    "case (\"Tom\", age):\n",
    "    print(f\"Age: {age}\")"
   ]
  },
  {
   "cell_type": "markdown",
   "id": "fcb55514",
   "metadata": {},
   "source": [
    "Для второго элемента определяется переменная age. В итоге, если первый элемент кортежа равен строке \"Tom\", а второй не равен 37, то такой кортеж будет соответствовать второму шаблону. Причем второй элемент будет передаваться переменной age.\n",
    "\n",
    "Третий шаблон во многом аналогичен, только теперь строго определен второй элемент кортежа - он должен быть равен 22, а первый попадает в переменную name:"
   ]
  },
  {
   "cell_type": "code",
   "execution_count": null,
   "id": "82e3cccf",
   "metadata": {},
   "outputs": [],
   "source": [
    "case (name, 22):\n",
    "    print(f\"Name: {name}\")"
   ]
  },
  {
   "cell_type": "markdown",
   "id": "ce7174f7",
   "metadata": {},
   "source": [
    "Если двухэлементный кортеж не соответствует первому, второму и третьему шаблонам, то он будет соответствовать четвертому шаблону, в которому нам не важные конкретные значения - для них определены переменные name и age:"
   ]
  },
  {
   "cell_type": "code",
   "execution_count": null,
   "id": "3caf9f77",
   "metadata": {},
   "outputs": [],
   "source": [
    "case (name, age):\n",
    "    print(f\"Name: {name}  Age: {age}\")\n",
    "    "
   ]
  },
  {
   "cell_type": "markdown",
   "id": "75602607",
   "metadata": {},
   "source": [
    "### Альтернативные значения\n",
    "\n",
    "Если необходимо, чтобы элемент кортежа соответствовал набору значений, то эти значения можно перечислить через вертикальную черту:"
   ]
  },
  {
   "cell_type": "code",
   "execution_count": null,
   "id": "b516628e",
   "metadata": {},
   "outputs": [],
   "source": [
    "def print_data(user):\n",
    "    match user:\n",
    "        case (\"Tom\" | \"Tomas\" | \"Tommy\", 37):\n",
    "            print(\"default user\")\n",
    "        case (\"Tom\", age):\n",
    "            print(f\"Age: {age}\")\n",
    "        case (name, 22):\n",
    "            print(f\"Name: {name}\")\n",
    "        case (name, age):\n",
    "            print(f\"Name: {name}  Age: {age}\")\n",
    " \n",
    " \n",
    "print_data((\"Tom\", 37))     # default user\n",
    "print_data((\"Tomas\", 37))   # default user\n",
    "print_data((\"Tom\", 28))     # Age: 28\n",
    "print_data((\"Sam\", 37))     # Name: Sam  Age: 37"
   ]
  },
  {
   "cell_type": "markdown",
   "id": "1a9b38c4",
   "metadata": {},
   "source": [
    "В данном случае первый шаблон соответствует двухэлементному кортежу, где первый элемент равен или \"Tom\", или \"Tomas\", или \"Tommy\".\n",
    "\n",
    "Также можно задать альтернативные значения для отдельных элементов, но и альтернативные кортежи:"
   ]
  },
  {
   "cell_type": "code",
   "execution_count": null,
   "id": "7eb4b256",
   "metadata": {},
   "outputs": [],
   "source": [
    "def print_data(user):\n",
    "    match user:\n",
    "        case (\"Tom\", 37) | (\"Sam\", 22):\n",
    "            print(\"default user\")\n",
    "        case (name, age):\n",
    "            print(f\"Name: {name}  Age: {age}\")\n",
    " \n",
    " \n",
    "print_data((\"Tom\", 37))     # default user\n",
    "print_data((\"Sam\", 22))     # default user\n",
    "print_data((\"Mike\", 28))    # Name: Mike  Age: 28"
   ]
  },
  {
   "cell_type": "markdown",
   "id": "7d622827",
   "metadata": {},
   "source": [
    "В данном случае первый шаблон будет соответствовать двум кортежам: (\"Tom\", 37) и (\"Sam\", 22)\n",
    "Пропуск элементов\n",
    "\n",
    "Если нам не важен какой-то элемент кортежа, то в шаблоне вместо конкретного значния или переменной можно указать шаблон _:"
   ]
  },
  {
   "cell_type": "code",
   "execution_count": null,
   "id": "693f1e19",
   "metadata": {},
   "outputs": [],
   "source": [
    "def print_data(user):\n",
    "    match user:\n",
    "        case (\"Tom\", 37):\n",
    "            print(\"default user\")\n",
    "        case (name, _):     # второй элемент не важен\n",
    "            print(f\"Name: {name}\")\n",
    " \n",
    " \n",
    "print_data((\"Tom\", 37))     # default user\n",
    "print_data((\"Sam\", 25))     # Name: Sam\n",
    "print_data((\"Bob\", 41))     # Name: Bob"
   ]
  },
  {
   "cell_type": "markdown",
   "id": "03b21c28",
   "metadata": {},
   "source": [
    "Можно использовать прочерки для всех элементов кортежа, в этом случае значения всех этих элементов будут не важны:"
   ]
  },
  {
   "cell_type": "code",
   "execution_count": null,
   "id": "4c26d646",
   "metadata": {},
   "outputs": [],
   "source": [
    "def print_data(user):\n",
    "    match user:\n",
    "        case (\"Tom\", 37):\n",
    "            print(\"default user\")\n",
    "        case (\"Sam\", _):\n",
    "            print(\"Name: Sam\")\n",
    "        case (_, _):\n",
    "            print(\"Undefined user\")\n",
    " \n",
    " \n",
    "print_data((\"Tom\", 37))     # default user\n",
    "print_data((\"Sam\", 25))     # Name: Sam\n",
    "print_data((\"Bob\", 41))     # Undefined user"
   ]
  },
  {
   "cell_type": "markdown",
   "id": "6aa25c11",
   "metadata": {},
   "source": [
    "В причем в последнем случае шаблон (_, _) по прежнему соответствует только двухэлементному кортежу\n",
    "\n",
    "В примере выше применяемые шаблоны соответствовали только двухэлементному кортежу. Однако также можно использовать одновременно шаблоны кортежей с разным количеством элементов:"
   ]
  },
  {
   "cell_type": "code",
   "execution_count": null,
   "id": "47c1ac0b",
   "metadata": {},
   "outputs": [],
   "source": [
    "def print_data(user):\n",
    "    match user:\n",
    "        case (name, age):\n",
    "            print(f\"Name: {name}  Age: {age}\")\n",
    "        case (name, age, company):\n",
    "            print(f\"Name: {name}  Age: {age}  Company: {company}\")\n",
    "        case (name, age, company, lang):\n",
    "            print(f\"Name: {name}  Age: {age}  Company: {company} Language: {lang}\")\n",
    " \n",
    " \n",
    "print_data((\"Tom\", 37))                     # Name: Tom  Age: 37\n",
    "print_data((\"Sam\", 22, \"Microsoft\"))        # Name: Sam  Age: 22  Company: Microsoft\n",
    "print_data((\"Bob\", 41, \"Google\", \"english\"))    \n",
    "# Name: Bob  Age: 41  Company: Google Language: english"
   ]
  },
  {
   "cell_type": "markdown",
   "id": "79cc0a64",
   "metadata": {},
   "source": [
    "### Кортеж с неопределенным количеством элементов\n",
    "\n",
    "Если необходимо сравнивать выражение с кортежем неопределенной длины, то можно определять все остальные значения кортежа с помощью символа * (звездочки):"
   ]
  },
  {
   "cell_type": "code",
   "execution_count": null,
   "id": "e156a905",
   "metadata": {},
   "outputs": [],
   "source": [
    "def print_data(user):\n",
    "    match user:\n",
    "        case (\"Tom\", 37, *rest):\n",
    "            print(f\"Rest: {rest}\")\n",
    "        case (name, age, *rest):\n",
    "            print(f\"{name} ({age}): {rest}\")\n",
    " \n",
    " \n",
    "print_data((\"Tom\", 37))               # Rest: []\n",
    "print_data((\"Tom\", 37, \"Google\"))     # Rest: [\"Google\"]\n",
    "print_data((\"Bob\", 41, \"Microsoft\", \"english\"))     # Bob (41): [\"Microsoft\", \"english\"]"
   ]
  },
  {
   "cell_type": "markdown",
   "id": "2e537a6c",
   "metadata": {},
   "source": [
    "В примере выше применяется параметр *rest, который соответствует всем остальным элементам. То есть в примере выше шаблоны (\"Tom\", 37, *rest) и (name, age, *rest) соответствуют любому кортежу с двумя элементами и больше. Все элементы начиная с третьего будут помещаться в параметр rest, который представляет массив значений.\n",
    "\n",
    "Если нам этот параметр (rest) не важен, но мы по прежнему хотим, чтобы шаблон соответствовал кортежу с неопределенным количеством элементов, мы можем использовать подшаблон *_:"
   ]
  },
  {
   "cell_type": "code",
   "execution_count": null,
   "id": "15359bdb",
   "metadata": {},
   "outputs": [],
   "source": [
    "def print_data(user):\n",
    "    match user:\n",
    "        case (\"Tom\", 37, *_):\n",
    "            print(\"Default user\")\n",
    "        case (name, age, *_):\n",
    "            print(f\"{name} ({age})\")\n",
    " \n",
    "\n",
    " \n",
    "print_data((\"Tom\", 37))               # Default user\n",
    "print_data((\"Tom\", 37, \"Google\"))     # Default user\n",
    "print_data((\"Bob\", 41, \"Microsoft\", \"english\"))     # Bob (41)"
   ]
  },
  {
   "cell_type": "markdown",
   "id": "1968ac69",
   "metadata": {},
   "source": [
    "# Массивы в pattern matching\n",
    "В качестве шаблонов также могут выступать массивы. Подобным шаблоны также могут содержать либо конкретные значения, либо переменные, которые передаются элементы массивов, либо символ прочерка _, если элемент массива не важен:"
   ]
  },
  {
   "cell_type": "code",
   "execution_count": null,
   "id": "cff04b85",
   "metadata": {},
   "outputs": [],
   "source": [
    "def print_people(people):\n",
    "    match people:\n",
    "        case [\"Tom\", \"Sam\", \"Bob\"]:\n",
    "            print(\"default people\")\n",
    "        case [\"Tom\", second, _]:\n",
    "            print(f\"Second Person: {second}\")\n",
    "        case [first, second, third]:\n",
    "            print(f\"{first}, {second}, {third}\")\n",
    " \n",
    " \n",
    "print_people([\"Tom\", \"Sam\", \"Bob\"])         # default people\n",
    "print_people([\"Tom\", \"Mike\", \"Bob\"])        # Second Person: Mike\n",
    "print_people([\"Alice\", \"Bill\", \"Kate\"])     # Alice, Bill, Kate\n",
    "print_people([\"Tom\", \"Kate\"])               # несоответствует ни одному из шаблонов"
   ]
  },
  {
   "cell_type": "markdown",
   "id": "58f523ef",
   "metadata": {},
   "source": [
    "В данном случае функция print_people принимает массив, который, как предполагается, состоит из трех элементов.\n",
    "\n",
    "Первый шаблон предполагает, что элементы массива имеют определенные значения:"
   ]
  },
  {
   "cell_type": "code",
   "execution_count": null,
   "id": "31e452ef",
   "metadata": {},
   "outputs": [],
   "source": [
    "case [\"Tom\", \"Sam\", \"Bob\"]:\n",
    "    print(\"default people\")"
   ]
  },
  {
   "cell_type": "markdown",
   "id": "deee77ff",
   "metadata": {},
   "source": [
    "В данном случае первый элемент массива должен представлять строку \"Tom\", второй - строку \"Sam\" и третий - строку \"Bob\".\n",
    "\n",
    "Второй шаблон предполагает, что первый элемент массива должен быть равне строке \"Tom\", остальные два элемента могут иметь произвольные значения:"
   ]
  },
  {
   "cell_type": "code",
   "execution_count": null,
   "id": "62b84e38",
   "metadata": {},
   "outputs": [],
   "source": [
    "case [\"Tom\", second, _]:\n",
    "    print(f\"Second Person: {second}\")"
   ]
  },
  {
   "cell_type": "markdown",
   "id": "eda7d477",
   "metadata": {},
   "source": [
    "При этом значение второго элемента передается в переменную second, а значение третьего элемента не важно, поэтому вместо него применяется прочерк.\n",
    "\n",
    "Третий шаблон соответствует любому массиву из трех элементов. При этом его элементы передаются в переменные first, second и third:"
   ]
  },
  {
   "cell_type": "code",
   "execution_count": null,
   "id": "9e07379e",
   "metadata": {},
   "outputs": [],
   "source": [
    "case [first, second, third]:\n",
    "    print(f\"{first}, {second}, {third}\")"
   ]
  },
  {
   "cell_type": "markdown",
   "id": "6919bbde",
   "metadata": {},
   "source": [
    "В данном случае для соответствия любому из шаблонов массив должен был иметь три элемента. Но также можно определять шаблоны для массивов разной длины:"
   ]
  },
  {
   "cell_type": "code",
   "execution_count": null,
   "id": "4fcaa7fa",
   "metadata": {},
   "outputs": [],
   "source": [
    "def print_people(people):\n",
    "    match people:\n",
    "        case [_]:\n",
    "            print(\"Массив из одного элемента\")\n",
    "        case [_, _]:\n",
    "            print(\"Массив из двух элементов\")\n",
    "        case [_, _, _]:\n",
    "            print(\"Массив из трех элементов\")\n",
    "        case _:\n",
    "            print(\"Непонятно\")\n",
    " \n",
    " \n",
    "print_people([\"Tom\"])                   # Массив из одного элемента\n",
    "print_people([\"Tom\", \"Sam\"])            # Массив из двух элементов\n",
    "print_people([\"Tom\", \"Sam\", \"Bob\"])     # Массив из трех элементов\n",
    "print_people(\"Tom\")                     # Непонятно"
   ]
  },
  {
   "cell_type": "markdown",
   "id": "3dfc3e82",
   "metadata": {},
   "source": [
    "### Массивы неопределенной длины\n",
    "\n",
    "Если необходимо сравнивать выражение с массивом неопределенной длины, то можно определить значения/переменные только для обязательных элементов массива, а на необязательные ссылаться с помощью символа * (звездочки):"
   ]
  },
  {
   "cell_type": "code",
   "execution_count": null,
   "id": "8603f8c2",
   "metadata": {},
   "outputs": [],
   "source": [
    "def print_people(people):\n",
    "    match people:\n",
    "        case [first, *other]:\n",
    "            print(f\"First: {first}  Other: {other}\")\n",
    " \n",
    " \n",
    "print_people([\"Tom\"])                   # First: Tom  Other: []\n",
    "print_people([\"Tom\", \"Sam\"])            # First: Tom  Other: [\"Sam\"]\n",
    "print_people([\"Tom\", \"Sam\", \"Bob\"])     # First: Tom  Other: [\"Sam\", \"Bob\"]"
   ]
  },
  {
   "cell_type": "markdown",
   "id": "82ebabd6",
   "metadata": {},
   "source": [
    "В примере выше применяется параметр *other, который соответствует всем остальным элементам. То есть шаблон [first, *other] соответствует любому массиву, который имеет как минимум один элемент, и этот элемент будет помещаться в параметр first. Все остальные элементы помещаются в параметр other, который представляет массив значений.\n",
    "\n",
    "Если нам параметр с символом * (other) не важен, но мы по прежнему хотим, чтобы шаблон соответствовал массиву с одним и большим количеством элементов, мы можем использовать подшаблон *_:"
   ]
  },
  {
   "cell_type": "code",
   "execution_count": null,
   "id": "2d921188",
   "metadata": {},
   "outputs": [],
   "source": [
    "def print_people(people):\n",
    "    match people:\n",
    "        case [first, *_]:\n",
    "            print(f\"First: {first}\")\n",
    " \n",
    " \n",
    "print_people([\"Tom\"])                   # First: Tom\n",
    "print_people([\"Sam\", \"Tom\"])            # First: Sam\n",
    "print_people([\"Bob\", \"Sam\", \"Tom\"])     # First: Bob"
   ]
  },
  {
   "cell_type": "markdown",
   "id": "a4e22024",
   "metadata": {},
   "source": [
    "### Альтернативные значения\n",
    "\n",
    "Если необходимо, чтобы элемент массива соответствовал набору значений, то эти значения можно перечислить через вертикальную черту:"
   ]
  },
  {
   "cell_type": "code",
   "execution_count": null,
   "id": "c40c6207",
   "metadata": {},
   "outputs": [],
   "source": [
    "def print_people(people):\n",
    "    match people:\n",
    "        case [\"Tom\" | \"Tomas\" | \"Tommy\", \"Sam\", \"Bob\"]:\n",
    "            print(\"default people\")\n",
    "        case [first, second, third]:\n",
    "            print(f\"{first}, {second}, {third}\")\n",
    " \n",
    " \n",
    "print_people([\"Tom\", \"Sam\", \"Bob\"])         # default people\n",
    "print_people([\"Tomas\", \"Sam\", \"Bob\"])       # default people\n",
    "print_people([\"Alice\", \"Bill\", \"Kate\"])     # Alice, Bill, Kate"
   ]
  },
  {
   "cell_type": "markdown",
   "id": "973e4594",
   "metadata": {},
   "source": [
    "В данном случае первый шаблон соответствует массиву из трех элементов, где первый элемент равен или \"Tom\", или \"Tomas\", или \"Tommy\".\n",
    "\n",
    "Также можно задать альтернативные значения для отдельных элементов, но и альтернативные массивы:"
   ]
  },
  {
   "cell_type": "code",
   "execution_count": null,
   "id": "fbe7af39",
   "metadata": {},
   "outputs": [],
   "source": [
    "def print_people(people):\n",
    "    match people:\n",
    "        case [\"Tom\", \"Sam\", \"Bob\"] | [\"Tomas\", \"Sam\", \"Bob\"]:\n",
    "            print(\"Tom/Tomas, Sam, Bob\")\n",
    "        case [first, second, third]:\n",
    "            print(f\"{first}, {second}, {third}\")\n",
    " \n",
    " \n",
    "print_people([\"Tom\", \"Sam\", \"Bob\"])         # Tom/Tomas, Sam, Bob\n",
    "print_people([\"Tomas\", \"Sam\", \"Bob\"])       # Tom/Tomas, Sam, Bob\n",
    "print_people([\"Alice\", \"Bill\", \"Kate\"])     # Alice, Bill, Kate"
   ]
  },
  {
   "cell_type": "markdown",
   "id": "35bf36bd",
   "metadata": {},
   "source": [
    "В данном случае первый шаблон будет соответствовать двум массивам: [\"Tom\", \"Sam\", \"Bob\"] и [\"Tomas\", \"Sam\", \"Bob\"]"
   ]
  },
  {
   "cell_type": "markdown",
   "id": "3ac1f157",
   "metadata": {},
   "source": [
    "# Словари в pattern matching\n",
    "Pattern matching позволяет проверить наличие в словаре определнных ключей и значений:"
   ]
  },
  {
   "cell_type": "code",
   "execution_count": null,
   "id": "a7cc5d92",
   "metadata": {},
   "outputs": [],
   "source": [
    "def look(words):\n",
    "    match words:\n",
    "        case {\"red\": \"красный\", \"blue\": \"синий\"}:  # если в словаре words слова red и blue\n",
    "            print(\"Слова red и blue есть в словаре\")\n",
    "        case {\"red\": \"красный\"}:        # если в словаре words есть слово red\n",
    "            print(\"Слово red есть в словаре, а слово blue отсутствует\")\n",
    "        case {\"blue\": \"синий\"}:        # если в словаре words есть слово blue\n",
    "            print(\"Слово blue есть в словаре, а слово red отсутствует\")\n",
    "        case {}:\n",
    "            print(\"Слова red и blue в словаре отсутствует\")\n",
    "        case _:\n",
    "            print(\"Это не словарь\")\n",
    " \n",
    " \n",
    "look({\"red\": \"красный\", \"blue\": \"синий\", \"green\": \"зеленый\"})   # Слова red и blue есть в словаре\n",
    "look({\"red\": \"красный\", \"green\": \"зеленый\"})        # Слово red есть в словаре, а слово blue отсутствует\n",
    "look({\"blue\": \"синий\", \"green\": \"зеленый\"})         # Слово blue есть в словаре, а слово red отсутствует\n",
    "look({\"green\": \"зеленый\"})                          # Слова red и blue в словаре отсутствует\n",
    "look(\"yelllow\")                                     # Это не словарь"
   ]
  },
  {
   "cell_type": "markdown",
   "id": "a22b2d28",
   "metadata": {},
   "source": [
    "Здесь предполагается, что в функцию look передается словарь. Первый шаблон"
   ]
  },
  {
   "cell_type": "code",
   "execution_count": null,
   "id": "9f4f351c",
   "metadata": {},
   "outputs": [],
   "source": [
    "case {\"red\": \"красный\", \"blue\": \"синий\"}:  # если в словаре words слова red и blue\n",
    "    print(\"Слова red и blue есть в словаре\")"
   ]
  },
  {
   "cell_type": "markdown",
   "id": "82f20e7c",
   "metadata": {},
   "source": [
    "соответствует словарю, в котором есть два элемента со следующими ключами и значениями: \"red\": \"красный\" и \"blue\": \"синий\".\n",
    "\n",
    "Второй шаблон ({\"red\": \"красный\"}) соответствует любому словарю, где есть элемент \"red\": \"красный\". Аналогично третий шаблон ({\"blue\": \"синий\"}) соответствует любому словарю, где есть элемент \"blue\": \"синий\"\n",
    "\n",
    "Четвертый шаблон - case {} соответствует в принципе любому словарю.\n",
    "\n",
    "Последний шаблон соответствует любому значению и применяется на случай, если в функцию передан не словарь.\n",
    "Передача набора значений\n",
    "\n",
    "С помощью вертикальной черты | можно определить альтернативные значения:"
   ]
  },
  {
   "cell_type": "code",
   "execution_count": null,
   "id": "53f3e044",
   "metadata": {},
   "outputs": [],
   "source": [
    "def look(words):\n",
    "    match words:\n",
    "        case {\"red\": \"красный\" | \"алый\" | \"червонный\"}:  # если значение \"красный\", \"алый\" или \"червонный\"\n",
    "            print(\"Слово red есть в словаре\")\n",
    "        case {}:\n",
    "            print(\"Слово red в словаре отсутствует или имеет некорректное значение\")\n",
    " \n",
    " \n",
    "look({\"red\": \"красный\", \"green\": \"зеленый\"})        # Слово red есть в словаре\n",
    "look({\"red\": \"алый\", \"green\": \"зеленый\"})           # Слово red есть в словаре\n",
    "look({\"green\": \"зеленый\"})    # Слово red в словаре отсутствует или имеет некорректное значение"
   ]
  },
  {
   "cell_type": "markdown",
   "id": "631e85cb",
   "metadata": {},
   "source": [
    "В данном случае шаблон {\"red\": \"красный\" | \"алый\" | \"червонный\"} соответствует словарю, в котором есть элемент с ключом \"red\" и значением \"красный\" или \"алый\" или \"червонный\".\n",
    "\n",
    "Также можно задать альтернативный набор словарей:"
   ]
  },
  {
   "cell_type": "code",
   "execution_count": null,
   "id": "bd0d71a0",
   "metadata": {},
   "outputs": [],
   "source": [
    "def look(words):\n",
    "    match words:\n",
    "        case {\"red\": \"красный\"} | {\"blue\": \"синий\"} :\n",
    "            print(\"либо red, либо blue есть в словаре\")\n",
    "        case {}:\n",
    "            print(\"надо проверить слова red и blue\")\n",
    " \n",
    " \n",
    "look({\"red\": \"красный\", \"green\": \"зеленый\"})    # либо red, либо blue есть в словаре\n",
    "look({\"blue\": \"синий\", \"green\": \"зеленый\"})     # либо red, либо blue есть в словаре\n",
    "look({\"green\": \"зеленый\"})                      # надо проверить слова red и blue"
   ]
  },
  {
   "cell_type": "markdown",
   "id": "52b45481",
   "metadata": {},
   "source": [
    "Первый шаблон - {\"red\": \"красный\"} | {\"blue\": \"синий\"} соответствует словарю, в котором есть либо элемент {\"red\": \"красный\"}, или {\"blue\": \"синий\"}, или оба.\n",
    "\n",
    "Если нам важны сами ключи, но не важно значение ключей, то вместо конкретных значений можно передать шаблон _:"
   ]
  },
  {
   "cell_type": "code",
   "execution_count": null,
   "id": "e896fdd5",
   "metadata": {},
   "outputs": [],
   "source": [
    "def look(words):\n",
    "    match words:\n",
    "        case {\"red\": _, \"blue\": _}:\n",
    "            print(\"Слова red и blue есть в словаре\")\n",
    "        case {}:\n",
    "            print(\"red и/или blue отсутствуют в словаре\")\n",
    " \n",
    " \n",
    "look({\"red\": \"красный\", \"blue\": \"синий\"})       # Слова red и blue есть в словаре\n",
    "look({\"red\": \"алый\", \"blue\": \"синий\"})          # Слова red и blue есть в словаре\n",
    "look({\"red\": \"красный\", \"green\": \"зеленый\"})    # red и/или blue отсутствуют в словаре"
   ]
  },
  {
   "cell_type": "markdown",
   "id": "ee0e0667",
   "metadata": {},
   "source": [
    "### Получение значений по ключам\n",
    "\n",
    "Pattern matching позволяет получить значения элементов в переменные в виде:\n",
    "\n",
    "> {ключ: переменная}\n",
    "\n",
    "Например:"
   ]
  },
  {
   "cell_type": "code",
   "execution_count": null,
   "id": "a7c41c1c",
   "metadata": {},
   "outputs": [],
   "source": [
    "def look(words):\n",
    "    match words:\n",
    "        case {\"red\": red, \"blue\": blue}:\n",
    "            print(f\"red: {red}  blue: {blue}\")\n",
    "        case {}:\n",
    "            print(\"надо проверить слова red и blue\")\n",
    " \n",
    " \n",
    "look({\"red\": \"красный\", \"blue\": \"синий\"})    # red: красный  blue: синий\n",
    "look({\"red\": \"алый\", \"blue\": \"синий\"})    # red: алый  blue: синий"
   ]
  },
  {
   "cell_type": "markdown",
   "id": "a1caf613",
   "metadata": {},
   "source": [
    "В первом шаблоне значение элемента с ключом \"red\" попадает в переменную red, а элемента с ключом \"blue\" - в переменную blue.\n",
    "Получение всех значений\n",
    "\n",
    "С помощью символов __** (двойная звездочка)__ можно получить остальные элементы словаря:"
   ]
  },
  {
   "cell_type": "code",
   "execution_count": null,
   "id": "79cc8ff8",
   "metadata": {},
   "outputs": [],
   "source": [
    "def look(words):\n",
    "    match words:\n",
    "        case {\"red\": red, **rest}:\n",
    "            print(f\"red: {red}\")\n",
    "            for key in rest:        # rest - тоже словарь\n",
    "                print(f\"{key}: {rest[key]}\")\n",
    " \n",
    " \n",
    "look({\"red\": \"красный\", \"blue\": \"синий\", \"green\": \"зеленый\"})\n",
    "# red: красный\n",
    "# blue: синий\n",
    "# green: зеленый"
   ]
  },
  {
   "cell_type": "markdown",
   "id": "958f605c",
   "metadata": {},
   "source": [
    "Здесь шаблон `{\"red\": red, **rest}` соответствует любому словарь, в котором есть элемент с ключом \"red\". Все остальные элементы словаря помещаются в параметр rest, который сам в свою очередь представляет словарь."
   ]
  },
  {
   "cell_type": "markdown",
   "id": "8fb049ae",
   "metadata": {},
   "source": [
    "# Классы в pattern matching\n",
    "Python позволяет использовать в pattern matching в качестве шаблонов объекты классов. Рассмотрим на примере:"
   ]
  },
  {
   "cell_type": "code",
   "execution_count": null,
   "id": "c47e3c0d",
   "metadata": {},
   "outputs": [],
   "source": [
    "class Person:\n",
    "    def __init__(self, name, age):\n",
    "        self.name = name\n",
    "        self.age = age\n",
    " \n",
    " \n",
    "def print_person(person):\n",
    "    match person:\n",
    "        case Person(name=\"Tom\", age=37):\n",
    "            print(\"Default Person\")\n",
    "        case Person(name=name, age=37):\n",
    "            print(f\"Name: {name}\")\n",
    "        case Person(name=\"Tom\", age=age):\n",
    "            print(f\"Age: {age}\")\n",
    "        case Person(name=name, age=age):\n",
    "            print(f\"Name: {name}  Age: {age}\")\n",
    " \n",
    " \n",
    "print_person(Person(\"Tom\", 37))  # Default person\n",
    "print_person(Person(\"Tom\", 22))  # Age: 22\n",
    "print_person(Person(\"Sam\", 37))  # Name: Sam\n",
    "print_person(Person(\"Bob\", 41))  # Name: Bob  Age: 41"
   ]
  },
  {
   "cell_type": "markdown",
   "id": "53742dd1",
   "metadata": {},
   "source": [
    "Здесь определен класс Person, который через конструктор принимает значения для атрибутов self.name и self.age.\n",
    "\n",
    "Функция print_person принимает параметр Person, который, как предполагается, представляет объект класса Person. И внутри функции конструкция match сравнивает значение параметра person с рядом шаблонов. Каждый шаблон представляет собой определение Person, где с каждым атрибутом сопоставляется некоторое значение. Например, первый шаблон строго определяет значения обоих атрибутов:"
   ]
  },
  {
   "cell_type": "code",
   "execution_count": null,
   "id": "0ae9715d",
   "metadata": {},
   "outputs": [],
   "source": [
    "case Person(name=\"Tom\", age=37):\n",
    "    print(\"Default Person\")"
   ]
  },
  {
   "cell_type": "markdown",
   "id": "e256eb18",
   "metadata": {},
   "source": [
    "Данный шаблон соответствует объекту Person, если у этого объекта атрибут name имеет значение \"Tom\", а атрибут age - значение 37.\n",
    "\n",
    "Стоит отметить, что этот шаблон - это НЕ вызов конструктора Person. Шаблон просто устанавливает, как атрибуты сопоставляются со значениями.\n",
    "\n",
    "Второй шаблон строго задает значение только для атрибута age:"
   ]
  },
  {
   "cell_type": "code",
   "execution_count": null,
   "id": "5a0914f4",
   "metadata": {},
   "outputs": [],
   "source": [
    "case Person(name=name, age=37):\n",
    "    print(f\"Name: {name}\")"
   ]
  },
  {
   "cell_type": "markdown",
   "id": "addaf300",
   "metadata": {},
   "source": [
    "Для соответствия этому шаблону атрибут age должен быть равен 37. А атрибут name может иметь произвольное значение. И это значение передается переменной name. А запись name=name расшифровывается как атрибут_объекта=переменная. А в вызове print(f\"Name: {name}\") на консоль выводится значение переменной name, которая получила значение атрибута name.\n",
    "\n",
    "В данном случае и атрибут, и переменная имеют одинаковое значение, но это необязательно, и для переменной можно было использовать другое значение, например:"
   ]
  },
  {
   "cell_type": "code",
   "execution_count": null,
   "id": "b354c3f8",
   "metadata": {},
   "outputs": [],
   "source": [
    "case Person(name=person_name, age=37):      # переменной person_name передается значение атрибута name\n",
    "    print(f\"Name: {person_name}\")"
   ]
  },
  {
   "cell_type": "markdown",
   "id": "8643cb20",
   "metadata": {},
   "source": [
    "Третий шаблон соответствует объекту Person, у которого атрибут name равен строке \"Tom\". А значение атрибута age передается в переменную age:"
   ]
  },
  {
   "cell_type": "code",
   "execution_count": null,
   "id": "5d38cd4f",
   "metadata": {},
   "outputs": [],
   "source": [
    "case Person(name=\"Tom\", age=age):\n",
    "    print(f\"Age: {age}\")"
   ]
  },
  {
   "cell_type": "markdown",
   "id": "4e8a2d91",
   "metadata": {},
   "source": [
    "И в последнем шаблоне атрибуты name и age могут иметь произвольные значения. И эти значения передаются одноименным переменным:"
   ]
  },
  {
   "cell_type": "code",
   "execution_count": null,
   "id": "1606e931",
   "metadata": {},
   "outputs": [],
   "source": [
    "case Person(name=name, age=age):\n",
    "    print(f\"Name: {name}  Age: {age}\")"
   ]
  },
  {
   "cell_type": "markdown",
   "id": "0f2b85cd",
   "metadata": {},
   "source": [
    "При этом нам необязательно использоваться все атрибуты объекта Person. Также мы можем применить паттерн _, если нам надо обработать случаи, которые не соответствуют ни одному шаблону:"
   ]
  },
  {
   "cell_type": "code",
   "execution_count": null,
   "id": "2b56746f",
   "metadata": {},
   "outputs": [],
   "source": [
    "class Person:\n",
    "    def __init__(self, name, age):\n",
    "        self.name = name\n",
    "        self.age = age\n",
    " \n",
    " \n",
    "def print_person(person):\n",
    "    match person:\n",
    "        case Person(name=\"Tom\"):\n",
    "            print(\"Default Person\")\n",
    "        case Person(name=person_name):         # получаем только атрибут name\n",
    "            print(f\"Name: {person_name}\")\n",
    "        case _:\n",
    "            print(\"Not a Person\")\n",
    " \n",
    " \n",
    "print_person(Person(\"Tom\", 37))  # Default person\n",
    "print_person(Person(\"Sam\", 37))  # Name: Sam\n",
    "print_person(\"Tom\")              # Not a Person"
   ]
  },
  {
   "cell_type": "markdown",
   "id": "8c351736",
   "metadata": {},
   "source": [
    "В данном случае второй шаблон Person(name=person_name) соответствует любому объекту Person, при этом значение атрибута name передается переменной person_name\n",
    "\n",
    "А последний шаблон обрабатывает случаи, когда передано значение, которое не представляет объект Person.\n",
    "Передача набора значений\n",
    "\n",
    "Также с помощью вертикальной черты можно определить набор значений, которые должен иметь атрибут:"
   ]
  },
  {
   "cell_type": "code",
   "execution_count": null,
   "id": "d31a936d",
   "metadata": {},
   "outputs": [],
   "source": [
    "def print_person(person):\n",
    "    match person:\n",
    "        case Person(name=\"Tom\" | \"Tomas\" | \"Tommy\"):\n",
    "            print(\"Default Person\")\n",
    "        case Person(name=person_name):         # получаем только атрибут name\n",
    "            print(f\"Name: {person_name}\")\n",
    "        case _:\n",
    "            print(\"Not a Person\")\n",
    " \n",
    " \n",
    "print_person(Person(\"Tom\", 37))     # Default person\n",
    "print_person(Person(\"Tomas\", 37))   # Default person"
   ]
  },
  {
   "cell_type": "markdown",
   "id": "5f68a51f",
   "metadata": {},
   "source": [
    "В данном случае первый шаблон соответствует объекту Person, у которого атрибут name имеет одно из трех значений: \"Tom\", \"Tomas\" или \"Tommy\".\n",
    "\n",
    "Также можно задавать альтернативные значения для всего шаблона в том числе с помощью объектов других классов:"
   ]
  },
  {
   "cell_type": "code",
   "execution_count": null,
   "id": "17238e3c",
   "metadata": {},
   "outputs": [],
   "source": [
    "class Person:\n",
    "    def __init__(self, name, age):\n",
    "        self.name = name\n",
    "        self.age = age\n",
    " \n",
    " \n",
    "class Student:\n",
    "    def __init__(self, name):\n",
    "        self.name = name\n",
    " \n",
    " \n",
    "def print_person(person):\n",
    "    match person:\n",
    "        case Person(name=\"Tom\") | Student(name=\"Tomas\"):\n",
    "            print(\"Default Person/Student\")\n",
    "        case Person(name=name) | Student(name=name):    # получаем только атрибут name\n",
    "            print(f\"Name: {name}\")\n",
    "        case _:\n",
    "            print(\"Not a Person or Student\")\n",
    " \n",
    " \n",
    "print_person(Person(\"Tom\", 37))     # Default Person/Student\n",
    "print_person(Student(\"Tomas\"))      # Default Person/Student\n",
    " \n",
    "print_person(Person(\"Bob\", 41))     # Name: Bob\n",
    "print_person(Student(\"Mike\"))       # Name: Mike\n",
    " \n",
    "print_person(\"Tom\")                 # Not a Person or Student"
   ]
  },
  {
   "cell_type": "markdown",
   "id": "95fdeda3",
   "metadata": {},
   "source": [
    "Здесь первый шаблон"
   ]
  },
  {
   "cell_type": "code",
   "execution_count": null,
   "id": "55d5191b",
   "metadata": {},
   "outputs": [],
   "source": [
    "case Person(name=\"Tom\") | Student(name=\"Tomas\")"
   ]
  },
  {
   "cell_type": "markdown",
   "id": "f8f09d3f",
   "metadata": {},
   "source": [
    "соответствет любому объекту Person, у которого атрибут name = \"Tom, и любому объекту Student, у которого атрибут name = \"Tomas\".\n",
    "\n",
    "Второй шаблон - case Person(name=name) | Student(name=name) соответствует любому объекту Person и Student.\n",
    "Позиционные параметры\n",
    "\n",
    "В примерах выше для определения атрибутов прописывалось их имя: case Person(name=\"Tom\", age=37). Но если используется куча шаблонов, и в каждом необходимо связать атрибуты объекта с некоторыми значениями или переменными, то постоянное упоминание атрибутов можно несколько раздуть код. Но Python также позволяет использовать позиционные параметры:"
   ]
  },
  {
   "cell_type": "code",
   "execution_count": null,
   "id": "2dafba7f",
   "metadata": {},
   "outputs": [],
   "source": [
    "class Person:\n",
    "    __match_args__ = (\"name\", \"age\")\n",
    "    def __init__(self, name, age):\n",
    "        self.name = name\n",
    "        self.age = age\n",
    " \n",
    " \n",
    "def print_person(person):\n",
    "    match person:\n",
    "        case Person(\"Tom\", 37):\n",
    "            print(\"Default Person\")\n",
    "        case Person(person_name, 37):\n",
    "            print(f\"Name: {person_name}\")\n",
    "        case Person(\"Tom\", person_age):\n",
    "            print(f\"Age: {person_age}\")\n",
    "        case Person(person_name, person_age):\n",
    "            print(f\"Name: {person_name}  Age: {person_age}\")\n",
    " \n",
    " \n",
    "print_person(Person(\"Tom\", 37))  # Default person\n",
    "print_person(Person(\"Tom\", 22))  # Age: 22\n",
    "print_person(Person(\"Sam\", 37))  # Name: Sam\n",
    "print_person(Person(\"Bob\", 41))  # Name: Bob  Age: 41"
   ]
  },
  {
   "cell_type": "markdown",
   "id": "7e945573",
   "metadata": {},
   "source": [
    "Обратите внимание в классе Person на вызов функции:"
   ]
  },
  {
   "cell_type": "code",
   "execution_count": null,
   "id": "923f71f2",
   "metadata": {},
   "outputs": [],
   "source": [
    "__match_args__ = (\"name\", \"age\")"
   ]
  },
  {
   "cell_type": "markdown",
   "id": "e9f27589",
   "metadata": {},
   "source": [
    "Благодаря этому Python будет знать, что при указании атрибутов атрибут name будет идти первым, а атрибут age - вторым.\n",
    "\n",
    "И таким образом, в шаблонов не нужно указывать имя атрибута: case Person(\"Tom\", 37) - Python сам сопоставит атрибуты и значения/переменные на основе их позиции."
   ]
  },
  {
   "cell_type": "markdown",
   "id": "266bb0d6",
   "metadata": {},
   "source": [
    "# guards или ограничения шаблонов\n",
    "__Guard__ или ограничения шаблонов позволяют установить дополнительные условия, которым должно соответсвовать выражение. Ограничение задается сразу после шаблона с помощью ключевого слова if, после которого идет условие ограничения:"
   ]
  },
  {
   "cell_type": "code",
   "execution_count": null,
   "id": "40e5e0e5",
   "metadata": {},
   "outputs": [],
   "source": [
    "class Person:\n",
    "    def __init__(self, name, age):\n",
    "        self.name = name\n",
    "        self.age = age\n",
    " \n",
    " \n",
    "def enter(person):\n",
    "    match person:\n",
    "        case Person(name=name, age=age) if age < 18:\n",
    "            print(f\"{name}, доступ запрещен\")\n",
    "        case Person(name=name):\n",
    "            print(f\"{name}, добро пожаловать!\")\n",
    " \n",
    " \n",
    "enter(Person(\"Tom\", 37))        # Tom, добро пожаловать!\n",
    "enter(Person(\"Sam\", 12))        # Sam, доступ запрещен"
   ]
  },
  {
   "cell_type": "markdown",
   "id": "59074274",
   "metadata": {},
   "source": [
    "Здесь первый шаблон"
   ]
  },
  {
   "cell_type": "code",
   "execution_count": null,
   "id": "1a0204a6",
   "metadata": {},
   "outputs": [],
   "source": [
    "case Person(name=name, age=age) if age < 18:\n",
    "    print(f\"{name}, доступ запрещен\")"
   ]
  },
  {
   "cell_type": "markdown",
   "id": "6241d9cb",
   "metadata": {},
   "source": [
    "Соответствует любому объекту Person, у которого атрибут age меньше 18. Собственно часть if age < 18 и представляет ограничение. Соответственно, если у пользователя возраст меньше 18, то будет выводьтся одно сообщение, если больше 18, то другое.\n",
    "\n",
    "Подобным образом можно вводить дополнительные ограничения:"
   ]
  },
  {
   "cell_type": "code",
   "execution_count": null,
   "id": "bdebd333",
   "metadata": {},
   "outputs": [],
   "source": [
    "class Person:\n",
    "    def __init__(self, name, age):\n",
    "        self.name = name\n",
    "        self.age = age\n",
    " \n",
    " \n",
    "def enter(person):\n",
    "    match person:\n",
    "        case Person(name=name, age=age) if age < 18:\n",
    "            print(f\"{name}, доступ запрещен\")\n",
    "        case Person(name=name, age=age) if age < 22:\n",
    "            print(f\"{name}, доступ  ограничен\")\n",
    "        case Person(name=name):\n",
    "            print(f\"{name}, у вас полноценный доступ!\")\n",
    " \n",
    " \n",
    "enter(Person(\"Tom\", 37))        # Tom, у вас полноценный доступ!\n",
    "enter(Person(\"Bob\", 20))        # Bob, доступ  ограничен\n",
    "enter(Person(\"Sam\", 12))        # Sam, доступ запрещен"
   ]
  },
  {
   "cell_type": "markdown",
   "id": "21cc57d0",
   "metadata": {},
   "source": [
    "Условия ограничений могут быть более сложными и составными по структуре:"
   ]
  },
  {
   "cell_type": "code",
   "execution_count": null,
   "id": "6650040e",
   "metadata": {},
   "outputs": [],
   "source": [
    "def check_data(data):\n",
    "    match data:\n",
    "        case name, age if name == \"admin\" or age not in range(1, 101):\n",
    "            print(\"Некорректные значения\")\n",
    "        case name, age:\n",
    "            print(f\"Данные проверены. Name: {name}  Age: {age}\")\n",
    " \n",
    " \n",
    "check_data((\"admin\", -45))      # Некорректные значения\n",
    "check_data((\"Tom\", 37))         # Данные проверены. Name: Tom  Age: 37"
   ]
  },
  {
   "cell_type": "markdown",
   "id": "3b75189e",
   "metadata": {},
   "source": [
    "В данном случае функция получает кортеж data. Оба шаблона в конструкции match соответствуют двухэлементному кортежу. Но первый шаблон также применяет ограничение name == \"admin\" or age not in range(1, 101), в соответствии с которым первый элемент кортежа должен иметь значение \"admin\", а второй должен находиться вне диапазона 1-101."
   ]
  },
  {
   "cell_type": "markdown",
   "id": "6c0e42c4",
   "metadata": {},
   "source": [
    "# Установка псевдонимов и паттерн AS\n",
    "Оператор __as__ позволяет установить псевдоним для значения шаблона или для всего шаблона. Простейший пример:"
   ]
  },
  {
   "cell_type": "code",
   "execution_count": null,
   "id": "c9c4ddaf",
   "metadata": {},
   "outputs": [],
   "source": [
    "def print_person(person):\n",
    "    match person:\n",
    "        case \"Tom\" | \"Tomas\" | \"Tommy\" as name:\n",
    "            print(f\"Name: {name}\")\n",
    "        case _:\n",
    "            print(\"Undefined\")\n",
    " \n",
    " \n",
    "print_person(\"Tom\")     # Name: Tom\n",
    "print_person(\"Tomas\")   # Name: Tomas\n",
    "print_person(\"Bob\")     # Undefined"
   ]
  },
  {
   "cell_type": "markdown",
   "id": "d9ff0d6e",
   "metadata": {},
   "source": [
    "Здесь первый шаблон соответствует трем строкам: \"Tom\" | \"Tomas\" | \"Tommy\". После набора значений идет оператор as, после которого указывается псевдоним. И вне зависимости от того, какая именно строка передана, она окажется в переменной name.\n",
    "\n",
    "Псевдоним можно применять как для отдельного значения шаблона, так и для всего шаблона:"
   ]
  },
  {
   "cell_type": "code",
   "execution_count": null,
   "id": "3bce63d4",
   "metadata": {},
   "outputs": [],
   "source": [
    "def print_person(person):\n",
    "    match person:\n",
    "        case (\"Tom\" | \"Tomas\" as name, 37 | 38 as age):   # псевдонимы для отдельных значений\n",
    "            print(f\"Tom| Name: {name}  Age: {age}\")\n",
    "        case (\"Bob\" | \"Robert\", 41 | 42) as bob:          # псевдоним для всего шаблона\n",
    "            print(f\"Bob| Name: {bob[0]}  Age: {bob[1]}\")\n",
    "        case _:\n",
    "            print(\"Undefined\")\n",
    " \n",
    " \n",
    "print_person((\"Tomas\", 38))     # Tom| Name: Tomas  Age: 38\n",
    "print_person((\"Robert\", 41))    # Bob| Name: Robert  Age: 41"
   ]
  },
  {
   "cell_type": "markdown",
   "id": "b91d6d6b",
   "metadata": {},
   "source": [
    "Обычно псевдонимы более применимы в каких-то более сложных по структуре данных. Например:"
   ]
  },
  {
   "cell_type": "code",
   "execution_count": null,
   "id": "e7657b11",
   "metadata": {},
   "outputs": [],
   "source": [
    "class Person:\n",
    "    __match_args__ = (\"name\", \"age\")\n",
    "    def __init__(self, name, age):\n",
    "        self.name = name\n",
    "        self.age = age\n",
    " \n",
    " \n",
    "def print_family(family):\n",
    "    match family:\n",
    "        case (Person() as husband, Person() as wife):\n",
    "            print(f\"Husband. Name: {husband.name}  Age: {husband.age}\")\n",
    "            print(f\"Wife. Name: {wife.name}  Age: {wife.age}\")\n",
    "        case _:\n",
    "            print(\"Undefined\")\n",
    " \n",
    " \n",
    "print_family((Person(\"Tom\", 37), Person(\"Alice\", 33)))\n",
    "# Husband. Name: Tom  Age: 37\n",
    "# Wife. Name: Alice  Age: 33\n",
    " \n",
    "print_family((Person(\"Sam\", 28), Person(\"Kate\", 25)))\n",
    "# Husband. Name: Sam  Age: 28\n",
    "# Wife. Name: Kate  Age: 25"
   ]
  },
  {
   "cell_type": "markdown",
   "id": "207df478",
   "metadata": {},
   "source": [
    "Здесь функция print_family принимает кортеж, который должен состоять из двух элементов Person. В первом шаблоне определяем для первого элемента псевдоним husband, а для второго - псевдоним wife. Затем, используя эти псевдонимы, мы можкем обращаться к их атрибутам."
   ]
  }
 ],
 "metadata": {
  "kernelspec": {
   "display_name": "Python 3 (ipykernel)",
   "language": "python",
   "name": "python3"
  },
  "language_info": {
   "codemirror_mode": {
    "name": "ipython",
    "version": 3
   },
   "file_extension": ".py",
   "mimetype": "text/x-python",
   "name": "python",
   "nbconvert_exporter": "python",
   "pygments_lexer": "ipython3",
   "version": "3.8.10"
  }
 },
 "nbformat": 4,
 "nbformat_minor": 5
}

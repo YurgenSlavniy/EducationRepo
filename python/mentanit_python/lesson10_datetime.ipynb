{
 "cells": [
  {
   "cell_type": "markdown",
   "id": "82198aa9",
   "metadata": {},
   "source": [
    "# https://metanit.com/python/tutorial/8.1.php\n",
    "# Работа с датами и временем\n",
    "# Модуль datetime\n",
    "\n",
    "Основной функционал для работы с датами и временем сосредоточен в модуле __datetime__ в виде следующих классов:\n",
    "\n",
    "- __date__\n",
    "\n",
    "- __time__\n",
    "\n",
    "- __datetime__\n",
    "\n",
    "### Класс date\n",
    "\n",
    "Для работы с датами воспользуемся классом __date__, который определен в модуле __datetime__. Для создания объекта date мы можем использовать конструктор date, который последовательно принимает три параметра: год, месяц и день.\n",
    "\n",
    "> date(year, month, day)\n",
    "\n",
    "Например, создадим какую-либо дату:"
   ]
  },
  {
   "cell_type": "code",
   "execution_count": 1,
   "id": "d1fcb375",
   "metadata": {},
   "outputs": [
    {
     "name": "stdout",
     "output_type": "stream",
     "text": [
      "2017-05-02\n"
     ]
    }
   ],
   "source": [
    "import datetime\n",
    " \n",
    "yesterday = datetime.date(2017,5, 2)\n",
    "print(yesterday)      # 2017-05-02"
   ]
  },
  {
   "cell_type": "markdown",
   "id": "55a1e525",
   "metadata": {},
   "source": [
    "Если необходимо получить текущую дату, то можно воспользоваться методом __today()__:"
   ]
  },
  {
   "cell_type": "code",
   "execution_count": 2,
   "id": "26ea35fa",
   "metadata": {},
   "outputs": [
    {
     "name": "stdout",
     "output_type": "stream",
     "text": [
      "2023-12-20\n",
      "20.12.2023\n"
     ]
    }
   ],
   "source": [
    "from datetime import date\n",
    " \n",
    "today = date.today()\n",
    "print(today)      # 2017-05-03\n",
    "print(\"{}.{}.{}\".format(today.day, today.month, today.year))      # 2.5.2017"
   ]
  },
  {
   "cell_type": "markdown",
   "id": "13742585",
   "metadata": {},
   "source": [
    "С помощью свойств day, month, year можно получить соответственно день, месяц и год\n",
    "### Класс time\n",
    "\n",
    "За работу с временем отвечает __класс time__. Используя его конструктор, можно создать объект времени:"
   ]
  },
  {
   "cell_type": "markdown",
   "id": "e8dde520",
   "metadata": {},
   "source": [
    "> time([hour] [, min] [, sec] [, microsec])"
   ]
  },
  {
   "cell_type": "markdown",
   "id": "bf86147b",
   "metadata": {},
   "source": [
    "Конструктор последовательно принимает часы, минуты, секунды и микросекунды. Все параметры необязательные, и если мы какой-то параметр не передадим, то соответствующее значение будет инициализироваться нулем."
   ]
  },
  {
   "cell_type": "code",
   "execution_count": 3,
   "id": "69965617",
   "metadata": {},
   "outputs": [
    {
     "name": "stdout",
     "output_type": "stream",
     "text": [
      "00:00:00\n",
      "16:25:00\n",
      "16:25:45\n"
     ]
    }
   ],
   "source": [
    "from datetime import time\n",
    " \n",
    "current_time = time()\n",
    "print(current_time)     # 00:00:00\n",
    " \n",
    "current_time = time(16, 25)\n",
    "print(current_time)     # 16:25:00\n",
    " \n",
    "current_time = time(16, 25, 45)\n",
    "print(current_time)     # 16:25:45"
   ]
  },
  {
   "cell_type": "markdown",
   "id": "fe8a365a",
   "metadata": {},
   "source": [
    "### Класс datetime\n",
    "\n",
    "__Класс datetime__ из одноименного модуля объединяет возможности работы с датой и временем. Для создания объекта datetime можно использовать следующий конструктор:"
   ]
  },
  {
   "cell_type": "markdown",
   "id": "0553d4f9",
   "metadata": {},
   "source": [
    "> datetime(year, month, day [, hour] [, min] [, sec] [, microsec])"
   ]
  },
  {
   "cell_type": "markdown",
   "id": "4aaa3ce4",
   "metadata": {},
   "source": [
    "Первые три параметра, представляющие год, месяц и день, являются обязательными. Остальные необязательные, и если мы не укажем для них значения, то по умолчанию они инициализируются нулем."
   ]
  },
  {
   "cell_type": "code",
   "execution_count": 4,
   "id": "8c098864",
   "metadata": {},
   "outputs": [
    {
     "name": "stdout",
     "output_type": "stream",
     "text": [
      "2017-05-10 00:00:00\n",
      "2017-05-10 04:30:00\n"
     ]
    }
   ],
   "source": [
    "from datetime import datetime\n",
    " \n",
    "deadline = datetime(2017, 5, 10)\n",
    "print(deadline)     # 2017-05-10 00:00:00\n",
    " \n",
    "deadline = datetime(2017, 5, 10, 4, 30)\n",
    "print(deadline)     # 2017-05-10 04:30:00"
   ]
  },
  {
   "cell_type": "markdown",
   "id": "6a090517",
   "metadata": {},
   "source": [
    "Для получения текущих даты и времени можно вызвать метод __now()__:"
   ]
  },
  {
   "cell_type": "code",
   "execution_count": 5,
   "id": "3769fe78",
   "metadata": {},
   "outputs": [
    {
     "name": "stdout",
     "output_type": "stream",
     "text": [
      "2023-12-20 09:02:04.881784\n",
      "20.12.2023  9:2\n",
      "2023-12-20\n",
      "09:02:04.881784\n"
     ]
    }
   ],
   "source": [
    "from datetime import datetime\n",
    " \n",
    "now = datetime.now()\n",
    "print(now)     # 2017-05-03 11:18:56.239443\n",
    " \n",
    "print(\"{}.{}.{}  {}:{}\".format(now.day, now.month, now.year, now.hour, now.minute))  # 3.5.2017  11:21\n",
    " \n",
    "print(now.date())\n",
    "print(now.time())"
   ]
  },
  {
   "cell_type": "markdown",
   "id": "4827870e",
   "metadata": {},
   "source": [
    "С помощью свойств day, month, year, hour, minute, second можно получить отдельные значения даты и времени. А через методы __date()__ и __time()__ можно получить отдельно дату и время соответственно.\n",
    "Преобразование из строки в дату\n",
    "\n",
    "Из функциональности __класса datetime__ следует отметить метод __strptime()__, который позволяет распарсить строку и преобразовать ее в дату. Этот метод принимает два параметра:"
   ]
  },
  {
   "cell_type": "markdown",
   "id": "1995630a",
   "metadata": {},
   "source": [
    "> strptime(str, format)"
   ]
  },
  {
   "cell_type": "markdown",
   "id": "2d3e93df",
   "metadata": {},
   "source": [
    "Первый параметр str представляет строковое определение даты и времени, а второй параметр - формат, который определяет, как различные части даты и времени расположены в этой строке.\n",
    "\n",
    "Для определения формата мы можем использовать следующие коды:\n",
    "\n",
    "- __%d__: день месяца в виде числа\n",
    "\n",
    "- __%m__: порядковый номер месяца\n",
    "\n",
    "- __%y__: год в виде 2-х чисел\n",
    "\n",
    "- __%Y__: год в виде 4-х чисел\n",
    "\n",
    "- __%H__: час в 24-х часовом формате\n",
    "\n",
    "- __%M__: минута\n",
    "\n",
    "- __%S__: секунда\n",
    "\n",
    "Применим различные форматы:"
   ]
  },
  {
   "cell_type": "code",
   "execution_count": 6,
   "id": "dd345533",
   "metadata": {},
   "outputs": [
    {
     "name": "stdout",
     "output_type": "stream",
     "text": [
      "2017-05-22 00:00:00\n",
      "2017-05-22 12:30:00\n",
      "2017-05-22 12:30:00\n"
     ]
    }
   ],
   "source": [
    "from datetime import datetime\n",
    "deadline = datetime.strptime(\"22/05/2017\", \"%d/%m/%Y\")\n",
    "print(deadline)     # 2017-05-22 00:00:00\n",
    " \n",
    "deadline = datetime.strptime(\"22/05/2017 12:30\", \"%d/%m/%Y %H:%M\")\n",
    "print(deadline)     # 2017-05-22 12:30:00\n",
    " \n",
    "deadline = datetime.strptime(\"05-22-2017 12:30\", \"%m-%d-%Y %H:%M\")\n",
    "print(deadline)     # 2017-05-22 12:30:00"
   ]
  },
  {
   "cell_type": "markdown",
   "id": "ff536099",
   "metadata": {},
   "source": [
    "# Операции с датами\n",
    "### Фоматирование дат и времени\n",
    "\n",
    "Для форматирования объектов __date__ и __time__ в обоих этих классах предусмотрен метод __strftime(format)__. Этот метод принимает только один параметр, указывающий на формат, в который нужно преобразовать дату или время.\n",
    "\n",
    "Для определения формата мы можем использовать один из следующих кодов форматирования:\n",
    "\n",
    "- __%a__: аббревиатура дня недели. Например, Wed - от слова Wednesday (по умолчанию используются английские наименования)\n",
    "\n",
    "- __%A__: день недели полностью, например, Wednesday\n",
    "\n",
    "- __%b__: аббревиатура названия месяца. Например, Oct (сокращение от October)\n",
    "\n",
    "- __%B__: название месяца полностью, например, October\n",
    "\n",
    "- __%d__: день месяца, дополненный нулем, например, 01\n",
    "\n",
    "- __%m__: номер месяца, дополненный нулем, например, 05\n",
    "\n",
    "- __%y__: год в виде 2-х чисел\n",
    "\n",
    "- __%Y__: год в виде 4-х чисел\n",
    "\n",
    "- __%H__: час в 24-х часовом формате, например, 13\n",
    "\n",
    "- __%I__: час в 12-ти часовом формате, например, 01\n",
    "\n",
    "- __%M__: минута\n",
    "\n",
    "- __%S__: секунда\n",
    "\n",
    "- __%f__: микросекунда\n",
    "\n",
    "- __%p__: указатель AM/PM\n",
    "\n",
    "- __%c__: дата и время, отформатированные под текущую локаль\n",
    "\n",
    "- __%x__: дата, отформатированная под текущую локаль\n",
    "\n",
    "- __%X__: время, форматированное под текущую локаль\n",
    "\n",
    "Используем различные форматы:"
   ]
  },
  {
   "cell_type": "code",
   "execution_count": 8,
   "id": "9557f293",
   "metadata": {},
   "outputs": [
    {
     "name": "stdout",
     "output_type": "stream",
     "text": [
      "2023-12-20\n",
      "20/12/2023\n",
      "20/12/23\n",
      "20 December 2023 (Wednesday)\n",
      "20/12/23 09:09\n"
     ]
    }
   ],
   "source": [
    "from datetime import datetime\n",
    "now = datetime.now()\n",
    "print(now.strftime(\"%Y-%m-%d\"))             # 2017-05-03\n",
    "print(now.strftime(\"%d/%m/%Y\"))             # 03/05/2017\n",
    "print(now.strftime(\"%d/%m/%y\"))             # 03/05/17\n",
    "print(now.strftime(\"%d %B %Y (%A)\"))        # 03 May 2017 (Wednesday)\n",
    "print(now.strftime(\"%d/%m/%y %I:%M\"))       # 03/05/17 01:36"
   ]
  },
  {
   "cell_type": "markdown",
   "id": "2cc157bc",
   "metadata": {},
   "source": [
    "При выводе названий месяцев и дней недели по умолчанию используются английские наименования. Если мы хотим использовать текущую локаль, то мы можем ее предварительно установить с помощью модуля locale:"
   ]
  },
  {
   "cell_type": "code",
   "execution_count": 9,
   "id": "2dfdcfae",
   "metadata": {},
   "outputs": [
    {
     "name": "stdout",
     "output_type": "stream",
     "text": [
      "20 декабря 2023 (Среда)\n"
     ]
    }
   ],
   "source": [
    "from datetime import datetime\n",
    "import locale\n",
    "locale.setlocale(locale.LC_ALL, \"\")\n",
    " \n",
    "now = datetime.now()\n",
    "print(now.strftime(\"%d %B %Y (%A)\"))        # 03 Май 2017 (среда)"
   ]
  },
  {
   "cell_type": "markdown",
   "id": "da13f94d",
   "metadata": {},
   "source": [
    "### Сложение и вычитание дат и времени\n",
    "\n",
    "Нередко при работе с датами возникает необходимость добавить к какой-либо дате определенный промежуток времени или, наоборот, вычесть некоторый период. И специально для таких операций в модуле datetime определен класс timedelta. Фактически этот класс определяет некоторый период времени.\n",
    "\n",
    "Для определения промежутка времени можно использовать конструктор timedelta:\n",
    "\n",
    "> timedelta([days] [, seconds] [, microseconds] [, milliseconds] [, minutes] [, hours] [, weeks])\n",
    "\n",
    "В конструктор мы последовательно передаем дни, секунды, микросекунды, миллисекунды, минуты, часы и недели.\n",
    "\n",
    "Определим несколько периодов:"
   ]
  },
  {
   "cell_type": "code",
   "execution_count": 10,
   "id": "451ff235",
   "metadata": {},
   "outputs": [
    {
     "name": "stdout",
     "output_type": "stream",
     "text": [
      "3:00:00\n"
     ]
    }
   ],
   "source": [
    "from datetime import timedelta\n",
    " \n",
    "three_hours = timedelta(hours=3)\n",
    "print(three_hours)       # 3:00:00\n",
    "three_hours_thirty_minutes = timedelta(hours=3, minutes=30)  # 3:30:00\n",
    " \n",
    "two_days = timedelta(2)  # 2 days, 0:00:00\n",
    " \n",
    "two_days_three_hours_thirty_minutes = timedelta(days=2, hours=3, minutes=30)  # 2 days, 3:30:00"
   ]
  },
  {
   "cell_type": "markdown",
   "id": "26369f4e",
   "metadata": {},
   "source": [
    "Используя __timedelta__, мы можем складывать или вычитать даты. Например, получим дату, которая будет через два дня:"
   ]
  },
  {
   "cell_type": "code",
   "execution_count": 11,
   "id": "340ab56f",
   "metadata": {},
   "outputs": [
    {
     "name": "stdout",
     "output_type": "stream",
     "text": [
      "2023-12-20 09:10:25.983980\n",
      "2023-12-22 09:10:25.983980\n"
     ]
    }
   ],
   "source": [
    "from datetime import timedelta, datetime\n",
    " \n",
    "now = datetime.now()\n",
    "print(now)                      # 2017-05-03 17:46:44.558754\n",
    "two_days = timedelta(2)\n",
    "in_two_days = now + two_days\n",
    "print(in_two_days)              # 2017-05-05 17:46:44.558754"
   ]
  },
  {
   "cell_type": "markdown",
   "id": "ecb9cda1",
   "metadata": {},
   "source": [
    "Или узнаем, сколько было времени 10 часов 15 минут назад, то есть фактически нам надо вычесть из текущего времени 10 часов и 15 минут:"
   ]
  },
  {
   "cell_type": "code",
   "execution_count": 12,
   "id": "c7f96337",
   "metadata": {},
   "outputs": [
    {
     "name": "stdout",
     "output_type": "stream",
     "text": [
      "2023-12-19 22:55:49.230803\n"
     ]
    }
   ],
   "source": [
    "from datetime import timedelta, datetime\n",
    " \n",
    "now = datetime.now()\n",
    "till_ten_hours_fifteen_minutes = now - timedelta(hours=10, minutes=15)\n",
    "print(till_ten_hours_fifteen_minutes) "
   ]
  },
  {
   "cell_type": "markdown",
   "id": "3157484a",
   "metadata": {},
   "source": [
    "### Свойства timedelta\n",
    "\n",
    "Класс timedelta имеет несколько свойств, с помощью которых мы можем получить временной промежуток:\n",
    "\n",
    "- __days__: возвращает количество дней\n",
    "\n",
    "- __seconds__: возвращает количество секунд\n",
    "\n",
    "- __microseconds__: возвращает количество микросекунд\n",
    "\n",
    "Кроме того, метод total_seconds() возвращает общее количество секунд, куда входят и дни, и собственно секунды, и микросекунды.\n",
    "\n",
    "Например, узнаем какой временной период между двумя датами:"
   ]
  },
  {
   "cell_type": "code",
   "execution_count": 13,
   "id": "210968a3",
   "metadata": {},
   "outputs": [
    {
     "name": "stdout",
     "output_type": "stream",
     "text": [
      "-2404 дней  53345 секунд   691069 микросекунд\n",
      "Всего: -207652254.308931 секунд\n"
     ]
    }
   ],
   "source": [
    "from datetime import timedelta, datetime\n",
    " \n",
    "now = datetime.now()\n",
    "twenty_two_may = datetime(2017, 5, 22)\n",
    "period = twenty_two_may - now\n",
    "print(\"{} дней  {} секунд   {} микросекунд\".format(period.days, period.seconds, period.microseconds))\n",
    "# 18 дней  17537 секунд   72765 микросекунд\n",
    " \n",
    "print(\"Всего: {} секунд\".format(period.total_seconds()))\n",
    "# Всего: 1572737.072765 секунд"
   ]
  },
  {
   "cell_type": "markdown",
   "id": "39e47609",
   "metadata": {},
   "source": [
    "### Сравнение дат\n",
    "\n",
    "Также как и строки и числа, даты можно сравнивать с помощью стандартных операторов сравнения:"
   ]
  },
  {
   "cell_type": "code",
   "execution_count": 14,
   "id": "62992c55",
   "metadata": {},
   "outputs": [
    {
     "name": "stdout",
     "output_type": "stream",
     "text": [
      "Срок сдачи проекта прошел\n"
     ]
    }
   ],
   "source": [
    "from datetime import datetime\n",
    " \n",
    "now = datetime.now()\n",
    "deadline = datetime(2017, 5, 22)\n",
    "if now > deadline:\n",
    "    print(\"Срок сдачи проекта прошел\")\n",
    "elif now.day == deadline.day and now.month == deadline.month and now.year == deadline.year:\n",
    "    print(\"Срок сдачи проекта сегодня\")\n",
    "else:\n",
    "    period = deadline - now\n",
    "    print(\"Осталось {} дней\".format(period.days))"
   ]
  }
 ],
 "metadata": {
  "kernelspec": {
   "display_name": "Python 3 (ipykernel)",
   "language": "python",
   "name": "python3"
  },
  "language_info": {
   "codemirror_mode": {
    "name": "ipython",
    "version": 3
   },
   "file_extension": ".py",
   "mimetype": "text/x-python",
   "name": "python",
   "nbconvert_exporter": "python",
   "pygments_lexer": "ipython3",
   "version": "3.8.10"
  }
 },
 "nbformat": 4,
 "nbformat_minor": 5
}

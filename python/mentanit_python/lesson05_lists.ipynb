{
 "cells": [
  {
   "cell_type": "markdown",
   "id": "b2443412",
   "metadata": {},
   "source": [
    "# https://metanit.com/python/tutorial/3.1.php\n",
    "\n",
    "# Списки, кортежи и словари\n",
    "# Список\n",
    "\n",
    "Для работы с наборами данных Python предоставляет такие встроенные типы как списки, кортежи и словари.\n",
    "\n",
    "__Список (list)__ представляет тип данных, который хранит набор или последовательность элементов. Во многих языках программирования есть аналогичная структура данных, которая называется массив.\n",
    "Создание списка\n",
    "\n",
    "Для создания списка применяются квадратные скобки `[]`, внутри которых через запятую перечисляются элементы списка. Например, определим список чисел:"
   ]
  },
  {
   "cell_type": "code",
   "execution_count": 1,
   "id": "26d0b0ff",
   "metadata": {},
   "outputs": [],
   "source": [
    "numbers = [1, 2, 3, 4, 5]"
   ]
  },
  {
   "cell_type": "markdown",
   "id": "46e3115a",
   "metadata": {},
   "source": [
    "Подобным образом можно определять списки с данными других типов, например, определим список строк:"
   ]
  },
  {
   "cell_type": "code",
   "execution_count": 2,
   "id": "101ca66e",
   "metadata": {},
   "outputs": [],
   "source": [
    "people = [\"Tom\", \"Sam\", \"Bob\"]"
   ]
  },
  {
   "cell_type": "markdown",
   "id": "ad6b211d",
   "metadata": {},
   "source": [
    "Также для создания списка можно использовать функцию-конструктор __list()__:"
   ]
  },
  {
   "cell_type": "code",
   "execution_count": 3,
   "id": "290bd832",
   "metadata": {},
   "outputs": [],
   "source": [
    "numbers1 = []\n",
    "numbers2 = list()"
   ]
  },
  {
   "cell_type": "markdown",
   "id": "6129f179",
   "metadata": {},
   "source": [
    "Оба этих определения списка аналогичны - они создают пустой список.\n",
    "\n",
    "Список необязательно должен содержать только однотипные объекты. Мы можем поместить в один и тот же список одновременно строки, числа, объекты других типов данных:"
   ]
  },
  {
   "cell_type": "code",
   "execution_count": 4,
   "id": "5efdd1c9",
   "metadata": {},
   "outputs": [],
   "source": [
    "objects = [1, 2.6, \"Hello\", True]"
   ]
  },
  {
   "cell_type": "markdown",
   "id": "ba7ded22",
   "metadata": {},
   "source": [
    "Для проверки элементов списка можно использовать стандартную функцию print, которая выводит содержимое списка в удобочитаемом виде:"
   ]
  },
  {
   "cell_type": "code",
   "execution_count": 5,
   "id": "1c01d0a3",
   "metadata": {},
   "outputs": [
    {
     "name": "stdout",
     "output_type": "stream",
     "text": [
      "[1, 2, 3, 4, 5]\n",
      "['Tom', 'Sam', 'Bob']\n"
     ]
    }
   ],
   "source": [
    "numbers = [1, 2, 3, 4, 5]\n",
    "people = [\"Tom\", \"Sam\", \"Bob\"]\n",
    " \n",
    "print(numbers)  # [1, 2, 3, 4, 5]\n",
    "print(people)   # [\"Tom\", \"Sam\", \"Bob\"]"
   ]
  },
  {
   "cell_type": "markdown",
   "id": "6c470b3c",
   "metadata": {},
   "source": [
    "Конструктор __list__ может принимать набор значений, на основе которых создается список:"
   ]
  },
  {
   "cell_type": "code",
   "execution_count": 6,
   "id": "dac4e497",
   "metadata": {},
   "outputs": [
    {
     "name": "stdout",
     "output_type": "stream",
     "text": [
      "[1, 2, 3, 4, 5]\n",
      "['H', 'e', 'l', 'l', 'o']\n"
     ]
    }
   ],
   "source": [
    "numbers1 = [1, 2, 3, 4, 5]\n",
    "numbers2 = list(numbers1)\n",
    "print(numbers2)  # [1, 2, 3, 4, 5]\n",
    " \n",
    "letters = list(\"Hello\")\n",
    "print(letters)      # ['H', 'e', 'l', 'l', 'o']"
   ]
  },
  {
   "cell_type": "markdown",
   "id": "1de81fa3",
   "metadata": {},
   "source": [
    "Если необходимо создать список, в котором повторяется одно и то же значение несколько раз, то можно использовать символ звездочки `*`, то есть фактически применить операцию умножения к уже существующему списку:"
   ]
  },
  {
   "cell_type": "code",
   "execution_count": 7,
   "id": "15cf4412",
   "metadata": {},
   "outputs": [
    {
     "name": "stdout",
     "output_type": "stream",
     "text": [
      "[5, 5, 5, 5, 5, 5]\n",
      "['Tom', 'Tom', 'Tom']\n",
      "['Bob', 'Sam', 'Bob', 'Sam']\n"
     ]
    }
   ],
   "source": [
    "numbers = [5] * 6   # 6 раз повторяем 5\n",
    "print(numbers)      # [5, 5, 5, 5, 5, 5]\n",
    " \n",
    "people = [\"Tom\"] * 3    # 3 раза повторяем \"Tom\"\n",
    "print(people)           # [\"Tom\", \"Tom\", \"Tom\"]\n",
    " \n",
    "students = [\"Bob\", \"Sam\"] * 2   # 2 раза повторяем \"Bob\", \"Sam\"\n",
    "print(students)                 # [\"Bob\", \"Sam\", \"Bob\", \"Sam\"]"
   ]
  },
  {
   "cell_type": "markdown",
   "id": "56530f87",
   "metadata": {},
   "source": [
    "### Обращение к элементам списка\n",
    "\n",
    "Для обращения к элементам списка надо использовать индексы, которые представляют номер элемента в списка. Индексы начинаются с нуля. То есть первый элемент будет иметь индекс 0, второй элемент - индекс 1 и так далее. Для обращения к элементам с конца можно использовать отрицательные индексы, начиная с -1. То есть у последнего элемента будет индекс -1, у предпоследнего - -2 и так далее."
   ]
  },
  {
   "cell_type": "code",
   "execution_count": 8,
   "id": "f120cd3c",
   "metadata": {},
   "outputs": [
    {
     "name": "stdout",
     "output_type": "stream",
     "text": [
      "Tom\n",
      "Sam\n",
      "Bob\n",
      "Sam\n",
      "Bob\n",
      "Tom\n"
     ]
    }
   ],
   "source": [
    "people = [\"Tom\", \"Sam\", \"Bob\"]\n",
    "# получение элементов с начала списка\n",
    "print(people[0])   # Tom\n",
    "print(people[1])   # Sam\n",
    "print(people[2])   # Bob\n",
    " \n",
    "# получение элементов с конца списка\n",
    "print(people[-2])   # Sam\n",
    "print(people[-1])   # Bob\n",
    "print(people[-3])   # Tom"
   ]
  },
  {
   "cell_type": "markdown",
   "id": "9ab4f981",
   "metadata": {},
   "source": [
    "Для изменения элемента списка достаточно присвоить ему новое значение:"
   ]
  },
  {
   "cell_type": "code",
   "execution_count": 9,
   "id": "7b5d449d",
   "metadata": {},
   "outputs": [
    {
     "name": "stdout",
     "output_type": "stream",
     "text": [
      "Mike\n",
      "['Tom', 'Mike', 'Bob']\n"
     ]
    }
   ],
   "source": [
    "people = [\"Tom\", \"Sam\", \"Bob\"]\n",
    " \n",
    "people[1] = \"Mike\"  # изменение второго элемента\n",
    "print(people[1])    # Mike\n",
    "print(people)       # [\"Tom\", \"Mike\", \"Bob\"]"
   ]
  },
  {
   "cell_type": "markdown",
   "id": "5b808ddf",
   "metadata": {},
   "source": [
    "### Разложение списка\n",
    "\n",
    "Python позволяет разложить список на отдельные элементы:"
   ]
  },
  {
   "cell_type": "code",
   "execution_count": 10,
   "id": "a9c158cc",
   "metadata": {},
   "outputs": [
    {
     "name": "stdout",
     "output_type": "stream",
     "text": [
      "Tom\n",
      "Bob\n",
      "Sam\n"
     ]
    }
   ],
   "source": [
    "people = [\"Tom\", \"Bob\", \"Sam\"]\n",
    " \n",
    "tom, bob, sam = people\n",
    " \n",
    "print(tom)      # Tom\n",
    "print(bob)      # Bob\n",
    "print(sam)      # Sam"
   ]
  },
  {
   "cell_type": "markdown",
   "id": "373b477a",
   "metadata": {},
   "source": [
    "В данном случае переменным tom, bob и sam последовательно присваиваются элементы из списка people. Однако следует учитывать, что количество переменных должно быть равно числу элементов присваиваемого списка.\n",
    "Перебор элементов\n",
    "\n",
    "Для перебора элементов можно использовать как цикл __for__, так и цикл __while__.\n",
    "\n",
    "Перебор с помощью цикла __for__:"
   ]
  },
  {
   "cell_type": "code",
   "execution_count": 11,
   "id": "2f2c2e9d",
   "metadata": {},
   "outputs": [
    {
     "name": "stdout",
     "output_type": "stream",
     "text": [
      "Tom\n",
      "Sam\n",
      "Bob\n"
     ]
    }
   ],
   "source": [
    "people = [\"Tom\", \"Sam\", \"Bob\"]\n",
    "for person in people:\n",
    "    print(person)"
   ]
  },
  {
   "cell_type": "markdown",
   "id": "8ded17fc",
   "metadata": {},
   "source": [
    "Здесь будет производиться перебор списка people, и каждый его элемент будет помещаться в переменную person.\n",
    "\n",
    "Перебор также можно сделать с помощью цикла __while__:"
   ]
  },
  {
   "cell_type": "code",
   "execution_count": 12,
   "id": "fcc111e7",
   "metadata": {},
   "outputs": [
    {
     "name": "stdout",
     "output_type": "stream",
     "text": [
      "Tom\n",
      "Sam\n",
      "Bob\n"
     ]
    }
   ],
   "source": [
    "people = [\"Tom\", \"Sam\", \"Bob\"]\n",
    "i = 0\n",
    "while i < len(people):\n",
    "    print(people[i])    # применяем индекс для получения элемента\n",
    "    i += 1"
   ]
  },
  {
   "cell_type": "markdown",
   "id": "c8109fd0",
   "metadata": {},
   "source": [
    "Для перебора с помощью функции len() получаем длину списка. С помощью счетчика i выводит по элементу, пока значение счетчика не станет равно длине списка.\n",
    "Сравнение списков\n",
    "\n",
    "Два списка считаются равными, если они содержат один и тот же набор элементов:"
   ]
  },
  {
   "cell_type": "code",
   "execution_count": 13,
   "id": "4116322f",
   "metadata": {},
   "outputs": [
    {
     "name": "stdout",
     "output_type": "stream",
     "text": [
      "numbers1 equal to numbers2\n"
     ]
    }
   ],
   "source": [
    "numbers1 = [1, 2, 3, 4, 5]\n",
    "numbers2 = list([1, 2, 3, 4, 5])\n",
    "if numbers1 == numbers2:\n",
    "    print(\"numbers1 equal to numbers2\")\n",
    "else:\n",
    "    print(\"numbers1 is not equal to numbers2\")"
   ]
  },
  {
   "cell_type": "markdown",
   "id": "00d444f0",
   "metadata": {},
   "source": [
    "В данном случае оба списка будут равны.\n",
    "### Получение части списка\n",
    "\n",
    "Если необходимо получить какую-то определенную часть списка, то мы можем применять специальный синтаксис, который может принимать следующие формы:\n",
    "\n",
    "- `list[:end]`: через параметр end передается индекс элемента, до которого нужно копировать список\n",
    "\n",
    "- `list[start:end]`: параметр start указывает на индекс элемента, начиная с которого надо скопировать элементы\n",
    "\n",
    "- `list[start:end:step]`: параметр step указывает на шаг, через который будут копироваться элементы из списка. По умолчанию этот параметр равен 1."
   ]
  },
  {
   "cell_type": "code",
   "execution_count": 14,
   "id": "f7668af7",
   "metadata": {},
   "outputs": [
    {
     "name": "stdout",
     "output_type": "stream",
     "text": [
      "['Tom', 'Bob', 'Alice']\n",
      "['Bob', 'Alice']\n",
      "['Bob', 'Sam', 'Bill']\n"
     ]
    }
   ],
   "source": [
    "people = [\"Tom\", \"Bob\", \"Alice\", \"Sam\", \"Tim\", \"Bill\"]\n",
    " \n",
    "slice_people1 = people[:3]   # с 0 по 3\n",
    "print(slice_people1)   # [\"Tom\", \"Bob\", \"Alice\"]\n",
    " \n",
    "slice_people2 = people[1:3]   # с 1 по 3\n",
    "print(slice_people2)   # [\"Bob\", \"Alice\"]\n",
    " \n",
    "slice_people3 = people[1:6:2]   # с 1 по 6 с шагом 2\n",
    "print(slice_people3)   # [\"Bob\", \"Sam\", \"Bill\"]"
   ]
  },
  {
   "cell_type": "markdown",
   "id": "dba6e91e",
   "metadata": {},
   "source": [
    "Можно использовать отрицательные индексы, тогда отсчет будет идти с конца, например, -1 - предпоследний, -2 - третий сконца и так далее."
   ]
  },
  {
   "cell_type": "code",
   "execution_count": 15,
   "id": "47495999",
   "metadata": {},
   "outputs": [
    {
     "name": "stdout",
     "output_type": "stream",
     "text": [
      "['Tom', 'Bob', 'Alice', 'Sam', 'Tim']\n",
      "['Sam', 'Tim']\n"
     ]
    }
   ],
   "source": [
    "people = [\"Tom\", \"Bob\", \"Alice\", \"Sam\", \"Tim\", \"Bill\"]\n",
    " \n",
    "slice_people1 = people[:-1]   # с предпоследнего по нулевой\n",
    "print(slice_people1)   # [\"Tom\", \"Bob\", \"Alice\", \"Sam\", \"Tim\", \"Bill\"]\n",
    " \n",
    "slice_people2 = people[-3:-1]   # с третьего с конца по предпоследний\n",
    "print(slice_people2)   # [ \"Sam\", \"Tim\"]"
   ]
  },
  {
   "cell_type": "markdown",
   "id": "ef993176",
   "metadata": {},
   "source": [
    "### Методы и функции по работе со списками\n",
    "\n",
    "Для управления элементами списки имеют целый ряд методов. Некоторые из них:\n",
    "\n",
    "- `append(item)`: добавляет элемент item в конец списка\n",
    "\n",
    "- `insert(index, item)`: добавляет элемент item в список по индексу index\n",
    "\n",
    "- `extend(items)`: добавляет набор элементов items в конец списка\n",
    "\n",
    "- `remove(item)`: удаляет элемент item. Удаляется только первое вхождение элемента. Если элемент не найден, генерирует исключение ValueError\n",
    "\n",
    "- `clear()`: удаление всех элементов из списка\n",
    "\n",
    "- `index(item)`: возвращает индекс элемента item. Если элемент не найден, генерирует исключение ValueError\n",
    "\n",
    "- `pop([index])`: удаляет и возвращает элемент по индексу index. Если индекс не передан, то просто удаляет последний элемент.\n",
    "\n",
    "- `count(item)`: возвращает количество вхождений элемента item в список\n",
    "\n",
    "- `sort([key])`: сортирует элементы. По умолчанию сортирует по возрастанию. Но с помощью параметра key мы можем передать функцию сортировки.\n",
    "\n",
    "- `reverse()`: расставляет все элементы в списке в обратном порядке\n",
    "\n",
    "- `copy()`: копирует список\n",
    "\n",
    "Кроме того, Python предоставляет ряд встроенных функций для работы со списками:\n",
    "\n",
    "- `len(list)`: возвращает длину списка\n",
    "\n",
    "- `sorted(list, [key])`: возвращает отсортированный список\n",
    "\n",
    "- `min(list)`: возвращает наименьший элемент списка\n",
    "\n",
    "- `max(list)`: возвращает наибольший элемент списка\n",
    "\n",
    "Добавление и удаление элементов\n",
    "\n",
    "Для добавления элемента применяются методы append(), extend и insert, а для удаления - методы remove(), pop() и clear().\n",
    "\n",
    "Использование методов:"
   ]
  },
  {
   "cell_type": "code",
   "execution_count": 16,
   "id": "574cd098",
   "metadata": {},
   "outputs": [
    {
     "name": "stdout",
     "output_type": "stream",
     "text": [
      "['Bill', 'Bob', 'Mike']\n",
      "[]\n"
     ]
    }
   ],
   "source": [
    "people = [\"Tom\", \"Bob\"]\n",
    " \n",
    "# добавляем в конец списка\n",
    "people.append(\"Alice\")  # [\"Tom\", \"Bob\", \"Alice\"]\n",
    "# добавляем на вторую позицию\n",
    "people.insert(1, \"Bill\")  # [\"Tom\", \"Bill\", \"Bob\", \"Alice\"]\n",
    "# добавляем набор элементов [\"Mike\", \"Sam\"]\n",
    "people.extend([\"Mike\", \"Sam\"])      # [\"Tom\", \"Bill\", \"Bob\", \"Alice\", \"Mike\", \"Sam\"]\n",
    "# получаем индекс элемента\n",
    "index_of_tom = people.index(\"Tom\")\n",
    "# удаляем по этому индексу\n",
    "removed_item = people.pop(index_of_tom)     # [\"Bill\", \"Bob\", \"Alice\", \"Mike\", \"Sam\"]\n",
    "# удаляем последний элемент\n",
    "last_item = people.pop()     # [\"Bill\", \"Bob\", \"Alice\", \"Mike\"]\n",
    "# удаляем элемент \"Alice\"\n",
    "people.remove(\"Alice\")      # [\"Bill\", \"Bob\", \"Mike\"]\n",
    "print(people)       # [\"Bill\", \"Bob\", \"Mike\"]\n",
    "# удаляем все элементы\n",
    "people.clear()\n",
    "print(people)       # []"
   ]
  },
  {
   "cell_type": "markdown",
   "id": "8e42ccf0",
   "metadata": {},
   "source": [
    "### Проверка наличия элемента\n",
    "\n",
    "Если определенный элемент не найден, то методы remove и index генерируют исключение. Чтобы избежать подобной ситуации, перед операцией с элементом можно проверять его наличие с помощью ключевого слова in:"
   ]
  },
  {
   "cell_type": "code",
   "execution_count": 17,
   "id": "9aa4aa69",
   "metadata": {},
   "outputs": [
    {
     "name": "stdout",
     "output_type": "stream",
     "text": [
      "['Tom', 'Bob', 'Sam']\n"
     ]
    }
   ],
   "source": [
    "people = [\"Tom\", \"Bob\", \"Alice\", \"Sam\"]\n",
    " \n",
    "if \"Alice\" in people:\n",
    "    people.remove(\"Alice\")\n",
    "print(people)       # [\"Tom\", \"Bob\", \"Sam\"]"
   ]
  },
  {
   "cell_type": "markdown",
   "id": "b228579f",
   "metadata": {},
   "source": [
    "Выражение if \"Alice\" in people возвращает True, если элемент \"Alice\" имеется в списке people. Поэтому конструкция if \"Alice\" in people может выполнить последующий блок инструкций в зависимости от наличия элемента в списке.\n",
    "Удаление с помощью del\n",
    "\n",
    "Python также поддерживает еще один способ удаления элементов списка - с помощью оператора del. В качестве параметра этому оператору передается удаляемый элемент или набор элементов:"
   ]
  },
  {
   "cell_type": "code",
   "execution_count": 18,
   "id": "d32d9888",
   "metadata": {},
   "outputs": [
    {
     "name": "stdout",
     "output_type": "stream",
     "text": [
      "['Tom', 'Alice', 'Sam', 'Bill', 'Kate', 'Mike']\n",
      "['Bill', 'Kate', 'Mike']\n",
      "['Bill']\n"
     ]
    }
   ],
   "source": [
    "people = [\"Tom\", \"Bob\", \"Alice\", \"Sam\", \"Bill\", \"Kate\", \"Mike\"]\n",
    " \n",
    "del people[1]   # удаляем второй элемент\n",
    "print(people)   # [\"Tom\", \"Alice\", \"Sam\", \"Bill\", \"Kate\", \"Mike\"]\n",
    "del people[:3]   # удаляем  по четвертый элемент не включая\n",
    "print(people)   # [\"Bill\", \"Kate\", \"Mike\"]\n",
    "del people[1:]   # удаляем  со второго элемента\n",
    "print(people)   # [\"Bill\"]"
   ]
  },
  {
   "cell_type": "markdown",
   "id": "b3c1fcb9",
   "metadata": {},
   "source": [
    "### Изменение подсписка\n",
    "\n",
    "Для изменения подсписка - набора элементов в списке можно использовать вышерассмотренный синтаксис `[start:end]`:"
   ]
  },
  {
   "cell_type": "code",
   "execution_count": 19,
   "id": "91e2e64b",
   "metadata": {},
   "outputs": [
    {
     "name": "stdout",
     "output_type": "stream",
     "text": [
      "[10, 11, 22, 50]\n"
     ]
    }
   ],
   "source": [
    "nums = [10, 20, 30, 40, 50]\n",
    "nums[1:4]=[11, 22]\n",
    "print(nums)     # [10, 11, 22, 50]"
   ]
  },
  {
   "cell_type": "markdown",
   "id": "441ef846",
   "metadata": {},
   "source": [
    "Здесь выражение nums[1:4] фактически обращается к подсписку [20, 30, 40]. Присвоение этому подсписку списка [11, 22] позволяет заменить элемента с 1 по 4 индекс не включая на элементы [11, 22]. И после изменения получим список [10, 11, 22, 50]\n",
    "Подсчет вхождений\n",
    "\n",
    "Если необходимо узнать, сколько раз в списке присутствует тот или иной элемент, то можно применить метод count():"
   ]
  },
  {
   "cell_type": "code",
   "execution_count": 20,
   "id": "e6df65f5",
   "metadata": {},
   "outputs": [
    {
     "name": "stdout",
     "output_type": "stream",
     "text": [
      "3\n"
     ]
    }
   ],
   "source": [
    "people = [\"Tom\", \"Bob\", \"Alice\", \"Tom\", \"Bill\", \"Tom\"]\n",
    " \n",
    "people_count = people.count(\"Tom\")\n",
    "print(people_count)      # 3"
   ]
  },
  {
   "cell_type": "markdown",
   "id": "f13b64c6",
   "metadata": {},
   "source": [
    "### Сортировка\n",
    "\n",
    "Для сортировки по возрастанию применяется метод sort():"
   ]
  },
  {
   "cell_type": "code",
   "execution_count": 21,
   "id": "e86c8aec",
   "metadata": {},
   "outputs": [
    {
     "name": "stdout",
     "output_type": "stream",
     "text": [
      "['Alice', 'Bill', 'Bob', 'Sam', 'Tom']\n"
     ]
    }
   ],
   "source": [
    "people = [\"Tom\", \"Bob\", \"Alice\", \"Sam\", \"Bill\"]\n",
    " \n",
    "people.sort()\n",
    "print(people)      # [\"Alice\", \"Bill\", \"Bob\", \"Sam\", \"Tom\"]"
   ]
  },
  {
   "cell_type": "markdown",
   "id": "de187c5f",
   "metadata": {},
   "source": [
    "Если необходимо отсортировать данные в обратном порядке, то мы можем после сортировки применить метод reverse():"
   ]
  },
  {
   "cell_type": "code",
   "execution_count": 22,
   "id": "e23b7220",
   "metadata": {},
   "outputs": [
    {
     "name": "stdout",
     "output_type": "stream",
     "text": [
      "['Tom', 'Sam', 'Bob', 'Bill', 'Alice']\n"
     ]
    }
   ],
   "source": [
    "people = [\"Tom\", \"Bob\", \"Alice\", \"Sam\", \"Bill\"]\n",
    " \n",
    "people.sort()\n",
    "people.reverse()\n",
    "print(people)      # [\"Tom\", \"Sam\", \"Bob\", \"Bill\", \"Alice\"]"
   ]
  },
  {
   "cell_type": "markdown",
   "id": "1f3668aa",
   "metadata": {},
   "source": [
    "При сортировке фактически сравниваются два объекта, и который из них \"меньше\", ставится перед тем, который \"больше\". Понятия \"больше\" и \"меньше\" довольно условны. И если для чисел все просто - числа расставляются в порядке возрастания, то для строк и других объектов ситуация сложнее. В частности, строки оцениваются по первым символам. Если первые символы равны, оцениваются вторые символы и так далее. При чем цифровой символ считается \"меньше\", чем алфавитный заглавный символ, а заглавный символ считается меньше, чем строчный.\n",
    "\n",
    "Таким образом, если в списке сочетаются строки с верхним и нижним регистром, то мы можем получить не совсем корректные результаты, так как для нас строка \"bob\" должна стоять до строки \"Tom\". И чтобы изменить стандартное поведение сортировки, мы можем передать в метод sort() в качестве параметра функцию:"
   ]
  },
  {
   "cell_type": "code",
   "execution_count": 23,
   "id": "fec7344e",
   "metadata": {},
   "outputs": [
    {
     "name": "stdout",
     "output_type": "stream",
     "text": [
      "['Bill', 'Sam', 'Tom', 'alice', 'bob']\n",
      "['alice', 'Bill', 'bob', 'Sam', 'Tom']\n"
     ]
    }
   ],
   "source": [
    "people = [\"Tom\", \"bob\", \"alice\", \"Sam\", \"Bill\"]\n",
    " \n",
    "people.sort()       # стандартная сортировка\n",
    "print(people)      # [\"Bill\", \"Sam\", \"Tom\", \"alice\", \"bob\"]\n",
    " \n",
    "people.sort(key=str.lower)  # сортировка без учета регистра\n",
    "print(people)      # [\"alice\", \"Bill\", \"bob\", \"Sam\", \"Tom\"]"
   ]
  },
  {
   "cell_type": "markdown",
   "id": "1b10c99e",
   "metadata": {},
   "source": [
    "Кроме метода sort мы можем использовать встроенную функцию sorted, которая имеет две формы:\n",
    "\n",
    "- `sorted(list)`: сортирует список list\n",
    "\n",
    "- `sorted(list, key)`: сортирует список list, применяя к элементам функцию key"
   ]
  },
  {
   "cell_type": "code",
   "execution_count": 24,
   "id": "71202730",
   "metadata": {},
   "outputs": [
    {
     "name": "stdout",
     "output_type": "stream",
     "text": [
      "['alice', 'Bill', 'bob', 'Sam', 'Tom']\n"
     ]
    }
   ],
   "source": [
    "people = [\"Tom\", \"bob\", \"alice\", \"Sam\", \"Bill\"]\n",
    " \n",
    "sorted_people = sorted(people, key=str.lower)\n",
    "print(sorted_people)      # [\"alice\", \"Bill\", \"bob\", \"Sam\", \"Tom\"]"
   ]
  },
  {
   "cell_type": "markdown",
   "id": "a68a4c0e",
   "metadata": {},
   "source": [
    "При использовании этой функции следует учитывать, что эта функция не изменяет сортируемый список, а все отсортированные элементы она помещает в новый список, который возвращается в качестве результата.\n",
    "Минимальное и максимальное значения\n",
    "\n",
    "Встроенный функции Python min() и max() позволяют найти минимальное и максимальное значения соответственно:"
   ]
  },
  {
   "cell_type": "code",
   "execution_count": 25,
   "id": "92f71922",
   "metadata": {},
   "outputs": [
    {
     "name": "stdout",
     "output_type": "stream",
     "text": [
      "1\n",
      "21\n"
     ]
    }
   ],
   "source": [
    "numbers = [9, 21, 12, 1, 3, 15, 18]\n",
    "print(min(numbers))     # 1\n",
    "print(max(numbers))     # 21"
   ]
  },
  {
   "cell_type": "markdown",
   "id": "1f6fd803",
   "metadata": {},
   "source": [
    "### Копирование списков\n",
    "\n",
    "При копировании списков следует учитывать, что списки представляют изменяемый (mutable) тип, поэтому если обе переменных будут указывать на один и тот же список, то изменение одной переменной, затронет и другую переменную:"
   ]
  },
  {
   "cell_type": "code",
   "execution_count": 26,
   "id": "480c24e0",
   "metadata": {},
   "outputs": [
    {
     "name": "stdout",
     "output_type": "stream",
     "text": [
      "['Tom', 'Bob', 'Alice', 'Sam']\n",
      "['Tom', 'Bob', 'Alice', 'Sam']\n"
     ]
    }
   ],
   "source": [
    "people1 = [\"Tom\", \"Bob\", \"Alice\"]\n",
    "people2 = people1\n",
    "people2.append(\"Sam\")   # добавляем элемент во второй список\n",
    "# people1 и people2 указывают на один и тот же список\n",
    "print(people1)   # [\"Tom\", \"Bob\", \"Alice\", \"Sam\"]\n",
    "print(people2)   # [\"Tom\", \"Bob\", \"Alice\", \"Sam\"]"
   ]
  },
  {
   "cell_type": "markdown",
   "id": "4f97b879",
   "metadata": {},
   "source": [
    "Это так называемое `\"поверхностное копирование\" (shallow copy)`. И, как правило, такое поведение нежелательное. И чтобы происходило копирование элементов, но при этом переменные указывали на разные списки, необходимо выполнить глубокое копирование `(deep copy)`. Для этого можно использовать метод __copy()__:"
   ]
  },
  {
   "cell_type": "code",
   "execution_count": 27,
   "id": "b52abec2",
   "metadata": {},
   "outputs": [
    {
     "name": "stdout",
     "output_type": "stream",
     "text": [
      "['Tom', 'Bob', 'Alice']\n",
      "['Tom', 'Bob', 'Alice', 'Sam']\n"
     ]
    }
   ],
   "source": [
    "people1 = [\"Tom\", \"Bob\", \"Alice\"]\n",
    "people2 = people1.copy()    # копируем элементы из people1 в people2\n",
    "people2.append(\"Sam\")   # добавляем элемент ТОЛЬКО во второй список\n",
    "# people1 и people2 указывают на разные списки\n",
    "print(people1)   # [\"Tom\", \"Bob\", \"Alice\"]\n",
    "print(people2)   # [\"Tom\", \"Bob\", \"Alice\", \"Sam\"]"
   ]
  },
  {
   "cell_type": "markdown",
   "id": "5f904f13",
   "metadata": {},
   "source": [
    "### Соединение списков\n",
    "\n",
    "Для объединения списков применяется операция сложения (+):"
   ]
  },
  {
   "cell_type": "code",
   "execution_count": 30,
   "id": "de91755f",
   "metadata": {},
   "outputs": [
    {
     "name": "stdout",
     "output_type": "stream",
     "text": [
      "['Tom', 'Bob', 'Alice', 'Tom', 'Sam', 'Tim', 'Bill']\n"
     ]
    }
   ],
   "source": [
    "people1 = [\"Tom\", \"Bob\", \"Alice\"]\n",
    "people2 = [\"Tom\", \"Sam\", \"Tim\", \"Bill\"]\n",
    "people3 = people1 + people2\n",
    "print(people3)   # [\"Tom\", \"Bob\", \"Alice\", \"Tom\", \"Sam\", \"Tim\", \"Bill\"]"
   ]
  },
  {
   "cell_type": "markdown",
   "id": "645e78e2",
   "metadata": {},
   "source": [
    "### Списки списков\n",
    "\n",
    "Списки кроме стандартных данных типа строк, чисел, также могут содержать другие списки. Подобные списки можно ассоциировать с таблицами, где вложенные списки выполняют роль строк. Например:"
   ]
  },
  {
   "cell_type": "code",
   "execution_count": null,
   "id": "e0d9e990",
   "metadata": {},
   "outputs": [],
   "source": [
    "people = [\n",
    "    [\"Tom\", 29],\n",
    "    [\"Alice\", 33],\n",
    "    [\"Bob\", 27]\n",
    "]\n",
    " \n",
    "print(people[0])         # [\"Tom\", 29]\n",
    "print(people[0][0])      # Tom\n",
    "print(people[0][1])      # 29"
   ]
  },
  {
   "cell_type": "markdown",
   "id": "912e143b",
   "metadata": {},
   "source": [
    "Чтобы обратиться к элементу вложенного списка, необходимо использовать пару индексов: people[0][1] - обращение ко второму элементу первого вложенного списка.\n",
    "\n",
    "Добавление, удаление и изменение общего списка, а также вложенных списков аналогично тому, как это делается с обычными (одномерными) списками:"
   ]
  },
  {
   "cell_type": "code",
   "execution_count": 31,
   "id": "ad44aa9d",
   "metadata": {},
   "outputs": [
    {
     "name": "stdout",
     "output_type": "stream",
     "text": [
      "['Bill', 41]\n",
      "['Bill', 41, '+79876543210']\n",
      "['Bill', 41]\n",
      "[['Sam', 18], ['Alice', 33], ['Bob', 27]]\n"
     ]
    }
   ],
   "source": [
    "people = [\n",
    "    [\"Tom\", 29],\n",
    "    [\"Alice\", 33],\n",
    "    [\"Bob\", 27]\n",
    "]\n",
    " \n",
    "# создание вложенного списка\n",
    "person = list()\n",
    "person.append(\"Bill\")\n",
    "person.append(41)\n",
    "# добавление вложенного списка\n",
    "people.append(person)\n",
    " \n",
    "print(people[-1])         # [\"Bill\", 41]\n",
    " \n",
    "# добавление во вложенный список\n",
    "people[-1].append(\"+79876543210\")\n",
    " \n",
    "print(people[-1])         # [\"Bill\", 41, \"+79876543210\"]\n",
    " \n",
    "# удаление последнего элемента из вложенного списка\n",
    "people[-1].pop()\n",
    "print(people[-1])         # [\"Bill\", 41]\n",
    " \n",
    "# удаление всего последнего вложенного списка\n",
    "people.pop(-1)\n",
    " \n",
    "# изменение первого элемента\n",
    "people[0] = [\"Sam\", 18]\n",
    "print(people)            # [ [\"Sam\", 18], [\"Alice\", 33], [\"Bob\", 27]]"
   ]
  },
  {
   "cell_type": "markdown",
   "id": "9289cbbb",
   "metadata": {},
   "source": [
    "Перебор вложенных списков:"
   ]
  },
  {
   "cell_type": "code",
   "execution_count": 32,
   "id": "bdb93399",
   "metadata": {},
   "outputs": [
    {
     "name": "stdout",
     "output_type": "stream",
     "text": [
      "Tom | 29 | Alice | 33 | Bob | 27 | "
     ]
    }
   ],
   "source": [
    "people = [\n",
    "    [\"Tom\", 29],\n",
    "    [\"Alice\", 33],\n",
    "    [\"Bob\", 27]\n",
    "]\n",
    " \n",
    "for person in people:\n",
    "    for item in person:\n",
    "        print(item, end=\" | \")"
   ]
  },
  {
   "cell_type": "markdown",
   "id": "12804124",
   "metadata": {},
   "source": [
    "# Кортежи\n",
    "\n",
    "__Кортеж (tuple)__ представляет последовательность элементов, которая во многом похожа на список за тем исключением, что кортеж является неизменяемым (immutable) типом. Поэтому мы не можем добавлять или удалять элементы в кортеже, изменять его.\n",
    "\n",
    "Для создания кортежа используются круглые скобки, в которые помещаются его значения, разделенные запятыми:"
   ]
  },
  {
   "cell_type": "code",
   "execution_count": 33,
   "id": "e5a243ea",
   "metadata": {},
   "outputs": [
    {
     "name": "stdout",
     "output_type": "stream",
     "text": [
      "('Tom', 23)\n"
     ]
    }
   ],
   "source": [
    "tom = (\"Tom\", 23)\n",
    "print(tom)     # (\"Tom\", 23)"
   ]
  },
  {
   "cell_type": "markdown",
   "id": "e7b3e5af",
   "metadata": {},
   "source": [
    "Также для определения кортежа мы можем просто перечислить значения через запятую без применения скобок:"
   ]
  },
  {
   "cell_type": "code",
   "execution_count": 34,
   "id": "341e0adc",
   "metadata": {},
   "outputs": [
    {
     "name": "stdout",
     "output_type": "stream",
     "text": [
      "('Tom', 23)\n"
     ]
    }
   ],
   "source": [
    "tom = \"Tom\", 23\n",
    "print(tom)     # (\"Tom\", 23)"
   ]
  },
  {
   "cell_type": "markdown",
   "id": "ef4f00a8",
   "metadata": {},
   "source": [
    "Если вдруг кортеж состоит из одного элемента, то после единственного элемента кортежа необходимо поставить запятую:"
   ]
  },
  {
   "cell_type": "code",
   "execution_count": 35,
   "id": "f660683b",
   "metadata": {},
   "outputs": [],
   "source": [
    "tom = (\"Tom\",)"
   ]
  },
  {
   "cell_type": "markdown",
   "id": "ae2f11b9",
   "metadata": {},
   "source": [
    "Для создания кортежа из другого набора элементов, например, из списка, можно передать список в функцию tuple(), которая возвратит кортеж:"
   ]
  },
  {
   "cell_type": "code",
   "execution_count": 36,
   "id": "a42a22d8",
   "metadata": {},
   "outputs": [
    {
     "name": "stdout",
     "output_type": "stream",
     "text": [
      "('Tom', 37, 'Google')\n"
     ]
    }
   ],
   "source": [
    "data = [\"Tom\", 37, \"Google\"]\n",
    "tom = tuple(data)\n",
    "print(tom)      # (\"Tom\", 37, \"Google\")"
   ]
  },
  {
   "cell_type": "markdown",
   "id": "c1caad96",
   "metadata": {},
   "source": [
    "С помощью встроенной функции len() можно получить длину кортежа:"
   ]
  },
  {
   "cell_type": "code",
   "execution_count": 37,
   "id": "7214d4d9",
   "metadata": {},
   "outputs": [
    {
     "name": "stdout",
     "output_type": "stream",
     "text": [
      "3\n"
     ]
    }
   ],
   "source": [
    "tom = (\"Tom\", 37, \"Google\")\n",
    "print(len(tom))     # 3"
   ]
  },
  {
   "cell_type": "markdown",
   "id": "a91f5e58",
   "metadata": {},
   "source": [
    "### Обращение к элементам кортежа\n",
    "\n",
    "Обращение к элементам в кортеже происходит также, как и в списке, по индексу. Индексация начинается также с нуля при получении элементов с начала списка и с -1 при получении элементов с конца списка:"
   ]
  },
  {
   "cell_type": "code",
   "execution_count": 38,
   "id": "4b0732c9",
   "metadata": {},
   "outputs": [
    {
     "name": "stdout",
     "output_type": "stream",
     "text": [
      "Tom\n",
      "37\n",
      "software developer\n"
     ]
    }
   ],
   "source": [
    "tom = (\"Tom\", 37, \"Google\", \"software developer\")\n",
    "print(tom[0])       # Tom\n",
    "print(tom[1])       # 37\n",
    "print(tom[-1])      # software developer"
   ]
  },
  {
   "cell_type": "markdown",
   "id": "97b8f60f",
   "metadata": {},
   "source": [
    "Но так как кортеж - неизменяемый тип (immutable), то мы не сможем изменить его элементы. То есть следующая запись работать не будет:"
   ]
  },
  {
   "cell_type": "code",
   "execution_count": 39,
   "id": "7a8c7f0b",
   "metadata": {},
   "outputs": [
    {
     "ename": "TypeError",
     "evalue": "'tuple' object does not support item assignment",
     "output_type": "error",
     "traceback": [
      "\u001b[0;31m---------------------------------------------------------------------------\u001b[0m",
      "\u001b[0;31mTypeError\u001b[0m                                 Traceback (most recent call last)",
      "Cell \u001b[0;32mIn[39], line 1\u001b[0m\n\u001b[0;32m----> 1\u001b[0m \u001b[43mtom\u001b[49m\u001b[43m[\u001b[49m\u001b[38;5;241;43m1\u001b[39;49m\u001b[43m]\u001b[49m \u001b[38;5;241m=\u001b[39m \u001b[38;5;124m\"\u001b[39m\u001b[38;5;124mTim\u001b[39m\u001b[38;5;124m\"\u001b[39m\n",
      "\u001b[0;31mTypeError\u001b[0m: 'tuple' object does not support item assignment"
     ]
    }
   ],
   "source": [
    "tom[1] = \"Tim\""
   ]
  },
  {
   "cell_type": "markdown",
   "id": "eb5f4df5",
   "metadata": {},
   "source": [
    "При необходимости мы можем разложить кортеж на отдельные переменные:"
   ]
  },
  {
   "cell_type": "code",
   "execution_count": 40,
   "id": "76ef09aa",
   "metadata": {},
   "outputs": [
    {
     "name": "stdout",
     "output_type": "stream",
     "text": [
      "Tom\n",
      "37\n",
      "software developer\n",
      "Google\n"
     ]
    }
   ],
   "source": [
    "name, age, company, position = (\"Tom\", 37, \"Google\", \"software developer\")\n",
    "print(name)         # Tom\n",
    "print(age)          # 37\n",
    "print(position)     # software developer\n",
    "print(company)     # Google"
   ]
  },
  {
   "cell_type": "markdown",
   "id": "453988f4",
   "metadata": {},
   "source": [
    "### Получение подкортежей\n",
    "\n",
    "Как и в списках, можно получить часть кортежа в виде другого кортежа"
   ]
  },
  {
   "cell_type": "code",
   "execution_count": 41,
   "id": "ad116b2b",
   "metadata": {},
   "outputs": [
    {
     "name": "stdout",
     "output_type": "stream",
     "text": [
      "(37, 'Google')\n",
      "('Tom', 37, 'Google')\n",
      "(37, 'Google', 'software developer')\n"
     ]
    }
   ],
   "source": [
    "tom = (\"Tom\", 37, \"Google\", \"software developer\")\n",
    " \n",
    "# получем подкортеж с 1 по 3 элемента (не включая)\n",
    "print(tom[1:3])     # (37, \"Google\")\n",
    " \n",
    "# получем подкортеж с 0 по 3 элемента (не включая)\n",
    "print(tom[:3])     # (\"Tom\", 37, \"Google\")\n",
    " \n",
    "# получем подкортеж с 1 по послдений элемент\n",
    "print(tom[1:])     # (37, \"Google\", \"software developer\")"
   ]
  },
  {
   "cell_type": "markdown",
   "id": "ea4c2817",
   "metadata": {},
   "source": [
    "### Кортеж как параметр и результат функций\n",
    "\n",
    "Особенно удобно использовать кортежи, когда необходимо возвратить из функции сразу несколько значений. Когда функция возвращает несколько значений, фактически она возвращает в кортеж:"
   ]
  },
  {
   "cell_type": "code",
   "execution_count": 42,
   "id": "6f5de057",
   "metadata": {},
   "outputs": [
    {
     "name": "stdout",
     "output_type": "stream",
     "text": [
      "('Tom', 22, 'Google')\n"
     ]
    }
   ],
   "source": [
    "def get_user():\n",
    "    name = \"Tom\"\n",
    "    age = 22\n",
    "    company = \"Google\"\n",
    "    return name, age, company\n",
    " \n",
    "user = get_user()\n",
    "print(user)     # (\"Tom\", 37, \"Google\")"
   ]
  },
  {
   "cell_type": "markdown",
   "id": "9fa1e877",
   "metadata": {},
   "source": [
    "При передаче кортежа в функцию с помощью оператора * его можно разложить на отдельные значения, которые передаются параметрам функции:"
   ]
  },
  {
   "cell_type": "code",
   "execution_count": 43,
   "id": "ee8253e4",
   "metadata": {},
   "outputs": [
    {
     "name": "stdout",
     "output_type": "stream",
     "text": [
      "Name: Tom  Age: 22  Company: Microsoft\n",
      "Name: Bob  Age: 41  Company: Apple\n"
     ]
    }
   ],
   "source": [
    "def print_person(name, age, company):\n",
    "    print(f\"Name: {name}  Age: {age}  Company: {company}\")\n",
    "\n",
    "tom = (\"Tom\", 22)\n",
    "print_person(*tom, \"Microsoft\")     # Name: Tom  Age: 22  Company: Microsoft\n",
    " \n",
    "bob = (\"Bob\", 41, \"Apple\")\n",
    "print_person(*bob)      # Name: Bob  Age: 41  Company: Apple"
   ]
  },
  {
   "cell_type": "markdown",
   "id": "2b495d11",
   "metadata": {},
   "source": [
    "### Перебор кортежей\n",
    "\n",
    "Для перебора кортежа можно использовать стандартные циклы for и while. С помощью цикла for:"
   ]
  },
  {
   "cell_type": "code",
   "execution_count": 44,
   "id": "56432fc9",
   "metadata": {},
   "outputs": [
    {
     "name": "stdout",
     "output_type": "stream",
     "text": [
      "Tom\n",
      "22\n",
      "Google\n"
     ]
    }
   ],
   "source": [
    "tom = (\"Tom\", 22, \"Google\")\n",
    "for item in tom:\n",
    "    print(item)"
   ]
  },
  {
   "cell_type": "markdown",
   "id": "fdf276ab",
   "metadata": {},
   "source": [
    "С помощью цикла __while__:"
   ]
  },
  {
   "cell_type": "code",
   "execution_count": 45,
   "id": "e20656df",
   "metadata": {},
   "outputs": [
    {
     "name": "stdout",
     "output_type": "stream",
     "text": [
      "Tom\n",
      "22\n",
      "Google\n"
     ]
    }
   ],
   "source": [
    "tom = (\"Tom\", 22, \"Google\")\n",
    " \n",
    "i = 0\n",
    "while i < len(tom):\n",
    "    print(tom[i])\n",
    "    i += 1"
   ]
  },
  {
   "cell_type": "markdown",
   "id": "bc279aee",
   "metadata": {},
   "source": [
    "### Проверка наличия значения\n",
    "\n",
    "Как для списка с помощью выражения элемент in кортеж можно проверить наличие элемента в кортеже:"
   ]
  },
  {
   "cell_type": "code",
   "execution_count": 46,
   "id": "fbd00e52",
   "metadata": {},
   "outputs": [
    {
     "name": "stdout",
     "output_type": "stream",
     "text": [
      "Пользователя зовут Tom\n"
     ]
    }
   ],
   "source": [
    "user = (\"Tom\", 22, \"Google\")\n",
    "name = \"Tom\"\n",
    "if name in user:\n",
    "    print(\"Пользователя зовут Tom\")\n",
    "else:\n",
    "    print(\"Пользователь имеет другое имя\")"
   ]
  },
  {
   "cell_type": "markdown",
   "id": "f5455b8b",
   "metadata": {},
   "source": [
    "# Диапазоны\n",
    "__Диапазоны или range__ представляют неизменяемый последовательный набор чисел. Для создания диапазов применяетя range, которая имеет следующие формы:\n",
    "\n",
    "- `range(stop)`: возвращает все целые числа от 0 до stop\n",
    "\n",
    "- `range(start, stop)`: возвращает все целые числа в промежутке от start (включая) до stop (не включая).\n",
    "\n",
    "- `range(start, stop, step)`: возвращает целые числа в промежутке от start (включая) до stop (не включая), которые увеличиваются на значение step\n",
    "\n",
    "Примеры вызовов функции __range__:"
   ]
  },
  {
   "cell_type": "code",
   "execution_count": 47,
   "id": "a240ede7",
   "metadata": {},
   "outputs": [
    {
     "data": {
      "text/plain": [
       "range(10, 2, -2)"
      ]
     },
     "execution_count": 47,
     "metadata": {},
     "output_type": "execute_result"
    }
   ],
   "source": [
    "range(5)            # 0, 1, 2, 3, 4\n",
    "range(1, 5)         # 1, 2, 3, 4\n",
    "range(2, 10, 2)     # 2, 4, 6, 8\n",
    "range(10, 2, -2)    # 10 8 6 4 "
   ]
  },
  {
   "cell_type": "markdown",
   "id": "3a4f6c75",
   "metadata": {},
   "source": [
    "Диапазоны чаще всего применяются в циклах for. Например, выведем последовательно все числа от 0 до 4:"
   ]
  },
  {
   "cell_type": "code",
   "execution_count": 48,
   "id": "33a6ed5d",
   "metadata": {},
   "outputs": [
    {
     "name": "stdout",
     "output_type": "stream",
     "text": [
      "0 1 2 3 4 "
     ]
    }
   ],
   "source": [
    "for i in range(5):\n",
    "    print(i, end=\" \")\n",
    " \n",
    "# Консольный вывод\n",
    "# 0, 1, 2, 3, 4"
   ]
  },
  {
   "cell_type": "markdown",
   "id": "1f85e226",
   "metadata": {},
   "source": [
    "Другой пример выведем таблицу умножения:"
   ]
  },
  {
   "cell_type": "code",
   "execution_count": 49,
   "id": "2c57a198",
   "metadata": {},
   "outputs": [
    {
     "name": "stdout",
     "output_type": "stream",
     "text": [
      "1\t2\t3\t4\t5\t6\t7\t8\t9\t\n",
      "\n",
      "2\t4\t6\t8\t10\t12\t14\t16\t18\t\n",
      "\n",
      "3\t6\t9\t12\t15\t18\t21\t24\t27\t\n",
      "\n",
      "4\t8\t12\t16\t20\t24\t28\t32\t36\t\n",
      "\n",
      "5\t10\t15\t20\t25\t30\t35\t40\t45\t\n",
      "\n",
      "6\t12\t18\t24\t30\t36\t42\t48\t54\t\n",
      "\n",
      "7\t14\t21\t28\t35\t42\t49\t56\t63\t\n",
      "\n",
      "8\t16\t24\t32\t40\t48\t56\t64\t72\t\n",
      "\n",
      "9\t18\t27\t36\t45\t54\t63\t72\t81\t\n",
      "\n"
     ]
    }
   ],
   "source": [
    "for i in range(1, 10):\n",
    "    for j in range(1, 10):\n",
    "        print(i * j, end=\"\\t\")\n",
    "    print(\"\\n\")"
   ]
  },
  {
   "cell_type": "markdown",
   "id": "735a21ab",
   "metadata": {},
   "source": [
    "Если нам необходим последовательный список чисел, то для его создания удобно использовать функцию range:"
   ]
  },
  {
   "cell_type": "code",
   "execution_count": null,
   "id": "f44feac1",
   "metadata": {},
   "outputs": [],
   "source": [
    "numbers = list(range(10))\n",
    "print(numbers)      # [0, 1, 2, 3, 4, 5, 6, 7, 8, 9]\n",
    "numbers = list(range(2, 10))\n",
    "print(numbers)      # [2, 3, 4, 5, 6, 7, 8, 9]\n",
    "numbers = list(range(10, 2, -2))\n",
    "print(numbers)      # [10, 8, 6, 4]"
   ]
  },
  {
   "cell_type": "markdown",
   "id": "9ddc8169",
   "metadata": {},
   "source": [
    "Преимуществом диапазонов над стандартными списками и кортежами является то, что диапазон всегда будет занимать одно и то же небольшое количество памяти вне зависимости от того, какой набор чисел представляет этот диапазон. В действительности диапазон хранит только начальное, конечное значение и приращение."
   ]
  },
  {
   "cell_type": "markdown",
   "id": "6238af2e",
   "metadata": {},
   "source": [
    "# Словари\n",
    "__Словарь (dictionary)__ в языке Python хранит коллекцию элементов, где каждый элемент имеет уникальный ключ и ассоциированое с ним некоторое значение.\n",
    "\n",
    "Определение словаря имеет следующий синтаксис:\n",
    "```\n",
    "dictionary = { ключ1:значение1, ключ2:значение2, ....}\n",
    "```\n",
    "В фигурных скобках через запятую определяется последовательность элементов, где для каждого элемента сначала указывается ключ и через двоеточие его значение.\n",
    "\n",
    "Определим словарь:"
   ]
  },
  {
   "cell_type": "code",
   "execution_count": 50,
   "id": "336762d8",
   "metadata": {},
   "outputs": [],
   "source": [
    "users = {1: \"Tom\", 2: \"Bob\", 3: \"Bill\"}"
   ]
  },
  {
   "cell_type": "markdown",
   "id": "9a3f1fe1",
   "metadata": {},
   "source": [
    "В словаре users в качестве ключей используются числа, а в качестве значений - строки. То есть элемент с ключом 1 имеет значение \"Tom\", элемент с ключом 2 - значение \"Bob\" и т.д.\n",
    "\n",
    "Другой пример:"
   ]
  },
  {
   "cell_type": "code",
   "execution_count": 51,
   "id": "f87d0293",
   "metadata": {},
   "outputs": [],
   "source": [
    "emails = {\"tom@gmail.com\": \"Tom\", \"bob@gmai.com\": \"Bob\", \"sam@gmail.com\": \"Sam\"}"
   ]
  },
  {
   "cell_type": "markdown",
   "id": "16ab1fa7",
   "metadata": {},
   "source": [
    "В словаре emails в качестве ключей используются строки - электронные адреса пользователей и в качестве значений тоже строки - имена пользователей.\n",
    "\n",
    "Но необязательно ключи и строки должны быть однотипными. Они могу представлять разные типы:"
   ]
  },
  {
   "cell_type": "code",
   "execution_count": 52,
   "id": "c2d5bcb7",
   "metadata": {},
   "outputs": [],
   "source": [
    "objects = {1: \"Tom\", \"2\": True, 3: 100.6}"
   ]
  },
  {
   "cell_type": "markdown",
   "id": "9b7e0a94",
   "metadata": {},
   "source": [
    "Мы можем также вообще определить пустой словарь без элементов:\n",
    "```\n",
    "objects = {}\n",
    "```\n",
    "или так:\n",
    "```\n",
    "objects = dict()\n",
    "```\n",
    "Преобразование списков и кортежей в словарь\n",
    "\n",
    "Несмотря на то, что словарь и список - непохожие по структуре типы, но тем не менее существует возможности для отдельных видов списков преобразования их в словарь с помощью встроенной функции __dict()__. Для этого список должен хранить набор вложенных списков. Каждый вложенный список должен состоять из двух элементов - при конвертации в словарь первый элемент станет ключом, а второй - значением:"
   ]
  },
  {
   "cell_type": "code",
   "execution_count": 53,
   "id": "8e2af893",
   "metadata": {},
   "outputs": [
    {
     "name": "stdout",
     "output_type": "stream",
     "text": [
      "{'+111123455': 'Tom', '+384767557': 'Bob', '+958758767': 'Alice'}\n"
     ]
    }
   ],
   "source": [
    "users_list = [\n",
    "    [\"+111123455\", \"Tom\"],\n",
    "    [\"+384767557\", \"Bob\"],\n",
    "    [\"+958758767\", \"Alice\"]\n",
    "]\n",
    "users_dict = dict(users_list)\n",
    "print(users_dict)      # {\"+111123455\": \"Tom\", \"+384767557\": \"Bob\", \"+958758767\": \"Alice\"}"
   ]
  },
  {
   "cell_type": "markdown",
   "id": "1a6c86b7",
   "metadata": {},
   "source": [
    "Подобным образом можно преобразовать в словарь двухмерные кортежи, которые в свою очередь содержать кортежи из двух элементов:"
   ]
  },
  {
   "cell_type": "code",
   "execution_count": 54,
   "id": "fe998bc7",
   "metadata": {},
   "outputs": [
    {
     "name": "stdout",
     "output_type": "stream",
     "text": [
      "{'+111123455': 'Tom', '+384767557': 'Bob', '+958758767': 'Alice'}\n"
     ]
    }
   ],
   "source": [
    "users_tuple = (\n",
    "    (\"+111123455\", \"Tom\"),\n",
    "    (\"+384767557\", \"Bob\"),\n",
    "    (\"+958758767\", \"Alice\")\n",
    ")\n",
    "users_dict = dict(users_tuple)\n",
    "print(users_dict)"
   ]
  },
  {
   "cell_type": "markdown",
   "id": "a827911b",
   "metadata": {},
   "source": [
    "Получение и изменение элементов\n",
    "\n",
    "Для обращения к элементам словаря после его названия в квадратных скобках указывается ключ элемента:\n",
    "```\n",
    "dictionary[ключ]\n",
    "```\n",
    "Например, получим и изменим элементы в словаре:"
   ]
  },
  {
   "cell_type": "code",
   "execution_count": 55,
   "id": "b5b3547f",
   "metadata": {},
   "outputs": [
    {
     "name": "stdout",
     "output_type": "stream",
     "text": [
      "Tom\n",
      "Bob Smith\n"
     ]
    }
   ],
   "source": [
    "users = {\n",
    "    \"+11111111\": \"Tom\",\n",
    "    \"+33333333\": \"Bob\",\n",
    "    \"+55555555\": \"Alice\"\n",
    "}\n",
    " \n",
    "# получаем элемент с ключом \"+11111111\"\n",
    "print(users[\"+11111111\"])      # Tom\n",
    " \n",
    "# установка значения элемента с ключом \"+33333333\"\n",
    "users[\"+33333333\"] = \"Bob Smith\"\n",
    "print(users[\"+33333333\"])   # Bob Smith"
   ]
  },
  {
   "cell_type": "markdown",
   "id": "d1f4932e",
   "metadata": {},
   "source": [
    "Если при установки значения элемента с таким ключом в словаре не окажется, то произойдет его добавление:"
   ]
  },
  {
   "cell_type": "code",
   "execution_count": 56,
   "id": "2062b2da",
   "metadata": {},
   "outputs": [],
   "source": [
    "users[\"+4444444\"] = \"Sam\""
   ]
  },
  {
   "cell_type": "markdown",
   "id": "5242c402",
   "metadata": {},
   "source": [
    "Но если мы попробуем получить значение с ключом, которого нет в словаре, то Python сгенерирует ошибку KeyError:"
   ]
  },
  {
   "cell_type": "code",
   "execution_count": 57,
   "id": "891ba5d3",
   "metadata": {},
   "outputs": [],
   "source": [
    "user = users[\"+4444444\"]    # KeyError"
   ]
  },
  {
   "cell_type": "markdown",
   "id": "791fba18",
   "metadata": {},
   "source": [
    "И чтобы предупредить эту ситуацию перед обращением к элементу мы можем проверять наличие ключа в словаре с помощью выражения ключ in словарь. Если ключ имеется в словаре, то данное выражение возвращает True:"
   ]
  },
  {
   "cell_type": "code",
   "execution_count": 58,
   "id": "786ea13b",
   "metadata": {},
   "outputs": [
    {
     "name": "stdout",
     "output_type": "stream",
     "text": [
      "Sam\n"
     ]
    }
   ],
   "source": [
    "key = \"+4444444\"\n",
    "if key in users:\n",
    "    user = users[key]\n",
    "    print(user)\n",
    "else:\n",
    "    print(\"Элемент не найден\")"
   ]
  },
  {
   "cell_type": "markdown",
   "id": "4d3369b5",
   "metadata": {},
   "source": [
    "Также для получения элементов можно использовать метод get, который имеет две формы:\n",
    "\n",
    "- `get(key)`: возвращает из словаря элемент с ключом key. Если элемента с таким ключом нет, то возвращает значение None\n",
    "\n",
    "- `get(key, default)`: возвращает из словаря элемент с ключом key. Если элемента с таким ключом нет, то возвращает значение по умолчанию default"
   ]
  },
  {
   "cell_type": "code",
   "execution_count": 59,
   "id": "cf9b82fa",
   "metadata": {},
   "outputs": [
    {
     "name": "stdout",
     "output_type": "stream",
     "text": [
      "Alice\n",
      "Bob\n",
      "Unknown user\n"
     ]
    }
   ],
   "source": [
    "users = {\n",
    "    \"+11111111\": \"Tom\",\n",
    "    \"+33333333\": \"Bob\",\n",
    "    \"+55555555\": \"Alice\"\n",
    "}\n",
    " \n",
    "user1 = users.get(\"+55555555\")\n",
    "print(user1)    # Alice\n",
    "user2 = users.get(\"+33333333\", \"Unknown user\")\n",
    "print(user2)    # Bob\n",
    "user3 = users.get(\"+44444444\", \"Unknown user\")\n",
    "print(user3)    # Unknown user"
   ]
  },
  {
   "cell_type": "markdown",
   "id": "ebf0725f",
   "metadata": {},
   "source": [
    "### Удаление\n",
    "\n",
    "Для удаления элемента по ключу применяется оператор del:"
   ]
  },
  {
   "cell_type": "code",
   "execution_count": 60,
   "id": "7e25dfb6",
   "metadata": {},
   "outputs": [
    {
     "name": "stdout",
     "output_type": "stream",
     "text": [
      "{'+11111111': 'Tom', '+33333333': 'Bob'}\n"
     ]
    }
   ],
   "source": [
    "users = {\n",
    "    \"+11111111\": \"Tom\",\n",
    "    \"+33333333\": \"Bob\",\n",
    "    \"+55555555\": \"Alice\"\n",
    "}\n",
    " \n",
    "del users[\"+55555555\"]\n",
    "print(users)    # { \"+11111111\": \"Tom\", \"+33333333\": \"Bob\"}"
   ]
  },
  {
   "cell_type": "markdown",
   "id": "e01c8476",
   "metadata": {},
   "source": [
    "Но стоит учитывать, что если подобного ключа не окажется в словаре, то будет выброшено исключение KeyError. Поэтому опять же перед удалением желательно проверять наличие элемента с данным ключом."
   ]
  },
  {
   "cell_type": "code",
   "execution_count": 61,
   "id": "8fed7228",
   "metadata": {},
   "outputs": [
    {
     "name": "stdout",
     "output_type": "stream",
     "text": [
      "Элемент с ключом +55555555 удален\n"
     ]
    }
   ],
   "source": [
    "users = {\n",
    "    \"+11111111\": \"Tom\",\n",
    "    \"+33333333\": \"Bob\",\n",
    "    \"+55555555\": \"Alice\"\n",
    "}\n",
    " \n",
    "key = \"+55555555\"\n",
    "if key in users:\n",
    "    del users[key]\n",
    "    print(f\"Элемент с ключом {key} удален\")\n",
    "else:\n",
    "    print(\"Элемент не найден\")"
   ]
  },
  {
   "cell_type": "markdown",
   "id": "75363f14",
   "metadata": {},
   "source": [
    "Другой способ удаления представляет метод pop(). Он имеет две формы:\n",
    "\n",
    "- `pop(key)`: удаляет элемент по ключу key и возвращает удаленный элемент. Если элемент с данным ключом отсутствует, то генерируется исключение KeyError\n",
    "\n",
    "- `pop(key, default)`: удаляет элемент по ключу key и возвращает удаленный элемент. Если элемент с данным ключом отсутствует, то возвращается значение default"
   ]
  },
  {
   "cell_type": "code",
   "execution_count": 62,
   "id": "24c43bdb",
   "metadata": {},
   "outputs": [
    {
     "name": "stdout",
     "output_type": "stream",
     "text": [
      "Alice\n",
      "Unknown user\n"
     ]
    }
   ],
   "source": [
    "users = {\n",
    "    \"+11111111\": \"Tom\",\n",
    "    \"+33333333\": \"Bob\",\n",
    "    \"+55555555\": \"Alice\"\n",
    "}\n",
    "key = \"+55555555\"\n",
    "user = users.pop(key)\n",
    "print(user)     # Alice\n",
    " \n",
    "user = users.pop(\"+4444444\", \"Unknown user\")\n",
    "print(user)     # Unknown user"
   ]
  },
  {
   "cell_type": "markdown",
   "id": "878bc27b",
   "metadata": {},
   "source": [
    "Если необходимо удалить все элементы, то в этом случае можно воспользоваться методом clear():"
   ]
  },
  {
   "cell_type": "code",
   "execution_count": 63,
   "id": "5a484ed5",
   "metadata": {},
   "outputs": [],
   "source": [
    "users.clear()"
   ]
  },
  {
   "cell_type": "markdown",
   "id": "21750e63",
   "metadata": {},
   "source": [
    "### Копирование и объединение словарей\n",
    "\n",
    "Метод __copy()__ копирует содержимое словаря, возвращая новый словарь:"
   ]
  },
  {
   "cell_type": "code",
   "execution_count": 64,
   "id": "9c83b7c5",
   "metadata": {},
   "outputs": [
    {
     "name": "stdout",
     "output_type": "stream",
     "text": [
      "{'+1111111': 'Tom', '+3333333': 'Bob', '+5555555': 'Alice'}\n"
     ]
    }
   ],
   "source": [
    "users = {\"+1111111\": \"Tom\", \"+3333333\": \"Bob\", \"+5555555\": \"Alice\"}\n",
    "students = users.copy()\n",
    "print(students)     # {\"+1111111\": \"Tom\", \"+3333333\": \"Bob\", \"+5555555\": \"Alice\"}"
   ]
  },
  {
   "cell_type": "markdown",
   "id": "da76a532",
   "metadata": {},
   "source": [
    "Метод __update()__ объединяет два словаря:"
   ]
  },
  {
   "cell_type": "code",
   "execution_count": 65,
   "id": "dda649df",
   "metadata": {},
   "outputs": [
    {
     "name": "stdout",
     "output_type": "stream",
     "text": [
      "{'+1111111': 'Tom', '+3333333': 'Bob', '+2222222': 'Sam', '+6666666': 'Kate'}\n",
      "{'+2222222': 'Sam', '+6666666': 'Kate'}\n"
     ]
    }
   ],
   "source": [
    "users = {\"+1111111\": \"Tom\", \"+3333333\": \"Bob\"}\n",
    " \n",
    "users2 = {\"+2222222\": \"Sam\", \"+6666666\": \"Kate\"}\n",
    "users.update(users2)\n",
    " \n",
    "print(users)    # {\"+1111111\": \"Tom\", \"+3333333\": \"Bob\", \"+2222222\": \"Sam\", \"+6666666\": \"Kate\"}\n",
    "print(users2)   # {\"+2222222\": \"Sam\", \"+6666666\": \"Kate\"}"
   ]
  },
  {
   "cell_type": "markdown",
   "id": "a36e25db",
   "metadata": {},
   "source": [
    "При этом словарь users2 остается без изменений. Изменяется только словарь users, в который добавляются элементы другого словаря. Но если необходимо, чтобы оба исходных словаря были без изменений, а результатом объединения был какой-то третий словарь, то можно предварительно скопировать один словарь в другой:"
   ]
  },
  {
   "cell_type": "code",
   "execution_count": 66,
   "id": "8ba781a5",
   "metadata": {},
   "outputs": [],
   "source": [
    "users3 = users.copy()\n",
    "users3.update(users2)"
   ]
  },
  {
   "cell_type": "markdown",
   "id": "4ee87ac0",
   "metadata": {},
   "source": [
    "### Перебор словаря\n",
    "\n",
    "Для перебора словаря можно воспользоваться циклом __for__:"
   ]
  },
  {
   "cell_type": "code",
   "execution_count": 67,
   "id": "92ed3080",
   "metadata": {},
   "outputs": [
    {
     "name": "stdout",
     "output_type": "stream",
     "text": [
      "Phone: +11111111  User: Tom \n",
      "Phone: +33333333  User: Bob \n",
      "Phone: +55555555  User: Alice \n"
     ]
    }
   ],
   "source": [
    "users = {\n",
    "    \"+11111111\": \"Tom\",\n",
    "    \"+33333333\": \"Bob\",\n",
    "    \"+55555555\": \"Alice\"\n",
    "}\n",
    "for key in users:\n",
    "    print(f\"Phone: {key}  User: {users[key]} \")"
   ]
  },
  {
   "cell_type": "markdown",
   "id": "8befff12",
   "metadata": {},
   "source": [
    "При переборе элементов мы получаем ключ текущего элемента и по нему можем получить сам элемент.\n",
    "\n",
    "Другой способ перебора элементов представляет использование метода __items()__:"
   ]
  },
  {
   "cell_type": "code",
   "execution_count": 68,
   "id": "826e3470",
   "metadata": {},
   "outputs": [
    {
     "name": "stdout",
     "output_type": "stream",
     "text": [
      "Phone: +11111111  User: Tom \n",
      "Phone: +33333333  User: Bob \n",
      "Phone: +55555555  User: Alice \n"
     ]
    }
   ],
   "source": [
    "users = {\n",
    "    \"+11111111\": \"Tom\",\n",
    "    \"+33333333\": \"Bob\",\n",
    "    \"+55555555\": \"Alice\"\n",
    "}\n",
    "for key, value in users.items():\n",
    "    print(f\"Phone: {key}  User: {value} \")"
   ]
  },
  {
   "cell_type": "markdown",
   "id": "145b9ea2",
   "metadata": {},
   "source": [
    "Метод __items()__ возвращает набор кортежей. Каждый кортеж содержит ключ и значение элемента, которые при переборе мы тут же можем получить в переменные __key и value__.\n",
    "\n",
    "Также существуют отдельно возможности перебора ключей и перебора значений. Для перебора ключей мы можем вызвать у словаря метод __keys()__:"
   ]
  },
  {
   "cell_type": "code",
   "execution_count": 69,
   "id": "5db563ec",
   "metadata": {},
   "outputs": [
    {
     "name": "stdout",
     "output_type": "stream",
     "text": [
      "+11111111\n",
      "+33333333\n",
      "+55555555\n"
     ]
    }
   ],
   "source": [
    "for key in users.keys():\n",
    "    print(key)"
   ]
  },
  {
   "cell_type": "markdown",
   "id": "e7aa6bc2",
   "metadata": {},
   "source": [
    "Правда, этот способ перебора не имеет смысла, так как и без вызова метода __keys()__ мы можем перебрать ключи, как было показано выше.\n",
    "\n",
    "Для перебора только значений мы можем вызвать у словаря метод __values()__:"
   ]
  },
  {
   "cell_type": "code",
   "execution_count": 70,
   "id": "9a404759",
   "metadata": {},
   "outputs": [
    {
     "name": "stdout",
     "output_type": "stream",
     "text": [
      "Tom\n",
      "Bob\n",
      "Alice\n"
     ]
    }
   ],
   "source": [
    "for value in users.values():\n",
    "    print(value)\n",
    "    "
   ]
  },
  {
   "cell_type": "markdown",
   "id": "77e78d2b",
   "metadata": {},
   "source": [
    "### Комплексные словари\n",
    "\n",
    "Кроме простейших объектов типа чисел и строк словари также могут хранить и более сложные объекты - те же списки, кортежи или другие словари:"
   ]
  },
  {
   "cell_type": "code",
   "execution_count": 71,
   "id": "16f4d9c9",
   "metadata": {},
   "outputs": [],
   "source": [
    "users = {\n",
    "    \"Tom\": {\n",
    "        \"phone\": \"+971478745\",\n",
    "        \"email\": \"tom12@gmail.com\"\n",
    "    },\n",
    "    \"Bob\": {\n",
    "        \"phone\": \"+876390444\",\n",
    "        \"email\": \"bob@gmail.com\",\n",
    "        \"skype\": \"bob123\"\n",
    "    }\n",
    "}"
   ]
  },
  {
   "cell_type": "markdown",
   "id": "0d36b9fb",
   "metadata": {},
   "source": [
    "В данном случае значение каждого элемента словаря в свою очередь представляет отдельный словарь.\n",
    "\n",
    "Для обращения к элементам вложенного словаря соответственно необходимо использовать два ключа:"
   ]
  },
  {
   "cell_type": "code",
   "execution_count": 72,
   "id": "3e8bb427",
   "metadata": {},
   "outputs": [
    {
     "name": "stdout",
     "output_type": "stream",
     "text": [
      "{'phone': '+971478745', 'email': 'supertom@gmail.com'}\n"
     ]
    }
   ],
   "source": [
    "old_email = users[\"Tom\"][\"email\"]\n",
    "users[\"Tom\"][\"email\"] = \"supertom@gmail.com\"\n",
    "print(users[\"Tom\"])     # { phone\": \"+971478745\", \"email\": \"supertom@gmail.com }"
   ]
  },
  {
   "cell_type": "markdown",
   "id": "99d3abc2",
   "metadata": {},
   "source": [
    "Но если мы попробуем получить значение по ключу, который отсутствует в словаре, Python сгенерирует исключение KeyError:"
   ]
  },
  {
   "cell_type": "code",
   "execution_count": 73,
   "id": "98786270",
   "metadata": {},
   "outputs": [
    {
     "ename": "KeyError",
     "evalue": "'skype'",
     "output_type": "error",
     "traceback": [
      "\u001b[0;31m---------------------------------------------------------------------------\u001b[0m",
      "\u001b[0;31mKeyError\u001b[0m                                  Traceback (most recent call last)",
      "Cell \u001b[0;32mIn[73], line 1\u001b[0m\n\u001b[0;32m----> 1\u001b[0m tom_skype \u001b[38;5;241m=\u001b[39m \u001b[43musers\u001b[49m\u001b[43m[\u001b[49m\u001b[38;5;124;43m\"\u001b[39;49m\u001b[38;5;124;43mTom\u001b[39;49m\u001b[38;5;124;43m\"\u001b[39;49m\u001b[43m]\u001b[49m\u001b[43m[\u001b[49m\u001b[38;5;124;43m\"\u001b[39;49m\u001b[38;5;124;43mskype\u001b[39;49m\u001b[38;5;124;43m\"\u001b[39;49m\u001b[43m]\u001b[49m   \u001b[38;5;66;03m# KeyError\u001b[39;00m\n",
      "\u001b[0;31mKeyError\u001b[0m: 'skype'"
     ]
    }
   ],
   "source": [
    "tom_skype = users[\"Tom\"][\"skype\"]   # KeyError"
   ]
  },
  {
   "cell_type": "markdown",
   "id": "8b5dab42",
   "metadata": {},
   "source": [
    "Чтобы избежать ошибки, можно проверять наличие ключа в словаре:"
   ]
  },
  {
   "cell_type": "code",
   "execution_count": 74,
   "id": "d115010b",
   "metadata": {},
   "outputs": [
    {
     "name": "stdout",
     "output_type": "stream",
     "text": [
      "skype is not found\n"
     ]
    }
   ],
   "source": [
    "key = \"skype\"\n",
    "if key in users[\"Tom\"]:\n",
    "    print(users[\"Tom\"][\"skype\"])\n",
    "else:\n",
    "    print(\"skype is not found\")"
   ]
  },
  {
   "cell_type": "markdown",
   "id": "3b840aa8",
   "metadata": {},
   "source": [
    "Во всем остальном работа с комплексными и вложенными словарями аналогична работе с обычными словарями."
   ]
  },
  {
   "cell_type": "markdown",
   "id": "633a7e5f",
   "metadata": {},
   "source": [
    "# Множества\n",
    "__Множество (set)__ представляют еще один вид набора, который хранит только уникальные элементы. Для определения множества используются фигурные скобки, в которых перечисляются элементы:"
   ]
  },
  {
   "cell_type": "code",
   "execution_count": 75,
   "id": "98cf3a2d",
   "metadata": {},
   "outputs": [
    {
     "name": "stdout",
     "output_type": "stream",
     "text": [
      "{'Tom', 'Bob', 'Alice'}\n"
     ]
    }
   ],
   "source": [
    "users = {\"Tom\", \"Bob\", \"Alice\", \"Tom\"}\n",
    "print(users)    # {\"Alice\", \"Bob\", \"Tom\"}"
   ]
  },
  {
   "cell_type": "markdown",
   "id": "d587f24e",
   "metadata": {},
   "source": [
    "Обратите внимание, что несмотря на то, что функция print вывела один раз элемент \"Tom\", хотя в определении множества этот элемент содержится два раза. Все потому что множество содержит только уникальные значения.\n",
    "\n",
    "Также для определения множества может применяться функция __set()__, в которую передается список или кортеж элементов:"
   ]
  },
  {
   "cell_type": "code",
   "execution_count": 76,
   "id": "403811fd",
   "metadata": {},
   "outputs": [
    {
     "name": "stdout",
     "output_type": "stream",
     "text": [
      "{'Mike', 'Ted', 'Bill'}\n"
     ]
    }
   ],
   "source": [
    "people = [\"Mike\", \"Bill\", \"Ted\"]\n",
    "users = set(people)\n",
    "print(users)    # {\"Mike\", \"Bill\", \"Ted\"}"
   ]
  },
  {
   "cell_type": "markdown",
   "id": "cc4d339f",
   "metadata": {},
   "source": [
    "Функцию __set__ удобно применять для создания пустого множества:"
   ]
  },
  {
   "cell_type": "code",
   "execution_count": 77,
   "id": "175222c2",
   "metadata": {},
   "outputs": [],
   "source": [
    "users = set()"
   ]
  },
  {
   "cell_type": "markdown",
   "id": "d7492268",
   "metadata": {},
   "source": [
    "Для получения длины множества применяется встроенная функция __len()__:"
   ]
  },
  {
   "cell_type": "code",
   "execution_count": 78,
   "id": "c1c5c74f",
   "metadata": {},
   "outputs": [
    {
     "name": "stdout",
     "output_type": "stream",
     "text": [
      "3\n"
     ]
    }
   ],
   "source": [
    "users = {\"Tom\", \"Bob\", \"Alice\"}\n",
    "print(len(users))       # 3"
   ]
  },
  {
   "cell_type": "markdown",
   "id": "06edb070",
   "metadata": {},
   "source": [
    "### Добавление элементов\n",
    "\n",
    "Для добавления одиночного элемента вызывается метод __add()__:"
   ]
  },
  {
   "cell_type": "code",
   "execution_count": 79,
   "id": "4e2149b4",
   "metadata": {},
   "outputs": [
    {
     "name": "stdout",
     "output_type": "stream",
     "text": [
      "{'Sam'}\n"
     ]
    }
   ],
   "source": [
    "users = set()\n",
    "users.add(\"Sam\")\n",
    "print(users)"
   ]
  },
  {
   "cell_type": "markdown",
   "id": "82f3b60c",
   "metadata": {},
   "source": [
    "### Удаление элементов\n",
    "\n",
    "Для удаления одного элемента вызывается метод __remove()__, в который передается удаляемый элемент. Но следует учитывать, что если такого элемента не окажется в множестве, то будет сгенерирована ошибка. Поэтому перед удалением следует проверять на наличие элемента с помощью оператора __in__:"
   ]
  },
  {
   "cell_type": "code",
   "execution_count": 80,
   "id": "b2352459",
   "metadata": {},
   "outputs": [
    {
     "name": "stdout",
     "output_type": "stream",
     "text": [
      "{'Bob', 'Alice'}\n"
     ]
    }
   ],
   "source": [
    "users = {\"Tom\", \"Bob\", \"Alice\"}\n",
    " \n",
    "user = \"Tom\"\n",
    "if user in users: \n",
    "    users.remove(user)\n",
    "print(users)    # {\"Bob\", \"Alice\"}"
   ]
  },
  {
   "cell_type": "markdown",
   "id": "35f63f63",
   "metadata": {},
   "source": [
    "Также для удаления можно использовать метод __discard()__, который не будет генерировать исключения при отсутствии элемента:"
   ]
  },
  {
   "cell_type": "code",
   "execution_count": 81,
   "id": "88b54021",
   "metadata": {},
   "outputs": [
    {
     "name": "stdout",
     "output_type": "stream",
     "text": [
      "{'Tom', 'Bob', 'Alice'}\n",
      "{'Bob', 'Alice'}\n"
     ]
    }
   ],
   "source": [
    "users = {\"Tom\", \"Bob\", \"Alice\"}\n",
    " \n",
    "users.discard(\"Tim\")    # элемент \"Tim\" отсутствует, и метод ничего не делает\n",
    "print(users)    #  {\"Tom\", \"Bob\", \"Alice\"}\n",
    " \n",
    "users.discard(\"Tom\")    # элемент \"Tom\" есть, и метод удаляет элемент\n",
    "print(users)    #  {\"Bob\", \"Alice\"}"
   ]
  },
  {
   "cell_type": "markdown",
   "id": "615c6a5e",
   "metadata": {},
   "source": [
    "Для удаления всех элементов вызывается метод __clear()__:"
   ]
  },
  {
   "cell_type": "code",
   "execution_count": 82,
   "id": "b92def28",
   "metadata": {},
   "outputs": [],
   "source": [
    "users.clear()"
   ]
  },
  {
   "cell_type": "markdown",
   "id": "e022ac9d",
   "metadata": {},
   "source": [
    "### Перебор множества\n",
    "\n",
    "Для перебора элементов можно использовать цикл __for__:"
   ]
  },
  {
   "cell_type": "code",
   "execution_count": 84,
   "id": "9e7eadb5",
   "metadata": {},
   "outputs": [
    {
     "name": "stdout",
     "output_type": "stream",
     "text": [
      "Tom\n",
      "Bob\n",
      "Alice\n"
     ]
    }
   ],
   "source": [
    "users = {\"Tom\", \"Bob\", \"Alice\"}\n",
    " \n",
    "for user in users:\n",
    "    print(user)"
   ]
  },
  {
   "cell_type": "markdown",
   "id": "461db987",
   "metadata": {},
   "source": [
    "При переборе каждый элемент помещается в переменную user.\n",
    "### Операции с множествами\n",
    "\n",
    "С помощью метода __copy()__ можно скопировать содержимое одного множества в другую переменную:"
   ]
  },
  {
   "cell_type": "code",
   "execution_count": 85,
   "id": "db29095a",
   "metadata": {},
   "outputs": [
    {
     "name": "stdout",
     "output_type": "stream",
     "text": [
      "{'Tom', 'Bob', 'Alice'}\n"
     ]
    }
   ],
   "source": [
    "users = {\"Tom\", \"Bob\", \"Alice\"}\n",
    "students = users.copy()\n",
    "print(students)     # {\"Tom\", \"Bob\", \"Alice\"}"
   ]
  },
  {
   "cell_type": "markdown",
   "id": "eb6f5e32",
   "metadata": {},
   "source": [
    "### Объединение множеств\n",
    "\n",
    "Метод __union()__ объединяет два множества и возвращает новое множество:"
   ]
  },
  {
   "cell_type": "code",
   "execution_count": 86,
   "id": "481709e2",
   "metadata": {},
   "outputs": [
    {
     "name": "stdout",
     "output_type": "stream",
     "text": [
      "{'Tom', 'Bob', 'Alice', 'Sam', 'Kate'}\n"
     ]
    }
   ],
   "source": [
    "users = {\"Tom\", \"Bob\", \"Alice\"}\n",
    "users2 = {\"Sam\", \"Kate\", \"Bob\"}\n",
    " \n",
    "users3 = users.union(users2)\n",
    "print(users3)   # {\"Bob\", \"Alice\", \"Sam\", \"Kate\", \"Tom\"}"
   ]
  },
  {
   "cell_type": "markdown",
   "id": "ade19ff6",
   "metadata": {},
   "source": [
    "### Пересечение множеств\n",
    "\n",
    "Пересечение множеств позволяет получить только те элементы, которые есть одновременно в обоих множествах. Метод __intersection()__ производит операцию пересечения множеств и возвращает новое множество:"
   ]
  },
  {
   "cell_type": "code",
   "execution_count": 87,
   "id": "5f4bc396",
   "metadata": {},
   "outputs": [
    {
     "name": "stdout",
     "output_type": "stream",
     "text": [
      "{'Bob'}\n"
     ]
    }
   ],
   "source": [
    "users = {\"Tom\", \"Bob\", \"Alice\"}\n",
    "users2 = {\"Sam\", \"Kate\", \"Bob\"}\n",
    " \n",
    "users3 = users.intersection(users2)\n",
    "print(users3)   # {\"Bob\"}"
   ]
  },
  {
   "cell_type": "markdown",
   "id": "dced5e64",
   "metadata": {},
   "source": [
    "Вместо метода __intersection__ мы могли бы использовать операцию логического умножения:"
   ]
  },
  {
   "cell_type": "code",
   "execution_count": 88,
   "id": "82093abe",
   "metadata": {},
   "outputs": [
    {
     "name": "stdout",
     "output_type": "stream",
     "text": [
      "{'Bob'}\n"
     ]
    }
   ],
   "source": [
    "users = {\"Tom\", \"Bob\", \"Alice\"}\n",
    "users2 = {\"Sam\", \"Kate\", \"Bob\"}\n",
    " \n",
    "print(users & users2)   # {\"Bob\"}"
   ]
  },
  {
   "cell_type": "markdown",
   "id": "8a4afe74",
   "metadata": {},
   "source": [
    "В этом случае мы получили бы тот же результат.\n",
    "\n",
    "Модификация метода - __intersection_update()__ заменяет пересеченными элементами первое множество:"
   ]
  },
  {
   "cell_type": "code",
   "execution_count": 89,
   "id": "54250bbf",
   "metadata": {},
   "outputs": [
    {
     "name": "stdout",
     "output_type": "stream",
     "text": [
      "{'Bob'}\n"
     ]
    }
   ],
   "source": [
    "users = {\"Tom\", \"Bob\", \"Alice\"}\n",
    "users2 = {\"Sam\", \"Kate\", \"Bob\"}\n",
    "users.intersection_update(users2)\n",
    "print(users)   # {\"Bob\"}"
   ]
  },
  {
   "cell_type": "markdown",
   "id": "c8ad1e1d",
   "metadata": {},
   "source": [
    "### Разность множеств\n",
    "\n",
    "Еще одна операция - разность множеств возвращает те элементы, которые есть в первом множестве, но отсутствуют во втором. Для получения разности множеств можно использовать метод __difference__ или операцию вычитания:"
   ]
  },
  {
   "cell_type": "code",
   "execution_count": 90,
   "id": "34a71637",
   "metadata": {},
   "outputs": [
    {
     "name": "stdout",
     "output_type": "stream",
     "text": [
      "{'Tom', 'Alice'}\n",
      "{'Tom', 'Alice'}\n"
     ]
    }
   ],
   "source": [
    "users = {\"Tom\", \"Bob\", \"Alice\"}\n",
    "users2 = {\"Sam\", \"Kate\", \"Bob\"}\n",
    " \n",
    "users3 = users.difference(users2)\n",
    "print(users3)           # {\"Tom\", \"Alice\"}\n",
    "print(users - users2)   # {\"Tom\", \"Alice\"}"
   ]
  },
  {
   "cell_type": "markdown",
   "id": "bcd63e59",
   "metadata": {},
   "source": [
    "Отдельная разновидность разности множеств - симметрическая разность производится с помощью метода __symmetric_difference()__ или с помощью операции ^. Она возвращает все элементы обоих множеств за исключением общих:"
   ]
  },
  {
   "cell_type": "code",
   "execution_count": 91,
   "id": "f9fc8316",
   "metadata": {},
   "outputs": [
    {
     "name": "stdout",
     "output_type": "stream",
     "text": [
      "{'Alice', 'Sam', 'Tom', 'Kate'}\n",
      "{'Alice', 'Sam', 'Tom', 'Kate'}\n"
     ]
    }
   ],
   "source": [
    "users = {\"Tom\", \"Bob\", \"Alice\"}\n",
    "users2 = {\"Sam\", \"Kate\", \"Bob\"}\n",
    " \n",
    "users3 = users.symmetric_difference(users2)\n",
    "print(users3)   # {\"Tom\", \"Alice\", \"Sam\", \"Kate\"}\n",
    " \n",
    "users4 = users ^ users2\n",
    "print(users4)   # {\"Tom\", \"Alice\", \"Sam\", \"Kate\"}"
   ]
  },
  {
   "cell_type": "markdown",
   "id": "9def7f23",
   "metadata": {},
   "source": [
    "### Отношения между множествами\n",
    "\n",
    "Метод __issubset__ позволяет выяснить, является ли текущее множество подмножеством (то есть частью) другого множества:"
   ]
  },
  {
   "cell_type": "code",
   "execution_count": 92,
   "id": "790abc7b",
   "metadata": {},
   "outputs": [
    {
     "name": "stdout",
     "output_type": "stream",
     "text": [
      "True\n",
      "False\n"
     ]
    }
   ],
   "source": [
    "users = {\"Tom\", \"Bob\", \"Alice\"}\n",
    "superusers = {\"Sam\", \"Tom\", \"Bob\", \"Alice\", \"Greg\"}\n",
    " \n",
    "print(users.issubset(superusers))   # True\n",
    "print(superusers.issubset(users))   # False"
   ]
  },
  {
   "cell_type": "markdown",
   "id": "8f96a47a",
   "metadata": {},
   "source": [
    "Метод issuperset, наоборот, возвращает True, если текущее множество является надмножеством (то есть содержит) для другого множества:"
   ]
  },
  {
   "cell_type": "code",
   "execution_count": 94,
   "id": "fd642c5e",
   "metadata": {},
   "outputs": [
    {
     "name": "stdout",
     "output_type": "stream",
     "text": [
      "False\n",
      "True\n"
     ]
    }
   ],
   "source": [
    "users = {\"Tom\", \"Bob\", \"Alice\"}\n",
    "superusers = {\"Sam\", \"Tom\", \"Bob\", \"Alice\", \"Greg\"}\n",
    " \n",
    "print(users.issuperset(superusers))   # False\n",
    "print(superusers.issuperset(users))   # True"
   ]
  },
  {
   "cell_type": "markdown",
   "id": "ca342599",
   "metadata": {},
   "source": [
    "### frozen set"
   ]
  },
  {
   "cell_type": "markdown",
   "id": "5d86f9c0",
   "metadata": {},
   "source": [
    "Тип __frozen set__ является видом множеств, которое не может быть изменено. Для его создания используется функция __frozenset__:"
   ]
  },
  {
   "cell_type": "code",
   "execution_count": 95,
   "id": "c09828b7",
   "metadata": {},
   "outputs": [],
   "source": [
    "users = frozenset({\"Tom\", \"Bob\", \"Alice\"})"
   ]
  },
  {
   "cell_type": "markdown",
   "id": "0b933de1",
   "metadata": {},
   "source": [
    "В функцию frozenset передается набор элементов - список, кортеж, другое множество.\n",
    "\n",
    "В такое множество мы не можем добавить новые элементы, как и удалить из него уже имеющиеся. Собственно поэтому frozen set поддерживает ограниченный набор операций:\n",
    "\n",
    "- `len(s)`: возвращает длину множества\n",
    "\n",
    "- `x in s`: возвращает True, если элемент x присутствует в множестве s\n",
    "- `x not in s`: возвращает True, если элемент x отсутствует в множестве s\n",
    "\n",
    "- `s.issubset(t)`: возвращает True, если t содержит множество s\n",
    "\n",
    "- `s.issuperset(t)`: возвращает True, если t содержится в множестве s\n",
    "\n",
    "- `s.union(t)` : возвращает объединение множеств s и t\n",
    "\n",
    "- `s.intersection(t)`: возвращает пересечение множеств s и t\n",
    "\n",
    "- `s.difference(t)`: возвращает разность множеств s и t\n",
    "\n",
    "- `s.copy()`: возвращает копию множества s"
   ]
  },
  {
   "cell_type": "markdown",
   "id": "554b8e69",
   "metadata": {},
   "source": [
    "# List comprehension\n",
    "Функциональность __list comprehension__ предоставляет более краткий и лаконичный синтаксис для создания списков на основе других наборов данных. Она имеет следующий синтаксис:"
   ]
  },
  {
   "cell_type": "markdown",
   "id": "5f80a043",
   "metadata": {},
   "source": [
    "```\n",
    "newlist = [expression for item in iterable (if condition)]\n",
    "```"
   ]
  },
  {
   "cell_type": "markdown",
   "id": "e238f02c",
   "metadata": {},
   "source": [
    "Синтаксис __list comprehension__ состоит из следующих компонентов:\n",
    "\n",
    "- `iterable`: перебираемый источник данных, в качестве которого может выступать список, множество, последовательность, либо даже функция, которая возвращает набор данных, например, range()\n",
    "\n",
    "- `item`: извлекаемый из источника данных элемент\n",
    "\n",
    "- `expression`: выражение, которое возвращает некоторое значение. Это значение затем попадает в генерируемый список\n",
    "\n",
    "- `condition`: условие, которому должны соответствовать извлекаемые из источника данных элементы. Если элемент НЕ удовлетворяет условию, то он НЕ выбирается. Необязательный параметр.\n",
    "\n",
    "Рассмотрим небольшой пример. Допустим, нам надо выбрать из списка все числа, которые больше 0. В обшем случае мы бы могли написать так:"
   ]
  },
  {
   "cell_type": "code",
   "execution_count": 97,
   "id": "5c4ef705",
   "metadata": {},
   "outputs": [
    {
     "name": "stdout",
     "output_type": "stream",
     "text": [
      "[1, 2, 3]\n"
     ]
    }
   ],
   "source": [
    "numbers = [-3, -2, -1, 0, 1, 2, 3]\n",
    "positive_numbers = []\n",
    "for n in numbers:\n",
    "    if n > 0:\n",
    "        positive_numbers.append(n)\n",
    "\n",
    "print(positive_numbers)     # [1, 2, 3]"
   ]
  },
  {
   "cell_type": "markdown",
   "id": "6e5f7eed",
   "metadata": {},
   "source": [
    "Теперь изменим этот код, применив __list comprehension__:"
   ]
  },
  {
   "cell_type": "code",
   "execution_count": 98,
   "id": "628295ee",
   "metadata": {},
   "outputs": [
    {
     "name": "stdout",
     "output_type": "stream",
     "text": [
      "[1, 2, 3]\n"
     ]
    }
   ],
   "source": [
    "numbers = [-3, -2, -1, 0, 1, 2, 3]\n",
    "positive_numbers = [n for n in numbers if n > 0]\n",
    "  \n",
    "print(positive_numbers)     # [1, 2, 3]"
   ]
  },
  {
   "cell_type": "markdown",
   "id": "cd87596d",
   "metadata": {},
   "source": [
    "Выражение `[n for n in numbers if n > 0]` говорит выбрать из списка numbers каждый элемент в переменную n, если n больше 0 и возврать n в результирующий список.\n",
    "источник данных iterable\n",
    "\n",
    "В качестве источника данных iterable может использоваться любой перебираемый объект, например, другой список, словарь и т.д. Например, функция range() возвращает все числя нуля до указанного порога не включая:"
   ]
  },
  {
   "cell_type": "code",
   "execution_count": 99,
   "id": "58992eb2",
   "metadata": {},
   "outputs": [
    {
     "name": "stdout",
     "output_type": "stream",
     "text": [
      "[0, 1, 2, 3, 4, 5, 6, 7, 8, 9]\n"
     ]
    }
   ],
   "source": [
    "numbers = [n for n in range(10)]\n",
    "print(numbers)      # [0, 1, 2, 3, 4, 5, 6, 7, 8, 9]"
   ]
  },
  {
   "cell_type": "markdown",
   "id": "e116893b",
   "metadata": {},
   "source": [
    "Нередко данная конструкция применяется, чтобы создать из словаря список. Например, выберем из словаря все ключи:"
   ]
  },
  {
   "cell_type": "code",
   "execution_count": 100,
   "id": "a2855c7c",
   "metadata": {},
   "outputs": [
    {
     "name": "stdout",
     "output_type": "stream",
     "text": [
      "['red', 'blue', 'green']\n"
     ]
    }
   ],
   "source": [
    "dictionary = {\"red\": \"красный\", \"blue\": \"синий\", \"green\": \"зеленый\"}\n",
    "words = [word for word in dictionary]\n",
    "print(words)    # ['red', 'blue', 'green']"
   ]
  },
  {
   "cell_type": "markdown",
   "id": "4068c8e3",
   "metadata": {},
   "source": [
    "### Возвращение результата\n",
    "\n",
    "Параметр expression представляет выражение, которое возвращает некоторое значение. Это значение затем помещается в генерируемый список. В примерах выше это был текущий элемент, который извлекается из источника данных:"
   ]
  },
  {
   "cell_type": "code",
   "execution_count": 101,
   "id": "d62a542e",
   "metadata": {},
   "outputs": [
    {
     "name": "stdout",
     "output_type": "stream",
     "text": [
      "[-3, -2, -1, 0, 1, 2, 3]\n"
     ]
    }
   ],
   "source": [
    "numbers = [-3, -2, -1, 0, 1, 2, 3]\n",
    "new_numbers = [n for n in numbers]\n",
    "print(new_numbers)      # [-3, -2, -1, 0, 1, 2, 3]"
   ]
  },
  {
   "cell_type": "markdown",
   "id": "7050a769",
   "metadata": {},
   "source": [
    "Так, в данном случае параметр __expression__ представляет непосредственно извлекаемый из списка numbers элемент n. Но это могут быть и более сложные значения. Например, возвратим удвоенное значение числа:"
   ]
  },
  {
   "cell_type": "code",
   "execution_count": 102,
   "id": "356c6679",
   "metadata": {},
   "outputs": [
    {
     "name": "stdout",
     "output_type": "stream",
     "text": [
      "[-6, -4, -2, 0, 2, 4, 6]\n"
     ]
    }
   ],
   "source": [
    "numbers = [-3, -2, -1, 0, 1, 2, 3]\n",
    "new_numbers = [n * 2 for n in numbers]\n",
    "print(new_numbers)      # [-6, -4, -2, 0, 2, 4, 6]"
   ]
  },
  {
   "cell_type": "markdown",
   "id": "feb33ee3",
   "metadata": {},
   "source": [
    "Здесь expression представляет выражение n * 2\n",
    "\n",
    "Это могут быть и более сложные выражения:"
   ]
  },
  {
   "cell_type": "code",
   "execution_count": 103,
   "id": "962ca2ed",
   "metadata": {},
   "outputs": [
    {
     "name": "stdout",
     "output_type": "stream",
     "text": [
      "[-3, -2, -1, 0, 2, 4, 6]\n"
     ]
    }
   ],
   "source": [
    "numbers = [-3, -2, -1, 0, 1, 2, 3]\n",
    "new_numbers = [n * 2 if n > 0 else n for n in numbers]\n",
    "print(new_numbers)      # [-3, -2, -1, 0, 2, 4, 6]"
   ]
  },
  {
   "cell_type": "markdown",
   "id": "cef7bfc6",
   "metadata": {},
   "source": [
    "Здесь параметр expression представляет выражение n * 2 if n > 0 else n. В данном случае мы говорим возвратить значение n * 2, если n > 0, иначе возвратить n.\n",
    "\n",
    "В expression можно производить различные трансформации с данными. Например, возвратим также из словаря значение по ключу:"
   ]
  },
  {
   "cell_type": "code",
   "execution_count": 104,
   "id": "5c57d1d9",
   "metadata": {},
   "outputs": [
    {
     "name": "stdout",
     "output_type": "stream",
     "text": [
      "['red: красный', 'blue: синий', 'green: зеленый']\n"
     ]
    }
   ],
   "source": [
    "dictionary = {\"red\": \"красный\", \"blue\": \"синий\", \"green\": \"зеленый\"}\n",
    "words = [f\"{key}: {dictionary[key]}\" for key in dictionary]\n",
    "print(words)    # ['red: красный', 'blue: синий', 'green: зеленый']"
   ]
  },
  {
   "cell_type": "markdown",
   "id": "6c0c26b9",
   "metadata": {},
   "source": [
    "### Условие\n",
    "\n",
    "Условие - параметр __condition__ определяет фильтр для выбора элементов из источника данных. Применим условие для конкретизации выборки, например, выберем только четные числа:"
   ]
  },
  {
   "cell_type": "code",
   "execution_count": 105,
   "id": "b1042d32",
   "metadata": {},
   "outputs": [
    {
     "name": "stdout",
     "output_type": "stream",
     "text": [
      "[0, 2, 4, 6, 8]\n"
     ]
    }
   ],
   "source": [
    "numbers = [n for n in range(10) if n % 2 == 0]\n",
    "print(numbers)      # [0, 2, 4, 6, 8]"
   ]
  },
  {
   "cell_type": "markdown",
   "id": "8519e874",
   "metadata": {},
   "source": [
    "Выберем только те ключи из словаря, длина которых больше 3:"
   ]
  },
  {
   "cell_type": "code",
   "execution_count": 106,
   "id": "415ddd35",
   "metadata": {},
   "outputs": [
    {
     "name": "stdout",
     "output_type": "stream",
     "text": [
      "['blue: синий', 'green: зеленый']\n"
     ]
    }
   ],
   "source": [
    "dictionary = {\"red\": \"красный\", \"blue\": \"синий\", \"green\": \"зеленый\"}\n",
    "words = [f\"{key}: {dictionary[key]}\" for key in dictionary if len(key) > 3]\n",
    "print(words)    # ['blue: синий', 'green: зеленый']"
   ]
  },
  {
   "cell_type": "markdown",
   "id": "16bc7adf",
   "metadata": {},
   "source": [
    "# Упаковка и распаковка\n",
    "### Распаковка\n",
    "\n",
    "__Распаковка (unpacking, также называемая Деструктуризация)__ представляет разложение коллекции (кортежа, списка и т.д.) на отдельные значения.\n",
    "\n",
    "Так, как и многие языки программирования, Python поддерживает концепцию множественного присваивания. Например:"
   ]
  },
  {
   "cell_type": "code",
   "execution_count": 107,
   "id": "c6fdfb8a",
   "metadata": {},
   "outputs": [
    {
     "name": "stdout",
     "output_type": "stream",
     "text": [
      "1\n",
      "2\n"
     ]
    }
   ],
   "source": [
    "x, y = 1, 2\n",
    "print(x)    # 1\n",
    "print(y)    # 2"
   ]
  },
  {
   "cell_type": "markdown",
   "id": "26f0af4e",
   "metadata": {},
   "source": [
    "В данном случае присваивем значения сразу двум переменным. Присвоение идет по позиции: переменная x получает значение 1, а переменная y - значени 2.\n",
    "\n",
    "Данный пример в действительности уже представляет деструктуризацию или распаковку. Значения 1, 2 фактически являются кортежом, поскольку именно запятые между значениями говорят о том, что это кортеж. И мы также могли бы написать следующим образом:"
   ]
  },
  {
   "cell_type": "code",
   "execution_count": 108,
   "id": "958b5266",
   "metadata": {},
   "outputs": [
    {
     "name": "stdout",
     "output_type": "stream",
     "text": [
      "1\n",
      "2\n"
     ]
    }
   ],
   "source": [
    "x, y = (1, 2)\n",
    "print(x)    # 1\n",
    "print(y)    # 2"
   ]
  },
  {
   "cell_type": "markdown",
   "id": "e1c15228",
   "metadata": {},
   "source": [
    "В любом случае мы имеем дело с деструктуризацией, когда первый элемент кортежа передается первой переменной, второй элемент - второй переменной и так далее. То есть разложение идет по позиции.\n",
    "\n",
    "Подобным образом можно разложить другие кортежи, например:"
   ]
  },
  {
   "cell_type": "code",
   "execution_count": 109,
   "id": "3bb41e45",
   "metadata": {},
   "outputs": [
    {
     "name": "stdout",
     "output_type": "stream",
     "text": [
      "Tom\n",
      "38\n",
      "Google\n"
     ]
    }
   ],
   "source": [
    "name, age, company = (\"Tom\", 38, \"Google\")\n",
    "print(name)         # Tom\n",
    "print(age)          # 38\n",
    "print(company)      # Google"
   ]
  },
  {
   "cell_type": "markdown",
   "id": "8ed210e2",
   "metadata": {},
   "source": [
    "Только кортежами мы не ограничены и можем \"распаковывать\" и другие коллекции, например, списки:"
   ]
  },
  {
   "cell_type": "code",
   "execution_count": 110,
   "id": "236b934e",
   "metadata": {},
   "outputs": [
    {
     "name": "stdout",
     "output_type": "stream",
     "text": [
      "Tom\n",
      "Bob\n",
      "Sam\n"
     ]
    }
   ],
   "source": [
    "people = [\"Tom\", \"Bob\", \"Sam\"]\n",
    "first, second, third = people\n",
    "print(first)      # Tom\n",
    "print(second)     # Bob\n",
    "print(third)      # Sam"
   ]
  },
  {
   "cell_type": "markdown",
   "id": "a4cc63c2",
   "metadata": {},
   "source": [
    "При разложении словаря переменные получают ключи словаря:"
   ]
  },
  {
   "cell_type": "code",
   "execution_count": 111,
   "id": "a9659534",
   "metadata": {},
   "outputs": [
    {
     "name": "stdout",
     "output_type": "stream",
     "text": [
      "red\n",
      "blue\n",
      "green\n",
      "зеленый\n"
     ]
    }
   ],
   "source": [
    "dictionary = {\"red\": \"красный\", \"blue\": \"синий\", \"green\": \"зеленый\"}\n",
    "r, b, g = dictionary\n",
    "print(r)    # red\n",
    "print(b)    # blue\n",
    "print(g)    # green\n",
    "# получаем значение по ключу\n",
    "print(dictionary[g])    # зеленый"
   ]
  },
  {
   "cell_type": "markdown",
   "id": "e1efa76b",
   "metadata": {},
   "source": [
    "### Деструктуризация в циклах\n",
    "\n",
    "Циклы в Python позволяют разложить коллекции на отдельные составляющие:"
   ]
  },
  {
   "cell_type": "code",
   "execution_count": 112,
   "id": "62953223",
   "metadata": {},
   "outputs": [
    {
     "name": "stdout",
     "output_type": "stream",
     "text": [
      "Name: Tom, Age: 38, Company: Google\n",
      "Name: Bob, Age: 42, Company: Microsoft\n",
      "Name: Sam, Age: 29, Company: JetBrains\n"
     ]
    }
   ],
   "source": [
    "people = [\n",
    "    (\"Tom\", 38, \"Google\"),\n",
    "    (\"Bob\", 42, \"Microsoft\"),\n",
    "    (\"Sam\", 29, \"JetBrains\")\n",
    "]\n",
    " \n",
    "for name, age, company in people:\n",
    "    print(f\"Name: {name}, Age: {age}, Company: {company}\")"
   ]
  },
  {
   "cell_type": "markdown",
   "id": "5beae709",
   "metadata": {},
   "source": [
    "Здесь мы перебираем список кортежей people. Каждый кортеж состоит из трех элементов, соответственно при переборе мы можем их передать в переменные name, age и company.\n",
    "\n",
    "Другой пример - функция __enumerate()__. Она принимает в качестве параметра коллекцию, создает для каждого элемента кортеж и возвращает набор из подобных кортежей. Каждый кортеж содержит индекс, который увеличивается с каждой итерацией:"
   ]
  },
  {
   "cell_type": "code",
   "execution_count": 113,
   "id": "fbf20260",
   "metadata": {},
   "outputs": [
    {
     "name": "stdout",
     "output_type": "stream",
     "text": [
      "0.Tom\n",
      "1.Bob\n",
      "2.Sam\n"
     ]
    }
   ],
   "source": [
    "people = [\"Tom\", \"Bob\", \"Sam\"]\n",
    "for index, name in enumerate(people):\n",
    "    print(f\"{index}.{name}\")\n",
    "\n",
    "# результат\n",
    "# 0.Tom\n",
    "# 1.Bob\n",
    "# 2.Sam"
   ]
  },
  {
   "cell_type": "markdown",
   "id": "f1cd8675",
   "metadata": {},
   "source": [
    "### Игнорирование значений\n",
    "\n",
    "Если какой-то элемент коллекции не нужен, то обычно для него определяется переменная с именем _ (прочерк):"
   ]
  },
  {
   "cell_type": "code",
   "execution_count": 114,
   "id": "5015eaa5",
   "metadata": {},
   "outputs": [
    {
     "name": "stdout",
     "output_type": "stream",
     "text": [
      "Tom\n",
      "Google\n"
     ]
    }
   ],
   "source": [
    "person =(\"Tom\", 38, \"Google\")\n",
    "name, _, company = person\n",
    "print(name)     # Tom\n",
    "print(company)  # Google"
   ]
  },
  {
   "cell_type": "markdown",
   "id": "71c08828",
   "metadata": {},
   "source": [
    "Здесь нам не важен второй элемент кортежа, поэтому для него определяем переменную `_`. Хотя в реальности `_` - такое же действительное имя, как name и company:"
   ]
  },
  {
   "cell_type": "code",
   "execution_count": 115,
   "id": "8a12b66c",
   "metadata": {},
   "outputs": [
    {
     "name": "stdout",
     "output_type": "stream",
     "text": [
      "38\n"
     ]
    }
   ],
   "source": [
    "name, _, company = person\n",
    "print(_)     # 38"
   ]
  },
  {
   "cell_type": "markdown",
   "id": "43c29a08",
   "metadata": {},
   "source": [
    "### Упаковка значений и оператор `*`\n",
    "\n",
    "Оператор `*` упаковывает значение в коллекцию. Например:"
   ]
  },
  {
   "cell_type": "code",
   "execution_count": 117,
   "id": "0b47d6da",
   "metadata": {},
   "outputs": [
    {
     "name": "stdout",
     "output_type": "stream",
     "text": [
      "[1, 2, 3]\n"
     ]
    }
   ],
   "source": [
    "num1=1\n",
    "num2=2\n",
    "num3=3\n",
    "*numbers,=num1,num2,num3\n",
    "print(numbers)  #[1, 2, 3]"
   ]
  },
  {
   "cell_type": "markdown",
   "id": "b3c43ccb",
   "metadata": {},
   "source": [
    "Здесь мы упаковываем значения из кортежа (num1,num2,num3) в список numbers. Причем, чтобы получить список, после numbers указывается запятая.\n",
    "\n",
    "Как правило, упаковка применяется для сбора значений, которые остались после присвоения результатов деструктуризации. Например:"
   ]
  },
  {
   "cell_type": "code",
   "execution_count": 118,
   "id": "dca62698",
   "metadata": {},
   "outputs": [
    {
     "name": "stdout",
     "output_type": "stream",
     "text": [
      "1\n",
      "[2, 3, 4, 5]\n"
     ]
    }
   ],
   "source": [
    "head, *tail = [1, 2, 3, 4, 5]\n",
    " \n",
    "print(head)  # 1\n",
    "print(tail)  # [2, 3, 4, 5]"
   ]
  },
  {
   "cell_type": "markdown",
   "id": "cd421175",
   "metadata": {},
   "source": [
    "Здесь переменная head в соответствии с позицией получае первый элемент списка. Все остальные элементы передаются в переменную tail. Таким образом, переменная tail будет представлять список из оставшихся элементов.\n",
    "\n",
    "Аналогичным образом можно получить все кроме последнего:"
   ]
  },
  {
   "cell_type": "code",
   "execution_count": 119,
   "id": "f29c39df",
   "metadata": {},
   "outputs": [
    {
     "name": "stdout",
     "output_type": "stream",
     "text": [
      "[1, 2, 3, 4]\n",
      "5\n"
     ]
    }
   ],
   "source": [
    "*head, tail = [1, 2, 3, 4, 5]\n",
    " \n",
    "print(head)  # [1, 2, 3, 4]\n",
    "print(tail)  # 5"
   ]
  },
  {
   "cell_type": "markdown",
   "id": "66397de6",
   "metadata": {},
   "source": [
    "Или элементы по середине, кроме первого и последнего:"
   ]
  },
  {
   "cell_type": "code",
   "execution_count": 120,
   "id": "3a999a26",
   "metadata": {},
   "outputs": [
    {
     "name": "stdout",
     "output_type": "stream",
     "text": [
      "1\n",
      "[2, 3, 4]\n",
      "5\n"
     ]
    }
   ],
   "source": [
    "head, *middle, tail = [1, 2, 3, 4, 5]\n",
    " \n",
    "print(head)    # 1\n",
    "print(middle)  # [2, 3, 4]\n",
    "print(tail)    # 5"
   ]
  },
  {
   "cell_type": "markdown",
   "id": "37bd646a",
   "metadata": {},
   "source": [
    "Или все кроме первого и второго:"
   ]
  },
  {
   "cell_type": "code",
   "execution_count": 121,
   "id": "55fdea11",
   "metadata": {},
   "outputs": [
    {
     "name": "stdout",
     "output_type": "stream",
     "text": [
      "1\n",
      "2\n",
      "[3, 4, 5]\n"
     ]
    }
   ],
   "source": [
    "first, second, *other = [1, 2, 3, 4, 5]\n",
    " \n",
    "print(first)    # 1\n",
    "print(second)   # 2\n",
    "print(other)    # [3, 4, 5]"
   ]
  },
  {
   "cell_type": "markdown",
   "id": "b7bf145d",
   "metadata": {},
   "source": [
    "Вообщем, таким образом мы можем получать различные комбинации элементов коллекции. Причем не только списков, но и кортежей, словарей и других коллекций.\n",
    "\n",
    "Другой пример - нам надо получить только первый, третий и последний элемент, а остальные элементы нам не нужны. В общем случае мы должны предоставить переменные для всех элементов коллекции. Однако если коллекция имеет 100 элементов, а нам нужно только три, не будем же мы определять все сто переменных. И в этом случае опять же можно применить упаковку:"
   ]
  },
  {
   "cell_type": "code",
   "execution_count": 122,
   "id": "954f64ca",
   "metadata": {},
   "outputs": [
    {
     "name": "stdout",
     "output_type": "stream",
     "text": [
      "1\n",
      "3\n",
      "8\n"
     ]
    }
   ],
   "source": [
    "first, _, third, *_, last = [1, 2, 3, 4, 5, 6, 7, 8]\n",
    " \n",
    "print(first)   # 1\n",
    "print(third)   # 3\n",
    "print(last)    # 8"
   ]
  },
  {
   "cell_type": "markdown",
   "id": "fef9b301",
   "metadata": {},
   "source": [
    "Также можно получить ключи словаря:"
   ]
  },
  {
   "cell_type": "code",
   "execution_count": 123,
   "id": "3aece69a",
   "metadata": {},
   "outputs": [
    {
     "name": "stdout",
     "output_type": "stream",
     "text": [
      "red\n",
      "green\n",
      "['blue', 'yellow']\n"
     ]
    }
   ],
   "source": [
    "red, *other, green = {\"red\":\"красный\", \"blue\":\"синий\", \"yellow\":\"желтый\", \"green\":\"зеленый\"}\n",
    " \n",
    "print(red)          # red\n",
    "print(green)        # green\n",
    "print(other)        # ['blue', 'yellow']"
   ]
  },
  {
   "cell_type": "markdown",
   "id": "690671a6",
   "metadata": {},
   "source": [
    "### Распаковка и операторы `*` и `**`\n",
    "\n",
    "Оператор `*` вместе с оператором `**` также может применяться для распаковки значений. Оператор `*` используется для распаковки кортежей, списков, строк, множеств, а оператор `**` - для распаковки словарей. Особенно это может быть полезно, когда на основе одних коллекций создаются другие. Например, распаковка кортежей и списков:"
   ]
  },
  {
   "cell_type": "code",
   "execution_count": 124,
   "id": "c978c09d",
   "metadata": {},
   "outputs": [
    {
     "name": "stdout",
     "output_type": "stream",
     "text": [
      "[1, 2, 3, 4, 5, 6]\n"
     ]
    }
   ],
   "source": [
    "nums1 = [1, 2, 3]\n",
    "nums2 = (4, 5, 6)\n",
    " \n",
    "# распаковываем список nums1 и кортеж nums2\n",
    "nums3 = [*nums1, *nums2] \n",
    "print(nums3)        # [1, 2, 3, 4, 5, 6]"
   ]
  },
  {
   "cell_type": "markdown",
   "id": "b22baf54",
   "metadata": {},
   "source": [
    "Здесь распаковывем значения из списка nums1 и кортежа nums2 и помещаем их в список nums3.\n",
    "\n",
    "Подобным образом раскладываются словари, только применяется оператор **:"
   ]
  },
  {
   "cell_type": "code",
   "execution_count": 125,
   "id": "582cb5a3",
   "metadata": {},
   "outputs": [
    {
     "name": "stdout",
     "output_type": "stream",
     "text": [
      "{'red': 'красный', 'blue': 'синий', 'green': 'зеленый', 'yellow': 'желтый'}\n"
     ]
    }
   ],
   "source": [
    "dictionary1 = {\"red\":\"красный\", \"blue\":\"синий\"}\n",
    "dictionary2 = {\"green\":\"зеленый\", \"yellow\":\"желтый\"}\n",
    " \n",
    "# распаковываем словари\n",
    "dictionary3 = {**dictionary1, **dictionary2}\n",
    "print(dictionary3)  # {'red': 'красный', 'blue': 'синий', 'green': 'зеленый', 'yellow': 'желтый'}"
   ]
  },
  {
   "cell_type": "markdown",
   "id": "c8b45b1a",
   "metadata": {},
   "source": [
    "# Упаковка и распаковка в параметрах функций\n",
    "Одной из распространенных сфер, где применяются упаковка и распаковка - это параметры функций. Так, в определениях различных функций нередко можно увидеть, что они принимают такие параметры как `*args` и `**kwargs`.\n",
    "\n",
    "Термины args и kwargs — это соглашения по программированию на Python, в реальности вместо них можно использовать любые именования. `*args` представляет параметры, которые передаются по позиции. А `**kwargs` означает параметры, которые передаются по имени. обозначает аргументы ключевого слова.\n",
    "\n",
    "Оператор `*` применяется с любым итерируемым объектом (например, кортежем, списком и строками). Тогда как оператор `**` можно использовать только со словарями.\n",
    "`*args`\n",
    "\n",
    "Оператор `*` позволяет передать в функцию несколько значений, и все они будут упакованы в кортеж:"
   ]
  },
  {
   "cell_type": "code",
   "execution_count": 126,
   "id": "cbaf5286",
   "metadata": {},
   "outputs": [
    {
     "name": "stdout",
     "output_type": "stream",
     "text": [
      "Python\n",
      "('Python', 'C++', 'Java', 'C#')\n"
     ]
    }
   ],
   "source": [
    "def fun(*args):\n",
    "    # обращаемся к первому элементу кортежа\n",
    "    print(args[0])\n",
    "  \n",
    "    # выводим весь кортеж\n",
    "    print(args)\n",
    "  \n",
    "\n",
    "fun(\"Python\", \"C++\", \"Java\", \"C#\")"
   ]
  },
  {
   "cell_type": "markdown",
   "id": "a15571ba",
   "metadata": {},
   "source": [
    "Здесь функция fun принимает кортеж значений. При вызове мы можем передать ей различное количество значений. Так, в примере выше передается четыре строки, которые образуют кортеж. Консольный вывод программы:\n",
    "```\n",
    "Python\n",
    "('Python', 'C++', 'Java', 'C#')\n",
    "```\n",
    "Благодаря такой возможности мы можем передавать в функцию переменное количество значений:"
   ]
  },
  {
   "cell_type": "code",
   "execution_count": 127,
   "id": "7f8ae498",
   "metadata": {},
   "outputs": [
    {
     "name": "stdout",
     "output_type": "stream",
     "text": [
      "6\n",
      "10\n",
      "15\n"
     ]
    }
   ],
   "source": [
    "def sum(*args):\n",
    "    result = 0\n",
    "    for arg in args: \n",
    "        result += arg\n",
    "    return result\n",
    "  \n",
    "print(sum(1, 2, 3))         # 6\n",
    "print(sum(1, 2, 3, 4))      # 10\n",
    "print(sum(1, 2, 3, 4, 5))   # 15"
   ]
  },
  {
   "cell_type": "markdown",
   "id": "337c6914",
   "metadata": {},
   "source": [
    "### Оператор `**`\n",
    "\n",
    "Оператор `**` упаковывает аргументы, переданные по имени, в словарь. Имена параметров служат ключами. Например, определим функцию, которая просто будет выводить все переданные параметры"
   ]
  },
  {
   "cell_type": "code",
   "execution_count": 128,
   "id": "be2e1abc",
   "metadata": {},
   "outputs": [
    {
     "name": "stdout",
     "output_type": "stream",
     "text": [
      "{'name': 'Tom', 'age': '38', 'company': 'Google'}\n",
      "{'language': 'Python', 'version': '3.11'}\n"
     ]
    }
   ],
   "source": [
    "def fun(**kwargs):\n",
    "    print(kwargs)   # выводим словарь на консоль\n",
    "  \n",
    "fun(name=\"Tom\", age=\"38\", company=\"Google\")\n",
    "fun(language=\"Python\", version=\"3.11\")"
   ]
  },
  {
   "cell_type": "markdown",
   "id": "dc343848",
   "metadata": {},
   "source": [
    "Поскольку аргументы передаются в функцию в виде словаря, то внутри функции через ключи мы можем получить их значения:"
   ]
  },
  {
   "cell_type": "code",
   "execution_count": 129,
   "id": "4e6eaadc",
   "metadata": {},
   "outputs": [
    {
     "name": "stdout",
     "output_type": "stream",
     "text": [
      "name = Tom\n",
      "age = 38\n",
      "company = Google\n"
     ]
    }
   ],
   "source": [
    "def fun(**kwargs):\n",
    "    for key in kwargs:\n",
    "        print(f\"{key} = {kwargs[key]}\")\n",
    "  \n",
    "fun(name=\"Tom\", age=\"38\", company=\"Google\")"
   ]
  },
  {
   "cell_type": "markdown",
   "id": "ac8eeab0",
   "metadata": {},
   "source": [
    "### Распаковка аргументов\n",
    "\n",
    "Выше было описано, как операторы `*` и `**` применяются для упаковки аругментов в кортеж и словарь соответственно. Но эти же операторы могут использоваться для распаковки.\n",
    "\n",
    "Оператор `*` и распаковка\n",
    "\n",
    "Сначала рассмотрим ситуацию, где это может пригодиться.Пусть мы передаем в функцию кортеж:"
   ]
  },
  {
   "cell_type": "code",
   "execution_count": 131,
   "id": "d3391fe3",
   "metadata": {},
   "outputs": [
    {
     "name": "stdout",
     "output_type": "stream",
     "text": [
      "15\n"
     ]
    }
   ],
   "source": [
    "def sum(*args):\n",
    "  result = 0\n",
    "  for arg in args:\n",
    "    result += arg\n",
    "  return result\n",
    "  \n",
    "numbers = (1, 2, 3, 4, 5)\n",
    "# применяем распаковку - *numbers\n",
    "print(sum(*numbers))     # 15"
   ]
  },
  {
   "cell_type": "markdown",
   "id": "6727bf13",
   "metadata": {},
   "source": [
    "Здесь в вызов функции sum передается кортеж. Параметр `*args` по сути тоже представляет кортеж, и кажется, все должно работать. Тем не менее мы столкнемся с ошибкой\n",
    "```\n",
    "TypeError: unsupported operand type(s) for +=: 'int' and 'tuple'\n",
    "```\n",
    "То есть в данном случае кортеж numbers передается как элемент кортежа `*args`.\n",
    "\n",
    "И чтобы элементы кортежа были переданы в кортеж `*args` как отдельные значения, необходимо выполнить их распаковку:"
   ]
  },
  {
   "cell_type": "code",
   "execution_count": 132,
   "id": "279a5032",
   "metadata": {},
   "outputs": [
    {
     "name": "stdout",
     "output_type": "stream",
     "text": [
      "15\n"
     ]
    }
   ],
   "source": [
    "def sum(*args):\n",
    "  result = 0\n",
    "  for arg in args:\n",
    "    result += arg\n",
    "  return result\n",
    "  \n",
    "numbers = (1, 2, 3, 4, 5)\n",
    "# применяем распаковку - *numbers\n",
    "print(sum(*numbers))     # 15"
   ]
  },
  {
   "cell_type": "markdown",
   "id": "d52739ec",
   "metadata": {},
   "source": [
    "Здесь при передачи кортежа numbers в функцию sym применяется распаковка: *numbers\n",
    "\n",
    "Другим случаем распаковки может быть ситуация, когда функция принимает несколько параметров, а мы передаем один кортеж или список:"
   ]
  },
  {
   "cell_type": "code",
   "execution_count": 133,
   "id": "d86d2e41",
   "metadata": {},
   "outputs": [
    {
     "name": "stdout",
     "output_type": "stream",
     "text": [
      "Name:Tom, Age: 38, Company: Google\n"
     ]
    }
   ],
   "source": [
    "def print_person(name, age, company):\n",
    "  print(f\"Name:{name}, Age: {age}, Company: {company}\")\n",
    "  \n",
    "person =(\"Tom\", 38, \"Google\")\n",
    "# выполняем распаковку кортежа person\n",
    "print_person(*person)   # Name:Tom, Age: 38, Company: Google"
   ]
  },
  {
   "cell_type": "markdown",
   "id": "b3c34b25",
   "metadata": {},
   "source": [
    "В данном случае выражение `*person` раскладывает кортеж person на отдельные значения, которые передаются параметрам name, age и company.\n",
    "### Оператор `**` и распаковка\n",
    "\n",
    "Оператор `**` применяется для распаковки словарей:"
   ]
  },
  {
   "cell_type": "code",
   "execution_count": 134,
   "id": "a3086907",
   "metadata": {},
   "outputs": [
    {
     "name": "stdout",
     "output_type": "stream",
     "text": [
      "Name:Tom, Age: 38, Company: Google\n"
     ]
    }
   ],
   "source": [
    "def print_person(name, age, company):\n",
    "  print(f\"Name:{name}, Age: {age}, Company: {company}\")\n",
    "  \n",
    "tom ={\"name\":\"Tom\", \"age\":38, \"company\":\"Google\"}\n",
    "# выполняем распаковку словаря tom\n",
    "print_person(**tom) # Name:Tom, Age: 38, Company: Google"
   ]
  },
  {
   "cell_type": "markdown",
   "id": "7661b51e",
   "metadata": {},
   "source": [
    "Здесь выражение `**tom` раскладывает словарь на отдельные значения, которые передаются параметрам name, age и company по названию ключей.\n",
    "Сочетание параметров\n",
    "\n",
    "Параметры `*args` и `*kwargs` могут использоваться в функции вместе с другими параметрами. Например:"
   ]
  },
  {
   "cell_type": "code",
   "execution_count": 135,
   "id": "f20abb46",
   "metadata": {},
   "outputs": [
    {
     "name": "stdout",
     "output_type": "stream",
     "text": [
      "6\n",
      "10\n"
     ]
    }
   ],
   "source": [
    "def sum(num1, num2, *nums):\n",
    "    result=num1+num2\n",
    "    for n in nums:\n",
    "        result += n\n",
    "    return result\n",
    " \n",
    "print(sum(1,2,3))       # 6\n",
    "print(sum(1,2,3,4))     # 10"
   ]
  }
 ],
 "metadata": {
  "kernelspec": {
   "display_name": "Python 3 (ipykernel)",
   "language": "python",
   "name": "python3"
  },
  "language_info": {
   "codemirror_mode": {
    "name": "ipython",
    "version": 3
   },
   "file_extension": ".py",
   "mimetype": "text/x-python",
   "name": "python",
   "nbconvert_exporter": "python",
   "pygments_lexer": "ipython3",
   "version": "3.8.10"
  }
 },
 "nbformat": 4,
 "nbformat_minor": 5
}

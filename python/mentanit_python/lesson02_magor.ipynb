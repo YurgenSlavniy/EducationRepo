{
 "cells": [
  {
   "cell_type": "markdown",
   "id": "054315e0",
   "metadata": {},
   "source": [
    "# https://metanit.com/python/tutorial/2.1.php\n",
    "# Основы Python\n",
    "\n",
    "### Введение в написание программ\n",
    "Программа на языке Python состоит из набора инструкций. Каждая инструкция помещается на новую строку. Например:"
   ]
  },
  {
   "cell_type": "code",
   "execution_count": 1,
   "id": "2b195169",
   "metadata": {},
   "outputs": [
    {
     "name": "stdout",
     "output_type": "stream",
     "text": [
      "5\n",
      "Hello\n"
     ]
    }
   ],
   "source": [
    "print(2 + 3) \n",
    "print(\"Hello\")"
   ]
  },
  {
   "cell_type": "markdown",
   "id": "05f679cf",
   "metadata": {},
   "source": [
    "Большую роль в Python играют отступы. Неправильно поставленный отступ фактически является ошибкой. Например, в следующем случае мы получим ошибку, хотя код будет практически аналогичен приведенному выше:"
   ]
  },
  {
   "cell_type": "code",
   "execution_count": 2,
   "id": "d1e37824",
   "metadata": {},
   "outputs": [
    {
     "ename": "IndentationError",
     "evalue": "unexpected indent (2234453416.py, line 2)",
     "output_type": "error",
     "traceback": [
      "\u001b[0;36m  Cell \u001b[0;32mIn[2], line 2\u001b[0;36m\u001b[0m\n\u001b[0;31m    print(\"Hello\")\u001b[0m\n\u001b[0m    ^\u001b[0m\n\u001b[0;31mIndentationError\u001b[0m\u001b[0;31m:\u001b[0m unexpected indent\n"
     ]
    }
   ],
   "source": [
    "print(2 + 3) \n",
    "    print(\"Hello\")"
   ]
  },
  {
   "cell_type": "markdown",
   "id": "38ba54b3",
   "metadata": {},
   "source": [
    "Поэтому стоит помещать новые инструкции сначала строки. В этом одно из важных отличий пайтона от других языков программирования, как C# или Java.\n",
    "\n",
    "Однако стоит учитывать, что некоторые конструкции языка могут состоять из нескольких строк. Например, условная конструкция if:"
   ]
  },
  {
   "cell_type": "code",
   "execution_count": 3,
   "id": "4e9086f4",
   "metadata": {},
   "outputs": [
    {
     "name": "stdout",
     "output_type": "stream",
     "text": [
      "Hello\n"
     ]
    }
   ],
   "source": [
    "if 1 < 2:\n",
    "    print(\"Hello\")"
   ]
  },
  {
   "cell_type": "markdown",
   "id": "e6c241bf",
   "metadata": {},
   "source": [
    "В данном случае если 1 меньше 2, то выводится строка \"Hello\". И здесь уже должен быть отступ, так как инструкция print(\"Hello\") используется не сама по себе, а как часть условной конструкции if. Причем отступ, согласно руководству по оформлению кода, желательно делать из такого количество пробелов, которое кратно 4 (то есть 4, 8, 16 и т.д.) Хотя если отступов будет не 4, а 5, то программа также будет работать.\n",
    "\n",
    "Таких конструкций не так много, поэтому особой путаницы по поводу где надо, а где не надо ставить пробелы, не должно возникнуть.\n",
    "\n",
    "### Регистрозависимость\n",
    "\n",
    "Python - регистрозависимый язык, поэтому выражения print и Print или PRINT представляют разные выражения. И если вместо метода print для вывода на консоль мы попробуем использовать метод Print:"
   ]
  },
  {
   "cell_type": "code",
   "execution_count": 4,
   "id": "c489d4ab",
   "metadata": {},
   "outputs": [
    {
     "ename": "NameError",
     "evalue": "name 'Print' is not defined",
     "output_type": "error",
     "traceback": [
      "\u001b[0;31m---------------------------------------------------------------------------\u001b[0m",
      "\u001b[0;31mNameError\u001b[0m                                 Traceback (most recent call last)",
      "Cell \u001b[0;32mIn[4], line 1\u001b[0m\n\u001b[0;32m----> 1\u001b[0m \u001b[43mPrint\u001b[49m(\u001b[38;5;124m\"\u001b[39m\u001b[38;5;124mHello World\u001b[39m\u001b[38;5;124m\"\u001b[39m)\n",
      "\u001b[0;31mNameError\u001b[0m: name 'Print' is not defined"
     ]
    }
   ],
   "source": [
    "Print(\"Hello World\")"
   ]
  },
  {
   "cell_type": "markdown",
   "id": "b79b6e1e",
   "metadata": {},
   "source": [
    "то у нас ничего не получится.\n",
    "\n",
    "Для отметки, что делает тот или иной участок кода, применяются комментарии. При трансляции и выполнении программы интерпретатор игнорирует комментарии, поэтому они не оказывают никакого влияния на работу программы. Комментарии в Python бывают блочные и строчные.\n",
    "\n",
    "Строчные коментарии предваряются знаком решетки `- #`. Они могут располагаться на отдельной строке:"
   ]
  },
  {
   "cell_type": "code",
   "execution_count": 5,
   "id": "92bbad16",
   "metadata": {},
   "outputs": [
    {
     "name": "stdout",
     "output_type": "stream",
     "text": [
      "Hello World\n"
     ]
    }
   ],
   "source": [
    "# Вывод на консоль \n",
    "# сообщения Hello World\n",
    "print(\"Hello World\")"
   ]
  },
  {
   "cell_type": "markdown",
   "id": "4f6f80f0",
   "metadata": {},
   "source": [
    "Любой набор символов после знака `#` представляет комментарий. То есть в примее выше первые две строки кода являются комментариями.\n",
    "\n",
    "Также они могут располагаться на той же строке, что и инструкции языка, после выполняемых инструкций:"
   ]
  },
  {
   "cell_type": "code",
   "execution_count": 6,
   "id": "3d8040b1",
   "metadata": {},
   "outputs": [
    {
     "name": "stdout",
     "output_type": "stream",
     "text": [
      "Hello World\n"
     ]
    }
   ],
   "source": [
    "print(\"Hello World\")  # Вывод сообщения на консоль"
   ]
  },
  {
   "cell_type": "markdown",
   "id": "77da69fd",
   "metadata": {},
   "source": [
    "В блочных коментариях до и после текста комментария ставятся три одинарные кавычки: '''текст комментария'''. Например:"
   ]
  },
  {
   "cell_type": "code",
   "execution_count": 7,
   "id": "3c2b1d56",
   "metadata": {},
   "outputs": [
    {
     "name": "stdout",
     "output_type": "stream",
     "text": [
      "Hello World\n"
     ]
    }
   ],
   "source": [
    "''' \n",
    "    Вывод на консоль\n",
    "    сообщения Hello World\n",
    "'''\n",
    "print(\"Hello World\")"
   ]
  },
  {
   "cell_type": "markdown",
   "id": "22a44370",
   "metadata": {},
   "source": [
    "### Основные функции\n",
    "\n",
    "Python предоставляет ряд встроенных функций. Некоторые из них используются очень часто, особенно на начальных этапах изучения языка, поэтому рассмотрим их.\n",
    "\n",
    "Основной функцией для вывода информации на консоль является функция print(). В качестве аргумента в эту функцию передается строка, которую мы хотим вывести:"
   ]
  },
  {
   "cell_type": "code",
   "execution_count": 8,
   "id": "a086e489",
   "metadata": {},
   "outputs": [
    {
     "name": "stdout",
     "output_type": "stream",
     "text": [
      "Hello Python\n"
     ]
    }
   ],
   "source": [
    "print(\"Hello Python\")"
   ]
  },
  {
   "cell_type": "markdown",
   "id": "02bb11c0",
   "metadata": {},
   "source": [
    "Если же нам необходимо вывести несколько значений на консоль, то мы можем передать их в функцию print через запятую:"
   ]
  },
  {
   "cell_type": "code",
   "execution_count": 9,
   "id": "66919ce4",
   "metadata": {},
   "outputs": [
    {
     "name": "stdout",
     "output_type": "stream",
     "text": [
      "Full name: Tom Smith\n"
     ]
    }
   ],
   "source": [
    "print(\"Full name:\", \"Tom\", \"Smith\")"
   ]
  },
  {
   "cell_type": "markdown",
   "id": "faa22b12",
   "metadata": {},
   "source": [
    "В итоге все переданные значения склеятся через пробелы в одну строку:\n",
    "\n",
    "Если функция print отвечает за вывод, то функция input отвечает за ввод информации. В качестве необязательного параметра эта функция принимает приглашение к вводу и возвращает введенную строку, которую мы можем сохранить в переменную:"
   ]
  },
  {
   "cell_type": "code",
   "execution_count": 10,
   "id": "2d09df65",
   "metadata": {},
   "outputs": [
    {
     "name": "stdout",
     "output_type": "stream",
     "text": [
      "Введите имя: yu\n",
      "Привет yu\n"
     ]
    }
   ],
   "source": [
    "name = input(\"Введите имя: \")\n",
    "print(\"Привет\", name)"
   ]
  },
  {
   "cell_type": "markdown",
   "id": "87134575",
   "metadata": {},
   "source": [
    "Консольный вывод:\n",
    "```\n",
    "Введите имя: Евгений\n",
    "Привет Евгений\n",
    "```"
   ]
  },
  {
   "cell_type": "markdown",
   "id": "c96178ca",
   "metadata": {},
   "source": [
    "# Переменные и типы данных\n",
    "\n",
    "### Переменные\n",
    "\n",
    "Переменные предназначены для хранения данных. Название переменной в Python должно начинаться с алфавитного символа или со знака подчеркивания и может содержать алфавитно-цифровые символы и знак подчеркивания. И кроме того, название переменной не должно совпадать с названием ключевых слов языка Python. Ключевых слов не так много, их легко запомнить:\n",
    "```\n",
    "False      await      else       import     pass\n",
    "None       break      except     in         raise\n",
    "True       class      finally    is         return\n",
    "and        continue   for        lambda     try\n",
    "as         def        from       nonlocal   while\n",
    "assert     del        global     not        with\n",
    "async      elif       if         or         yield\n",
    "```\n",
    "Например, создадим переменную:"
   ]
  },
  {
   "cell_type": "code",
   "execution_count": 11,
   "id": "e7b980bb",
   "metadata": {},
   "outputs": [],
   "source": [
    "name = \"Tom\""
   ]
  },
  {
   "cell_type": "markdown",
   "id": "85cb579e",
   "metadata": {},
   "source": [
    "Здесь определена переменная name, которая хранит строку \"Tom\".\n",
    "\n",
    "В пайтоне применяется два типа наименования переменных: `camel case и underscore notation`\n",
    "\n",
    "`Camel case` подразумевает, что каждое новое подслово в наименовании переменной начинается с большой буквы. Например:"
   ]
  },
  {
   "cell_type": "code",
   "execution_count": 12,
   "id": "45286525",
   "metadata": {},
   "outputs": [],
   "source": [
    "userName = \"Tom\""
   ]
  },
  {
   "cell_type": "markdown",
   "id": "8f35c965",
   "metadata": {},
   "source": [
    "`Underscore notation` подразумевает, что подслова в наименовании переменной разделяются знаком подчеркивания. Например:"
   ]
  },
  {
   "cell_type": "code",
   "execution_count": 13,
   "id": "e74aa027",
   "metadata": {},
   "outputs": [],
   "source": [
    "user_name = \"Tom\""
   ]
  },
  {
   "cell_type": "markdown",
   "id": "2dc4373a",
   "metadata": {},
   "source": [
    "И также надо учитывать регистрозависимость, поэтому переменные name и Name будут представлять разные объекты."
   ]
  },
  {
   "cell_type": "code",
   "execution_count": 14,
   "id": "f5121bbd",
   "metadata": {},
   "outputs": [],
   "source": [
    "# две разные переменные\n",
    "name = \"Tom\"\n",
    "Name = \"Tom\""
   ]
  },
  {
   "cell_type": "markdown",
   "id": "fb4f67b1",
   "metadata": {},
   "source": [
    "Определив переменную, мы можем использовать в программе. Например, попытаться вывести ее содержимое на консоль с помощью встроенной функции print:"
   ]
  },
  {
   "cell_type": "code",
   "execution_count": 15,
   "id": "c3288101",
   "metadata": {},
   "outputs": [
    {
     "name": "stdout",
     "output_type": "stream",
     "text": [
      "Tom\n"
     ]
    }
   ],
   "source": [
    "name = \"Tom\"  # определение переменной name\n",
    "print(name)   # вывод значения переменной name на консоль"
   ]
  },
  {
   "cell_type": "markdown",
   "id": "4c4da27c",
   "metadata": {},
   "source": [
    "Например, определение и применение переменной в среде PyCharm:\n",
    "\n",
    "Отличительной особенностью переменной является то, что мы можем менять ее значение в течение работы программы:"
   ]
  },
  {
   "cell_type": "code",
   "execution_count": 16,
   "id": "f02f93a9",
   "metadata": {},
   "outputs": [
    {
     "name": "stdout",
     "output_type": "stream",
     "text": [
      "Tom\n",
      "Bob\n"
     ]
    }
   ],
   "source": [
    "name = \"Tom\"  # переменной name равна \"Tom\"\n",
    "print(name)   # выводит: Tom\n",
    "name = \"Bob\"  # меняем значение на \"Bob\"\n",
    "print(name)   # выводит: Bob"
   ]
  },
  {
   "cell_type": "markdown",
   "id": "ed5383ff",
   "metadata": {},
   "source": [
    "### Типы данных\n",
    "\n",
    "Переменная хранит данные одного из типов данных. В Python существует множество различных типов данных. В данном случае рассмотрим только самые базовые типы: \n",
    "\n",
    "- bool, \n",
    "- int, \n",
    "- float, \n",
    "- complex,\n",
    "- str\n",
    "- ...\n",
    "\n",
    "### Логические значения\n",
    "\n",
    "Тип `bool` представляет два логических значения: __True__ (верно, истина) или __False__ (неверно, ложь). Значение True служит для того, чтобы показать, что что-то истинно. Тогда как значение False, наоборот, показывает, что что-то ложно. Пример переменных данного типа:"
   ]
  },
  {
   "cell_type": "code",
   "execution_count": 17,
   "id": "6da17e50",
   "metadata": {},
   "outputs": [
    {
     "name": "stdout",
     "output_type": "stream",
     "text": [
      "False\n",
      "True\n"
     ]
    }
   ],
   "source": [
    "isMarried = False\n",
    "print(isMarried)    # False\n",
    " \n",
    "isAlive = True\n",
    "print(isAlive)      # True"
   ]
  },
  {
   "cell_type": "markdown",
   "id": "9bab474b",
   "metadata": {},
   "source": [
    "### Целые числа\n",
    "\n",
    "Тип int представляет целое число, например, 1, 4, 8, 50. Пример"
   ]
  },
  {
   "cell_type": "code",
   "execution_count": 18,
   "id": "152bd938",
   "metadata": {},
   "outputs": [
    {
     "name": "stdout",
     "output_type": "stream",
     "text": [
      "Возраст: 21\n",
      "Количество: 15\n"
     ]
    }
   ],
   "source": [
    "age = 21\n",
    "print(\"Возраст:\", age)    # Возраст: 21\n",
    " \n",
    "count = 15\n",
    "print(\"Количество:\", count) # Количество: 15"
   ]
  },
  {
   "cell_type": "markdown",
   "id": "51968cb7",
   "metadata": {},
   "source": [
    "По умолчанию стандартные числа расцениваются как числа в десятичной системе. Но Python также поддерживает числа в двоичной, восьмеричной и шестнадцатеричной системах.\n",
    "\n",
    "Для указания, что число представляет двоичную систему, перед числом ставится префикс `0b`:"
   ]
  },
  {
   "cell_type": "code",
   "execution_count": 19,
   "id": "23c09ff1",
   "metadata": {},
   "outputs": [
    {
     "name": "stdout",
     "output_type": "stream",
     "text": [
      "3\n",
      "11\n",
      "33\n"
     ]
    }
   ],
   "source": [
    "a = 0b11\n",
    "b = 0b1011\n",
    "c = 0b100001\n",
    "print(a)    # 3 в десятичной системе\n",
    "print(b)    # 11 в десятичной системе\n",
    "print(c)    # 33 в десятичной системе"
   ]
  },
  {
   "cell_type": "markdown",
   "id": "06b5d571",
   "metadata": {},
   "source": [
    "Для указания, что число представляет восьмеричную систему, перед числом ставится префикс `0o`:"
   ]
  },
  {
   "cell_type": "code",
   "execution_count": 20,
   "id": "52b92de7",
   "metadata": {},
   "outputs": [
    {
     "name": "stdout",
     "output_type": "stream",
     "text": [
      "7\n",
      "9\n",
      "15\n"
     ]
    }
   ],
   "source": [
    "a = 0o7\n",
    "b = 0o11\n",
    "c = 0o17\n",
    "print(a)    # 7 в десятичной системе\n",
    "print(b)    # 9 в десятичной системе\n",
    "print(c)    # 15 в десятичной системе"
   ]
  },
  {
   "cell_type": "markdown",
   "id": "c25f338e",
   "metadata": {},
   "source": [
    "Для указания, что число представляет шестнадцатеричную систему, перед числом ставится префикс `0x`:"
   ]
  },
  {
   "cell_type": "code",
   "execution_count": 21,
   "id": "615c6ee9",
   "metadata": {},
   "outputs": [
    {
     "name": "stdout",
     "output_type": "stream",
     "text": [
      "10\n",
      "255\n",
      "161\n"
     ]
    }
   ],
   "source": [
    "a = 0x0A\n",
    "b = 0xFF\n",
    "c = 0xA1\n",
    "print(a)    # 10 в десятичной системе\n",
    "print(b)    # 255 в десятичной системе\n",
    "print(c)    # 161 в десятичной системе"
   ]
  },
  {
   "cell_type": "markdown",
   "id": "9260b55d",
   "metadata": {},
   "source": [
    "Стоит отметить, что в какой-бы системе мы не передали число в функцию print для вывода на консоль, оно по умолчанию будет выводиться в десятичной системе.\n",
    "Дробные числа\n",
    "\n",
    "Тип float представляет число с плавающей точкой, например, 1.2 или 34.76. В качесте разделителя целой и дробной частей используется точка."
   ]
  },
  {
   "cell_type": "code",
   "execution_count": 22,
   "id": "23f7493f",
   "metadata": {},
   "outputs": [
    {
     "name": "stdout",
     "output_type": "stream",
     "text": [
      "1.68\n",
      "3.14\n",
      "68.0\n"
     ]
    }
   ],
   "source": [
    "height = 1.68\n",
    "pi = 3.14\n",
    "weight = 68.\n",
    "print(height)   # 1.68\n",
    "print(pi)       # 3.14\n",
    "print(weight)   # 68.0"
   ]
  },
  {
   "cell_type": "markdown",
   "id": "1a99c0e4",
   "metadata": {},
   "source": [
    "Число с плавающей точкой можно определять в экспоненциальной записи:"
   ]
  },
  {
   "cell_type": "code",
   "execution_count": 23,
   "id": "866c6cc2",
   "metadata": {},
   "outputs": [
    {
     "name": "stdout",
     "output_type": "stream",
     "text": [
      "3900.0\n",
      "0.0039\n"
     ]
    }
   ],
   "source": [
    "x = 3.9e3\n",
    "print(x)  # 3900.0\n",
    " \n",
    "x = 3.9e-3\n",
    "print(x)  # 0.0039"
   ]
  },
  {
   "cell_type": "markdown",
   "id": "a022d98a",
   "metadata": {},
   "source": [
    "Число float может иметь только 18 значимых символов. Так, в данном случае используются только два символа - 3.9. И если число слишком велико или слишком мало, то мы можем записывать число в подобной нотации, используя экспоненту. Число после экспоненты указывает степень числа 10, на которое надо умножить основное число - 3.9.\n",
    "Комплексные числа\n",
    "\n",
    "Тип `complex` представляет комплексные числа в формате вещественная_часть+мнимая_частьj - после мнимой части указывается суффикс j"
   ]
  },
  {
   "cell_type": "code",
   "execution_count": 24,
   "id": "52519e95",
   "metadata": {},
   "outputs": [
    {
     "name": "stdout",
     "output_type": "stream",
     "text": [
      "(1+2j)\n"
     ]
    }
   ],
   "source": [
    "complexNumber = 1+2j\n",
    "print(complexNumber)   # (1+2j)"
   ]
  },
  {
   "cell_type": "markdown",
   "id": "bf8bc037",
   "metadata": {},
   "source": [
    "### Строки\n",
    "\n",
    "Тип str представляет строки. Строка представляет последовательность символов, заключенную в одинарные или двойные кавычки, например \"hello\" и 'hello'. В Python 3.x строки представляют набор символов в кодировке Unicode"
   ]
  },
  {
   "cell_type": "code",
   "execution_count": 25,
   "id": "5082877a",
   "metadata": {},
   "outputs": [
    {
     "name": "stdout",
     "output_type": "stream",
     "text": [
      "Hello World!\n",
      "Tom\n"
     ]
    }
   ],
   "source": [
    "message = \"Hello World!\"\n",
    "print(message)  # Hello World!\n",
    " \n",
    "name = 'Tom'\n",
    "print(name)  # Tom"
   ]
  },
  {
   "cell_type": "markdown",
   "id": "5ecdab8a",
   "metadata": {},
   "source": [
    "При этом, если строка имеет много символов, ее можно разбить на части и эти части разместить на разных строках кода. В этом случае вся строка заключается в круглые скобки, а ее отдельные части - в кавычки:"
   ]
  },
  {
   "cell_type": "code",
   "execution_count": 26,
   "id": "f00ca3da",
   "metadata": {},
   "outputs": [
    {
     "name": "stdout",
     "output_type": "stream",
     "text": [
      "Laudate omnes gentes laudate Magnificat in secula \n"
     ]
    }
   ],
   "source": [
    "text = (\"Laudate omnes gentes laudate \"\n",
    "        \"Magnificat in secula \")\n",
    "print(text)"
   ]
  },
  {
   "cell_type": "markdown",
   "id": "37080933",
   "metadata": {},
   "source": [
    "Если же мы хотим определить многострочный текст, то такой текст заключается в тройные двойные или одинарные кавычки:"
   ]
  },
  {
   "cell_type": "code",
   "execution_count": 27,
   "id": "1f4782bb",
   "metadata": {},
   "outputs": [
    {
     "name": "stdout",
     "output_type": "stream",
     "text": [
      "Laudate omnes gentes laudate\n",
      "Magnificat in secula\n",
      "Et anima mea laudate\n",
      "Magnificat in secula \n",
      "\n"
     ]
    }
   ],
   "source": [
    "'''\n",
    "Это комментарий\n",
    "'''\n",
    "text = '''Laudate omnes gentes laudate\n",
    "Magnificat in secula\n",
    "Et anima mea laudate\n",
    "Magnificat in secula \n",
    "'''\n",
    "print(text)"
   ]
  },
  {
   "cell_type": "markdown",
   "id": "ff4fcea0",
   "metadata": {},
   "source": [
    "При использовани тройных одинарных кавычек не стоит путать их с комментариями: если текст в тройных одинарных кавычках присваивается переменной, то это строка, а не комментарий.\n",
    "Управляющие последовательности в строке\n",
    "\n",
    "Строка может содержать ряд специальных символов - управляющих последовательностей. Некоторые из них:\n",
    "\n",
    "-    `\\\\`: позволяет добавить внутрь строки слеш\n",
    "\n",
    "-    `\\'`: позволяет добавить внутрь строки одинарную кавычку\n",
    "\n",
    "-    `\\\"`: позволяет добавить внутрь строки двойную кавычку\n",
    "\n",
    "-    `\\n` осуществляет переход на новую строку\n",
    "\n",
    "-    `\\t`: добавляет табуляцию (4 отступа)\n",
    "\n",
    "Применим несколько последовательностей:"
   ]
  },
  {
   "cell_type": "code",
   "execution_count": 28,
   "id": "b126d191",
   "metadata": {},
   "outputs": [
    {
     "name": "stdout",
     "output_type": "stream",
     "text": [
      "Message:\n",
      "\"Hello World\"\n"
     ]
    }
   ],
   "source": [
    "text = \"Message:\\n\\\"Hello World\\\"\"\n",
    "print(text)"
   ]
  },
  {
   "cell_type": "markdown",
   "id": "676ba420",
   "metadata": {},
   "source": [
    "Консольный вывод программы:\n",
    "```\n",
    "Message:\n",
    "\"Hello World\"\n",
    "```\n",
    "Хотя подобные последовательности могут нам помочь в некоторых делах, например, поместить в строку кавычку, сделать табуляцию, перенос на другую строку. Но они также могут и мешать. Например:"
   ]
  },
  {
   "cell_type": "code",
   "execution_count": 29,
   "id": "20507b3e",
   "metadata": {},
   "outputs": [
    {
     "name": "stdout",
     "output_type": "stream",
     "text": [
      "C:\\python\n",
      "ame.txt\n"
     ]
    }
   ],
   "source": [
    "path = \"C:\\python\\name.txt\"\n",
    "print(path)"
   ]
  },
  {
   "cell_type": "markdown",
   "id": "f4a63508",
   "metadata": {},
   "source": [
    "Чтобы избежать подобной ситуации, перед строкой ставится символ `r`"
   ]
  },
  {
   "cell_type": "markdown",
   "id": "a746499d",
   "metadata": {},
   "source": [
    "```\n",
    "C:\\python\n",
    "ame.txt\n",
    "```\n",
    "Чтобы избежать подобной ситуации, перед строкой ставится символ r"
   ]
  },
  {
   "cell_type": "code",
   "execution_count": 30,
   "id": "61cf514f",
   "metadata": {},
   "outputs": [
    {
     "name": "stdout",
     "output_type": "stream",
     "text": [
      "C:\\python\\name.txt\n"
     ]
    }
   ],
   "source": [
    "path = r\"C:\\python\\name.txt\"\n",
    "print(path)"
   ]
  },
  {
   "cell_type": "markdown",
   "id": "4ae69116",
   "metadata": {},
   "source": [
    "### Вставка значений в строку\n",
    "\n",
    "Python позволяет встравивать в строку значения других переменных. Для этого внутри строки переменные размещаются в фигурных скобках {}, а перед всей строкой ставится символ f:"
   ]
  },
  {
   "cell_type": "code",
   "execution_count": 31,
   "id": "7799999b",
   "metadata": {},
   "outputs": [
    {
     "name": "stdout",
     "output_type": "stream",
     "text": [
      "name: Tom  age: 37\n"
     ]
    }
   ],
   "source": [
    "userName = \"Tom\"\n",
    "userAge = 37\n",
    "user = f\"name: {userName}  age: {userAge}\"\n",
    "print(user)   # name: Tom  age: 37"
   ]
  },
  {
   "cell_type": "markdown",
   "id": "8fedac26",
   "metadata": {},
   "source": [
    "В данном случае на место __{userName}__ будет вставляться значение переменной userName. Аналогично на вместо {userAge} будет вставляться значение переменной userAge.\n",
    "Динамическая типизация\n",
    "\n",
    "Python является языком с динамической типизацией. А это значит, что переменная не привязана жестко к определенному типу.\n",
    "\n",
    "Тип переменной определяется исходя из значения, которое ей присвоено. Так, при присвоении строки в двойных или одинарных кавычках переменная имеет тип str. При присвоении целого числа Python автоматически определяет тип переменной как int. Чтобы определить переменную как объект float, ей присваивается дробное число, в котором разделителем целой и дробной части является точка.\n",
    "\n",
    "При этом в процессе работы программы мы можем изменить тип переменной, присвоив ей значение другого типа:"
   ]
  },
  {
   "cell_type": "code",
   "execution_count": 32,
   "id": "8994a2d5",
   "metadata": {},
   "outputs": [
    {
     "name": "stdout",
     "output_type": "stream",
     "text": [
      "abc\n",
      "234\n"
     ]
    }
   ],
   "source": [
    "userId = \"abc\"  # тип str\n",
    "print(userId)\n",
    " \n",
    "userId = 234  # тип int\n",
    "print(userId)"
   ]
  },
  {
   "cell_type": "markdown",
   "id": "69a142bb",
   "metadata": {},
   "source": [
    "С помощью встроенной функции __type()__ динамически можно узнать текущий тип переменной:"
   ]
  },
  {
   "cell_type": "code",
   "execution_count": 33,
   "id": "548a237b",
   "metadata": {},
   "outputs": [
    {
     "name": "stdout",
     "output_type": "stream",
     "text": [
      "<class 'str'>\n",
      "<class 'int'>\n"
     ]
    }
   ],
   "source": [
    "userId = \"abc\"      # тип str\n",
    "print(type(userId)) # <class 'str'>\n",
    " \n",
    "userId = 234        # тип int\n",
    "print(type(userId)) # <class 'int'>"
   ]
  },
  {
   "cell_type": "markdown",
   "id": "5fa45813",
   "metadata": {},
   "source": [
    "# Консольный ввод и вывод\n",
    "### Вывод на консоль\n",
    "\n",
    "Для вывода информации на консоль предназначена встроенная функция print(). При вызове этой функции ей в скобках передается выводимое значение:"
   ]
  },
  {
   "cell_type": "code",
   "execution_count": 34,
   "id": "ba933c1f",
   "metadata": {},
   "outputs": [
    {
     "name": "stdout",
     "output_type": "stream",
     "text": [
      "Hello METANIT.COM\n"
     ]
    }
   ],
   "source": [
    "print(\"Hello METANIT.COM\")"
   ]
  },
  {
   "cell_type": "markdown",
   "id": "7661790a",
   "metadata": {},
   "source": [
    "Данный код выведет нам на консоль строку \"Hello METANIT.COM\".\n",
    "\n",
    "Отличительной особенностью этой функции является то, что по умолчанию она выводит значение на отдельной строке. Например:"
   ]
  },
  {
   "cell_type": "code",
   "execution_count": 35,
   "id": "97c08ad4",
   "metadata": {},
   "outputs": [
    {
     "name": "stdout",
     "output_type": "stream",
     "text": [
      "Hello World\n",
      "Hello METANIT.COM\n",
      "Hello Python\n"
     ]
    }
   ],
   "source": [
    "print(\"Hello World\")\n",
    "print(\"Hello METANIT.COM\")\n",
    "print(\"Hello Python\")"
   ]
  },
  {
   "cell_type": "markdown",
   "id": "74d48a6c",
   "metadata": {},
   "source": [
    "Здесь три вызова функции print() выводят некоторое сообщение. Причем при выводе на консоль каждое сообщение будет размещаться на отдельной строке:\n",
    "```\n",
    "Hello World\n",
    "Hello METANIT.COM\n",
    "Hello Python\n",
    "```\n",
    "Такое поведение не всегда удобно. Например, мы хотим, чтобы все значения выводились на одной строке. Для этого нам надо настроить поведение функции с помощью параметра end. Этот параметр задает символы, которые добавляются в конце к выводимой строке и . При применении параметра end вызов функции print() выглядит следующим образом:\n",
    "```\n",
    "print(значение, end = конечные_символы)\n",
    "```\n",
    "По умолчанию end равен символу \"\\n\", который задает перевод на следующую строку. Собственно поэтому функция print по умолчанию выводит передаваемое ей значение на отдельной строке.\n",
    "\n",
    "Теперь определим, чтобы функция не делала перевод на следующую строку, а выводила значение на той же строке:"
   ]
  },
  {
   "cell_type": "code",
   "execution_count": 36,
   "id": "b1f00f12",
   "metadata": {},
   "outputs": [
    {
     "name": "stdout",
     "output_type": "stream",
     "text": [
      "Hello World Hello METANIT.COM Hello Python\n"
     ]
    }
   ],
   "source": [
    "print(\"Hello World\", end=\" \")\n",
    "print(\"Hello METANIT.COM\", end=\" \")\n",
    "print(\"Hello Python\")"
   ]
  },
  {
   "cell_type": "markdown",
   "id": "f7664296",
   "metadata": {},
   "source": [
    "То есть теперь выводимые значения будут разделяться пробелом:\n",
    "```\n",
    "Hello World Hello METANIT.COM Hello Python\n",
    "```\n",
    "Причем это может быть не один символ, а набор символов:"
   ]
  },
  {
   "cell_type": "code",
   "execution_count": 37,
   "id": "24f40260",
   "metadata": {},
   "outputs": [
    {
     "name": "stdout",
     "output_type": "stream",
     "text": [
      "Hello World and Hello METANIT.COM and Hello Python\n"
     ]
    }
   ],
   "source": [
    "print(\"Hello World\", end=\" and \")\n",
    "print(\"Hello METANIT.COM\", end=\" and \")\n",
    "print(\"Hello Python\")"
   ]
  },
  {
   "cell_type": "markdown",
   "id": "d9220797",
   "metadata": {},
   "source": [
    "В данном случае выводимые сообщения будут отделяться символами \" and \":\n",
    "```\n",
    "Hello World and Hello METANIT.COM and Hello Python\n",
    "```\n",
    "### Консольный ввод\n",
    "\n",
    "Наряду с выводом на консоль мы можем получать ввод пользователя с консоли, получать вводимые данные. Для этого в Python определена функция input(). В эту функцию передается приглашение к вводу. А результат ввода мы можем сохранить в переменную. Например, определим код для ввода пользователем имени:"
   ]
  },
  {
   "cell_type": "code",
   "execution_count": 38,
   "id": "d7226af8",
   "metadata": {},
   "outputs": [
    {
     "name": "stdout",
     "output_type": "stream",
     "text": [
      "Введите свое имя: rty\n",
      "Ваше имя: rty\n"
     ]
    }
   ],
   "source": [
    "name = input(\"Введите свое имя: \")\n",
    "print(f\"Ваше имя: {name}\")"
   ]
  },
  {
   "cell_type": "markdown",
   "id": "9b024fc5",
   "metadata": {},
   "source": [
    "В данном случае в функцию input() передается приглашение к вводу в виде строки \"Введите свое имя: \". Результат функции - результат ввода пользователя передается в переменную name. Затем мы можем вывести значение этой переменной на консоль с помощью функции print(). Пример работы кода:\n",
    "```\n",
    "Введите свое имя: Eugene\n",
    "Ваше имя: Eugene\n",
    "```\n",
    "Еще пример с вводом нескольких значений:"
   ]
  },
  {
   "cell_type": "code",
   "execution_count": 39,
   "id": "2fbd53ed",
   "metadata": {},
   "outputs": [
    {
     "name": "stdout",
     "output_type": "stream",
     "text": [
      "Your name: tre\n",
      "Your age: 12\n",
      "Name: tre  Age: 12\n"
     ]
    }
   ],
   "source": [
    "name = input(\"Your name: \")\n",
    "age = input(\"Your age: \")\n",
    "print(f\"Name: {name}  Age: {age}\")"
   ]
  },
  {
   "cell_type": "markdown",
   "id": "6ce8fe50",
   "metadata": {},
   "source": [
    "Пример работы программы:\n",
    "```\n",
    "Your name: Tom\n",
    "Your age: 37\n",
    "Name: Tom  Age: 37\n",
    "```\n",
    "Стоит учитывать, что все введенные значения рассматриваются как значения типа str, то есть строки. И даже если мы вводим число, как в втором случае в коде выше, то Python все равно будет рассматривать введенное значение как строку, а не как число."
   ]
  },
  {
   "cell_type": "markdown",
   "id": "ee24beec",
   "metadata": {},
   "source": [
    "# Арифметические операции с числами\n",
    "\n",
    "Python поддерживает все распространенные арифметические операции:\n",
    "\n",
    "- `+` Сложение двух чисел:"
   ]
  },
  {
   "cell_type": "code",
   "execution_count": 40,
   "id": "a7116d62",
   "metadata": {},
   "outputs": [
    {
     "name": "stdout",
     "output_type": "stream",
     "text": [
      "8\n"
     ]
    }
   ],
   "source": [
    "print(6 + 2)  # 8"
   ]
  },
  {
   "cell_type": "markdown",
   "id": "83a0cec2",
   "metadata": {},
   "source": [
    "- `-` Вычитание двух чисел:"
   ]
  },
  {
   "cell_type": "code",
   "execution_count": 41,
   "id": "6e3aac9f",
   "metadata": {},
   "outputs": [
    {
     "name": "stdout",
     "output_type": "stream",
     "text": [
      "4\n"
     ]
    }
   ],
   "source": [
    "print(6 - 2)  # 4"
   ]
  },
  {
   "cell_type": "markdown",
   "id": "5df6f3ac",
   "metadata": {},
   "source": [
    "- `*` Умножение двух чисел:"
   ]
  },
  {
   "cell_type": "code",
   "execution_count": 42,
   "id": "0eb8aef3",
   "metadata": {},
   "outputs": [
    {
     "name": "stdout",
     "output_type": "stream",
     "text": [
      "12\n"
     ]
    }
   ],
   "source": [
    "    print(6 * 2)  # 12"
   ]
  },
  {
   "cell_type": "markdown",
   "id": "87454f25",
   "metadata": {},
   "source": [
    "- `/` Деление двух чисел:"
   ]
  },
  {
   "cell_type": "code",
   "execution_count": 43,
   "id": "49615f6f",
   "metadata": {},
   "outputs": [
    {
     "name": "stdout",
     "output_type": "stream",
     "text": [
      "3.0\n"
     ]
    }
   ],
   "source": [
    "    print(6 / 2)  # 3.0"
   ]
  },
  {
   "cell_type": "markdown",
   "id": "21dd2bf5",
   "metadata": {},
   "source": [
    "- `//` Целочисленное деление двух чисел:"
   ]
  },
  {
   "cell_type": "code",
   "execution_count": 44,
   "id": "58428dff",
   "metadata": {},
   "outputs": [
    {
     "name": "stdout",
     "output_type": "stream",
     "text": [
      "3.5\n",
      "3\n"
     ]
    }
   ],
   "source": [
    "print(7 / 2)  # 3.5\n",
    "print(7 // 2)  # 3"
   ]
  },
  {
   "cell_type": "markdown",
   "id": "d56d8d0d",
   "metadata": {},
   "source": [
    "Данная операция возвращает целочисленный результат деления, отбрасывая дробную часть\n",
    "\n",
    "- `**` Возведение в степень:"
   ]
  },
  {
   "cell_type": "code",
   "execution_count": 45,
   "id": "0e61f240",
   "metadata": {},
   "outputs": [
    {
     "name": "stdout",
     "output_type": "stream",
     "text": [
      "36\n"
     ]
    }
   ],
   "source": [
    "print(6 ** 2)  # Возводим число 6 в степень 2. Результат - 36"
   ]
  },
  {
   "cell_type": "markdown",
   "id": "6da76b39",
   "metadata": {},
   "source": [
    "- `%` Получение остатка от деления:"
   ]
  },
  {
   "cell_type": "code",
   "execution_count": 46,
   "id": "34359cc1",
   "metadata": {},
   "outputs": [
    {
     "name": "stdout",
     "output_type": "stream",
     "text": [
      "1\n"
     ]
    }
   ],
   "source": [
    "print(7 % 2)  # Получение остатка от деления числа 7 на 2. Результат - 1"
   ]
  },
  {
   "cell_type": "markdown",
   "id": "cd6240de",
   "metadata": {},
   "source": [
    "В данном случае ближайшее число к 7, которое делится на 2 без остатка, это 6. Поэтому остаток от деления равен 7 - 6 = 1\n",
    "\n",
    "При последовательном использовании нескольких арифметических операций их выполнение производится в соответствии с их приоритетом. В начале выполняются операции с большим приоритетом. Приоритеты операций в порядке убывания приведены в следующей таблице.\n",
    "\n",
    "### Операции\n",
    "\n",
    "- Направление `**`\n",
    "- Справо налево `* / // %`\n",
    "- Слева направо `+ -`\n",
    "\n",
    "\n",
    "Пусть у нас выполняется следующее выражение:"
   ]
  },
  {
   "cell_type": "code",
   "execution_count": 48,
   "id": "0b4790f2",
   "metadata": {},
   "outputs": [
    {
     "name": "stdout",
     "output_type": "stream",
     "text": [
      "110\n"
     ]
    }
   ],
   "source": [
    "number = 3 + 4 * 5 ** 2 + 7\n",
    "print(number)  # 110"
   ]
  },
  {
   "cell_type": "markdown",
   "id": "461ae260",
   "metadata": {},
   "source": [
    "Здесь начале выполняется возведение в степень (5 ** 2) как операция с большим приоритетом, далее результат умножается на 4 (25 * 4), затем происходит сложение (3 + 100) и далее опять идет сложение (103 + 7).\n",
    "\n",
    "Чтобы переопределить порядок операций, можно использовать скобки:"
   ]
  },
  {
   "cell_type": "code",
   "execution_count": 49,
   "id": "a3036ab8",
   "metadata": {},
   "outputs": [
    {
     "name": "stdout",
     "output_type": "stream",
     "text": [
      "224\n"
     ]
    }
   ],
   "source": [
    "number = (3 + 4) * (5 ** 2 + 7)\n",
    "print(number)  # 224"
   ]
  },
  {
   "cell_type": "markdown",
   "id": "384c8ea8",
   "metadata": {},
   "source": [
    "Следует отметить, что в арифметических операциях могут принимать участие как целые, так и дробные числа. Если в одной операции участвует целое число (int) и число с плавающей точкой (float), то целое число приводится к типу float.\n",
    "\n",
    "### Арифметические операции с присвоением\n",
    "\n",
    "Ряд специальных операций позволяют использовать присвоить результат операции первому операнду:\n",
    "\n",
    "- `+=` Присвоение результата сложения\n",
    "\n",
    "- `-=` Присвоение результата вычитания\n",
    "\n",
    "- `*=` Присвоение результата умножения\n",
    "\n",
    "- `/=` Присвоение результата от деления\n",
    "\n",
    "- `//=` Присвоение результата целочисленного деления\n",
    "\n",
    "- `**=` Присвоение степени числа\n",
    "\n",
    "- `%=` Присвоение остатка от деления\n",
    "\n",
    "Примеры операций:"
   ]
  },
  {
   "cell_type": "code",
   "execution_count": 50,
   "id": "a62b0f9e",
   "metadata": {},
   "outputs": [
    {
     "name": "stdout",
     "output_type": "stream",
     "text": [
      "15\n",
      "12\n",
      "48\n"
     ]
    }
   ],
   "source": [
    "number = 10\n",
    "number += 5\n",
    "print(number)  # 15\n",
    " \n",
    "number -= 3\n",
    "print(number)  # 12\n",
    " \n",
    "number *= 4\n",
    "print(number)  # 48"
   ]
  },
  {
   "cell_type": "markdown",
   "id": "1ecf365f",
   "metadata": {},
   "source": [
    "### Округление и функция round\n",
    "\n",
    "При операциях с числами типа float надо учитывать, что результат операций с ними может быть не совсем точным. Например:"
   ]
  },
  {
   "cell_type": "code",
   "execution_count": 51,
   "id": "c5a480d6",
   "metadata": {},
   "outputs": [
    {
     "name": "stdout",
     "output_type": "stream",
     "text": [
      "0.40002000000000004\n"
     ]
    }
   ],
   "source": [
    "first_number = 2.0001\n",
    "second_number = 5\n",
    "third_number = first_number / second_number\n",
    "print(third_number) # 0.40002000000000004"
   ]
  },
  {
   "cell_type": "markdown",
   "id": "a2671837",
   "metadata": {},
   "source": [
    "В данном случае мы ожидаем получить число 0.40002, однако в конце через ряд нулей появляется еще какая-то четверка. Или еще одно выражение:"
   ]
  },
  {
   "cell_type": "code",
   "execution_count": 52,
   "id": "55c14c29",
   "metadata": {},
   "outputs": [
    {
     "name": "stdout",
     "output_type": "stream",
     "text": [
      "2.1001000000000003\n"
     ]
    }
   ],
   "source": [
    "print(2.0001 + 0.1)  # 2.1001000000000003"
   ]
  },
  {
   "cell_type": "markdown",
   "id": "6092dd7e",
   "metadata": {},
   "source": [
    "В случае выше для округления результата мы можем использовать встроенную функцию __round()__:"
   ]
  },
  {
   "cell_type": "code",
   "execution_count": 53,
   "id": "c20b36d4",
   "metadata": {},
   "outputs": [
    {
     "name": "stdout",
     "output_type": "stream",
     "text": [
      "2\n"
     ]
    }
   ],
   "source": [
    "first_number = 2.0001\n",
    "second_number = 0.1\n",
    "third_number = first_number + second_number\n",
    "print(round(third_number))  # 2"
   ]
  },
  {
   "cell_type": "markdown",
   "id": "a62cb02c",
   "metadata": {},
   "source": [
    "В функцию __round()__ передается число, которое надо округлить. Если в функцию передается одно число, как в примере выше, то оно округляется до целого.\n",
    "\n",
    "Функция __round()__ также может принимать второе число, которое указывает, сколько знаков после запятой должно содержать получаемое число:"
   ]
  },
  {
   "cell_type": "code",
   "execution_count": 54,
   "id": "745ecdd5",
   "metadata": {},
   "outputs": [
    {
     "name": "stdout",
     "output_type": "stream",
     "text": [
      "2.1001\n"
     ]
    }
   ],
   "source": [
    "first_number = 2.0001\n",
    "second_number = 0.1\n",
    "third_number = first_number + second_number\n",
    "print(round(third_number, 4))  # 2.1001"
   ]
  },
  {
   "cell_type": "markdown",
   "id": "a63a781d",
   "metadata": {},
   "source": [
    "В данном случае число third_number округляется до 4 знаков после запятой.\n",
    "\n",
    "Если в функцию передается только одно значение - только округляемое число, оно округляется то ближайшего целого\n",
    "\n",
    "Примеры округлений:"
   ]
  },
  {
   "cell_type": "code",
   "execution_count": 55,
   "id": "9b06c3bf",
   "metadata": {},
   "outputs": [
    {
     "name": "stdout",
     "output_type": "stream",
     "text": [
      "2\n",
      "3\n"
     ]
    }
   ],
   "source": [
    "# округление до целого числа\n",
    "print(round(2.49))  # 2 - округление до ближайшего целого 2\n",
    "print(round(2.51))  # 3"
   ]
  },
  {
   "cell_type": "markdown",
   "id": "c31ec057",
   "metadata": {},
   "source": [
    "Однако если округляемая часть равна одинаково удалена от двух целых чисел, то округление идет к ближайшему четному:"
   ]
  },
  {
   "cell_type": "code",
   "execution_count": 56,
   "id": "7fcb2215",
   "metadata": {},
   "outputs": [
    {
     "name": "stdout",
     "output_type": "stream",
     "text": [
      "2\n",
      "4\n"
     ]
    }
   ],
   "source": [
    "print(round(2.5))   # 2 - ближайшее четное\n",
    "print(round(3.5))   # 4 - ближайшее четное"
   ]
  },
  {
   "cell_type": "markdown",
   "id": "29311377",
   "metadata": {},
   "source": [
    "Округление производится до ближайшего кратного 10 в степени минус округляемая часть:"
   ]
  },
  {
   "cell_type": "code",
   "execution_count": 57,
   "id": "bc84a6ed",
   "metadata": {},
   "outputs": [
    {
     "name": "stdout",
     "output_type": "stream",
     "text": [
      "2.55\n",
      "2.56\n",
      "2.55\n",
      "2.5\n"
     ]
    }
   ],
   "source": [
    "# округление до двух знаков после запятой\n",
    "print(round(2.554, 2))      # 2.55\n",
    "print(round(2.5551, 2))      # 2.56\n",
    "print(round(2.554999, 2))   # 2.55\n",
    "print(round(2.499, 2))      # 2.5"
   ]
  },
  {
   "cell_type": "markdown",
   "id": "8fabe255",
   "metadata": {},
   "source": [
    "Однако следует учитывать, что функция round() не идеальный инструмент. Например, выше при округление до целых чисел применяется правило, согласно которому, если округляемая часть одинаково удалена от двух значений, то округление производится до ближайшего четного значения. В Python в связи с тем, что десятичная часть числа не может быть точно представлена в виде числа float, то это может приводить к некоторым не совсем ожидаемым результатам. Например:"
   ]
  },
  {
   "cell_type": "code",
   "execution_count": 58,
   "id": "f561ac27",
   "metadata": {},
   "outputs": [
    {
     "name": "stdout",
     "output_type": "stream",
     "text": [
      "2.54\n",
      "2.56\n",
      "2.56\n",
      "2.58\n",
      "2.65\n",
      "2.67\n",
      "2.67\n"
     ]
    }
   ],
   "source": [
    "# округление до двух знаков после запятой\n",
    "print(round(2.545, 2))   # 2.54\n",
    "print(round(2.555, 2))   # 2.56 - округление до четного\n",
    "print(round(2.565, 2))   # 2.56\n",
    "print(round(2.575, 2))   # 2.58\n",
    " \n",
    "print(round(2.655, 2))   # 2.65 - округление не до четного\n",
    "print(round(2.665, 2))   # 2.67\n",
    "print(round(2.675, 2))   # 2.67"
   ]
  },
  {
   "cell_type": "markdown",
   "id": "dfe74aef",
   "metadata": {},
   "source": [
    "Подобно о проблеме можно почитать к документации.\n",
    "Дополнительные материалы"
   ]
  },
  {
   "cell_type": "markdown",
   "id": "e9d3edb2",
   "metadata": {},
   "source": [
    "# Поразрядные операции с числами\n",
    "\n",
    "Особый класс операций представляют поразрядные операции. Они выполняются над отдельными разрядами чисел типа int. Но чтобы понять природу поразрядных операций, надо понимать что вообще представляет число в двоичном представление.\n",
    "Двоичное представление чисел\n",
    "\n",
    "При двоичной системе каждый разряд числа может иметь только два значения - 0 и 1. Например, 0 в десятичной системе также будет равен 0 в двоичной системе, а 1 в десятичной системе будет соответствовать 1 в двоичной системе. Следующее число в десятичной системе - 2 в двоичной системе будет соответствовать 10. То есть, когда мы к 1 прибавляем 1, то результатом будет 10. И так далее.\n",
    "\n",
    "Например, 5 в двоичном представлении 101 и имеет три разряда. Для вывода десятичного числа в двоичной системе можно применять спецификатор 0b:"
   ]
  },
  {
   "cell_type": "code",
   "execution_count": 59,
   "id": "e5377701",
   "metadata": {},
   "outputs": [
    {
     "name": "stdout",
     "output_type": "stream",
     "text": [
      "number = 101\n"
     ]
    }
   ],
   "source": [
    "number = 5 # в двоичной форме 101\n",
    "print(f\"number = {number:0b}\")  # number = 101"
   ]
  },
  {
   "cell_type": "markdown",
   "id": "18b135b9",
   "metadata": {},
   "source": [
    "Без указания спецификатора функция print() выводит число в десятичной системе.\n",
    "\n",
    "При этом Python позволяет сразу определять число в двоичной форме. Для этого число в двоичной форме указывается после префикса 0b:"
   ]
  },
  {
   "cell_type": "code",
   "execution_count": 60,
   "id": "630420ed",
   "metadata": {},
   "outputs": [
    {
     "name": "stdout",
     "output_type": "stream",
     "text": [
      "number = 101\n",
      "number = 5\n"
     ]
    }
   ],
   "source": [
    "number = 0b101  # определяем число в двоичной форме\n",
    "print(f\"number = {number:0b}\")  # number = 101\n",
    "print(f\"number = {number}\")  # number = 5 - в десятичной системе"
   ]
  },
  {
   "cell_type": "markdown",
   "id": "e1601d27",
   "metadata": {},
   "source": [
    "Еще несколько примеров сопоставления между двоичной и десятичной системами:"
   ]
  },
  {
   "cell_type": "code",
   "execution_count": 61,
   "id": "dcb8c714",
   "metadata": {},
   "outputs": [],
   "source": [
    "number1 = 1 # в двоичной системе 0b1\n",
    "number2 = 2 # в двоичной системе 0b10\n",
    "number3 = 3 # в двоичной системе 0b11\n",
    "number4 = 4 # в двоичной системе 0b100\n",
    "number5 = 5 # в двоичной системе 0b101\n",
    "number6 = 6 # в двоичной системе 0b110"
   ]
  },
  {
   "cell_type": "markdown",
   "id": "ce6a7c42",
   "metadata": {},
   "source": [
    "### Логические операции\n",
    "\n",
    "Логические операции выполняются над отдельными разрядами числа. В Python есть следующие логические операции:\n",
    "\n",
    "- `&` (логическое умножение): Умножение производится поразрядно, и если у обоих операндов значения разрядов равно 1, то операция возвращает 1, иначе возвращается число 0. Например:"
   ]
  },
  {
   "cell_type": "code",
   "execution_count": 62,
   "id": "cb38eb4c",
   "metadata": {},
   "outputs": [
    {
     "name": "stdout",
     "output_type": "stream",
     "text": [
      "z1 = 0\n",
      "z2 = 4\n",
      "z2 = 100\n"
     ]
    }
   ],
   "source": [
    "x1 = 2  # 010\n",
    "y1 = 5  # 101\n",
    "z1 = x1 & y1\n",
    "print(f\"z1 = {z1}\")   # z1 = 0\n",
    "     \n",
    "x2 = 4  # 100\n",
    "y2 = 5  # 101\n",
    "z2 = x2 & y2\n",
    "print(f\"z2 = {z2}\")   # z2 = 4\n",
    "print(f\"z2 = {z2:0b}\")  # z2 = 100"
   ]
  },
  {
   "cell_type": "markdown",
   "id": "278f75f6",
   "metadata": {},
   "source": [
    "В первом случае у нас два числа 2 и 5. 2 в двоичном виде представляет число 010, а 5 - 101. Поразрядно умножим числа (0*1, 1*0, 0*1) и в итоге получим 000.\n",
    "\n",
    "Во втором случае у нас вместо двойки число 4, у которого в первом разряде 1, так же как и у числа 5, поэтому в итоге получим (1*1, 0*0, 0 *1) = 100, то есть число 4 в десятичном формате.\n",
    "\n",
    "- `|` (логическое сложение): Похоже на логическое умножение, операция также производится по двоичным разрядам, но теперь возвращается единица, если хотя бы у одного числа в данном разряде имеется единица. Например:"
   ]
  },
  {
   "cell_type": "code",
   "execution_count": null,
   "id": "f74423b5",
   "metadata": {},
   "outputs": [],
   "source": [
    "x1 = 2      # 010\n",
    "y1 = 5      # 101\n",
    "z1 = x1|y1  # 111\n",
    "     \n",
    "print(f\"z1 = {z1}\")     # z1 = 7\n",
    "print(f\"z1 = {z1:0b}\")  # z1 = 111\n",
    "     \n",
    "x2 = 4          # 100\n",
    "y2 = 5          # 101\n",
    "z2 = x2 | y2    # 101\n",
    "print(f\"z2 = {z2}\")     # z2 = 5\n",
    "print(f\"z2 = {z2:0b}\")  # z2 = 101"
   ]
  },
  {
   "cell_type": "markdown",
   "id": "cc621459",
   "metadata": {},
   "source": [
    "- `^` (логическое исключающее ИЛИ): Если значения текущего разряда у обоих чисел разные, то возвращается 1, иначе возвращается 0. Также эту операцию называют XOR. Например:"
   ]
  },
  {
   "cell_type": "code",
   "execution_count": 63,
   "id": "b8f2e3ae",
   "metadata": {},
   "outputs": [
    {
     "name": "stdout",
     "output_type": "stream",
     "text": [
      "z = 12\n",
      "z = 1100\n"
     ]
    }
   ],
   "source": [
    "x = 9       #  1001\n",
    "y = 5       #  0101\n",
    "z = x ^ y   #  1100\n",
    "print(f\"z = {z}\")       # z = 12\n",
    "print(f\"z = {z:0b}\")   # z = 1100"
   ]
  },
  {
   "cell_type": "markdown",
   "id": "e89a71f9",
   "metadata": {},
   "source": [
    "Здесь число 9 в двоичной форме равно 1001. Число 5 равно 0101. Операция XOR дает следующий результат: 1^0, 0^1, 0^0, 1^1. Здесь мы видим, что первые два разряда чисел содержат разные значения, поэтому первые два разряда получат значение 1. А последние два разряда чисел содержат одинаковые значения, поэтому последние два разряда получат значение 0. Таким образом, мы получаем число 1100 или 12 в десятичной системе.\n",
    "\n",
    "нередко данную операцию применяют для простого шифрования:"
   ]
  },
  {
   "cell_type": "code",
   "execution_count": 64,
   "id": "783d56da",
   "metadata": {},
   "outputs": [
    {
     "name": "stdout",
     "output_type": "stream",
     "text": [
      "Зашифрованное число: 75\n",
      "Расшифрованное число: 45\n"
     ]
    }
   ],
   "source": [
    "x = 45       # Значение, которое надо зашифровать - в двоичной форме 101101\n",
    "key = 102    # Пусть это будет ключ - в двоичной форме 1100110\n",
    "     \n",
    "encrypt = x ^ key    # Результатом будет число 1001011 или 75\n",
    "print(f\"Зашифрованное число: {encrypt}\")\n",
    "     \n",
    "decrypt = encrypt ^ key    # Результатом будет исходное число 45\n",
    "print(f\"Расшифрованное число: {decrypt}\")"
   ]
  },
  {
   "cell_type": "markdown",
   "id": "1c7378d6",
   "metadata": {},
   "source": [
    "Также можно применять эту операцию для обмена значений чисел:"
   ]
  },
  {
   "cell_type": "code",
   "execution_count": 65,
   "id": "c81b4ce8",
   "metadata": {},
   "outputs": [
    {
     "name": "stdout",
     "output_type": "stream",
     "text": [
      "x = 5\n",
      "y = 9\n"
     ]
    }
   ],
   "source": [
    "x = 9       #  1001\n",
    "y = 5       #  0101\n",
    "x = x ^ y\n",
    "y = x ^ y\n",
    "x = x ^ y \n",
    "     \n",
    "print(f\"x = {x}\")       # x = 5\n",
    "print(f\"y = {y}\")       # y = 9"
   ]
  },
  {
   "cell_type": "markdown",
   "id": "1bf195fb",
   "metadata": {},
   "source": [
    "- `~`(инверсия): Инвертирует число. Выражение ~x фактически аналогично -(x+1). Например:"
   ]
  },
  {
   "cell_type": "code",
   "execution_count": 66,
   "id": "89f1948e",
   "metadata": {},
   "outputs": [
    {
     "name": "stdout",
     "output_type": "stream",
     "text": [
      "y: -6\n"
     ]
    }
   ],
   "source": [
    "x = 5\n",
    "y = ~x;\n",
    "print(f\"y: {y}\")  # -6"
   ]
  },
  {
   "cell_type": "markdown",
   "id": "190e3eb6",
   "metadata": {},
   "source": [
    "### Операции сдвига\n",
    "\n",
    "Операции сдвига также производятся над разрядами чисел. Сдвиг может происходить вправо и влево.\n",
    "\n",
    "- `x<<y` - сдвигает число x влево на y разрядов. Например, 4<<1 сдвигает число 4 (которое в двоичном представлении 100) на один разряд влево, то есть в итоге получается 1000 или число 8 в десятичном представлении.\n",
    "\n",
    "- `x>>y` - сдвигает число x вправо на y разрядов. Например, 16>>1 сдвигает число 16 (которое в двоичном представлении 10000) на один разряд вправо, то есть в итоге получается 1000 или число 8 в десятичном представлении.\n",
    "\n",
    "Таким образом, если исходное число, которое надо сдвинуть в ту или другую строну, делится на два, то фактически получается умножение или деление на два. Поэтому подобную операцию можно использовать вместо непосредственного умножения или деления на два. Например:"
   ]
  },
  {
   "cell_type": "code",
   "execution_count": 67,
   "id": "fc11d1ce",
   "metadata": {},
   "outputs": [
    {
     "name": "stdout",
     "output_type": "stream",
     "text": [
      "64\n",
      "4\n"
     ]
    }
   ],
   "source": [
    "a = 16 # в двоичной форме 10000\n",
    "b = 2 \n",
    "c = a << b  # Сдвиг числа 10000 влево на 2 разряда, равно 1000000 или 64 в десятичной системе\n",
    "print(c)   #64\n",
    " \n",
    "d = a >> b  #Сдвиг числа  10000  вправо на 2 разряда, равно 100 или 4 в десятичной системе\n",
    "print(d)   #4"
   ]
  },
  {
   "cell_type": "markdown",
   "id": "040b850e",
   "metadata": {},
   "source": [
    "При этом числа, которые участвую в операциях, необязательно должны быть кратны 2::"
   ]
  },
  {
   "cell_type": "code",
   "execution_count": 68,
   "id": "0fc34a17",
   "metadata": {},
   "outputs": [
    {
     "name": "stdout",
     "output_type": "stream",
     "text": [
      "88\n",
      "5\n"
     ]
    }
   ],
   "source": [
    "a = 22 # в двоичной форме 10110\n",
    "b = 2\n",
    "c = a << b  # Сдвиг числа 10110 влево на 2 разряда, равно 1011000 или 88 в десятичной системе\n",
    "print(c)   # 88\n",
    " \n",
    "d = a >> b  # Сдвиг числа 10110 вправо на 2 разряда, равно 101 или 5 в десятичной системе\n",
    "print(d)   # 5"
   ]
  },
  {
   "cell_type": "markdown",
   "id": "0b933aef",
   "metadata": {},
   "source": [
    "# Условные выражения\n",
    "Ряд операций представляют условные выражения. Все эти операции принимают два операнда и возвращают логическое значение, которое в Python представляет тип bool. Существует только два логических значения - True (выражение истинно) и False (выражение ложно).\n",
    "Операции сравнения\n",
    "\n",
    "Простейшие условные выражения представляют операции сравнения, которые сравнивают два значения. Python поддерживает следующие операции сравнения:\n",
    "\n",
    "- `==` Возвращает True, если оба операнда равны. Иначе возвращает False.\n",
    "\n",
    "- `!=` Возвращает True, если оба операнда НЕ равны. Иначе возвращает False.\n",
    "\n",
    "- `>` (больше чем) Возвращает True, если первый операнд больше второго.\n",
    "\n",
    "- `<` (меньше чем) Возвращает True, если первый операнд меньше второго.\n",
    "\n",
    "- `>=` (больше или равно) Возвращает True, если первый операнд больше или равен второму.\n",
    "\n",
    "- `<=` (меньше или равно) Возвращает True, если первый операнд меньше или равен второму.\n",
    "\n",
    "Примеры операций сравнения:"
   ]
  },
  {
   "cell_type": "code",
   "execution_count": 70,
   "id": "fb58baca",
   "metadata": {},
   "outputs": [
    {
     "name": "stdout",
     "output_type": "stream",
     "text": [
      "False\n",
      "True\n",
      "False\n",
      "True\n",
      "False\n"
     ]
    }
   ],
   "source": [
    "a = 5\n",
    "b = 6\n",
    "result = 5 == 6  # сохраняем результат операции в переменную\n",
    "print(result)  # False - 5 не равно 6\n",
    "print(a != b)  # True\n",
    "print(a > b)  # False - 5 меньше 6\n",
    "print(a < b)  # True\n",
    " \n",
    "bool1 = True\n",
    "bool2 = False\n",
    "print(bool1 == bool2)  # False - bool1 не равно bool2"
   ]
  },
  {
   "cell_type": "markdown",
   "id": "72422f92",
   "metadata": {},
   "source": [
    "Операции сравнения могут сравнивать различные объекты - строки, числа, логические значения, однако оба операнда операции должны представлять один и тот же тип.\n",
    "Логические операции\n",
    "\n",
    "Для создания составных условных выражений применяются логические операции. В Python имеются следующие логические операторы:\n",
    "\n",
    "### Оператор and (логическое умножение) применяется к двум операндам:\n",
    "\n",
    "`x and y`: Сначала оператор and оценивает выражение x, и если оно равно False, то возвращается его значение. Если оно равно True, то оценивается второй операнд - y и возвращается значение y."
   ]
  },
  {
   "cell_type": "code",
   "execution_count": 71,
   "id": "9c73acb8",
   "metadata": {},
   "outputs": [
    {
     "name": "stdout",
     "output_type": "stream",
     "text": [
      "True\n"
     ]
    }
   ],
   "source": [
    "age = 22\n",
    "weight = 58\n",
    "result = age > 21 and weight == 58\n",
    "print(result)  # True"
   ]
  },
  {
   "cell_type": "markdown",
   "id": "468fc673",
   "metadata": {},
   "source": [
    "В данном случае оператор and сравнивает результаты двух выражений: age > 21 weight == 58. И если оба этих выражений возвращают True, то оператор and также возвращает True (формально возвращается значение последнего операнда).\n",
    "\n",
    "Но операндами оператора and необязательно выступают значения True и False. Это могут быть любые значения. Например:"
   ]
  },
  {
   "cell_type": "code",
   "execution_count": 72,
   "id": "f9113281",
   "metadata": {},
   "outputs": [
    {
     "name": "stdout",
     "output_type": "stream",
     "text": [
      "w\n",
      "0\n"
     ]
    }
   ],
   "source": [
    "result = 4 and \"w\"\n",
    "print(result)  # w, так как 4 равно True, поэтому возвращается значение последнего операнда\n",
    "     \n",
    "result = 0 and \"w\"\n",
    "print(result)  # 0, так как 0 эквивалентно False"
   ]
  },
  {
   "cell_type": "markdown",
   "id": "ecea7003",
   "metadata": {},
   "source": [
    "В данном случае число 0 и пустая строка \"\" расматриваются как False, все остальные числа и непустые строки эквивалентны True\n",
    "\n",
    "### or (логическое сложение) также применяется к двум операндам:\n",
    "\n",
    "`x or y`: Сначала оператор or оценивает выражение x, и если оно равно True, то возвращается его значение. Если оно равно False, то оценивается второй операнд - y и возвращается значение y. Например"
   ]
  },
  {
   "cell_type": "code",
   "execution_count": 73,
   "id": "ed5d6f45",
   "metadata": {},
   "outputs": [
    {
     "name": "stdout",
     "output_type": "stream",
     "text": [
      "True\n"
     ]
    }
   ],
   "source": [
    "age = 22\n",
    "isMarried = False\n",
    "result = age > 21 or isMarried\n",
    "print(result)  # True, так как выражение age > 21 равно True"
   ]
  },
  {
   "cell_type": "markdown",
   "id": "f6961c6c",
   "metadata": {},
   "source": [
    "И также оператор or может применяться к любым значениям. Например:"
   ]
  },
  {
   "cell_type": "code",
   "execution_count": 74,
   "id": "35dfdee7",
   "metadata": {},
   "outputs": [
    {
     "name": "stdout",
     "output_type": "stream",
     "text": [
      "4\n",
      "w\n"
     ]
    }
   ],
   "source": [
    "result = 4 or \"w\"\n",
    "print(result)  # 4, так как 4 эквивалентно True, поэтому возвращается значение первого операнда\n",
    "     \n",
    "result = 0 or \"w\"\n",
    "print(result)  # w, так как 0 эквивалентно False, поэтому возвращается значение последнего операнда"
   ]
  },
  {
   "cell_type": "markdown",
   "id": "69481765",
   "metadata": {},
   "source": [
    "### not (логическое отрицание)\n",
    "\n",
    "Возвращает __True__, если выражение равно __False__"
   ]
  },
  {
   "cell_type": "code",
   "execution_count": 75,
   "id": "aa0a6368",
   "metadata": {},
   "outputs": [
    {
     "name": "stdout",
     "output_type": "stream",
     "text": [
      "False\n",
      "True\n",
      "False\n",
      "True\n"
     ]
    }
   ],
   "source": [
    "age = 22\n",
    "isMarried = False\n",
    "print(not age > 21)  # False\n",
    "print(not isMarried)  # True\n",
    "print(not 4)  # False\n",
    "print(not 0)  # True"
   ]
  },
  {
   "cell_type": "markdown",
   "id": "1f290835",
   "metadata": {},
   "source": [
    "### Оператор in\n",
    "\n",
    "Оператор in возвращает True если в некотором наборе значений есть определенное значение. Он имеет следующую форму:\n",
    "\n",
    "> значение in набор_значений\n",
    "\n",
    "Например, строка представляет набор символов. И с помощью оператора in мы можем проверить, есть ли в ней какая-нибудь подстрока:"
   ]
  },
  {
   "cell_type": "code",
   "execution_count": 76,
   "id": "21ab12e9",
   "metadata": {},
   "outputs": [
    {
     "name": "stdout",
     "output_type": "stream",
     "text": [
      "True\n",
      "False\n"
     ]
    }
   ],
   "source": [
    "message = \"hello world!\"\n",
    "hello = \"hello\"\n",
    "print(hello in message)  # True - подстрока hello есть в строке \"hello world!\"\n",
    " \n",
    "gold = \"gold\"\n",
    "print(gold in message)  # False - подстроки \"gold\" нет в строке \"hello world!\""
   ]
  },
  {
   "cell_type": "markdown",
   "id": "670780bf",
   "metadata": {},
   "source": [
    "Если нам надо наоборот проверить, нет ли в наборе значений какого-либо значения, то мы може использовать модификацию оператора - not in. Она возвращает True, если в наборе значений НЕТ определенного значения:"
   ]
  },
  {
   "cell_type": "code",
   "execution_count": 77,
   "id": "8678ec19",
   "metadata": {},
   "outputs": [
    {
     "name": "stdout",
     "output_type": "stream",
     "text": [
      "False\n",
      "True\n"
     ]
    }
   ],
   "source": [
    "message = \"hello world!\"\n",
    "hello = \"hello\"\n",
    "print(hello not in message)  # False\n",
    " \n",
    "gold = \"gold\"\n",
    "print(gold not in message)  # True"
   ]
  },
  {
   "cell_type": "markdown",
   "id": "bfefddbf",
   "metadata": {},
   "source": [
    "# Условная конструкция if\n",
    "Условные конструкции используют условные выражения и в зависимости от их значения направляют выполнение программы по одному из путей. Одна из таких конструкций - это конструкция __if__. Она имеет следующее формальное определение:\n",
    "```\n",
    "if логическое_выражение:\n",
    "    инструкции\n",
    "[elif логическое выражение:\n",
    "    инструкции]\n",
    "[else: \n",
    "    инструкции]\n",
    "```\n",
    "В самом простом виде после ключевого слова __if__ идет логическое выражение. И если это логическое выражение возвращает True, то выполняется последующий блок инструкций, каждая из которых должна начинаться с новой строки и должна иметь отступы от начала выражения if (отступ желательно делать в 4 пробела или то количество пробелов, которое кратно 4):"
   ]
  },
  {
   "cell_type": "code",
   "execution_count": 78,
   "id": "4e692cb0",
   "metadata": {},
   "outputs": [
    {
     "name": "stdout",
     "output_type": "stream",
     "text": [
      "Hello\n",
      "End\n"
     ]
    }
   ],
   "source": [
    "language = \"english\"\n",
    "if language == \"english\":\n",
    "    print(\"Hello\")\n",
    "print(\"End\")"
   ]
  },
  {
   "cell_type": "markdown",
   "id": "dbf1d1c5",
   "metadata": {},
   "source": [
    "Поскольку в данном случае значение переменной language равно \"english\", то будет выполняться блок if, который содержит только одну инструкцию - print(\"Hello\"). В итоге консоль выведет следующие строки:\n",
    "```\n",
    "Hello\n",
    "End\n",
    "```\n",
    "Обратите внимание в коде на последнюю строку, которая выводит сообщение \"End\". Она не имеет отступов от начала строки, поэтому она не принадлежит к блоку if и будет выполняться в любом случае, даже если выражение в конструкции if возвратит False.\n",
    "\n",
    "Но если бы мы поставили бы отступы, то она также принадлежала бы к конструкции if:"
   ]
  },
  {
   "cell_type": "code",
   "execution_count": 79,
   "id": "3f3032f0",
   "metadata": {},
   "outputs": [
    {
     "name": "stdout",
     "output_type": "stream",
     "text": [
      "Hello\n",
      "End\n"
     ]
    }
   ],
   "source": [
    "language = \"english\"\n",
    "if language == \"english\":\n",
    "    print(\"Hello\")\n",
    "    print(\"End\")\n",
    "    "
   ]
  },
  {
   "cell_type": "markdown",
   "id": "11ad1710",
   "metadata": {},
   "source": [
    "### Блок else\n",
    "\n",
    "Если вдруг нам надо определить альтернативное решение на тот случай, если выражение в __if__ возвратит False, то мы можем использовать блок else:"
   ]
  },
  {
   "cell_type": "code",
   "execution_count": 80,
   "id": "8f56c125",
   "metadata": {},
   "outputs": [
    {
     "name": "stdout",
     "output_type": "stream",
     "text": [
      "Привет\n",
      "End\n"
     ]
    }
   ],
   "source": [
    "language = \"russian\"\n",
    "if language == \"english\":\n",
    "    print(\"Hello\")\n",
    "else:\n",
    "    print(\"Привет\")\n",
    "print(\"End\")"
   ]
  },
  {
   "cell_type": "markdown",
   "id": "35a85dcc",
   "metadata": {},
   "source": [
    "Если выражение `language == \"english\"` возвращает True, то выполняется блок if, иначе выполняется блок else. И поскольку в данном случае условие `language == \"english\"` возвращает False, то будут выполняться инструкция из блока else.\n",
    "\n",
    "Причем инструкции блока else также должны имет отступы от начала строки. Например, в примере выше print(\"End\") не имеет отступа, поэтому она не входит в блок else и будет выполнятьься вне зависимости, чему равно условие `language == \"english\"`. То есть консоль нам выведет следующие строки:\n",
    "```\n",
    "Привет\n",
    "End\n",
    "```\n",
    "Блок else также может иметь несколько инструкций, которые должны иметь отступ от начала строки:"
   ]
  },
  {
   "cell_type": "code",
   "execution_count": 83,
   "id": "25361e62",
   "metadata": {},
   "outputs": [
    {
     "name": "stdout",
     "output_type": "stream",
     "text": [
      "Привет\n",
      "мир\n"
     ]
    }
   ],
   "source": [
    "language = \"russian\"\n",
    "if language == \"english\":\n",
    "    print(\"Hello\")\n",
    "    print(\"World\")\n",
    "else:\n",
    "    print(\"Привет\")\n",
    "    print(\"мир\")\n"
   ]
  },
  {
   "cell_type": "markdown",
   "id": "add054ee",
   "metadata": {},
   "source": [
    "Если необходимо ввести несколько альтернативных условий, то можно использовать дополнительные блоки elif, после которого идет блок инструкций."
   ]
  },
  {
   "cell_type": "code",
   "execution_count": 84,
   "id": "6e8f89e4",
   "metadata": {},
   "outputs": [
    {
     "name": "stdout",
     "output_type": "stream",
     "text": [
      "Hallo\n",
      "Welt\n"
     ]
    }
   ],
   "source": [
    "language = \"german\"\n",
    "if language == \"english\":\n",
    "    print(\"Hello\")\n",
    "    print(\"World\")\n",
    "elif language == \"german\":\n",
    "    print(\"Hallo\")\n",
    "    print(\"Welt\")\n",
    "else:\n",
    "    print(\"Привет\")\n",
    "    print(\"мир\")"
   ]
  },
  {
   "cell_type": "markdown",
   "id": "6bd9c873",
   "metadata": {},
   "source": [
    "Сначала Python проверяет выражение __if__. Если оно равно True, то выполняются инструкции из блока if. Если это условие возвращает False, то Python проверяет выражение из __elif__.\n",
    "\n",
    "Если выражение после __elif__ равно True, то выполняются инструкции из блока __elif__. Но если оно равно False то выполняются инструкции из блока __else__\n",
    "\n",
    "При необходимости можно определить несколько блоков __elif__ для разных условий. Например:"
   ]
  },
  {
   "cell_type": "code",
   "execution_count": 85,
   "id": "0d5b33eb",
   "metadata": {},
   "outputs": [
    {
     "name": "stdout",
     "output_type": "stream",
     "text": [
      "Hallo\n"
     ]
    }
   ],
   "source": [
    "language = \"german\"\n",
    "if language == \"english\":\n",
    "    print(\"Hello\")\n",
    "elif language == \"german\":\n",
    "    print(\"Hallo\")\n",
    "elif language == \"french\":\n",
    "    print(\"Salut\")\n",
    "else:\n",
    "    print(\"Привет\")\n",
    "    "
   ]
  },
  {
   "cell_type": "markdown",
   "id": "9198fe98",
   "metadata": {},
   "source": [
    "### Вложенные конструкции if\n",
    "\n",
    "Конструкция __if__ в свою очередь сама может иметь вложенные конструкции __if__:"
   ]
  },
  {
   "cell_type": "code",
   "execution_count": 86,
   "id": "3f523907",
   "metadata": {},
   "outputs": [
    {
     "name": "stdout",
     "output_type": "stream",
     "text": [
      "English\n",
      "Good morning\n"
     ]
    }
   ],
   "source": [
    "language = \"english\"\n",
    "daytime = \"morning\"\n",
    "if language == \"english\":\n",
    "    print(\"English\")\n",
    "    if daytime == \"morning\":\n",
    "        print(\"Good morning\")\n",
    "    else:\n",
    "        print(\"Good evening\")"
   ]
  },
  {
   "cell_type": "markdown",
   "id": "6eaacf6c",
   "metadata": {},
   "source": [
    "Здесь конструкция __if__ содержит вложенную конструкцию __if/else__. То есть если переменная language равна \"english\", тогда вложенная конструкция __if/else__ дополнительно проверяет значение переменной daytime - равна ли она строке \"morning\" ли нет. И в данном случае мы получим следующий консольный вывод:\n",
    "```\n",
    "English\n",
    "Good morning\n",
    "```\n",
    "Стоит учитывать, что вложенные выражения __if__ также должны начинаться с отступов, а инструкции во вложенных конструкциях также должны иметь отступы. Отступы, расставленные не должным образом, могут изменить логику программы. Так, предыдущий пример НЕ аналогичен следующему:"
   ]
  },
  {
   "cell_type": "code",
   "execution_count": 87,
   "id": "3907fc7e",
   "metadata": {},
   "outputs": [
    {
     "name": "stdout",
     "output_type": "stream",
     "text": [
      "English\n",
      "Good morning\n"
     ]
    }
   ],
   "source": [
    "language = \"english\"\n",
    "daytime = \"morning\"\n",
    "if language == \"english\":\n",
    "    print(\"English\")\n",
    "if daytime == \"morning\":\n",
    "    print(\"Good morning\")\n",
    "else:\n",
    "     print(\"Good evening\")"
   ]
  },
  {
   "cell_type": "markdown",
   "id": "613ede44",
   "metadata": {},
   "source": [
    "Подобным образом можно размещать вложенные конструкции if/elif/else в блоках elif и else:"
   ]
  },
  {
   "cell_type": "code",
   "execution_count": 88,
   "id": "20d4d8d3",
   "metadata": {},
   "outputs": [
    {
     "name": "stdout",
     "output_type": "stream",
     "text": [
      "Доброе утро\n"
     ]
    }
   ],
   "source": [
    "language = \"russian\"\n",
    "daytime = \"morning\"\n",
    "if language == \"english\":\n",
    "    if daytime == \"morning\":\n",
    "        print(\"Good morning\")\n",
    "    else:\n",
    "        print(\"Good evening\")\n",
    "else:\n",
    "    if daytime == \"morning\":\n",
    "        print(\"Доброе утро\")\n",
    "    else:\n",
    "        print(\"Добрый вечер\")"
   ]
  },
  {
   "cell_type": "markdown",
   "id": "7b83c4f4",
   "metadata": {},
   "source": [
    "# Циклы\n",
    "\n",
    "Циклы позволяют выполнять некоторое действие в зависимости от соблюдения некоторого условия. В языке Python есть следующие типы циклов:\n",
    "\n",
    "- __while__\n",
    "\n",
    "- __for__\n",
    "\n",
    "### Цикл while\n",
    "\n",
    "Цикл while проверяет истинность некоторого условия, и если условие истинно, то выполняет инструкции цикла. Он имеет следующее формальное определение:\n",
    "\n",
    "```\n",
    "while условное_выражение:\n",
    "   инструкции\n",
    "```\n",
    "После ключевого слова __while__ указывается условное выражение, и пока это выражение возвращает значение True, будет выполняться блок инструкций, который идет далее.\n",
    "\n",
    "Все инструкции, которые относятся к циклу while, располагаются на последующих строках и должны иметь отступ от начала ключевого слова while."
   ]
  },
  {
   "cell_type": "code",
   "execution_count": 1,
   "id": "510875a4",
   "metadata": {},
   "outputs": [
    {
     "name": "stdout",
     "output_type": "stream",
     "text": [
      "number = 1\n",
      "number = 2\n",
      "number = 3\n",
      "number = 4\n",
      "Работа программы завершена\n"
     ]
    }
   ],
   "source": [
    "number = 1\n",
    " \n",
    "while number < 5:\n",
    "    print(f\"number = {number}\")\n",
    "    number += 1\n",
    "print(\"Работа программы завершена\")"
   ]
  },
  {
   "cell_type": "markdown",
   "id": "e02ced75",
   "metadata": {},
   "source": [
    "В данном случае цикл while будет выполняться, пока переменная number меньше 5.\n",
    "\n",
    "Сам блок цикла состоит из двух инструкций:"
   ]
  },
  {
   "cell_type": "code",
   "execution_count": 2,
   "id": "54047ac4",
   "metadata": {},
   "outputs": [
    {
     "name": "stdout",
     "output_type": "stream",
     "text": [
      "number = 5\n"
     ]
    }
   ],
   "source": [
    "print(f\"number = {number}\")\n",
    "number += 1"
   ]
  },
  {
   "cell_type": "markdown",
   "id": "363a33d9",
   "metadata": {},
   "source": [
    "Обратите внимание, что они имеют отступы от начала оператора while - в данном случае от начала строки. Благодаря этому Python может определить, что они принадлежат циклу. В самом цикле сначала выводится значение переменной number, а потом ей присваивается новое значение.\n",
    "\n",
    "Также обратите внимание, что последняя инструкция print(\"Работа программы завершена\") не имеет отступов от начала строки, поэтому она не входит в цикл while.\n",
    "\n",
    "Весь процесс цикла можно представить следующим образом:\n",
    "\n",
    "1) Сначала проверяется значение переменной number - меньше ли оно 5. И поскольку вначале переменная равна 1, то это условие возвращает True, и поэтому выполняются инструкции цикла\n",
    "\n",
    "2) Инструкции цикла выводят на консоль строку number = 1. И далее значение переменной number увеличивается на единицу - теперь она равна 2. Однократное выполнение блока инструкций цикла называется итерацией. То есть таким образом, в цикле выполняется первая итерация.\n",
    "\n",
    "3) Снова проверяется условие number < 5. Оно по прежнему равно True, так как number = 2, поэтому выполняются инструкции цикла\n",
    "\n",
    "4) Инструкции цикла выводят на консоль строку number = 2. И далее значение переменной number опять увеличивается на единицу - теперь она равна 3. Таким образом, выполняется вторая итерация.\n",
    "\n",
    "6) Опять проверяется условие number < 5. Оно по прежнему равно True, так как number = 3, поэтому выполняются инструкции цикла\n",
    "\n",
    "7) Инструкции цикла выводят на консоль строку number = 3. И далее значение переменной number опять увеличивается на единицу - теперь она равна 4. То есть выполняется третья итерация.\n",
    "\n",
    "8) Снова проверяется условие number < 5. Оно по прежнему равно True, так как number = 4, поэтому выполняются инструкции цикла\n",
    "\n",
    "9) Инструкции цикла выводят на консоль строку number = 4. И далее значение переменной number опять увеличивается на единицу - теперь она равна 5. То есть выполняется четвертая итерация.\n",
    "\n",
    "10) И вновь проверяется условие number < 5. Но теперь оно равно False, так как number = 5, поэтому выполняются выход из цикла. Все цикл - завершился. Дальше уже выполняются действия, которые определены после цикла. Таким образом, данный цикл произведет четыре прохода или четыре итерации\n",
    "\n",
    "В итоге при выполнении кода мы получим следующий консольный вывод:\n",
    "```\n",
    "number = 1\n",
    "number = 2\n",
    "number = 3\n",
    "number = 4\n",
    "Работа программы завершена\n",
    "\n",
    "```\n",
    "Для цикла while также можно определить дополнительный блок else, инструкции которого выполняются, когда условие равно False:"
   ]
  },
  {
   "cell_type": "code",
   "execution_count": 3,
   "id": "e522f6e1",
   "metadata": {},
   "outputs": [
    {
     "name": "stdout",
     "output_type": "stream",
     "text": [
      "number = 1\n",
      "number = 2\n",
      "number = 3\n",
      "number = 4\n",
      "number = 5. Работа цикла завершена\n",
      "Работа программы завершена\n"
     ]
    }
   ],
   "source": [
    "number = 1\n",
    " \n",
    "while number < 5:\n",
    "    print(f\"number = {number}\")\n",
    "    number += 1\n",
    "else:\n",
    "    print(f\"number = {number}. Работа цикла завершена\")\n",
    "print(\"Работа программы завершена\")"
   ]
  },
  {
   "cell_type": "markdown",
   "id": "1195fb0c",
   "metadata": {},
   "source": [
    "То есть в данном случае сначала проверяется условие и выполняются инструкции while. Затем, когда условие становится равным False, выполняются инструкции из блока else. Обратите внимание, что инструкции из блока else также имеют отступы от начала конструкции цикла. \n",
    "\n",
    "Блок else может быть полезен, если условие изначально равно False, и мы можем выполнить некоторые действия по этому поводу:"
   ]
  },
  {
   "cell_type": "code",
   "execution_count": 4,
   "id": "5ace2406",
   "metadata": {},
   "outputs": [
    {
     "name": "stdout",
     "output_type": "stream",
     "text": [
      "number = 10. Работа цикла завершена\n",
      "Работа программы завершена\n"
     ]
    }
   ],
   "source": [
    "number = 10\n",
    " \n",
    "while number < 5:\n",
    "    print(f\"number = {number}\")\n",
    "    number += 1\n",
    "else:\n",
    "    print(f\"number = {number}. Работа цикла завершена\")\n",
    "print(\"Работа программы завершена\")"
   ]
  },
  {
   "cell_type": "markdown",
   "id": "6a3dd21c",
   "metadata": {},
   "source": [
    "В данном случае условие number < 5 изначально равно False, поэтому цикл не выполняет ни одной итерации и сразу переходит в блоку else.\n",
    "\n",
    "### Цикл for\n",
    "\n",
    "Другой тип циклов представляет конструкция __for__. Этот цикл пробегается по набору значений, помещает каждое значение в переменную, и затем в цикле мы можем с этой переменной производить различные действия. Формальное определение цикла for:\n",
    "```\n",
    "for переменная in набор_значений:\n",
    "    инструкции\n",
    "```\n",
    "После ключевого слова __for__ идет название переменной, в которую будут помещаться значения. Затем после оператора __in__ указывается набор значений и двоеточие.\n",
    "\n",
    "А со следующей строки располагается блок инструкций цикла, которые также должны иметь отступы от начала цикла.\n",
    "\n",
    "При выполнении цикла Python последовательно получает все значения из набора и передает их переменную. Когда все значения из набора будут перебраны, цикл завершает свою работу.\n",
    "\n",
    "В качестве набора значений, например, можно рассматривать строку, которая по сути представляет набор символов. Посмотрим на примере:"
   ]
  },
  {
   "cell_type": "code",
   "execution_count": 5,
   "id": "fdaf97fa",
   "metadata": {},
   "outputs": [
    {
     "name": "stdout",
     "output_type": "stream",
     "text": [
      "H\n",
      "e\n",
      "l\n",
      "l\n",
      "o\n"
     ]
    }
   ],
   "source": [
    "message = \"Hello\"\n",
    " \n",
    "for c in message:\n",
    "    print(c)"
   ]
  },
  {
   "cell_type": "markdown",
   "id": "61b65925",
   "metadata": {},
   "source": [
    "В цикле определяется переменную c, после оператора in в качестве перебираемого набора указана переменная message, которая хранит строку \"Hello\". В итоге цикл for будет перебираеть последовательно все символы из строки message и помещать их в переменную c. Блок самого цикла состоит из одной инструкции, которая выводит значение переменной с на консоль. Консольный вывод программы:\n",
    "\n",
    "Цикл __for__ также может иметь дополнительный блок __else__, который выполняется после завершения цикла:"
   ]
  },
  {
   "cell_type": "code",
   "execution_count": 6,
   "id": "feb39f7b",
   "metadata": {},
   "outputs": [
    {
     "name": "stdout",
     "output_type": "stream",
     "text": [
      "H\n",
      "e\n",
      "l\n",
      "l\n",
      "o\n",
      "Последний символ: o. Цикл завершен\n",
      "Работа программы завершена\n"
     ]
    }
   ],
   "source": [
    "message = \"Hello\"\n",
    "for c in message:\n",
    "    print(c)\n",
    "else:\n",
    "    print(f\"Последний символ: {c}. Цикл завершен\");\n",
    "print(\"Работа программы завершена\")  # инструкция не имеет отступа, поэтому не относится к else"
   ]
  },
  {
   "cell_type": "markdown",
   "id": "6ef0a9da",
   "metadata": {},
   "source": [
    "\n",
    "Стоит отметить, что блок else имеет доступ ко всем переменным, которые определены в цикле for.\n",
    "\n",
    "### Вложенные циклы\n",
    "\n",
    "Одни циклы внутри себя могут содержать другие циклы. Рассмотрим на примере вывода таблицы умножения:"
   ]
  },
  {
   "cell_type": "code",
   "execution_count": 7,
   "id": "c9f9e4ce",
   "metadata": {},
   "outputs": [
    {
     "name": "stdout",
     "output_type": "stream",
     "text": [
      "1\t2\t3\t4\t5\t6\t7\t8\t9\t\n",
      "\n",
      "2\t4\t6\t8\t10\t12\t14\t16\t18\t\n",
      "\n",
      "3\t6\t9\t12\t15\t18\t21\t24\t27\t\n",
      "\n",
      "4\t8\t12\t16\t20\t24\t28\t32\t36\t\n",
      "\n",
      "5\t10\t15\t20\t25\t30\t35\t40\t45\t\n",
      "\n",
      "6\t12\t18\t24\t30\t36\t42\t48\t54\t\n",
      "\n",
      "7\t14\t21\t28\t35\t42\t49\t56\t63\t\n",
      "\n",
      "8\t16\t24\t32\t40\t48\t56\t64\t72\t\n",
      "\n",
      "9\t18\t27\t36\t45\t54\t63\t72\t81\t\n",
      "\n"
     ]
    }
   ],
   "source": [
    "i = 1\n",
    "j = 1\n",
    "while i < 10:\n",
    "    while j < 10:\n",
    "        print(i * j, end=\"\\t\")\n",
    "        j += 1\n",
    "    print(\"\\n\")\n",
    "    j = 1\n",
    "    i += 1"
   ]
  },
  {
   "cell_type": "markdown",
   "id": "20de076b",
   "metadata": {},
   "source": [
    "Внешний цикл while i < 10: срабатывает 9 раз пока переменная i не станет равна 10. Внутри этого цикла срабатывает внутренний цикл while j < 10:. Внутренний цикл также срабатывает 9 раз пока переменная j не станет равна 10. Причем все 9 итераций внутреннего цикла срабатывают в рамках одной итерации внешнего цикла.\n",
    "\n",
    "В каждой итерации внутреннего цикла на консоль будет выводится произведение чисел i и j. Затем значение переменной j увеличивается на единицу. Когда внутренний цикл закончил работу, значений переменной j сбрасывается в 1, а значение переменной i увеличивается на единицу и происходит переход к следующей итерации внешнего цикла. И все повторяется, пока переменная i не станет равна 10. Соответственно внутренний цикл сработает всего 81 раз для всех итераций.\n",
    "\n",
    "Подобным образом можно определять вложенные циклы for:"
   ]
  },
  {
   "cell_type": "code",
   "execution_count": 8,
   "id": "470ef52a",
   "metadata": {},
   "outputs": [
    {
     "name": "stdout",
     "output_type": "stream",
     "text": [
      "ab\n",
      "aa\n",
      "bb\n",
      "ba\n"
     ]
    }
   ],
   "source": [
    "for c1 in  \"ab\":\n",
    "    for c2 in \"ba\":\n",
    "        print(f\"{c1}{c2}\")"
   ]
  },
  {
   "cell_type": "markdown",
   "id": "36d9ffa6",
   "metadata": {},
   "source": [
    "В данном случае внешний цикл проходит по строке \"ab\" и каждый символ помещает в переменную c1. Внутренний цикл проходит по строке \"ba\", помещает каждый символ строки в переменную c2 и выводит сочетание обоих символов на консоль. То есть в итоге мы получим все возможные сочетания символов a и b:\n",
    "\n",
    "### Выход из цикла. break и continue\n",
    "\n",
    "Для управления циклом мы можем использовать специальные операторы break и continue. Оператор break осуществляет выход из цикла. А оператор continue выполняет переход к следующей итерации цикла.\n",
    "\n",
    "Оператор break может использоваться, если в цикле образуются условия, которые несовместимы с его дальнейшим выполнением. Рассмотрим следующий пример:"
   ]
  },
  {
   "cell_type": "code",
   "execution_count": 9,
   "id": "79033c26",
   "metadata": {},
   "outputs": [
    {
     "name": "stdout",
     "output_type": "stream",
     "text": [
      "number = 1\n",
      "number = 2\n"
     ]
    }
   ],
   "source": [
    "number = 0\n",
    "while number < 5:\n",
    "    number += 1\n",
    "    if number == 3 :    # если number = 3, выходим из цикла\n",
    "        break\n",
    "    print(f\"number = {number}\")"
   ]
  },
  {
   "cell_type": "markdown",
   "id": "deff2d8d",
   "metadata": {},
   "source": [
    "Здесь цикл while проверяет условие number < 5. И пока number не равно 5, предполагается, что значение number будет выводиться на консоль. Однако внутри цикла также проверяется другое условие: if number == 3. То есть, если значение number равно 3, то с помощью оператора break выходим из цикла. И в итоге мы получим следующий консольный вывод:\n",
    "\n",
    "В отличие от оператора break оператор continue выполняет переход к следующей итерации цикла без его завершения. Например, в предыдущем примере заменим break на continue:"
   ]
  },
  {
   "cell_type": "code",
   "execution_count": 10,
   "id": "0b439cf8",
   "metadata": {},
   "outputs": [
    {
     "name": "stdout",
     "output_type": "stream",
     "text": [
      "number = 1\n",
      "number = 2\n",
      "number = 4\n",
      "number = 5\n"
     ]
    }
   ],
   "source": [
    "number = 0\n",
    "while number < 5:\n",
    "    number += 1\n",
    "    if number == 3 :    # если number = 3, переходим к новой итерации цикла\n",
    "        continue\n",
    "    print(f\"number = {number}\")"
   ]
  },
  {
   "cell_type": "markdown",
   "id": "cf2acbc6",
   "metadata": {},
   "source": [
    "И в этом случае если значение переменной number равно 3, последующие инструкции после оператора continue не будут выполняться"
   ]
  },
  {
   "cell_type": "markdown",
   "id": "ab80098a",
   "metadata": {},
   "source": [
    "# Функции\n",
    "\n",
    "\n",
    "Функции представляют блок кода, который выполняет определенную задачу и который можно повторно использовать в других частях программы. В предыдущих статьях уже использовались функции. В частности, функция print(), которая выводит некоторое значение на консоль. Python имеет множество встроенных функций и позволяет определять свои функции. Формальное определение функции:\n",
    "```\n",
    "def имя_функции ([параметры]):\n",
    "    инструкции\n",
    "```\n",
    "Определение функции начинается с выражения def, которое состоит из имени функции, набора скобок с параметрами и двоеточия. Параметры в скобках необязательны. А со следующей строки идет блок инструкций, которые выполняет функция. Все инструкции функции имеют отступы от начала строки.\n",
    "\n",
    "Например, определение простейшей функции:"
   ]
  },
  {
   "cell_type": "code",
   "execution_count": 11,
   "id": "051a7236",
   "metadata": {},
   "outputs": [],
   "source": [
    "def say_hello():\n",
    "    print(\"Hello\")"
   ]
  },
  {
   "cell_type": "markdown",
   "id": "ff9d291a",
   "metadata": {},
   "source": [
    "Функция называется say_hello. Она не имеет параметров и содержит одну единственную инструкцию, которая выводит на консоль строку \"Hello\".\n",
    "\n",
    "Обратите внимание, что инструкции функции должны иметь отступы от начала функции. Например:"
   ]
  },
  {
   "cell_type": "code",
   "execution_count": 12,
   "id": "0e1269d4",
   "metadata": {},
   "outputs": [
    {
     "name": "stdout",
     "output_type": "stream",
     "text": [
      "Bye\n"
     ]
    }
   ],
   "source": [
    "def say_hello():\n",
    "    print(\"Hello\")\n",
    " \n",
    " \n",
    "print(\"Bye\")"
   ]
  },
  {
   "cell_type": "markdown",
   "id": "f066826c",
   "metadata": {},
   "source": [
    "Здесь инструкция print(\"Bye\") не имеет отступов от начала функции say_hello и поэтому в эту функцию не входит. Обычно между определением функции и остальными инструкциями, которые не входят в функцию, располагаются две пустых строки.\n",
    "\n",
    "Для вызова функции указывается имя функции, после которого в скобках идет передача значений для всех ее параметров:\n",
    "```\n",
    "имя_функции ([параметры])\n",
    "```\n",
    "Например, определим и вызовем функцию:"
   ]
  },
  {
   "cell_type": "code",
   "execution_count": 13,
   "id": "967ec4b4",
   "metadata": {},
   "outputs": [
    {
     "name": "stdout",
     "output_type": "stream",
     "text": [
      "Hello\n",
      "Hello\n",
      "Hello\n"
     ]
    }
   ],
   "source": [
    "def say_hello():    # определение функции say_hello\n",
    "    print(\"Hello\")\n",
    " \n",
    " \n",
    "say_hello()         # вызов функции say_hello\n",
    "say_hello()\n",
    "say_hello()"
   ]
  },
  {
   "cell_type": "markdown",
   "id": "03b18b40",
   "metadata": {},
   "source": [
    "Здесь три раза подряд вызывается функция say_hello. Обратите внимание, что функция сначала определяется, а потом вызывается.\n",
    "\n",
    "Если функция имеет одну инструкцию, то ее можно разместить на одной строке с остальным определением функции:"
   ]
  },
  {
   "cell_type": "code",
   "execution_count": 14,
   "id": "2514e487",
   "metadata": {},
   "outputs": [
    {
     "name": "stdout",
     "output_type": "stream",
     "text": [
      "Hello\n"
     ]
    }
   ],
   "source": [
    "def say_hello(): print(\"Hello\")\n",
    "\n",
    "say_hello()"
   ]
  },
  {
   "cell_type": "markdown",
   "id": "9aff11a2",
   "metadata": {},
   "source": [
    "Подобным образом можно определять и вызывать и другие функции. Например, определим и выполним несколько функций:"
   ]
  },
  {
   "cell_type": "code",
   "execution_count": 15,
   "id": "d25ad08d",
   "metadata": {},
   "outputs": [
    {
     "name": "stdout",
     "output_type": "stream",
     "text": [
      "Hello\n",
      "Good Bye\n"
     ]
    }
   ],
   "source": [
    "def say_hello():\n",
    "    print(\"Hello\")\n",
    " \n",
    " \n",
    "def say_goodbye():\n",
    "    print(\"Good Bye\")\n",
    " \n",
    " \n",
    "say_hello()\n",
    "say_goodbye()"
   ]
  },
  {
   "cell_type": "markdown",
   "id": "7c03e1e0",
   "metadata": {},
   "source": [
    "### Локальные функции\n",
    "\n",
    "Одни функции могут определяться внутри других функций - внутренние функции еще называют локальными. Локальные функции можно использовать только внутри той функции, в которой они определены. Например:"
   ]
  },
  {
   "cell_type": "code",
   "execution_count": 16,
   "id": "02296a58",
   "metadata": {},
   "outputs": [
    {
     "name": "stdout",
     "output_type": "stream",
     "text": [
      "Hello\n",
      "Good Bye\n"
     ]
    }
   ],
   "source": [
    "def print_messages():\n",
    "    # определение локальных функций\n",
    "    def say_hello(): print(\"Hello\")\n",
    "    def say_goodbye(): print(\"Good Bye\")\n",
    "    # вызов локальных функций\n",
    "    say_hello()\n",
    "    say_goodbye()\n",
    "\n",
    "# Вызов функции print_messages\n",
    "print_messages()\n",
    " \n",
    "#say_hello() # вне функции print_messages функция say_hello не доступна"
   ]
  },
  {
   "cell_type": "markdown",
   "id": "64e1f685",
   "metadata": {},
   "source": [
    "Здесь функции say_hello() и say_goodbye() определены внутри функции print_messages() и поэтому по отношению к ней являются локальными. Соответственно они могут использоваться только внутри функции print_messages()\n",
    "Организация программы и функция main\n",
    "\n",
    "В программе может быть определено множество функций. И чтобы всех их упорядочить, одним из способов их организации является добавление специальной функции (обычно называется main), в которой потом уже вызываются другие функции:"
   ]
  },
  {
   "cell_type": "code",
   "execution_count": 17,
   "id": "cdf89ee0",
   "metadata": {},
   "outputs": [
    {
     "name": "stdout",
     "output_type": "stream",
     "text": [
      "Hello\n",
      "Good Bye\n"
     ]
    }
   ],
   "source": [
    "def main():\n",
    "    say_hello()\n",
    "    say_goodbye()\n",
    "\n",
    "def say_hello():\n",
    "    print(\"Hello\")\n",
    "\n",
    "def say_goodbye():\n",
    "    print(\"Good Bye\")\n",
    "\n",
    "# Вызов функции main\n",
    "main()"
   ]
  },
  {
   "cell_type": "markdown",
   "id": "4df812e7",
   "metadata": {},
   "source": [
    "# Параметры функции\n",
    "Функция может принимать параметры. Через параметры в функцию можно передавать данные. Банальный пример - функция print(), которая с помощью параметра принимает значение, выводимое на консоль.\n",
    "\n",
    "Теперь определим и используем свою функцию с параметрами:"
   ]
  },
  {
   "cell_type": "code",
   "execution_count": 18,
   "id": "7255bcee",
   "metadata": {},
   "outputs": [
    {
     "name": "stdout",
     "output_type": "stream",
     "text": [
      "Hello, Tom\n",
      "Hello, Bob\n",
      "Hello, Alice\n"
     ]
    }
   ],
   "source": [
    "def say_hello(name):\n",
    "    print(f\"Hello, {name}\")\n",
    "\n",
    "say_hello(\"Tom\")\n",
    "say_hello(\"Bob\")\n",
    "say_hello(\"Alice\")"
   ]
  },
  {
   "cell_type": "markdown",
   "id": "6222c5bc",
   "metadata": {},
   "source": [
    "Функция say_hello имеет параметр name, и при вызове функции мы можем передать этому параметру какой-либо значение. Внутри функции мы можем использовать параметр как обычную переменную, например, вывести значение этого параметра на консоль функцией print. Так, в выражении:"
   ]
  },
  {
   "cell_type": "code",
   "execution_count": 19,
   "id": "05340c64",
   "metadata": {},
   "outputs": [
    {
     "name": "stdout",
     "output_type": "stream",
     "text": [
      "Hello, Tom\n"
     ]
    }
   ],
   "source": [
    "say_hello(\"Tom\")"
   ]
  },
  {
   "cell_type": "markdown",
   "id": "42ec82ca",
   "metadata": {},
   "source": [
    "Строка \"Tom\" будет передаваться параметру name\n",
    "\n",
    "При вызове функции значения передаются параметрам по позиции. Например, определим и вызовем функцию с несколькими параметрами:"
   ]
  },
  {
   "cell_type": "code",
   "execution_count": 20,
   "id": "ef0644fb",
   "metadata": {},
   "outputs": [
    {
     "name": "stdout",
     "output_type": "stream",
     "text": [
      "Name: Tom\n",
      "Age: 37\n"
     ]
    }
   ],
   "source": [
    "def print_person(name, age):\n",
    "    print(f\"Name: {name}\")\n",
    "    print(f\"Age: {age}\")\n",
    " \n",
    " \n",
    "print_person(\"Tom\", 37)"
   ]
  },
  {
   "cell_type": "markdown",
   "id": "3d4881af",
   "metadata": {},
   "source": [
    "Здесь функция print_person принимает два параметра: name и age. При вызове функции:"
   ]
  },
  {
   "cell_type": "code",
   "execution_count": 21,
   "id": "e5a7a40b",
   "metadata": {},
   "outputs": [
    {
     "name": "stdout",
     "output_type": "stream",
     "text": [
      "Name: Tom\n",
      "Age: 37\n"
     ]
    }
   ],
   "source": [
    "print_person(\"Tom\", 37)"
   ]
  },
  {
   "cell_type": "markdown",
   "id": "ec843220",
   "metadata": {},
   "source": [
    "Первое значение - \"Tom\" передается первому параметру, то есть параметру name. Второе значение - 37 передается второму параметру - age. И внутри функции значения параметров выводятся на консоль:\n",
    "```\n",
    "Name: Tom\n",
    "Age: 37\n",
    "```\n",
    "### Значения по умолчанию\n",
    "\n",
    "Некоторые параметры функции мы можем сделать необязательными, указав для них значения по умолчанию при определении функции. Например:"
   ]
  },
  {
   "cell_type": "code",
   "execution_count": 22,
   "id": "4ffc6b0b",
   "metadata": {},
   "outputs": [
    {
     "name": "stdout",
     "output_type": "stream",
     "text": [
      "Hello, Tom\n",
      "Hello, Bob\n"
     ]
    }
   ],
   "source": [
    "def say_hello(name=\"Tom\"):\n",
    "    print(f\"Hello, {name}\")\n",
    " \n",
    " \n",
    "say_hello()         # здесь параметр name будет иметь значение \"Tom\"\n",
    "say_hello(\"Bob\")    # здесь name = \"Bob\""
   ]
  },
  {
   "cell_type": "markdown",
   "id": "eb0486c9",
   "metadata": {},
   "source": [
    "Здесь параметр name является необязательным. И если мы не передаем при вызове функции для него значение, то применяется значение по умолчанию, то есть строка \"Tom\". Консольный вывод данной программы:\n",
    "\n",
    "Если функция имеет несколько параметров, то необязательные параметры должны идти после обязательных. Например:"
   ]
  },
  {
   "cell_type": "code",
   "execution_count": 24,
   "id": "ff7a647f",
   "metadata": {},
   "outputs": [
    {
     "name": "stdout",
     "output_type": "stream",
     "text": [
      "Name: Bob  Age: 18\n",
      "Name: Tom  Age: 37\n"
     ]
    }
   ],
   "source": [
    "def print_person(name, age = 18):\n",
    "    print(f\"Name: {name}  Age: {age}\")\n",
    " \n",
    " \n",
    "print_person(\"Bob\")\n",
    "print_person(\"Tom\", 37)"
   ]
  },
  {
   "cell_type": "markdown",
   "id": "d6e26209",
   "metadata": {},
   "source": [
    "Здесь параметр age является необязательным и по умолчанию имеет значение 18. Перед ним расположен обязательный параметр name. Поэтому при вызове функции мы можем не передавать значение параметру age, но параметру name передать значение необходимо.\n",
    "\n",
    "При необходимости мы можем сделать все параметры необязательными:"
   ]
  },
  {
   "cell_type": "code",
   "execution_count": 23,
   "id": "bd328d3e",
   "metadata": {},
   "outputs": [
    {
     "name": "stdout",
     "output_type": "stream",
     "text": [
      "Name: Tom  Age: 18\n",
      "Name: Bob  Age: 18\n",
      "Name: Sam  Age: 37\n"
     ]
    }
   ],
   "source": [
    "def print_person(name = \"Tom\", age = 18):\n",
    "    print(f\"Name: {name}  Age: {age}\")\n",
    " \n",
    " \n",
    "print_person()              # Name: Tom  Age: 18\n",
    "print_person(\"Bob\")         # Name: Bob  Age: 18\n",
    "print_person(\"Sam\", 37)     # Name: Sam  Age: 37"
   ]
  },
  {
   "cell_type": "markdown",
   "id": "ad4b86a2",
   "metadata": {},
   "source": [
    "### Передача значений параметрам по имени. Именованные параметры\n",
    "\n",
    "В примерах выше при вызове функции значения передаются параметрами функции по позиции. Но также можно передавать значения параметрам по имени. Для этого при вызове функции указывается имя параметра и ему присваивается значение:"
   ]
  },
  {
   "cell_type": "code",
   "execution_count": 25,
   "id": "18d6158d",
   "metadata": {},
   "outputs": [
    {
     "name": "stdout",
     "output_type": "stream",
     "text": [
      "Name: Tom  Age: 22\n"
     ]
    }
   ],
   "source": [
    "def print_person(name, age):\n",
    "    print(f\"Name: {name}  Age: {age}\")\n",
    " \n",
    " \n",
    "print_person(age = 22, name = \"Tom\")"
   ]
  },
  {
   "cell_type": "markdown",
   "id": "98125db1",
   "metadata": {},
   "source": [
    "В данном случае значения параметрам age и name передаются по имени. И несмотря на то, что параметр name идет первым в определении функции, мы можем при вызове функции написать print_person(age = 22, name = \"Tom\") и таким образом передать число 22 параметру age, а строку \"Tom\" параметру name.\n",
    "\n",
    "Символ `*`позволяет установить, какие параметры будут именнованными - то есть такие параметры, которым можно передать значения только по имени. Все параметры, которые располагаются справа от символа `*`, получают значения только по имени:"
   ]
  },
  {
   "cell_type": "code",
   "execution_count": 26,
   "id": "70987cec",
   "metadata": {},
   "outputs": [
    {
     "name": "stdout",
     "output_type": "stream",
     "text": [
      "Name: Bob  Age: 41  Company: Microsoft\n"
     ]
    }
   ],
   "source": [
    "def print_person(name, *,  age, company):\n",
    "    print(f\"Name: {name}  Age: {age}  Company: {company}\")\n",
    " \n",
    " \n",
    "print_person(\"Bob\", age = 41, company =\"Microsoft\")    # Name: Bob  Age: 41  company: Microsoft"
   ]
  },
  {
   "cell_type": "markdown",
   "id": "63cd59e6",
   "metadata": {},
   "source": [
    "В данном случае параметры age и company являются именнованными.\n",
    "\n",
    "Можно сделать все параметры именнованными, поставив перед списком параметров символ *:"
   ]
  },
  {
   "cell_type": "code",
   "execution_count": 27,
   "id": "0d3eb21f",
   "metadata": {},
   "outputs": [],
   "source": [
    "def print_person(*,  name, age, company):\n",
    "    print(f\"Name: {name}  Age: {age}  Company: {company}\")"
   ]
  },
  {
   "cell_type": "markdown",
   "id": "b82021b7",
   "metadata": {},
   "source": [
    "Если наоборот надо определить параметры, которым можно передавать значения только по позиции, то есть позиционные параметры, то можно использовать символ /: все параметры, которые идут до символа / , являются позиционными и могут получать значения только по позиции"
   ]
  },
  {
   "cell_type": "code",
   "execution_count": 28,
   "id": "2e0735ef",
   "metadata": {},
   "outputs": [
    {
     "name": "stdout",
     "output_type": "stream",
     "text": [
      "Name: Tom  Age: 24  Company: JetBrains\n",
      "Name: Bob  Age: 41  Company: Microsoft\n"
     ]
    }
   ],
   "source": [
    "def print_person(name, /, age, company=\"Microsoft\"):\n",
    "    print(f\"Name: {name}  Age: {age}  Company: {company}\")\n",
    " \n",
    " \n",
    "print_person(\"Tom\", company=\"JetBrains\", age = 24)     # Name: Tom  Age: 24  company: JetBrains\n",
    "print_person(\"Bob\", 41)                 # Name: Bob  Age: 41  company: Microsoft"
   ]
  },
  {
   "cell_type": "markdown",
   "id": "489b15b0",
   "metadata": {},
   "source": [
    "В данном случае параметр name является позиционным.\n",
    "\n",
    "Для одной функции можно определять одновременно позиционные и именнованные параметры."
   ]
  },
  {
   "cell_type": "code",
   "execution_count": 29,
   "id": "6afc303e",
   "metadata": {},
   "outputs": [
    {
     "name": "stdout",
     "output_type": "stream",
     "text": [
      "Name: Sam  Age: 18  Company: Google\n",
      "Name: Tom  Age: 37  Company: JetBrains\n",
      "Name: Bob  Age: 42  Company: Microsoft\n"
     ]
    }
   ],
   "source": [
    "def print_person(name, /,  age = 18, *, company):\n",
    "    print(f\"Name: {name}  Age: {age}  Company: {company}\")\n",
    " \n",
    " \n",
    "print_person(\"Sam\", company =\"Google\")               # Name: Sam  Age: 18  company: Google\n",
    "print_person(\"Tom\", 37, company =\"JetBrains\")        # Name: Tom  Age: 37  company: JetBrains\n",
    "print_person(\"Bob\", company =\"Microsoft\", age = 42)  # Name: Bob  Age: 42  company: Microsoft"
   ]
  },
  {
   "cell_type": "markdown",
   "id": "747fb2af",
   "metadata": {},
   "source": [
    "В данном случае параметр name располагается слева от символа /, поэтому является позиционным и обязательным - ему можно передать значение только по позиции.\n",
    "\n",
    "Параметр company является именнованным, так как располагается справа от символа `*`. Параметр age может получать значение по имени и по позиции.\n",
    "\n",
    "### Неопределенное количество параметров\n",
    "\n",
    "С помощью символа звездочки можно определить параметр, через который можно передавать неопределенное количество значений. Это может быть полезно, когда мы хотим, чтобы функция получала несколько значений, но мы точно не знаем, сколько именно. Например, определим функцию подсчета суммы чисел:"
   ]
  },
  {
   "cell_type": "code",
   "execution_count": 30,
   "id": "951bad79",
   "metadata": {},
   "outputs": [
    {
     "name": "stdout",
     "output_type": "stream",
     "text": [
      "sum = 15\n",
      "sum = 18\n"
     ]
    }
   ],
   "source": [
    "def sum(*numbers):\n",
    "    result = 0\n",
    "    for n in numbers:\n",
    "        result += n\n",
    "    print(f\"sum = {result}\")\n",
    " \n",
    " \n",
    "sum(1, 2, 3, 4, 5)      # sum = 15\n",
    "sum(3, 4, 5, 6)         # sum = 18"
   ]
  },
  {
   "cell_type": "markdown",
   "id": "112f9e04",
   "metadata": {},
   "source": [
    "В данном случае функция __sum__ принимает один параметр - `*numbers`, но звездочка перед названием параметра указывает, что фактически на место этого параметра мы можем передать неопределенное количество значений или набор значений. В самой функции с помощью цикла for можно пройтись по этому набору, получить каждое значение из этого набора в переменную n и произвести с ним какие-нибудь действия. Например, в данном случае вычисляется сумма переданных чисел."
   ]
  },
  {
   "cell_type": "markdown",
   "id": "7bf3d865",
   "metadata": {},
   "source": [
    "# Оператор return и возвращение результата из функции\n",
    "### Возвращение результата\n",
    "\n",
    "Функция может возвращать результат. Для этого в функции используется оператор return, после которого указывается возвращаемое значение:\n",
    "```\n",
    "def имя_функции ([параметры]):\n",
    "    инструкции\n",
    "    return возвращаемое_значение\n",
    "```\n",
    "Определим простейшую функцию, которая возвращает значение:"
   ]
  },
  {
   "cell_type": "code",
   "execution_count": 31,
   "id": "6d627f50",
   "metadata": {},
   "outputs": [],
   "source": [
    "def get_message():\n",
    "    return \"Hello METANIT.COM\""
   ]
  },
  {
   "cell_type": "markdown",
   "id": "7efac5bf",
   "metadata": {},
   "source": [
    "Здесь после оператора return идет строка \"Hello METANIT.COM\" - это значение и будет возвращать функция get_message().\n",
    "\n",
    "Затем это результат функции можно присвоить переменной или использовать как обычное значение:"
   ]
  },
  {
   "cell_type": "code",
   "execution_count": 32,
   "id": "8fcb403b",
   "metadata": {},
   "outputs": [
    {
     "name": "stdout",
     "output_type": "stream",
     "text": [
      "Hello METANIT.COM\n",
      "Hello METANIT.COM\n"
     ]
    }
   ],
   "source": [
    "def get_message():\n",
    "    return \"Hello METANIT.COM\"\n",
    " \n",
    "message = get_message()  # получаем результат функции get_message в переменную message\n",
    "print(message)          # Hello METANIT.COM\n",
    " \n",
    "# можно напрямую передать результат функции get_message\n",
    "print(get_message())    # Hello METANIT.COM"
   ]
  },
  {
   "cell_type": "markdown",
   "id": "c0268fd0",
   "metadata": {},
   "source": [
    "После оператора __return__ может идти и сложное вычислямое выражение, резлуьтат которого будет возвращаться из функции. Например, определим функцию, которая увеличивает число в два раза:"
   ]
  },
  {
   "cell_type": "code",
   "execution_count": 33,
   "id": "417e6923",
   "metadata": {},
   "outputs": [],
   "source": [
    "def double(number):\n",
    "    return 2 * number"
   ]
  },
  {
   "cell_type": "markdown",
   "id": "7047447e",
   "metadata": {},
   "source": [
    "Здесь функция double будет возвращать результат выражения 2 * number:"
   ]
  },
  {
   "cell_type": "code",
   "execution_count": 34,
   "id": "a8a48e22",
   "metadata": {},
   "outputs": [
    {
     "name": "stdout",
     "output_type": "stream",
     "text": [
      "result1 = 8\n",
      "result2 = 10\n"
     ]
    }
   ],
   "source": [
    "def double(number):\n",
    "    return 2 * number\n",
    " \n",
    "result1 = double(4)     # result1 = 8\n",
    "result2 = double(5)     # result2 = 10\n",
    "print(f\"result1 = {result1}\")   # result1 = 8\n",
    "print(f\"result2 = {result2}\")   # result2 = 10"
   ]
  },
  {
   "cell_type": "markdown",
   "id": "8eafc6f7",
   "metadata": {},
   "source": [
    "Или другой пример - получение суммы чисел:"
   ]
  },
  {
   "cell_type": "code",
   "execution_count": 35,
   "id": "ee08d1fa",
   "metadata": {},
   "outputs": [
    {
     "name": "stdout",
     "output_type": "stream",
     "text": [
      "sum(4, 6) = 10\n",
      "sum(3, 5) = 8\n"
     ]
    }
   ],
   "source": [
    "def sum(a, b):\n",
    "    return a + b\n",
    " \n",
    "result = sum(4, 6)                  # result = 0\n",
    "print(f\"sum(4, 6) = {result}\")      # sum(4, 6) = 10\n",
    "print(f\"sum(3, 5) = {sum(3, 5)}\")   # sum(3, 5) = 8"
   ]
  },
  {
   "cell_type": "markdown",
   "id": "8b5a817c",
   "metadata": {},
   "source": [
    "### Выход из функции\n",
    "\n",
    "Оператор __return__ не только возвращает значение, но и производит выход из функции. Поэтому он должен определяться после остальных инструкций. Например:"
   ]
  },
  {
   "cell_type": "code",
   "execution_count": 36,
   "id": "3ecc60eb",
   "metadata": {},
   "outputs": [
    {
     "name": "stdout",
     "output_type": "stream",
     "text": [
      "Hello METANIT.COM\n"
     ]
    }
   ],
   "source": [
    "def get_message():\n",
    "    return \"Hello METANIT.COM\"\n",
    "    print(\"End of the function\")\n",
    "\n",
    "print(get_message())"
   ]
  },
  {
   "cell_type": "markdown",
   "id": "64c368e1",
   "metadata": {},
   "source": [
    "С точки зрения синтаксиса данная функция корректна, однако ее инструкция print(\"End of the function\") не имеет смысла - она никогда не выполнится, так как до ее выполнения оператор return возвратит значение и произведет выход из функции.\n",
    "\n",
    "Однако мы можем использовать оператор return и в таких функциях, которые не возвращают никакого значения. В этом случае после оператора return не ставится никакого возвращаемого значения. Типичная ситуация - в зависимости от опеределенных условий произвести выход из функции:"
   ]
  },
  {
   "cell_type": "code",
   "execution_count": 37,
   "id": "b79b6b11",
   "metadata": {},
   "outputs": [
    {
     "name": "stdout",
     "output_type": "stream",
     "text": [
      "Name: Tom  Age: 22\n",
      "Invalid age\n"
     ]
    }
   ],
   "source": [
    "def print_person(name, age):\n",
    "    if age > 120 or age < 1:\n",
    "        print(\"Invalid age\")\n",
    "        return\n",
    "    print(f\"Name: {name}  Age: {age}\")\n",
    " \n",
    " \n",
    "print_person(\"Tom\", 22)\n",
    "print_person(\"Bob\", -102)"
   ]
  },
  {
   "cell_type": "markdown",
   "id": "b2caf34b",
   "metadata": {},
   "source": [
    "Здесь функция print_person в качестве параметров принимает имя и возраст пользователя. Однако в функции вначале мы проверяем, соответствует ли возраст некоторому диапазону (меньше 120 и больше 0). Если возраст находится вне этого диапазона, то выводим сообщение о недопустимом возрасте и с помощью оператора return выходим из функции. После этого функция заканчивает свою работу.\n",
    "\n",
    "Однако если возраст корректен, то выводим информацию о пользователе на консоль"
   ]
  },
  {
   "cell_type": "markdown",
   "id": "ca5e1864",
   "metadata": {},
   "source": [
    "# Функция как тип, параметр и результат другой функции\n",
    "### Функция как тип\n",
    "\n",
    "В Python функция фактически представляет отдельный тип. Так мы можем присвоить переменной какую-нибудь функцию и затем, используя переменную, вызывать данную функцию. Например:"
   ]
  },
  {
   "cell_type": "code",
   "execution_count": 38,
   "id": "25a6ccfd",
   "metadata": {},
   "outputs": [
    {
     "name": "stdout",
     "output_type": "stream",
     "text": [
      "Hello\n",
      "Good Bye\n"
     ]
    }
   ],
   "source": [
    "def say_hello(): print(\"Hello\")\n",
    "def say_goodbye(): print(\"Good Bye\")\n",
    "\n",
    "message = say_hello\n",
    "message()       # Hello\n",
    "message = say_goodbye\n",
    "message()       # Good Bye"
   ]
  },
  {
   "cell_type": "markdown",
   "id": "3f2d7acf",
   "metadata": {},
   "source": [
    "В данном случае переменной message присваивается одна из функций. Сначала ей передается функция say_hello():"
   ]
  },
  {
   "cell_type": "code",
   "execution_count": 39,
   "id": "d19fd45e",
   "metadata": {},
   "outputs": [],
   "source": [
    "message = say_hello"
   ]
  },
  {
   "cell_type": "markdown",
   "id": "7b9e479a",
   "metadata": {},
   "source": [
    "После этого переменная message будет указывать на данную функцию, то есть фактически представлять функцию say_hello. А это значит, что мы можем вызывать переменную message как обычную функцию:"
   ]
  },
  {
   "cell_type": "code",
   "execution_count": 40,
   "id": "6aa4c15b",
   "metadata": {},
   "outputs": [
    {
     "name": "stdout",
     "output_type": "stream",
     "text": [
      "Hello\n"
     ]
    }
   ],
   "source": [
    "message()       # Hello"
   ]
  },
  {
   "cell_type": "markdown",
   "id": "eb67fd2b",
   "metadata": {},
   "source": [
    "Фактически это приведет к выполнению функции say_hello, и на консоль будет выведена строка \"Hello\". Затем подобным образом мы можем передать переменной message другую функцию и вызвать ее.\n",
    "\n",
    "Подобным образом можно через переменную вызывать функцию с параметрами и возвращать ее результат:"
   ]
  },
  {
   "cell_type": "code",
   "execution_count": 41,
   "id": "906c1a79",
   "metadata": {},
   "outputs": [
    {
     "name": "stdout",
     "output_type": "stream",
     "text": [
      "11\n",
      "30\n"
     ]
    }
   ],
   "source": [
    "def sum(a, b): return a + b\n",
    "def multiply(a, b): return a * b\n",
    " \n",
    "operation = sum\n",
    "result = operation(5, 6)\n",
    "print(result)   # 11\n",
    " \n",
    "operation = multiply\n",
    "print(operation(5, 6))      # 30"
   ]
  },
  {
   "cell_type": "markdown",
   "id": "31c9a5ff",
   "metadata": {},
   "source": [
    "### Функция как параметр функции\n",
    "\n",
    "Поскольку функция в Python может представлять такое же значение как строка или число, соответственно мы можем передать ее в качестве параметра в другую функцию. Например, определим функцию, которая выводит на консоль результат некоторой операции:"
   ]
  },
  {
   "cell_type": "code",
   "execution_count": 42,
   "id": "2702d5a1",
   "metadata": {},
   "outputs": [
    {
     "name": "stdout",
     "output_type": "stream",
     "text": [
      "result = 9\n",
      "result = 20\n"
     ]
    }
   ],
   "source": [
    "def do_operation(a, b, operation):\n",
    "    result = operation(a, b)\n",
    "    print(f\"result = {result}\")\n",
    "\n",
    "def sum(a, b): return a + b\n",
    "def multiply(a, b): return a * b\n",
    " \n",
    "do_operation(5, 4, sum)         # result = 9\n",
    "do_operation(5, 4, multiply)   # result = 20"
   ]
  },
  {
   "cell_type": "markdown",
   "id": "a82ec7ec",
   "metadata": {},
   "source": [
    "В данном случае функция do_operation имеет три параметра, причем третий параметр, как предполагается, будет представлять функцию, которая принимает два параметра и возвращает некоторый результат. Иными словами третий параметр - operation представляет некоторую операцию, но на момент определения функции do_operation мы точно не знаем, что это будет за операция. Мы только знаем, что она принимает два параметр и возвращает какой-то результат, который потом выводится на консоль.\n",
    "\n",
    "При вызове функции do_operation мы сможем передать в качестве третьего параметра другую функцию, например, функцию sum:"
   ]
  },
  {
   "cell_type": "code",
   "execution_count": 43,
   "id": "19a8a6d9",
   "metadata": {},
   "outputs": [
    {
     "name": "stdout",
     "output_type": "stream",
     "text": [
      "result = 9\n"
     ]
    }
   ],
   "source": [
    "do_operation(5, 4, sum)"
   ]
  },
  {
   "cell_type": "markdown",
   "id": "b9cfbec9",
   "metadata": {},
   "source": [
    "То есть в данном случае параметр operation фактически будет представлять функцию sum и будет возвращать сумму дву чисел.\n",
    "\n",
    "Затем аналогичным образов в вызов функции do_operation можно передать третьему параметру другую функцию - multiply, которая выполнит умножение чисел:"
   ]
  },
  {
   "cell_type": "code",
   "execution_count": 44,
   "id": "5d5c3dbe",
   "metadata": {},
   "outputs": [
    {
     "name": "stdout",
     "output_type": "stream",
     "text": [
      "result = 20\n"
     ]
    }
   ],
   "source": [
    "do_operation(5, 4, multiply)   # result = 20"
   ]
  },
  {
   "cell_type": "markdown",
   "id": "c5c35300",
   "metadata": {},
   "source": [
    "Таким образом, более гибкие по функциональности функции, которые через параметры принимают другие функции.\n",
    "Функция как результат функции\n",
    "\n",
    "Также одна функция в Python может возвращать другую функцию. Например, определим функцию, которая в зависимости от значения параметра возвращает ту или иную операцию:"
   ]
  },
  {
   "cell_type": "code",
   "execution_count": 45,
   "id": "7caf196f",
   "metadata": {},
   "outputs": [
    {
     "name": "stdout",
     "output_type": "stream",
     "text": [
      "16\n",
      "4\n",
      "60\n"
     ]
    }
   ],
   "source": [
    "def sum(a, b): return a + b\n",
    "def subtract(a, b): return a - b\n",
    "def multiply(a, b): return a * b\n",
    " \n",
    "def select_operation(choice):\n",
    "    if choice == 1:\n",
    "        return sum\n",
    "    elif choice == 2:\n",
    "        return subtract\n",
    "    else:\n",
    "        return multiply\n",
    " \n",
    " \n",
    "operation = select_operation(1)     # operation = sum\n",
    "print(operation(10, 6))             # 16\n",
    " \n",
    "operation = select_operation(2)     # operation = subtract\n",
    "print(operation(10, 6))             # 4\n",
    " \n",
    "operation = select_operation(3)     # operation = multiply\n",
    "print(operation(10, 6))             # 60"
   ]
  },
  {
   "cell_type": "markdown",
   "id": "a2d8455a",
   "metadata": {},
   "source": [
    "В данном случае функция select_operation в зависимости от значения параметра choice возвращает одну из трех функций - sum, subtract и multiply. Затем мы мы можем получить результат функции select_operation в переменную operation:"
   ]
  },
  {
   "cell_type": "code",
   "execution_count": 46,
   "id": "cec3a4ff",
   "metadata": {},
   "outputs": [],
   "source": [
    "operation = select_operation(1)"
   ]
  },
  {
   "cell_type": "markdown",
   "id": "e264c8de",
   "metadata": {},
   "source": [
    "Так, в данном случае в функцию select_operation передается число 1, соответственно она будет возвращать функцию sum. Поэтому переменная operation фактически будет указывать на функцию sum, которая выполняет сложение двух чисел:"
   ]
  },
  {
   "cell_type": "code",
   "execution_count": 47,
   "id": "51365490",
   "metadata": {},
   "outputs": [
    {
     "name": "stdout",
     "output_type": "stream",
     "text": [
      "16\n"
     ]
    }
   ],
   "source": [
    "print(operation(10, 6))             # 16 - фактически равно sum(10, 6)"
   ]
  },
  {
   "cell_type": "markdown",
   "id": "9ab8415c",
   "metadata": {},
   "source": [
    "Аналогичным образом можно получить и выполнить другие функции."
   ]
  },
  {
   "cell_type": "markdown",
   "id": "0411003a",
   "metadata": {},
   "source": [
    "# Лямбда-выражения\n",
    "\n",
    "Лямбда-выражения в языке Python представляют небольшие анонимные функции, которые определяются с помощью оператора __lambda__. Формальное определение лямбда-выражения:\n",
    "```\n",
    "lambda [параметры] : инструкция\n",
    "```\n",
    "Определим простейшее лямбда-выражение:"
   ]
  },
  {
   "cell_type": "code",
   "execution_count": 48,
   "id": "378a44d5",
   "metadata": {},
   "outputs": [
    {
     "name": "stdout",
     "output_type": "stream",
     "text": [
      "hello\n"
     ]
    }
   ],
   "source": [
    "message = lambda: print(\"hello\")\n",
    " \n",
    "message()   # hello"
   ]
  },
  {
   "cell_type": "markdown",
   "id": "3d5a3589",
   "metadata": {},
   "source": [
    "Здесь лямбда-выражение присваивается переменной message. Это лямбда-выражение не имеет параметров, ничего не возвращает и просто выводит строку \"hello\" на консоль. И через переменную message мы можем вызвать это лямбда-выражение как обычную функцию. Фактически оно аналогично следующей функции:"
   ]
  },
  {
   "cell_type": "code",
   "execution_count": 49,
   "id": "c305c90f",
   "metadata": {},
   "outputs": [],
   "source": [
    "def message(): \n",
    "    print(\"hello\")"
   ]
  },
  {
   "cell_type": "markdown",
   "id": "26f95765",
   "metadata": {},
   "source": [
    "Если лямбда-выражение имеет параметры, то они определяются после ключевого слова lambda. Если лямбда-выражение возвращает какой-то результат, то он указывается после двоеточия. Например, определим лямбда-выражение, которое возвращает квадрат числа:"
   ]
  },
  {
   "cell_type": "code",
   "execution_count": 50,
   "id": "0e9f4ceb",
   "metadata": {},
   "outputs": [
    {
     "name": "stdout",
     "output_type": "stream",
     "text": [
      "16\n",
      "25\n"
     ]
    }
   ],
   "source": [
    "square = lambda n: n * n\n",
    " \n",
    "print(square(4))    # 16\n",
    "print(square(5))    # 25"
   ]
  },
  {
   "cell_type": "markdown",
   "id": "f5034ee7",
   "metadata": {},
   "source": [
    "В данном случае лямбда-выражение принимает один параметр - n. Справа от двоеточия идет возвращаемое значение - n* n. Это лямбда-выражение аналогично следующей функции:"
   ]
  },
  {
   "cell_type": "code",
   "execution_count": 51,
   "id": "636f9927",
   "metadata": {},
   "outputs": [],
   "source": [
    "def square2(n): return n * n"
   ]
  },
  {
   "cell_type": "markdown",
   "id": "f1acd8ac",
   "metadata": {},
   "source": [
    "Аналогичным образом можно создавать лямбда-выражения, которые принимают несколько параметров:"
   ]
  },
  {
   "cell_type": "code",
   "execution_count": 52,
   "id": "0f434c69",
   "metadata": {},
   "outputs": [
    {
     "name": "stdout",
     "output_type": "stream",
     "text": [
      "9\n",
      "11\n"
     ]
    }
   ],
   "source": [
    "sum = lambda a, b: a + b\n",
    " \n",
    "print(sum(4, 5))    # 9\n",
    "print(sum(5, 6))    # 11"
   ]
  },
  {
   "cell_type": "markdown",
   "id": "05bf1e27",
   "metadata": {},
   "source": [
    "Хотя лямбда-выражения позволяют немного сократить определения функций, тем не менее они ограничены тем, что они могут выполнять только одно выражение. Однако они могут быть довольно удобны в тех случаях, когда необходимо использовать функцию для передачи в качестве параметра или возвращения в другой функции. Например, передача лямбда-выражения в качестве параметра:"
   ]
  },
  {
   "cell_type": "code",
   "execution_count": 53,
   "id": "5c12a2e2",
   "metadata": {},
   "outputs": [
    {
     "name": "stdout",
     "output_type": "stream",
     "text": [
      "result = 9\n",
      "result = 20\n"
     ]
    }
   ],
   "source": [
    "def do_operation(a, b, operation):\n",
    "    result = operation(a, b)\n",
    "    print(f\"result = {result}\")\n",
    "\n",
    "do_operation(5, 4, lambda a, b: a + b)  # result = 9\n",
    "do_operation(5, 4, lambda a, b: a * b)  # result = 20"
   ]
  },
  {
   "cell_type": "markdown",
   "id": "0a9242b7",
   "metadata": {},
   "source": [
    "В данном случае нам нет необходимости определять функции, чтобы передать их в качестве параметра, как в прошлой статье.\n",
    "\n",
    "То же самое касается и возвращение лямбда-выражений из функций:"
   ]
  },
  {
   "cell_type": "code",
   "execution_count": 54,
   "id": "d27defb7",
   "metadata": {},
   "outputs": [
    {
     "name": "stdout",
     "output_type": "stream",
     "text": [
      "16\n",
      "4\n",
      "60\n"
     ]
    }
   ],
   "source": [
    "def select_operation(choice):\n",
    "    if choice == 1:\n",
    "        return lambda a, b: a + b\n",
    "    elif choice == 2:\n",
    "        return lambda a, b: a - b\n",
    "    else:\n",
    "        return lambda a, b: a * b\n",
    " \n",
    " \n",
    "operation = select_operation(1)  # operation = sum\n",
    "print(operation(10, 6))  # 16\n",
    " \n",
    "operation = select_operation(2)  # operation = subtract\n",
    "print(operation(10, 6))  # 4\n",
    " \n",
    "operation = select_operation(3)  # operation = multiply\n",
    "print(operation(10, 6))  # 60"
   ]
  },
  {
   "cell_type": "markdown",
   "id": "20c1014c",
   "metadata": {},
   "source": [
    "# Преобразование типов\n",
    "\n",
    "В операциях с данными могут применяться значения различных типов. Например, складываются число типа int и число типа float:"
   ]
  },
  {
   "cell_type": "code",
   "execution_count": 55,
   "id": "77b60574",
   "metadata": {},
   "outputs": [
    {
     "name": "stdout",
     "output_type": "stream",
     "text": [
      "4.5\n"
     ]
    }
   ],
   "source": [
    "a = 2       # число int\n",
    "b = 2.5     # число float\n",
    "c = a + b\n",
    "print(c)    # 4.5"
   ]
  },
  {
   "cell_type": "markdown",
   "id": "4924570d",
   "metadata": {},
   "source": [
    "В данном случае никакой ошибки не будет. Однако Python не всегда может автоматически производить операции, в которых участвуют данные разных типов. Рассмотрим, какие в данном случае действуют правила.\n",
    "Неявные преобразования\n",
    "\n",
    "Оба числа в арифметических операциях должны представлять один и тот же тип. Если же два операнда операции представляют разные типы данных, то Python пытается автоматически выполнить преобразования к одному из типов в соответствии со следующми правилами:\n",
    "\n",
    "- Если один из операндов операции представляет комплексное число (тип complex), то другой операнд также преобразуется к типу complex.\n",
    "\n",
    "- Иначе, если один из операндов представляет тип float, то второй операнд также преобразуется к типу float. Собственно так и произошло в примере выше, где значение переменной a было преобразовано в тип float\n",
    "\n",
    "- Иначе, оба операнда должны представлять тип int, и в этом случае преобазование не требуется\n",
    "\n",
    "### Явные преобразования\n",
    "\n",
    "Но в некоторых случаях возникает необходимость вручную выполнить преобразование типов. Например, пусть у нас будет следующий код:"
   ]
  },
  {
   "cell_type": "code",
   "execution_count": 56,
   "id": "7fd36725",
   "metadata": {},
   "outputs": [
    {
     "ename": "TypeError",
     "evalue": "can only concatenate str (not \"int\") to str",
     "output_type": "error",
     "traceback": [
      "\u001b[0;31m---------------------------------------------------------------------------\u001b[0m",
      "\u001b[0;31mTypeError\u001b[0m                                 Traceback (most recent call last)",
      "Cell \u001b[0;32mIn[56], line 3\u001b[0m\n\u001b[1;32m      1\u001b[0m a \u001b[38;5;241m=\u001b[39m \u001b[38;5;124m\"\u001b[39m\u001b[38;5;124m2\u001b[39m\u001b[38;5;124m\"\u001b[39m\n\u001b[1;32m      2\u001b[0m b \u001b[38;5;241m=\u001b[39m \u001b[38;5;241m3\u001b[39m\n\u001b[0;32m----> 3\u001b[0m c \u001b[38;5;241m=\u001b[39m \u001b[43ma\u001b[49m\u001b[43m \u001b[49m\u001b[38;5;241;43m+\u001b[39;49m\u001b[43m \u001b[49m\u001b[43mb\u001b[49m\n",
      "\u001b[0;31mTypeError\u001b[0m: can only concatenate str (not \"int\") to str"
     ]
    }
   ],
   "source": [
    "a = \"2\"\n",
    "b = 3\n",
    "c = a + b"
   ]
  },
  {
   "cell_type": "markdown",
   "id": "11efc202",
   "metadata": {},
   "source": [
    "Мы ожидаем, что \"2\" + 3 будет равно 5. Однако этот код сгенерирует исключение, так как первое число на самом деле представляет строку. И мы увидим при выполнении кода что-то наподобие:\n",
    "```\n",
    "Traceback (most recent call last):\n",
    "  File \"/Users/eugene/PycharmProjects/HelloApp/main.py\", line 3, in \n",
    "    c = a + b\n",
    "TypeError: can only concatenate str (not \"int\") to str\n",
    "```\n",
    "Для преобразования типов Python предоставляет ряд встроенных функций:\n",
    "\n",
    "- int(): преобразует значение в целое число\n",
    "\n",
    "- float(): преобразует значение в число с плавающей точкой\n",
    "\n",
    "- str(): преобразует значение в строку\n",
    "\n",
    "### int\n",
    "\n",
    "Так, в предыдущем примере преобазуем строку в число с помощью функции int():"
   ]
  },
  {
   "cell_type": "code",
   "execution_count": 57,
   "id": "8fb86ba0",
   "metadata": {},
   "outputs": [
    {
     "name": "stdout",
     "output_type": "stream",
     "text": [
      "5\n"
     ]
    }
   ],
   "source": [
    "a = \"2\"\n",
    "b = 3\n",
    "c = int(a) + b\n",
    "print(c)    # 5"
   ]
  },
  {
   "cell_type": "markdown",
   "id": "173e6fce",
   "metadata": {},
   "source": [
    "Примеры преобразований с помощью int():"
   ]
  },
  {
   "cell_type": "code",
   "execution_count": 58,
   "id": "8683fff6",
   "metadata": {},
   "outputs": [],
   "source": [
    "a = int(15)     # a = 15\n",
    "b = int(3.7)    # b = 3\n",
    "c = int(\"4\")    # c = 4\n",
    "e = int(False)    # e = 0\n",
    "f = int(True)     # f = 1"
   ]
  },
  {
   "cell_type": "markdown",
   "id": "c2bc028c",
   "metadata": {},
   "source": [
    "Однако если значение не может быть преобразовано, то функция int выдаст ошибку ValueError: invalid literal for int() with base 10:"
   ]
  },
  {
   "cell_type": "code",
   "execution_count": 59,
   "id": "7713b927",
   "metadata": {},
   "outputs": [
    {
     "ename": "ValueError",
     "evalue": "invalid literal for int() with base 10: 'a1c'",
     "output_type": "error",
     "traceback": [
      "\u001b[0;31m---------------------------------------------------------------------------\u001b[0m",
      "\u001b[0;31mValueError\u001b[0m                                Traceback (most recent call last)",
      "Cell \u001b[0;32mIn[59], line 1\u001b[0m\n\u001b[0;32m----> 1\u001b[0m b \u001b[38;5;241m=\u001b[39m \u001b[38;5;28;43mint\u001b[39;49m\u001b[43m(\u001b[49m\u001b[38;5;124;43m\"\u001b[39;49m\u001b[38;5;124;43ma1c\u001b[39;49m\u001b[38;5;124;43m\"\u001b[39;49m\u001b[43m)\u001b[49m    \u001b[38;5;66;03m# Ошибка\u001b[39;00m\n\u001b[1;32m      2\u001b[0m c \u001b[38;5;241m=\u001b[39m \u001b[38;5;28mint\u001b[39m(\u001b[38;5;124m\"\u001b[39m\u001b[38;5;124m4.7\u001b[39m\u001b[38;5;124m\"\u001b[39m)    \u001b[38;5;66;03m# Ошибка\u001b[39;00m\n",
      "\u001b[0;31mValueError\u001b[0m: invalid literal for int() with base 10: 'a1c'"
     ]
    }
   ],
   "source": [
    "b = int(\"a1c\")    # Ошибка\n",
    "c = int(\"4.7\")    # Ошибка"
   ]
  },
  {
   "cell_type": "markdown",
   "id": "80916963",
   "metadata": {},
   "source": [
    "### float\n",
    "\n",
    "Аналогичным образом действует функция float(), которая преобразует в число с плавающей точкой."
   ]
  },
  {
   "cell_type": "code",
   "execution_count": 60,
   "id": "e6c63982",
   "metadata": {},
   "outputs": [
    {
     "name": "stdout",
     "output_type": "stream",
     "text": [
      "5.7\n"
     ]
    }
   ],
   "source": [
    "a = \"2.7\"\n",
    "b = 3\n",
    "c = float(a) + b\n",
    "print(c) # 5.7"
   ]
  },
  {
   "cell_type": "markdown",
   "id": "84d1f0a2",
   "metadata": {},
   "source": [
    "Примеры преобразований с помощью float():"
   ]
  },
  {
   "cell_type": "code",
   "execution_count": 61,
   "id": "aff0776a",
   "metadata": {},
   "outputs": [],
   "source": [
    "a = float(15)       # a = 15.0\n",
    "b = float(3.7)      # b = 3.7\n",
    "c = float(\"4.7\")    # c = 4.7\n",
    "d = float(\"5\")      # d = 5.0\n",
    "e = float(False)    # e = 0.0\n",
    "f = float(True)     # f = 1.0"
   ]
  },
  {
   "cell_type": "markdown",
   "id": "63dee9f7",
   "metadata": {},
   "source": [
    "Но опять же не все значения могут автоматически преобразованы в float. Так, в следующем случае Python сгенерирует ошибку:"
   ]
  },
  {
   "cell_type": "code",
   "execution_count": 62,
   "id": "c167ec4d",
   "metadata": {},
   "outputs": [
    {
     "ename": "ValueError",
     "evalue": "could not convert string to float: 'abc'",
     "output_type": "error",
     "traceback": [
      "\u001b[0;31m---------------------------------------------------------------------------\u001b[0m",
      "\u001b[0;31mValueError\u001b[0m                                Traceback (most recent call last)",
      "Cell \u001b[0;32mIn[62], line 1\u001b[0m\n\u001b[0;32m----> 1\u001b[0m d \u001b[38;5;241m=\u001b[39m \u001b[38;5;28;43mfloat\u001b[39;49m\u001b[43m(\u001b[49m\u001b[38;5;124;43m\"\u001b[39;49m\u001b[38;5;124;43mabc\u001b[39;49m\u001b[38;5;124;43m\"\u001b[39;49m\u001b[43m)\u001b[49m  \u001b[38;5;66;03m# Ошибка\u001b[39;00m\n",
      "\u001b[0;31mValueError\u001b[0m: could not convert string to float: 'abc'"
     ]
    }
   ],
   "source": [
    "d = float(\"abc\")  # Ошибка"
   ]
  },
  {
   "cell_type": "markdown",
   "id": "2ea7fcd8",
   "metadata": {},
   "source": [
    "### str\n",
    "\n",
    "Функция str() преобразует значение в строку:"
   ]
  },
  {
   "cell_type": "code",
   "execution_count": 63,
   "id": "56db1a81",
   "metadata": {},
   "outputs": [],
   "source": [
    "a = str(False)      # a = \"False\"\n",
    "b = str(True)       # b = \"True\"\n",
    "c = str(5)         # c = \"5\"\n",
    "d = str(5.7)       # d = \"5.7\""
   ]
  },
  {
   "cell_type": "markdown",
   "id": "03f8e36e",
   "metadata": {},
   "source": [
    "Функция __str()__ может быть актуальна, например, при добавлении к строке значения другого типа. Например, в следующем случае мы получим ошибку:"
   ]
  },
  {
   "cell_type": "code",
   "execution_count": 64,
   "id": "119c2778",
   "metadata": {},
   "outputs": [
    {
     "ename": "TypeError",
     "evalue": "can only concatenate str (not \"int\") to str",
     "output_type": "error",
     "traceback": [
      "\u001b[0;31m---------------------------------------------------------------------------\u001b[0m",
      "\u001b[0;31mTypeError\u001b[0m                                 Traceback (most recent call last)",
      "Cell \u001b[0;32mIn[64], line 2\u001b[0m\n\u001b[1;32m      1\u001b[0m age \u001b[38;5;241m=\u001b[39m \u001b[38;5;241m22\u001b[39m\n\u001b[0;32m----> 2\u001b[0m message \u001b[38;5;241m=\u001b[39m \u001b[38;5;124;43m\"\u001b[39;49m\u001b[38;5;124;43mAge: \u001b[39;49m\u001b[38;5;124;43m\"\u001b[39;49m\u001b[43m \u001b[49m\u001b[38;5;241;43m+\u001b[39;49m\u001b[43m \u001b[49m\u001b[43mage\u001b[49m     \u001b[38;5;66;03m# Ошибка\u001b[39;00m\n\u001b[1;32m      3\u001b[0m \u001b[38;5;28mprint\u001b[39m(message)\n",
      "\u001b[0;31mTypeError\u001b[0m: can only concatenate str (not \"int\") to str"
     ]
    }
   ],
   "source": [
    "age = 22\n",
    "message = \"Age: \" + age     # Ошибка\n",
    "print(message)"
   ]
  },
  {
   "cell_type": "markdown",
   "id": "45d48f41",
   "metadata": {},
   "source": [
    "Если число складывается с число, то это стандартная операция сложения чисел. Если строка складывается со строкой, то это операция объединения строк. Но каким образом выполнить операцию сложения по отношение к строке и числу, Python не знает. И если мы в данном случае мы хотим выполнить операцию объединения строк, то число можно привести к строке с помощью функции str():"
   ]
  },
  {
   "cell_type": "code",
   "execution_count": 65,
   "id": "4d0ff6c2",
   "metadata": {},
   "outputs": [
    {
     "name": "stdout",
     "output_type": "stream",
     "text": [
      "Age: 22\n"
     ]
    }
   ],
   "source": [
    "age = 22\n",
    "message = \"Age: \" + str(age)   # Age: 22\n",
    "print(message)"
   ]
  },
  {
   "cell_type": "markdown",
   "id": "c765655f",
   "metadata": {},
   "source": [
    "# Область видимости переменных\n",
    "Область видимости или scope определяет контекст переменной, в рамках которого ее можно использовать. В Python есть два типа контекста: глобальный и локальный.\n",
    "Глобальный контекст\n",
    "\n",
    "Глобальный контекст подразумевает, что переменная является глобальной, она определена вне любой из функций и доступна любой функции в программе. Например:"
   ]
  },
  {
   "cell_type": "code",
   "execution_count": 66,
   "id": "821fbb31",
   "metadata": {},
   "outputs": [
    {
     "name": "stdout",
     "output_type": "stream",
     "text": [
      "Hello Tom\n",
      "Good bye Tom\n"
     ]
    }
   ],
   "source": [
    "name = \"Tom\"\n",
    " \n",
    "def say_hi():\n",
    "    print(\"Hello\", name)\n",
    " \n",
    " \n",
    "def say_bye():\n",
    "    print(\"Good bye\", name)\n",
    "\n",
    "say_hi()\n",
    "say_bye()"
   ]
  },
  {
   "cell_type": "markdown",
   "id": "3cc67ef2",
   "metadata": {},
   "source": [
    "Здесь переменная name является глобальной и имеет глобальную область видимости. И обе определенные здесь функции могут свободно ее использовать.\n",
    "Локальный контекст\n",
    "\n",
    "В отличие от глобальных переменных локальная переменная определяется внутри функции и доступна только из этой функции, то есть имеет локальную область видимости:"
   ]
  },
  {
   "cell_type": "code",
   "execution_count": 67,
   "id": "6749de87",
   "metadata": {},
   "outputs": [
    {
     "name": "stdout",
     "output_type": "stream",
     "text": [
      "Hello Sam Johnson\n",
      "Good bye Tom\n"
     ]
    }
   ],
   "source": [
    "def say_hi():\n",
    "    name = \"Sam\"\n",
    "    surname = \"Johnson\"\n",
    "    print(\"Hello\", name, surname)\n",
    " \n",
    " \n",
    "def say_bye():\n",
    "    name = \"Tom\"\n",
    "    print(\"Good bye\", name)\n",
    "\n",
    "say_hi()\n",
    "say_bye()"
   ]
  },
  {
   "cell_type": "markdown",
   "id": "049836de",
   "metadata": {},
   "source": [
    "В данном случае в каждой из двух функций определяется локальная переменная name. И хотя эти переменные называются одинаково, но тем не менее это две разных переменных, каждая из которых доступна только в рамках своей функции. Также в функции say_hi() определена переменная surname, которая также является локальной, поэтому в функции say_bye() мы ее использовать не сможем.\n",
    "\n",
    "### Скрытие переменных\n",
    "\n",
    "Есть еще один вариант определения переменной, когда локальная переменная скрывают глобальную с тем же именем:"
   ]
  },
  {
   "cell_type": "code",
   "execution_count": 68,
   "id": "dd36c67e",
   "metadata": {},
   "outputs": [
    {
     "name": "stdout",
     "output_type": "stream",
     "text": [
      "Hello Bob\n",
      "Good bye Tom\n"
     ]
    }
   ],
   "source": [
    "name = \"Tom\"\n",
    " \n",
    "def say_hi():\n",
    "    name = \"Bob\"        # скрываем значение глобальной переменной\n",
    "    print(\"Hello\", name)\n",
    " \n",
    " \n",
    "def say_bye():\n",
    "    print(\"Good bye\", name)\n",
    " \n",
    " \n",
    "say_hi()    # Hello Bob\n",
    "say_bye()   # Good bye Tom"
   ]
  },
  {
   "cell_type": "markdown",
   "id": "257843ad",
   "metadata": {},
   "source": [
    "Здесь определена глобальная переменная name. Однако в функции say_hi определена локальная переменная с тем же именем name. И если функция say_bye использует глобальную переменную, то функция say_hi использует локальную переменную, которая скрывает глобальную.\n",
    "\n",
    "Если же мы хотим изменить в локальной функции глобальную переменную, а не определить локальную, то необходимо использовать ключевое слово global:"
   ]
  },
  {
   "cell_type": "code",
   "execution_count": 69,
   "id": "1030c346",
   "metadata": {},
   "outputs": [
    {
     "ename": "SyntaxError",
     "evalue": "invalid syntax (3239105855.py, line 15)",
     "output_type": "error",
     "traceback": [
      "\u001b[0;36m  Cell \u001b[0;32mIn[69], line 15\u001b[0;36m\u001b[0m\n\u001b[0;31m    nonlocal\u001b[0m\n\u001b[0m            ^\u001b[0m\n\u001b[0;31mSyntaxError\u001b[0m\u001b[0;31m:\u001b[0m invalid syntax\n"
     ]
    }
   ],
   "source": [
    "name = \"Tom\"\n",
    " \n",
    "def say_hi():\n",
    "    global  name\n",
    "    name = \"Bob\"        # изменяем значение глобальной переменной\n",
    "    print(\"Hello\", name)\n",
    " \n",
    " \n",
    "def say_bye():\n",
    "    print(\"Good bye\", name)\n",
    " \n",
    " \n",
    "say_hi()    # Hello Bob\n",
    "say_bye()   # Good bye Bob\n",
    "nonlocal"
   ]
  },
  {
   "cell_type": "markdown",
   "id": "945facf0",
   "metadata": {},
   "source": [
    "Выражение __nonlocal__ прикрепляет идентификатор к переменной из ближайщего окружающего контекста (за исключением глобального контекста). Обычно nonlocal применяется во вложенных функциях, когда надо прикрепить идентификатор за переменной или параметром окружающей внешней функции. Рассмотрим ситуацию, где это выражение может пригодиться:"
   ]
  },
  {
   "cell_type": "code",
   "execution_count": 70,
   "id": "41d350d4",
   "metadata": {},
   "outputs": [
    {
     "name": "stdout",
     "output_type": "stream",
     "text": [
      "5\n",
      "5\n"
     ]
    }
   ],
   "source": [
    "def outer():  # внешняя функция\n",
    "    n = 5\n",
    " \n",
    "    def inner():    # вложенная функция\n",
    "        print(n)\n",
    " \n",
    "    inner()     # 5\n",
    "    print(n)\n",
    " \n",
    " \n",
    "outer()     # 5"
   ]
  },
  {
   "cell_type": "markdown",
   "id": "ea3c9f3f",
   "metadata": {},
   "source": [
    "Здесь вложенная локальная функция inner() выводит на консоль значение переменной n, которая определена во внешней функции outer(). Затем в функции outer() вызывается внутренняя функция inner().\n",
    "\n",
    "При вызове функции outer() здесь мы ожидаемо увидим на консоли два раза число 5. Однако в данном случае вложенная функция inner() просто получает значение. Теперь возьмем другую ситуацию, когда вложенная функция присваивает значение переменной:"
   ]
  },
  {
   "cell_type": "code",
   "execution_count": 71,
   "id": "f0f565c0",
   "metadata": {},
   "outputs": [
    {
     "name": "stdout",
     "output_type": "stream",
     "text": [
      "25\n",
      "5\n"
     ]
    }
   ],
   "source": [
    "def outer():  # внешняя функция\n",
    "    n = 5\n",
    " \n",
    "    def inner():    # вложенная функция\n",
    "        n = 25\n",
    "        print(n)\n",
    " \n",
    "    inner()     # 25\n",
    "    print(n)\n",
    " \n",
    " \n",
    "outer()     # 5 \n",
    "# 25    - inner\n",
    "# 5     - outer"
   ]
  },
  {
   "cell_type": "markdown",
   "id": "4da83390",
   "metadata": {},
   "source": [
    "При присвоении значения во вложенной функции: n = 25 будет создаваться новая переменная n, которая скроет переменную n из окружающей внешней функции outer. В итоге мы получим при выводе два разных числа. Чтобы во вложенной функции указать, что идентификатор во вложенной функции будет представлять переменную из окружающей функции, применяется выражение nonlocal:"
   ]
  },
  {
   "cell_type": "code",
   "execution_count": 72,
   "id": "ba779052",
   "metadata": {},
   "outputs": [
    {
     "name": "stdout",
     "output_type": "stream",
     "text": [
      "25\n",
      "25\n"
     ]
    }
   ],
   "source": [
    "def outer():  # внешняя функция\n",
    "    n = 5\n",
    " \n",
    "    def inner():    # вложенная функция\n",
    "        nonlocal n  # указываем, что n - это переменная из окружающей функции\n",
    "        n = 25\n",
    "        print(n)\n",
    " \n",
    "    inner()     # 25\n",
    "    print(n)\n",
    " \n",
    " \n",
    "outer()          # 25"
   ]
  },
  {
   "cell_type": "markdown",
   "id": "eaafdae6",
   "metadata": {},
   "source": [
    "# Замыкания\n",
    "\n",
    "__Замыкание (closure)__ представляет функцию, которая запоминает свое лексическое окружение даже в том случае, когда она выполняется вне своей области видимости.\n",
    "\n",
    "Технически замыкание включает три компонента:\n",
    "\n",
    "1) внешняя функция, которая определяет некоторую область видимости и в которой определены некоторые переменные и параметры - лексическое окружение\n",
    "\n",
    "2) переменные и параметры (лексическое окружение), которые определены во внешней функции\n",
    "\n",
    "3) вложенная функция, которая использует переменные и параметры внешней функции\n",
    "\n",
    "Для определения замыканий в Python применяются локальные функции:"
   ]
  },
  {
   "cell_type": "code",
   "execution_count": null,
   "id": "1824e409",
   "metadata": {},
   "outputs": [],
   "source": [
    "def outer():        # внешняя функция\n",
    "    n = 5           # лексическое окружение - локальная переменная\n",
    " \n",
    "    def inner():      # локальная функция\n",
    "        nonlocal n\n",
    "        n += 1        # операции с лексическим окружением\n",
    "        print(n)\n",
    " \n",
    "    return inner\n",
    " \n",
    "fn = outer()   # fn = inner, так как функция outer возвращает функцию inner\n",
    "# вызываем внутреннюю функцию inner\n",
    "fn()    # 6\n",
    "fn()    # 7\n",
    "fn()    # 8"
   ]
  },
  {
   "cell_type": "markdown",
   "id": "36a47802",
   "metadata": {},
   "source": [
    "Здесь функция outer определяет локальную переменную n - это и есть лексическое окружение для внутренней функции:\n",
    "\n",
    "Внутри функции outer определена внутренняя функция - локальная функция inner, которая обращается к своему лексическому окружению - переменной n - увеличивает ее значение на единицу и выводит на консоль:"
   ]
  },
  {
   "cell_type": "code",
   "execution_count": 74,
   "id": "5f995fd9",
   "metadata": {},
   "outputs": [
    {
     "ename": "SyntaxError",
     "evalue": "no binding for nonlocal 'n' found (3398544855.py, line 2)",
     "output_type": "error",
     "traceback": [
      "\u001b[0;36m  Cell \u001b[0;32mIn[74], line 2\u001b[0;36m\u001b[0m\n\u001b[0;31m    nonlocal n\u001b[0m\n\u001b[0m    ^\u001b[0m\n\u001b[0;31mSyntaxError\u001b[0m\u001b[0;31m:\u001b[0m no binding for nonlocal 'n' found\n"
     ]
    }
   ],
   "source": [
    "def inner():      # локальная функция\n",
    "    nonlocal n\n",
    "    n += 1        # операции с лексическим окружением\n",
    "    print(n)"
   ]
  },
  {
   "cell_type": "markdown",
   "id": "8dff514b",
   "metadata": {},
   "source": [
    "Эта локальная функция возвращается функцией outer:"
   ]
  },
  {
   "cell_type": "markdown",
   "id": "fbef65e0",
   "metadata": {},
   "source": [
    "```\n",
    "return inner\n",
    "```"
   ]
  },
  {
   "cell_type": "markdown",
   "id": "ecdaefbe",
   "metadata": {},
   "source": [
    "В программе вызываем функцию outer и получаем в переменную fn локальную функцию inner:"
   ]
  },
  {
   "cell_type": "code",
   "execution_count": 76,
   "id": "033723ee",
   "metadata": {},
   "outputs": [],
   "source": [
    "fn = outer()"
   ]
  },
  {
   "cell_type": "markdown",
   "id": "14a09cbd",
   "metadata": {},
   "source": [
    "Переменная fn и представляет собой замыкание, то есть объединяет две вещи: функцию и окружение, в котором функция была создана. И несмотря на то, что мы получили локальную функцию и можем ее вызывать вне ее окружающей функции, в которой она определена, тем не менее она запомнила свое лексическое окружение и может к нему обращаться и изменять, что мы увидим по консольному выводу:"
   ]
  },
  {
   "cell_type": "code",
   "execution_count": 77,
   "id": "d236a6cd",
   "metadata": {},
   "outputs": [
    {
     "name": "stdout",
     "output_type": "stream",
     "text": [
      "6\n",
      "7\n",
      "8\n"
     ]
    }
   ],
   "source": [
    "fn()    # 6\n",
    "fn()    # 7\n",
    "fn()    # 8"
   ]
  },
  {
   "cell_type": "markdown",
   "id": "48a7f27c",
   "metadata": {},
   "source": [
    "### Применение параметров\n",
    "\n",
    "Кроме внешних переменных к лексическому окружению также относятся параметры окружающей функции. Рассмотрим использование параметров:"
   ]
  },
  {
   "cell_type": "code",
   "execution_count": 78,
   "id": "e0bc712d",
   "metadata": {},
   "outputs": [
    {
     "name": "stdout",
     "output_type": "stream",
     "text": [
      "25\n",
      "30\n",
      "35\n"
     ]
    }
   ],
   "source": [
    "def multiply(n):\n",
    "    def inner(m): return n * m\n",
    " \n",
    "    return inner\n",
    " \n",
    "fn = multiply(5)\n",
    "print(fn(5))        # 25\n",
    "print(fn(6))        # 30\n",
    "print(fn(7))        # 35"
   ]
  },
  {
   "cell_type": "markdown",
   "id": "fe02dba6",
   "metadata": {},
   "source": [
    "Здесь внешняя функция - multiply возвращает функцию, которая принимает число и возвращает число.\n",
    "\n",
    "Вызов функции multiply() возвращает локальную функцию inner:"
   ]
  },
  {
   "cell_type": "code",
   "execution_count": 79,
   "id": "a97d3fe8",
   "metadata": {},
   "outputs": [],
   "source": [
    "def inner(m): return n * m"
   ]
  },
  {
   "cell_type": "markdown",
   "id": "846fbd33",
   "metadata": {},
   "source": [
    "Эта функция запоминает окружение, в котором она была создана, в частности, значение параметра n. Кроме того, сама принимает параметр и возвращает произведение параметров n и m.\n",
    "\n",
    "В итоге при вызове функции multiply определяется переменная fn, которая получает локальную функцию inner и ее лексическое окружение - значение параметра n:"
   ]
  },
  {
   "cell_type": "code",
   "execution_count": 80,
   "id": "875e21db",
   "metadata": {},
   "outputs": [],
   "source": [
    "fn = multiply(5)"
   ]
  },
  {
   "cell_type": "markdown",
   "id": "d6598276",
   "metadata": {},
   "source": [
    "В данном случае параметр n равен 5.\n",
    "\n",
    "При вызове локальной функции, например, в случае:"
   ]
  },
  {
   "cell_type": "code",
   "execution_count": 81,
   "id": "a27eacf1",
   "metadata": {},
   "outputs": [
    {
     "name": "stdout",
     "output_type": "stream",
     "text": [
      "30\n"
     ]
    }
   ],
   "source": [
    "print(fn(6))        # 30"
   ]
  },
  {
   "cell_type": "markdown",
   "id": "26fbe138",
   "metadata": {},
   "source": [
    "Число 6 передается для параметра m локальной функции, которая возвращает произведение n и m, то есть 5 * 6 = 30.\n",
    "\n",
    "Также можно было бы сократить этот код с помощью лямбд:"
   ]
  },
  {
   "cell_type": "code",
   "execution_count": 82,
   "id": "bc4c4d15",
   "metadata": {},
   "outputs": [
    {
     "name": "stdout",
     "output_type": "stream",
     "text": [
      "25\n",
      "30\n",
      "35\n"
     ]
    }
   ],
   "source": [
    "def multiply(n): return lambda m: n * m\n",
    " \n",
    "fn = multiply(5)\n",
    "print(fn(5))        # 25\n",
    "print(fn(6))        # 30\n",
    "print(fn(7))        # 35"
   ]
  },
  {
   "cell_type": "markdown",
   "id": "458265a4",
   "metadata": {},
   "source": [
    "# Декораторы\n",
    "__Декораторы__ в Python представляют функцию, которая в качестве параметра получает функцию и в качестве результата также возвращает функцию. Декораторы позволяют модифицировать выполняемую функцию, значения ее параметров и ее результат без изменения исходного кода этой функции.\n",
    "\n",
    "Рассмотрим простейший пример:"
   ]
  },
  {
   "cell_type": "code",
   "execution_count": 83,
   "id": "8da08b53",
   "metadata": {},
   "outputs": [
    {
     "name": "stdout",
     "output_type": "stream",
     "text": [
      "*****************\n",
      "Hello METANIT.COM\n",
      "*****************\n"
     ]
    }
   ],
   "source": [
    "# определение функции декоратора\n",
    "def select(input_func):    \n",
    "    def output_func():      # определяем функцию, которая будет выполняться вместо оригинальной\n",
    "        print(\"*****************\")  # перед выводом оригинальной функции выводим всякую звездочки\n",
    "        input_func()                # вызов оригинальной функции\n",
    "        print(\"*****************\")  # после вывода оригинальной функции выводим всякую звездочки\n",
    "    return output_func     # возвращаем новую функцию\n",
    " \n",
    "# определение оригинальной функции\n",
    "@select         # применение декоратора select\n",
    "def hello():\n",
    "    print(\"Hello METANIT.COM\")\n",
    "# вызов оригинальной функции\n",
    "hello()"
   ]
  },
  {
   "cell_type": "markdown",
   "id": "7924f200",
   "metadata": {},
   "source": [
    "Вначале определяется собственно функция декоратора, которая в данном случае называется select(). В качестве параметра декоратор получает функцию (в данном случае параметр input_func), к которой этот декоратор будет применяться:"
   ]
  },
  {
   "cell_type": "code",
   "execution_count": 84,
   "id": "8a6c81f4",
   "metadata": {},
   "outputs": [],
   "source": [
    "def select(input_func):    \n",
    "    def output_func():      # определяем функцию, которая будет выполняться вместо оригинальной\n",
    "        print(\"*****************\")  # перед выводом оригинальной функции выводим всякую звездочки\n",
    "        input_func()                # вызов оригинальной функции\n",
    "        print(\"*****************\")  # после вывода оригинальной функции выводим всякую звездочки\n",
    "    return output_func     # возвращаем новую функцию"
   ]
  },
  {
   "cell_type": "markdown",
   "id": "c8e8bb14",
   "metadata": {},
   "source": [
    "Результатом декоратора в данном случае является локальная функция output_func, в которой вызывается входная функция input_func. Для простоты здесь перед и после вызыва input_func для красоты просто выводим набор символов \"#\".\n",
    "\n",
    "Далее определяется стандартная функция, к которой применяется декоратор - в данном случае это функция hello, которая просто выводит на консоль некоторую строку:"
   ]
  },
  {
   "cell_type": "code",
   "execution_count": 85,
   "id": "0b3c5e5b",
   "metadata": {},
   "outputs": [],
   "source": [
    "@select         # применение декоратора select\n",
    "def hello():\n",
    "    print(\"Hello METANIT.COM\")"
   ]
  },
  {
   "cell_type": "markdown",
   "id": "cef82128",
   "metadata": {},
   "source": [
    "Для применения декоратора перед определением функции указывается символ @, после которого идет имя декоратора. То есть в данном случае к функции hello() применяется декоратор select().\n",
    "\n",
    "Далее вызываем обычную функцию:"
   ]
  },
  {
   "cell_type": "code",
   "execution_count": 86,
   "id": "35bc6b5f",
   "metadata": {},
   "outputs": [
    {
     "name": "stdout",
     "output_type": "stream",
     "text": [
      "*****************\n",
      "Hello METANIT.COM\n",
      "*****************\n"
     ]
    }
   ],
   "source": [
    "hello()"
   ]
  },
  {
   "cell_type": "markdown",
   "id": "b6aaec3b",
   "metadata": {},
   "source": [
    "Поскольку к этой функции применяется декоратор select, то в результате функциия hello передается в декоратор select() в качестве параметра input_func. И поскольку декоратор возвращает новую функцию - output_func, то фактически в данном случае будет выполняться именно эта функция output_func()\n",
    "\n",
    "В итоге мы получим следующий консольный вывод:\n",
    "```\n",
    "*****************\n",
    "Hello METANIT.COM\n",
    "*****************\n",
    "```\n",
    "### Получение параметров функции в декораторе\n",
    "\n",
    "Декоратор может перехватывать передаваемые в функцию аргументы:"
   ]
  },
  {
   "cell_type": "code",
   "execution_count": 87,
   "id": "795f8837",
   "metadata": {},
   "outputs": [
    {
     "name": "stdout",
     "output_type": "stream",
     "text": [
      "Name: Tom  Age: 38\n"
     ]
    }
   ],
   "source": [
    "# определение функции декоратора\n",
    "def check(input_func):    \n",
    "    def output_func(*args):      # через *args получаем значения параметров оригинальной функции\n",
    "        input_func(*args)                # вызов оригинальной функции\n",
    "    return output_func     # возвращаем новую функцию\n",
    " \n",
    "# определение оригинальной функции\n",
    "@check\n",
    "def print_person(name, age):\n",
    "    print(f\"Name: {name}  Age: {age}\")\n",
    "\n",
    "# вызов оригинальной функции\n",
    "print_person(\"Tom\", 38)"
   ]
  },
  {
   "cell_type": "markdown",
   "id": "f965cc3e",
   "metadata": {},
   "source": [
    "Здесь функция print_person() принимает два параметра: name (имя) и age (возраст). К этой функции применяется декоратор check()\n",
    "\n",
    "В декораторе check возвращается локальная функция output_func(), которая принимает некоторый набор значений в виде параметра `*args` - это те значения, которые передаются в оригинальную функцию, к которой применяется декоратор. То есть в данном случае `*args` будет содержать значения параметров name и age."
   ]
  },
  {
   "cell_type": "code",
   "execution_count": null,
   "id": "d4912032",
   "metadata": {},
   "outputs": [],
   "source": [
    "def check(input_func):    \n",
    "    def output_func(*args):      # через *args получаем значения параметров функции input_func"
   ]
  },
  {
   "cell_type": "markdown",
   "id": "85244803",
   "metadata": {},
   "source": [
    "Здесь просто передаем эти значения в оригинальную функцию:"
   ]
  },
  {
   "cell_type": "code",
   "execution_count": null,
   "id": "2da05246",
   "metadata": {},
   "outputs": [],
   "source": [
    "input_func(*args)"
   ]
  },
  {
   "cell_type": "markdown",
   "id": "aa35afca",
   "metadata": {},
   "source": [
    "В итоге в данном получим следующий консольный вывод\n",
    "```\n",
    "Name: Tom  Age: 38\n",
    "```\n",
    "Но что, если в функцию print_person будет передано какое-то недопустимое значение, например, отрицательный возраст? Одним из преимуществ декораторов как раз является то, что мы можем проверить и при необходимости модифицировать значения параметров. Например:"
   ]
  },
  {
   "cell_type": "code",
   "execution_count": 90,
   "id": "498caa9d",
   "metadata": {},
   "outputs": [
    {
     "name": "stdout",
     "output_type": "stream",
     "text": [
      "Name: Tom  Age: 38\n",
      "Name: Bob  Age: 1\n"
     ]
    }
   ],
   "source": [
    "# определение функции декоратора\n",
    "def check(input_func):    \n",
    "    def output_func(*args):\n",
    "        name = args[0]\n",
    "        age = args[1]           # получаем значение второго параметра\n",
    "        if age < 0: age = 1     # если возраст отрицательный, изменяем его значение на 1\n",
    "        input_func(name, age)   # передаем функции значения для параметров\n",
    "    return output_func\n",
    " \n",
    "# определение оригинальной функции\n",
    "@check\n",
    "def print_person(name, age):\n",
    "    print(f\"Name: {name}  Age: {age}\")\n",
    "\n",
    "# вызов оригинальной функции\n",
    "print_person(\"Tom\", 38)\n",
    "print_person(\"Bob\", -5)"
   ]
  },
  {
   "cell_type": "markdown",
   "id": "8b9b1a80",
   "metadata": {},
   "source": [
    "args фактически представляет набор значений, и, используя индексы, мы можем получить значения параметров по позиции и что-то с ними сделать. Так, здесь, если значение возраста меньше 0, то устанавливаем 1. Затем передаем эти значения в вызов функции. В итоге здесь получим следующий вывод:\n",
    "```\n",
    "Name: Tom  Age: 38\n",
    "Name: Bob  Age: 1\n",
    "```\n",
    "### Получение результата функции\n",
    "\n",
    "Подобным образом можно получить результат функции и при необходимости изменить его:"
   ]
  },
  {
   "cell_type": "code",
   "execution_count": 91,
   "id": "a61de187",
   "metadata": {},
   "outputs": [
    {
     "name": "stdout",
     "output_type": "stream",
     "text": [
      "30\n",
      "0\n"
     ]
    }
   ],
   "source": [
    "# определение функции декоратора\n",
    "def check(input_func):    \n",
    "    def output_func(*args):\n",
    "        result = input_func(*args)   # передаем функции значения для параметров\n",
    "        if result < 0: result = 0   # если результат функции меньше нуля, то возвращаем 0\n",
    "        return result\n",
    "    return output_func\n",
    " \n",
    "# определение оригинальной функции\n",
    "@check\n",
    "def sum(a, b):\n",
    "    return a + b\n",
    " \n",
    "# вызов оригинальной функции\n",
    "result1 = sum(10, 20)\n",
    "print(result1)          # 30\n",
    " \n",
    "result2 = sum(10, -20)\n",
    "print(result2)          # 0"
   ]
  },
  {
   "cell_type": "markdown",
   "id": "4e25674a",
   "metadata": {},
   "source": [
    "Здесь определена функция sum(), которая возвращает сумму чисел. В декораторе check проверяем результат функции и для простоты, если он меньше нуля, то возвращаем 0."
   ]
  }
 ],
 "metadata": {
  "kernelspec": {
   "display_name": "Python 3 (ipykernel)",
   "language": "python",
   "name": "python3"
  },
  "language_info": {
   "codemirror_mode": {
    "name": "ipython",
    "version": 3
   },
   "file_extension": ".py",
   "mimetype": "text/x-python",
   "name": "python",
   "nbconvert_exporter": "python",
   "pygments_lexer": "ipython3",
   "version": "3.8.10"
  }
 },
 "nbformat": 4,
 "nbformat_minor": 5
}

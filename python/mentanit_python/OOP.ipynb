{
 "cells": [
  {
   "cell_type": "markdown",
   "id": "bf4f5498",
   "metadata": {},
   "source": [
    "# https://metanit.com/python/tutorial/7.1.php\n",
    "\n",
    "# Объектно-ориентированное программирование\n",
    "### Классы и объекты\n",
    "\n",
    "`Python` имеет множество встроенных типов, например, int, str и так далее, которые мы можем использовать в программе. Но также Python позволяет определять собственные типы с помощью классов. Класс представляет некоторую сущность. Конкретным воплощением класса является объект.\n",
    "\n",
    "Можно еще провести следующую аналогию. У нас у всех есть некоторое представление о человеке, у которого есть имя, возраст, какие-то другие характеристики Человек может выполнять некоторые действия - ходить, бегать, думать и т.д. То есть это представление, которое включает набор характеристик и действий, можно назвать классом. Конкретное воплощение этого шаблона может отличаться, например, одни люди имеют одно имя, другие - другое имя. И реально существующий человек будет представлять объект этого класса.\n",
    "\n",
    "Класс определяется с помощью ключевого слова class:\n",
    "```\n",
    "class название_класса:\n",
    "    атрибуты_класса\n",
    "    методы_класса\n",
    "```\n",
    "Внутри класса определяются его __атрибуты__, которые хранят различные характеристики класса, и __методы__ - функции класса.\n",
    "\n",
    "Создадим простейший класс:"
   ]
  },
  {
   "cell_type": "code",
   "execution_count": 1,
   "id": "25f84da0",
   "metadata": {},
   "outputs": [],
   "source": [
    "class Person:\n",
    "    pass"
   ]
  },
  {
   "cell_type": "markdown",
   "id": "568493f3",
   "metadata": {},
   "source": [
    "В данном случае определен класс Person, который условно представляет человека. В данном случае в классе не определяется никаких методов или атрибутов. Однако поскольку в нем должно быть что-то определено, то в качестве заменителя функционала класса применяется оператор pass. Этот оператор применяется, когда синтаксически необходимо определить некоторый код, однако мы не хотим его, и вместо конкретного кода вставляем оператор __pass__.\n",
    "\n",
    "После создания класса можно определить объекты этого класса. Например:"
   ]
  },
  {
   "cell_type": "code",
   "execution_count": 2,
   "id": "5afa7f85",
   "metadata": {},
   "outputs": [],
   "source": [
    "class Person:\n",
    "    pass\n",
    " \n",
    "tom = Person()      # определение объекта tom\n",
    "bob = Person()      # определение объекта bob"
   ]
  },
  {
   "cell_type": "markdown",
   "id": "d7ed84c2",
   "metadata": {},
   "source": [
    "После определения класса Person создаются два объекта класса Person - tom и bob. Для создания объекта применяется специальная функция - конструктор, которая называется по имени класса и которая возвращает объект класса. То есть в данном случае вызов Person() представляет вызов конструктора. Каждый класс по умолчанию имеет конструктор без параметров:"
   ]
  },
  {
   "cell_type": "code",
   "execution_count": 3,
   "id": "e2a063d5",
   "metadata": {},
   "outputs": [],
   "source": [
    "tom = Person()      # Person() - вызов конструктора, который возвращает объект класса Person"
   ]
  },
  {
   "cell_type": "markdown",
   "id": "d427a64a",
   "metadata": {},
   "source": [
    "### Методы классов\n",
    "\n",
    "Методы класса фактически представляют функции, которые определенны внутри класса и которые определяют его поведение. Например, определим класс Person с одним методом:"
   ]
  },
  {
   "cell_type": "code",
   "execution_count": 4,
   "id": "3babb4d6",
   "metadata": {},
   "outputs": [
    {
     "name": "stdout",
     "output_type": "stream",
     "text": [
      "Hello\n"
     ]
    }
   ],
   "source": [
    "class Person:       # определение класса Person\n",
    "     def say_hello(self):\n",
    "        print(\"Hello\")\n",
    "        \n",
    "tom = Person()\n",
    "tom.say_hello()    # Hello"
   ]
  },
  {
   "cell_type": "markdown",
   "id": "f2dfbf89",
   "metadata": {},
   "source": [
    "Здесь определен метод __say_hello()__, который условно выполняет приветствие - выводит строку на консоль. При определении методов любого класса следует учитывать, что все они должны принимать в качестве первого параметра ссылку на текущий объект, который согласно условностям называется __self__. Через эту ссылку внутри класса мы можем обратиться к функциональности текущего объекта. Но при самом вызове метода этот параметр не учитывается.\n",
    "\n",
    "Используя имя объекта, мы можем обратиться к его методам. Для обращения к методам применяется нотация точки - после имени объекта ставится точка и после нее идет вызов метода:\n",
    "```\n",
    "объект.метод([параметры метода])\n",
    "```\n",
    "Например, обращение к методу say_hello() для вывода приветствия на консоль:"
   ]
  },
  {
   "cell_type": "code",
   "execution_count": 5,
   "id": "9186cbbc",
   "metadata": {},
   "outputs": [
    {
     "name": "stdout",
     "output_type": "stream",
     "text": [
      "Hello\n"
     ]
    }
   ],
   "source": [
    "tom.say_hello()    # Hello"
   ]
  },
  {
   "cell_type": "markdown",
   "id": "79e19a92",
   "metadata": {},
   "source": [
    "В итоге данная программа выведет на консоль строку \"Hello\".\n",
    "\n",
    "Если метод должен принимать другие параметры, то они определяются после параметра self, и при вызове подобного метода для них необходимо передать значения:"
   ]
  },
  {
   "cell_type": "code",
   "execution_count": 6,
   "id": "ab237baa",
   "metadata": {},
   "outputs": [
    {
     "name": "stdout",
     "output_type": "stream",
     "text": [
      "Hello METANIT.COM\n"
     ]
    }
   ],
   "source": [
    "class Person:       # определение класса Person\n",
    "    def say(self, message):     # метод \n",
    "        print(message)\n",
    " \n",
    " \n",
    "tom = Person()\n",
    "tom.say(\"Hello METANIT.COM\")    # Hello METANIT.COM"
   ]
  },
  {
   "cell_type": "markdown",
   "id": "4fa8fe95",
   "metadata": {},
   "source": [
    "Здесь определен метод __say()__. Он принимает два параметра: _self и message_. И для второго параметра - message при вызове метода необходимо передать значение.\n",
    "\n",
    "### self\n",
    "\n",
    "Через ключевое слово self можно обращаться внутри класса к функциональности текущего объекта:\n",
    "```\n",
    "self.атрибут    # обращение к атрибуту\n",
    "self.метод      # обращение к методу\n",
    "```\n",
    "Например, определим два метода в классе Person:"
   ]
  },
  {
   "cell_type": "code",
   "execution_count": 7,
   "id": "bf2e7e21",
   "metadata": {},
   "outputs": [
    {
     "name": "stdout",
     "output_type": "stream",
     "text": [
      "Hello work\n"
     ]
    }
   ],
   "source": [
    "class Person:\n",
    " \n",
    "    def say(self, message):\n",
    "        print(message)\n",
    " \n",
    "    def say_hello(self):\n",
    "        self.say(\"Hello work\")  # обращаемся к выше определенному методу say\n",
    " \n",
    " \n",
    "tom = Person()\n",
    "tom.say_hello()     # Hello work"
   ]
  },
  {
   "cell_type": "markdown",
   "id": "8fa1d94d",
   "metadata": {},
   "source": [
    "Здесь в одном методе - say_hello() вызывается другой метод - say():"
   ]
  },
  {
   "cell_type": "code",
   "execution_count": null,
   "id": "ffc3fa00",
   "metadata": {},
   "outputs": [],
   "source": [
    "self.say(\"Hello work\")"
   ]
  },
  {
   "cell_type": "markdown",
   "id": "c1522701",
   "metadata": {},
   "source": [
    "Поскольку метод say() принимает кроме self еще параметры (параметр message), то при вызове метода для этого параметра передается значение.\n",
    "\n",
    "Причем при вызове метода объекта нам обязательно необходимо использовать слово self, если мы его не используем:"
   ]
  },
  {
   "cell_type": "code",
   "execution_count": null,
   "id": "69426ce3",
   "metadata": {},
   "outputs": [],
   "source": [
    "def say_hello(self):\n",
    "    say(\"Hello work\")  # ! Ошибка"
   ]
  },
  {
   "cell_type": "markdown",
   "id": "533b493a",
   "metadata": {},
   "source": [
    "То мы столкнемся с ошибкой\n",
    "### Конструкторы\n",
    "\n",
    "Для создания объекта класса используется конструктор. Так, выше когда мы создавали объекты класса Person, мы использовали конструктор по умолчанию, который не принимает параметров и который неявно имеют все классы:"
   ]
  },
  {
   "cell_type": "code",
   "execution_count": 9,
   "id": "0a7f864c",
   "metadata": {},
   "outputs": [],
   "source": [
    "tom = Person()"
   ]
  },
  {
   "cell_type": "markdown",
   "id": "bb7c138f",
   "metadata": {},
   "source": [
    "Однако мы можем явным образом определить в классах конструктор с помощью специального метода, который называется __init__() (по два прочерка с каждой стороны). К примеру, изменим класс Person, добавив в него конструктор:"
   ]
  },
  {
   "cell_type": "code",
   "execution_count": 10,
   "id": "f08794c1",
   "metadata": {},
   "outputs": [
    {
     "name": "stdout",
     "output_type": "stream",
     "text": [
      "Создание объекта Person\n",
      "Hello\n"
     ]
    }
   ],
   "source": [
    "class Person:\n",
    "    # конструктор\n",
    "    def __init__(self):\n",
    "        print(\"Создание объекта Person\")\n",
    " \n",
    "    def say_hello(self):\n",
    "        print(\"Hello\")\n",
    "                 \n",
    "tom = Person()      # Создание объекта Person\n",
    "tom.say_hello()     # Hello"
   ]
  },
  {
   "cell_type": "markdown",
   "id": "5a11f067",
   "metadata": {},
   "source": [
    "Итак, здесь в коде класса Person определен конструктор и метод say_hello(). В качестве первого параметра конструктор, как и методы, также принимает ссылку на текущий объект - self. Обычно конструкторы применяются для определения действий, которые должны производиться при создании объекта.\n",
    "\n",
    "Теперь при создании объекта:"
   ]
  },
  {
   "cell_type": "code",
   "execution_count": 11,
   "id": "d2b92dd8",
   "metadata": {},
   "outputs": [
    {
     "name": "stdout",
     "output_type": "stream",
     "text": [
      "Создание объекта Person\n"
     ]
    }
   ],
   "source": [
    "tom = Person()"
   ]
  },
  {
   "cell_type": "markdown",
   "id": "043eb1c3",
   "metadata": {},
   "source": [
    "будет производится вызов конструктора __init__() из класса Person, который выведет на консоль строку \"Создание объекта Person\".\n",
    "### Атрибуты объекта\n",
    "\n",
    "Атрибуты хранят состояние объекта. Для определения и установки атрибутов внутри класса можно применять слово self. Например, определим следующий класс Person:"
   ]
  },
  {
   "cell_type": "code",
   "execution_count": 12,
   "id": "9ed64e66",
   "metadata": {},
   "outputs": [
    {
     "name": "stdout",
     "output_type": "stream",
     "text": [
      "Tom\n",
      "1\n",
      "37\n"
     ]
    }
   ],
   "source": [
    "class Person:\n",
    " \n",
    "    def __init__(self, name):\n",
    "        self.name = name    # имя человека\n",
    "        self.age = 1        # возраст человека\n",
    " \n",
    " \n",
    "tom = Person(\"Tom\")\n",
    " \n",
    "# обращение к атрибутам\n",
    "# получение значений\n",
    "print(tom.name)     # Tom\n",
    "print(tom.age)      # 1\n",
    "# изменение значения\n",
    "tom.age = 37\n",
    "print(tom.age)      # 37"
   ]
  },
  {
   "cell_type": "markdown",
   "id": "6fcb80f3",
   "metadata": {},
   "source": [
    "Теперь конструктор класса Person принимает еще один параметр - name. Через этот параметр в конструктор будет передаваться имя создаваемого человека.\n",
    "\n",
    "Внутри конструктора устанавливаются два атрибута - name и age (условно имя и возраст человека):"
   ]
  },
  {
   "cell_type": "code",
   "execution_count": 14,
   "id": "06515368",
   "metadata": {},
   "outputs": [],
   "source": [
    "def __init__(self, name):\n",
    "    self.name = name\n",
    "    self.age = 1"
   ]
  },
  {
   "cell_type": "markdown",
   "id": "783b9eff",
   "metadata": {},
   "source": [
    "Атрибуту self.name присваивается значение переменной name. Атрибут age получает значение 1.\n",
    "\n",
    "Если мы определили в классе конструктор __init__, мы уже не сможем вызвать конструктор по умолчанию. Теперь нам надо вызывать наш явным образом опреледеленный конструктор __init__, в который необходимо передать значение для параметра name:"
   ]
  },
  {
   "cell_type": "code",
   "execution_count": 15,
   "id": "07b3f6e7",
   "metadata": {},
   "outputs": [],
   "source": [
    "tom = Person(\"Tom\")"
   ]
  },
  {
   "cell_type": "markdown",
   "id": "c8a13fbb",
   "metadata": {},
   "source": [
    "Далее по имени объекта мы можем обращаться к атрибутам объекта - получать и изменять их значения:"
   ]
  },
  {
   "cell_type": "code",
   "execution_count": 16,
   "id": "30d1f7b1",
   "metadata": {},
   "outputs": [
    {
     "name": "stdout",
     "output_type": "stream",
     "text": [
      "Tom\n"
     ]
    }
   ],
   "source": [
    "print(tom.name)     # получение значения атрибута name\n",
    "tom.age = 37        # изменение значения атрибута age"
   ]
  },
  {
   "cell_type": "markdown",
   "id": "65e5f72e",
   "metadata": {},
   "source": [
    "В принципе нам необязательно определять атрибуты внутри класса - Python позволяет сделать это динамически вне кода:"
   ]
  },
  {
   "cell_type": "code",
   "execution_count": 17,
   "id": "7e5339e3",
   "metadata": {},
   "outputs": [
    {
     "name": "stdout",
     "output_type": "stream",
     "text": [
      "Microsoft\n"
     ]
    }
   ],
   "source": [
    "class Person:\n",
    " \n",
    "    def __init__(self, name):\n",
    "        self.name = name    # имя человека\n",
    "        self.age = 1        # возраст человека\n",
    " \n",
    " \n",
    "tom = Person(\"Tom\")\n",
    " \n",
    "tom.company = \"Microsoft\"\n",
    "print(tom.company)  # Microsoft"
   ]
  },
  {
   "cell_type": "markdown",
   "id": "0a772356",
   "metadata": {},
   "source": [
    "Здесь динамически устанавливается атрибут company, который хранит место работы человека. И после установки мы также можем получить его значение. В то же время подобное определение чревато ошибками. Например, если мы попытаемся обратиться к атрибуту до его определения, то программа сгенерирует ошибку:"
   ]
  },
  {
   "cell_type": "code",
   "execution_count": null,
   "id": "cafb7b4e",
   "metadata": {},
   "outputs": [],
   "source": [
    "tom = Person(\"Tom\")\n",
    "print(tom.company)  # ! Ошибка - AttributeError: Person object has no attribute company"
   ]
  },
  {
   "cell_type": "markdown",
   "id": "517fd936",
   "metadata": {},
   "source": [
    "Для обращения к атрибутам объекта внутри класса в его методах также применяется слово self:"
   ]
  },
  {
   "cell_type": "code",
   "execution_count": 18,
   "id": "3b31ce16",
   "metadata": {},
   "outputs": [
    {
     "name": "stdout",
     "output_type": "stream",
     "text": [
      "Name: Tom  Age: 1\n"
     ]
    }
   ],
   "source": [
    "class Person:\n",
    " \n",
    "    def __init__(self, name):\n",
    "        self.name = name    # имя человека\n",
    "        self.age = 1        # возраст человека\n",
    "     \n",
    "    def display_info(self):\n",
    "        print(f\"Name: {self.name}  Age: {self.age}\")\n",
    " \n",
    " \n",
    "tom = Person(\"Tom\")\n",
    "tom.display_info()      # Name: Tom  Age: 1"
   ]
  },
  {
   "cell_type": "markdown",
   "id": "c99beeb4",
   "metadata": {},
   "source": [
    "Здесь определяется метод display_info(), который выводит информацию на консоль. И для обращения в методе к атрибутам объекта применяется слово self: self.name и self.age\n",
    "### Создание объектов\n",
    "\n",
    "Выше создавался один объект. Но подобным образом можно создавать и другие объекты класса:"
   ]
  },
  {
   "cell_type": "code",
   "execution_count": 19,
   "id": "751f06e7",
   "metadata": {},
   "outputs": [
    {
     "name": "stdout",
     "output_type": "stream",
     "text": [
      "Name: Tom  Age: 37\n",
      "Name: Bob  Age: 41\n"
     ]
    }
   ],
   "source": [
    "class Person:\n",
    " \n",
    "    def __init__(self, name):\n",
    "        self.name = name    # имя человека\n",
    "        self.age = 1        # возраст человека\n",
    " \n",
    "    def display_info(self):\n",
    "        print(f\"Name: {self.name}  Age: {self.age}\")\n",
    " \n",
    " \n",
    "tom = Person(\"Tom\")\n",
    "tom.age = 37\n",
    "tom.display_info()      # Name: Tom  Age: 37\n",
    " \n",
    "bob = Person(\"Bob\")\n",
    "bob.age = 41\n",
    "bob.display_info()      # Name: Bob  Age: 41"
   ]
  },
  {
   "cell_type": "markdown",
   "id": "7fc828d0",
   "metadata": {},
   "source": [
    "Здесь создаются два объекта класса Person: tom и bob. Они соответствуют определению класса Person, имеют одинаковый набор атрибутов и методов, однако их состояние будет отличаться.\n",
    "\n",
    "При выполнении программы Python динамически будет определять self - он представляет объект, у которого вызывается метод. Например, в строке:"
   ]
  },
  {
   "cell_type": "code",
   "execution_count": 20,
   "id": "3e891ca4",
   "metadata": {},
   "outputs": [
    {
     "name": "stdout",
     "output_type": "stream",
     "text": [
      "Name: Tom  Age: 37\n"
     ]
    }
   ],
   "source": [
    "tom.display_info()      # Name: Tom  Age: 37"
   ]
  },
  {
   "cell_type": "markdown",
   "id": "d5c62cdf",
   "metadata": {},
   "source": [
    "Это будет объект tom\n",
    "\n",
    "А при вызове"
   ]
  },
  {
   "cell_type": "code",
   "execution_count": 21,
   "id": "4c46d53c",
   "metadata": {},
   "outputs": [
    {
     "name": "stdout",
     "output_type": "stream",
     "text": [
      "Name: Bob  Age: 41\n"
     ]
    }
   ],
   "source": [
    "bob.display_info()"
   ]
  },
  {
   "cell_type": "markdown",
   "id": "cd8996c2",
   "metadata": {},
   "source": [
    "Это будет объект bob\n",
    "\n",
    "В итоге мы получим следующий консольный вывод:\n",
    "```\n",
    "Name: Tom  Age: 37\n",
    "Name: Bob  Age: 41\n",
    "```\n",
    "# Инкапсуляция, атрибуты и свойства\n",
    "\n",
    "\n",
    "По умолчанию атрибуты в классах являются общедоступными, а это значит, что из любого места программы мы можем получить атрибут объекта и изменить его. Например:"
   ]
  },
  {
   "cell_type": "code",
   "execution_count": 22,
   "id": "60775522",
   "metadata": {},
   "outputs": [
    {
     "name": "stdout",
     "output_type": "stream",
     "text": [
      "Имя: Человек-паук\tВозраст: -129\n"
     ]
    }
   ],
   "source": [
    "class Person:\n",
    "    def __init__(self, name):\n",
    "        self.name = name    # устанавливаем имя\n",
    "        self.age = 1        # устанавливаем возраст\n",
    "                 \n",
    "    def display_info(self):\n",
    "        print(f\"Имя: {self.name}\\tВозраст: {self.age}\")\n",
    "         \n",
    "tom = Person(\"Tom\")\n",
    "tom.name = \"Человек-паук\"       # изменяем атрибут name\n",
    "tom.age = -129                  # изменяем атрибут age\n",
    "tom.display_info()              # Имя: Человек-паук     Возраст: -129"
   ]
  },
  {
   "cell_type": "markdown",
   "id": "39145ee3",
   "metadata": {},
   "source": [
    "Но в данном случае мы можем, к примеру, присвоить возрасту или имени человека некорректное значение, например, указать отрицательный возраст. Подобное поведение нежелательно, поэтому встает вопрос о контроле за доступом к атрибутам объекта.\n",
    "\n",
    "С данной проблемой тесно связано понятие инкапсуляции. __Инкапсуляция__ является фундаментальной концепцией объектно-ориентированного программирования. Она предотвращает прямой доступ к атрибутам объект из вызывающего кода.\n",
    "\n",
    "Касательно инкапсуляции непосредственно в языке программирования Python скрыть атрибуты класса можно сделав их приватными или закрытыми и ограничив доступ к ним через специальные методы, которые еще называются свойствами.\n",
    "\n",
    "Изменим выше определенный класс, определив в нем свойства:"
   ]
  },
  {
   "cell_type": "code",
   "execution_count": 23,
   "id": "d30e95fb",
   "metadata": {},
   "outputs": [
    {
     "name": "stdout",
     "output_type": "stream",
     "text": [
      "Имя: Tom\tВозраст: 1\n",
      "Недопустимый возраст\n",
      "Имя: Tom\tВозраст: 25\n"
     ]
    }
   ],
   "source": [
    "class Person:\n",
    "    def __init__(self, name):\n",
    "        self.__name = name  # устанавливаем имя\n",
    "        self.__age = 1  # устанавливаем возраст\n",
    " \n",
    "    def set_age(self, age):\n",
    "        if 1 < age < 110:\n",
    "            self.__age = age\n",
    "        else:\n",
    "            print(\"Недопустимый возраст\")\n",
    " \n",
    "    def get_age(self):\n",
    "        return self.__age\n",
    " \n",
    "    def get_name(self):\n",
    "        return self.__name\n",
    " \n",
    "    def display_info(self):\n",
    "        print(f\"Имя: {self.__name}\\tВозраст: {self.__age}\")\n",
    " \n",
    " \n",
    "tom = Person(\"Tom\")\n",
    "tom.display_info()  # Имя: Tom  Возраст: 1\n",
    "tom.set_age(-3486)  # Недопустимый возраст\n",
    "tom.set_age(25)\n",
    "tom.display_info()  # Имя: Tom  Возраст: 25"
   ]
  },
  {
   "cell_type": "markdown",
   "id": "500ac85d",
   "metadata": {},
   "source": [
    "Для создания приватного атрибута в начале его наименования ставится двойной прочерк: self.__name. К такому атрибуту мы сможем обратиться только из того же класса. Но не сможем обратиться вне этого класса. Например, присвоение значения этому атрибуту ничего не даст:"
   ]
  },
  {
   "cell_type": "code",
   "execution_count": 24,
   "id": "577c9ed1",
   "metadata": {},
   "outputs": [],
   "source": [
    "tom.__age = 43 "
   ]
  },
  {
   "cell_type": "markdown",
   "id": "7337a552",
   "metadata": {},
   "source": [
    "Потому что в данном случае просто определяется динамически новый атрибут __age, но это он не имеет ничего общего с атрибутом self.__age.\n",
    "\n",
    "А попытка получить его значение приведет к ошибке выполнения (если ранее не была определена переменная __age):"
   ]
  },
  {
   "cell_type": "code",
   "execution_count": 25,
   "id": "85e90441",
   "metadata": {},
   "outputs": [
    {
     "name": "stdout",
     "output_type": "stream",
     "text": [
      "43\n"
     ]
    }
   ],
   "source": [
    "print(tom.__age)"
   ]
  },
  {
   "cell_type": "markdown",
   "id": "fb0b8a0d",
   "metadata": {},
   "source": [
    "Однако все же нам может потребоваться устанавливать возраст пользователя из вне. Для этого создаются свойства. Используя одно свойство, мы можем получить значение атрибута:"
   ]
  },
  {
   "cell_type": "code",
   "execution_count": 26,
   "id": "cab007d4",
   "metadata": {},
   "outputs": [],
   "source": [
    "def get_age(self):\n",
    "    return self.__age"
   ]
  },
  {
   "cell_type": "markdown",
   "id": "8d759f2f",
   "metadata": {},
   "source": [
    "Данный метод еще часто называют геттер или аксессор.\n",
    "\n",
    "Для изменения возраста определено другое свойство:"
   ]
  },
  {
   "cell_type": "code",
   "execution_count": 27,
   "id": "b47333ed",
   "metadata": {},
   "outputs": [],
   "source": [
    "def set_age(self, age):\n",
    "    if 1 < age < 110:\n",
    "        self.__age = age\n",
    "    else:\n",
    "        print(\"Недопустимый возраст\")"
   ]
  },
  {
   "cell_type": "markdown",
   "id": "d5c952ec",
   "metadata": {},
   "source": [
    "Данный метод еще называют сеттер или мьютейтор (mutator). Здесь мы уже можем решить в зависимости от условий, надо ли переустанавливать возраст.\n",
    "\n",
    "Необязательно создавать для каждого приватного атрибута подобную пару свойств. Так, в примере выше имя человека мы можем установить только из конструктора. А для получение определен метод get_name.\n",
    "Аннотации свойств\n",
    "\n",
    "Выше мы рассмотрели, как создавать свойства. Но Python имеет также еще один - более элегантный способ определения свойств. Этот способ предполагает использование аннотаций, которые предваряются символом __@__.\n",
    "\n",
    "Для создания свойства-геттера над свойством ставится аннотация __@property__.\n",
    "\n",
    "Для создания свойства-сеттера над свойством устанавливается аннотация имя_свойства_геттера.setter.\n",
    "\n",
    "Перепишем класс Person с использованием аннотаций:"
   ]
  },
  {
   "cell_type": "code",
   "execution_count": 28,
   "id": "1c930d39",
   "metadata": {},
   "outputs": [
    {
     "name": "stdout",
     "output_type": "stream",
     "text": [
      "Имя: Tom\tВозраст: 1\n",
      "Недопустимый возраст\n",
      "1\n",
      "Имя: Tom\tВозраст: 36\n"
     ]
    }
   ],
   "source": [
    "class Person:\n",
    "    def __init__(self, name):\n",
    "        self.__name = name  # устанавливаем имя\n",
    "        self.__age = 1  # устанавливаем возраст\n",
    " \n",
    "    @property\n",
    "    def age(self):\n",
    "        return self.__age\n",
    " \n",
    "    @age.setter\n",
    "    def age(self, age):\n",
    "        if 1 < age < 110:\n",
    "            self.__age = age\n",
    "        else:\n",
    "            print(\"Недопустимый возраст\")\n",
    " \n",
    "    @property\n",
    "    def name(self):\n",
    "        return self.__name\n",
    " \n",
    "    def display_info(self):\n",
    "        print(f\"Имя: {self.__name}\\tВозраст: {self.__age}\")\n",
    " \n",
    " \n",
    "tom = Person(\"Tom\")\n",
    " \n",
    "tom.display_info()  # Имя: Tom  Возраст: 1\n",
    "tom.age = -3486  # Недопустимый возраст\n",
    "print(tom.age)  # 1\n",
    "tom.age = 36\n",
    "tom.display_info()  # Имя: Tom  Возраст: 36"
   ]
  },
  {
   "cell_type": "markdown",
   "id": "0d37f153",
   "metadata": {},
   "source": [
    "Во-первых, стоит обратить внимание, что свойство-сеттер определяется после свойства-геттера.\n",
    "\n",
    "Во-вторых, и сеттер, и геттер называются одинаково - age. И поскольку геттер называется age, то над сеттером устанавливается аннотация __@age.setter__.\n",
    "\n",
    "После этого, что к геттеру, что к сеттеру, мы обращаемся через выражение tom.age."
   ]
  },
  {
   "cell_type": "markdown",
   "id": "03a73ae2",
   "metadata": {},
   "source": [
    "# Наследование\n",
    "Наследование позволяет создавать новый класс на основе уже существующего класса. Наряду с инкапсуляцией __наследование__ является одним из краеугольных камней объектно-ориентированного программирования.\n",
    "\n",
    "Ключевыми понятиями наследования являются подкласс и суперкласс. Подкласс наследует от суперкласса все публичные атрибуты и методы. Суперкласс еще называется базовым (base class) или родительским (parent class), а подкласс - производным (derived class) или дочерним (child class).\n",
    "\n",
    "Синтаксис для наследования классов выглядит следующим образом:"
   ]
  },
  {
   "cell_type": "markdown",
   "id": "7afeb8bf",
   "metadata": {},
   "source": [
    "```\n",
    "class подкласс (суперкласс):\n",
    "    методы_подкласса\n",
    "```\n",
    "Например, у нас есть класс Person, который представляет человека:"
   ]
  },
  {
   "cell_type": "code",
   "execution_count": 29,
   "id": "e010b0f3",
   "metadata": {},
   "outputs": [],
   "source": [
    "class Person:\n",
    " \n",
    "    def __init__(self, name):\n",
    "        self.__name = name   # имя человека\n",
    " \n",
    "    @property\n",
    "    def name(self):\n",
    "        return self.__name\n",
    "     \n",
    "    def display_info(self):\n",
    "        print(f\"Name: {self.__name} \")"
   ]
  },
  {
   "cell_type": "markdown",
   "id": "09107232",
   "metadata": {},
   "source": [
    "Предположим, нам необходим класс работника, который работает на некотором предприятии. Мы могли бы создать с нуля новый класс, к примеру, класс Employee:"
   ]
  },
  {
   "cell_type": "code",
   "execution_count": 30,
   "id": "20c064be",
   "metadata": {},
   "outputs": [],
   "source": [
    "class Employee:\n",
    " \n",
    "    def __init__(self, name):\n",
    "        self.__name = name  # имя работника\n",
    " \n",
    "    @property\n",
    "    def name(self):\n",
    "        return self.__name\n",
    " \n",
    "    def display_info(self):\n",
    "        print(f\"Name: {self.__name} \")\n",
    " \n",
    "    def work(self):\n",
    "        print(f\"{self.name} works\")"
   ]
  },
  {
   "cell_type": "markdown",
   "id": "0d0c8014",
   "metadata": {},
   "source": [
    "Однако класс Employee может иметь те же атрибуты и методы, что и класс Person, так как работник - это человек. Так, в выше в классе Employee только добавляется метод works, весь остальной код повторяет функционал класса Person. Но чтобы не дублировать функционал одного класса в другом, в данном случае лучше применить наследование.\n",
    "\n",
    "Итак, унаследуем класс Employee от класса Person:"
   ]
  },
  {
   "cell_type": "code",
   "execution_count": 31,
   "id": "1d7a05e7",
   "metadata": {},
   "outputs": [
    {
     "name": "stdout",
     "output_type": "stream",
     "text": [
      "Tom\n",
      "Name: Tom \n",
      "Tom works\n"
     ]
    }
   ],
   "source": [
    "class Person:\n",
    " \n",
    "    def __init__(self, name):\n",
    "        self.__name = name   # имя человека\n",
    " \n",
    "    @property\n",
    "    def name(self):\n",
    "        return self.__name\n",
    " \n",
    "    def display_info(self):\n",
    "        print(f\"Name: {self.__name} \")\n",
    " \n",
    " \n",
    "class Employee(Person):\n",
    " \n",
    "    def work(self):\n",
    "        print(f\"{self.name} works\")\n",
    " \n",
    " \n",
    "tom = Employee(\"Tom\")\n",
    "print(tom.name)     # Tom\n",
    "tom.display_info()  # Name: Tom \n",
    "tom.work()          # Tom works"
   ]
  },
  {
   "cell_type": "markdown",
   "id": "aa2447ce",
   "metadata": {},
   "source": [
    "Класс Employee полностью перенимает функционал класса Person, лишь добавляя метод work(). Соответственно при создании объекта Employee мы можем использовать унаследованный от Person конструктор:"
   ]
  },
  {
   "cell_type": "code",
   "execution_count": 32,
   "id": "3a64d541",
   "metadata": {},
   "outputs": [],
   "source": [
    "tom = Employee(\"Tom\")"
   ]
  },
  {
   "cell_type": "markdown",
   "id": "79e77fcb",
   "metadata": {},
   "source": [
    "И также можно обращаться к унаследованным атрибутам/свойствам и методам:"
   ]
  },
  {
   "cell_type": "code",
   "execution_count": 33,
   "id": "1d965b66",
   "metadata": {},
   "outputs": [
    {
     "name": "stdout",
     "output_type": "stream",
     "text": [
      "Tom\n",
      "Name: Tom \n"
     ]
    }
   ],
   "source": [
    "print(tom.name)     # Tom\n",
    "tom.display_info()  # Name: Tom"
   ]
  },
  {
   "cell_type": "markdown",
   "id": "0cb2ecc6",
   "metadata": {},
   "source": [
    "Однако, стоит обратить внимание, что для Employee НЕ доступны закрытые атрибуты типа __name. Например, мы НЕ можем в методе work обратиться к приватному атрибуту self.__name:"
   ]
  },
  {
   "cell_type": "code",
   "execution_count": 34,
   "id": "a598d56a",
   "metadata": {},
   "outputs": [],
   "source": [
    "def work(self):\n",
    "    print(f\"{self.__name} works\")   # ! Ошибка"
   ]
  },
  {
   "cell_type": "markdown",
   "id": "059e7e7f",
   "metadata": {},
   "source": [
    "### Множественное наследование\n",
    "\n",
    "Одной из отличительных особенностей языка Python является поддержка множественного наследования, то есть один класс можно унаследовать от нескольких классов:"
   ]
  },
  {
   "cell_type": "code",
   "execution_count": 35,
   "id": "ac1d7ddd",
   "metadata": {},
   "outputs": [
    {
     "name": "stdout",
     "output_type": "stream",
     "text": [
      "Employee works\n",
      "Student studies\n"
     ]
    }
   ],
   "source": [
    "#  класс работника\n",
    "class Employee:\n",
    "    def work(self):\n",
    "        print(\"Employee works\")\n",
    " \n",
    " \n",
    "#  класс студента\n",
    "class Student:\n",
    "    def study(self):\n",
    "        print(\"Student studies\")\n",
    " \n",
    " \n",
    "class WorkingStudent(Employee, Student):        # Наследование от классов Employee и Student\n",
    "    pass\n",
    " \n",
    "# класс работающего студента\n",
    "tom = WorkingStudent()\n",
    "tom.work()      # Employee works\n",
    "tom.study()     # Student studies"
   ]
  },
  {
   "cell_type": "markdown",
   "id": "990c8dfe",
   "metadata": {},
   "source": [
    "Здесь определен класс Employee, который представляет сотрудника фирмы, и класс Student, который представляет учащегося студента. Класс WorkingStudent, который представляет работающего студента, не определяет никакого функционала, поэтому в нем определен оператор pass. Класс WorkingStudent просто наследует функционал от двух классов Employee и Student. Соответственно у объекта этого класса мы можем вызвать методы обоих классов.\n",
    "\n",
    "При этом наследуемые классы могут более сложными по функциональности, например:"
   ]
  },
  {
   "cell_type": "code",
   "execution_count": 36,
   "id": "c6238c2e",
   "metadata": {},
   "outputs": [
    {
     "name": "stdout",
     "output_type": "stream",
     "text": [
      "Tom works\n",
      "Tom studies\n"
     ]
    }
   ],
   "source": [
    "class Employee:\n",
    " \n",
    "    def __init__(self, name):\n",
    "        self.__name = name\n",
    " \n",
    "    @property\n",
    "    def name(self):\n",
    "        return self.__name\n",
    " \n",
    "    def work(self):\n",
    "        print(f\"{self.name} works\")\n",
    " \n",
    " \n",
    "class Student:\n",
    " \n",
    "    def __init__(self, name):\n",
    "        self.__name = name\n",
    " \n",
    "    @property\n",
    "    def name(self):\n",
    "        return self.__name\n",
    " \n",
    "    def study(self):\n",
    "        print(f\"{self.name} studies\")\n",
    " \n",
    " \n",
    "class WorkingStudent(Employee, Student):\n",
    "    pass\n",
    " \n",
    "tom = WorkingStudent(\"Tom\")\n",
    "tom.work()      # Tom works\n",
    "tom.study()     # Tom studies"
   ]
  },
  {
   "cell_type": "markdown",
   "id": "a6b9702d",
   "metadata": {},
   "source": [
    "# Переопределение функционала базового класса\n",
    "В прошлой статье класс Employee полностью перенимал функционал класса Person:"
   ]
  },
  {
   "cell_type": "code",
   "execution_count": 37,
   "id": "84247c6f",
   "metadata": {},
   "outputs": [],
   "source": [
    "class Person:\n",
    " \n",
    "    def __init__(self, name):\n",
    "        self.__name = name   # имя человека\n",
    " \n",
    "    @property\n",
    "    def name(self):\n",
    "        return self.__name\n",
    " \n",
    "    def display_info(self):\n",
    "        print(f\"Name: {self.__name} \")\n",
    " \n",
    " \n",
    "class Employee(Person):\n",
    " \n",
    "    def work(self):\n",
    "        print(f\"{self.name} works\")"
   ]
  },
  {
   "cell_type": "markdown",
   "id": "228c7633",
   "metadata": {},
   "source": [
    "Но что, если мы хотим что-то изменить из этого функционала? Например, добавить работнику через конструктор, новый атрибут, который будет хранить компанию, где он работает или изменить реализацию метода display_info. Python позволяет переопределить функционал базового класса.\n",
    "\n",
    "Например, изменим классы следующим образом:"
   ]
  },
  {
   "cell_type": "code",
   "execution_count": 38,
   "id": "e90e7a9d",
   "metadata": {},
   "outputs": [
    {
     "name": "stdout",
     "output_type": "stream",
     "text": [
      "Name: Tom\n",
      "Company: Microsoft\n"
     ]
    }
   ],
   "source": [
    "class Person:\n",
    " \n",
    "    def __init__(self, name):\n",
    "        self.__name = name   # имя человека\n",
    " \n",
    "    @property\n",
    "    def name(self):\n",
    "        return self.__name\n",
    " \n",
    "    def display_info(self):\n",
    "        print(f\"Name: {self.__name}\")\n",
    " \n",
    " \n",
    "class Employee(Person):\n",
    " \n",
    "    def __init__(self, name, company):\n",
    "        super().__init__(name)\n",
    "        self.company = company\n",
    " \n",
    "    def display_info(self):\n",
    "        super().display_info()\n",
    "        print(f\"Company: {self.company}\")\n",
    " \n",
    "    def work(self):\n",
    "        print(f\"{self.name} works\")\n",
    " \n",
    " \n",
    "tom = Employee(\"Tom\", \"Microsoft\")\n",
    "tom.display_info()  # Name: Tom\n",
    "                    # Company: Microsoft"
   ]
  },
  {
   "cell_type": "markdown",
   "id": "e64547ee",
   "metadata": {},
   "source": [
    "Здесь в классе Employee добавляется новый атрибут - self.company, который хранит компания работника. Соответственно метод __init__() принимает три параметра: второй для установки имени и третий для установки компании. Но если в базом классе определен конструктор с помощью метода __init__, и мы хотим в производном классе изменить логику конструктора, то в конструкторе производного класса мы должны вызвать конструктор базового класса. То есть в конструкторе Employee надо вызвать конструктор класса Person.\n",
    "\n",
    "Для обращения к базовому классу используется выражение super(). Так, в конструкторе Employee выполняется вызов:"
   ]
  },
  {
   "cell_type": "code",
   "execution_count": null,
   "id": "0ab3f952",
   "metadata": {},
   "outputs": [],
   "source": [
    "super().__init__(name)"
   ]
  },
  {
   "cell_type": "markdown",
   "id": "57708213",
   "metadata": {},
   "source": [
    "Это выражение будет представлять вызов конструктора класса Person, в который передается имя работника. И это логично. Ведь имя работника устанавливается именно в конструкторе класса Person. В самом конструкторе Employee лишь устанавливаем свойство company.\n",
    "\n",
    "Кроме того, в классе Employee переопределяется метод display_info() - в него добавляется вывод компании работника. Причем мы могли определить этот метод следующим образом:"
   ]
  },
  {
   "cell_type": "code",
   "execution_count": 40,
   "id": "75aeaeaf",
   "metadata": {},
   "outputs": [],
   "source": [
    "def display_info(self):\n",
    "    print(f\"Name: {self.name}\")\n",
    "    print(f\"Company: {self.company}\")"
   ]
  },
  {
   "cell_type": "markdown",
   "id": "6b274da6",
   "metadata": {},
   "source": [
    "Но тогда строка вывода имени повторяла бы код из класса Person. Если эта часть кода совпадает с методом из класса Person, то нет смысла повторяться, поэтому опять же с помощью выражения super() обращаемся к реализации метода display_info в классе Person:"
   ]
  },
  {
   "cell_type": "code",
   "execution_count": 41,
   "id": "7a4edf14",
   "metadata": {},
   "outputs": [],
   "source": [
    "def display_info(self):\n",
    "    super().display_info()      # обращение к методу display_info в классе Person\n",
    "    print(f\"Company: {self.company}\")"
   ]
  },
  {
   "cell_type": "markdown",
   "id": "b21669fe",
   "metadata": {},
   "source": [
    "Затем мы можем вызвать вызвать конструктор Employee для создания объекта этого класса и вызвать метод display_info:"
   ]
  },
  {
   "cell_type": "code",
   "execution_count": 42,
   "id": "171fee31",
   "metadata": {},
   "outputs": [
    {
     "name": "stdout",
     "output_type": "stream",
     "text": [
      "Name: Tom\n",
      "Company: Microsoft\n"
     ]
    }
   ],
   "source": [
    "tom = Employee(\"Tom\", \"Microsoft\")\n",
    "tom.display_info()"
   ]
  },
  {
   "cell_type": "markdown",
   "id": "a7fe0ea8",
   "metadata": {},
   "source": [
    "Консольный вывод программы:\n",
    "```\n",
    "Name: Tom\n",
    "Company: Microsoft\n",
    "```\n",
    "### Проверка типа объекта\n",
    "\n",
    "При работе с объектами бывает необходимо в зависимости от их типа выполнить те или иные операции. И с помощью встроенной функции isinstance() мы можем проверить тип объекта. Эта функция принимает два параметра:"
   ]
  },
  {
   "cell_type": "code",
   "execution_count": 43,
   "id": "b9441fb6",
   "metadata": {},
   "outputs": [
    {
     "data": {
      "text/plain": [
       "True"
      ]
     },
     "execution_count": 43,
     "metadata": {},
     "output_type": "execute_result"
    }
   ],
   "source": [
    "isinstance(object, type)"
   ]
  },
  {
   "cell_type": "markdown",
   "id": "47833c06",
   "metadata": {},
   "source": [
    "Первый параметр представляет объект, а второй - тип, на принадлежность к которому выполняется проверка. Если объект представляет указанный тип, то функция возвращает True. Например, возьмем следующую иерархию классов Person-Employee/Student:"
   ]
  },
  {
   "cell_type": "code",
   "execution_count": 44,
   "id": "a2e3ccab",
   "metadata": {},
   "outputs": [
    {
     "name": "stdout",
     "output_type": "stream",
     "text": [
      "Tom works\n",
      "Bob studies\n",
      "Sam does nothing\n"
     ]
    }
   ],
   "source": [
    "class Person:\n",
    " \n",
    "    def __init__(self, name):\n",
    "        self.__name = name   # имя человека\n",
    " \n",
    "    @property\n",
    "    def name(self):\n",
    "        return self.__name\n",
    " \n",
    "    def do_nothing(self):\n",
    "        print(f\"{self.name} does nothing\")\n",
    " \n",
    " \n",
    "#  класс работника\n",
    "class Employee(Person):\n",
    " \n",
    "    def work(self):\n",
    "        print(f\"{self.name} works\")\n",
    " \n",
    " \n",
    "#  класс студента\n",
    "class Student(Person):\n",
    " \n",
    "    def study(self):\n",
    "        print(f\"{self.name} studies\")\n",
    " \n",
    " \n",
    "def act(person):\n",
    "    if isinstance(person, Student):\n",
    "        person.study()\n",
    "    elif isinstance(person, Employee):\n",
    "        person.work()\n",
    "    elif isinstance(person, Person):\n",
    "        person.do_nothing()\n",
    " \n",
    " \n",
    "tom = Employee(\"Tom\")\n",
    "bob = Student(\"Bob\")\n",
    "sam = Person(\"Sam\")\n",
    " \n",
    "act(tom)    # Tom works\n",
    "act(bob)    # Bob studies\n",
    "act(sam)    # Sam does nothing"
   ]
  },
  {
   "cell_type": "markdown",
   "id": "626dc03e",
   "metadata": {},
   "source": [
    "Здесь класс Employee определяет метод work(), а класс Student - метод study.\n",
    "\n",
    "Здесь также определена функция act, которая проверяет с помощью функции isinstance, представляет ли параметр person определнный тип, и зависимости от результатов проверки обращается к определенному методу объекта."
   ]
  },
  {
   "cell_type": "markdown",
   "id": "c4cfcd27",
   "metadata": {},
   "source": [
    "# Атрибуты классов и статические методы\n",
    "### Атрибуты класса\n",
    "\n",
    "Кроме атрибутов объектов в классе можно определять атрибуты классов. Подобные атрибуты определяются в виде переменных уровня класса. Например:"
   ]
  },
  {
   "cell_type": "code",
   "execution_count": 45,
   "id": "97ef90ca",
   "metadata": {},
   "outputs": [
    {
     "name": "stdout",
     "output_type": "stream",
     "text": [
      "Person\n",
      "Describes a person\n",
      "Class Person\n"
     ]
    }
   ],
   "source": [
    "class Person:\n",
    "    type = \"Person\"\n",
    "    description = \"Describes a person\"\n",
    " \n",
    " \n",
    "print(Person.type)          # Person\n",
    "print(Person.description)   # Describes a person\n",
    " \n",
    "Person.type = \"Class Person\"\n",
    "print(Person.type)          # Class Person"
   ]
  },
  {
   "cell_type": "markdown",
   "id": "3c2f308c",
   "metadata": {},
   "source": [
    "Здесь в классе Person определено два атрибута: type, который хранит имя класса, и description, который хранит описание класса.\n",
    "\n",
    "Для обращения к атрибутам класса мы можем использовать имя класса, например: Person.type, и, как и атрибуты объекта, мы можем получать и изменять их значения.\n",
    "\n",
    "Подобные атрибуты являются общими для всех объектов класса:"
   ]
  },
  {
   "cell_type": "code",
   "execution_count": 46,
   "id": "9b48813a",
   "metadata": {},
   "outputs": [
    {
     "name": "stdout",
     "output_type": "stream",
     "text": [
      "Person\n",
      "Person\n",
      "Class Person\n",
      "Class Person\n"
     ]
    }
   ],
   "source": [
    "class Person:\n",
    "    type = \"Person\"\n",
    "    def __init__(self, name):\n",
    "         self.name = name\n",
    " \n",
    " \n",
    "tom = Person(\"Tom\")\n",
    "bob = Person(\"Bob\")\n",
    "print(tom.type)     # Person\n",
    "print(bob.type)     # Person\n",
    " \n",
    "# изменим атрибут класса\n",
    "Person.type = \"Class Person\"\n",
    "print(tom.type)     # Class Person\n",
    "print(bob.type)     # Class Person"
   ]
  },
  {
   "cell_type": "markdown",
   "id": "6a3fab6d",
   "metadata": {},
   "source": [
    "Атрибуты класса могут применяться для таких ситуаций, когда нам надо определить некоторые общие данные для всех объектов. Например:"
   ]
  },
  {
   "cell_type": "code",
   "execution_count": null,
   "id": "0167b9df",
   "metadata": {},
   "outputs": [],
   "source": [
    "class Person:\n",
    "    default_name = \"Undefined\"\n",
    " \n",
    "    def __init__(self, name):\n",
    "        if name:\n",
    "            self.name = name\n",
    "        else:\n",
    "            self.name = Person.default_name\n",
    " \n",
    " \n",
    "tom = Person(\"Tom\")\n",
    "bob = Person(\"\")\n",
    "print(tom.name)  # Tom\n",
    "print(bob.name)  # Undefined"
   ]
  },
  {
   "cell_type": "markdown",
   "id": "1ad8c8af",
   "metadata": {},
   "source": [
    "В данном случае атрибут default_name хранит имя по умолчанию. И если в конструктор передана пустая строка для имени, то атрибуту name передается значение атрибута класса default_name. Для обращения к атрибуту класса внутри методов можно применять имя класса"
   ]
  },
  {
   "cell_type": "code",
   "execution_count": null,
   "id": "81fa92dd",
   "metadata": {},
   "outputs": [],
   "source": [
    "self.name = Person.default_name"
   ]
  },
  {
   "cell_type": "markdown",
   "id": "68a744f6",
   "metadata": {},
   "source": [
    "### Атрибут класса\n",
    "\n",
    "Возможна ситуация, когда атрибут класса и атрибут объекта совпадает по имени. Если в коде для атрибута объекта не задано значение, то для него может применяться значение атрибута класса:"
   ]
  },
  {
   "cell_type": "code",
   "execution_count": 48,
   "id": "b209a580",
   "metadata": {},
   "outputs": [
    {
     "name": "stdout",
     "output_type": "stream",
     "text": [
      "Undefined\n",
      "Undefined\n",
      "Bob\n",
      "Undefined\n"
     ]
    }
   ],
   "source": [
    "class Person:\n",
    "    name = \"Undefined\"\n",
    " \n",
    "    def print_name(self):\n",
    "        print(self.name)\n",
    " \n",
    " \n",
    "tom = Person()\n",
    "bob = Person()\n",
    "tom.print_name()    # Undefined\n",
    "bob.print_name()    # Undefined\n",
    " \n",
    "bob.name = \"Bob\"\n",
    "bob.print_name()    # Bob\n",
    "tom.print_name()    # Undefined"
   ]
  },
  {
   "cell_type": "markdown",
   "id": "24ab4bd1",
   "metadata": {},
   "source": [
    "Здесь метод print_name использует атрибут объект name, однако нигде в коде этот атрибут не устанавливается. Зато на уровне класса задан атрибут name. Поэтому при первом обращении к методу print_name, в нем будет использоваться значение атрибута класса:"
   ]
  },
  {
   "cell_type": "code",
   "execution_count": 49,
   "id": "03a37624",
   "metadata": {},
   "outputs": [
    {
     "name": "stdout",
     "output_type": "stream",
     "text": [
      "Undefined\n",
      "Undefined\n"
     ]
    }
   ],
   "source": [
    "tom = Person()\n",
    "bob = Person()\n",
    "tom.print_name()    # Undefined\n",
    "bob.print_name()    # Undefined"
   ]
  },
  {
   "cell_type": "markdown",
   "id": "e351d5f7",
   "metadata": {},
   "source": [
    "Однако далее мы можем поменять установить атрибут объекта:"
   ]
  },
  {
   "cell_type": "code",
   "execution_count": 50,
   "id": "8da65696",
   "metadata": {},
   "outputs": [
    {
     "name": "stdout",
     "output_type": "stream",
     "text": [
      "Bob\n",
      "Undefined\n"
     ]
    }
   ],
   "source": [
    "bob.name = \"Bob\"\n",
    "bob.print_name()    # Bob\n",
    "tom.print_name()    # Undefined"
   ]
  },
  {
   "cell_type": "markdown",
   "id": "8559284b",
   "metadata": {},
   "source": [
    "Причем второй объект - tom продолжит использовать атрибут класса. И если мы изменим атрибут класса, соответственно значение tom.name тоже изменится:"
   ]
  },
  {
   "cell_type": "code",
   "execution_count": 51,
   "id": "116c9f32",
   "metadata": {},
   "outputs": [
    {
     "name": "stdout",
     "output_type": "stream",
     "text": [
      "Undefined\n",
      "Undefined\n",
      "Bob\n",
      "Some Person\n"
     ]
    }
   ],
   "source": [
    "tom = Person()\n",
    "bob = Person()\n",
    "tom.print_name()    # Undefined\n",
    "bob.print_name()    # Undefined\n",
    " \n",
    "Person.name = \"Some Person\"     # меняем значение атрибута класса\n",
    "bob.name = \"Bob\"                # устанавливаем атрибут объекта\n",
    "bob.print_name()    # Bob\n",
    "tom.print_name()    # Some Person"
   ]
  },
  {
   "cell_type": "markdown",
   "id": "96188ebf",
   "metadata": {},
   "source": [
    "### Статические методы\n",
    "\n",
    "Кроме обычных методов класс может определять статические методы. Такие методы предваряются аннотацией @staticmethod и относятся в целом к классу. Статические методы обычно определяют поведение, которое не зависит от конкретного объекта:"
   ]
  },
  {
   "cell_type": "code",
   "execution_count": 52,
   "id": "3d6474b1",
   "metadata": {},
   "outputs": [
    {
     "name": "stdout",
     "output_type": "stream",
     "text": [
      "Person\n",
      "Person\n"
     ]
    }
   ],
   "source": [
    "class Person:\n",
    "    __type = \"Person\"\n",
    " \n",
    "    @staticmethod\n",
    "    def print_type():\n",
    "        print(Person.__type)\n",
    " \n",
    " \n",
    "Person.print_type()     # Person - обращение к статическому методу через имя класса\n",
    " \n",
    "tom = Person()\n",
    "tom.print_type()     # Person - обращение к статическому методу через имя объекта"
   ]
  },
  {
   "cell_type": "markdown",
   "id": "8ad91f33",
   "metadata": {},
   "source": [
    "В данном случае в классе Person определен атрибут класса `__type`, который хранит значение, общее для всего класса - название класса. Причем поскольку название атрибута предваряется двумя подчеркиваниями, то данный атрибут будет приватным, что защитит от недопустимого изменения.\n",
    "\n",
    "Также в классе Person определен статический метод print_type, который выводит на консоль значение атрибута `__type`. Действие этого метода не зависит от конкретного объекта и относится в целом ко всему классу - вне зависимости от объекта на консоль будет выводится одно и то же значение атрибута `__type`. Поэтому такой метод можно сделать статическим."
   ]
  },
  {
   "cell_type": "markdown",
   "id": "bdcbf4e5",
   "metadata": {},
   "source": [
    "# Класс object. Строковое представление объекта\n",
    "\n",
    "Начиная с 3-й версии в языке программирования Python все классы неявно имеют один общий суперкласс - object и все классы по умолчанию наследуют его методы.\n",
    "\n",
    "Одним из наиболее используемых методов класса object является метод `__str__()`. Когда необходимо получить строковое представление объекта или вывести объект в виде строки, то Python как раз вызывает этот метод. И при определении класса хорошей практикой считается переопределение этого метода.\n",
    "\n",
    "К примеру, возьмем класс Person и выведем его строковое представление:"
   ]
  },
  {
   "cell_type": "code",
   "execution_count": 54,
   "id": "3c63b3e4",
   "metadata": {},
   "outputs": [
    {
     "name": "stdout",
     "output_type": "stream",
     "text": [
      "<__main__.Person object at 0x7f1ac2528c10>\n"
     ]
    }
   ],
   "source": [
    "class Person:\n",
    "    def __init__(self, name, age):\n",
    "        self.name = name  # устанавливаем имя\n",
    "        self.age = age  # устанавливаем возраст\n",
    " \n",
    "    def display_info(self):\n",
    "        print(f\"Name: {self.name}  Age: {self.age}\")\n",
    " \n",
    " \n",
    "tom = Person(\"Tom\", 23)\n",
    "print(tom)"
   ]
  },
  {
   "cell_type": "markdown",
   "id": "54a765bf",
   "metadata": {},
   "source": [
    "При запуске программа выведет что-то наподобие следующего:\n",
    "```\n",
    "<__main__.Person object at 0x10a63dc00>\n",
    "```\n",
    "Это не очень информативная информация об объекте. Мы, конечно, можем выйти из положения, определив в классе Person дополнительный метод, который выводит данные объекта - в примере выше это метод display_info.\n",
    "\n",
    "Но есть и другой выход - определим в классе Person метод `__str__()` (по два подчеркивания с каждой стороны):"
   ]
  },
  {
   "cell_type": "code",
   "execution_count": 53,
   "id": "a9a0fec4",
   "metadata": {},
   "outputs": [
    {
     "name": "stdout",
     "output_type": "stream",
     "text": [
      "Name: Tom  Age: 23\n",
      "Name: Tom  Age: 23\n"
     ]
    }
   ],
   "source": [
    "class Person:\n",
    "    def __init__(self, name, age):\n",
    "        self.name = name  # устанавливаем имя\n",
    "        self.age = age  # устанавливаем возраст\n",
    " \n",
    "    def display_info(self):\n",
    "        print(self)\n",
    "        # print(self.__str__())     # или так\n",
    " \n",
    "    def __str__(self):\n",
    "        return f\"Name: {self.name}  Age: {self.age}\"\n",
    " \n",
    " \n",
    "tom = Person(\"Tom\", 23)\n",
    "print(tom)      # Name: Tom  Age: 23\n",
    "tom.display_info()  # Name: Tom  Age: 23"
   ]
  },
  {
   "cell_type": "markdown",
   "id": "11f90bb1",
   "metadata": {},
   "source": [
    "Метод `__str__` должен возвращать строку. И в данном случае мы возвращаем базовую информацию о человеке. Если нам потребуется использовать эту информацию в других методах класса, то мы можем использовать выражение self.__str__()\n",
    "\n",
    "И теперь консольный вывод будет другим:\n",
    "```\n",
    "Name: Tom  Age: 23\n",
    "Name: Tom  Age: 23\n",
    "```"
   ]
  }
 ],
 "metadata": {
  "kernelspec": {
   "display_name": "Python 3 (ipykernel)",
   "language": "python",
   "name": "python3"
  },
  "language_info": {
   "codemirror_mode": {
    "name": "ipython",
    "version": 3
   },
   "file_extension": ".py",
   "mimetype": "text/x-python",
   "name": "python",
   "nbconvert_exporter": "python",
   "pygments_lexer": "ipython3",
   "version": "3.8.10"
  }
 },
 "nbformat": 4,
 "nbformat_minor": 5
}

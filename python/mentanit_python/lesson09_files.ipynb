{
 "cells": [
  {
   "cell_type": "markdown",
   "id": "af439682",
   "metadata": {},
   "source": [
    "# https://metanit.com/python/tutorial/4.1.php\n",
    "# Работа с файлами\n",
    "# Открытие и закрытие файлов\n",
    "\n",
    "Python поддерживает множество различных типов файлов, но условно их можно разделить на два виде: текстовые и бинарные. Текстовые файлы - это к примеру файлы с расширением cvs, txt, html, в общем любые файлы, которые сохраняют информацию в текстовом виде. Бинарные файлы - это изображения, аудио и видеофайлы и т.д. В зависимости от типа файла работа с ним может немного отличаться.\n",
    "\n",
    "При работе с файлами необходимо соблюдать некоторую последовательность операций:\n",
    "\n",
    "1) Открытие файла с помощью метода open()\n",
    "\n",
    "2) Чтение файла с помощью метода read() или запись в файл посредством метода write()\n",
    "\n",
    "3) Закрытие файла методом close()\n",
    "\n",
    "### Открытие и закрытие файла\n",
    "\n",
    "Чтобы начать работу с файлом, его надо открыть с помощью функции open(), которая имеет следующее формальное определение:"
   ]
  },
  {
   "cell_type": "code",
   "execution_count": null,
   "id": "33f48ceb",
   "metadata": {},
   "outputs": [],
   "source": [
    "open(file, mode)"
   ]
  },
  {
   "cell_type": "markdown",
   "id": "5f76cf35",
   "metadata": {},
   "source": [
    "Первый параметр функции представляет путь к файлу. Путь файла может быть абсолютным, то есть начинаться с буквы диска, например, `C://somedir/somefile.txt`. Либо можно быть относительным, например, `somedir/somefile.txt` - в этом случае поиск файла будет идти относительно расположения запущенного скрипта Python.\n",
    "\n",
    "Второй передаваемый аргумент - mode устанавливает режим открытия файла в зависимости от того, что мы собираемся с ним делать. Существует 4 общих режима:\n",
    "\n",
    "- __r (Read)__. Файл открывается для чтения. Если файл не найден, то генерируется исключение FileNotFoundError\n",
    "\n",
    "- __w (Write)__. Файл открывается для записи. Если файл отсутствует, то он создается. Если подобный файл уже есть, то он создается заново, и соответственно старые данные в нем стираются.\n",
    "\n",
    "- __a (Append)__. Файл открывается для дозаписи. Если файл отсутствует, то он создается. Если подобный файл уже есть, то данные записываются в его конец.\n",
    "\n",
    "- __b (Binary)__. Используется для работы с бинарными файлами. Применяется вместе с другими режимами - w или r.\n",
    "\n",
    "После завершения работы с файлом его обязательно нужно закрыть методом close(). Данный метод освободит все связанные с файлом используемые ресурсы.\n",
    "\n",
    "Например, откроем для записи текстовый файл \"hello.txt\":"
   ]
  },
  {
   "cell_type": "code",
   "execution_count": null,
   "id": "74765638",
   "metadata": {},
   "outputs": [],
   "source": [
    "myfile = open(\"hello.txt\", \"w\")\n",
    " \n",
    "myfile.close()"
   ]
  },
  {
   "cell_type": "markdown",
   "id": "ffa6f3f5",
   "metadata": {},
   "source": [
    "При открытии файла или в процессе работы с ним мы можем столкнуться с различными исключениями, например, к нему нет доступа и т.д. В этом случае программа выпадет в ошибку, а ее выполнение не дойдет до вызова метода close, и соответственно файл не будет закрыт.\n",
    "\n",
    "В этом случае мы можем обрабатывать исключения:"
   ]
  },
  {
   "cell_type": "code",
   "execution_count": 1,
   "id": "ab8ff0e1",
   "metadata": {},
   "outputs": [],
   "source": [
    "try:\n",
    "    somefile = open(\"hello.txt\", \"w\")\n",
    "    try:\n",
    "        somefile.write(\"hello world\")\n",
    "    except Exception as e:\n",
    "        print(e)\n",
    "    finally:\n",
    "        somefile.close()\n",
    "except Exception as ex:\n",
    "    print(ex)"
   ]
  },
  {
   "cell_type": "markdown",
   "id": "3d212bbf",
   "metadata": {},
   "source": [
    "В данном случае вся работа с файлом идет во вложенном блоке __try__. И если вдруг возникнет какое-либо исключение, то в любом случае в блоке finally файл будет закрыт.\n",
    "\n",
    "Однако есть и более удобная конструкция - конструкция __with__:\n",
    "```\n",
    "with open(file, mode) as file_obj:\n",
    "    инструкции\n",
    "```\n",
    "Эта конструкция определяет для открытого файла переменную file_obj и выполняет набор инструкций. После их выполнения файл автоматически закрывается. Даже если при выполнении инструкций в блоке with возникнут какие-либо исключения, то файл все равно закрывается.\n",
    "\n",
    "Так, перепишем предыдущий пример:"
   ]
  },
  {
   "cell_type": "code",
   "execution_count": null,
   "id": "525c20f6",
   "metadata": {},
   "outputs": [],
   "source": [
    "with open(\"hello.txt\", \"w\") as somefile:\n",
    "    somefile.write(\"hello world\")"
   ]
  },
  {
   "cell_type": "markdown",
   "id": "4e9ffce2",
   "metadata": {},
   "source": [
    "# Текстовые файлы\n",
    "### Запись в текстовый файл\n",
    "\n",
    "Чтобы открыть текстовый файл на запись, необходимо применить режим `w (перезапись)` или `a (дозапись)`. Затем для записи применяется метод write(str), в который передается записываемая строка. Стоит отметить, что записывается именно строка, поэтому, если нужно записать числа, данные других типов, то их предварительно нужно конвертировать в строку.\n",
    "\n",
    "Запишем некоторую информацию в файл \"hello.txt\":"
   ]
  },
  {
   "cell_type": "code",
   "execution_count": null,
   "id": "35b39d58",
   "metadata": {},
   "outputs": [],
   "source": [
    "with open(\"hello.txt\", \"w\") as file:\n",
    "    file.write(\"hello world\")"
   ]
  },
  {
   "cell_type": "markdown",
   "id": "a79851d8",
   "metadata": {},
   "source": [
    "Если мы откроем папку, в которой находится текущий скрипт Python, то увидем там файл hello.txt. Этот файл можно открыть в любом текстовом редакторе и при желании изменить.\n",
    "\n",
    "Теперь дозапишем в этот файл еще одну строку:"
   ]
  },
  {
   "cell_type": "code",
   "execution_count": null,
   "id": "103c258d",
   "metadata": {},
   "outputs": [],
   "source": [
    "with open(\"hello.txt\", \"a\") as file:\n",
    "    file.write(\"\\ngood bye, world\")"
   ]
  },
  {
   "cell_type": "markdown",
   "id": "147c6d0f",
   "metadata": {},
   "source": [
    "Дозапись выглядит как добавление строку к последнему символу в файле, поэтому, если необходимо сделать запись с новой строки, то можно использовать эскейп-последовательность \"\\n\". В итоге файл hello.txt будет иметь следующее содержимое:\n",
    "```\n",
    "hello world\n",
    "good bye, world\n",
    "```\n",
    "Еще один способ записи в файл представляет стандартный метод print(), который применяется для вывода данных на консоль:"
   ]
  },
  {
   "cell_type": "code",
   "execution_count": null,
   "id": "fb4dd244",
   "metadata": {},
   "outputs": [],
   "source": [
    "with open(\"hello.txt\", \"a\") as hello_file:\n",
    "    print(\"Hello, world\", file=hello_file)"
   ]
  },
  {
   "cell_type": "markdown",
   "id": "6b219d97",
   "metadata": {},
   "source": [
    "Для вывода данных в файл в метод print в качестве второго параметра передается название файла через параметр file. А первый параметр представляет записываемую в файл строку.\n",
    "Чтение файла\n",
    "\n",
    "Для чтения файла он открывается с режимом r (Read), и затем мы можем считать его содержимое различными методами:\n",
    "\n",
    "- __readline()__: считывает одну строку из файла\n",
    "\n",
    "- __read()__: считывает все содержимое файла в одну строку\n",
    "\n",
    "- __readlines()__: считывает все строки файла в список\n",
    "\n",
    "Например, считаем выше записанный файл построчно:"
   ]
  },
  {
   "cell_type": "code",
   "execution_count": null,
   "id": "b9df3d5a",
   "metadata": {},
   "outputs": [],
   "source": [
    "with open(\"hello.txt\", \"r\") as file:\n",
    "    for line in file:\n",
    "        print(line, end=\"\")"
   ]
  },
  {
   "cell_type": "markdown",
   "id": "c324743a",
   "metadata": {},
   "source": [
    "Несмотря на то, что мы явно не применяем метод readline() для чтения каждой строки, но в при переборе файла этот метод автоматически вызывается для получения каждой новой строки. Поэтому в цикле вручную нет смысла вызывать метод readline. И поскольку строки разделяются символом перевода строки \"\\n\", то чтобы исключить излишнего переноса на другую строку в функцию print передается значение end=\"\".\n",
    "\n",
    "Теперь явным образом вызовем метод readline() для чтения отдельных строк:"
   ]
  },
  {
   "cell_type": "code",
   "execution_count": null,
   "id": "8263fe78",
   "metadata": {},
   "outputs": [],
   "source": [
    "with open(\"hello.txt\", \"r\") as file:\n",
    "    str1 = file.readline()\n",
    "    print(str1, end=\"\")\n",
    "    str2 = file.readline()\n",
    "    print(str2)"
   ]
  },
  {
   "cell_type": "markdown",
   "id": "6f851c9e",
   "metadata": {},
   "source": [
    "Консольный вывод:\n",
    "```\n",
    "hello world\n",
    "good bye, world\n",
    "```\n",
    "Метод readline можно использовать для построчного считывания файла в цикле while:"
   ]
  },
  {
   "cell_type": "code",
   "execution_count": null,
   "id": "3cfd6b47",
   "metadata": {},
   "outputs": [],
   "source": [
    "with open(\"hello.txt\", \"r\") as file:\n",
    "    line = file.readline()\n",
    "    while line:\n",
    "        print(line, end=\"\")\n",
    "        line = file.readline()"
   ]
  },
  {
   "cell_type": "markdown",
   "id": "1b569c7c",
   "metadata": {},
   "source": [
    "Если файл небольшой, то его можно разом считать с помощью метода read():"
   ]
  },
  {
   "cell_type": "code",
   "execution_count": null,
   "id": "e2a38ad9",
   "metadata": {},
   "outputs": [],
   "source": [
    "with open(\"hello.txt\", \"r\") as file:\n",
    "    content = file.read()\n",
    "    print(content)"
   ]
  },
  {
   "cell_type": "markdown",
   "id": "3f993040",
   "metadata": {},
   "source": [
    "И также применим метод __readlines()__ для считывания всего файла в список строк:"
   ]
  },
  {
   "cell_type": "code",
   "execution_count": null,
   "id": "5c0faa16",
   "metadata": {},
   "outputs": [],
   "source": [
    "with open(\"hello.txt\", \"r\") as file:\n",
    "    contents = file.readlines()\n",
    "    str1 = contents[0]\n",
    "    str2 = contents[1]\n",
    "    print(str1, end=\"\")\n",
    "    print(str2)"
   ]
  },
  {
   "cell_type": "markdown",
   "id": "7f0cf540",
   "metadata": {},
   "source": [
    "При чтении файла мы можем столкнуться с тем, что его кодировка не совпадает с ASCII. В этом случае мы явным образом можем указать кодировку с помощью параметра encoding:"
   ]
  },
  {
   "cell_type": "code",
   "execution_count": null,
   "id": "3f0d7bfe",
   "metadata": {},
   "outputs": [],
   "source": [
    "filename = \"hello.txt\"\n",
    "with open(filename, encoding=\"utf8\") as file:\n",
    "    text = file.read()"
   ]
  },
  {
   "cell_type": "markdown",
   "id": "cb0d788d",
   "metadata": {},
   "source": [
    "Теперь напишем небольшой скрипт, в котором будет записывать введенный пользователем массив строк и считывать его обратно из файла на консоль:"
   ]
  },
  {
   "cell_type": "code",
   "execution_count": null,
   "id": "1fa6e6e8",
   "metadata": {},
   "outputs": [],
   "source": [
    "# имя файла\n",
    "FILENAME = \"messages.txt\"\n",
    "# определяем пустой список\n",
    "messages = list()\n",
    " \n",
    "for i in range(4):\n",
    "    message = input(\"Введите строку \" + str(i+1) + \": \")\n",
    "    messages.append(message + \"\\n\")\n",
    "\n",
    "# запись списка в файл\n",
    "with open(FILENAME, \"a\") as file:\n",
    "    for message in messages:\n",
    "        file.write(message)\n",
    "\n",
    "# считываем сообщения из файла\n",
    "print(\"Считанные сообщения\")\n",
    "with open(FILENAME, \"r\") as file:\n",
    "    for message in file:\n",
    "        print(message, end=\"\")"
   ]
  },
  {
   "cell_type": "markdown",
   "id": "b0352e6e",
   "metadata": {},
   "source": [
    "Пример работы программы:\n",
    "```\n",
    "Введите строку 1: hello\n",
    "Введите строку 2: world peace\n",
    "Введите строку 3: great job\n",
    "Введите строку 4: Python\n",
    "Считанные сообщения\n",
    "hello\n",
    "world peace\n",
    "great job\n",
    "Python\n",
    "```"
   ]
  },
  {
   "cell_type": "markdown",
   "id": "1ff16901",
   "metadata": {},
   "source": [
    "# Файлы CSV\n",
    "\n",
    "Одним из распространенных файловых форматов, которые хранят в удобном виде информацию, является формат __csv__. Каждая строка в файле csv представляет отдельную запись или строку, которая состоит из отдельных столбцов, разделенных запятыми. Собственно поэтому формат и называется Comma Separated Values. Но хотя формат csv - это формат текстовых файлов, Python для упрощения работы с ним предоставляет специальный встроенный модуль csv.\n",
    "\n",
    "Рассмотрим работу модуля на примере:"
   ]
  },
  {
   "cell_type": "code",
   "execution_count": null,
   "id": "dcedf065",
   "metadata": {},
   "outputs": [],
   "source": [
    "import csv\n",
    " \n",
    "FILENAME = \"users.csv\"\n",
    " \n",
    "users = [\n",
    "    [\"Tom\", 28],\n",
    "    [\"Alice\", 23],\n",
    "    [\"Bob\", 34]\n",
    "]\n",
    " \n",
    "with open(FILENAME, \"w\", newline=\"\") as file:\n",
    "    writer = csv.writer(file)\n",
    "    writer.writerows(users)\n",
    "     \n",
    "with open(FILENAME, \"a\", newline=\"\") as file:\n",
    "    user = [\"Sam\", 31]\n",
    "    writer = csv.writer(file)\n",
    "    writer.writerow(user)"
   ]
  },
  {
   "cell_type": "markdown",
   "id": "ed02bfcd",
   "metadata": {},
   "source": [
    "В файл записывается двухмерный список - фактически таблица, где каждая строка представляет одного пользователя. А каждый пользователь содержит два поля - имя и возраст. То есть фактически таблица из трех строк и двух столбцов.\n",
    "\n",
    "При открытии файла на запись в качестве третьего параметра указывается значение newline=\"\" - пустая строка позволяет корректно считывать строки из файла вне зависимости от операционной системы.\n",
    "\n",
    "Для записи нам надо получить объект writer, который возвращается функцией csv.writer(file). В эту функцию передается открытый файл. А собственно запись производится с помощью метода writer.writerows(users) Этот метод принимает набор строк. В нашем случае это двухмерный список.\n",
    "\n",
    "Если необходимо добавить одну запись, которая представляет собой одномерный список, например, [\"Sam\", 31], то в этом случае можно вызвать метод writer.writerow(user)\n",
    "\n",
    "В итоге после выполнения скрипта в той же папке окажется файл users.csv, который будет иметь следующее содержимое:\n",
    "```\n",
    "Tom,28\n",
    "Alice,23\n",
    "Bob,34\n",
    "Sam,31\n",
    "```\n",
    "Для чтения из файла нам наоборот нужно создать объект reader:"
   ]
  },
  {
   "cell_type": "code",
   "execution_count": null,
   "id": "ff18f9c2",
   "metadata": {},
   "outputs": [],
   "source": [
    "import csv\n",
    " \n",
    "FILENAME = \"users.csv\"\n",
    " \n",
    "with open(FILENAME, \"r\", newline=\"\") as file:\n",
    "    reader = csv.reader(file)\n",
    "    for row in reader:\n",
    "        print(row[0], \" - \", row[1])"
   ]
  },
  {
   "cell_type": "markdown",
   "id": "331f6746",
   "metadata": {},
   "source": [
    "При получении объекта reader мы можем в цикле перебрать все его строки:\n",
    "```\n",
    "Tom  -  28\n",
    "Alice  -  23\n",
    "Bob  -  34\n",
    "Sam - 31\n",
    "```\n",
    "### Работа со словарями\n",
    "\n",
    "В примере выше каждая запись или строка представляла собой отдельный список, например, [\"Sam\", 31]. Но кроме того, модуль csv имеет специальные дополнительные возможности для работы со словарями. В частности, функция csv.DictWriter() возвращает объект writer, который позволяет записывать в файл. А функция csv.DictReader() возвращает объект reader для чтения из файла. Например:"
   ]
  },
  {
   "cell_type": "code",
   "execution_count": null,
   "id": "b497b586",
   "metadata": {},
   "outputs": [],
   "source": [
    "import csv\n",
    " \n",
    "FILENAME = \"users.csv\"\n",
    " \n",
    "users = [\n",
    "    {\"name\": \"Tom\", \"age\": 28},\n",
    "    {\"name\": \"Alice\", \"age\": 23},\n",
    "    {\"name\": \"Bob\", \"age\": 34}\n",
    "]\n",
    " \n",
    "with open(FILENAME, \"w\", newline=\"\") as file:\n",
    "    columns = [\"name\", \"age\"]\n",
    "    writer = csv.DictWriter(file, fieldnames=columns)\n",
    "    writer.writeheader()\n",
    "     \n",
    "    # запись нескольких строк\n",
    "    writer.writerows(users)\n",
    "     \n",
    "    user = {\"name\" : \"Sam\", \"age\": 41}\n",
    "    # запись одной строки\n",
    "    writer.writerow(user)\n",
    "\n",
    "with open(FILENAME, \"r\", newline=\"\") as file:\n",
    "    reader = csv.DictReader(file)\n",
    "    for row in reader:\n",
    "        print(row[\"name\"], \"-\", row[\"age\"])"
   ]
  },
  {
   "cell_type": "markdown",
   "id": "75c991b7",
   "metadata": {},
   "source": [
    "Запись строк также производится с помощью методов writerow() и writerows(). Но теперь каждая строка представляет собой отдельный словарь, и кроме того, производится запись и заголовков столбцов с помощью метода writeheader(), а в метод csv.DictWriter в качестве второго параметра передается набор столбцов.\n",
    "\n",
    "При чтении строк, используя названия столбцов, мы можем обратиться к отдельным значениям внутри строки: row[\"name\"]."
   ]
  },
  {
   "cell_type": "markdown",
   "id": "6c638f98",
   "metadata": {},
   "source": [
    "# Бинарные файлы\n",
    "Бинарные файлы в отличие от текстовых хранят информацию в виде набора байт. Для работы с ними в Python необходим встроенный модуль pickle. Этот модуль предоставляет два метода:\n",
    "\n",
    "- __dump(obj, file)__: записывает объект obj в бинарный файл file\n",
    "\n",
    "- __load(file)__: считывает данные из бинарного файла в объект\n",
    "\n",
    "При открытии бинарного файла на чтение или запись также надо учитывать, что нам нужно применять режим \"b\" в дополнение к режиму записи (\"w\") или чтения (\"r\"). Допустим, надо надо сохранить два объекта:"
   ]
  },
  {
   "cell_type": "code",
   "execution_count": null,
   "id": "33f5f7f4",
   "metadata": {},
   "outputs": [],
   "source": [
    "import pickle\n",
    " \n",
    "FILENAME = \"user.dat\"\n",
    " \n",
    "name = \"Tom\"\n",
    "age = 19\n",
    " \n",
    "with open(FILENAME, \"wb\") as file:\n",
    "    pickle.dump(name, file)\n",
    "    pickle.dump(age, file)\n",
    "\n",
    "with open(FILENAME, \"rb\") as file:\n",
    "    name = pickle.load(file)\n",
    "    age = pickle.load(file)\n",
    "    print(\"Имя:\", name, \"\\tВозраст:\", age)"
   ]
  },
  {
   "cell_type": "markdown",
   "id": "1687f3cb",
   "metadata": {},
   "source": [
    "С помощью функции dump последовательно записываются два объекта. Поэтому при чтении файла также последовательно посредством функции load мы можем считать эти объекты. Консольный вывод программы:\n",
    "```\n",
    "Имя: Tom \t\tВозраст: 28\n",
    "```\n",
    "Подобным образом мы можем сохранять и извлекать из файла наборы объектов:"
   ]
  },
  {
   "cell_type": "code",
   "execution_count": null,
   "id": "d1d22163",
   "metadata": {},
   "outputs": [],
   "source": [
    "import pickle\n",
    " \n",
    "FILENAME = \"users.dat\"\n",
    " \n",
    "users = [\n",
    "    [\"Tom\", 28, True],\n",
    "    [\"Alice\", 23, False],\n",
    "    [\"Bob\", 34, False]\n",
    "]\n",
    " \n",
    "with open(FILENAME, \"wb\") as file:\n",
    "    pickle.dump(users, file)\n",
    " \n",
    " \n",
    "with open(FILENAME, \"rb\") as file:\n",
    "    users_from_file = pickle.load(file)\n",
    "    for user in users_from_file:\n",
    "        print(\"Имя:\", user[0], \"\\tВозраст:\", user[1], \"\\tЖенат(замужем):\", user[2])"
   ]
  },
  {
   "cell_type": "markdown",
   "id": "93188f32",
   "metadata": {},
   "source": [
    "В зависимости от того, какой объект мы записывали функцией dump, тот же объект будет возвращен функцией load при считывании файла.\n",
    "\n",
    "Консольный вывод:\n",
    "```\n",
    "Имя: Tom \t\tВозраст: 28 \tЖенат(замужем): True\n",
    "Имя: Alice \t\tВозраст: 23 \tЖенат(замужем): False\n",
    "Имя: Bob \t\tВозраст: 34 \tЖенат(замужем): False\n",
    "```"
   ]
  },
  {
   "cell_type": "markdown",
   "id": "d8e85e51",
   "metadata": {},
   "source": [
    "# Модуль shelve\n",
    "Для работы с бинарными файлами в Python может применяться еще один модуль - __shelve__. Он сохраняет объекты в файл с определенным ключом. Затем по этому ключу может извлечь ранее сохраненный объект из файла. Процесс работы с данными через модуль shelve напоминает работу со словарями, которые также используют ключи для сохранения и извлечения объектов.\n",
    "\n",
    "Для открытия файла модуль shelve использует функцию __open()__:"
   ]
  },
  {
   "cell_type": "code",
   "execution_count": null,
   "id": "bf49f4b1",
   "metadata": {},
   "outputs": [],
   "source": [
    "open(путь_к_файлу[, flag=\"c\"[, protocol=None[, writeback=False]]])"
   ]
  },
  {
   "cell_type": "markdown",
   "id": "934d403d",
   "metadata": {},
   "source": [
    "Где параметр flag может принимать значения:\n",
    "\n",
    "- __c__: файл открывается для чтения и записи (значение по умолчанию). Если файл не существует, то он создается.\n",
    "\n",
    "- __r__: файл открывается только для чтения.\n",
    "\n",
    "- __w__: файл открывается для записи.\n",
    "\n",
    "- __n__: файл открывается для записи Если файл не существует, то он создается. Если он существует, то он перезаписывается\n",
    "\n",
    "Для закрытия подключения к файлу вызывается метод close():"
   ]
  },
  {
   "cell_type": "code",
   "execution_count": null,
   "id": "aad5cfca",
   "metadata": {},
   "outputs": [],
   "source": [
    "import shelve\n",
    "d = shelve.open(filename)\n",
    "d.close()"
   ]
  },
  {
   "cell_type": "markdown",
   "id": "10365d1f",
   "metadata": {},
   "source": [
    "Либо можно открывать файл с помощью оператора __with__. Сохраним и считаем в файл несколько объектов:"
   ]
  },
  {
   "cell_type": "code",
   "execution_count": null,
   "id": "fea3e889",
   "metadata": {},
   "outputs": [],
   "source": [
    "import shelve\n",
    " \n",
    "FILENAME = \"states2\"\n",
    "with shelve.open(FILENAME) as states:\n",
    "    states[\"London\"] = \"Great Britain\"\n",
    "    states[\"Paris\"] = \"France\"\n",
    "    states[\"Berlin\"] = \"Germany\"\n",
    "    states[\"Madrid\"] = \"Spain\"\n",
    "    \n",
    "with shelve.open(FILENAME) as states:\n",
    "    print(states[\"London\"])\n",
    "    print(states[\"Madrid\"])"
   ]
  },
  {
   "cell_type": "markdown",
   "id": "b734d9c2",
   "metadata": {},
   "source": [
    "Запись данных предполагает установку значения для определенного ключа:"
   ]
  },
  {
   "cell_type": "code",
   "execution_count": null,
   "id": "6fa651ad",
   "metadata": {},
   "outputs": [],
   "source": [
    "states[\"London\"] = \"Great Britain\""
   ]
  },
  {
   "cell_type": "markdown",
   "id": "8016925c",
   "metadata": {},
   "source": [
    "А чтение из файла эквивалентно получению значения по ключу:"
   ]
  },
  {
   "cell_type": "code",
   "execution_count": null,
   "id": "9df66241",
   "metadata": {},
   "outputs": [],
   "source": [
    "print(states[\"London\"])"
   ]
  },
  {
   "cell_type": "markdown",
   "id": "0e259a95",
   "metadata": {},
   "source": [
    "В качестве ключей используются строковые значения.\n",
    "\n",
    "При чтении данных, если запрашиваемый ключ отсутствует, то генерируется исключение. В этом случае перед получением мы можем проверять на наличие ключа с помощью оператора in:"
   ]
  },
  {
   "cell_type": "code",
   "execution_count": null,
   "id": "3b1d96ed",
   "metadata": {},
   "outputs": [],
   "source": [
    "with shelve.open(FILENAME) as states:\n",
    "    key = \"Brussels\"\n",
    "    if key in states:\n",
    "        print(states[key])"
   ]
  },
  {
   "cell_type": "markdown",
   "id": "d42cecd1",
   "metadata": {},
   "source": [
    "Также мы можем использовать метод __get()__. Первый параметр метода - ключ, по которому следует получить значение, а второй - значение по умолчанию, которое возвращается, если ключ не найден."
   ]
  },
  {
   "cell_type": "code",
   "execution_count": null,
   "id": "8c0be717",
   "metadata": {},
   "outputs": [],
   "source": [
    "with shelve.open(FILENAME) as states:\n",
    "    state = states.get(\"Brussels\", \"Undefined\")\n",
    "    print(state)"
   ]
  },
  {
   "cell_type": "markdown",
   "id": "62a90426",
   "metadata": {},
   "source": [
    "Используя цикл for, можно перебрать все значения из файла:"
   ]
  },
  {
   "cell_type": "code",
   "execution_count": null,
   "id": "27726f99",
   "metadata": {},
   "outputs": [],
   "source": [
    "with shelve.open(FILENAME) as states:\n",
    "    for key in states:\n",
    "        print(key,\" - \", states[key])"
   ]
  },
  {
   "cell_type": "markdown",
   "id": "a428e8c0",
   "metadata": {},
   "source": [
    "Метод __keys()__ возвращает все ключи из файла, а метод __values()__ - все значения:"
   ]
  },
  {
   "cell_type": "code",
   "execution_count": null,
   "id": "0034d168",
   "metadata": {},
   "outputs": [],
   "source": [
    "with shelve.open(FILENAME) as states:\n",
    " \n",
    "    for city in states.keys():\n",
    "        print(city, end=\" \")        # London Paris Berlin Madrid \n",
    "    print()\n",
    "    for country in states.values():\n",
    "        print(country, end=\" \")     # Great Britain France Germany Spain "
   ]
  },
  {
   "cell_type": "markdown",
   "id": "61c4abd2",
   "metadata": {},
   "source": [
    "Еще один метод __items()__ возвращает набор кортежей. Каждый кортеж содержит ключ и значение."
   ]
  },
  {
   "cell_type": "code",
   "execution_count": null,
   "id": "b2f4a857",
   "metadata": {},
   "outputs": [],
   "source": [
    "with shelve.open(FILENAME) as states:\n",
    " \n",
    "    for state in states.items():\n",
    "        print(state)"
   ]
  },
  {
   "cell_type": "markdown",
   "id": "f266b022",
   "metadata": {},
   "source": [
    "Консольный вывод:\n",
    "```\n",
    "(\"London\", \"Great Britain\")\n",
    "(\"Paris\", \"France\")\n",
    "(\"Berlin\", \"Germany\")\n",
    "(\"Madrid\", \"Spain\")\n",
    "```"
   ]
  },
  {
   "cell_type": "markdown",
   "id": "c49ccc8b",
   "metadata": {},
   "source": [
    "### Обновление данных\n",
    "\n",
    "Для изменения данных достаточно присвоить по ключу новое значение, а для добавления данных - определить новый ключ:"
   ]
  },
  {
   "cell_type": "code",
   "execution_count": null,
   "id": "7336f94c",
   "metadata": {},
   "outputs": [],
   "source": [
    "import shelve\n",
    " \n",
    "FILENAME = \"states2\"\n",
    "with shelve.open(FILENAME) as states:\n",
    "    states[\"London\"] = \"Great Britain\"\n",
    "    states[\"Paris\"] = \"France\"\n",
    "    states[\"Berlin\"] = \"Germany\"\n",
    "    states[\"Madrid\"] = \"Spain\"\n",
    "\n",
    "with shelve.open(FILENAME) as states:\n",
    " \n",
    "    states[\"London\"] = \"United Kingdom\"\n",
    "    states[\"Brussels\"] = \"Belgium\"\n",
    "    for key in states:\n",
    "        print(key, \" - \", states[key])\n",
    "        "
   ]
  },
  {
   "cell_type": "markdown",
   "id": "534406fa",
   "metadata": {},
   "source": [
    "### Удаление данных\n",
    "\n",
    "Для удаления с одновременным получением можно использовать функцию __pop()__, в которую передается ключ элемента и значение по умолчанию, если ключ не найден:"
   ]
  },
  {
   "cell_type": "code",
   "execution_count": null,
   "id": "e588d312",
   "metadata": {},
   "outputs": [],
   "source": [
    "with shelve.open(FILENAME) as states:\n",
    " \n",
    "    state = states.pop(\"London\", \"NotFound\")\n",
    "    print(state)"
   ]
  },
  {
   "cell_type": "markdown",
   "id": "ce9d8f9e",
   "metadata": {},
   "source": [
    "Также для удаления может применяться оператор __del__:"
   ]
  },
  {
   "cell_type": "code",
   "execution_count": null,
   "id": "7d0b8ce4",
   "metadata": {},
   "outputs": [],
   "source": [
    "with shelve.open(FILENAME) as states:\n",
    " \n",
    "    del states[\"Madrid\"]    # удаляем объект с ключом Madrid"
   ]
  },
  {
   "cell_type": "markdown",
   "id": "aa994374",
   "metadata": {},
   "source": [
    "Для удаления всех элементов можно использовать метод clear():"
   ]
  },
  {
   "cell_type": "code",
   "execution_count": null,
   "id": "9971cdc1",
   "metadata": {},
   "outputs": [],
   "source": [
    "with shelve.open(FILENAME) as states:\n",
    " \n",
    "    states.clear()"
   ]
  },
  {
   "cell_type": "markdown",
   "id": "a6fe2e44",
   "metadata": {},
   "source": [
    "# Модуль OS и работа с файловой системой\n",
    "Ряд возможностей по работе с каталогами и файлами предоставляет встроенный модуль os. Хотя он содержит много функций, рассмотрим только основные из них:\n",
    "\n",
    "-    __mkdir()__: создает новую папку\n",
    "\n",
    "-    __rmdir()__: удаляет папку\n",
    "\n",
    "-    __rename()__: переименовывает файл\n",
    "\n",
    "-    __remove()__: удаляет файл\n",
    "\n",
    "Создание и удаление папки\n",
    "\n",
    "Для создания папки применяется функция __mkdir()__, в которую передается путь к создаваемой папке:"
   ]
  },
  {
   "cell_type": "code",
   "execution_count": null,
   "id": "7f22d7ac",
   "metadata": {},
   "outputs": [],
   "source": [
    "import os\n",
    " \n",
    "# путь относительно текущего скрипта\n",
    "os.mkdir(\"hello\")\n",
    "# абсолютный путь\n",
    "os.mkdir(\"c://somedir\")\n",
    "os.mkdir(\"c://somedir/hello\")"
   ]
  },
  {
   "cell_type": "markdown",
   "id": "c8e61377",
   "metadata": {},
   "source": [
    "Для удаления папки используется функция __rmdir()__, в которую передается путь к удаляемой папке:"
   ]
  },
  {
   "cell_type": "code",
   "execution_count": null,
   "id": "2949b1de",
   "metadata": {},
   "outputs": [],
   "source": [
    "import os\n",
    " \n",
    "# путь относительно текущего скрипта\n",
    "os.rmdir(\"hello\")\n",
    "# абсолютный путь\n",
    "os.rmdir(\"c://somedir/hello\")"
   ]
  },
  {
   "cell_type": "markdown",
   "id": "6d16809f",
   "metadata": {},
   "source": [
    "### Переименование файла\n",
    "\n",
    "Для переименования вызывается функция rename(source, target), первый параметр которой - путь к исходному файлу, а второй - новое имя файла. В качестве путей могут использоваться как абсолютные, так и относительные. Например, пусть в папке C://SomeDir/ располагается файл somefile.txt. Переименуем его в файл \"hello.txt\":"
   ]
  },
  {
   "cell_type": "code",
   "execution_count": null,
   "id": "e46758e4",
   "metadata": {},
   "outputs": [],
   "source": [
    "import os\n",
    " \n",
    "os.rename(\"C://SomeDir/somefile.txt\", \"C://SomeDir/hello.txt\")"
   ]
  },
  {
   "cell_type": "markdown",
   "id": "02ce8896",
   "metadata": {},
   "source": [
    "### Удаление файла\n",
    "\n",
    "Для удаления вызывается функция remove(), в которую передается путь к файлу:"
   ]
  },
  {
   "cell_type": "code",
   "execution_count": null,
   "id": "a170f4ea",
   "metadata": {},
   "outputs": [],
   "source": [
    "import os\n",
    " \n",
    "os.remove(\"C://SomeDir/hello.txt\")"
   ]
  },
  {
   "cell_type": "markdown",
   "id": "4b0a9dfc",
   "metadata": {},
   "source": [
    "### Существование файла\n",
    "\n",
    "Если мы попытаемся открыть файл, который не существует, то Python выбросит исключение FileNotFoundError. Для отлова исключения мы можем использовать конструкцию try...except. Однако можно уже до открытия файла проверить, существует ли он или нет с помощью метода os.path.exists(path). В этот метод передается путь, который необходимо проверить:"
   ]
  },
  {
   "cell_type": "code",
   "execution_count": null,
   "id": "5cca53b3",
   "metadata": {},
   "outputs": [],
   "source": [
    "filename = input(\"Введите путь к файлу: \")\n",
    "if os.path.exists(filename):\n",
    "    print(\"Указанный файл существует\") \n",
    "else:\n",
    "    print(\"Файл не существует\") "
   ]
  },
  {
   "cell_type": "markdown",
   "id": "03dfb33e",
   "metadata": {},
   "source": [
    "# Программа подсчета слов\n",
    "Рассмотрим работу со строками на небольшом примере, который будет представлять программу подсчета слов.\n",
    "\n",
    "Пусть весь код программы будет выглядеть следующим образом:"
   ]
  },
  {
   "cell_type": "code",
   "execution_count": null,
   "id": "5b7672b1",
   "metadata": {},
   "outputs": [],
   "source": [
    "# Программа подсчета слов в файле\n",
    "import os\n",
    " \n",
    "def get_words(filename):\n",
    "    with open(filename, encoding=\"utf8\") as file:\n",
    "        text = file.read()\n",
    "    text = text.replace(\"\\n\", \" \")\n",
    "    text = text.replace(\",\", \"\").replace(\".\", \"\").replace(\"?\", \"\").replace(\"!\", \"\")\n",
    "    text = text.lower()\n",
    "    words = text.split()\n",
    "    words.sort()\n",
    "    return words\n",
    " \n",
    "def get_words_dict(words):\n",
    "    words_dict = dict()\n",
    " \n",
    "    for word in words:\n",
    "        if word in words_dict:\n",
    "            words_dict[word] = words_dict[word] + 1\n",
    "        else:\n",
    "            words_dict[word] = 1\n",
    "    return words_dict\n",
    " \n",
    "def main():\n",
    "    filename = input(\"Введите путь к файлу: \")\n",
    "    if not os.path.exists(filename):\n",
    "        print(\"Указанный файл не существует\")\n",
    "    else:\n",
    "        words = get_words(filename)\n",
    "        words_dict = get_words_dict(words)\n",
    "        print(f\"Кол-во слов: {len(words)}\")\n",
    "        print(f\"Кол-во уникальных слов: {len(words_dict)}\")\n",
    "        print(\"Все использованные слова:\")\n",
    "        for word in words_dict:\n",
    "            print(word.ljust(20), words_dict[word])\n",
    " \n",
    " \n",
    "if __name__ == \"__main__\":\n",
    "    main()"
   ]
  },
  {
   "cell_type": "markdown",
   "id": "0615d23e",
   "metadata": {},
   "source": [
    "Здесь в функции __get_words()__ производится начальная сегментация текста на слова. Пи этом все пунктуационные знаки удаляются, а переводы стоки заменяется на пробелы. Затем происходит разбитие текста на слова. В качестве разделителя по умолчанию применяется пробел.\n",
    "\n",
    "Далее в функции __get_words_dict()__ получаем словарь из слов, где ключ - это уникальное слово, а значение - количество вхождений данного слова в тексте.\n",
    "\n",
    "В функции main осуществляется ввод пути к файлу и вызов выше определенных функций, а также вывод все статистики.\n",
    "\n",
    "Консольный вывод программы:\n",
    "```\n",
    "Введите путь к файлу: C:\\SomeDir\\hello.txt\n",
    "Кол-во слов: 66\n",
    "Кол-во уникальных слов: 54\n",
    "Все использованные слова:\n",
    "благодетель          2\n",
    "в                    1\n",
    "всего                1\n",
    "вы                   1\n",
    "горчичным            1\n",
    "ее                   1\n",
    "ежели                3\n",
    "еще                  1\n",
    ".......................\n",
    "\n",
    "```"
   ]
  },
  {
   "cell_type": "markdown",
   "id": "0b9e6aae",
   "metadata": {},
   "source": [
    "# Запись и чтение архивных zip-файлов\n",
    "__Zip__ представляет наиболее популярный формат архивации и сжатия файлов. И язык Python имеет встроенный модуль для работы с ними - __zipfile__. С помощью этого модуля можно создавать, считывать, записывать zip-файлы, получать их содержимое и добавлять в них файлы. Также поддерживается шифрование, но не поддерживается дешифрование.\n",
    "\n",
    "Для представления zip-файла в этом модуле определен __класс ZipFile__. Он имеет следующий конструктор:"
   ]
  },
  {
   "cell_type": "code",
   "execution_count": null,
   "id": "7ce1b9d7",
   "metadata": {},
   "outputs": [],
   "source": [
    "ZipFile(file, mode='r', compression=ZIP_STORED, allowZip64=True, compresslevel=None, *, strict_timestamps=True, metadata_encoding=None)"
   ]
  },
  {
   "cell_type": "markdown",
   "id": "c22f3ad1",
   "metadata": {},
   "source": [
    "Параметры:\n",
    "\n",
    "-    __file__: путь к zip-файлу\n",
    "\n",
    "-    __mode__: режим открытия файла. Может принимать следующие значения:\n",
    "\n",
    "-        __r__: применяется для чтения существующего файла\n",
    "\n",
    "-        __w__: применяется для записи нового файла\n",
    "\n",
    "-        __a__: применяется для добавления в файл\n",
    "\n",
    "-    __compression__: тип сжатия файла при записи. Может принимать значения:\n",
    "\n",
    "-        __ZIP_STORED__: архивация без сжатия (значение по умолчанию)\n",
    "\n",
    "-        __ZIP_DEFLATED__: стандартный тип сжатия при архивации в zip\n",
    "\n",
    "-        __ZIP_BZIP2__: сжатие с помощью способа BZIP2\n",
    "\n",
    "-        __ZIP_LZMA__: сжатие с помощью способа LZMA\n",
    "\n",
    "-    __allowZip64__: если равно True, то zip-файл может быть больше 4 Гб\n",
    "\n",
    "-    __compresslevel__: уровень сжатия при записи файла. Для типов сжатия ZIP_STORED и ZIP_LZMA не применяется. Для типа ZIP_DEFLATED допустимые значения от 0 до 9, а для типа ZIP_BZIP2 допустимые значения от 1 до 9.\n",
    "\n",
    "-    __strict_timestamps__: при значении False позволяет работать с zip-файлами, созданными ранее 01.01.1980 и позже 31.12.2107\n",
    "\n",
    "-    __metadata_encoding__: применяется для декодирования метаданных zip-файла (например, коментариев)\n",
    "\n",
    "Для работы с файлами этот класс предоставляет ряд методов:\n",
    "\n",
    "-    __close()__: закрывает zip-файл\n",
    "\n",
    "-    __getinfo()__: возвращает информацию об одном файле из архива в виде объекта ZipInfo\n",
    "\n",
    "-    __namelist()__: возвращает список файлов архива\n",
    "\n",
    "-    __infolist()__: возвращает информацию обо всех файлах из архива в виде списока объектов ZipInfo\n",
    "\n",
    "-    __open()__: предоставляет доступ к одному из файлов в архиве\n",
    "\n",
    "-    __read()__: считывает файл из архива в набор байтов\n",
    "\n",
    "-    __extract()__: извлекает из архива один файл\n",
    "\n",
    "-    __extractall()__: извлекает все элементы из архива\n",
    "\n",
    "-    __setpassword()__: устанавливает пароль для zip-файла\n",
    "\n",
    "-    __printdir()__: выводит на консоль содержимое архива\n",
    "\n",
    "### Создание и закрытие файла\n",
    "\n",
    "Для создания архивного файла в конструктор ZipFile передается режим \"w\" или \"a\":"
   ]
  },
  {
   "cell_type": "code",
   "execution_count": null,
   "id": "8036ba2f",
   "metadata": {},
   "outputs": [],
   "source": [
    "from zipfile import ZipFile\n",
    " \n",
    "myzip = ZipFile(\"metanit.zip\", \"w\")"
   ]
  },
  {
   "cell_type": "markdown",
   "id": "d5d504af",
   "metadata": {},
   "source": [
    "После выполнения кода в текущей папке будет создаваться пустой архивный файл \"metanit.zip\".\n",
    "\n",
    "После окончания работы с архивом для его закрытия применяется метод __close()__:"
   ]
  },
  {
   "cell_type": "code",
   "execution_count": null,
   "id": "fe36651d",
   "metadata": {},
   "outputs": [],
   "source": [
    "from zipfile import ZipFile\n",
    " \n",
    "myzip = ZipFile(\"metanit.zip\", \"w\")\n",
    "myzip.close()"
   ]
  },
  {
   "cell_type": "markdown",
   "id": "ec3072fd",
   "metadata": {},
   "source": [
    "Но так как ZipFile также представляет менеджер контекста, то он поддерживает выражение __with__, которое определяет контекст и автоматически закрывает файл по завершению контекста:"
   ]
  },
  {
   "cell_type": "code",
   "execution_count": null,
   "id": "7794e2f7",
   "metadata": {},
   "outputs": [],
   "source": [
    "from zipfile import ZipFile\n",
    " \n",
    "with ZipFile(\"metanit.zip\", \"w\") as myzip:\n",
    "    pass"
   ]
  },
  {
   "cell_type": "markdown",
   "id": "5e8cf37b",
   "metadata": {},
   "source": [
    "### Запись файлов в архив\n",
    "\n",
    "Для записи файлов в архив применяется файл __write()__:"
   ]
  },
  {
   "cell_type": "code",
   "execution_count": null,
   "id": "13353269",
   "metadata": {},
   "outputs": [],
   "source": [
    "write(filename, arcname=None, compress_type=None, compresslevel=None)"
   ]
  },
  {
   "cell_type": "markdown",
   "id": "f1a52190",
   "metadata": {},
   "source": [
    "Первый параметр представляет файл, который записиывается в архив. Второй параметр - arcname устанавливает произвольное имя для файла внутри архива (по умолчанию это само имя файла). Третий параметр - compress_type представляет тип сжатия, а параметр compresslevel - уровень сжатия.\n",
    "\n",
    "Например, запишем в архив \"metanit.zip\" файл \"hello.txt\" (который, как предполагается, находится в той же папке, где и текущий скрипт python):"
   ]
  },
  {
   "cell_type": "code",
   "execution_count": null,
   "id": "be1ea5d8",
   "metadata": {},
   "outputs": [],
   "source": [
    "from zipfile import ZipFile\n",
    " \n",
    "with ZipFile(\"metanit.zip\", \"w\") as myzip:\n",
    "    myzip.write(\"hello.txt\")"
   ]
  },
  {
   "cell_type": "markdown",
   "id": "47e5642f",
   "metadata": {},
   "source": [
    "Стоит учитывать, что при открытии файла в режиме \"w\" при всех последующих записях текущее содержимое будет затираться, то есть фактически архивный файл будет создаваться заново. Если нам необходимо добавить, то необходимо определять zip-файл в режиме \"a\":"
   ]
  },
  {
   "cell_type": "code",
   "execution_count": null,
   "id": "f50c3a40",
   "metadata": {},
   "outputs": [],
   "source": [
    "from zipfile import ZipFile\n",
    " \n",
    "with ZipFile(\"metanit.zip\", \"a\") as myzip:\n",
    "    myzip.write(\"hello2.txt\")\n",
    "    myzip.write(\"forest.jpg\")"
   ]
  },
  {
   "cell_type": "markdown",
   "id": "c15ec4e5",
   "metadata": {},
   "source": [
    "Стоит отметить, что по умолчанию сжатие не применяется. Но при необходимости можно применить какой-нибудь способ сжатия и уровень сжатия\""
   ]
  },
  {
   "cell_type": "code",
   "execution_count": null,
   "id": "2798468f",
   "metadata": {},
   "outputs": [],
   "source": [
    "from zipfile import ZipFile, ZIP_DEFLATED\n",
    " \n",
    "with ZipFile(\"metanit.zip\", \"w\", compression=ZIP_DEFLATED, compresslevel=3) as myzip:\n",
    "    myzip.write(\"hello.txt\")"
   ]
  },
  {
   "cell_type": "markdown",
   "id": "bf2a9d1a",
   "metadata": {},
   "source": [
    "Необходимо учитывать, что если мы попробуем добавить в архив файлы с уже имеющимися именами, то консоль выведет предупреждение. Чтобы избежать наличия файлов с дублирующимися именами можно через второй папаметр метода write явным образом определить для них уникальное имя внутри архива:"
   ]
  },
  {
   "cell_type": "code",
   "execution_count": null,
   "id": "eb5d9ca4",
   "metadata": {},
   "outputs": [],
   "source": [
    "from zipfile import ZipFile\n",
    " \n",
    "with ZipFile(\"metanit.zip\", \"a\") as myzip:\n",
    "    myzip.write(\"hello.txt\", \"hello1.txt\")\n",
    "    myzip.write(\"hello.txt\", \"hello2.txt\")\n",
    "    myzip.write(\"hello.txt\", \"hello3.txt\")"
   ]
  },
  {
   "cell_type": "markdown",
   "id": "967759f5",
   "metadata": {},
   "source": [
    "### Получение информации о файлах в архиве\n",
    "\n",
    "Метод __infolist()__ возвращает информацию о файлах в архиве с виде списка, где каждый отдельный файл представлен объектом ZipInfo:"
   ]
  },
  {
   "cell_type": "code",
   "execution_count": null,
   "id": "35b4e6f4",
   "metadata": {},
   "outputs": [],
   "source": [
    "from zipfile import ZipFile\n",
    " \n",
    "with ZipFile(\"metanit.zip\", \"a\") as myzip:\n",
    "    print(myzip.infolist())"
   ]
  },
  {
   "cell_type": "markdown",
   "id": "5bf38126",
   "metadata": {},
   "source": [
    "Класс ZipInfo предоставляет ряд атрибутов для хранения информации о файле. Основные из них:\n",
    "\n",
    "-    __filename__: название файла\n",
    "\n",
    "-    __date_time__: дата и время последнего изменения файла в виде кортежа в формате (год, месяц, день, час, минута, секунда)\n",
    "\n",
    "-    __compress_type__: тип сжатия\n",
    "\n",
    "-    __compress_size__: размер после сжатия\n",
    "\n",
    "-    __file_size__: оригинальный размер файла до сжатия\n",
    "\n",
    "Получим эти данные по каждому отдельному файлу в архиве:"
   ]
  },
  {
   "cell_type": "code",
   "execution_count": null,
   "id": "80fd0299",
   "metadata": {},
   "outputs": [],
   "source": [
    "from zipfile import ZipFile\n",
    " \n",
    "with ZipFile(\"metanit.zip\", \"r\") as myzip:\n",
    "    for item in myzip.infolist():\n",
    "        print(f\"File Name: {item.filename} Date: {item.date_time} Size: {item.file_size}\")"
   ]
  },
  {
   "cell_type": "markdown",
   "id": "5edda89b",
   "metadata": {},
   "source": [
    "Примерный консольный вывод:\n",
    "```\n",
    "File Name: hello.txt  Date: (2022, 11, 23, 20, 21, 34)  Size: 18\n",
    "File Name: forest.jpg  Date: (2022, 11, 19, 20, 46, 52)  Size: 103956\n",
    "File Name: hello1.txt  Date: (2022, 11, 23, 20, 21, 34)  Size: 18\n",
    "File Name: hello2.txt  Date: (2022, 11, 23, 20, 21, 34)  Size: 18\n",
    "File Name: hello3.txt  Date: (2022, 11, 23, 20, 21, 34)  Size: 18\n",
    "```\n",
    "С помощью метода is_dir() можно проверить, является ли элемент в архиве папкой:"
   ]
  },
  {
   "cell_type": "code",
   "execution_count": null,
   "id": "34b129bb",
   "metadata": {},
   "outputs": [],
   "source": [
    "from zipfile import ZipFile\n",
    " \n",
    "with ZipFile(\"metanit.zip\", \"r\") as myzip:\n",
    "    for item in myzip.infolist():\n",
    "        if(item.is_dir()):  \n",
    "            print(f\"Папка: {item.filename}\")\n",
    "        else:  \n",
    "            print(f\"Файл: {item.filename}\")"
   ]
  },
  {
   "cell_type": "markdown",
   "id": "7f2e5b86",
   "metadata": {},
   "source": [
    "Если надо получить только список имен входящих в архив файлов, то применяется метод __namelist()__:"
   ]
  },
  {
   "cell_type": "code",
   "execution_count": null,
   "id": "db74b4c9",
   "metadata": {},
   "outputs": [],
   "source": [
    "from zipfile import ZipFile\n",
    " \n",
    "with ZipFile(\"metanit.zip\", \"r\") as myzip:\n",
    "    for item in myzip.namelist():\n",
    "        print(item)"
   ]
  },
  {
   "cell_type": "markdown",
   "id": "0a05dc17",
   "metadata": {},
   "source": [
    "Консольный вывод в моем случае:\n",
    "```\n",
    "hello.txt\n",
    "forest.jpg\n",
    "hello1.txt\n",
    "hello2.txt\n",
    "hello3.txt\n",
    "```\n",
    "С помощью метода __getinfo()__ можно получить данные по одному из архивированных файлов, передав в метод его имя в архиве. Результат метода - объект ZipInfo:"
   ]
  },
  {
   "cell_type": "code",
   "execution_count": null,
   "id": "e0143575",
   "metadata": {},
   "outputs": [],
   "source": [
    "from zipfile import ZipFile\n",
    " \n",
    "with ZipFile(\"metanit.zip\", \"r\") as myzip:\n",
    "    try:\n",
    "        hello_file = myzip.getinfo(\"hello.txt\")\n",
    "        print(hello_file.file_size)\n",
    "    except KeyError:\n",
    "        print(\"Указанный файл отсутствует\")"
   ]
  },
  {
   "cell_type": "markdown",
   "id": "58e03eeb",
   "metadata": {},
   "source": [
    "Если в архиве не окажется элемента с указанным именем, то метод сгенерирует ошибку KeyError.\n",
    "Извлечение файлов из архива\n",
    "\n",
    "Для извлечения всех файлов из архива применяется метод __extractall()__:"
   ]
  },
  {
   "cell_type": "code",
   "execution_count": null,
   "id": "05b77209",
   "metadata": {},
   "outputs": [],
   "source": [
    "extractall(path=None, members=None, pwd=None)"
   ]
  },
  {
   "cell_type": "markdown",
   "id": "82219e58",
   "metadata": {},
   "source": [
    "Первый параметр метода устанавливает каталог для извлечения архива (по умолчанию извлечение идет в текущий каталог). Параметр members представляет список строк - список названий файлов, которые надо извлечт из архива. И третий параметр - pwd представляет пароль, в случае если архив закрыт паролем.\n",
    "\n",
    "Например, извлечем все файлы из архива:"
   ]
  },
  {
   "cell_type": "code",
   "execution_count": null,
   "id": "a5eb6389",
   "metadata": {},
   "outputs": [],
   "source": [
    "from zipfile import ZipFile\n",
    " \n",
    "with ZipFile(\"metanit.zip\", \"r\") as myzip:\n",
    "    myzip.extractall()"
   ]
  },
  {
   "cell_type": "markdown",
   "id": "5b758d19",
   "metadata": {},
   "source": [
    "Извлечение в определенную папку:"
   ]
  },
  {
   "cell_type": "code",
   "execution_count": null,
   "id": "52896137",
   "metadata": {},
   "outputs": [],
   "source": [
    "myzip.extractall(path=\"metanit\")"
   ]
  },
  {
   "cell_type": "markdown",
   "id": "f7f0d800",
   "metadata": {},
   "source": [
    "Извлечение части файлов:"
   ]
  },
  {
   "cell_type": "code",
   "execution_count": null,
   "id": "a4511181",
   "metadata": {},
   "outputs": [],
   "source": [
    "# извлекаем файлы  \"hello.txt\", \"forest.jpg\" в папку \"metanit2\"\n",
    "myzip.extractall(path=\"metanit2\", members=[\"hello.txt\", \"forest.jpg\"])"
   ]
  },
  {
   "cell_type": "markdown",
   "id": "395781fb",
   "metadata": {},
   "source": [
    "Для извлечения одного файла применяется метод __extract()__, в который в качестве обязательного параметра передается имя извлекаемого файла:"
   ]
  },
  {
   "cell_type": "code",
   "execution_count": null,
   "id": "361fe3d9",
   "metadata": {},
   "outputs": [],
   "source": [
    "myzip.extract(\"hello.txt\")"
   ]
  },
  {
   "cell_type": "markdown",
   "id": "f2e4ea98",
   "metadata": {},
   "source": [
    "### Считывание файла\n",
    "\n",
    "Метод __read()__ позволяет считать содержимое файла из архива в набор байтов:"
   ]
  },
  {
   "cell_type": "code",
   "execution_count": null,
   "id": "94058307",
   "metadata": {},
   "outputs": [],
   "source": [
    "from zipfile import ZipFile\n",
    " \n",
    "with ZipFile(\"metanit.zip\", \"r\") as myzip:\n",
    "    content = myzip.read(\"hello5.txt\")\n",
    "    print(content)"
   ]
  },
  {
   "cell_type": "markdown",
   "id": "df3cebb2",
   "metadata": {},
   "source": [
    "### Открытие файла\n",
    "\n",
    "Метод __open()__ позволяет открывать отдельные файлы из архива без непосредственного их извлечения:"
   ]
  },
  {
   "cell_type": "code",
   "execution_count": null,
   "id": "1be3b05f",
   "metadata": {},
   "outputs": [],
   "source": [
    "open(name, mode='r', pwd=None, *, force_zip64=False)"
   ]
  },
  {
   "cell_type": "markdown",
   "id": "a932a574",
   "metadata": {},
   "source": [
    "В качестве первого обязательного параметра передается имя файла внутри архива. Второй параметр - mode устанавливает режим открытия. Параметр pwd задает пароль, если файл защищен паролем. И параметр force_zip64 при значении True позволяет открывать файлы больше 4 Гб.\n",
    "\n",
    "Этот файл может быть полезен для манипулирования файлом, например, для считывания его содержимого или, наоборот, для записи в него. Например, откроем файл и считаем его содержимое:"
   ]
  },
  {
   "cell_type": "code",
   "execution_count": null,
   "id": "c89817a1",
   "metadata": {},
   "outputs": [],
   "source": [
    "from zipfile import ZipFile\n",
    " \n",
    "with ZipFile(\"metanit.zip\", \"a\") as myzip:\n",
    "    # записываем в архив новый файл \"hello5.txt\"\n",
    "    with myzip.open(\"hello5.txt\", \"w\") as hello_file:\n",
    "        encoded_str = bytes(\"Python...\", \"UTF-8\")\n",
    "        hello_file.write(encoded_str)"
   ]
  }
 ],
 "metadata": {
  "kernelspec": {
   "display_name": "Python 3 (ipykernel)",
   "language": "python",
   "name": "python3"
  },
  "language_info": {
   "codemirror_mode": {
    "name": "ipython",
    "version": 3
   },
   "file_extension": ".py",
   "mimetype": "text/x-python",
   "name": "python",
   "nbconvert_exporter": "python",
   "pygments_lexer": "ipython3",
   "version": "3.8.10"
  }
 },
 "nbformat": 4,
 "nbformat_minor": 5
}

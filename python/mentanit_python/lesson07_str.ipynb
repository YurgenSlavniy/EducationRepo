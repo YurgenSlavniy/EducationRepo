{
 "cells": [
  {
   "cell_type": "markdown",
   "id": "e481bf47",
   "metadata": {},
   "source": [
    "# https://metanit.com/python/tutorial/6.5.php\n",
    "# СТРОКИ\n",
    "# РАБОТА СО СТРОКАМИ\n",
    "\n",
    "Строка представляет последовательность символов в кодировке Unicode, заключенных в кавычки. Причем для определения строк Python позволяет использовать как одинарные, так и двойные кавычики:"
   ]
  },
  {
   "cell_type": "code",
   "execution_count": 1,
   "id": "b4efeb4f",
   "metadata": {},
   "outputs": [
    {
     "name": "stdout",
     "output_type": "stream",
     "text": [
      "Hello World!\n",
      "Tom\n"
     ]
    }
   ],
   "source": [
    "message = \"Hello World!\"\n",
    "print(message)  # Hello World!\n",
    " \n",
    "name = 'Tom'\n",
    "print(name)  # Tom"
   ]
  },
  {
   "cell_type": "markdown",
   "id": "68c28545",
   "metadata": {},
   "source": [
    "Если строка длинная, ее можно разбить на части и разместить их на разных строках кода. В этом случае вся строка заключается в круглые скобки, а ее отдельные части - в кавычки:"
   ]
  },
  {
   "cell_type": "code",
   "execution_count": 2,
   "id": "d7b92259",
   "metadata": {},
   "outputs": [
    {
     "name": "stdout",
     "output_type": "stream",
     "text": [
      "Laudate omnes gentes laudate Magnificat in secula \n"
     ]
    }
   ],
   "source": [
    "text = (\"Laudate omnes gentes laudate \"\n",
    "        \"Magnificat in secula \")\n",
    "print(text)"
   ]
  },
  {
   "cell_type": "markdown",
   "id": "f746af0c",
   "metadata": {},
   "source": [
    "Если же мы хотим определить многострочный текст, то такой текст заключается в тройные двойные или одинарные кавычки:"
   ]
  },
  {
   "cell_type": "code",
   "execution_count": 3,
   "id": "1f10521f",
   "metadata": {},
   "outputs": [
    {
     "name": "stdout",
     "output_type": "stream",
     "text": [
      "Laudate omnes gentes laudate\n",
      "Magnificat in secula\n",
      "Et anima mea laudate\n",
      "Magnificat in secula \n",
      "\n"
     ]
    }
   ],
   "source": [
    "'''\n",
    "Это комментарий\n",
    "'''\n",
    "text = '''Laudate omnes gentes laudate\n",
    "Magnificat in secula\n",
    "Et anima mea laudate\n",
    "Magnificat in secula \n",
    "'''\n",
    "print(text)"
   ]
  },
  {
   "cell_type": "markdown",
   "id": "395df6b6",
   "metadata": {},
   "source": [
    "При использовани тройных одинарных кавычек не стоит путать их с комментариями: если текст в тройных одинарных кавычках присваивается переменной, то это строка, а не комментарий.\n",
    "Управляющие последовательности в строке\n",
    "\n",
    "Строка может содержать ряд специальных символов - управляющих последовательностей или escape-последовательности. Некоторые из них:\n",
    "\n",
    "- `\\`: позволяет добавить внутрь строки слеш\n",
    "- `\\'`: позволяет добавить внутрь строки одинарную кавычку\n",
    "\n",
    "- `\\\"`: позволяет добавить внутрь строки двойную кавычку\n",
    "\n",
    "- `\\n`: осуществляет переход на новую строку\n",
    "\n",
    "- `\\t`: добавляет табуляцию (4 отступа)\n",
    "\n",
    "Используем некоторые последовательностей:"
   ]
  },
  {
   "cell_type": "code",
   "execution_count": 4,
   "id": "1bdd27e5",
   "metadata": {},
   "outputs": [
    {
     "name": "stdout",
     "output_type": "stream",
     "text": [
      "Message:\n",
      "\"Hello World\"\n"
     ]
    }
   ],
   "source": [
    "text = \"Message:\\n\\\"Hello World\\\"\"\n",
    "print(text)"
   ]
  },
  {
   "cell_type": "markdown",
   "id": "5c3c04d8",
   "metadata": {},
   "source": [
    "Консольный вывод программы:\n",
    "```\n",
    "Message:\n",
    "\"Hello World\"\n",
    "```\n",
    "Хотя подобные последовательности могут нам помочь в некоторых делах, например, поместить в строку кавычку, сделать табуляцию, перенос на другую строку. Но они также могут и мешать. Например:"
   ]
  },
  {
   "cell_type": "code",
   "execution_count": 5,
   "id": "4f53ad91",
   "metadata": {},
   "outputs": [
    {
     "name": "stdout",
     "output_type": "stream",
     "text": [
      "C:\\python\n",
      "ame.txt\n"
     ]
    }
   ],
   "source": [
    "path = \"C:\\python\\name.txt\"\n",
    "print(path)"
   ]
  },
  {
   "cell_type": "markdown",
   "id": "57dad422",
   "metadata": {},
   "source": [
    "Здесь переменная path содержит некоторый путь к файлу. Однако внутри строки встречаются символы \"\\n\", которые будут интерпретированы как управляющая последовательность. Так, мы получим следующий консольный вывод:\n",
    "\n",
    "> C:\\python ame.txt\n",
    "\n",
    "Чтобы избежать подобной ситуации, перед строкой ставится символ r"
   ]
  },
  {
   "cell_type": "markdown",
   "id": "1c295108",
   "metadata": {},
   "source": [
    "path = r\"C:\\python\\name.txt\"\n",
    "print(path)"
   ]
  },
  {
   "cell_type": "markdown",
   "id": "9455159d",
   "metadata": {},
   "source": [
    "### Вставка значений в строку\n",
    "\n",
    "Python позволяет встравивать в строку значения других переменных. Для этого внутри строки переменные размещаются в фигурных скобках {}, а перед всей строкой ставится символ f:"
   ]
  },
  {
   "cell_type": "code",
   "execution_count": 6,
   "id": "4b2d9097",
   "metadata": {},
   "outputs": [
    {
     "name": "stdout",
     "output_type": "stream",
     "text": [
      "name: Tom  age: 37\n"
     ]
    }
   ],
   "source": [
    "userName = \"Tom\"\n",
    "userAge = 37\n",
    "user = f\"name: {userName}  age: {userAge}\"\n",
    "print(user)   # name: Tom  age: 37"
   ]
  },
  {
   "cell_type": "markdown",
   "id": "7a10c2c6",
   "metadata": {},
   "source": [
    "В данном случае на место __{userName}__ будет вставляться значение переменной `userName`. Аналогично на вместо __{userAge}__ будет вставляться значение переменной `userAge`.\n",
    "Обращение к символам строки\n",
    "\n",
    "И мы можем обратиться к отдельным символам строки по индексу в квадратных скобках:"
   ]
  },
  {
   "cell_type": "code",
   "execution_count": 7,
   "id": "41c549f3",
   "metadata": {},
   "outputs": [
    {
     "name": "stdout",
     "output_type": "stream",
     "text": [
      "h\n",
      "w\n"
     ]
    },
    {
     "ename": "IndexError",
     "evalue": "string index out of range",
     "output_type": "error",
     "traceback": [
      "\u001b[0;31m---------------------------------------------------------------------------\u001b[0m",
      "\u001b[0;31mIndexError\u001b[0m                                Traceback (most recent call last)",
      "Cell \u001b[0;32mIn[7], line 7\u001b[0m\n\u001b[1;32m      4\u001b[0m c6 \u001b[38;5;241m=\u001b[39m string[\u001b[38;5;241m6\u001b[39m]  \u001b[38;5;66;03m# w\u001b[39;00m\n\u001b[1;32m      5\u001b[0m \u001b[38;5;28mprint\u001b[39m(c6)\n\u001b[0;32m----> 7\u001b[0m c11 \u001b[38;5;241m=\u001b[39m \u001b[43mstring\u001b[49m\u001b[43m[\u001b[49m\u001b[38;5;241;43m11\u001b[39;49m\u001b[43m]\u001b[49m  \u001b[38;5;66;03m# ошибка IndexError: string index out of range\u001b[39;00m\n\u001b[1;32m      8\u001b[0m \u001b[38;5;28mprint\u001b[39m(c11)\n",
      "\u001b[0;31mIndexError\u001b[0m: string index out of range"
     ]
    }
   ],
   "source": [
    "string = \"hello world\"\n",
    "c0 = string[0]  # h\n",
    "print(c0)\n",
    "c6 = string[6]  # w\n",
    "print(c6)\n",
    " \n",
    "c11 = string[11]  # ошибка IndexError: string index out of range\n",
    "print(c11)"
   ]
  },
  {
   "cell_type": "markdown",
   "id": "97196e2f",
   "metadata": {},
   "source": [
    "Индексация начинается с нуля, поэтому первый символ строки будет иметь индекс 0. А если мы попытаемся обратиться к индексу, которого нет в строке, то мы получим исключение IndexError. Например, в случае выше длина строки 11 символов, поэтому ее символы будут иметь индексы от 0 до 10.\n",
    "\n",
    "Чтобы получить доступ к символам, начиная с конца строки, можно использовать отрицательные индексы. Так, индекс -1 будет представлять последний символ, а -2 - предпоследний символ и так далее:"
   ]
  },
  {
   "cell_type": "code",
   "execution_count": 8,
   "id": "b8b84f0d",
   "metadata": {},
   "outputs": [
    {
     "name": "stdout",
     "output_type": "stream",
     "text": [
      "d\n",
      "w\n"
     ]
    }
   ],
   "source": [
    "string = \"hello world\"\n",
    "c1 = string[-1]  # d\n",
    "print(c1)\n",
    "c5 = string[-5]  # w\n",
    "print(c5)"
   ]
  },
  {
   "cell_type": "markdown",
   "id": "2902470c",
   "metadata": {},
   "source": [
    "При работе с символами следует учитывать, что строка - это неизменяемый (immutable) тип, поэтому если мы попробуем изменить какой-то отдельный символ строки, то мы получим ошибку, как в следующем случае:"
   ]
  },
  {
   "cell_type": "code",
   "execution_count": 9,
   "id": "a1475a53",
   "metadata": {},
   "outputs": [
    {
     "ename": "TypeError",
     "evalue": "'str' object does not support item assignment",
     "output_type": "error",
     "traceback": [
      "\u001b[0;31m---------------------------------------------------------------------------\u001b[0m",
      "\u001b[0;31mTypeError\u001b[0m                                 Traceback (most recent call last)",
      "Cell \u001b[0;32mIn[9], line 2\u001b[0m\n\u001b[1;32m      1\u001b[0m string \u001b[38;5;241m=\u001b[39m \u001b[38;5;124m\"\u001b[39m\u001b[38;5;124mhello world\u001b[39m\u001b[38;5;124m\"\u001b[39m\n\u001b[0;32m----> 2\u001b[0m \u001b[43mstring\u001b[49m\u001b[43m[\u001b[49m\u001b[38;5;241;43m1\u001b[39;49m\u001b[43m]\u001b[49m \u001b[38;5;241m=\u001b[39m \u001b[38;5;124m\"\u001b[39m\u001b[38;5;124mR\u001b[39m\u001b[38;5;124m\"\u001b[39m\n",
      "\u001b[0;31mTypeError\u001b[0m: 'str' object does not support item assignment"
     ]
    }
   ],
   "source": [
    "string = \"hello world\"\n",
    "string[1] = \"R\""
   ]
  },
  {
   "cell_type": "markdown",
   "id": "c4de97a1",
   "metadata": {},
   "source": [
    "Мы можем только полностью переустановить значение строки, присвоив ей другое значение.\n",
    "Перебор строки\n",
    "\n",
    "С помощью цикла for можно перебрать все символы строки:"
   ]
  },
  {
   "cell_type": "code",
   "execution_count": 10,
   "id": "2498ceea",
   "metadata": {},
   "outputs": [
    {
     "name": "stdout",
     "output_type": "stream",
     "text": [
      "h\n",
      "e\n",
      "l\n",
      "l\n",
      "o\n",
      " \n",
      "w\n",
      "o\n",
      "r\n",
      "l\n",
      "d\n"
     ]
    }
   ],
   "source": [
    "string = \"hello world\"\n",
    "for char in string:\n",
    "    print(char)\n",
    "    "
   ]
  },
  {
   "cell_type": "markdown",
   "id": "15becbee",
   "metadata": {},
   "source": [
    "### Получение подстроки\n",
    "\n",
    "При необходимости мы можем получить из строки не только отдельные символы, но и подстроку. Для этого используется следующий синтаксис:\n",
    "\n",
    "- `string[:end]`: извлекается последовательность символов начиная с 0-го индекса по индекс end (не включая)\n",
    "\n",
    "- `string[start:end]`: извлекается последовательность символов начиная с индекса start по индекс end (не включая)\n",
    "\n",
    "- `string[start:end:step]`: извлекается последовательность символов начиная с индекса start по индекс end (не включая) через шаг step\n",
    "\n",
    "Используем все варианты получения подстроки:"
   ]
  },
  {
   "cell_type": "code",
   "execution_count": 11,
   "id": "34e11405",
   "metadata": {},
   "outputs": [
    {
     "name": "stdout",
     "output_type": "stream",
     "text": [
      "hello\n",
      "llo\n",
      "lowr\n"
     ]
    }
   ],
   "source": [
    "string = \"hello world\"\n",
    " \n",
    "# с 0 до 5 индекса\n",
    "sub_string1 = string[:5]\n",
    "print(sub_string1)      # hello\n",
    " \n",
    "# со 2 до 5 индекса\n",
    "sub_string2 = string[2:5]\n",
    "print(sub_string2)      # llo\n",
    " \n",
    "# с 2 по 9 индекса через один символ\n",
    "sub_string3 = string[2:9:2]\n",
    "print(sub_string3)      # lowr"
   ]
  },
  {
   "cell_type": "markdown",
   "id": "4f57f0bd",
   "metadata": {},
   "source": [
    "### Объединение строк\n",
    "\n",
    "Одной из самых распространенных операций со строками является их объединение или конкатенация. Для объединения строк применяется операция сложения:"
   ]
  },
  {
   "cell_type": "code",
   "execution_count": 12,
   "id": "307b2975",
   "metadata": {},
   "outputs": [
    {
     "name": "stdout",
     "output_type": "stream",
     "text": [
      "Tom Smith\n"
     ]
    }
   ],
   "source": [
    "name = \"Tom\"\n",
    "surname = \"Smith\"\n",
    "fullname = name + \" \" + surname\n",
    "print(fullname)  # Tom Smith"
   ]
  },
  {
   "cell_type": "markdown",
   "id": "ce31fc39",
   "metadata": {},
   "source": [
    "С объединением двух строк все просто, но что, если нам надо сложить строку и число? В этом случае необходимо привести число к строке с помощью функции str():"
   ]
  },
  {
   "cell_type": "code",
   "execution_count": 13,
   "id": "1814d42f",
   "metadata": {},
   "outputs": [
    {
     "name": "stdout",
     "output_type": "stream",
     "text": [
      "Name: Tom Age: 33\n"
     ]
    }
   ],
   "source": [
    "name = \"Tom\"\n",
    "age = 33\n",
    "info = \"Name: \" + name + \" Age: \" + str(age)\n",
    "print(info)  # Name: Tom Age: 33"
   ]
  },
  {
   "cell_type": "markdown",
   "id": "6f0c7ced",
   "metadata": {},
   "source": [
    "### Повторение строки\n",
    "\n",
    "Для повторения строки определенное количество раз применяется операция умножения:"
   ]
  },
  {
   "cell_type": "code",
   "execution_count": 14,
   "id": "2df0211d",
   "metadata": {},
   "outputs": [
    {
     "name": "stdout",
     "output_type": "stream",
     "text": [
      "aaa\n",
      "hehehehe\n"
     ]
    }
   ],
   "source": [
    "print(\"a\" * 3)  # aaa\n",
    "print(\"he\" * 4)  # hehehehe"
   ]
  },
  {
   "cell_type": "markdown",
   "id": "b5ed635f",
   "metadata": {},
   "source": [
    "### Сравнение строк\n",
    "\n",
    "Особо следует сказать о сравнении строк. При сравнении строк принимается во внимание символы и их регистр. Так, цифровой символ условно меньше, чем любой алфавитный символ. Алфавитный символ в верхнем регистре условно меньше, чем алфавитные символы в нижнем регистре. Например:"
   ]
  },
  {
   "cell_type": "code",
   "execution_count": null,
   "id": "9ba4ffa0",
   "metadata": {},
   "outputs": [],
   "source": [
    "str1 = \"1a\"\n",
    "str2 = \"aa\"\n",
    "str3 = \"Aa\"\n",
    "print(str1 > str2)  # False, так как первый символ в str1 - цифра\n",
    "print(str2 > str3)  # True, так как первый символ в str2 - в нижнем регистре"
   ]
  },
  {
   "cell_type": "markdown",
   "id": "d58a5e58",
   "metadata": {},
   "source": [
    "Поэтому строка \"1a\" условно меньше, чем строка \"aa\". Вначале сравнение идет по первому символу. Если начальные символы обоих строк представляют цифры, то меньшей считается меньшая цифра, например, \"1a\" меньше, чем \"2a\".\n",
    "\n",
    "Если начальные символы представляют алфавитные символы в одном и том же регистре, то смотрят по алфавиту. Так, \"aa\" меньше, чем \"ba\", а \"ba\" меньше, чем \"ca\".\n",
    "\n",
    "Если первые символы одинаковые, в расчет берутся вторые символы при их наличии.\n",
    "\n",
    "Зависимость от регистра не всегда желательна, так как по сути мы имеем дело с одинаковыми строками. В этом случае перед сравнением мы можем привести обе строки к одному из регистров.\n",
    "\n",
    "Функция __lower()__ приводит строку к нижнему регистру, а функция __upper()__ - к верхнему."
   ]
  },
  {
   "cell_type": "code",
   "execution_count": 15,
   "id": "08274c0c",
   "metadata": {},
   "outputs": [
    {
     "name": "stdout",
     "output_type": "stream",
     "text": [
      "False\n",
      "True\n"
     ]
    }
   ],
   "source": [
    "str1 = \"Tom\"\n",
    "str2 = \"tom\"\n",
    "print(str1 == str2)  # False - строки не равны\n",
    " \n",
    "print(str1.lower() == str2.lower())  # True"
   ]
  },
  {
   "cell_type": "markdown",
   "id": "e5516221",
   "metadata": {},
   "source": [
    "### Функции __ord__ и __len__\n",
    "\n",
    "Поскольку строка содержит символы Unicode, то с помощью функции __ord()__ мы можем получить числовое значение для символа в кодировке Unicode:"
   ]
  },
  {
   "cell_type": "code",
   "execution_count": 16,
   "id": "777600bc",
   "metadata": {},
   "outputs": [
    {
     "name": "stdout",
     "output_type": "stream",
     "text": [
      "65\n"
     ]
    }
   ],
   "source": [
    "print(ord(\"A\"))     # 65"
   ]
  },
  {
   "cell_type": "markdown",
   "id": "1a434055",
   "metadata": {},
   "source": [
    "Для получения длины строки можно использовать функцию __len()__:"
   ]
  },
  {
   "cell_type": "code",
   "execution_count": 17,
   "id": "e5442a3d",
   "metadata": {},
   "outputs": [
    {
     "name": "stdout",
     "output_type": "stream",
     "text": [
      "11\n"
     ]
    }
   ],
   "source": [
    "string = \"hello world\"\n",
    "length = len(string)\n",
    "print(length)   # 11"
   ]
  },
  {
   "cell_type": "markdown",
   "id": "057ca2e6",
   "metadata": {},
   "source": [
    "### Поиск в строке\n",
    "\n",
    "С помощью выражения term in string можно найти подстроку term в строке string. Если подстрока найдена, то выражение вернет значение True, иначе возвращается значение False:\n"
   ]
  },
  {
   "cell_type": "code",
   "execution_count": 18,
   "id": "2cecc7fb",
   "metadata": {},
   "outputs": [
    {
     "name": "stdout",
     "output_type": "stream",
     "text": [
      "True\n",
      "False\n"
     ]
    }
   ],
   "source": [
    "string = \"hello world\"\n",
    "exist = \"hello\" in string\n",
    "print(exist)    # True\n",
    " \n",
    "exist = \"sword\" in string\n",
    "print(exist)    # False"
   ]
  },
  {
   "cell_type": "markdown",
   "id": "dcf175c3",
   "metadata": {},
   "source": [
    "# Основные методы строк\n",
    "Рассмотрим основные методы строк, которые мы можем применить в приложениях:\n",
    "\n",
    "- __isalpha()__: возвращает True, если строка состоит только из алфавитных символов\n",
    "\n",
    "- __islower()__: возвращает True, если строка состоит только из символов в нижнем регистре\n",
    "\n",
    "- __isupper()__: возвращает True, если все символы строки в верхнем регистре\n",
    "\n",
    "- __isdigit()__: возвращает True, если все символы строки - цифры\n",
    "\n",
    "- __isnumeric()__: возвращает True, если строка представляет собой число\n",
    "- __startswith(str)__: возвращает True, если строка начинается с подстроки str\n",
    "\n",
    "- __endswith(str)__: возвращает True, если строка заканчивается на подстроку str\n",
    "\n",
    "- __lower()__: переводит строку в нижний регистр\n",
    "\n",
    "- __upper()__: переводит строку в вехний регистр\n",
    "\n",
    "- __title()__: начальные символы всех слов в строке переводятся в верхний регистр\n",
    "\n",
    "- __capitalize()__: переводит в верхний регистр первую букву только самого первого слова строки\n",
    "\n",
    "- __lstrip()__: удаляет начальные пробелы из строки\n",
    "\n",
    "- __rstrip()__: удаляет конечные пробелы из строки\n",
    "\n",
    "- __strip()__: удаляет начальные и конечные пробелы из строки\n",
    "\n",
    "- __ljust(width)__: если длина строки меньше параметра width, то справа от строки добавляются пробелы, чтобы дополнить значение width, а сама строка выравнивается по левому краю\n",
    "\n",
    "- __rjust(width)__: если длина строки меньше параметра width, то слева от строки добавляются пробелы, чтобы дополнить значение width, а сама строка выравнивается по правому краю\n",
    "\n",
    "- __center(width)__: если длина строки меньше параметра width, то слева и справа от строки равномерно добавляются пробелы, чтобы дополнить значение width, а сама строка выравнивается по центру\n",
    "\n",
    "- __find(str[, start [, end])__: возвращает индекс подстроки в строке. Если подстрока не найдена, возвращается число -1\n",
    "\n",
    "- __replace(old, new[, num])__: заменяет в строке одну подстроку на другую\n",
    "\n",
    "- __split([delimeter[, num]]__): разбивает строку на подстроки в зависимости от разделителя\n",
    "\n",
    "- __partition(delimeter)__: разбивает строку по разделителю на три подстроки и возвращает кортеж из трех элементов - подстрока до разделителя, разделитель и подстрока после разделителя\n",
    "\n",
    "- __join(strs)__: объединяет строки в одну строку, вставляя между ними определенный разделитель\n",
    "\n",
    "Например, если мы ожидаем ввод с клавиатуры числа, то перед преобразованием введенной строки в число можно проверить, с помощью метода isnumeric() введено ли в действительности число, и если так, то выполнить операцию преобразования:"
   ]
  },
  {
   "cell_type": "code",
   "execution_count": 19,
   "id": "69a65711",
   "metadata": {},
   "outputs": [
    {
     "name": "stdout",
     "output_type": "stream",
     "text": [
      "Введите число: 7\n",
      "7\n"
     ]
    }
   ],
   "source": [
    "string = input(\"Введите число: \")\n",
    "if string.isnumeric():\n",
    "    number = int(string)\n",
    "    print(number)"
   ]
  },
  {
   "cell_type": "markdown",
   "id": "365d21e2",
   "metadata": {},
   "source": [
    "Проверка, начинается или оканчивается строка на определенную подстроку:"
   ]
  },
  {
   "cell_type": "code",
   "execution_count": 20,
   "id": "22930807",
   "metadata": {},
   "outputs": [],
   "source": [
    "file_name = \"hello.py\"\n",
    " \n",
    "starts_with_hello = file_name.startswith(\"hello\")   # True\n",
    "ends_with_exe = file_name.endswith(\"exe\")           # False"
   ]
  },
  {
   "cell_type": "markdown",
   "id": "b88571a6",
   "metadata": {},
   "source": [
    "Удаление пробелов в начале и в конце строки:"
   ]
  },
  {
   "cell_type": "code",
   "execution_count": 21,
   "id": "5ebabab1",
   "metadata": {},
   "outputs": [
    {
     "name": "stdout",
     "output_type": "stream",
     "text": [
      "hello  world!\n"
     ]
    }
   ],
   "source": [
    "string = \"   hello  world!  \"\n",
    "string = string.strip()\n",
    "print(string)           # hello  world!"
   ]
  },
  {
   "cell_type": "markdown",
   "id": "585c483b",
   "metadata": {},
   "source": [
    "Дополнение строки пробелами и выравнивание:"
   ]
  },
  {
   "cell_type": "code",
   "execution_count": 22,
   "id": "7d08b048",
   "metadata": {},
   "outputs": [
    {
     "name": "stdout",
     "output_type": "stream",
     "text": [
      "iPhone 7:      52000\n",
      "Huawei P10:      36000\n"
     ]
    }
   ],
   "source": [
    "print(\"iPhone 7:\", \"52000\".rjust(10))\n",
    "print(\"Huawei P10:\", \"36000\".rjust(10))"
   ]
  },
  {
   "cell_type": "markdown",
   "id": "f4006887",
   "metadata": {},
   "source": [
    "Консольный вывод:\n",
    "```\n",
    "iPhone 7:      52000\n",
    "Huawei P10:      36000\n",
    "```\n",
    "### Поиск в строке\n",
    "\n",
    "Для поиска подстроки в строке в Python применяется метод find(), который возвращает индекс первого вхождения подстроки в строку и имеет три формы:\n",
    "\n",
    "- __find(str)__: поиск подстроки str ведется с начала строки до ее конца\n",
    "\n",
    "- __find(str, start)__: параметр start задает начальный индекс, с которого будет производиться поиск\n",
    "\n",
    "- __find(str, start, end)__: параметр end задает конечный индекс, до которого будет идти поиск\n",
    "\n",
    "Если подстрока не найдена, метод возвращает -1:"
   ]
  },
  {
   "cell_type": "code",
   "execution_count": 23,
   "id": "9b4f09c0",
   "metadata": {},
   "outputs": [
    {
     "name": "stdout",
     "output_type": "stream",
     "text": [
      "6\n",
      "21\n",
      "-1\n"
     ]
    }
   ],
   "source": [
    "welcome = \"Hello world! Goodbye world!\"\n",
    "index = welcome.find(\"wor\")\n",
    "print(index)       # 6\n",
    " \n",
    "# поиск с 10-го индекса\n",
    "index = welcome.find(\"wor\",10)\n",
    "print(index)       # 21\n",
    " \n",
    "# поиск с 10 по 15 индекс\n",
    "index = welcome.find(\"wor\",10,15)\n",
    "print(index)       # -1"
   ]
  },
  {
   "cell_type": "markdown",
   "id": "a77417c5",
   "metadata": {},
   "source": [
    "### Замена в строке\n",
    "\n",
    "Для замены в строке одной подстроки на другую применяется метод replace():\n",
    "\n",
    "- __replace(old, new)__: заменяет подстроку old на new\n",
    "\n",
    "- __replace(old, new, num)__: параметр num указывает, сколько вхождений подстроки old надо заменить на new. По умолчанию num равно -1, что соответствует первой версии метода и приводит к замене всех вхождений."
   ]
  },
  {
   "cell_type": "code",
   "execution_count": 24,
   "id": "5c622d68",
   "metadata": {},
   "outputs": [
    {
     "name": "stdout",
     "output_type": "stream",
     "text": [
      "+1 234 567 89 10\n",
      "+12345678910\n",
      "+1234-567-89-10\n"
     ]
    }
   ],
   "source": [
    "phone = \"+1-234-567-89-10\"\n",
    " \n",
    "# замена дефисов на пробел\n",
    "edited_phone = phone.replace(\"-\", \" \")\n",
    "print(edited_phone)     # +1 234 567 89 10\n",
    " \n",
    "# удаление дефисов\n",
    "edited_phone = phone.replace(\"-\", \"\")\n",
    "print(edited_phone)     # +12345678910\n",
    " \n",
    "# замена только первого дефиса\n",
    "edited_phone = phone.replace(\"-\", \"\", 1)\n",
    "print(edited_phone)     # +1234-567-89-10"
   ]
  },
  {
   "cell_type": "markdown",
   "id": "1758b5c6",
   "metadata": {},
   "source": [
    "### Разделение на подстроки\n",
    "\n",
    "Метод split() разбивает строку на список подстрок в зависимости от разделителя. В качестве разделителя может выступать любой символ или последовательность символов. Данный метод имеет следующие формы:\n",
    "\n",
    "- __split()__: в качестве разделителя используется пробел\n",
    "\n",
    "- __split(delimeter)__: в качестве разделителя используется delimeter\n",
    "\n",
    "- __split(delimeter, num)__: параметр num указывает, сколько вхождений delimeter используется для разделения. Оставшаяся часть строки добавляется в список без разделения на подстроки"
   ]
  },
  {
   "cell_type": "code",
   "execution_count": 26,
   "id": "be39f412",
   "metadata": {},
   "outputs": [
    {
     "name": "stdout",
     "output_type": "stream",
     "text": [
      "['Это', 'был', 'огромный,', 'в', 'два', 'обхвата', 'дуб,', 'с', 'обломанными', 'ветвями', 'и', 'с', 'обломанной', 'корой']\n",
      "дуб,\n",
      "['Это был огромный', ' в два обхвата дуб', ' с обломанными ветвями и с обломанной корой']\n",
      " в два обхвата дуб\n",
      "['Это', 'был', 'огромный,', 'в', 'два', 'обхвата дуб, с обломанными ветвями и с обломанной корой']\n",
      "обхвата дуб, с обломанными ветвями и с обломанной корой\n"
     ]
    }
   ],
   "source": [
    "text = \"Это был огромный, в два обхвата дуб, с обломанными ветвями и с обломанной корой\"\n",
    "# разделение по пробелам\n",
    "splitted_text = text.split()\n",
    "print(splitted_text)\n",
    "print(splitted_text[6])     # дуб,\n",
    " \n",
    "# разбиение по запятым\n",
    "splitted_text = text.split(\",\")\n",
    "print(splitted_text)\n",
    "print(splitted_text[1])     # в два обхвата дуб\n",
    " \n",
    "# разбиение по первым пяти пробелам\n",
    "splitted_text = text.split(\" \", 5)\n",
    "print(splitted_text)        \n",
    "print(splitted_text[5])     # обхвата дуб, с обломанными ветвями и с обломанной корой"
   ]
  },
  {
   "cell_type": "markdown",
   "id": "e929771b",
   "metadata": {},
   "source": [
    "Еще один метод - __partition()__ разбивает строку по разделителю на три подстроки и возвращает кортеж из трех элементов - подстрока до разделителя, разделитель и подстрока после разделителя:"
   ]
  },
  {
   "cell_type": "code",
   "execution_count": 27,
   "id": "00083b40",
   "metadata": {},
   "outputs": [
    {
     "name": "stdout",
     "output_type": "stream",
     "text": [
      "('Это был огромный, в два обхвата ', 'дуб', ', с обломанными ветвями и с обломанной корой')\n"
     ]
    }
   ],
   "source": [
    "text = \"Это был огромный, в два обхвата дуб, с обломанными ветвями и с обломанной корой\"\n",
    "text_parts = text.partition(\"дуб\")\n",
    "print(text_parts)\n",
    "# ('Это был огромный, в два обхвата ', 'дуб', ', с обломанными ветвями и с обломанной корой')"
   ]
  },
  {
   "cell_type": "markdown",
   "id": "80d5c932",
   "metadata": {},
   "source": [
    "Если разделитель с строке не найден, то возвращается кортеж с одной строкой.\n",
    "### Соединение строк\n",
    "\n",
    "При рассмотрении простейших операций со строками было показано, как объединять строки с помощью операции сложения. Другую возможность для соединения строк представляет метод join(): он объединяет список строк. Причем текущая строка, у которой вызывается данный метод, используется в качестве разделителя:"
   ]
  },
  {
   "cell_type": "code",
   "execution_count": 28,
   "id": "eeed727c",
   "metadata": {},
   "outputs": [
    {
     "name": "stdout",
     "output_type": "stream",
     "text": [
      "Let me speak from my heart in English\n",
      "Let | me | speak | from | my | heart | in | English\n"
     ]
    }
   ],
   "source": [
    "words = [\"Let\", \"me\", \"speak\", \"from\", \"my\", \"heart\", \"in\", \"English\"]\n",
    " \n",
    "# разделитель - пробел\n",
    "sentence = \" \".join(words)\n",
    "print(sentence)  # Let me speak from my heart in English\n",
    " \n",
    "# разделитель - вертикальная черта\n",
    "sentence = \" | \".join(words)\n",
    "print(sentence)  # Let | me | speak | from | my | heart | in | English"
   ]
  },
  {
   "cell_type": "markdown",
   "id": "fe3bc019",
   "metadata": {},
   "source": [
    "Вместо списка в метод join можно передать простую строку, тогда разделитель будет вставляться между символами этой строки:"
   ]
  },
  {
   "cell_type": "code",
   "execution_count": 29,
   "id": "0d20ec5d",
   "metadata": {},
   "outputs": [
    {
     "name": "stdout",
     "output_type": "stream",
     "text": [
      "h|e|l|l|o\n"
     ]
    }
   ],
   "source": [
    "word = \"hello\"\n",
    "joined_word = \"|\".join(word)\n",
    "print(joined_word)      # h|e|l|l|o"
   ]
  },
  {
   "cell_type": "markdown",
   "id": "a951c080",
   "metadata": {},
   "source": [
    "# Форматирование\n",
    "В прошлых темах было рассмотрено, как можно вставлять в строку некоторые значения, предваряя строку символом f:"
   ]
  },
  {
   "cell_type": "code",
   "execution_count": 30,
   "id": "6e359a12",
   "metadata": {},
   "outputs": [
    {
     "name": "stdout",
     "output_type": "stream",
     "text": [
      "Hello, Tom.\n",
      "Name: Bob\t Age: 23\n"
     ]
    }
   ],
   "source": [
    "first_name=\"Tom\"\n",
    "text = f\"Hello, {first_name}.\"\n",
    "print(text)     # Hello, Tom.\n",
    " \n",
    "name=\"Bob\"\n",
    "age=23\n",
    "info = f\"Name: {name}\\t Age: {age}\"\n",
    "print(info)     # Name: Bob  Age: 23"
   ]
  },
  {
   "cell_type": "markdown",
   "id": "78219537",
   "metadata": {},
   "source": [
    "Но также в Python есть альтернативный способ, который предоставляет метод __format()__. Этот метод позволяет форматировать строку, вставляя в нее на место плейсхолдеров определенные значения.\n",
    "\n",
    "Для вставки в строку используются специальные параметры, которые обрамляются фигурными скобками __({})__.\n",
    "Именованные параметры\n",
    "\n",
    "В форматируемой строке мы можем определять параметры, в методе __format()__ передавать для этих параметров значения:"
   ]
  },
  {
   "cell_type": "code",
   "execution_count": 31,
   "id": "2c23e403",
   "metadata": {},
   "outputs": [
    {
     "name": "stdout",
     "output_type": "stream",
     "text": [
      "Hello, Tom.\n",
      "Name: Bob\t Age: 23\n"
     ]
    }
   ],
   "source": [
    "text = \"Hello, {first_name}.\".format(first_name=\"Tom\")\n",
    "print(text)     # Hello, Tom.\n",
    " \n",
    "info = \"Name: {name}\\t Age: {age}\".format(name=\"Bob\", age=23)\n",
    "print(info)     # Name: Bob  Age: 23"
   ]
  },
  {
   "cell_type": "markdown",
   "id": "701783c5",
   "metadata": {},
   "source": [
    "Причем в метод формат аргументы определяются с тем же именем, что и параметры в строке. Так, если параметр называется first_name, как в первом случае, то аргумент, которому присваивается значение, также называется first_name.\n",
    "### Параметры по позиции\n",
    "\n",
    "Мы также можем последовательно передавать в метод format набор аргументов, а в самой форматируемой строке вставлять эти аргумента, указывая в фигурных скобках их номер (нумерация начинается с нуля):"
   ]
  },
  {
   "cell_type": "code",
   "execution_count": 32,
   "id": "636c5a94",
   "metadata": {},
   "outputs": [
    {
     "name": "stdout",
     "output_type": "stream",
     "text": [
      "Name: Bob\t Age: 23\n"
     ]
    }
   ],
   "source": [
    "info = \"Name: {0}\\t Age: {1}\".format(\"Bob\", 23)\n",
    "print(info)     # Name: Bob  Age: 23"
   ]
  },
  {
   "cell_type": "markdown",
   "id": "02f37984",
   "metadata": {},
   "source": [
    "При этом аргументы можно вставлять в строку множество раз:"
   ]
  },
  {
   "cell_type": "code",
   "execution_count": 33,
   "id": "2f2ad4ed",
   "metadata": {},
   "outputs": [],
   "source": [
    "text = \"Hello, {0} {0} {0}.\".format(\"Tom\")"
   ]
  },
  {
   "cell_type": "markdown",
   "id": "dbafe77c",
   "metadata": {},
   "source": [
    "### Подстановки\n",
    "\n",
    "Еще один способ передачи форматируемых значений в строку представляет использование подстановок или специальных плейсхолдеров, на место которых вставляются определенные значения. Для форматирования мы можем использовать следующие плейсхолдеры:\n",
    "- __s__: для вставки строк\n",
    "- __d__: для вставки целых чисел\n",
    "- __f__: для вставки дробных чисел. Для этого типа также можно определить через точку количество знаков в дробной части.\n",
    "- __%__: умножает значение на 100 и добавляет знак процента\n",
    "- __e__: выводит число в экспоненциальной записи\n",
    "\n",
    "Общий синтаксис плейсхолдера следующий:\n",
    "\n",
    "> {:плейсхолдер}\n",
    "\n",
    "В зависимости от плейсхолдера можно добавлять дополнительные параметры. Например, для форматирования чисел float можно использовать следующие параметры\n",
    "\n",
    "> {:[количество_символов][запятая][.число_знаков_в_дробной_части] плейсхолдер}\n",
    "\n",
    "При вызове метода format в него в качестве аргументов передаются значения, которые вставляются на место плейсхолдеров:"
   ]
  },
  {
   "cell_type": "code",
   "execution_count": 34,
   "id": "3cf1c022",
   "metadata": {},
   "outputs": [
    {
     "name": "stdout",
     "output_type": "stream",
     "text": [
      "Hello Tom\n"
     ]
    }
   ],
   "source": [
    "welcome = \"Hello {:s}\"\n",
    "name = \"Tom\"\n",
    "formatted_welcome = welcome.format(name)\n",
    "print(formatted_welcome)        # Hello Tom"
   ]
  },
  {
   "cell_type": "markdown",
   "id": "1c99212b",
   "metadata": {},
   "source": [
    "В качестве результата метод __format()__ возвращает новую отформатированную строку.\n",
    "\n",
    "### Форматирование целых чисел:"
   ]
  },
  {
   "cell_type": "code",
   "execution_count": 36,
   "id": "572cd138",
   "metadata": {},
   "outputs": [
    {
     "name": "stdout",
     "output_type": "stream",
     "text": [
      "5 символов\n"
     ]
    }
   ],
   "source": [
    "source = \"{:d} символов\"\n",
    "number = 5\n",
    "target = source.format(number)\n",
    "print(target)   # 5 символов"
   ]
  },
  {
   "cell_type": "markdown",
   "id": "555967cb",
   "metadata": {},
   "source": [
    "Если форматируемое число больше 999, то мы можем указать в определении плейсхолдера, что мы хотим использовать запятую в качестве разделителя разрядов:"
   ]
  },
  {
   "cell_type": "code",
   "execution_count": 37,
   "id": "15d1866b",
   "metadata": {},
   "outputs": [
    {
     "name": "stdout",
     "output_type": "stream",
     "text": [
      "5,000 символов\n"
     ]
    }
   ],
   "source": [
    "source = \"{:,d} символов\"\n",
    "print(source.format(5000))   # 5,000 символов"
   ]
  },
  {
   "cell_type": "markdown",
   "id": "54e5e725",
   "metadata": {},
   "source": [
    "Причем плейсхолдеры можно использовать и в f-строках:"
   ]
  },
  {
   "cell_type": "code",
   "execution_count": 38,
   "id": "8df04b79",
   "metadata": {},
   "outputs": [
    {
     "name": "stdout",
     "output_type": "stream",
     "text": [
      "5,000 символов\n"
     ]
    }
   ],
   "source": [
    "n = 5000\n",
    "source = f\"{n:,d} символов\"\n",
    "print(source)   # 5,000 символов"
   ]
  },
  {
   "cell_type": "markdown",
   "id": "69827322",
   "metadata": {},
   "source": [
    "Для дробных чисел, то есть таких, которые представляют тип float, перед кодом плейсхолдера после точки можно указать, сколько знаков в дробной части мы хотим вывести:"
   ]
  },
  {
   "cell_type": "code",
   "execution_count": 39,
   "id": "01c13afc",
   "metadata": {},
   "outputs": [
    {
     "name": "stdout",
     "output_type": "stream",
     "text": [
      "23.86\n",
      "23.859\n",
      "23.8590\n",
      "10,001.24\n"
     ]
    }
   ],
   "source": [
    "number = 23.8589578\n",
    "print(\"{:.2f}\".format(number))   # 23.86\n",
    "print(\"{:.3f}\".format(number))   # 23.859\n",
    "print(\"{:.4f}\".format(number))   # 23.8590\n",
    "print(\"{:,.2f}\".format(10001.23554))    # 10,001.24"
   ]
  },
  {
   "cell_type": "markdown",
   "id": "be3aad4f",
   "metadata": {},
   "source": [
    "Еще один параметр позволяет установить минимальную ширину форматируемого значения в символах:"
   ]
  },
  {
   "cell_type": "code",
   "execution_count": 40,
   "id": "911c0ded",
   "metadata": {},
   "outputs": [
    {
     "name": "stdout",
     "output_type": "stream",
     "text": [
      "     23.86\n",
      "      25\n"
     ]
    }
   ],
   "source": [
    "print(\"{:10.2f}\".format(23.8589578))    #     23.86\n",
    "print(\"{:8d}\".format(25))               #      25"
   ]
  },
  {
   "cell_type": "markdown",
   "id": "55e22a6f",
   "metadata": {},
   "source": [
    "Аналогичный пример с f-строками:"
   ]
  },
  {
   "cell_type": "code",
   "execution_count": 41,
   "id": "d248fefc",
   "metadata": {},
   "outputs": [
    {
     "name": "stdout",
     "output_type": "stream",
     "text": [
      "     23.86\n",
      "      25\n"
     ]
    }
   ],
   "source": [
    "n1 = 23.8589578\n",
    "print(f\"{n1:10.2f}\")    #     23.86\n",
    "n2 = 25\n",
    "print(f\"{n2:8d}\")       #      25"
   ]
  },
  {
   "cell_type": "markdown",
   "id": "41017bac",
   "metadata": {},
   "source": [
    "Для вывода процентов лучше воспользоваться кодом \"%\":"
   ]
  },
  {
   "cell_type": "code",
   "execution_count": 42,
   "id": "2b54c902",
   "metadata": {},
   "outputs": [
    {
     "name": "stdout",
     "output_type": "stream",
     "text": [
      "12.345000%\n",
      "12%\n",
      "12.3%\n",
      "12.345000%\n",
      "12%\n",
      "12.3%\n"
     ]
    }
   ],
   "source": [
    "number = .12345\n",
    "print(\"{:%}\".format(number))        # 12.345000%\n",
    "print(\"{:.0%}\".format(number))      # 12%\n",
    "print(\"{:.1%}\".format(number))      # 12.3%\n",
    " \n",
    "print(f\"{number:%}\")        # 12.345000%\n",
    "print(f\"{number:.0%}\")      # 12%\n",
    "print(f\"{number:.1%}\")      # 12.3%"
   ]
  },
  {
   "cell_type": "markdown",
   "id": "aff3e2a4",
   "metadata": {},
   "source": [
    "Для вывода числа в экспоненциальной записи применяется плейсхолдер \"e\":"
   ]
  },
  {
   "cell_type": "code",
   "execution_count": 43,
   "id": "3d326846",
   "metadata": {},
   "outputs": [
    {
     "name": "stdout",
     "output_type": "stream",
     "text": [
      "1.234568e+04\n",
      "1e+04\n",
      "1.2e+04\n",
      "1.234568e+04\n",
      "1e+04\n",
      "1.2e+04\n"
     ]
    }
   ],
   "source": [
    "number = 12345.6789\n",
    "print(\"{:e}\".format(number))        # 1.234568e+04\n",
    "print(\"{:.0e}\".format(number))      # 1e+04\n",
    "print(\"{:.1e}\".format(number))      # 1.2e+04\n",
    " \n",
    "print(f\"{number:e}\")        # 1.234568e+04\n",
    "print(f\"{number:.0e}\")      # 1e+04\n",
    "print(f\"{number:.1e}\")      # 1.2e+04"
   ]
  },
  {
   "cell_type": "markdown",
   "id": "bade3674",
   "metadata": {},
   "source": [
    "### Форматирование без метода format\n",
    "\n",
    "Существует также еще один способ форматирования с помощью следующего синтаксиса:\n",
    "\n",
    "> строка%(параметр1, параметр2,..параметрN)\n",
    "\n",
    "То есть в начале идет строка, которая содержит те же плейсхолдеры, которые были рассмотрены выше (за исключением плейсхолдера %), после строки ставится знак процента %, а затем список значений, которые вставляются в строку. Фактически знак процента представляют операцию, в результате которой образуется новая строка:"
   ]
  },
  {
   "cell_type": "code",
   "execution_count": 44,
   "id": "9b772e08",
   "metadata": {},
   "outputs": [
    {
     "name": "stdout",
     "output_type": "stream",
     "text": [
      "Имя: Tom \t Возраст: 35\n"
     ]
    }
   ],
   "source": [
    "info = \"Имя: %s \\t Возраст: %d\" % (\"Tom\", 35)\n",
    "print(info)   # Имя: Tom     Возраст: 35"
   ]
  },
  {
   "cell_type": "markdown",
   "id": "d843652d",
   "metadata": {},
   "source": [
    "Рядом с плейсхолдером указывается знак процента и в отличие от функции format здесь не требуются фигурные скобки.\n",
    "\n",
    "Причем способы форматирования чисел здесь также применяются:"
   ]
  },
  {
   "cell_type": "code",
   "execution_count": 45,
   "id": "746509ee",
   "metadata": {},
   "outputs": [
    {
     "name": "stdout",
     "output_type": "stream",
     "text": [
      "23.86  - 2.385896e+01\n"
     ]
    }
   ],
   "source": [
    "number = 23.8589578\n",
    "print(\"%0.2f  - %e\" % (number, number))   # 23.86  - 2.385896e+01"
   ]
  }
 ],
 "metadata": {
  "kernelspec": {
   "display_name": "Python 3 (ipykernel)",
   "language": "python",
   "name": "python3"
  },
  "language_info": {
   "codemirror_mode": {
    "name": "ipython",
    "version": 3
   },
   "file_extension": ".py",
   "mimetype": "text/x-python",
   "name": "python",
   "nbconvert_exporter": "python",
   "pygments_lexer": "ipython3",
   "version": "3.8.10"
  }
 },
 "nbformat": 4,
 "nbformat_minor": 5
}

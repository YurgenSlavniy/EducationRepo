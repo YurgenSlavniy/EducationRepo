{
 "cells": [
  {
   "cell_type": "markdown",
   "id": "4bac8d5a",
   "metadata": {},
   "source": [
    "# источник: https://pythonru.com/osnovy/fajly-v-python-vvod-vyvod"
   ]
  },
  {
   "cell_type": "markdown",
   "id": "178412ce",
   "metadata": {},
   "source": [
    "#  Файлы в python, ввод-вывод\n",
    "Эта статья посвящена работе с файлами (вводу/выводу) в Python: открытие, чтение, запись, закрытие и другие операции.\n",
    "### Файлы Python\n",
    "Файл — это всего лишь набор данных, сохраненный в виде последовательности битов на компьютере. Информация хранится в куче данных (структура данных) и имеет название «имя файла» (filename).\n",
    "\n",
    "В Python существует два типа файлов:\n",
    "\n",
    "- Текстовые\n",
    "- Бинарные\n",
    "\n",
    "### Текстовые файлы\n",
    "Это файлы с человекочитаемым содержимым. В них хранятся последовательности символов, которые понимает человек. Блокнот и другие стандартные редакторы умеют читать и редактировать этот тип файлов.\n",
    "\n",
    "Текст может храниться в двух форматах: \n",
    "\n",
    "`(.txt)` — простой текст \n",
    "\n",
    "`(.rtf)` — «формат обогащенного текста».\n",
    "\n",
    "### Бинарные файлы\n",
    "В бинарных файлах данные отображаются в закодированной форме (с использованием только нулей (0) и единиц (1) вместо простых символов). В большинстве случаев это просто последовательности битов.\n",
    "\n",
    "Они хранятся в формате .bin.\n",
    "\n",
    "Любую операцию с файлом можно разбить на три крупных этапа:\n",
    "\n",
    "1. Открытие файла\n",
    "2. Выполнение операции (запись, чтение)\n",
    "3. Закрытие файла"
   ]
  },
  {
   "cell_type": "markdown",
   "id": "279d8509",
   "metadata": {},
   "source": [
    "## Открытие файла\n",
    "### Метод open()\n",
    "\n",
    "В Python есть встроенная функция open(). С ее помощью можно открыть любой файл на компьютере. Технически Python создает на его основе объект.\n",
    "\n",
    "Синтаксис следующий: `f = open(file_name, access_mode)`\n",
    "\n",
    "Где,\n",
    "\n",
    "`file_name` = имя открываемого файла\n",
    "\n",
    "`access_mode` = режим открытия файла. Он может быть: для чтения, записи и т. д. По умолчанию используется режим чтения (r), если другое не указано. Далее полный список режимов открытия файла\n",
    "\n",
    "`Режим`\tОписание\n",
    "\n",
    "`'r'`\tТолько для чтения.\n",
    "\n",
    "`'w'`\tТолько для записи. Создаст новый файл, если не найдет с указанным именем.\n",
    "\n",
    "`'rb'`\tТолько для чтения (бинарный).\n",
    "\n",
    "`'wb'`\tТолько для записи (бинарный). Создаст новый файл, если не найдет с указанным именем.\n",
    "\n",
    "`'r+'`\tДля чтения и записи.\n",
    "\n",
    "`'rb+'`\tДля чтения и записи (бинарный).\n",
    "\n",
    "`'w+'`\tДля чтения и записи. Создаст новый файл для записи, если не найдет с указанным именем.\n",
    "\n",
    "`'wb+'`\tДля чтения и записи (бинарный). Создаст новый файл для записи, если не найдет с указанным именем.\n",
    "\n",
    "`'a'`\tОткроет для добавления нового содержимого. Создаст новый файл для записи, если не найдет с указанным именем.\n",
    "\n",
    "`'a+'`\tОткроет для добавления нового содержимого. Создаст новый файл для чтения записи, если не найдет с указанным именем.\n",
    "\n",
    "`'ab'`\tОткроет для добавления нового содержимого (бинарный). Создаст новый файл для записи, если не найдет с указанным именем.\n",
    "\n",
    "`'ab+'`\tОткроет для добавления нового содержимого (бинарный). Создаст новый файл для чтения записи, если не найдет с указанным именем."
   ]
  },
  {
   "cell_type": "code",
   "execution_count": 1,
   "id": "a4d22241",
   "metadata": {},
   "outputs": [],
   "source": [
    "f = open('example.txt','r')  # открыть файл из рабочей директории в режиме чтения\n",
    "fp = open('C:/Users/777/Desktop/example.txt','r')  # открыть файл из любого каталога"
   ]
  },
  {
   "cell_type": "code",
   "execution_count": 2,
   "id": "c100e413",
   "metadata": {},
   "outputs": [
    {
     "data": {
      "text/plain": [
       "<_io.TextIOWrapper name='example.txt' mode='r' encoding='cp1251'>"
      ]
     },
     "execution_count": 2,
     "metadata": {},
     "output_type": "execute_result"
    }
   ],
   "source": [
    "f"
   ]
  },
  {
   "cell_type": "code",
   "execution_count": 10,
   "id": "2e08328c",
   "metadata": {},
   "outputs": [
    {
     "data": {
      "text/plain": [
       "<_io.TextIOWrapper name='C:/Users/777/Desktop/example.txt' mode='r' encoding='cp1251'>"
      ]
     },
     "execution_count": 10,
     "metadata": {},
     "output_type": "execute_result"
    }
   ],
   "source": [
    "fp"
   ]
  },
  {
   "cell_type": "markdown",
   "id": "943ff9dc",
   "metadata": {},
   "source": [
    "В этом примере f и fp — переменная-указатель на файл example.txt."
   ]
  },
  {
   "cell_type": "code",
   "execution_count": 22,
   "id": "b829d8d8",
   "metadata": {},
   "outputs": [
    {
     "data": {
      "text/plain": [
       "<_io.TextIOWrapper name='example.txt' mode='r' encoding='utf-8'>"
      ]
     },
     "execution_count": 22,
     "metadata": {},
     "output_type": "execute_result"
    }
   ],
   "source": [
    "f_unicode_utf_8 = open('example.txt','r', encoding='utf-8')\n",
    "f_unicode_utf_8"
   ]
  },
  {
   "cell_type": "markdown",
   "id": "2118872b",
   "metadata": {},
   "source": [
    "Следующий код используется для вывода содержимого файла и информации о нем."
   ]
  },
  {
   "cell_type": "code",
   "execution_count": 23,
   "id": "cfc11092",
   "metadata": {},
   "outputs": [
    {
     "name": "stdout",
     "output_type": "stream",
     "text": [
      "﻿This is example file.\n",
      " ЭТО демонстрационный файл\n"
     ]
    }
   ],
   "source": [
    "print(*f_unicode_utf_8) # выводим содержимое файла"
   ]
  },
  {
   "cell_type": "code",
   "execution_count": 19,
   "id": "8619c074",
   "metadata": {},
   "outputs": [
    {
     "name": "stdout",
     "output_type": "stream",
     "text": [
      "<_io.TextIOWrapper name='example.txt' mode='r' encoding='utf-8'>\n"
     ]
    }
   ],
   "source": [
    "print(f) # выводим объект"
   ]
  },
  {
   "cell_type": "markdown",
   "id": "094d8b01",
   "metadata": {},
   "source": [
    "Стоит обратить внимание, что в Windows стандартной кодировкой является cp1252, а в Linux — utf-08."
   ]
  },
  {
   "cell_type": "markdown",
   "id": "de48b122",
   "metadata": {},
   "source": [
    "## Закрытие файла\n",
    "### Метод close()\n",
    "После открытия файла в Python его нужно закрыть. Таким образом освобождаются ресурсы и убирается мусор. Python автоматически закрывает файл, когда объект присваивается другому файлу.\n",
    "\n",
    "Существуют следующие способы:\n",
    "- Способ №1\n",
    "\n",
    "Проще всего после открытия файла закрыть его, используя метод `close()`"
   ]
  },
  {
   "cell_type": "code",
   "execution_count": 24,
   "id": "e87d8dd7",
   "metadata": {},
   "outputs": [],
   "source": [
    "f.close()\n",
    "fp.close()\n",
    "f_unicode_utf_8.close()"
   ]
  },
  {
   "cell_type": "markdown",
   "id": "d1cf7197",
   "metadata": {},
   "source": [
    "После закрытия этот файл нельзя будет использовать до тех пор, пока заново его не открыть.\n",
    "\n",
    "- Способ №2\n",
    "\n",
    "Также можно написать try/finally, которое гарантирует, что если после открытия файла операции с ним приводят к исключениям, он закроется автоматически.\n",
    "\n",
    "Без него программа завершается некорректно.\n",
    "\n",
    "Вот как сделать это исключение:"
   ]
  },
  {
   "cell_type": "code",
   "execution_count": 26,
   "id": "6f13287f",
   "metadata": {},
   "outputs": [],
   "source": [
    "f = open('example.txt','r')\n",
    "try:\n",
    "   pass # работа с файлом\n",
    "finally:\n",
    "   f.close()"
   ]
  },
  {
   "cell_type": "markdown",
   "id": "de4a7339",
   "metadata": {},
   "source": [
    "Файл нужно открыть до инструкции try, потому что если инструкция open сама по себе вызовет ошибку, то файл не будет открываться для последующего закрытия.\n",
    "\n",
    "Этот метод гарантирует, что если операции над файлом вызовут исключения, то он закроется до того как программа остановится."
   ]
  },
  {
   "cell_type": "markdown",
   "id": "77d09861",
   "metadata": {},
   "source": [
    "- Способ №3\n",
    "\n",
    "### Инструкция with\n",
    "Еще один подход — использовать инструкцию with, которая упрощает обработку исключений с помощью инкапсуляции начальных операций, а также задач по закрытию и очистке.\n",
    "\n",
    "В таком случае инструкция close не нужна, потому что with автоматически закроет файл.\n",
    "\n",
    "Вот как это реализовать в коде."
   ]
  },
  {
   "cell_type": "code",
   "execution_count": 27,
   "id": "f0f592a9",
   "metadata": {},
   "outputs": [],
   "source": [
    "with open('example.txt') as f:\n",
    "    pass # работа с файлом"
   ]
  },
  {
   "cell_type": "markdown",
   "id": "133067ac",
   "metadata": {},
   "source": [
    "# Чтение и запись файлов в Python\n",
    "В Python файлы можно читать или записывать информацию в них с помощью соответствующих режимов.\n",
    "\n",
    "### Функция read()\n",
    "Функция read() используется для чтения содержимого файла после открытия его в режиме чтения (r).\n",
    "\n",
    "Синтаксис: `file.read(size)`\n",
    "\n",
    "Где,\n",
    "\n",
    "`file` = объект файла\n",
    "\n",
    "`size` = количество символов, которые нужно прочитать. Если не указать, то файл прочитается целиком."
   ]
  },
  {
   "cell_type": "code",
   "execution_count": 30,
   "id": "139a4b41",
   "metadata": {},
   "outputs": [
    {
     "data": {
      "text/plain": [
       "'\\ufeffThis i'"
      ]
     },
     "execution_count": 30,
     "metadata": {},
     "output_type": "execute_result"
    }
   ],
   "source": [
    "f = open('example.txt','r', encoding='utf-8')\n",
    "f.read(7)"
   ]
  },
  {
   "cell_type": "markdown",
   "id": "944893bb",
   "metadata": {},
   "source": [
    "Интерпретатор прочитал 7 символов файла и если снова использовать функцию read(), то чтение начнется с 8-го символа."
   ]
  },
  {
   "cell_type": "code",
   "execution_count": 32,
   "id": "bef7f221",
   "metadata": {},
   "outputs": [
    {
     "data": {
      "text/plain": [
       "'le file'"
      ]
     },
     "execution_count": 32,
     "metadata": {},
     "output_type": "execute_result"
    }
   ],
   "source": [
    "f.read(7)"
   ]
  },
  {
   "cell_type": "code",
   "execution_count": 33,
   "id": "204d2786",
   "metadata": {},
   "outputs": [],
   "source": [
    "f.close()"
   ]
  },
  {
   "cell_type": "markdown",
   "id": "0fc1b215",
   "metadata": {},
   "source": [
    "### Функция readline()\n",
    "Функция readline() используется для построчного чтения содержимого файла. Она используется для крупных файлов. С ее помощью можно получать доступ к любой строке в любой момент."
   ]
  },
  {
   "cell_type": "code",
   "execution_count": 39,
   "id": "3204dc66",
   "metadata": {},
   "outputs": [],
   "source": [
    "x = open('example.txt','r', encoding='utf-8')"
   ]
  },
  {
   "cell_type": "code",
   "execution_count": 35,
   "id": "269caf07",
   "metadata": {},
   "outputs": [
    {
     "data": {
      "text/plain": [
       "'\\ufeffThis is example file.\\n'"
      ]
     },
     "execution_count": 35,
     "metadata": {},
     "output_type": "execute_result"
    }
   ],
   "source": [
    "x.readline() # прочитать первую строку"
   ]
  },
  {
   "cell_type": "code",
   "execution_count": 41,
   "id": "134b1df4",
   "metadata": {},
   "outputs": [
    {
     "data": {
      "text/plain": [
       "'is'"
      ]
     },
     "execution_count": 41,
     "metadata": {},
     "output_type": "execute_result"
    }
   ],
   "source": [
    "x.readline(2) # прочитать вторую строку"
   ]
  },
  {
   "cell_type": "code",
   "execution_count": 42,
   "id": "fd3242ad",
   "metadata": {},
   "outputs": [
    {
     "data": {
      "text/plain": [
       "[' is example file.\\n',\n",
       " 'ЭТО демонстрационный файл\\n',\n",
       " 'This is line 3\\n',\n",
       " 'This is line 4']"
      ]
     },
     "execution_count": 42,
     "metadata": {},
     "output_type": "execute_result"
    }
   ],
   "source": [
    "x.readlines() # прочитать все строки"
   ]
  },
  {
   "cell_type": "code",
   "execution_count": 47,
   "id": "6a662d96",
   "metadata": {},
   "outputs": [],
   "source": [
    "x.close()"
   ]
  },
  {
   "cell_type": "markdown",
   "id": "743d37dc",
   "metadata": {},
   "source": [
    "Обратите внимание, как в последнем случае строки отделены друг от друга. У нас получается список элементами которого являются строки из файла. \n",
    "\n",
    "# Функция write()\n",
    "Функция write() используется для записи в файлы Python, открытые в режиме записи.\n",
    "\n",
    "Если пытаться открыть файл, которого не существует, в этом режиме, тогда будет создан новый.\n",
    "\n",
    "Синтаксис: `file.write(string)`\n",
    "\n",
    "Предположим, файла xyz.txt не существует. Он будет создан при попытке открыть его в режиме чтения.\n",
    "\n",
    "`f = open('xyz.txt','w')  # открытие в режиме записи`"
   ]
  },
  {
   "cell_type": "code",
   "execution_count": 43,
   "id": "6556cce6",
   "metadata": {},
   "outputs": [],
   "source": [
    "f = open('example.txt', 'w')  # открытие в режиме записи"
   ]
  },
  {
   "cell_type": "code",
   "execution_count": 44,
   "id": "7856d70c",
   "metadata": {},
   "outputs": [
    {
     "data": {
      "text/plain": [
       "13"
      ]
     },
     "execution_count": 44,
     "metadata": {},
     "output_type": "execute_result"
    }
   ],
   "source": [
    "f.write('Hello \\n World')  # запись Hello World в файл"
   ]
  },
  {
   "cell_type": "code",
   "execution_count": 46,
   "id": "3f54ecbb",
   "metadata": {},
   "outputs": [],
   "source": [
    "f.close() # закрытие файла"
   ]
  },
  {
   "cell_type": "markdown",
   "id": "f986f37c",
   "metadata": {},
   "source": [
    "Проверим что у нас всё записалось"
   ]
  },
  {
   "cell_type": "code",
   "execution_count": 51,
   "id": "73fc2d56",
   "metadata": {},
   "outputs": [],
   "source": [
    "f = open('example.txt','r', encoding='utf-8')"
   ]
  },
  {
   "cell_type": "code",
   "execution_count": 52,
   "id": "d567f085",
   "metadata": {},
   "outputs": [
    {
     "name": "stdout",
     "output_type": "stream",
     "text": [
      "Hello \n",
      "  World\n"
     ]
    }
   ],
   "source": [
    "print(*f)"
   ]
  },
  {
   "cell_type": "code",
   "execution_count": 53,
   "id": "9241d549",
   "metadata": {},
   "outputs": [],
   "source": [
    "f.close()"
   ]
  },
  {
   "cell_type": "markdown",
   "id": "19171089",
   "metadata": {},
   "source": [
    "# Переименование файлов в Python\n",
    "### Функция rename()\n",
    "Функция rename() используется для переименовывания файлов в Python. Для ее использования сперва нужно импортировать модуль os.\n",
    "\n",
    "Синтаксис следующий.\n",
    "```\n",
    "import os\n",
    "os.rename(src,dest)\n",
    "```\n",
    "Где,\n",
    "\n",
    "`src` = файл, который нужно переименовать\n",
    "\n",
    "`dest` = новое имя файла"
   ]
  },
  {
   "cell_type": "code",
   "execution_count": 1,
   "id": "29675366",
   "metadata": {},
   "outputs": [],
   "source": [
    "import os\n",
    "os.rename(\"example.txt\",\"abc.txt\")"
   ]
  },
  {
   "cell_type": "markdown",
   "id": "ad65ebdf",
   "metadata": {},
   "source": [
    "### Текущая позиция в файлах Python\n",
    "В Python возможно узнать текущую позицию в файле с помощью функции tell(). Таким же образом можно изменить текущую позицию командой seek()."
   ]
  },
  {
   "cell_type": "code",
   "execution_count": 2,
   "id": "da82f101",
   "metadata": {},
   "outputs": [
    {
     "data": {
      "text/plain": [
       "'Hell'"
      ]
     },
     "execution_count": 2,
     "metadata": {},
     "output_type": "execute_result"
    }
   ],
   "source": [
    "f = open('abc.txt', 'r')\n",
    "f.read(4) # давайте сначала перейдем к 4-й позиции"
   ]
  },
  {
   "cell_type": "code",
   "execution_count": 3,
   "id": "ab6c9e73",
   "metadata": {},
   "outputs": [
    {
     "data": {
      "text/plain": [
       "4"
      ]
     },
     "execution_count": 3,
     "metadata": {},
     "output_type": "execute_result"
    }
   ],
   "source": [
    "f.tell()  # возвращает текущую позицию"
   ]
  },
  {
   "cell_type": "code",
   "execution_count": 5,
   "id": "9ab84528",
   "metadata": {},
   "outputs": [
    {
     "data": {
      "text/plain": [
       "0"
      ]
     },
     "execution_count": 5,
     "metadata": {},
     "output_type": "execute_result"
    }
   ],
   "source": [
    "f.seek(0,0)  # вернем положение на 0 снова"
   ]
  },
  {
   "cell_type": "code",
   "execution_count": 6,
   "id": "caef3372",
   "metadata": {},
   "outputs": [],
   "source": [
    "f.close()"
   ]
  },
  {
   "cell_type": "markdown",
   "id": "b881d6cc",
   "metadata": {},
   "source": [
    "### Методы файла в Python\n",
    "`file.close()`\tзакрывает открытый файл\n",
    "\n",
    "`file.fileno()`\tвозвращает целочисленный дескриптор файла\n",
    "\n",
    "`file.flush()`\tочищает внутренний буфер\n",
    "\n",
    "`file.isatty()`\tвозвращает True, если файл привязан к терминалу\n",
    "\n",
    "`file.next()`\tвозвращает следующую строку файла\n",
    "\n",
    "`file.read(n)`\tчтение первых n символов файла\n",
    "\n",
    "`file.readline()`\tчитает одну строчку строки или файла\n",
    "\n",
    "`file.readlines()`\tчитает и возвращает список всех строк в файле\n",
    "\n",
    "`file.seek(offset[,whene]`)\tустанавливает текущую позицию в файле\n",
    "\n",
    "`file.seekable()`\tпроверяет, поддерживает ли файл случайный доступ. Возвращает True, если да\n",
    "\n",
    "`file.tell()`\tвозвращает текущую позицию в файле\n",
    "\n",
    "`file.truncate(n)`\tуменьшает размер файл. Если n указала, то файл обрезается до n байт, если нет — до текущей позиции\n",
    "\n",
    "`file.write(str)`\tдобавляет строку str в файл\n",
    "\n",
    "`file.writelines(sequence)`\tдобавляет последовательность строк в файл"
   ]
  },
  {
   "cell_type": "markdown",
   "id": "edfaeab8",
   "metadata": {},
   "source": [
    "# источник: https://pythonru.com/osnovy/fajly-v-python-vvod-vyvod"
   ]
  },
  {
   "cell_type": "code",
   "execution_count": null,
   "id": "b301807d",
   "metadata": {},
   "outputs": [],
   "source": []
  }
 ],
 "metadata": {
  "kernelspec": {
   "display_name": "Python 3 (ipykernel)",
   "language": "python",
   "name": "python3"
  },
  "language_info": {
   "codemirror_mode": {
    "name": "ipython",
    "version": 3
   },
   "file_extension": ".py",
   "mimetype": "text/x-python",
   "name": "python",
   "nbconvert_exporter": "python",
   "pygments_lexer": "ipython3",
   "version": "3.8.8"
  }
 },
 "nbformat": 4,
 "nbformat_minor": 5
}

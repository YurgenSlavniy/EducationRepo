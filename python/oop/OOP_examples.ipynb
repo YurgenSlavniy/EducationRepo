{
 "cells": [
  {
   "cell_type": "markdown",
   "id": "ab243d6f",
   "metadata": {},
   "source": [
    "# Задача 1. \n",
    "`Базовый уровень`\n",
    "### Условие:\n",
    "Создайте класс `Soda` (для определения типа газированной воды), принимающий 1 аргумент при инициализации (отвечающий за добавку к выбираемому лимонаду). \n",
    "\n",
    "В этом классе реализуйте метод `show_my_drink()`, выводящий на печать «Газировка и {ДОБАВКА}» в случае наличия добавки, а иначе отобразится следующая фраза: «Обычная газировка».\n",
    "\n",
    "При решении задания можно дополнительно проверить тип передаваемого аргумента: принимается только строка.\n",
    "\n",
    "\n",
    "### Решение:"
   ]
  },
  {
   "cell_type": "code",
   "execution_count": 1,
   "id": "626c80e5",
   "metadata": {},
   "outputs": [
    {
     "name": "stdout",
     "output_type": "stream",
     "text": [
      "Обычная газировка\n",
      "Газировка и малина\n",
      "Обычная газировка\n"
     ]
    }
   ],
   "source": [
    "class Soda:\n",
    "    def __init__(self, ingredient=None):\n",
    "        if isinstance(ingredient, str):\n",
    "            self.ingredient = ingredient\n",
    "        else:\n",
    "            self.ingredient = None\n",
    "\n",
    "    def show_my_drink(self):\n",
    "        if self.ingredient:\n",
    "            print(f'Газировка и {self.ingredient}')\n",
    "        else:\n",
    "            print('Обычная газировка')\n",
    "\n",
    "# Тесты\n",
    "drink1 = Soda()\n",
    "drink2 = Soda('малина')\n",
    "drink3 = Soda(5)\n",
    "drink1.show_my_drink()\n",
    "drink2.show_my_drink()\n",
    "drink3.show_my_drink()"
   ]
  },
  {
   "cell_type": "markdown",
   "id": "07a9a6e7",
   "metadata": {},
   "source": [
    "# Задача 2. \n",
    "`Базовый уровень`\n",
    "### Условие: \n",
    "\n",
    "Николаю требуется проверить, возможно ли из представленных отрезков условной длины сформировать треугольник. \n",
    "Для этого он решил создать `класс TriangleChecker`, принимающий только положительные числа. \n",
    "С помощью метода `is_triangle()` возвращаются следующие значения (в зависимости от ситуации):\n",
    "– Ура, можно построить треугольник!;\n",
    "– С отрицательными числами ничего не выйдет!;\n",
    "– Нужно вводить только числа!;\n",
    "– Жаль, но из этого треугольник не сделать.\n",
    "\n",
    "Построить треугольник из отрезков можно лишь в одном случае: сумма длин двух любых сторон всегда больше третьей.\n",
    "### Решение:"
   ]
  },
  {
   "cell_type": "code",
   "execution_count": 3,
   "id": "07f2cc89",
   "metadata": {},
   "outputs": [
    {
     "name": "stdout",
     "output_type": "stream",
     "text": [
      "Ура, можно построить треугольник!\n",
      "Жаль, но из этого треугольник не сделать\n",
      "Нужно вводить только числа!\n",
      "С отрицательными числами ничего не выйдет!\n"
     ]
    }
   ],
   "source": [
    "class TriangleChecker:\n",
    "    def __init__(self, sides):\n",
    "        self.sides = sides\n",
    "\n",
    "    def is_triangle(self):\n",
    "        if all(isinstance(side, (int, float)) for side in self.sides):\n",
    "            if all(side > 0 for side in self.sides):\n",
    "                sorted_sides = sorted(self.sides)\n",
    "                if sorted_sides[0] + sorted_sides[1] > sorted_sides[2]:\n",
    "                    return 'Ура, можно построить треугольник!'\n",
    "                return 'Жаль, но из этого треугольник не сделать'\n",
    "            return 'С отрицательными числами ничего не выйдет!'\n",
    "        return 'Нужно вводить только числа!'\n",
    " \n",
    " \n",
    "# Тесты\n",
    "triangle1 = TriangleChecker([2, 3, 4])\n",
    "print(triangle1.is_triangle())\n",
    "triangle2 = TriangleChecker([77, 3, 4])\n",
    "print(triangle2.is_triangle())\n",
    "triangle3 = TriangleChecker([77, 3, 'Сторона3'])\n",
    "print(triangle3.is_triangle())\n",
    "triangle4 = TriangleChecker([77, -3, 4])\n",
    "print(triangle4.is_triangle())"
   ]
  },
  {
   "cell_type": "markdown",
   "id": "7c2d6d8a",
   "metadata": {},
   "source": [
    "# Задача 3. \n",
    "`Базовый уровень`\n",
    "### Условие:\n",
    "\n",
    "Евгения создала `класс KgToPounds` с параметром kg, куда передается определенное количество килограмм, а с помощью метода `to_pounds()` они переводятся в фунты. Чтобы закрыть доступ к переменной “kg” она реализовала методы `set_kg()` - для задания нового значения килограммов, get_kg()  - для вывода текущего значения кг. Из-за этого возникло неудобство: нам нужно теперь использовать эти 2 метода для задания и вывода значений. Помогите ей переделать класс с использованием функции `property()` и свойств-декораторов. Код приведен ниже.\n",
    " "
   ]
  },
  {
   "cell_type": "code",
   "execution_count": null,
   "id": "24282883",
   "metadata": {},
   "outputs": [],
   "source": [
    "class KgToPounds:\n",
    "\n",
    "    def __init__(self, kg):\n",
    "        self.__kg = kg\n",
    "\n",
    "    def to_pounds(self):\n",
    "        return self.__kg * 2.205\n",
    "\n",
    "    def set_kg(self, new_kg):\n",
    "        if isinstance(new_kg, (int, float)):\n",
    "            self.__kg = new_kg\n",
    "        else:\n",
    "            raise ValueError('Килограммы задаются только числами')\n",
    "    \n",
    "    def get_kg(self):\n",
    "        return self.__kg"
   ]
  },
  {
   "cell_type": "markdown",
   "id": "d0125c29",
   "metadata": {},
   "source": [
    "Чтобы не задавать новые значения или не получать к ним доступ через два метода, можно реализовать предложенный класс через функцию property() или свойства-декораторы.\n",
    "\n",
    "### Решение:  Вариант решения 1. Функция property()"
   ]
  },
  {
   "cell_type": "code",
   "execution_count": 5,
   "id": "38c96125",
   "metadata": {},
   "outputs": [],
   "source": [
    "class KgToPounds:\n",
    "    def __init__(self, kg):\n",
    "        self.__kg = kg\n",
    "\n",
    "    def to_pounds(self):\n",
    "        return self.__kg * 2.205\n",
    "\n",
    "    def __set_kg(self, new_kg):\n",
    "        if isinstance(new_kg, (int, float)):\n",
    "            self.__kg = new_kg\n",
    "        else:\n",
    "            raise ValueError('Килограммы задаются только числами')\n",
    "\n",
    "    def __get_kg(self):\n",
    "        return self.__kg\n",
    "\n",
    "    kg = property(__get_kg, __set_kg)"
   ]
  },
  {
   "cell_type": "markdown",
   "id": "1c30ca29",
   "metadata": {},
   "source": [
    "### Решение. Вариант решения 2. Свойства-декораторы"
   ]
  },
  {
   "cell_type": "code",
   "execution_count": 6,
   "id": "bbe1cd44",
   "metadata": {},
   "outputs": [
    {
     "name": "stdout",
     "output_type": "stream",
     "text": [
      "26.46\n",
      "12\n",
      "41\n"
     ]
    },
    {
     "ename": "ValueError",
     "evalue": "Килограммы задаются только числами",
     "output_type": "error",
     "traceback": [
      "\u001b[0;31m---------------------------------------------------------------------------\u001b[0m",
      "\u001b[0;31mValueError\u001b[0m                                Traceback (most recent call last)",
      "Cell \u001b[0;32mIn[6], line 26\u001b[0m\n\u001b[1;32m     24\u001b[0m weight\u001b[38;5;241m.\u001b[39mkg \u001b[38;5;241m=\u001b[39m \u001b[38;5;241m41\u001b[39m\n\u001b[1;32m     25\u001b[0m \u001b[38;5;28mprint\u001b[39m(weight\u001b[38;5;241m.\u001b[39mkg)\n\u001b[0;32m---> 26\u001b[0m \u001b[43mweight\u001b[49m\u001b[38;5;241;43m.\u001b[39;49m\u001b[43mkg\u001b[49m \u001b[38;5;241m=\u001b[39m \u001b[38;5;124m'\u001b[39m\u001b[38;5;124mдесять\u001b[39m\u001b[38;5;124m'\u001b[39m\n",
      "Cell \u001b[0;32mIn[6], line 17\u001b[0m, in \u001b[0;36mKgToPounds.kg\u001b[0;34m(self, new_kg)\u001b[0m\n\u001b[1;32m     15\u001b[0m     \u001b[38;5;28mself\u001b[39m\u001b[38;5;241m.\u001b[39m__kg \u001b[38;5;241m=\u001b[39m new_kg\n\u001b[1;32m     16\u001b[0m \u001b[38;5;28;01melse\u001b[39;00m:\n\u001b[0;32m---> 17\u001b[0m     \u001b[38;5;28;01mraise\u001b[39;00m \u001b[38;5;167;01mValueError\u001b[39;00m(\u001b[38;5;124m'\u001b[39m\u001b[38;5;124mКилограммы задаются только числами\u001b[39m\u001b[38;5;124m'\u001b[39m)\n",
      "\u001b[0;31mValueError\u001b[0m: Килограммы задаются только числами"
     ]
    }
   ],
   "source": [
    "class KgToPounds:\n",
    "    def __init__(self, kg):\n",
    "        self.__kg = kg\n",
    "\n",
    "    def to_pounds(self):\n",
    "        return self.__kg * 2.205\n",
    "   \n",
    "    @property\n",
    "    def kg(self):\n",
    "        return self.__kg\n",
    "    \n",
    "    @kg.setter\n",
    "    def kg(self, new_kg):\n",
    "        if isinstance(new_kg, (int, float)):\n",
    "            self.__kg = new_kg\n",
    "        else:\n",
    "            raise ValueError('Килограммы задаются только числами')\n",
    " \n",
    " \n",
    "# Тесты\n",
    "weight = KgToPounds(12)\n",
    "print(weight.to_pounds())\n",
    "print(weight.kg)\n",
    "weight.kg = 41\n",
    "print(weight.kg)\n",
    "weight.kg = 'десять'"
   ]
  },
  {
   "cell_type": "markdown",
   "id": "acf6e977",
   "metadata": {},
   "source": [
    "# Задача 4. \n",
    "`Базовый уровень`\n",
    "### Условие: \n",
    "\n",
    "Николай – оригинальный человек. \n",
    "Он решил создать `класс Nikola`, принимающий при инициализации 2 параметра: имя и возраст. Но на этом он не успокоился. \n",
    "Не важно, какое имя передаст пользователь при создании экземпляра, оно всегда будет содержать “Николая”. \n",
    "В частности - если пользователя на самом деле зовут Николаем, то с именем ничего не произойдет, а если его зовут, например, Максим, то оно преобразуется в “Я не Максим, а Николай”.\n",
    "Более того, никаких других атрибутов и методов у экземпляра не может быть добавлено, даже если кто-то и вздумает так поступить (т.е. если некий пользователь решит прибавить к экземпляру свойство «отчество» или метод «приветствие», то ничего у такого хитреца не получится).\n",
    "\n",
    "Для ограничения количества наборов свойств и методов в экземпляре применяется специальный магический атрибут `__slots__.`\n",
    "### Решение:"
   ]
  },
  {
   "cell_type": "code",
   "execution_count": 8,
   "id": "8d260120",
   "metadata": {},
   "outputs": [
    {
     "name": "stdout",
     "output_type": "stream",
     "text": [
      "Я не Иван, а Николай\n",
      "Николай\n"
     ]
    },
    {
     "ename": "AttributeError",
     "evalue": "'Nikola' object has no attribute 'surname'",
     "output_type": "error",
     "traceback": [
      "\u001b[0;31m---------------------------------------------------------------------------\u001b[0m",
      "\u001b[0;31mAttributeError\u001b[0m                            Traceback (most recent call last)",
      "Cell \u001b[0;32mIn[8], line 17\u001b[0m\n\u001b[1;32m     15\u001b[0m \u001b[38;5;28mprint\u001b[39m(person1\u001b[38;5;241m.\u001b[39mname)\n\u001b[1;32m     16\u001b[0m \u001b[38;5;28mprint\u001b[39m(person2\u001b[38;5;241m.\u001b[39mname)\n\u001b[0;32m---> 17\u001b[0m \u001b[43mperson2\u001b[49m\u001b[38;5;241;43m.\u001b[39;49m\u001b[43msurname\u001b[49m \u001b[38;5;241m=\u001b[39m \u001b[38;5;124m'\u001b[39m\u001b[38;5;124mПетров\u001b[39m\u001b[38;5;124m'\u001b[39m\n",
      "\u001b[0;31mAttributeError\u001b[0m: 'Nikola' object has no attribute 'surname'"
     ]
    }
   ],
   "source": [
    "class Nikola:\n",
    "    __slots__ = ['name', 'age']\n",
    " \n",
    "    def __init__(self, name, age):\n",
    "        if name == 'Николай':\n",
    "            self.name = name\n",
    "        else:\n",
    "            self.name = f'Я не {name}, а Николай'\n",
    "        self.age = age\n",
    " \n",
    " \n",
    "# Тесты\n",
    "person1 = Nikola('Иван', 31)\n",
    "person2 = Nikola('Николай', 14)\n",
    "print(person1.name)\n",
    "print(person2.name)\n",
    "person2.surname = 'Петров'"
   ]
  },
  {
   "cell_type": "markdown",
   "id": "869bfa7d",
   "metadata": {},
   "source": [
    "# Задача 5*. \n",
    "`Продвинутый уровень`\n",
    "### Условие:\n",
    "\n",
    "Строки в Питоне сравниваются на основании значений символов. \n",
    "Т.е. если мы захотим выяснить, что больше: «Apple» или «Яблоко», – то «Яблоко» окажется бОльшим. \n",
    "А все потому, что английская буква «A» имеет значение 65 (берется из таблицы кодировки), а русская буква «Я» – 1071 (с помощью функции ord() это можно выяснить). \n",
    "Такое положение дел не устроило Анну. \n",
    "Она считает, что строки нужно сравнивать по количеству входящих в них символов.\n",
    "Для этого девушка создала класс RealString и реализовала озвученный инструментарий. Сравнивать между собой можно как объекты класса, так и обычные строки с экземплярами класса RealString. \n",
    "К слову, Анне понадобилось только 3 метода внутри класса (включая __init__()) для воплощения задуманного.\n",
    "\n",
    "В общем случае для создания такого класса понадобится 4 метода, так как в Питоне реализованы «богатые» сравнения. Это значит, что если имеется сравнение «больше», то автоматом появится возможность осуществлять сравнение «меньше»."
   ]
  },
  {
   "cell_type": "code",
   "execution_count": 10,
   "id": "a6631ee7",
   "metadata": {},
   "outputs": [],
   "source": [
    "class RealString:\n",
    "    def __init__(self, some_str):\n",
    "        self.some_str = str(some_str)\n",
    " \n",
    "    def __eq__(self, other):\n",
    "        if not isinstance(other, RealString):\n",
    "            other = RealString(other)\n",
    "        return len(self.some_str) == len(other.some_str)\n",
    " \n",
    "    def __lt__(self, other):\n",
    "        if not isinstance(other, RealString):\n",
    "            other = RealString(other)\n",
    "        return len(self.some_str) < len(other.some_str)\n",
    " \n",
    "    def __le__(self, other):\n",
    "        return self == other or self < other"
   ]
  },
  {
   "cell_type": "markdown",
   "id": "9de2dacd",
   "metadata": {},
   "source": [
    "Чтобы повторить класс, придуманный Анной (с тремя методами), требуется воспользоваться декоратором __@total_ordering__ из модуля functools (упрощает реализацию сравнений. Требует лишь 2 дополняющих варианта сравнения - например, больше и равно - чтобы автоматически \"дописать\" остальные).\n",
    "### Решение:"
   ]
  },
  {
   "cell_type": "code",
   "execution_count": 12,
   "id": "b486dd64",
   "metadata": {},
   "outputs": [
    {
     "name": "stdout",
     "output_type": "stream",
     "text": [
      "True\n",
      "False\n",
      "True\n"
     ]
    }
   ],
   "source": [
    "from functools import total_ordering\n",
    " \n",
    " \n",
    "@total_ordering\n",
    "class RealString:\n",
    "    def __init__(self, some_str):\n",
    "        self.some_str = str(some_str)\n",
    " \n",
    "    def __eq__(self, other):\n",
    "        if not isinstance(other, RealString):\n",
    "            other = RealString(other)\n",
    "        return len(self.some_str) == len(other.some_str)\n",
    " \n",
    "    def __lt__(self, other):\n",
    "        if not isinstance(other, RealString):\n",
    "            other = RealString(other)\n",
    "        return len(self.some_str) < len(other.some_str)\n",
    " \n",
    " \n",
    "# Тесты\n",
    "str1 = RealString('Молоко')\n",
    "str2 = RealString('Абрикосы растут')\n",
    "str3 = 'Золото'\n",
    "str4 = [1, 2, 3]\n",
    "print(str1 < str4)\n",
    "print(str1 >= str2)\n",
    "print(str1 == str3)\n"
   ]
  },
  {
   "cell_type": "markdown",
   "id": "7a866473",
   "metadata": {},
   "source": [
    "# 1. Пример \"Introduction\""
   ]
  },
  {
   "cell_type": "code",
   "execution_count": 1,
   "id": "0e28d377",
   "metadata": {},
   "outputs": [
    {
     "name": "stdout",
     "output_type": "stream",
     "text": [
      "BMW\n",
      "BMW\n",
      "Let's go\n",
      "Let's go\n",
      "{'__module__': '__main__', 'model': 'new model', 'engine': 1.6, 'drive': <function Car.drive at 0x7f32404ef160>, '__dict__': <attribute '__dict__' of 'Car' objects>, '__weakref__': <attribute '__weakref__' of 'Car' objects>, '__doc__': None}\n",
      "{}\n"
     ]
    }
   ],
   "source": [
    "class Car: # класс\n",
    "    model = 'BMW' # атрибуты класса\n",
    "    engine = 1.6\n",
    "    \n",
    "    def drive(): # метод класса\n",
    "        print(\"Let's go\")\n",
    "\n",
    "example = Car() # экземпляр класса\n",
    "\n",
    "# обращение к атбрибуту через класс или экземпляр\n",
    "print(Car.model) \n",
    "print(example.model)\n",
    "\n",
    "# вызов ф-ии через класс\n",
    "Car.drive()\n",
    "getattr(Car, 'drive')()\n",
    "\n",
    "# создание и изменение значения атрибута\n",
    "Car.model = 'new model'\n",
    "Car.new_attribute = 'creation_new_attribute'\n",
    "setattr(Car, 'new_attr', 'change_new_attr')\n",
    "\n",
    "# удаление атрибута\n",
    "del Car.new_attribute\n",
    "delattr(Car, 'new_attr')\n",
    "\n",
    "# посмотреть атрибуты класса или экземпляра\n",
    "print(Car.__dict__) \n",
    "print(example.__dict__)"
   ]
  },
  {
   "cell_type": "markdown",
   "id": "97d094e6",
   "metadata": {},
   "source": [
    "# 2.1 Пример \"Methods and properties. self\""
   ]
  },
  {
   "cell_type": "code",
   "execution_count": 4,
   "id": "9a48ba6e",
   "metadata": {},
   "outputs": [],
   "source": [
    "class Cat:\n",
    "    breed = 'pers'\n",
    "    def hello(*args):\n",
    "        print('Hello world from kitty', args)\n",
    "        \n",
    "    def show_breed(self):\n",
    "        print(f'my breed is {self.breed}')\n",
    "    \n",
    "    def show_name(self):\n",
    "        if hasattr(self, 'name'):\n",
    "            print(f'my name is {self.name}')\n",
    "        else:\n",
    "            print('nothing')\n",
    "            \n",
    "    def set_value(self, value, age=0):\n",
    "        self.value = value\n",
    "        self.age = age\n",
    "        print(f'My value is {self.value}. My age is {self.age}')\n",
    "        \n",
    "    def new_method(self):\n",
    "        print(self)\n",
    "\n",
    "tom = Cat()"
   ]
  },
  {
   "cell_type": "code",
   "execution_count": 5,
   "id": "65d43c73",
   "metadata": {},
   "outputs": [
    {
     "name": "stdout",
     "output_type": "stream",
     "text": [
      "Hello world from kitty (<__main__.Cat object at 0x7f3240569730>, 'Tom', 'Mia', 'Jerry')\n"
     ]
    }
   ],
   "source": [
    "tom.hello('Tom', 'Mia', 'Jerry')"
   ]
  },
  {
   "cell_type": "code",
   "execution_count": 6,
   "id": "66e1fdbd",
   "metadata": {},
   "outputs": [
    {
     "name": "stdout",
     "output_type": "stream",
     "text": [
      "my breed is pers\n"
     ]
    }
   ],
   "source": [
    "tom.show_breed()"
   ]
  },
  {
   "cell_type": "code",
   "execution_count": 7,
   "id": "739695d6",
   "metadata": {},
   "outputs": [
    {
     "name": "stdout",
     "output_type": "stream",
     "text": [
      "nothing\n"
     ]
    }
   ],
   "source": [
    "tom.show_name()"
   ]
  },
  {
   "cell_type": "code",
   "execution_count": 8,
   "id": "4c3e54d7",
   "metadata": {},
   "outputs": [
    {
     "name": "stdout",
     "output_type": "stream",
     "text": [
      "My value is Tom. My age is 0\n"
     ]
    }
   ],
   "source": [
    "tom.set_value('Tom')"
   ]
  },
  {
   "cell_type": "code",
   "execution_count": 9,
   "id": "fd25490b",
   "metadata": {},
   "outputs": [
    {
     "name": "stdout",
     "output_type": "stream",
     "text": [
      "<__main__.Cat object at 0x7f3240569730>\n"
     ]
    }
   ],
   "source": [
    "tom.new_method()"
   ]
  },
  {
   "cell_type": "markdown",
   "id": "555968f2",
   "metadata": {},
   "source": [
    "# 2.2 Пример \"Methods and properties. init\"\n",
    "### пример 1:"
   ]
  },
  {
   "cell_type": "code",
   "execution_count": 11,
   "id": "35dba073",
   "metadata": {},
   "outputs": [
    {
     "name": "stdout",
     "output_type": "stream",
     "text": [
      "Полоска белая\n",
      "Полоска черная\n",
      "Полоска белая\n",
      "Полоска белая\n"
     ]
    }
   ],
   "source": [
    "class Zebra:\n",
    "    \n",
    "    def __init__(self):\n",
    "        self.color = 0\n",
    "        \n",
    "    def which_stripe(self):\n",
    "        if self.color == 0:\n",
    "            print(\"Полоска белая\")\n",
    "            self.color = 1\n",
    "            return\n",
    "        if self.color == 1:\n",
    "            print(\"Полоска черная\")\n",
    "            self.color = 0\n",
    "            return\n",
    "z1 = Zebra()\n",
    "z1.which_stripe() # печатает \"Полоска белая\"\n",
    "z1.which_stripe() # печатает \"Полоска черная\"\n",
    "z1.which_stripe() # печатает \"Полоска белая\"\n",
    "\n",
    "z2 = Zebra()\n",
    "z2.which_stripe() # печатает \"Полоска белая\""
   ]
  },
  {
   "cell_type": "markdown",
   "id": "394d0120",
   "metadata": {},
   "source": [
    "### пример 2:"
   ]
  },
  {
   "cell_type": "code",
   "execution_count": 14,
   "id": "eac82e1a",
   "metadata": {},
   "outputs": [
    {
     "name": "stdout",
     "output_type": "stream",
     "text": [
      "Messi Leo - голы: 700, передачи: 500\n",
      "Kokorin Alex - голы: 1, передачи: 0\n"
     ]
    }
   ],
   "source": [
    "class SoccerPlayer:\n",
    "    def __init__(self, name, surname):\n",
    "        self.name = name\n",
    "        self.surname = surname\n",
    "        self.goals = 0\n",
    "        self.assists = 0\n",
    "    def score(self, goals=1):\n",
    "        self.goals += goals\n",
    "    def make_assist(self, assists=1):\n",
    "        self.assists += assists\n",
    "    def statistics(self):\n",
    "        print(f'{self.surname} {self.name} - голы: {self.goals}, передачи: {self.assists}')\n",
    "\n",
    "leo = SoccerPlayer('Leo', 'Messi')\n",
    "leo.score(700)\n",
    "leo.make_assist(500)\n",
    "leo.statistics() # выводит \"Messi Leo - голы: 700, передачи: 500\"\n",
    "kokorin = SoccerPlayer('Alex', 'Kokorin')\n",
    "kokorin.score()\n",
    "kokorin.statistics() # выводит \"Kokorin Alex - голы: 1, передачи: 0\""
   ]
  },
  {
   "cell_type": "markdown",
   "id": "d34751e1",
   "metadata": {},
   "source": [
    "### пример 3:"
   ]
  },
  {
   "cell_type": "code",
   "execution_count": 16,
   "id": "0d990666",
   "metadata": {},
   "outputs": [
    {
     "name": "stdout",
     "output_type": "stream",
     "text": [
      "Hendrix Jimi\n",
      "True\n"
     ]
    }
   ],
   "source": [
    "class Person:\n",
    "    def __init__(self, first_name, last_name, age):\n",
    "        self.first_name = first_name\n",
    "        self.last_name = last_name \n",
    "        self.age = age\n",
    "    def full_name(self):\n",
    "        return f'{self.last_name} {self.first_name}'\n",
    "    def is_adult(self):\n",
    "        return self.age >= 18\n",
    "\n",
    "p1 = Person('Jimi', 'Hendrix', 55)\n",
    "print(p1.full_name())  # выводит \"Hendrix Jimi\"\n",
    "print(p1.is_adult()) # выводит \"True\""
   ]
  },
  {
   "cell_type": "markdown",
   "id": "703c8fc8",
   "metadata": {},
   "source": [
    "### пример 4:"
   ]
  },
  {
   "cell_type": "code",
   "execution_count": 18,
   "id": "62c0b10f",
   "metadata": {},
   "outputs": [],
   "source": [
    "from math import sqrt\n",
    "\n",
    "class Point:\n",
    "    list_points = []\n",
    "    \n",
    "    def __init__(self, coord_x=0, coord_y=0):\n",
    "        self.move_to(coord_x, coord_y) \n",
    "        Point.list_points.append(self)\n",
    "        \n",
    "    def move_to(self, new_x, new_y):\n",
    "        self.x = new_x\n",
    "        self.y = new_y\n",
    "        \n",
    "    def go_home(self):\n",
    "        self.move_to(0,0)\n",
    "        \n",
    "    def print_point(self):\n",
    "        print(f'Точка с координатами ({self.x}, {self.y})')\n",
    "        \n",
    "    def calc_distance(self, another_point):\n",
    "        if not isinstance(another_point, Point):\n",
    "            raise ValueError('Аргумент должен принадлежать классу Point')\n",
    "            \n",
    "        return sqrt((self.x - another_point.x)**2 + (self.y - another_point.y)**2)"
   ]
  },
  {
   "cell_type": "markdown",
   "id": "7421b0ae",
   "metadata": {},
   "source": [
    "### пример 5:"
   ]
  },
  {
   "cell_type": "code",
   "execution_count": 20,
   "id": "8ba502ca",
   "metadata": {},
   "outputs": [
    {
     "name": "stdout",
     "output_type": "stream",
     "text": [
      "Jack is 4 years old\n",
      "Jack says Woof Woof\n",
      "Jack says Bow Wow\n"
     ]
    }
   ],
   "source": [
    "class Dog:\n",
    "    def __init__(self, name, age):\n",
    "        self.name = name\n",
    "        self.age = age\n",
    "        \n",
    "    def description(self):\n",
    "        return f\"{self.name} is {self.age} years old\"\n",
    "    \n",
    "    def speak(self, sound):\n",
    "        return f\"{self.name} says {sound}\"\n",
    "\n",
    "jack = Dog(\"Jack\", 4)\n",
    "\n",
    "print(jack.description()) # распечатает 'Jack is 4 years old'\n",
    "print(jack.speak(\"Woof Woof\")) # распечатает 'Jack says Woof Woof'\n",
    "print(jack.speak(\"Bow Wow\")) # распечатает 'Jack says Bow Wow'"
   ]
  },
  {
   "cell_type": "markdown",
   "id": "11644862",
   "metadata": {},
   "source": [
    "### пример 6:"
   ]
  },
  {
   "cell_type": "code",
   "execution_count": 23,
   "id": "573eda28",
   "metadata": {},
   "outputs": [
    {
     "name": "stdout",
     "output_type": "stream",
     "text": [
      "Empty Stack\n",
      "True\n",
      "dog\n",
      "3\n",
      "False\n",
      "777\n",
      "True\n",
      "2\n"
     ]
    }
   ],
   "source": [
    "class Stack:\n",
    "    \n",
    "    def __init__(self):\n",
    "        self.values = []\n",
    "        \n",
    "    def push(self, item):\n",
    "        self.values.append(item)\n",
    "    \n",
    "    def pop(self):\n",
    "        if len(self.values) > 0:\n",
    "            pop_values = self.values.pop(len(self.values) - 1)\n",
    "            return pop_values\n",
    "        else:\n",
    "            print(\"Empty Stack\")\n",
    "            \n",
    "    def peek(self):\n",
    "        if len(self.values) > 0:\n",
    "            return self.values[len(self.values) - 1]\n",
    "        else:\n",
    "            print(\"Empty Stack\")        \n",
    "            return None\n",
    "    \n",
    "    def is_empty(self):\n",
    "        return len(self.values) == 0\n",
    "    \n",
    "    def size(self):\n",
    "        return len(self.values)\n",
    "\n",
    "s = Stack()\n",
    "s.peek()  # распечатает 'Empty Stack'\n",
    "print(s.is_empty())  # распечатает True\n",
    "s.push('cat')  # кладем элемент 'cat' на вершину стека\n",
    "s.push('dog')  # кладем элемент 'dog' на вершину стека\n",
    "print(s.peek())  # распечатает 'dog'\n",
    "s.push(True)  # кладем элемент True на вершину стека\n",
    "print(s.size())  # распечатает 3\n",
    "print(s.is_empty())  # распечатает False\n",
    "s.push(777)  # кладем элемент 777 на вершину стека\n",
    "print(s.pop())  # удаляем элемент 777 с вершины стека и печатаем его\n",
    "print(s.pop())  # удаляем элемент True с вершины стека и печатаем его\n",
    "print(s.size())  # распечатает 2"
   ]
  },
  {
   "cell_type": "markdown",
   "id": "5d66734a",
   "metadata": {},
   "source": [
    "# 2.3 Пример \"Methods and properties. mono-state\""
   ]
  },
  {
   "cell_type": "code",
   "execution_count": 24,
   "id": "014913d2",
   "metadata": {},
   "outputs": [
    {
     "name": "stdout",
     "output_type": "stream",
     "text": [
      "{'breed': 'pers', 'color': 'black'}\n",
      "{'breed': 'pers', 'color': 'black'}\n",
      "{'breed': 'siam', 'color': 'black', 'name': 'Bob'}\n"
     ]
    }
   ],
   "source": [
    "class Cat:\n",
    "    __shared_attr = {\n",
    "        'breed': 'pers',\n",
    "        'color': 'black'\n",
    "    }\n",
    "    \n",
    "    def __init__(self):\n",
    "        self.__dict__ = Cat.__shared_attr\n",
    "        print(self.__dict__)\n",
    "\n",
    "d = Cat()\n",
    "g = Cat()\n",
    "d.breed = 'siam'\n",
    "d.name = 'Bob'\n",
    "d = Cat()"
   ]
  },
  {
   "cell_type": "markdown",
   "id": "85dcfc5c",
   "metadata": {},
   "source": [
    "# 2.4 Пример \"Methods and properties. public,protected,private\"\n",
    "### public"
   ]
  },
  {
   "cell_type": "code",
   "execution_count": 26,
   "id": "d98f91f9",
   "metadata": {},
   "outputs": [
    {
     "name": "stdout",
     "output_type": "stream",
     "text": [
      "Bob 100000 454545454554\n",
      "Bob\n",
      "100000\n",
      "454545454554\n"
     ]
    }
   ],
   "source": [
    "# публичные атрибуты и методы\n",
    "# обращение через метод или аргумент account1.print_public_data(), account1.name \n",
    "\n",
    "class BankAccount:\n",
    "    \n",
    "    def __init__(self, name, balance, passport):\n",
    "        self.name = name\n",
    "        self.balance = balance\n",
    "        self.passport = passport\n",
    "        \n",
    "    def print_public_data(self):\n",
    "        print(self.name, self.balance, self.passport)\n",
    "\n",
    "account = BankAccount('Bob', 100000, 454545454554)\n",
    "account.print_public_data()\n",
    "print(account.name)\n",
    "print(account.balance)\n",
    "print(account.passport)"
   ]
  },
  {
   "cell_type": "markdown",
   "id": "ea3e24f8",
   "metadata": {},
   "source": [
    "### protected"
   ]
  },
  {
   "cell_type": "code",
   "execution_count": 27,
   "id": "07868313",
   "metadata": {},
   "outputs": [
    {
     "name": "stdout",
     "output_type": "stream",
     "text": [
      "Mia 120000 1212121212\n",
      "Mia\n",
      "120000\n",
      "1212121212\n"
     ]
    }
   ],
   "source": [
    "# защищенные атрибуты и методы позволяют нам обратиться к ним вне класса\n",
    "# для разработчиков это метка, что лучше обращаться внутри класса\n",
    "# одно подчеркивание self._name\n",
    "\n",
    "class BankAccount:\n",
    "    \n",
    "    def __init__(self, name, balance, passport):\n",
    "        self._name = name\n",
    "        self._balance = balance\n",
    "        self._passport = passport\n",
    "        \n",
    "    def print_protected_data(self):\n",
    "        print(self._name, self._balance, self._passport)\n",
    "\n",
    "account = BankAccount('Mia', 120000, 1212121212)\n",
    "account.print_protected_data()\n",
    "print(account._name)\n",
    "print(account._balance)\n",
    "print(account._passport)"
   ]
  },
  {
   "cell_type": "markdown",
   "id": "f2c46578",
   "metadata": {},
   "source": [
    "### private"
   ]
  },
  {
   "cell_type": "code",
   "execution_count": 29,
   "id": "e4e570b6",
   "metadata": {},
   "outputs": [
    {
     "name": "stdout",
     "output_type": "stream",
     "text": [
      "Jerry 32032568 6565656565\n",
      "Jerry 32032568 6565656565\n",
      "Jerry\n",
      "32032568\n",
      "6565656565\n"
     ]
    }
   ],
   "source": [
    "# приватный метод позволяет образаться к атрибутам или методам класса только внутри класса\n",
    "# два подчеркивания self.__name\n",
    "\n",
    "class BankAccount:\n",
    "    \n",
    "    def __init__(self, name, balance, passport):\n",
    "        self.__name = name\n",
    "        self.__balance = balance\n",
    "        self.__passport = passport\n",
    "    \n",
    "    def print_public_data(self):\n",
    "        self.__print_private_data()    \n",
    "    \n",
    "    def __print_private_data(self):\n",
    "        print(self.__name, self.__balance, self.__passport)\n",
    "\n",
    "account = BankAccount('Jerry', 32032568, 6565656565)\n",
    "account.print_public_data()\n",
    "account._BankAccount__print_private_data() # через класс можем вызвать приватный метод\n",
    "print(account._BankAccount__name) # через класс можем вызвать приватный атрибут\n",
    "print(account._BankAccount__balance)\n",
    "print(account._BankAccount__passport)"
   ]
  },
  {
   "cell_type": "markdown",
   "id": "1290d834",
   "metadata": {},
   "source": [
    "# 2.5 Пример \"Methods and properties. get,set,property\"\n",
    "### пример 1:"
   ]
  },
  {
   "cell_type": "code",
   "execution_count": 32,
   "id": "7776e538",
   "metadata": {},
   "outputs": [
    {
     "name": "stdout",
     "output_type": "stream",
     "text": [
      "get balance\n",
      "set balance\n",
      "delete balance\n",
      "set balance\n",
      "get balance\n"
     ]
    },
    {
     "data": {
      "text/plain": [
       "450"
      ]
     },
     "execution_count": 32,
     "metadata": {},
     "output_type": "execute_result"
    }
   ],
   "source": [
    "class BankAccount:   \n",
    "    def __init__(self, name, balance):\n",
    "        self.name = name\n",
    "        self.__balance = balance\n",
    "        \n",
    "    def get_balance(self):\n",
    "        print('get balance')        \n",
    "        return self.__balance\n",
    "    \n",
    "    def set_balance(self, value):\n",
    "        print('set balance')\n",
    "        if not isinstance(value, (int, float)):\n",
    "            raise ValueError('Баланс должен быть числом')\n",
    "        self.__balance = value\n",
    "        \n",
    "    def del_balance(self):\n",
    "        print('delete balance')\n",
    "        del self.__balance   \n",
    "        \n",
    "    balance = property(fget=get_balance, fset=set_balance, fdel=del_balance) # свойство класса\n",
    "    \n",
    "d = BankAccount('Nasty', 500)\n",
    "d.balance\n",
    "d.balance = 550\n",
    "del d.balance\n",
    "d.balance = 450\n",
    "d.balance"
   ]
  },
  {
   "cell_type": "markdown",
   "id": "f715dc76",
   "metadata": {},
   "source": [
    "### пример 2:"
   ]
  },
  {
   "cell_type": "code",
   "execution_count": 34,
   "id": "fe66242a",
   "metadata": {},
   "outputs": [
    {
     "name": "stdout",
     "output_type": "stream",
     "text": [
      "prince@wait.you\n",
      "Ошибочная почта\n",
      "Ошибочная почта\n",
      "prince@still.wait\n"
     ]
    }
   ],
   "source": [
    "class UserMail:\n",
    "    \n",
    "    def __init__(self, login, email):\n",
    "        self.login = login\n",
    "        self.__email = email\n",
    "        \n",
    "    def get_email(self):\n",
    "        return self.__email\n",
    "    \n",
    "    def set_email(self, value):\n",
    "        if not isinstance(value, str):\n",
    "            print(\"Ошибочная почта\")\n",
    "        elif value.count('@') == 1 and value.rfind('.') > value.rfind('@'):\n",
    "            self.__email = value\n",
    "        else:\n",
    "            print(\"Ошибочная почта\")\n",
    "    \n",
    "    email = property(fget=get_email, fset=set_email)\n",
    "\n",
    "k = UserMail('belosnezhka', 'prince@wait.you')\n",
    "print(k.email)  # prince@wait.you\n",
    "k.email = [1, 2, 3] # Ошибочная почта\n",
    "k.email = 'prince@still@.wait'  # Ошибочная почта\n",
    "k.email = 'prince@still.wait'\n",
    "print(k.email)  # prince@still.wait"
   ]
  },
  {
   "cell_type": "markdown",
   "id": "b44162be",
   "metadata": {},
   "source": [
    "# 2.6  Пример \"Methods and properties. decorator\"\n",
    "### пример 1:"
   ]
  },
  {
   "cell_type": "code",
   "execution_count": 36,
   "id": "178cf936",
   "metadata": {},
   "outputs": [
    {
     "name": "stdout",
     "output_type": "stream",
     "text": [
      "get balance\n",
      "1000\n",
      "set balance\n",
      "get balance\n",
      "2000\n",
      "delete balance\n"
     ]
    }
   ],
   "source": [
    "class BankAccount:\n",
    "    \n",
    "    def __init__(self, name, balance):\n",
    "        self.name = name\n",
    "        self.__balance = balance\n",
    "    \n",
    "    @property # my_balance = property(my_balance) - свойство\n",
    "    def my_balance(self):\n",
    "        print('get balance')        \n",
    "        return self.__balance\n",
    "    \n",
    "    # my_property = my_balance\n",
    "    \n",
    "    @my_balance.setter # my_balance = my_property.setter(my_balance)\n",
    "    def my_balance(self, value):\n",
    "        print('set balance')\n",
    "        if not isinstance(value, (int, float)):\n",
    "            raise ValueError('Баланс должен быть числом')\n",
    "        self.__balance = value  \n",
    "        \n",
    "    @my_balance.deleter\n",
    "    def my_balance(self):\n",
    "        print('delete balance')\n",
    "        del self.__balance  \n",
    "\n",
    "g = BankAccount('Ily', 1000)\n",
    "print(g.my_balance)\n",
    "g.my_balance = 2000\n",
    "print(g.my_balance)\n",
    "del g.my_balance"
   ]
  },
  {
   "cell_type": "markdown",
   "id": "2250ebf4",
   "metadata": {},
   "source": [
    "### пример 2:"
   ]
  },
  {
   "cell_type": "code",
   "execution_count": 50,
   "id": "fc8bcb29",
   "metadata": {},
   "outputs": [
    {
     "name": "stdout",
     "output_type": "stream",
     "text": [
      "Ваше состояние составляет 101 долларов 99 центов\n",
      "101 99\n",
      "Ваше состояние составляет 666 долларов 99 центов\n",
      "Ваше состояние составляет 666 долларов 12 центов\n"
     ]
    }
   ],
   "source": [
    "class Money:\n",
    "    def __init__(self, dollars, cents):\n",
    "        self.total_cents = dollars * 100 + cents\n",
    "      \n",
    "    @property\n",
    "    def dollars(self):\n",
    "        return self.total_cents // 100\n",
    "    \n",
    "    @dollars.setter\n",
    "    def dollars(self, value_dollars):\n",
    "        if isinstance(value_dollars, int) and value_dollars >= 0:\n",
    "            self.total_cents = value_dollars*100 + self.total_cents % 100\n",
    "        else:\n",
    "            print(\"Error dollars\")\n",
    "            \n",
    "    @property\n",
    "    def cents(self):\n",
    "        return self.total_cents % 100      \n",
    "        \n",
    "    @cents.setter\n",
    "    def cents(self, value_cents):\n",
    "        if isinstance(value_cents, int) and 0 <= value_cents < 100:\n",
    "            self.total_cents = (self.total_cents // 100) * 100 + value_cents\n",
    "        else:\n",
    "            print(\"Error cents\")\n",
    "            \n",
    "    def __str__(self):\n",
    "        return f'Ваше состояние составляет {self.total_cents // 100} долларов {self.total_cents % 100} центов'\n",
    "\n",
    "Bill = Money(101, 99)\n",
    "print(Bill)  # Ваше состояние составляет 101 долларов 99 центов\n",
    "print(Bill.dollars, Bill.cents)  # 101 99\n",
    "Bill.dollars = 666\n",
    "print(Bill)  # Ваше состояние составляет 666 долларов 99 центов\n",
    "Bill.cents = 12\n",
    "print(Bill)  # Ваше состояние составляет 666 долларов 12 центов"
   ]
  },
  {
   "cell_type": "markdown",
   "id": "e0e6c9c4",
   "metadata": {},
   "source": [
    "# 2.7 Пример \"Methods and properties. calculated properties\"\n",
    "### password.txt"
   ]
  },
  {
   "cell_type": "code",
   "execution_count": null,
   "id": "988a987b",
   "metadata": {},
   "outputs": [],
   "source": [
    "# password.txt\n",
    "123456\n",
    "123456789\n",
    "picture1\n",
    "password1\n",
    "12345678\n",
    "111111\n",
    "123123\n",
    "12345\n",
    "1234567890\n",
    "senha\n",
    "1234567\n",
    "qwerty1:"
   ]
  },
  {
   "cell_type": "markdown",
   "id": "01835514",
   "metadata": {},
   "source": [
    "### пример 1: "
   ]
  },
  {
   "cell_type": "code",
   "execution_count": 47,
   "id": "e377b705",
   "metadata": {},
   "outputs": [
    {
     "name": "stdout",
     "output_type": "stream",
     "text": [
      "calculate area\n",
      "100\n",
      "calculate area\n",
      "144\n"
     ]
    }
   ],
   "source": [
    "# Задача: необходимо вычислить площать квадрата\n",
    "# Условия: \n",
    "# 1. При изменении стороны экземпляра меняется площадь квадрата.\n",
    "# 2. При уже вычисленном значении площади повторно не вычисляем, возвращаем уже вычисленное\n",
    "\n",
    "class Square:\n",
    "    def __init__(self, s):\n",
    "        self.__side = s\n",
    "        self.__area = None\n",
    "        \n",
    "    @property\n",
    "    def side(self):\n",
    "        return self.__side\n",
    "    \n",
    "    @side.setter\n",
    "    def side(self, value):\n",
    "        self.__side = value\n",
    "        self.__area = None\n",
    "        \n",
    "    @property\n",
    "    def area(self):\n",
    "        if self.__area is None:\n",
    "            print('calculate area')\n",
    "            self.__area = self.__side**2\n",
    "        return self.__area\n",
    "\n",
    "a = Square(10)\n",
    "print(a.area)\n",
    "a.side = 12\n",
    "print(a.area)"
   ]
  },
  {
   "cell_type": "markdown",
   "id": "bf930642",
   "metadata": {},
   "source": [
    "### пример 2: "
   ]
  },
  {
   "cell_type": "code",
   "execution_count": 49,
   "id": "72ecce86",
   "metadata": {},
   "outputs": [
    {
     "name": "stdout",
     "output_type": "stream",
     "text": [
      "Введите пароль: остров сокровищ\n"
     ]
    },
    {
     "ename": "ValueError",
     "evalue": "Неверный пароль",
     "output_type": "error",
     "traceback": [
      "\u001b[0;31m---------------------------------------------------------------------------\u001b[0m",
      "\u001b[0;31mValueError\u001b[0m                                Traceback (most recent call last)",
      "Cell \u001b[0;32mIn[49], line 52\u001b[0m\n\u001b[1;32m     49\u001b[0m         \u001b[38;5;28mself\u001b[39m\u001b[38;5;241m.\u001b[39m__password \u001b[38;5;241m=\u001b[39m value\n\u001b[1;32m     51\u001b[0m user \u001b[38;5;241m=\u001b[39m User(\u001b[38;5;124m'\u001b[39m\u001b[38;5;124mwww\u001b[39m\u001b[38;5;124m'\u001b[39m, \u001b[38;5;124m'\u001b[39m\u001b[38;5;124mpass1word1\u001b[39m\u001b[38;5;124m'\u001b[39m)\n\u001b[0;32m---> 52\u001b[0m \u001b[38;5;28mprint\u001b[39m(\u001b[43muser\u001b[49m\u001b[38;5;241;43m.\u001b[39;49m\u001b[43msecret\u001b[49m)\n\u001b[1;32m     53\u001b[0m user\u001b[38;5;241m.\u001b[39mpassword \u001b[38;5;241m=\u001b[39m \u001b[38;5;241m123\u001b[39m \u001b[38;5;66;03m# TypeError: Пароль должен быть строкой\u001b[39;00m\n\u001b[1;32m     54\u001b[0m user\u001b[38;5;241m.\u001b[39mpassword \u001b[38;5;241m=\u001b[39m \u001b[38;5;124m'\u001b[39m\u001b[38;5;124mg13\u001b[39m\u001b[38;5;124m'\u001b[39m \u001b[38;5;66;03m# ValueError: Пароль должен быть больше 4 символов\u001b[39;00m\n",
      "Cell \u001b[0;32mIn[49], line 16\u001b[0m, in \u001b[0;36mUser.secret\u001b[0;34m(self)\u001b[0m\n\u001b[1;32m     14\u001b[0m     \u001b[38;5;28;01mreturn\u001b[39;00m \u001b[38;5;28mself\u001b[39m\u001b[38;5;241m.\u001b[39m__secret\n\u001b[1;32m     15\u001b[0m \u001b[38;5;28;01melse\u001b[39;00m:\n\u001b[0;32m---> 16\u001b[0m     \u001b[38;5;28;01mraise\u001b[39;00m \u001b[38;5;167;01mValueError\u001b[39;00m(\u001b[38;5;124m'\u001b[39m\u001b[38;5;124mНеверный пароль\u001b[39m\u001b[38;5;124m'\u001b[39m)\n",
      "\u001b[0;31mValueError\u001b[0m: Неверный пароль"
     ]
    }
   ],
   "source": [
    "from string import digits\n",
    "\n",
    "\n",
    "class User:\n",
    "    def __init__(self, login, password):\n",
    "        self.login = login\n",
    "        self.password = password\n",
    "        self.__secret = 'остров сокровищ'\n",
    "        \n",
    "    @property\n",
    "    def secret(self):\n",
    "        secret_User = input('Введите пароль: ')\n",
    "        if secret_User == self.password:\n",
    "            return self.__secret\n",
    "        else:\n",
    "            raise ValueError('Неверный пароль')\n",
    "\n",
    "    @property\n",
    "    def password(self):\n",
    "        return self.__password            \n",
    "            \n",
    "    @staticmethod\n",
    "    def is_include_number(password):\n",
    "        for digit in digits:\n",
    "            if digit in password:\n",
    "                return True\n",
    "        return False\n",
    "    \n",
    "    @staticmethod\n",
    "    def check_password(popular_password):\n",
    "        with open(r'password.txt') as file:\n",
    "            file = file.read()\n",
    "            if popular_password not in file:\n",
    "                return True\n",
    "            return False\n",
    "    \n",
    "    @password.setter\n",
    "    def password(self, value):\n",
    "        if not isinstance(value, str):\n",
    "            raise TypeError ('Пароль должен быть строкой')\n",
    "        if len(value) < 4:\n",
    "            raise ValueError ('Пароль должен быть больше 4 символов')\n",
    "        if len(value) > 12:\n",
    "            raise ValueError ('Пароль должен быть не больше 12 символов')\n",
    "        if not User.is_include_number(value):\n",
    "            raise ValueError ('Пароль должен содержать цифру')\n",
    "        if not User.check_password(value):\n",
    "            raise ValueError ('Слишком популярный пароль')\n",
    "        self.__password = value\n",
    "\n",
    "user = User('www', 'pass1word1')\n",
    "print(user.secret)\n",
    "user.password = 123 # TypeError: Пароль должен быть строкой\n",
    "user.password = 'g13' # ValueError: Пароль должен быть больше 4 символов\n",
    "user.password = 'g13vsDAVFDVWEVCDSCSCSCSD' # ValueError: Пароль должен быть не больше 12 символов\n",
    "user.password = 'gJEJEJ' # ValueError: Пароль должен содержать цифру"
   ]
  },
  {
   "cell_type": "markdown",
   "id": "5aca031f",
   "metadata": {},
   "source": [
    "# 2.8 Пример \"Methods and properties. classmethod, staticmethod\"\n",
    "### пример 1:"
   ]
  },
  {
   "cell_type": "code",
   "execution_count": 52,
   "id": "73a0dbd2",
   "metadata": {},
   "outputs": [
    {
     "name": "stdout",
     "output_type": "stream",
     "text": [
      "static hello\n",
      "static hello\n",
      "class hello <class '__main__.Example'>\n",
      "class hello <class '__main__.Example'>\n"
     ]
    }
   ],
   "source": [
    "class Example:\n",
    "    \n",
    "    # метод вызывается от класса, но не вызывается от экземпляра\n",
    "    def hello():\n",
    "        print('hello')   \n",
    "    \n",
    "    # метод вызывается от экземпляра, но не вызывается от класса\n",
    "    def instance_hello(self):\n",
    "        print(f'instance hello {self}')  \n",
    "    \n",
    "    # метод staticmethod - позволяет обратиться и к классу и к экземпляру\n",
    "    @staticmethod\n",
    "    def static_hello():\n",
    "        print('static hello')\n",
    "    \n",
    "    # метод classmethod - передает в аргумент значение класса\n",
    "    @classmethod    \n",
    "    def class_hello(cls):\n",
    "        print(f'class hello {cls}')\n",
    "\n",
    "Example.static_hello()\n",
    "y = Example()\n",
    "y.static_hello()\n",
    "\n",
    "Example.class_hello()\n",
    "d = Example()\n",
    "d.class_hello()"
   ]
  },
  {
   "cell_type": "markdown",
   "id": "06cba10a",
   "metadata": {},
   "source": [
    "### пример 2:"
   ]
  },
  {
   "cell_type": "code",
   "execution_count": 53,
   "id": "a1b42333",
   "metadata": {},
   "outputs": [
    {
     "name": "stdout",
     "output_type": "stream",
     "text": [
      "Робот R2-D2 был создан\n",
      "Робот R2-D2 приветствует тебя, особь человеческого рода\n",
      "1, вот сколько нас еще осталось\n",
      "Робот R2-D2 был уничтожен\n"
     ]
    }
   ],
   "source": [
    "class Robot:\n",
    "    population = 0\n",
    "    \n",
    "    def __init__(self, name):\n",
    "        self.name = name\n",
    "        print(f'Робот {self.name} был создан')\n",
    "        Robot.population += 1\n",
    "        \n",
    "    def destroy(self):\n",
    "        Robot.population -= 1        \n",
    "        print(f'Робот {self.name} был уничтожен')\n",
    "        \n",
    "    def say_hello(self):\n",
    "        print(f'Робот {self.name} приветствует тебя, особь человеческого рода')\n",
    "    \n",
    "    @classmethod  \n",
    "    def how_many(cls):\n",
    "        print(f'{cls.population}, вот сколько нас еще осталось')\n",
    "\n",
    "r2 = Robot(\"R2-D2\") # печатает \"Робот R2-D2 был создан\"\n",
    "r2.say_hello() # печатает \"Робот R2-D2 приветствует тебя, особь человеческого рода\"\n",
    "Robot.how_many() # печатает \"1, вот сколько нас еще осталось\"\n",
    "r2.destroy() # печатает \"Робот R2-D2 был уничтожен\""
   ]
  },
  {
   "cell_type": "markdown",
   "id": "2df90ae0",
   "metadata": {},
   "source": [
    "# 2.9 Пример \"Methods and properties. classmethod, class namespace\""
   ]
  },
  {
   "cell_type": "code",
   "execution_count": 55,
   "id": "710a56f1",
   "metadata": {},
   "outputs": [
    {
     "name": "stdout",
     "output_type": "stream",
     "text": [
      "Количество backend разработчиков: python - 2, go - 3\n",
      "Количество backend разработчиков: python - 2, go - 3\n",
      "Количество backend разработчиков: python - 2, go - 3\n",
      "Количество backend разработчиков: python - 2, go - 3\n",
      "Количество frontend разработчиков: react - 4\n",
      "Количество backend разработчиков: python - 2, go - 3\n",
      "Количество frontend разработчиков: react - 4\n"
     ]
    }
   ],
   "source": [
    "# 1 вариант: обращения через self\n",
    "    \n",
    "class DepartmentIT:\n",
    "    python_dev = 2\n",
    "    go_dev = 3\n",
    "    react_dev = 4\n",
    "    \n",
    "    def make_backend(self):\n",
    "        print(f'Количество backend разработчиков: python - {self.python_dev}, go - {self.go_dev}')\n",
    "              \n",
    "    def make_frontend(self):\n",
    "        print(f'Количество frontend разработчиков: react - {self.react_dev}') \n",
    "\n",
    "it1 = DepartmentIT()\n",
    "it1.make_backend()\n",
    "\n",
    "# 2 вариант: обращения через DepartmentIT\n",
    "\n",
    "class DepartmentIT:\n",
    "    python_dev = 2\n",
    "    go_dev = 3\n",
    "    react_dev = 4\n",
    "    \n",
    "    def make_backend(self):\n",
    "        print(f'Количество backend разработчиков: python - {DepartmentIT.python_dev}, go - {DepartmentIT.go_dev}')\n",
    "              \n",
    "    def make_frontend(self):\n",
    "        print(f'Количество frontend разработчиков: react - {DepartmentIT.react_dev}') \n",
    "\n",
    "it2 = DepartmentIT()\n",
    "it2.make_backend()\n",
    "\n",
    "# 3 вариант: обращения через @property\n",
    "\n",
    "class DepartmentIT:\n",
    "    python_dev = 2\n",
    "    go_dev = 3\n",
    "    react_dev = 4\n",
    "    \n",
    "    @property\n",
    "    def make_backend(self):\n",
    "        print(f'Количество backend разработчиков: python - {self.python_dev}, go - {self.go_dev}')\n",
    "    \n",
    "    @property              \n",
    "    def make_frontend(self):\n",
    "        print(f'Количество frontend разработчиков: react - {self.react_dev}') \n",
    "\n",
    "it3 = DepartmentIT()\n",
    "it3.make_backend\n",
    "\n",
    "# 4 вариант: обращения через @classmethod, @staticmethod \n",
    "\n",
    "class DepartmentIT:\n",
    "    python_dev = 2\n",
    "    go_dev = 3\n",
    "    react_dev = 4\n",
    "    \n",
    "    @classmethod \n",
    "    def make_backend(cls):\n",
    "        print(f'Количество backend разработчиков: python - {cls.python_dev}, go - {cls.go_dev}')\n",
    "    \n",
    "    @staticmethod        \n",
    "    def make_frontend():\n",
    "        print(f'Количество frontend разработчиков: react - {DepartmentIT.react_dev}') \n",
    "\n",
    "it4 = DepartmentIT()\n",
    "it4.make_backend()\n",
    "it4.make_frontend()\n",
    "DepartmentIT.make_backend()\n",
    "DepartmentIT.make_frontend()"
   ]
  },
  {
   "cell_type": "markdown",
   "id": "23bf1413",
   "metadata": {},
   "source": [
    "# 3.1  Пример \"Double underscore methods. str, repr\"\n",
    "### пример 1:"
   ]
  },
  {
   "cell_type": "code",
   "execution_count": 58,
   "id": "a23bba0b",
   "metadata": {},
   "outputs": [
    {
     "name": "stdout",
     "output_type": "stream",
     "text": [
      "__str__ - Simba\n"
     ]
    }
   ],
   "source": [
    "class Lion:\n",
    "    \n",
    "    def __init__(self, name):\n",
    "        self.name = name\n",
    "    \n",
    "    # вывод для разработчиков\n",
    "    def __repr__(self):\n",
    "        return f'__repr__ - {self.name}'\n",
    "    \n",
    "    # вывод для пользователей  \n",
    "    def __str__(self):\n",
    "        return f'__str__ - {self.name}' \n",
    "\n",
    "x = Lion('Simba')\n",
    "x\n",
    "print(x)"
   ]
  },
  {
   "cell_type": "markdown",
   "id": "ee5eca16",
   "metadata": {},
   "source": [
    "### пример 2:"
   ]
  },
  {
   "cell_type": "code",
   "execution_count": 59,
   "id": "860829c2",
   "metadata": {},
   "outputs": [
    {
     "name": "stdout",
     "output_type": "stream",
     "text": [
      "Гражданин Norris Chuck\n",
      "Гражданка Kunis Mila\n",
      "Не знаю, что вы имели ввиду? Пусть это будет мальчик!\n",
      "Гражданин Кеноби Оби-Ван\n"
     ]
    }
   ],
   "source": [
    "class Person:\n",
    "    \n",
    "    def __init__(self, name, surname, gender = 'male'):\n",
    "        gender_default = ['male', 'female']\n",
    "        self.name = name\n",
    "        self.surname = surname\n",
    "        if gender not in gender_default:\n",
    "            print(\"Не знаю, что вы имели ввиду? Пусть это будет мальчик!\")\n",
    "            self.gender = 'male'\n",
    "        else:\n",
    "            self.gender = gender\n",
    "            \n",
    "    def __str__(self):\n",
    "        if self.gender == 'male':\n",
    "            return f'Гражданин {self.surname} {self.name}'\n",
    "        if self.gender == 'female':\n",
    "            return f'Гражданка {self.surname} {self.name}'\n",
    "\n",
    "p1 = Person('Chuck', 'Norris')\n",
    "print(p1) # печатает \"Гражданин Norris Chuck\"\n",
    "p2 = Person('Mila', 'Kunis', 'female')\n",
    "print(p2) # печатает \"Гражданка Kunis Mila\"\n",
    "p3 = Person('Оби-Ван', 'Кеноби', True)# печатает \"Не знаю, что вы имели ввиду? Пусть это будет мальчик!\"\n",
    "print(p3) # печатает \"Гражданин Кеноби Оби-Ван\""
   ]
  },
  {
   "cell_type": "markdown",
   "id": "6205dc80",
   "metadata": {},
   "source": [
    "### пример 3:"
   ]
  },
  {
   "cell_type": "code",
   "execution_count": 61,
   "id": "f969c94f",
   "metadata": {},
   "outputs": [
    {
     "name": "stdout",
     "output_type": "stream",
     "text": [
      "Вектор(1, 2, 3)\n",
      "Пустой вектор\n"
     ]
    }
   ],
   "source": [
    "class Vector:\n",
    "    \n",
    "    def __init__(self, *args):\n",
    "        self.values = [x for x in args if isinstance(x, int)]\n",
    "\n",
    "    def __str__(self):\n",
    "        if len(self.values) > 0:\n",
    "            return f'Вектор{tuple(sorted(self.values))}'\n",
    "        else:\n",
    "            return 'Пустой вектор'\n",
    "\n",
    "v1 = Vector(1,2,3, 2.0)\n",
    "print(v1) # печатает \"Вектор(1, 2, 3)\"\n",
    "v2 = Vector()\n",
    "print(v2) # печатает \"Пустой вектор\""
   ]
  },
  {
   "cell_type": "markdown",
   "id": "976d43dd",
   "metadata": {},
   "source": [
    "# 3.2  Пример \"Double underscore methods. len, abs\""
   ]
  },
  {
   "cell_type": "code",
   "execution_count": 63,
   "id": "0878d0b2",
   "metadata": {},
   "outputs": [
    {
     "name": "stdout",
     "output_type": "stream",
     "text": [
      "10\n",
      "10\n",
      "4\n",
      "4\n"
     ]
    }
   ],
   "source": [
    "class Person:\n",
    "    def __init__(self, name, surname):\n",
    "        self.name = name\n",
    "        self.surname = surname\n",
    "        \n",
    "    def __len__(self):\n",
    "        return len(self.name + self.surname)\n",
    "    \n",
    "class Segment:\n",
    "    def __init__(self, point1, point2):\n",
    "        self.x1 = point1\n",
    "        self.x2 = point2\n",
    "        \n",
    "    def __len__(self):\n",
    "        return abs(self) # self.__abs__()\n",
    "    \n",
    "    def __abs__(self):\n",
    "        return abs(self.x2 - self.x1)\n",
    "\n",
    "person = Person('Ivan', 'Ivanov')\n",
    "print(len(person))\n",
    "print(person.__len__())\n",
    "\n",
    "segment = Segment(10, 6)\n",
    "print(len(segment))\n",
    "print(abs(segment))"
   ]
  },
  {
   "cell_type": "markdown",
   "id": "3fe8d370",
   "metadata": {},
   "source": [
    "# 3.3  Пример \"Double underscore methods. add, mul, mub, truediv\"\n",
    "### пример 1:"
   ]
  },
  {
   "cell_type": "code",
   "execution_count": 66,
   "id": "024f7916",
   "metadata": {},
   "outputs": [
    {
     "name": "stdout",
     "output_type": "stream",
     "text": [
      "__add__call\n",
      "600\n",
      "__add__call\n",
      "Vasyaaa\n"
     ]
    }
   ],
   "source": [
    "class BankAccount:\n",
    "    def __init__(self, name, balance):\n",
    "        self.name = name\n",
    "        self.balance = balance\n",
    "        \n",
    "    def __add__(self, other):\n",
    "        print('__add__call')\n",
    "        if isinstance(other, BankAccount):\n",
    "            return self.balance + other.balance\n",
    "        if isinstance(other, (int, float)):\n",
    "            return self.balance + other\n",
    "        raise NotImplemented\n",
    "        \n",
    "    def __radd__(self, other):\n",
    "        print('__radd__call')\n",
    "        return self + other\n",
    "    \n",
    "    def __mul__(self, other):\n",
    "        print('__add__call')\n",
    "        if isinstance(other, BankAccount):\n",
    "            return self.balance * other.balance\n",
    "        if isinstance(other, (int, float)):\n",
    "            return self.balance * other\n",
    "        if isinstance(other, str):\n",
    "            return self.name + other\n",
    "        raise NotImplemented\n",
    "\n",
    "c = BankAccount('Vasy', 200)\n",
    "print(c * 3)\n",
    "print(c * 'aaa')"
   ]
  },
  {
   "cell_type": "markdown",
   "id": "2dfd4958",
   "metadata": {},
   "source": [
    "### пример 2:"
   ]
  },
  {
   "cell_type": "code",
   "execution_count": 67,
   "id": "e7a72b83",
   "metadata": {},
   "outputs": [
    {
     "name": "stdout",
     "output_type": "stream",
     "text": [
      "Вектор(1, 2, 3)\n",
      "Вектор(3, 4, 5)\n",
      "Вектор(4, 6, 8)\n",
      "Вектор(9, 11, 13)\n",
      "Вектор(2, 4, 6)\n",
      "Вектор нельзя сложить с hi\n"
     ]
    }
   ],
   "source": [
    "class Vector:    \n",
    "    def __init__(self, *args):\n",
    "        self.values = sorted( [i for i in args if isinstance(i, int)] )\n",
    "        \n",
    "    def __str__(self):\n",
    "        if len(self.values) > 0:\n",
    "            return f'Вектор{tuple(self.values)}'\n",
    "        else:\n",
    "            return 'Пустой вектор'\n",
    "        \n",
    "    def __add__(self, other):\n",
    "        if isinstance(other, int):\n",
    "            return Vector(*[x + other for x in self.values])\n",
    "        if isinstance(other, Vector):\n",
    "            if len(self.values) == len(other.values):\n",
    "                return Vector(*[x+y for x, y in zip(self.values, other.values)])\n",
    "            else:\n",
    "                print(\"Сложение векторов разной длины недопустимо\")\n",
    "        else:\n",
    "            print(f\"Вектор нельзя сложить с {other}\")\n",
    "            \n",
    "    def __mul__(self, other):\n",
    "        if isinstance(other, int):\n",
    "            return Vector(*[x * other for x in self.values])        \n",
    "        if isinstance(other, Vector):\n",
    "            if len(self.values) == len(other.values):\n",
    "                return Vector(*[x*y for x, y in zip(self.values, other.values)])\n",
    "            else:\n",
    "                print(\"Умножение векторов разной длины недопустимо\")\n",
    "        else:\n",
    "            print(f\"Вектор нельзя умножать с {other}\")\n",
    "\n",
    "v1 = Vector(1,2,3)\n",
    "print(v1) # печатает \"Вектор(1, 2, 3)\"\n",
    "\n",
    "v2 = Vector(3,4,5)\n",
    "print(v2) # печатает \"Вектор(3, 4, 5)\"\n",
    "v3 = v1 + v2\n",
    "print(v3) # печатает \"Вектор(4, 6, 8)\"\n",
    "v4 = v3 + 5\n",
    "print(v4) # печатает \"Вектор(9, 11, 13)\"\n",
    "v5 = v1 * 2\n",
    "print(v5) # печатает \"Вектор(2, 4, 6)\"\n",
    "v5 + 'hi' # печатает \"Вектор нельзя сложить с hi\""
   ]
  },
  {
   "cell_type": "markdown",
   "id": "8cf00688",
   "metadata": {},
   "source": [
    "# 3.4  Пример \"Double underscore methods. comparison methods\"\n",
    "### пример 1:"
   ]
  },
  {
   "cell_type": "code",
   "execution_count": 68,
   "id": "f6a5d5bf",
   "metadata": {},
   "outputs": [
    {
     "name": "stdout",
     "output_type": "stream",
     "text": [
      "__eq__call\n",
      "__lt__call\n",
      "True\n",
      "__eq__call\n",
      "__lt__call\n",
      "False\n",
      "__eq__call\n",
      "__lt__call\n",
      "True\n"
     ]
    }
   ],
   "source": [
    "# __eq__ - ==\n",
    "# __ne__ - !=\n",
    "# __lt__ - <\n",
    "# __le__ - <=\n",
    "# __gt__ - >\n",
    "# __ge__ - >=\n",
    "\n",
    "class Rectange:\n",
    "    \n",
    "    def __init__(self, a, b):\n",
    "        self.a = a\n",
    "        self.b = b\n",
    "        \n",
    "    # вычисляем площадь прямоугольника    \n",
    "    @property \n",
    "    def area(self):\n",
    "        return self.a * self.b\n",
    "    \n",
    "    def __eq__(self, other):\n",
    "        print('__eq__call')\n",
    "        if isinstance(other, Rectange):\n",
    "            return self.a == other.a and self.b == other.b\n",
    "        \n",
    "    def __lt__(self, other):\n",
    "        print('__lt__call')\n",
    "        if isinstance(other, Rectange):\n",
    "            return self.area < other.area\n",
    "        elif isinstance(other, (int, float)):\n",
    "            return self.area < other\n",
    "        \n",
    "    def __le__(self, other):\n",
    "        return self == other or self < other\n",
    "\n",
    "q = Rectange(5, 5)\n",
    "s = Rectange(10, 3)\n",
    "print(q <= s)\n",
    "print(q >= s)\n",
    "print(s >= q)"
   ]
  },
  {
   "cell_type": "markdown",
   "id": "9f990797",
   "metadata": {},
   "source": [
    "### пример 2:"
   ]
  },
  {
   "cell_type": "code",
   "execution_count": 69,
   "id": "3ea90e15",
   "metadata": {},
   "outputs": [
    {
     "name": "stdout",
     "output_type": "stream",
     "text": [
      "False\n",
      "True\n",
      "False\n",
      "True\n",
      "False\n",
      "Невозможно выполнить сравнение\n"
     ]
    }
   ],
   "source": [
    "class ChessPlayer:\n",
    "    def __init__(self, name, surname, rating):\n",
    "        self.name = name\n",
    "        self.surname = surname\n",
    "        self.rating = rating\n",
    "        \n",
    "    def __eq__(self, other):\n",
    "        if isinstance(other, (int, float)):\n",
    "            return self.rating == other    \n",
    "        elif isinstance(other, ChessPlayer):\n",
    "            return self.rating == other.rating \n",
    "        else:\n",
    "            return 'Невозможно выполнить сравнение'\n",
    "        \n",
    "    def __gt__(self, other):\n",
    "        if isinstance(other, (int, float)):\n",
    "            return self.rating > other    \n",
    "        elif isinstance(other, ChessPlayer):\n",
    "            return self.rating > other.rating\n",
    "        else:\n",
    "            return 'Невозможно выполнить сравнение'\n",
    "        \n",
    "    def __lt__(self, other):\n",
    "        if isinstance(other, (int, float)):\n",
    "            return self.rating < other    \n",
    "        elif isinstance(other, ChessPlayer):\n",
    "            return self.rating < other.rating\n",
    "        else:\n",
    "            return 'Невозможно выполнить сравнение'\n",
    "\n",
    "magnus = ChessPlayer('Carlsen', 'Magnus', 2847)\n",
    "ian = ChessPlayer('Ian', 'Nepomniachtchi', 2789)\n",
    "print(magnus == 4000) # False\n",
    "print(ian == 2789) # True\n",
    "print(magnus == ian) # False\n",
    "print(magnus > ian) # True\n",
    "print(magnus < ian) # False\n",
    "print(magnus < [1, 2]) # печатает \"Невозможно выполнить сравнениe\""
   ]
  },
  {
   "cell_type": "markdown",
   "id": "e3aa468e",
   "metadata": {},
   "source": [
    "# 3.5  Пример \"Double underscore methods. eq, hash\"\n"
   ]
  },
  {
   "cell_type": "code",
   "execution_count": null,
   "id": "4ccff004",
   "metadata": {},
   "outputs": [],
   "source": [
    "class Point:\n",
    "    def __init__(self, x, y):\n",
    "        self.x = x\n",
    "        self.y = y\n",
    "        \n",
    "    def __eq__(self, other):\n",
    "        return isinstance(other, Point) and\\\n",
    "    self.x == other.x and self.y == other.y\n",
    "    \n",
    "    def __hash__(self):\n",
    "        return hash((self.x, self.y))\n",
    "\n",
    "p3 = Point(3, 4)\n",
    "p4 = Point(3, 4)\n",
    "p5 = Point(7, 8)\n",
    "\n",
    "print(p3 == p4)\n",
    "print(p4 == p5)\n",
    "print(hash(p3))\n",
    "print(hash(p4))\n",
    "print(hash(p5))"
   ]
  },
  {
   "cell_type": "markdown",
   "id": "c372e7ef",
   "metadata": {},
   "source": [
    "# 3.6  Пример \"Double underscore methods. bool\"\n",
    "### пример 1:"
   ]
  },
  {
   "cell_type": "code",
   "execution_count": null,
   "id": "94b65c84",
   "metadata": {},
   "outputs": [],
   "source": [
    "class Point:\n",
    "    \n",
    "    def __init__(self, x, y):\n",
    "        self.x = x\n",
    "        self.y = y\n",
    "        \n",
    "    def __len__(self):\n",
    "        print('call__len__')\n",
    "        return abs(self.x - self.y)\n",
    "    \n",
    "    def __bool__(self):\n",
    "        print('call__bool__')\n",
    "        return self.x != 0 or self.y != 0\n",
    "\n",
    "print(bool(Point(3,4)))\n",
    "print(len(Point(5, 5)))"
   ]
  },
  {
   "cell_type": "markdown",
   "id": "a9d5e394",
   "metadata": {},
   "source": [
    "### пример 2:"
   ]
  },
  {
   "cell_type": "code",
   "execution_count": 72,
   "id": "b01d65ec",
   "metadata": {},
   "outputs": [
    {
     "name": "stdout",
     "output_type": "stream",
     "text": [
      "New York\n",
      "True\n",
      "San Francisco\n",
      "False\n"
     ]
    }
   ],
   "source": [
    "class City:\n",
    "    \n",
    "    def __init__(self, name):\n",
    "        self.name = \" \".join([x.capitalize() for x in name.split()])\n",
    "        \n",
    "    def __str__(self):\n",
    "        return self.name\n",
    "    \n",
    "    def __bool__(self):\n",
    "        return False if self.name[len(self.name) - 1] in 'a, e, i, o, u' else True\n",
    "\n",
    "p1 = City('new york')\n",
    "print(p1)  # печатает \"New York\"\n",
    "print(bool(p1))  # печатает \"True\"\n",
    "p2 = City('SaN frANCISco')\n",
    "print(p2)  # печатает \"San Francisco\"\n",
    "print(p2 == True)  # печатает \"False\""
   ]
  },
  {
   "cell_type": "markdown",
   "id": "9302f840",
   "metadata": {},
   "source": [
    "### пример 3:"
   ]
  },
  {
   "cell_type": "code",
   "execution_count": 73,
   "id": "9aea1c69",
   "metadata": {},
   "outputs": [
    {
     "name": "stdout",
     "output_type": "stream",
     "text": [
      "Куб размером 10х10\n",
      "True\n",
      "Прямоугольник размером 3х5\n",
      "False\n"
     ]
    }
   ],
   "source": [
    "class Quadrilateral:\n",
    "    def __init__(self, *args):\n",
    "        self.width=args[0]\n",
    "        self.height=args[-1]\n",
    "    \n",
    "    def __str__(self):\n",
    "        if self.width==self.height:\n",
    "            return f'Куб размером {self.width}х{self.height}'\n",
    "        else:\n",
    "            return f'Прямоугольник размером {self.width}х{self.height}'\n",
    "       \n",
    "    def __bool__(self):\n",
    "        return self.width==self.height\n",
    "\n",
    "q1 = Quadrilateral(10)\n",
    "print(q1)  # печатает \"Куб размером 10х10\"\n",
    "print(bool(q1))  # печатает \"True\"\n",
    "q2 = Quadrilateral(3, 5)\n",
    "print(q2)  # печатает \"Прямоугольник размером 3х5\"\n",
    "print(q2 == True)  # печатает \"False\""
   ]
  },
  {
   "cell_type": "markdown",
   "id": "0aa00e69",
   "metadata": {},
   "source": [
    "# 3.7  Пример \"Double underscore methods. call\"\n",
    "### пример 1:"
   ]
  },
  {
   "cell_type": "code",
   "execution_count": 75,
   "id": "b4a25059",
   "metadata": {},
   "outputs": [
    {
     "name": "stdout",
     "output_type": "stream",
     "text": [
      "init object <__main__.Counter object at 0x7f3229ee56d0>\n",
      "0\n",
      "0\n",
      "0\n"
     ]
    }
   ],
   "source": [
    "class Counter:\n",
    "    \n",
    "    def __init__(self):\n",
    "        self.counter = 0\n",
    "        self.summa = 0\n",
    "        self.length = 0\n",
    "        print('init object', self)\n",
    "        \n",
    "    def __call__(self, *args, **kwargs):\n",
    "        self.counter += 1\n",
    "        self.summa += sum(args)\n",
    "        self.length += len(args)\n",
    "        print(f'наш экземпляр вызывался {self.counter} раз')\n",
    "        \n",
    "    def average(self):\n",
    "        return self.summa / self.length\n",
    "\n",
    "c = Counter()\n",
    "print(c.counter)\n",
    "print(c.summa)\n",
    "print(c.length)"
   ]
  },
  {
   "cell_type": "markdown",
   "id": "5881c9ad",
   "metadata": {},
   "source": [
    "### пример 2:"
   ]
  },
  {
   "cell_type": "code",
   "execution_count": 76,
   "id": "b3498530",
   "metadata": {},
   "outputs": [
    {
     "name": "stdout",
     "output_type": "stream",
     "text": [
      "Вызывается функция fact\n",
      "функция отработала за 9.682099334895611e-05\n",
      "5040\n",
      "Вызывается функция fib\n",
      "Вызывается функция fib\n",
      "Вызывается функция fib\n",
      "Вызывается функция fib\n",
      "функция отработала за 1.2443982996046543e-05\n",
      "Вызывается функция fib\n",
      "функция отработала за 1.246004831045866e-05\n",
      "функция отработала за 7.971702143549919e-05\n",
      "Вызывается функция fib\n",
      "функция отработала за 1.2134900316596031e-05\n",
      "функция отработала за 0.00014345103409141302\n",
      "Вызывается функция fib\n",
      "Вызывается функция fib\n",
      "функция отработала за 1.1722906492650509e-05\n",
      "Вызывается функция fib\n",
      "функция отработала за 1.3121985830366611e-05\n",
      "функция отработала за 7.429101970046759e-05\n",
      "функция отработала за 0.00027225096710026264\n"
     ]
    },
    {
     "data": {
      "text/plain": [
       "5"
      ]
     },
     "execution_count": 76,
     "metadata": {},
     "output_type": "execute_result"
    }
   ],
   "source": [
    "from time import perf_counter\n",
    "\n",
    "class Timer:\n",
    "    def __init__(self, func):\n",
    "        self.fn = func\n",
    "        \n",
    "    def __call__(self, *args, **kwargs):\n",
    "        start = perf_counter()\n",
    "        print(f'Вызывается функция {self.fn.__name__}')\n",
    "        result = self.fn(*args, **kwargs)\n",
    "        finish = perf_counter()\n",
    "        print(f'функция отработала за {finish - start}')\n",
    "        return result\n",
    "@Timer    \n",
    "def fact(n):\n",
    "    pr = 1\n",
    "    for i in range(1, n + 1):\n",
    "        pr *= i\n",
    "    return pr\n",
    "\n",
    "def fib(n):\n",
    "    if n <= 2:\n",
    "        return 1\n",
    "    return fib(n - 1) + fib(n - 2)\n",
    "\n",
    "print(fact(7))\n",
    "\n",
    "fib = Timer(fib)\n",
    "fib(5)"
   ]
  },
  {
   "cell_type": "markdown",
   "id": "343d3946",
   "metadata": {},
   "source": [
    "# 3.8  Пример \"Double underscore methods. polymorphism\""
   ]
  },
  {
   "cell_type": "code",
   "execution_count": null,
   "id": "c0b5e50e",
   "metadata": {},
   "outputs": [],
   "source": [
    "class Rectange:\n",
    "    \n",
    "    def __init__(self, a, b):\n",
    "        self.a = a\n",
    "        self.b = b\n",
    "        \n",
    "    def __str__(self):\n",
    "        return f'Rectange with the parties {self.a}x{self.b}:'\n",
    "        \n",
    "    def get_area(self):\n",
    "        return self.a * self.b\n",
    "    \n",
    "class Square:\n",
    "    \n",
    "    def __init__(self, a):\n",
    "        self.a = a\n",
    "\n",
    "    def __str__(self):\n",
    "        return f'Square with the parties {self.a}x{self.a}:'\n",
    "        \n",
    "    def get_area(self):\n",
    "        return self.a ** 2\n",
    "    \n",
    "class Circle:\n",
    "    \n",
    "    def __init__(self, r):\n",
    "        self.r = r\n",
    "\n",
    "    def __str__(self):\n",
    "        return f'Circle with raduis {self.r}:'\n",
    "        \n",
    "    def get_area(self):\n",
    "        return 3.14 * self.r ** 2\n",
    "\n",
    "rect1 = Rectange(5, 6)\n",
    "rect2 = Rectange(4, 8)\n",
    "sqr1 = Square(5)\n",
    "sqr2 = Square(7)\n",
    "cir1 = Circle(3)\n",
    "cir2 = Circle(2)\n",
    "\n",
    "figures = [rect1, rect2, sqr1, sqr2, cir1, cir2]\n",
    "for figure in figures:\n",
    "    print(figure, figure.get_area())"
   ]
  },
  {
   "cell_type": "markdown",
   "id": "80c77e31",
   "metadata": {},
   "source": [
    "# 3.9 Пример \"Double underscore methods. getitem, setitem, delitem\""
   ]
  },
  {
   "cell_type": "code",
   "execution_count": null,
   "id": "3b1df2a8",
   "metadata": {},
   "outputs": [],
   "source": [
    "class Vector:   \n",
    "    \n",
    "    def __init__(self, *args):\n",
    "        self.values = list(args)\n",
    "        \n",
    "    def __repr__(self):\n",
    "        return str(self.values)\n",
    "    \n",
    "    def __getitem__(self, item):\n",
    "        if 0 <= item < len(self.values):\n",
    "            return self.values[item]\n",
    "        else:\n",
    "            IndexError('Индекс за границами нашей коллекции')\n",
    "            \n",
    "    def __setitem__(self, key, value):\n",
    "        if 0 <= key < len(self.values):\n",
    "            self.values[key] = value\n",
    "        elif key > len(self.values):\n",
    "            diff = key - len(self.values)\n",
    "            self.values.extend([0] * diff) # разряженный массив\n",
    "            self.values[key-1] = value\n",
    "        else:\n",
    "            IndexError('Индекс за границами нашей коллекции')  \n",
    "            \n",
    "    def __delitem__(self, key):\n",
    "        if 0 <= key < len(self.values):\n",
    "            del self.values[key]\n",
    "        else:\n",
    "            IndexError('Индекс за границами нашей коллекции') \n",
    "\n",
    "v5 = Vector(6, 7)\n",
    "v5[5] = 10\n",
    "print(v5)"
   ]
  },
  {
   "cell_type": "markdown",
   "id": "54414155",
   "metadata": {},
   "source": [
    "# 3.10 Пример \"Double underscore methods. iter, next"
   ]
  },
  {
   "cell_type": "code",
   "execution_count": 79,
   "id": "85118deb",
   "metadata": {},
   "outputs": [
    {
     "name": "stdout",
     "output_type": "stream",
     "text": [
      "call_iter\n",
      "call next_ Mark\n",
      "1\n",
      "call next_ Mark\n",
      "2\n",
      "call next_ Mark\n",
      "3\n",
      "call next_ Mark\n",
      "4\n",
      "call next_ Mark\n"
     ]
    }
   ],
   "source": [
    "class Mark:\n",
    "    def __init__(self, values):\n",
    "        self.value = values\n",
    "        self.index = 0\n",
    "\n",
    "    def __iter__(self):\n",
    "        return self        \n",
    "        \n",
    "    def __next__(self):\n",
    "        print('call next_ Mark')\n",
    "        if self.index >= len(self.value):\n",
    "            self.index = 0\n",
    "            raise StopIteration\n",
    "        letter = self.value[self.index]\n",
    "        self.index += 1\n",
    "        return letter\n",
    "        \n",
    "class Student:\n",
    "    \n",
    "    def __init__(self, name, surname, marks):\n",
    "        self.name = name\n",
    "        self.surname = surname\n",
    "        self.marks = marks\n",
    "    \n",
    "    def __iter__(self):\n",
    "        print('call_iter')\n",
    "        self.index = 0\n",
    "        return iter(self.marks)\n",
    "    \n",
    "    def __next__(self):\n",
    "        print('call next Student')\n",
    "        if self.index >= len(self.name):\n",
    "            raise StopIteration\n",
    "        letter = self.name[self.index]\n",
    "        self.index += 1\n",
    "        return letter\n",
    "        \n",
    "m = Mark([1, 2, 3, 4])   \n",
    "igor = Student('igor', 'Nikolaev', m)\n",
    "\n",
    "for i in igor:\n",
    "    print(i)"
   ]
  },
  {
   "cell_type": "markdown",
   "id": "0a6bd864",
   "metadata": {},
   "source": [
    "# 4.1 Пример \" Exceptions. principle\""
   ]
  },
  {
   "cell_type": "code",
   "execution_count": 81,
   "id": "4fe95a46",
   "metadata": {},
   "outputs": [
    {
     "name": "stdout",
     "output_type": "stream",
     "text": [
      "I can breathe\n",
      "I can heal\n",
      "I can breathe\n",
      "I can walk\n",
      "I can build a house\n",
      "I can breathe\n",
      "I can walk\n"
     ]
    }
   ],
   "source": [
    "class Person:\n",
    "    \n",
    "    def can_breathe(self):\n",
    "        print('I can breathe')\n",
    "        \n",
    "    def can_walk(self):\n",
    "        print('I can walk')\n",
    "\n",
    "class Doctor(Person):\n",
    "    \n",
    "    def can_cure(self):\n",
    "        print('I can heal')\n",
    "        \n",
    "class Ortoped(Doctor):\n",
    "    \n",
    "    def can_scoliosis(self):\n",
    "        print('I can heal diseases of the musculoskeletal system')\n",
    "        print('Ortoped subclass Doctor and Person')\n",
    "        \n",
    "class Architect(Person):\n",
    "    \n",
    "    def can_build(self):\n",
    "        print('I can build a house')\n",
    "\n",
    "ort = Ortoped()\n",
    "ort.can_breathe()\n",
    "d = Doctor()\n",
    "d.can_cure()\n",
    "d.can_breathe()\n",
    "d.can_walk()\n",
    "a = Architect()\n",
    "a.can_build()\n",
    "a.can_breathe()\n",
    "a.can_walk()"
   ]
  },
  {
   "cell_type": "markdown",
   "id": "412109fe",
   "metadata": {},
   "source": [
    "# 4.2 Пример \"Exceptions. pbuilt-in types\""
   ]
  },
  {
   "cell_type": "code",
   "execution_count": 82,
   "id": "0fa343fb",
   "metadata": {},
   "outputs": [
    {
     "name": "stdout",
     "output_type": "stream",
     "text": [
      "99\n",
      "141414\n",
      "100011\n",
      "10000\n"
     ]
    }
   ],
   "source": [
    "class NewInt(int):\n",
    "    def repeat(self, n=2):\n",
    "        self.n = n\n",
    "        return int(str(self) * n)\n",
    "    def to_bin(self):\n",
    "        return int(format(self, 'b'))\n",
    "\n",
    "a = NewInt(9)\n",
    "print(a.repeat())  # печатает число 99\n",
    "d = NewInt(a + 5)\n",
    "print(d.repeat(3)) # печатает число 141414\n",
    "b = NewInt(NewInt(7) * NewInt(5))\n",
    "print(b.to_bin()) # печатает 100011 - двоичное представление числа 35\n",
    "\n",
    "print(NewInt(16).to_bin())"
   ]
  },
  {
   "cell_type": "markdown",
   "id": "f6aaad99",
   "metadata": {},
   "source": [
    "# 4.3 Пример \" Exceptions. redefinition\""
   ]
  },
  {
   "cell_type": "code",
   "execution_count": null,
   "id": "86b1f91b",
   "metadata": {},
   "outputs": [],
   "source": [
    "class Person:\n",
    "    \n",
    "    def __init__(self, name):\n",
    "        self.name = name\n",
    "    \n",
    "    def breathe(self):\n",
    "        print('Person can breathe')\n",
    "\n",
    "    def walk(self):\n",
    "        print('Person can walk')\n",
    "\n",
    "    def sleep(self):\n",
    "        print('Person sleep')       \n",
    "        \n",
    "    def combo(self):\n",
    "        self.breathe()\n",
    "        self.walk()\n",
    "        self.sleep()\n",
    "\n",
    "    def __str__(self):\n",
    "        return f'Person {self.name}'\n",
    "\n",
    "    \n",
    "class Doctor(Person): # subclass\n",
    "    \n",
    "    def breathe(self):\n",
    "        print('Doctor can breathe')\n",
    "        \n",
    "    def sleep(self):\n",
    "        print('Doctor sleep')  \n",
    "        \n",
    "    def __str__(self):\n",
    "        return f'Doctor {self.name}'\n",
    "\n",
    "d = Doctor('John')\n",
    "p = Person('Adam')\n",
    "d.combo()\n",
    "p.combo()"
   ]
  },
  {
   "cell_type": "markdown",
   "id": "38a50ec6",
   "metadata": {},
   "source": [
    "# 4.4 Пример \" Exceptions. extending\""
   ]
  },
  {
   "cell_type": "code",
   "execution_count": 85,
   "id": "1854ecbf",
   "metadata": {},
   "outputs": [
    {
     "name": "stdout",
     "output_type": "stream",
     "text": [
      "Doctor can breathe\n",
      "Doctor can walk\n",
      "Doctor sleep\n",
      "Person can breathe\n",
      "Person sleep\n"
     ]
    }
   ],
   "source": [
    "class Person:\n",
    "    def breathe(self):\n",
    "        print('Person can breathe')\n",
    "\n",
    "\n",
    "    def sleep(self):\n",
    "        print('Person sleep')       \n",
    "        \n",
    "    def combo(self):\n",
    "        self.breathe()\n",
    "        if hasattr(self, 'walk'):\n",
    "            self.walk()\n",
    "        self.sleep()\n",
    "\n",
    "    \n",
    "class Doctor(Person): # subclass\n",
    "    def breathe(self):\n",
    "        print('Doctor can breathe')\n",
    "        \n",
    "    def sleep(self):\n",
    "        print('Doctor sleep')  \n",
    "\n",
    "    def walk(self):\n",
    "        print('Doctor can walk')\n",
    "\n",
    "d = Doctor()\n",
    "p = Person()\n",
    "d.combo()\n",
    "p.combo()"
   ]
  },
  {
   "cell_type": "markdown",
   "id": "fc89bfca",
   "metadata": {},
   "source": [
    "# 4.5 Пример \" Exceptions. delegation\"\n",
    "### пример 1:"
   ]
  },
  {
   "cell_type": "code",
   "execution_count": null,
   "id": "f4eea6f0",
   "metadata": {},
   "outputs": [],
   "source": [
    "class Person:\n",
    "    \n",
    "    def __init__(self, name, surname, age = 50):\n",
    "        self.name = name\n",
    "        self.surname = surname\n",
    "        self.age = age\n",
    "    \n",
    "    def __str__(self):\n",
    "        return f'Person {self.name} {self.surname}'\n",
    "        \n",
    "    def info(self):\n",
    "        print('Parent class')\n",
    "        print(self)\n",
    "        \n",
    "    \n",
    "class Doctor(Person): # subclass\n",
    "\n",
    "    def __init__(self, name, surname, age):\n",
    "        super().__init__(name, surname)\n",
    "        self.age = age\n",
    "    \n",
    "    def __str__(self):\n",
    "        return f'Doctor {self.name} {self.surname}'\n",
    "\n",
    "p = Person('Ivan', 'Ivanov')\n",
    "d = Doctor('Petr', 'Petrov', 25)\n",
    "print(p.name, p.surname, p.age)\n",
    "print(d.name, d.surname, d.age)"
   ]
  },
  {
   "cell_type": "markdown",
   "id": "87795372",
   "metadata": {},
   "source": [
    "### пример 2:"
   ]
  },
  {
   "cell_type": "code",
   "execution_count": null,
   "id": "cba9ab97",
   "metadata": {},
   "outputs": [],
   "source": [
    "class Transport:\n",
    "    def __init__(self, brand, max_speed, kind = None):\n",
    "        self.brand = brand\n",
    "        self.max_speed = max_speed\n",
    "        self.kind = kind\n",
    "        \n",
    "    def __str__(self):\n",
    "        return f\"Тип транспорта {self.kind} марки {self.brand} может развить скорость {self.max_speed} км/ч\"\n",
    "    \n",
    "class Car(Transport):\n",
    "    \n",
    "    def __init__(self, brand, max_speed, mileage, gasoline_residue):\n",
    "        super().__init__(brand, max_speed, kind = 'Car')\n",
    "        self.mileage = mileage\n",
    "        self.__gasoline_residue = gasoline_residue\n",
    "    \n",
    "    @property\n",
    "    def gasoline(self):\n",
    "        return self.__gasoline_residue\n",
    "    \n",
    "    @gasoline.getter\n",
    "    def gasoline(self):\n",
    "        return f'Осталось бензина на {self.__gasoline_residue} км'\n",
    "    \n",
    "    @gasoline.setter\n",
    "    def gasoline(self, value):\n",
    "        if isinstance(value, int):\n",
    "            self.__gasoline_residue += value\n",
    "            print(f'Объем топлива увеличен на {value} л и составляет {self.__gasoline_residue } л')\n",
    "        else:\n",
    "             print('Ошибка заправки автомобиля')\n",
    "    \n",
    "class Boat(Transport):\n",
    "    \n",
    "    def __init__(self, brand, max_speed, owners_name):\n",
    "        super().__init__(brand, max_speed, kind = 'Boat')\n",
    "        self.owners_name = owners_name\n",
    "        \n",
    "    def __str__(self):\n",
    "        return f'Этой лодкой марки {self.brand} владеет {self.owners_name}'\n",
    "    \n",
    "class Plane(Transport):\n",
    "    \n",
    "    def __init__(self, brand, max_speed, capacity):\n",
    "        super().__init__(brand, max_speed, kind = 'Plane')\n",
    "        self.capacity = capacity\n",
    "        \n",
    "    def __str__(self):\n",
    "        return f'Самолет марки {self.brand} вмещает в себя {self.capacity} людей'\n",
    "\n",
    "transport = Transport('Telega', 10)\n",
    "print(transport)  # Тип транспорта None марки Telega может развить скорость 10 км/ч\n",
    "bike = Transport('shkolnik', 20, 'bike')\n",
    "print(bike)  # Тип транспорта bike марки shkolnik может развить скорость 20 км/ч\n",
    "\n",
    "first_plane = Plane('Virgin Atlantic', 700, 450)\n",
    "print(first_plane)  # Самолет марки Virgin Atlantic вмещает в себя 450 людей\n",
    "first_car = Car('BMW', 230, 75000, 300)\n",
    "print(first_car)  # Тип транспорта Car марки BMW может развить скорость 230 км/ч\n",
    "print(first_car.gasoline)  # Осталось бензина на 300 км\n",
    "first_car.gasoline = 20  # Печатает 'Объем топлива увеличен на 20 л и составляет 320 л'\n",
    "print(first_car.gasoline)  # Осталось бензина на 320 км\n",
    "second_car = Car('Audi', 230, 70000, 130)\n",
    "second_car.gasoline = [None]  # Печатает 'Ошибка заправки автомобиля'\n",
    "first_boat = Boat('Yamaha', 40, 'Petr')\n",
    "print(first_boat)  # Этой лодкой марки Yamaha владеет Petr"
   ]
  },
  {
   "cell_type": "markdown",
   "id": "9c99d605",
   "metadata": {},
   "source": [
    "### пример 3:"
   ]
  },
  {
   "cell_type": "code",
   "execution_count": 88,
   "id": "5b99fc10",
   "metadata": {},
   "outputs": [],
   "source": [
    "class Initialization:\n",
    "    \n",
    "    def __init__(self, capacity, food):\n",
    "        if isinstance(capacity, int):\n",
    "            self.capacity = capacity\n",
    "            self.food = food\n",
    "        else:\n",
    "            print('Количество людей должно быть целым числом')\n",
    "            \n",
    "class Vegetarian(Initialization):\n",
    "    \n",
    "    def __init__(self, capacity, food):\n",
    "        super().__init__(capacity, food)\n",
    "        \n",
    "    def __str__(self):\n",
    "        return f'{self.capacity} людей предпочитают не есть мясо! Они предпочитают {self.food}'\n",
    "    \n",
    "class MeatEater(Initialization):\n",
    "    \n",
    "    def __init__(self, capacity, food):\n",
    "        super().__init__(capacity, food)\n",
    "        \n",
    "    def __str__(self):\n",
    "        return f'{self.capacity} мясоедов в Москве! Помимо мяса они едят еще и {self.food}'\n",
    "    \n",
    "class SweetTooth(Initialization):\n",
    "    \n",
    "    def __init__(self, capacity, food):\n",
    "        super().__init__(capacity, food)\n",
    "        \n",
    "    def __str__(self):\n",
    "        return f'Сладкоежек в Москве {self.capacity}. Их самая любимая еда: {self.food}'\n",
    "        \n",
    "    def comparison(self, other, func):\n",
    "        if isinstance(other, int):\n",
    "            return func(self.capacity, other)\n",
    "        elif isinstance(other, (Vegetarian, MeatEater)):\n",
    "            return func(self.capacity, other.capacity)\n",
    "        else:\n",
    "            return 'Невозможно сравнить количество сладкоежек с {other}'\n",
    "    \n",
    "    def __eq__(self, other):\n",
    "        return self.comparison(other, lambda x, y: x == y)\n",
    "    \n",
    "    def __lt__(self, other):\n",
    "        return self.comparison(other, lambda x, y: x < y)\n",
    "        \n",
    "    def __gt__(self, other):\n",
    "        return self.comparison(other, lambda x, y: x > y)    \n",
    "\n",
    "\n",
    "v_first = Vegetarian(10000, ['Орехи', 'овощи', 'фрукты'])\n",
    "print(v_first)  # 10000 людей предпочитают не есть мясо! Они предпочитают ['Орехи', 'овощи', 'фрукты']\n",
    "v_second = Vegetarian([23], ['nothing'])  # Количество людей должно быть целым числом\n",
    "m_first = MeatEater(15000, ['Жареную картошку', 'рыба'])\n",
    "print(m_first)  # 15000 мясоедов в Москве! Помимо мяса они едят еще и ['Жареную картошку', 'рыба']\n",
    "s_first = SweetTooth(30000, ['Мороженое', 'Чипсы', 'ШОКОЛАД'])\n",
    "print(s_first)  # Сладкоежек в Москве 30000. Их самая любимая еда: ['Мороженое', 'Чипсы', 'ШОКОЛАД']\n",
    "print(s_first > v_first)  # True\n",
    "print(30000 == s_first)  # True\n",
    "print(s_first == 25000)  # False\n",
    "print(100000 < s_first)  # False\n",
    "print(100 < s_first)  # True"
   ]
  },
  {
   "cell_type": "markdown",
   "id": "9830cb7f",
   "metadata": {},
   "source": [
    "# 4.6 Пример \" Exceptions. multiple inheritance\""
   ]
  },
  {
   "cell_type": "code",
   "execution_count": 90,
   "id": "65f1bbc1",
   "metadata": {},
   "outputs": [
    {
     "name": "stdout",
     "output_type": "stream",
     "text": [
      "Person 5, spec\n"
     ]
    }
   ],
   "source": [
    "class Doctor():\n",
    "    \n",
    "    def __init__(self, degree):\n",
    "        self.degree = degree\n",
    "        \n",
    "class Builder:\n",
    "    \n",
    "    def __init__(self, rank):\n",
    "        self.rank = rank    \n",
    "\n",
    "class Person(Doctor, Builder):\n",
    "    \n",
    "    def __init__(self, degree, rank):\n",
    "        super().__init__(degree) # делегирование Doctor\n",
    "        Builder.__init__(self, rank) # делегирование Builde\n",
    "        \n",
    "    def __str__(self):\n",
    "        return f'Person {self.degree}, {self.rank}'\n",
    "\n",
    "per = Person(5, 'spec')\n",
    "print(per)"
   ]
  },
  {
   "cell_type": "markdown",
   "id": "4d84856e",
   "metadata": {},
   "source": [
    "# 4.7 Пример \" Exceptions. slots\""
   ]
  },
  {
   "cell_type": "code",
   "execution_count": 92,
   "id": "2651af7f",
   "metadata": {},
   "outputs": [
    {
     "name": "stdout",
     "output_type": "stream",
     "text": [
      "0.6101786979706958\n",
      "0.4567407660651952\n"
     ]
    }
   ],
   "source": [
    "from timeit import timeit\n",
    "\n",
    "class Point:\n",
    "    \n",
    "    def __init__(self, x, y):\n",
    "        self.x = x\n",
    "        self.y = y\n",
    "        \n",
    "class PointSlors:\n",
    "    \n",
    "    __slots__ = ('x', 'y')\n",
    "    \n",
    "    def __init__(self, x, y):\n",
    "        self.x = x\n",
    "        self.y = y\n",
    "        \n",
    "def make_cls1():\n",
    "    sec = Point(3, 4)\n",
    "    sec.x = 100\n",
    "    sec.x\n",
    "    del sec.x\n",
    "    \n",
    "def make_cls2():\n",
    "    sec = PointSlors(3, 4)\n",
    "    sec.x = 100\n",
    "    sec.x\n",
    "    del sec.x\n",
    "\n",
    "print(timeit(make_cls1))\n",
    "print(timeit(make_cls2))"
   ]
  },
  {
   "cell_type": "markdown",
   "id": "5feb98dd",
   "metadata": {},
   "source": [
    "# 4.8 Пример \" Exceptions. slots (property)\""
   ]
  },
  {
   "cell_type": "code",
   "execution_count": 94,
   "id": "47136f2a",
   "metadata": {},
   "outputs": [
    {
     "name": "stdout",
     "output_type": "stream",
     "text": [
      "setter called\n"
     ]
    },
    {
     "data": {
      "text/plain": [
       "(4, 5, 'red')"
      ]
     },
     "execution_count": 94,
     "metadata": {},
     "output_type": "execute_result"
    }
   ],
   "source": [
    "class Rectangle:\n",
    "    __slots__ = '__width', 'height'\n",
    "    \n",
    "    def __init__(self, a, b):\n",
    "        self.width = a\n",
    "        self.height = b\n",
    "        \n",
    "    @property # getter\n",
    "    def width(self):\n",
    "        return self.__width\n",
    "    \n",
    "    @width.setter\n",
    "    def width(self, value):\n",
    "        print('setter called')\n",
    "        self.__width = value\n",
    "        \n",
    "class Square(Rectangle):\n",
    "        __slots__ = 'color'\n",
    "        def __init__(self, a, b, color):\n",
    "            super().__init__(a, b)\n",
    "            self.color = color\n",
    "\n",
    "c = Square(4, 5, 'red')\n",
    "c.width, c.height, c.color"
   ]
  },
  {
   "cell_type": "markdown",
   "id": "f580e098",
   "metadata": {},
   "source": [
    "# 5 Пример \"Python exceptions\"\n",
    "### пример 1:"
   ]
  },
  {
   "cell_type": "code",
   "execution_count": 98,
   "id": "b3ad4379",
   "metadata": {},
   "outputs": [
    {
     "ename": "TypeError",
     "evalue": "Неверный тип валюты",
     "output_type": "error",
     "traceback": [
      "\u001b[0;31m---------------------------------------------------------------------------\u001b[0m",
      "\u001b[0;31mTypeError\u001b[0m                                 Traceback (most recent call last)",
      "Cell \u001b[0;32mIn[98], line 36\u001b[0m\n\u001b[1;32m     34\u001b[0m wallet2 \u001b[38;5;241m=\u001b[39m Wallet(\u001b[38;5;124m'\u001b[39m\u001b[38;5;124mRUB\u001b[39m\u001b[38;5;124m'\u001b[39m, \u001b[38;5;241m100\u001b[39m)\n\u001b[1;32m     35\u001b[0m wallet3 \u001b[38;5;241m=\u001b[39m Wallet(\u001b[38;5;124m'\u001b[39m\u001b[38;5;124mRUB\u001b[39m\u001b[38;5;124m'\u001b[39m, \u001b[38;5;241m150\u001b[39m)\n\u001b[0;32m---> 36\u001b[0m wallet4 \u001b[38;5;241m=\u001b[39m \u001b[43mWallet\u001b[49m\u001b[43m(\u001b[49m\u001b[38;5;241;43m12\u001b[39;49m\u001b[43m,\u001b[49m\u001b[43m \u001b[49m\u001b[38;5;241;43m150\u001b[39;49m\u001b[43m)\u001b[49m  \u001b[38;5;66;03m# исключение TypeError('Неверный тип валюты')\u001b[39;00m\n\u001b[1;32m     37\u001b[0m wallet5 \u001b[38;5;241m=\u001b[39m Wallet(\u001b[38;5;124m'\u001b[39m\u001b[38;5;124mqwerty\u001b[39m\u001b[38;5;124m'\u001b[39m, \u001b[38;5;241m150\u001b[39m)  \u001b[38;5;66;03m# исключение NameError('Неверная длина названия валюты')\u001b[39;00m\n\u001b[1;32m     38\u001b[0m wallet6 \u001b[38;5;241m=\u001b[39m Wallet(\u001b[38;5;124m'\u001b[39m\u001b[38;5;124mabc\u001b[39m\u001b[38;5;124m'\u001b[39m, \u001b[38;5;241m150\u001b[39m)  \u001b[38;5;66;03m# исключение ValueError('Название должно состоять только из заглавных букв')\u001b[39;00m\n",
      "Cell \u001b[0;32mIn[98], line 4\u001b[0m, in \u001b[0;36mWallet.__init__\u001b[0;34m(self, currency, balance)\u001b[0m\n\u001b[1;32m      2\u001b[0m \u001b[38;5;28;01mdef\u001b[39;00m \u001b[38;5;21m__init__\u001b[39m(\u001b[38;5;28mself\u001b[39m, currency, balance):\n\u001b[1;32m      3\u001b[0m     \u001b[38;5;28;01mif\u001b[39;00m \u001b[38;5;129;01mnot\u001b[39;00m \u001b[38;5;28misinstance\u001b[39m(currency, \u001b[38;5;28mstr\u001b[39m):\n\u001b[0;32m----> 4\u001b[0m         \u001b[38;5;28;01mraise\u001b[39;00m \u001b[38;5;167;01mTypeError\u001b[39;00m(\u001b[38;5;124m\"\u001b[39m\u001b[38;5;124mНеверный тип валюты\u001b[39m\u001b[38;5;124m\"\u001b[39m)\n\u001b[1;32m      5\u001b[0m     \u001b[38;5;28;01melif\u001b[39;00m \u001b[38;5;28mlen\u001b[39m(currency) \u001b[38;5;241m!=\u001b[39m \u001b[38;5;241m3\u001b[39m:\n\u001b[1;32m      6\u001b[0m         \u001b[38;5;28;01mraise\u001b[39;00m \u001b[38;5;167;01mNameError\u001b[39;00m(\u001b[38;5;124m\"\u001b[39m\u001b[38;5;124mНеверная длина названия валюты\u001b[39m\u001b[38;5;124m\"\u001b[39m)\n",
      "\u001b[0;31mTypeError\u001b[0m: Неверный тип валюты"
     ]
    }
   ],
   "source": [
    "class Wallet:\n",
    "    def __init__(self, currency, balance):\n",
    "        if not isinstance(currency, str):\n",
    "            raise TypeError(\"Неверный тип валюты\")\n",
    "        elif len(currency) != 3:\n",
    "            raise NameError(\"Неверная длина названия валюты\")\n",
    "        elif currency != currency.upper():\n",
    "            raise ValueError(\"Название должно состоять только из заглавных букв\")            \n",
    "        self.currency = currency\n",
    "        self.balance = balance\n",
    "        \n",
    "    def __eq__(self, value):\n",
    "        if not isinstance(value, Wallet):\n",
    "            raise TypeError(f\"Wallet не поддерживает сравнение с {value}\")        \n",
    "        elif self.currency != value.currency:\n",
    "            raise ValueError(\"Нельзя сравнить разные валюты\")\n",
    "        elif self.currency == value.currency:\n",
    "            return self.balance == value.balance\n",
    "            \n",
    "            \n",
    "    def __add__(self, value):\n",
    "        if not isinstance(value, Wallet) or self.currency != value.currency:\n",
    "            raise ValueError(\"Данная операция запрещена\")\n",
    "        else:    \n",
    "            return Wallet(value.currency, self.balance + value.balance)\n",
    "        \n",
    "    def __sub__(self, value):\n",
    "        if not isinstance(value, Wallet) or self.currency != value.currency:\n",
    "            raise ValueError(\"Данная операция запрещена\")\n",
    "        else:    \n",
    "            return Wallet(value.currency, self.balance - value.balance)\n",
    "\n",
    "wallet1 = Wallet('USD', 50)\n",
    "wallet2 = Wallet('RUB', 100)\n",
    "wallet3 = Wallet('RUB', 150)\n",
    "wallet4 = Wallet(12, 150)  # исключение TypeError('Неверный тип валюты')\n",
    "wallet5 = Wallet('qwerty', 150)  # исключение NameError('Неверная длина названия валюты')\n",
    "wallet6 = Wallet('abc', 150)  # исключение ValueError('Название должно состоять только из заглавных букв')\n",
    "print(wallet2 == wallet3)  # False\n",
    "print(wallet2 == 100)  # TypeError('Wallet не поддерживает сравнение с 100')\n",
    "print(wallet2 == wallet1)  # ValueError('Нельзя сравнить разные валюты')\n",
    "wallet7 = wallet2 + wallet3\n",
    "print(wallet7.currency, wallet7.balance)  # печатает 'RUB 250'\n",
    "wallet2 + 45  # ValueError('Данная операция запрещена')"
   ]
  },
  {
   "cell_type": "markdown",
   "id": "f4d8a389",
   "metadata": {},
   "source": [
    "### пример 2:"
   ]
  },
  {
   "cell_type": "code",
   "execution_count": 97,
   "id": "abf48578",
   "metadata": {},
   "outputs": [
    {
     "name": "stdout",
     "output_type": "stream",
     "text": [
      "str called\n"
     ]
    },
    {
     "ename": "MyException",
     "evalue": "MyException (hello)",
     "output_type": "error",
     "traceback": [
      "\u001b[0;31m---------------------------------------------------------------------------\u001b[0m",
      "\u001b[0;31mMyException\u001b[0m                               Traceback (most recent call last)",
      "Cell \u001b[0;32mIn[97], line 16\u001b[0m\n\u001b[1;32m     13\u001b[0m         \u001b[38;5;28;01melse\u001b[39;00m:\n\u001b[1;32m     14\u001b[0m             \u001b[38;5;28;01mreturn\u001b[39;00m \u001b[38;5;124mf\u001b[39m\u001b[38;5;124m'\u001b[39m\u001b[38;5;124mMyException is empty\u001b[39m\u001b[38;5;124m'\u001b[39m\n\u001b[0;32m---> 16\u001b[0m \u001b[38;5;28;01mraise\u001b[39;00m MyException(\u001b[38;5;124m'\u001b[39m\u001b[38;5;124mhello\u001b[39m\u001b[38;5;124m'\u001b[39m, \u001b[38;5;241m1\u001b[39m, \u001b[38;5;241m2\u001b[39m, \u001b[38;5;241m3\u001b[39m)\n",
      "\u001b[0;31mMyException\u001b[0m: MyException (hello)"
     ]
    },
    {
     "name": "stdout",
     "output_type": "stream",
     "text": [
      "str called\n",
      "str called\n"
     ]
    }
   ],
   "source": [
    "class MyException(Exception):\n",
    "    \"\"\"\"this is my first Exception\"\"\"\n",
    "    def __init__(self, *args):\n",
    "        if args:\n",
    "            self.message = args[0]\n",
    "        else:\n",
    "            self.message = None\n",
    "            \n",
    "    def __str__(self):\n",
    "        print('str called')\n",
    "        if self.message:\n",
    "            return f'MyException ({self.message})'\n",
    "        else:\n",
    "            return f'MyException is empty'\n",
    "        \n",
    "raise MyException('hello', 1, 2, 3)"
   ]
  },
  {
   "cell_type": "markdown",
   "id": "7ae8f4a1",
   "metadata": {},
   "source": [
    "### пример 3:"
   ]
  },
  {
   "cell_type": "code",
   "execution_count": 99,
   "id": "ea847157",
   "metadata": {},
   "outputs": [
    {
     "name": "stdout",
     "output_type": "stream",
     "text": [
      "good\n",
      "end\n"
     ]
    }
   ],
   "source": [
    "# else - исп-ся только один раз. Выводтся в том случае, если не сработал except\n",
    "# finally - исп-ся только один раз. Всегда выводится в конце. Обычно исп-ют для закрытия файла\n",
    "\n",
    "s = 'hello'\n",
    "d = {}\n",
    "# f = open('123.txt')\n",
    "try:\n",
    "    1/5\n",
    "except (KeyError, IndexError):\n",
    "    print('LookupError')\n",
    "except ZeroDivisionError:\n",
    "    print('ZeroDivisionError')\n",
    "else:\n",
    "    print('good')\n",
    "finally:\n",
    "    print('end')\n",
    "    #f.close()"
   ]
  },
  {
   "cell_type": "markdown",
   "id": "aae35b86",
   "metadata": {},
   "source": [
    "### пример 4:"
   ]
  },
  {
   "cell_type": "code",
   "execution_count": 101,
   "id": "49435806",
   "metadata": {},
   "outputs": [
    {
     "ename": "Exception",
     "evalue": "Большое исключение",
     "output_type": "error",
     "traceback": [
      "\u001b[0;31m---------------------------------------------------------------------------\u001b[0m",
      "\u001b[0;31mException\u001b[0m                                 Traceback (most recent call last)",
      "Cell \u001b[0;32mIn[101], line 7\u001b[0m\n\u001b[1;32m      5\u001b[0m         \u001b[38;5;28;01mraise\u001b[39;00m \u001b[38;5;167;01mTypeError\u001b[39;00m(\u001b[38;5;124m'\u001b[39m\u001b[38;5;124mОшибка типа\u001b[39m\u001b[38;5;124m'\u001b[39m)\n\u001b[1;32m      6\u001b[0m     \u001b[38;5;28;01mexcept\u001b[39;00m \u001b[38;5;167;01mTypeError\u001b[39;00m \u001b[38;5;28;01mas\u001b[39;00m second:\n\u001b[0;32m----> 7\u001b[0m         \u001b[38;5;28;01mraise\u001b[39;00m \u001b[38;5;167;01mException\u001b[39;00m(\u001b[38;5;124m'\u001b[39m\u001b[38;5;124mБольшое исключение\u001b[39m\u001b[38;5;124m'\u001b[39m) \u001b[38;5;28;01mfrom\u001b[39;00m \u001b[38;5;28;01mNone\u001b[39;00m\n\u001b[1;32m      9\u001b[0m \u001b[38;5;28;01mtry\u001b[39;00m:\n\u001b[1;32m     10\u001b[0m     \u001b[38;5;28;01mraise\u001b[39;00m \u001b[38;5;167;01mValueError\u001b[39;00m(\u001b[38;5;124m'\u001b[39m\u001b[38;5;124mошибка значения\u001b[39m\u001b[38;5;124m'\u001b[39m)\n",
      "\u001b[0;31mException\u001b[0m: Большое исключение"
     ]
    }
   ],
   "source": [
    "try:\n",
    "    raise ValueError('ошибка значения')\n",
    "except ValueError as first:\n",
    "    try:\n",
    "        raise TypeError('Ошибка типа')\n",
    "    except TypeError as second:\n",
    "        raise Exception('Большое исключение') from None\n",
    "\n",
    "try:\n",
    "    raise ValueError('ошибка значения')\n",
    "except ValueError as first:\n",
    "    try:\n",
    "        raise TypeError('Ошибка типа')\n",
    "    except TypeError as second:\n",
    "        raise Exception('Большое исключение') from second\n",
    "\n",
    "try:\n",
    "    raise ValueError('ошибка значения')\n",
    "except ValueError as first:\n",
    "    try:\n",
    "        raise TypeError('Ошибка типа')\n",
    "    except TypeError as second:\n",
    "        raise Exception('Большое исключение') from first"
   ]
  },
  {
   "cell_type": "code",
   "execution_count": null,
   "id": "7e9bc1de",
   "metadata": {},
   "outputs": [],
   "source": []
  }
 ],
 "metadata": {
  "kernelspec": {
   "display_name": "Python 3 (ipykernel)",
   "language": "python",
   "name": "python3"
  },
  "language_info": {
   "codemirror_mode": {
    "name": "ipython",
    "version": 3
   },
   "file_extension": ".py",
   "mimetype": "text/x-python",
   "name": "python",
   "nbconvert_exporter": "python",
   "pygments_lexer": "ipython3",
   "version": "3.8.10"
  }
 },
 "nbformat": 4,
 "nbformat_minor": 5
}

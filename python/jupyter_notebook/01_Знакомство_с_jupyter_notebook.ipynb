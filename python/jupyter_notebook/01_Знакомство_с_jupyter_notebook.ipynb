{
 "cells": [
  {
   "cell_type": "markdown",
   "metadata": {
    "id": "mRHshOk6hrhJ"
   },
   "source": [
    "Программы на языке Python можно запускать двумя основными способами.\n",
    "\n",
    "1. Можно написать программу целиком, сохранить её в файле или нескольких файлах, а затем запустить её целиком и получить результат её работы:"
   ]
  },
  {
   "cell_type": "code",
   "execution_count": 3,
   "metadata": {
    "colab": {
     "base_uri": "https://localhost:8080/"
    },
    "id": "arhpgeSTS8J3",
    "outputId": "7f3de924-9ad6-4806-d1a2-c34ba1302f15"
   },
   "outputs": [
    {
     "name": "stdout",
     "output_type": "stream",
     "text": [
      "Hello!\n"
     ]
    }
   ],
   "source": [
    "print('Hello!')"
   ]
  },
  {
   "cell_type": "code",
   "execution_count": 7,
   "metadata": {
    "id": "_OBCkPXgXDWk"
   },
   "outputs": [],
   "source": [
    "a = 3"
   ]
  },
  {
   "cell_type": "code",
   "execution_count": 8,
   "metadata": {
    "colab": {
     "base_uri": "https://localhost:8080/"
    },
    "id": "a9_Uo51uXHCC",
    "outputId": "e701c6b8-8aee-42a2-99b1-693edeeae459"
   },
   "outputs": [
    {
     "name": "stdout",
     "output_type": "stream",
     "text": [
      "3\n"
     ]
    }
   ],
   "source": [
    "print(a)"
   ]
  },
  {
   "cell_type": "markdown",
   "metadata": {
    "id": "qpItDSEJqtgc"
   },
   "source": [
    "## Новый раздел"
   ]
  },
  {
   "cell_type": "code",
   "execution_count": 4,
   "metadata": {
    "colab": {
     "base_uri": "https://localhost:8080/"
    },
    "id": "4Pl1gfwiRUJo",
    "outputId": "7e455de0-2148-4d6a-8489-bc3d8f67fc78"
   },
   "outputs": [
    {
     "name": "stdout",
     "output_type": "stream",
     "text": [
      "Drive already mounted at /content/drive; to attempt to forcibly remount, call drive.mount(\"/content/drive\", force_remount=True).\n"
     ]
    }
   ],
   "source": [
    "from google.colab import drive\n",
    "drive.mount('/content/drive')"
   ]
  },
  {
   "cell_type": "code",
   "execution_count": 10,
   "metadata": {
    "colab": {
     "base_uri": "https://localhost:8080/"
    },
    "id": "bY4HVRLvXEok",
    "outputId": "c01109ee-5d03-446b-92c2-4f3ac3d53f36"
   },
   "outputs": [
    {
     "name": "stdout",
     "output_type": "stream",
     "text": [
      "0\n"
     ]
    }
   ],
   "source": [
    "for i in range(0,1):\n",
    "    print(i)"
   ]
  },
  {
   "cell_type": "markdown",
   "metadata": {
    "id": "cp1PP76Zsad0"
   },
   "source": []
  },
  {
   "cell_type": "code",
   "execution_count": 9,
   "metadata": {
    "colab": {
     "base_uri": "https://localhost:8080/"
    },
    "id": "MTmaiKLBsecw",
    "outputId": "f0638a74-5f58-4e7b-a58f-6d2589f19992"
   },
   "outputs": [
    {
     "name": "stdout",
     "output_type": "stream",
     "text": [
      "Hello World\n"
     ]
    }
   ],
   "source": [
    "print(\"Hello World\")"
   ]
  },
  {
   "cell_type": "markdown",
   "metadata": {
    "id": "oz9DGAZGhrhF"
   },
   "source": [
    "# Начало работы в Jupyter Notebook"
   ]
  },
  {
   "cell_type": "markdown",
   "metadata": {
    "id": "XxPhHVl0hrhQ"
   },
   "source": [
    "2. Можно запустить интерактивную консоль, и вводить в ней команды по одной, получая результат выполнения каждой команды отдельно:"
   ]
  },
  {
   "cell_type": "markdown",
   "metadata": {
    "id": "hzw7i9EfeWvF"
   },
   "source": []
  },
  {
   "cell_type": "code",
   "execution_count": null,
   "metadata": {
    "id": "dLvlRmFQeWL9"
   },
   "outputs": [],
   "source": [
    "print(111)\n"
   ]
  },
  {
   "cell_type": "code",
   "execution_count": 12,
   "metadata": {
    "colab": {
     "base_uri": "https://localhost:8080/"
    },
    "id": "PtjKX67ATNwb",
    "outputId": "e7e56f0e-e20a-4e02-8eaa-6144bfbfe517"
   },
   "outputs": [
    {
     "name": "stdout",
     "output_type": "stream",
     "text": [
      "Requirement already satisfied: pandas in /usr/local/lib/python3.7/dist-packages (1.1.5)\n",
      "Requirement already satisfied: pytz>=2017.2 in /usr/local/lib/python3.7/dist-packages (from pandas) (2018.9)\n",
      "Requirement already satisfied: python-dateutil>=2.7.3 in /usr/local/lib/python3.7/dist-packages (from pandas) (2.8.2)\n",
      "Requirement already satisfied: numpy>=1.15.4 in /usr/local/lib/python3.7/dist-packages (from pandas) (1.19.5)\n",
      "Requirement already satisfied: six>=1.5 in /usr/local/lib/python3.7/dist-packages (from python-dateutil>=2.7.3->pandas) (1.15.0)\n"
     ]
    }
   ],
   "source": [
    "!pip install pandas"
   ]
  },
  {
   "cell_type": "markdown",
   "metadata": {
    "id": "Gxg0rbA-hrhb"
   },
   "source": [
    "В Data Science, как правило, более удобным оказывается именно второй вариант, поскольку работа с данными - это, как правило, исследовательская работа. Она не всегда нацелена на написание конкретной программы.\n",
    "\n",
    "У обычной интерактивной консоли есть очень удобный аналог - Jupyter Notebook. Мы будем использовать Jupyter Notebook в составе дистрибутива `Anaconda`, который можно скачать с [официального сайта](https://www.anaconda.com/).\n",
    "\n",
    "После установки и запуска мы оказываемся в домашней директории - это та папка, из которой был запущен Jupyter Notebook."
   ]
  },
  {
   "cell_type": "markdown",
   "metadata": {
    "id": "1zfykBc1hrhl"
   },
   "source": [
    "Нажимаем меню `New` и выбираем в нём `Python 3` чтобы открыть создать новый ноутбук:"
   ]
  },
  {
   "cell_type": "markdown",
   "metadata": {
    "id": "sMRRQ_3Yhrhu"
   },
   "source": [
    "Нажав на название нашего ноутбука в шапке (сейчас он называется `Untitled`), можно его переименовать. Переименуем ноутбук в `Lesson1`."
   ]
  },
  {
   "cell_type": "markdown",
   "metadata": {
    "id": "8O-Mujv-hrh4"
   },
   "source": [
    "В верхней части расположен тулбар, позволяющий управлять нашим ноутбуком. Вот некоторые из доступных через него функций:"
   ]
  },
  {
   "cell_type": "markdown",
   "metadata": {
    "id": "5EyRv9sqvJI_"
   },
   "source": []
  },
  {
   "cell_type": "markdown",
   "metadata": {
    "id": "CUGsjXqJoO6C"
   },
   "source": [
    "## Заголовок"
   ]
  },
  {
   "cell_type": "markdown",
   "metadata": {
    "id": "chk9c-SwhriC"
   },
   "source": [
    "В меню `File` кроме интуитивно понятных пунктов есть несколько очень важных опций:"
   ]
  },
  {
   "cell_type": "markdown",
   "metadata": {
    "id": "SGPlJGQNhriW"
   },
   "source": [
    "В меню `Edit` содержатся действия над ячейками. Тут можно вырезать, копировать, вставлять ячейки (как сверху, так и снизу от данной), удалять. Также можно разделять ячейки или наоборот сливать в одну, ячейки можно двигать вверх и вниз. В этом же меню находится очень полезная функция `Find and Replace`, которая позволяет выполнять поиск и замену по содержимому ячеек в ноутбуке.\n",
    "\n",
    "С помощью меню `Insert` можно создавать новые ячейки в ноутбуке, причём как выше данной, так и ниже.\n",
    "\n",
    "В меню `Cell` располагаются опции, связанные с запуском ячеек:"
   ]
  },
  {
   "cell_type": "markdown",
   "metadata": {
    "id": "ciZrk6DZhrif"
   },
   "source": [
    "С помощью меню `Kernel` можно управлять процессами, происходящими в нашем ноутбуке. С помощью опции `Interrupt` можно прервать текущий процесс (это же можно сделать и с помощью определённой кнопки на тулбаре), с помощью `Restart` можно полностью перезагрузить ноутбук, а с помощью `Shutdown` можно просто его полностью остановить."
   ]
  },
  {
   "cell_type": "markdown",
   "metadata": {
    "id": "1M3Y00Pnhrii"
   },
   "source": [
    "В тулбаре также есть выпадающее меню, в котором можно выбрать тип ячейки. Здесь мы будем использовать в основном две возможности - `Code` и `Markdown`. `Code` - тип ячейки по умолчанию. В таких ячейках можно набирать код программы и запускать его. `Markdown` - ячейка с текстом. Здесь можно набирать текст, используя синтаксис [Markdown](https://ru.wikipedia.org/wiki/Markdown), а также [LaTeX](https://ru.wikipedia.org/wiki/LaTeX)."
   ]
  },
  {
   "cell_type": "markdown",
   "metadata": {
    "id": "rh0pNmqQhrkY"
   },
   "source": [
    "### Горячие клавиши\n",
    "\n",
    "Jupyter Notebook позволяет также использование горячих клавиш, чтобы упростить и ускорить работу в нём. Например, вот несколько способов быстро запустить текущую ячейку:\n",
    "\n",
    "* `Shift + Enter` - запустить ячейку и перейти в следующую\n",
    "* `Ctrl + Enter` - запустить ячейку и остаться в ней\n",
    "\n",
    "Список горячих клавиш можно найти в меню `Help` $\\rightarrow$ `Keyboard Shortcuts`.\n",
    "\n",
    "В режиме написания кода в ячейке также полезно использовать клавишу `Tab`: она выводит подсказку о том, какие команды начинаются с данных букв. Например, можно ввести в ячейке `pr`, затем нажать `Tab`, и нам выпадет окно со всеми командами, которые начинаются с `pr`.\n",
    "\n",
    "Если вы хотите узнать подробности о том, что делает какая-то функция, какие аргументы она принимает и пр. - вот несколько способов вызвать документацию к функции:\n",
    "\n",
    "* Набрать имя этой функции (например, `print`) и нажать `Shift + Tab`\n",
    "* Поставить знак вопроса перед этой функцией (например, `?print`) и запустить данную ячейку\n",
    "\n",
    "В ячейке можно также запускать команды из командной строки вашей операционной системы, для этого надо поставить символ `!` перед запускаемой командой. Например, в операционной системе Windows команда `!dir` выведет на экран содержимое папки, в которой вы находитесь."
   ]
  },
  {
   "cell_type": "code",
   "execution_count": 18,
   "metadata": {
    "id": "Jei38kxbYDLK"
   },
   "outputs": [],
   "source": [
    "print()"
   ]
  },
  {
   "cell_type": "code",
   "execution_count": 19,
   "metadata": {
    "id": "Ugb117CoYTpS"
   },
   "outputs": [],
   "source": [
    "?print()"
   ]
  },
  {
   "cell_type": "markdown",
   "metadata": {
    "id": "NzXFjGv9tWTe"
   },
   "source": [
    "# Новый раздел"
   ]
  },
  {
   "cell_type": "markdown",
   "metadata": {
    "id": "DxmJ-uoBhrkY"
   },
   "source": [
    "### Магические команды\n",
    "\n",
    "В Jupyter Notebook можно запускать так называемые _магические команды_. Список таких команд можно посмотреть следующим образом: набрать в ячейке `%lsmagic` и запустить ячейку. Команды, которые начинаются с одного знака `%`, действуют только на одну строку кода, а те, которые начинаются с двух знаков, действуют на всю ячейку.\n",
    "\n",
    "Вот некоторые магические команды:\n",
    "\n",
    "* `%run script.py` - запускает код из файлов с расширением `.py` или из других ноутбуков\n",
    "* `%load script.py` - загружает код из файла внутрь данной ячейки, а сама команда `%load` становится закомментированной\n",
    "* `%pycat script.py` - загружает код из файла во всплывающее окно внизу страницы"
   ]
  },
  {
   "cell_type": "markdown",
   "metadata": {
    "id": "J39utpGNJvk5"
   },
   "source": [
    "# Новый раздел"
   ]
  },
  {
   "cell_type": "markdown",
   "metadata": {
    "id": "Nw58XI9fJwFV"
   },
   "source": [
    "# Новый раздел"
   ]
  },
  {
   "cell_type": "markdown",
   "metadata": {
    "id": "xDZezTqOhrka"
   },
   "source": [
    "* `%%time` - показывает, за какое время исполнились команды из данной ячейки"
   ]
  },
  {
   "cell_type": "code",
   "execution_count": 25,
   "metadata": {
    "colab": {
     "base_uri": "https://localhost:8080/"
    },
    "id": "vr3Fe0z-hrkf",
    "outputId": "05be1a2c-4d75-4ba1-f840-712edb1dc2b6",
    "scrolled": true
   },
   "outputs": [
    {
     "name": "stdout",
     "output_type": "stream",
     "text": [
      "CPU times: user 7.34 ms, sys: 1.85 ms, total: 9.19 ms\n",
      "Wall time: 11.3 ms\n"
     ]
    }
   ],
   "source": [
    "%%time\n",
    "\n",
    "for i in range(100000):\n",
    "    a = 0"
   ]
  },
  {
   "cell_type": "markdown",
   "metadata": {
    "id": "8G4OwdUwhrkr"
   },
   "source": [
    "* `%%timeit` - запускает содержимое данной ячейки несколько раз и считает среднее время выполнения"
   ]
  },
  {
   "cell_type": "code",
   "execution_count": 23,
   "metadata": {
    "colab": {
     "base_uri": "https://localhost:8080/"
    },
    "id": "ZmxyP3pohrks",
    "outputId": "57e46f2c-5111-4bdd-f7a5-dd416a38bb14"
   },
   "outputs": [
    {
     "name": "stdout",
     "output_type": "stream",
     "text": [
      "100 loops, best of 5: 23.5 ns per loop\n"
     ]
    }
   ],
   "source": [
    "%%timeit -n 100\n",
    "10 ** 4"
   ]
  },
  {
   "cell_type": "code",
   "execution_count": null,
   "metadata": {
    "id": "Ff_cxLFvYzn5"
   },
   "outputs": [],
   "source": []
  }
 ],
 "metadata": {
  "colab": {
   "collapsed_sections": [],
   "name": "Знакомство с jupyter notebook.ipynb",
   "provenance": [],
   "toc_visible": true
  },
  "kernelspec": {
   "display_name": "Python 3 (ipykernel)",
   "language": "python",
   "name": "python3"
  },
  "language_info": {
   "codemirror_mode": {
    "name": "ipython",
    "version": 3
   },
   "file_extension": ".py",
   "mimetype": "text/x-python",
   "name": "python",
   "nbconvert_exporter": "python",
   "pygments_lexer": "ipython3",
   "version": "3.8.8"
  }
 },
 "nbformat": 4,
 "nbformat_minor": 1
}

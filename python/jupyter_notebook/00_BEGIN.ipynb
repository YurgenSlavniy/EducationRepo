{
 "cells": [
  {
   "cell_type": "markdown",
   "id": "48f9dabc",
   "metadata": {},
   "source": [
    "# Jupyter notebook"
   ]
  },
  {
   "cell_type": "markdown",
   "id": "4fd08ba9",
   "metadata": {},
   "source": [
    "### Начало работы"
   ]
  },
  {
   "cell_type": "markdown",
   "id": "fb6cbdb7",
   "metadata": {},
   "source": [
    "Установка через git bash: >>> pip install notebook\n",
    "\n",
    "запуск через git bash: >>> jupyter-notebook\n",
    "\n",
    "В пайтон программы запускаются 2 умя способами:\n",
    "\n",
    "1, пишем программу целиком в одном или нескольких файлах\n",
    "потом целиком запускаем программу через cmd.\n",
    "\n",
    "2, через интерактивную консоль (cmd) вводим команды по одной и смотрим на результат работы.\n",
    "\n",
    "jupyter notebook удобен во втором случае. Позволяет запускать команды и видить результат их работы.\n",
    "Интерфейс jupyter notebook интуитивно понятен. \n",
    "работем в ячейках. Над ячейками можно производить разные манипуляуии.\n"
   ]
  },
  {
   "cell_type": "code",
   "execution_count": null,
   "id": "abe5eb6b",
   "metadata": {},
   "outputs": [
    {
     "name": "stdout",
     "output_type": "stream",
     "text": [
      "Начина"
     ]
    }
   ],
   "source": [
    "from time import sleep\n",
    "\n",
    "for i in 'Начинаем работу!':\n",
    "    print(i, end = '')\n",
    "    sleep(0.25)"
   ]
  },
  {
   "cell_type": "markdown",
   "id": "186bf7dd",
   "metadata": {},
   "source": [
    "### Горячие клавиши"
   ]
  },
  {
   "cell_type": "markdown",
   "id": "e275ee33",
   "metadata": {},
   "source": [
    "запустить ячейку: SHIFT + ENTER.\n",
    "после отработки переходим автоматически в следующую ячейку\n",
    "\n",
    "запустить ячейку: CTRL + ENTER.\n",
    "остаёмся в той же ячейке после запуска\n",
    "\n",
    "CTRL + M затем нажимаем H - полный списк горячих клавиш.\n",
    "второй вариант. ESC затем жмём H"
   ]
  },
  {
   "cell_type": "markdown",
   "id": "652f68e8",
   "metadata": {},
   "source": [
    "### Помощь "
   ]
  },
  {
   "cell_type": "markdown",
   "id": "4bc8ea2c",
   "metadata": {},
   "source": [
    "при нажатии TAB после того как начали писать код в ячейке выскакивает подсказка, какая может быть это команда.\n",
    "\n",
    "TAB + SHIFT - всплывает подсказка с документацией.\n",
    "\n",
    "похожий эффект когда перед началом команды пишем\n",
    "например в новой ячейке (?print)\n",
    "\n",
    "В ячейке также можно запускать команды SHELL данной операционной системы. например посмотреть какие файлы содержатся в папке, в которой мы находимся. например (!dir)"
   ]
  },
  {
   "cell_type": "code",
   "execution_count": 1,
   "id": "df9889fb",
   "metadata": {
    "scrolled": true
   },
   "outputs": [
    {
     "name": "stdout",
     "output_type": "stream",
     "text": [
      " Volume in drive D is DRIVERS\n",
      " Volume Serial Number is 7084-83BF\n",
      "\n",
      " Directory of D:\\Р�Р� РЈР§~Р‘Рђ\\jupyternotebook\n",
      "\n",
      "22.09.2022  10:48    <DIR>          .\n",
      "22.09.2022  10:48    <DIR>          ..\n",
      "20.04.2022  10:44    <DIR>          .ipynb_checkpoints\n",
      "13.05.2022  12:19            12В 827 00_BEGIN.ipynb\n",
      "21.02.2022  13:39            18В 625 01_Р—РЅР°РєРѕРјСЃС‚РІРѕ_СЃ_jupyter_notebook.ipynb\n",
      "21.02.2022  13:39           735В 307 02_Fundamentional.ipynb\n",
      "16.05.2022  10:45           302В 878 03_lesson1.ipynb\n",
      "21.02.2022  14:01            93В 361 04_Р’С‹С‡РёСЃР»РµРЅРёСЏ_СЃ_РїРѕРјРѕС‰СЊСЋ_Numpy.ipynb\n",
      "23.02.2022  19:06           135В 473 05_Р Р°Р±РѕС‚Р°_СЃ_Pandas.ipynb\n",
      "24.02.2022  14:24           576В 336 06_Web_Pandas.ipynb\n",
      "01.03.2022  14:36         1В 464В 919 07_Р’РёР·СѓР°Р»РёР·Р°С†РёСЏ_РґР°РЅРЅС‹С…_РІ_Matplotlib_ipynb_.ipynb\n",
      "21.02.2022  13:12         2В 154В 772 08_les05.ipynb\n",
      "01.03.2022  22:13           616В 599 09_webinar_3_new.ipynb\n",
      "18.03.2022  11:38           338В 891 10_РћР±СѓС‡РµРЅРёРµ_СЃ_СѓС‡РёС‚РµР»РµРј_РІ_Scikit_learn.ipynb\n",
      "24.03.2022  10:18         1В 983В 188 11_Web04_new.ipynb\n",
      "28.03.2022  09:19         3В 578В 226 12_sklearn.ipynb\n",
      "24.03.2022  09:01         3В 578В 226 13_Web04.ipynb\n",
      "31.03.2022  08:36           666В 636 14_РћР±СѓС‡РµРЅРёРµ_Р±РµР·_СѓС‡РёС‚РµР»СЏ_РІ_Scikit_learn.ipynb\n",
      "17.04.2022  11:44         7В 520В 546 15_withoutTeacher.ipynb\n",
      "21.04.2022  15:48           492В 528 16_baseline.ipynb\n",
      "24.03.2022  10:14    <DIR>          csv_files\n",
      "09.03.2022  15:28    <DIR>          educproject\n",
      "17.04.2022  11:42            33В 405 homework_1.ipynb\n",
      "19.04.2022  11:25            56В 408 homework_1_1.ipynb\n",
      "19.04.2022  11:26           125В 250 homework_2.ipynb\n",
      "19.04.2022  11:27           502В 911 homework_3.ipynb\n",
      "19.04.2022  11:27           104В 219 homework_4.ipynb\n",
      "17.04.2022  12:03         1В 341В 196 housing_prepared (3).csv\n",
      "17.04.2022  12:03         3В 944В 620 housing_train_ext.csv\n",
      "04.03.2022  11:43    <DIR>          img\n",
      "22.09.2022  10:48            79В 478 mylesson_01_numpy.ipynb\n",
      "24.02.2022  14:17           162В 109 mylesson_02_Pandas.ipynb\n",
      "06.03.2022  09:38         2В 037В 725 mylesson_03_matplotlib.ipynb\n",
      "22.03.2022  10:39           480В 276 mylesson_04_Scikit_learn.ipynb\n",
      "13.04.2022  09:21           341В 022 mylesson_05_scikit_learn_Р±РµР·_СѓС‡РёС‚РµР»СЏ.ipynb\n",
      "14.03.2022  18:46            28В 629 test.csv\n",
      "14.03.2022  11:21            61В 194 train.csv\n",
      "11.03.2022  17:56         1В 181В 837 vebinar-lesson03.ipynb\n",
      "28.03.2022  10:50            60В 436 vebinar_04_sklearn.ipynb\n",
      "22.03.2022  09:08            34В 452 x_train.pkl\n",
      "22.03.2022  09:08            12В 197 x_valid.pkl\n",
      "22.03.2022  09:08            16В 661 y_train.pkl\n",
      "22.03.2022  09:08             5В 977 y_valid.pkl\n",
      "              37 File(s)     34В 879В 340 bytes\n",
      "               6 Dir(s)  260В 543В 537В 152 bytes free\n"
     ]
    }
   ],
   "source": [
    "!dir"
   ]
  },
  {
   "cell_type": "markdown",
   "id": "df24a4bf",
   "metadata": {},
   "source": [
    "### Магические команды"
   ]
  },
  {
   "cell_type": "markdown",
   "id": "b3bc0f86",
   "metadata": {},
   "source": [
    "посмотреть команды можно написав в ячейке : lsmagic"
   ]
  },
  {
   "cell_type": "code",
   "execution_count": 13,
   "id": "239e5a30",
   "metadata": {},
   "outputs": [
    {
     "data": {
      "application/json": {
       "cell": {
        "!": "OSMagics",
        "HTML": "Other",
        "SVG": "Other",
        "bash": "Other",
        "capture": "ExecutionMagics",
        "cmd": "Other",
        "debug": "ExecutionMagics",
        "file": "Other",
        "html": "DisplayMagics",
        "javascript": "DisplayMagics",
        "js": "DisplayMagics",
        "latex": "DisplayMagics",
        "markdown": "DisplayMagics",
        "perl": "Other",
        "prun": "ExecutionMagics",
        "pypy": "Other",
        "python": "Other",
        "python2": "Other",
        "python3": "Other",
        "ruby": "Other",
        "script": "ScriptMagics",
        "sh": "Other",
        "svg": "DisplayMagics",
        "sx": "OSMagics",
        "system": "OSMagics",
        "time": "ExecutionMagics",
        "timeit": "ExecutionMagics",
        "writefile": "OSMagics"
       },
       "line": {
        "alias": "OSMagics",
        "alias_magic": "BasicMagics",
        "autoawait": "AsyncMagics",
        "autocall": "AutoMagics",
        "automagic": "AutoMagics",
        "autosave": "KernelMagics",
        "bookmark": "OSMagics",
        "cd": "OSMagics",
        "clear": "KernelMagics",
        "cls": "KernelMagics",
        "colors": "BasicMagics",
        "conda": "PackagingMagics",
        "config": "ConfigMagics",
        "connect_info": "KernelMagics",
        "copy": "Other",
        "ddir": "Other",
        "debug": "ExecutionMagics",
        "dhist": "OSMagics",
        "dirs": "OSMagics",
        "doctest_mode": "BasicMagics",
        "echo": "Other",
        "ed": "Other",
        "edit": "KernelMagics",
        "env": "OSMagics",
        "gui": "BasicMagics",
        "hist": "Other",
        "history": "HistoryMagics",
        "killbgscripts": "ScriptMagics",
        "ldir": "Other",
        "less": "KernelMagics",
        "load": "CodeMagics",
        "load_ext": "ExtensionMagics",
        "loadpy": "CodeMagics",
        "logoff": "LoggingMagics",
        "logon": "LoggingMagics",
        "logstart": "LoggingMagics",
        "logstate": "LoggingMagics",
        "logstop": "LoggingMagics",
        "ls": "Other",
        "lsmagic": "BasicMagics",
        "macro": "ExecutionMagics",
        "magic": "BasicMagics",
        "matplotlib": "PylabMagics",
        "mkdir": "Other",
        "more": "KernelMagics",
        "notebook": "BasicMagics",
        "page": "BasicMagics",
        "pastebin": "CodeMagics",
        "pdb": "ExecutionMagics",
        "pdef": "NamespaceMagics",
        "pdoc": "NamespaceMagics",
        "pfile": "NamespaceMagics",
        "pinfo": "NamespaceMagics",
        "pinfo2": "NamespaceMagics",
        "pip": "PackagingMagics",
        "popd": "OSMagics",
        "pprint": "BasicMagics",
        "precision": "BasicMagics",
        "prun": "ExecutionMagics",
        "psearch": "NamespaceMagics",
        "psource": "NamespaceMagics",
        "pushd": "OSMagics",
        "pwd": "OSMagics",
        "pycat": "OSMagics",
        "pylab": "PylabMagics",
        "qtconsole": "KernelMagics",
        "quickref": "BasicMagics",
        "recall": "HistoryMagics",
        "rehashx": "OSMagics",
        "reload_ext": "ExtensionMagics",
        "ren": "Other",
        "rep": "Other",
        "rerun": "HistoryMagics",
        "reset": "NamespaceMagics",
        "reset_selective": "NamespaceMagics",
        "rmdir": "Other",
        "run": "ExecutionMagics",
        "save": "CodeMagics",
        "sc": "OSMagics",
        "set_env": "OSMagics",
        "store": "StoreMagics",
        "sx": "OSMagics",
        "system": "OSMagics",
        "tb": "ExecutionMagics",
        "time": "ExecutionMagics",
        "timeit": "ExecutionMagics",
        "unalias": "OSMagics",
        "unload_ext": "ExtensionMagics",
        "who": "NamespaceMagics",
        "who_ls": "NamespaceMagics",
        "whos": "NamespaceMagics",
        "xdel": "NamespaceMagics",
        "xmode": "BasicMagics"
       }
      },
      "text/plain": [
       "Available line magics:\n",
       "%alias  %alias_magic  %autoawait  %autocall  %automagic  %autosave  %bookmark  %cd  %clear  %cls  %colors  %conda  %config  %connect_info  %copy  %ddir  %debug  %dhist  %dirs  %doctest_mode  %echo  %ed  %edit  %env  %gui  %hist  %history  %killbgscripts  %ldir  %less  %load  %load_ext  %loadpy  %logoff  %logon  %logstart  %logstate  %logstop  %ls  %lsmagic  %macro  %magic  %matplotlib  %mkdir  %more  %notebook  %page  %pastebin  %pdb  %pdef  %pdoc  %pfile  %pinfo  %pinfo2  %pip  %popd  %pprint  %precision  %prun  %psearch  %psource  %pushd  %pwd  %pycat  %pylab  %qtconsole  %quickref  %recall  %rehashx  %reload_ext  %ren  %rep  %rerun  %reset  %reset_selective  %rmdir  %run  %save  %sc  %set_env  %store  %sx  %system  %tb  %time  %timeit  %unalias  %unload_ext  %who  %who_ls  %whos  %xdel  %xmode\n",
       "\n",
       "Available cell magics:\n",
       "%%!  %%HTML  %%SVG  %%bash  %%capture  %%cmd  %%debug  %%file  %%html  %%javascript  %%js  %%latex  %%markdown  %%perl  %%prun  %%pypy  %%python  %%python2  %%python3  %%ruby  %%script  %%sh  %%svg  %%sx  %%system  %%time  %%timeit  %%writefile\n",
       "\n",
       "Automagic is ON, % prefix IS NOT needed for line magics."
      ]
     },
     "execution_count": 13,
     "metadata": {},
     "output_type": "execute_result"
    }
   ],
   "source": [
    "lsmagic"
   ]
  },
  {
   "cell_type": "markdown",
   "id": "130b854a",
   "metadata": {},
   "source": [
    "команды начинающиеся с одного знака % действуют на одну строку кода\n",
    "\n",
    "%% - действуют на всю ячейку"
   ]
  },
  {
   "cell_type": "markdown",
   "id": "5e190c0b",
   "metadata": {},
   "source": [
    "### рассмотрим некоторые команды"
   ]
  },
  {
   "cell_type": "markdown",
   "id": "367cc5bb",
   "metadata": {},
   "source": [
    "%run - запускает код из файлов с раширением .py, либо из других нотбуков.\n",
    "\n",
    "%load - выгрузит код из файла, при этом сама команда закомментируется, а код окажется в самой ячейке\n",
    "\n",
    "%pycat - выгрузит код в нижнюю часть страницы\n",
    "\n",
    "%%time - показывает за какое время исполняются команды, расположенные в ячейке\n",
    "\n",
    "%%timeit - измерение скорости исполнения быстрых команд\n",
    "\n"
   ]
  },
  {
   "cell_type": "code",
   "execution_count": 14,
   "id": "fa31a16e",
   "metadata": {},
   "outputs": [
    {
     "name": "stdout",
     "output_type": "stream",
     "text": [
      "Начинаем работу!CPU times: total: 15.6 ms\n",
      "Wall time: 4.01 s\n"
     ]
    }
   ],
   "source": [
    "%%time \n",
    "from time import sleep\n",
    "\n",
    "for i in 'Начинаем работу!':\n",
    "    print(i, end = '')\n",
    "    sleep(0.25)"
   ]
  },
  {
   "cell_type": "code",
   "execution_count": 15,
   "id": "9b8d0a34",
   "metadata": {},
   "outputs": [
    {
     "name": "stdout",
     "output_type": "stream",
     "text": [
      "940 ns ± 15.5 ns per loop (mean ± std. dev. of 7 runs, 1,000,000 loops each)\n"
     ]
    }
   ],
   "source": [
    "%%timeit\n",
    "2**100"
   ]
  }
 ],
 "metadata": {
  "kernelspec": {
   "display_name": "Python 3 (ipykernel)",
   "language": "python",
   "name": "python3"
  },
  "language_info": {
   "codemirror_mode": {
    "name": "ipython",
    "version": 3
   },
   "file_extension": ".py",
   "mimetype": "text/x-python",
   "name": "python",
   "nbconvert_exporter": "python",
   "pygments_lexer": "ipython3",
   "version": "3.8.8"
  }
 },
 "nbformat": 4,
 "nbformat_minor": 5
}

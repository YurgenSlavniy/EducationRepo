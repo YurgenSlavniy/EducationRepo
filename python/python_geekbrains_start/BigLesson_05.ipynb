{
 "cells": [
  {
   "cell_type": "markdown",
   "id": "9e5df0cc",
   "metadata": {},
   "source": [
    "# УРОК 5 -  МОДУЛИ И БИБЛИОТЕКИ\n",
    "\n",
    "1. Модули. Определение. Применение. Подключение модулей\n",
    "2. Стандартные модули math. random\n",
    "3. Создание собственных модулей\n",
    "4. Пакеты\n",
    "5. Модули os, sys\n",
    "6. Запуск скрипта с параметрами\n",
    "\n",
    "### Модули.\n",
    "- определение модуля\n",
    "- зачем нужны модули\n",
    "- Разновидности модулей\n",
    "- подключение модуля\n",
    "\n",
    "### определение модуля. \n",
    "Python позволяет поместить классы, функции, данные\n",
    " а также скрипты в отдельный файл и использовать их в других программах.\n",
    " Модулем в пайтон называется любой файл с программой\n",
    "\n",
    "### зачем нужны?\n",
    "- повторное использование кода\n",
    " (один раз написали код и где надо подключаем его)\n",
    "- управление пространством имён\n",
    " (можем использовать одинаковые имена в разных модулях)\n",
    "- деление большого проекта на мелкие части\n",
    " (разбиваем на части и работаем с каждой частью отдельно)\n",
    "\n",
    "### Три основных разновидности модулей\n",
    "1) встроенные (math, random, ...)\n",
    " (например биюлиотеки для математики math и работа со случайными числами random)\n",
    "2) сторонние модули (django, PyQt5,..)\n",
    " (для работы с ними их сначала надо скачать и усановить)\n",
    "3) наши собственные (любой .py файл)\n",
    "\n",
    "### Варианты подключения\n",
    "- подключить модуль целиком import math с помощью команды импорт\n",
    "- псевдоним для модуля import math as mt\n",
    "- импорт всего содержания from math import * (не рекомендуется)\n",
    " (мы импортируем все сущности которые есть в модуле math)\n",
    "- импорт конкретных функций, классов ... from math import sin, cos\n",
    "\n",
    "будем работать в дальнейшем со всеми типами модулей\n",
    " на примере встроенных модулей (math, random, ...):"
   ]
  },
  {
   "cell_type": "code",
   "execution_count": 1,
   "id": "1f8fcc4e",
   "metadata": {},
   "outputs": [],
   "source": [
    "import math"
   ]
  },
  {
   "cell_type": "markdown",
   "id": "cf3f3c4f",
   "metadata": {},
   "source": [
    "модуль можно также назвать библиотекой. После импорта нам доступны\n",
    " функции, данные которые есть в модуле"
   ]
  },
  {
   "cell_type": "code",
   "execution_count": 2,
   "id": "91d90eb0",
   "metadata": {},
   "outputs": [
    {
     "name": "stdout",
     "output_type": "stream",
     "text": [
      "3.141592653589793\n"
     ]
    }
   ],
   "source": [
    "print(math.pi)"
   ]
  },
  {
   "cell_type": "markdown",
   "id": "7f6067e8",
   "metadata": {},
   "source": [
    "например число пи, которое содержится в модуле: 3.141592653589793\n",
    "    \n",
    "также можем использовать какие любо функции из модуля\n",
    " например функцию синус. угол задаётся в радианах"
   ]
  },
  {
   "cell_type": "code",
   "execution_count": 3,
   "id": "38712fbe",
   "metadata": {},
   "outputs": [
    {
     "name": "stdout",
     "output_type": "stream",
     "text": [
      "-0.8555199789753223\n"
     ]
    }
   ],
   "source": [
    "print(math.sin(67))"
   ]
  },
  {
   "cell_type": "markdown",
   "id": "f526ca45",
   "metadata": {},
   "source": [
    "импортирование с псевдонимом на примере рандом."
   ]
  },
  {
   "cell_type": "code",
   "execution_count": 4,
   "id": "0222faca",
   "metadata": {},
   "outputs": [],
   "source": [
    "import random as rd"
   ]
  },
  {
   "cell_type": "markdown",
   "id": "40f11177",
   "metadata": {},
   "source": [
    "псевдоним должен быть говорящим, используют редко, проще вызывать модуль целиком\n",
    "\n",
    "используем модуль рандом по псевдониму"
   ]
  },
  {
   "cell_type": "code",
   "execution_count": 5,
   "id": "4c8dcfcb",
   "metadata": {},
   "outputs": [
    {
     "name": "stdout",
     "output_type": "stream",
     "text": [
      "395\n"
     ]
    }
   ],
   "source": [
    "print(rd.randint(1, 11111))"
   ]
  },
  {
   "cell_type": "markdown",
   "id": "c75a3e3b",
   "metadata": {},
   "source": [
    "самая простая функция модуля рандом - randint - которая возвращает случайное число\n",
    " от 1 до 11111. от начального параметра и до конечного.\n",
    "\n",
    "рассмотрим вариант который не рекомендуется использовать:\n",
    "- импорт всего содержимого модуля"
   ]
  },
  {
   "cell_type": "code",
   "execution_count": 6,
   "id": "18a53082",
   "metadata": {},
   "outputs": [],
   "source": [
    "from math import *"
   ]
  },
  {
   "cell_type": "markdown",
   "id": "d5e27550",
   "metadata": {},
   "source": [
    "мы используем все объекты, функции, классы, данные, скрипты, которые есть в этом модуле\n",
    " теперь можем вызвать число пи без указания модуля, потому что импортировали его целиком\n",
    " и имя модуля теперь не требуется"
   ]
  },
  {
   "cell_type": "code",
   "execution_count": 7,
   "id": "1d932693",
   "metadata": {},
   "outputs": [
    {
     "name": "stdout",
     "output_type": "stream",
     "text": [
      "3.141592653589793\n",
      "0.8509035245341184\n"
     ]
    }
   ],
   "source": [
    "print(pi)\n",
    "print(sin(45))"
   ]
  },
  {
   "cell_type": "markdown",
   "id": "e26877fe",
   "metadata": {},
   "source": [
    "когда мы импортируем все объекты, мы не знаем с какими именами у нас есть эти объекты\n",
    " поэтому могут быть накладки по именам\n",
    "\n",
    "импортировать отдельные функции, классы, данные"
   ]
  },
  {
   "cell_type": "code",
   "execution_count": 8,
   "id": "5ca981a9",
   "metadata": {},
   "outputs": [],
   "source": [
    "from random import randint, randrange"
   ]
  },
  {
   "cell_type": "markdown",
   "id": "d3263211",
   "metadata": {},
   "source": [
    "**from random import** и через запятую перечисляем всё что нужно, например 2 функции randint, randrange\n",
    " объектов, функций, классов может быть сколько угодно. указываем их через запятую\n",
    " после этого можем их использовать без указания имени модуля"
   ]
  },
  {
   "cell_type": "code",
   "execution_count": 9,
   "id": "336cdafb",
   "metadata": {},
   "outputs": [
    {
     "name": "stdout",
     "output_type": "stream",
     "text": [
      "42\n"
     ]
    }
   ],
   "source": [
    "print(randint(3, 98))"
   ]
  },
  {
   "cell_type": "markdown",
   "id": "15619722",
   "metadata": {},
   "source": [
    "таким образом мы контролируем имена, которые есть в этом модуле.\n",
    " и ограждаем себя от проблемы пересечения имён\n"
   ]
  },
  {
   "cell_type": "markdown",
   "id": "8dd8f7c5",
   "metadata": {},
   "source": [
    "# УРОК 2 - СТАНДАРНТЫЕ МОДУЛИ math, random\n",
    "\n",
    "- библиотека math\n",
    "- библиотека random\n",
    "- примеры применения\n",
    "\n",
    "библиотека math содержит математические функции, работает с числами\n",
    "\n",
    "основные функции:\n",
    "- **factorial** - факториал числа\n",
    "- **exp** - экспонента\n",
    "- **log, log2, log10** - различные логорифмы\n",
    "- **sqrt** - квадратный корень\n",
    "- **sin, cos, asin, asoc** - функции для работы с углами\n",
    "- и многие другие\n",
    "\n",
    "с остальными функциями можно познакомиться в официальных документах пайтон\n",
    " либо в интернете\n",
    " \n",
    "Можно решать некоторые математические задачи с помощью **math** - длина окружности с определёным радиусом\n",
    " для того чтобы пользоваться модулем, его необходимо импортировать"
   ]
  },
  {
   "cell_type": "code",
   "execution_count": 11,
   "id": "de4e68de",
   "metadata": {},
   "outputs": [
    {
     "name": "stdout",
     "output_type": "stream",
     "text": [
      "628.3185307179587\n"
     ]
    }
   ],
   "source": [
    "import math\n",
    "r = 100\n",
    "print(2*math.pi*r)"
   ]
  },
  {
   "cell_type": "markdown",
   "id": "ea6001be",
   "metadata": {},
   "source": [
    "- площадь окуржности с определёным радиусом"
   ]
  },
  {
   "cell_type": "code",
   "execution_count": 12,
   "id": "1d567af5",
   "metadata": {},
   "outputs": [
    {
     "name": "stdout",
     "output_type": "stream",
     "text": [
      "31415.926535897932\n",
      "31415.926535897932\n"
     ]
    }
   ],
   "source": [
    "print(math.pi*(r**2))\n",
    "print((math.pow(r,2))*math.pi)"
   ]
  },
  {
   "cell_type": "markdown",
   "id": "0e8fd1ed",
   "metadata": {},
   "source": [
    " также можно воспользоваться библиотекой **math**, функцией **pow**\n",
    " для вызова **math.pow(r,2)** -  r будем возводить во вторую степень - по координатам 2 ух точек определить растояние между ними\n",
    "- х1, y1 - координаты первой точки\n",
    "- x2, y2 - координаты второй точки"
   ]
  },
  {
   "cell_type": "code",
   "execution_count": 13,
   "id": "cbc7f3ed",
   "metadata": {},
   "outputs": [
    {
     "name": "stdout",
     "output_type": "stream",
     "text": [
      "60.41522986797286\n"
     ]
    }
   ],
   "source": [
    "x1 = 16\n",
    "y1 = 3\n",
    "x2 = 45\n",
    "y2 = 56\n",
    "l = math.sqrt((x1 - x2)**2 + (y1 - y2)**2)\n",
    "print(l)"
   ]
  },
  {
   "cell_type": "markdown",
   "id": "3db958e4",
   "metadata": {},
   "source": [
    "для нахождения корня модуль **math.sqrt()**, функция **sqrt()**\n",
    " вычисляем по теореме пифагора расстояние\n",
    "    \n",
    " - найти факториал числа 9"
   ]
  },
  {
   "cell_type": "code",
   "execution_count": 14,
   "id": "b454d52c",
   "metadata": {},
   "outputs": [
    {
     "name": "stdout",
     "output_type": "stream",
     "text": [
      "362880\n"
     ]
    }
   ],
   "source": [
    "print(math.factorial(9))"
   ]
  },
  {
   "cell_type": "markdown",
   "id": "30d0fc6a",
   "metadata": {},
   "source": [
    "берём из библиотеки **math** стандартную функцию **factorial**\n",
    " передаём параметром число для которого нужно найти факториал\n",
    "    \n",
    "### Использование random\n",
    "генерация случайных чисел, букв, элементов последовательности\n",
    "\n",
    "### основные функции:\n",
    "- **randint** (a, b) целое случайное число от a до b\n",
    "- **choice** - случайный элемент последовательности\n",
    "- **shuffle** - перемешивает последовательность случайным образом\n",
    "- **random** - случайное число от 0 до 1\n",
    "- **sample** - список длиной k из последовательности\n",
    "- и многие другие\n",
    "\n",
    "### примеры задач\n",
    " - загадать случайное число от 0 до 100"
   ]
  },
  {
   "cell_type": "code",
   "execution_count": 15,
   "id": "1d618365",
   "metadata": {},
   "outputs": [
    {
     "name": "stdout",
     "output_type": "stream",
     "text": [
      "6\n",
      "684\n"
     ]
    }
   ],
   "source": [
    "import random\n",
    "print(random.randint(1, 100))\n",
    "\n",
    "from random import randint, choice, sample\n",
    "print(randint(1,10000))"
   ]
  },
  {
   "cell_type": "markdown",
   "id": "caedf9f0",
   "metadata": {},
   "source": [
    " - выбрать победителя лотереи из списка players"
   ]
  },
  {
   "cell_type": "code",
   "execution_count": 16,
   "id": "4556f464",
   "metadata": {},
   "outputs": [
    {
     "name": "stdout",
     "output_type": "stream",
     "text": [
      "Kate\n",
      "Peter\n"
     ]
    }
   ],
   "source": [
    "players = ['Max', 'Leo', 'Kate', 'Igor', 'Peter']\n",
    "print(random.choice(players))\n",
    "print(choice(players))"
   ]
  },
  {
   "cell_type": "markdown",
   "id": "1d2acece",
   "metadata": {},
   "source": [
    "выбираем случайный элемент из списка\n",
    "  - выбрать трёх победителей лотереи из списка"
   ]
  },
  {
   "cell_type": "code",
   "execution_count": 17,
   "id": "5f8ac961",
   "metadata": {},
   "outputs": [
    {
     "name": "stdout",
     "output_type": "stream",
     "text": [
      "['Peter', 'Kate', 'Max']\n"
     ]
    }
   ],
   "source": [
    "print(sample(players, 3))"
   ]
  },
  {
   "cell_type": "markdown",
   "id": "a600dfad",
   "metadata": {},
   "source": [
    "первый параметр последовательность из которой выбираем, второй параметр сколько выбираем\n",
    " - перемешать карты в списке cards"
   ]
  },
  {
   "cell_type": "code",
   "execution_count": 18,
   "id": "39c3edaf",
   "metadata": {},
   "outputs": [
    {
     "name": "stdout",
     "output_type": "stream",
     "text": [
      "['6', '7', '8', '9', 'T', 'J', 'Q', 'K', 'A']\n",
      "['Q', '9', 'J', '7', '8', 'T', '6', 'K', 'A']\n"
     ]
    }
   ],
   "source": [
    "cards = ['6', '7', '8', '9', 'T', 'J', 'Q', 'K', 'A' ]\n",
    "print(cards)\n",
    "random.shuffle(cards)\n",
    "print(cards)"
   ]
  },
  {
   "cell_type": "markdown",
   "id": "21ddb6a4",
   "metadata": {},
   "source": [
    "**shuffle** не возвращает значение, просто перемешивает"
   ]
  },
  {
   "cell_type": "markdown",
   "id": "4592490b",
   "metadata": {},
   "source": [
    "# УРОК 3 - СОЗДАНИЕ СОБСТВЕННОГО МОДУЛЯ\n",
    "\n",
    "- создание своего модуля\n",
    "- импорт данных из своего модуля\n",
    "- импорт скриптов\n",
    "- if__name__=='__main__'\n",
    "\n",
    "Модули в пайтон - это просто файлы с расширением **.py**\n",
    "1) создаём в специальной папке файл .py\n",
    "2) файл находится в папке, мы к нему можем обращаться\n",
    "\n",
    "импорт данных из своих модулей осуществляется также как и из стандартных\n",
    "- при импорте необходимо учитывать путь до нашего модуля\n",
    "- **import firstmodele** - если модуль в нашей корневой папке с проектом\n",
    "- **import folder.secondmodule** - если модуль в подпапке\n",
    "\n",
    "1) создал папку my_moduls. Там буду хронить свои модули.\n",
    "2) создал файл firstmodule. в нём переменная и функция\n",
    "\n",
    "если в той же папке что и index **- import moda**\n",
    "таким образом нам будут доступны и переменная и функция: **print(moda.foo)** , **moda.bar**\n",
    "импортируем **firstmodule**"
   ]
  },
  {
   "cell_type": "code",
   "execution_count": null,
   "id": "602f47e3",
   "metadata": {},
   "outputs": [],
   "source": [
    "import my_moduls.firstmodule"
   ]
  },
  {
   "cell_type": "markdown",
   "id": "a9ed4585",
   "metadata": {},
   "source": [
    "либо прссто импортировать переменную или функцию"
   ]
  },
  {
   "cell_type": "code",
   "execution_count": null,
   "id": "2d566f83",
   "metadata": {},
   "outputs": [],
   "source": [
    "from my_moduls.firstmodule import foo, bar\n",
    "print(foo)\n",
    "bar()"
   ]
  },
  {
   "cell_type": "markdown",
   "id": "f448469d",
   "metadata": {},
   "source": [
    "импорты работают как и в стандартных модулях\n",
    "\n",
    "Модули со  скриптами\n",
    " в которых уже написан какой то код, который должен выполниться\n",
    " при любом варианте импорта такого модуля, скрипты в нём будут выполняться\n",
    " если не указано никаких условий **(if__name__=='__main__')**\n",
    " это обязательно надо учитывать при импорте данных модулей"
   ]
  },
  {
   "cell_type": "code",
   "execution_count": null,
   "id": "1bd7bc67",
   "metadata": {},
   "outputs": [],
   "source": [
    "import my_moduls.modc"
   ]
  },
  {
   "cell_type": "markdown",
   "id": "a4e92293",
   "metadata": {},
   "source": [
    "если попробывать импортировать например только переменную,"
   ]
  },
  {
   "cell_type": "code",
   "execution_count": null,
   "id": "1f2419a0",
   "metadata": {},
   "outputs": [],
   "source": [
    "from my_moduls.modc import foo"
   ]
  },
  {
   "cell_type": "markdown",
   "id": "d4b5c01e",
   "metadata": {},
   "source": [
    "при любом варианте импорта не важно всего модуля или только данных из него\n",
    " будет выполняться скрипт или код, который написан в модуле\n",
    "\n",
    "### конструкция **if__name__=='__main__'**\n",
    "\n",
    "ограничивает выполнение скриптов\n",
    " если мы пользуемся **if__name__=='__main__'**\n",
    " при импорте код скрипта не будет выполняться\n",
    " но он будет выполняться при запуске самого модуля\n",
    " ограничение прописывается в самом модуле"
   ]
  },
  {
   "cell_type": "code",
   "execution_count": null,
   "id": "7cca08bf",
   "metadata": {},
   "outputs": [],
   "source": [
    "foo = 'foo C'\n",
    "\n",
    "if __name__ == '__main__':\n",
    "    print('Я выполняюсь всегда')\n",
    "    print('Когда меня импортируют')\n",
    "    print('Ну или почти всегда')"
   ]
  },
  {
   "cell_type": "markdown",
   "id": "d2059e03",
   "metadata": {},
   "source": [
    "Если запускаем модуль самостоятельно - все принты работают,\n",
    " если будем импортировать данные или сам модуль в другое место,\n",
    " код не будет выполняться\n",
    "\n",
    "### Как это работает?"
   ]
  },
  {
   "cell_type": "code",
   "execution_count": null,
   "id": "6cb345de",
   "metadata": {},
   "outputs": [],
   "source": [
    "print(name)\n",
    "if __name__ == '__main__':\n",
    "    print('Я выполняюсь всегда')\n",
    "    print('Когда меня импортируют')\n",
    "    print('Ну или почти всегда')"
   ]
  },
  {
   "cell_type": "markdown",
   "id": "28321252",
   "metadata": {},
   "source": [
    "Если мы сделаем **print(name)**\n",
    " это внутренняя переменная нашего модуля которая означает его название\n",
    " если запустить модуль из самого себя увидим, что **print(name)** выведит **__main__** \n",
    "**__name__ == '__main__'**\n",
    " поэтому условие выполняется и мы заходим в стандартные условные операторы\n",
    " и выполняем код принтов\n",
    "\n",
    "Но если мы вызовим модуль откуда нибудь с другого места\n",
    " переменная name? когда сделали принт стала равняться modec\n",
    " т.к когда вызываем модуль через импорт, то имя равняется имени модуля\n",
    " если код модуля запускаем в самом модуле переменная name = main\n",
    " за счёт этого выполняется условие **__name__ == '__main__'**\n",
    " скрипты работают в одном случае и не работают в другом"
   ]
  },
  {
   "cell_type": "markdown",
   "id": "02e47f9c",
   "metadata": {},
   "source": [
    "# УРОК 4 - ПАКЕТЫ\n",
    "\n",
    "- Определение пакета\n",
    "- создание пакета\n",
    "- назначение пакета\n",
    "- импорт из пакета\n",
    "\n",
    "**Пакет** - каталог, включающий в себя другие пакеты и модули\n",
    " пакет содержит внутри себя файл **__init__.py**\n",
    " пакеты можно создавать как из пайчарма, так и в ручную.\n",
    "\n",
    "ПКМ в ЛП по директории --> create new python package --> вводим название пакета\n",
    "\n",
    "создали новый покет он появился в ЛП mypack\n",
    " пайчарм создал папку, и в ней пустой файл **__init__.py**\n",
    " пакет обязательно должен содержать этот файл\n",
    "\n",
    "основное назначение пакетов - формирование пространства имён.\n",
    "\n",
    "работа с модулями с указанием уровня вложенности\n",
    " пакет1.пакет2.модуль\n",
    " уровни вложенности отделяются точкой\n",
    "\n",
    "### варианты импортов\n",
    "- import.модуль - внутри пакета из одного модуля в другой\n",
    "- import пакет.модуль - стандартно, если мы находимся в другом пакете\n",
    "- import, from, as ... работают любые варианты импорта. импорт всего пакета, одного модуля,\n",
    " либо функции, классов, объектов из этого модуля\n",
    "    \n",
    "Вложенность пакетов может быть любой (пакет в пакете)\n",
    "\n",
    "`пример`. программа для медицинского учереждения и возможную её структуру.\n",
    " Сама программа в файле main.py в директории example и из нё она будет запускаться\n",
    "    \n",
    "Создаём пакет , который будет отвечать за всё медицинское учреждение\n",
    " назовём его hospital,\n",
    " после зоздания пакета у нас есть папка, а в ней пустой __init__ файл\n",
    " внутри пакетов можно создавать новые пакеты для разграничения пространства имён и структуры\n",
    " например создадим в пакете hospital пакет doctors\n",
    " после этого в пакете doctors у нас есть опять пустой питон файл __init__\n",
    " здесь мы сделаем 2 модуля: первый модуль - хирурги\n",
    " создаём в пакете doctors питон файл surgeons\n",
    " это уже модуль с расширением .py а не папка.\n",
    " второй модуль - меедсёстры nususures\n",
    " создали в пакете doctors питон файл.\n",
    "    \n",
    " у нас следующая структура:\n",
    "- пакет hospital -> внутри пакет doctors ->\n",
    "-  внутри пакета doctors 2 модуля: surgeons.py и nususures.py\n",
    "- и один файл __init__.py\n",
    "\n",
    "В пакете hospital создадим ещё один пакет, он будет называться clients\n",
    " и в этом пакете создадим файл index.py\n",
    " после того как структура пакетов готова, в каждый модуль добавим по функции:"
   ]
  },
  {
   "cell_type": "code",
   "execution_count": 19,
   "id": "e8eedffe",
   "metadata": {},
   "outputs": [],
   "source": [
    "def get_index():\n",
    "    print('Все пациенты')\n",
    "# в index.py\n",
    "def get_nurses():\n",
    "    print('медсестры из пакета doctors')\n",
    "# в nususures.py\n",
    "def get_surgions():\n",
    "    print('Хирурги из пакета doctors')"
   ]
  },
  {
   "cell_type": "markdown",
   "id": "62cc2e65",
   "metadata": {},
   "source": [
    "**surgeons.py**\n",
    "на примере этих функций потренируемся делать импорты в такой сложной структуре\n",
    " если например нам надо импортировать модуль surgeons.py в функцию **def get_nurses**\n",
    " то в файле surgeons.py\n",
    " вызываем surgeons.py\n",
    " таким образом из текущего пакета doctors импортируем фу-ю **get_nurses**\n",
    " вызывем в **surgeons.py**, чтобы посмотреть результат"
   ]
  },
  {
   "cell_type": "code",
   "execution_count": null,
   "id": "a7f1dd32",
   "metadata": {},
   "outputs": [],
   "source": [
    "def get_surgions():\n",
    "    get_nurses()\n",
    "    print('Хирурги из пакета doctors')"
   ]
  },
  {
   "cell_type": "markdown",
   "id": "d748acac",
   "metadata": {},
   "source": [
    "в пакете hospital создал файл h.py\n",
    "\n",
    "в этом файле попробуем импортировать туда функции . например **get_surgions()**\n",
    " вложенность будет другой: **from .doctors.surgions import get_surgions**\n",
    " после этого из модуля h импортировать данные в main.py\n",
    " в main.py вызываем: **from hospital.h import get_main**\n",
    " таким образом с помощью точки, мы можем разграничивать пространства имён\n",
    " и делать различные импорты\n",
    " импорт из main.py / нам нужно модуль из doctors\n",
    " **from hospital.doctors.nususores**"
   ]
  },
  {
   "cell_type": "markdown",
   "id": "d5f49dd4",
   "metadata": {},
   "source": [
    "# УРОК 5. MOДУЛИ os, sys\n",
    "\n",
    "- модуль os\n",
    "- модуль sys\n",
    "- sys.path\n",
    "- Практическое применение\n",
    "\n",
    "### Модуль os\n",
    "содержит функции для работы с операционной системой.\n",
    " Не зависит от конкретной операционной системы\n",
    " что позволяет делать программы переносимыми\n",
    " \n",
    "### основные функции и переменные os:\n",
    "- **name** - имя операционной системы\n",
    "- **chdir** - смена текущей директори\n",
    "- **getxwd()** - текущая рабочая директория\n",
    "- **mkdir()** - создание директории (папки)\n",
    "- **os.path** - модуль для работы с путями\n",
    "- и многие другие можно посмотреть в интернете или официальной документации\n",
    "\n",
    "для того чтобы использовать модуль, его надо изначально импортировать"
   ]
  },
  {
   "cell_type": "code",
   "execution_count": 20,
   "id": "bb663261",
   "metadata": {},
   "outputs": [],
   "source": [
    "import os"
   ]
  },
  {
   "cell_type": "markdown",
   "id": "8f305e10",
   "metadata": {},
   "source": [
    "- имя операционной системы"
   ]
  },
  {
   "cell_type": "code",
   "execution_count": 21,
   "id": "09f3b43e",
   "metadata": {},
   "outputs": [
    {
     "name": "stdout",
     "output_type": "stream",
     "text": [
      "nt\n"
     ]
    }
   ],
   "source": [
    "print(os.name)"
   ]
  },
  {
   "cell_type": "markdown",
   "id": "860d8f14",
   "metadata": {},
   "source": [
    "- текущая рабочая директория"
   ]
  },
  {
   "cell_type": "code",
   "execution_count": 22,
   "id": "f97d8f53",
   "metadata": {},
   "outputs": [
    {
     "name": "stdout",
     "output_type": "stream",
     "text": [
      "F:\\Education\n"
     ]
    }
   ],
   "source": [
    "print(os.getcwd())"
   ]
  },
  {
   "cell_type": "markdown",
   "id": "c363f5e0",
   "metadata": {},
   "source": [
    "- создаём новый путь"
   ]
  },
  {
   "cell_type": "code",
   "execution_count": 23,
   "id": "84c020cd",
   "metadata": {},
   "outputs": [],
   "source": [
    "new_path = os.path.join(os.getcwd(), 'new_f')"
   ]
  },
  {
   "cell_type": "markdown",
   "id": "0dd91696",
   "metadata": {},
   "source": [
    "данный путь будет универсальный для каждой ос\n",
    "- первый параметр - наш текущий путь: os.getcwd()\n",
    "- второй параметр 'new_f' - папка которую мы будем создавать\n",
    "\n",
    "создаём папку по новому пути\n",
    " **os.mkdir(new_path)** \n",
    " после того как создали новый путь, можем создать папку с помощью\n",
    " функции **mkdir** по этому новому пути\n",
    " В ЛП видим что после запуска кода создалась папка new_f.\n",
    " пустая папка в корневом каталоге с программой, которая запусилась и создала папку\n",
    "    \n",
    "- print(os.name) возвращает нам nt - у нас windows 10\n",
    "- print(os.getcwd()) возвращает папку с нашим проектом\n",
    "\n",
    "C:\\Users\\777\\Desktop\\практика\\python\\educationCourseAll.py\n",
    "    \n",
    "далее мы сделали новый путь и создали директорию\n",
    " папка появилась в новом проекте\n",
    "\n",
    "### модуль sys\n",
    "обеспечивает взаимодействие с интерпритатором python\n",
    "\n",
    "### функции и переменные sys:\n",
    "- **executable** - путь к интерпритатору python\n",
    "- **exit()** - выход из python\n",
    "- **platform** - информация об ОС\n",
    "- **path** - список путей поиска модулей\n",
    "- **argv** - список аргументов командной строки\n",
    "- и многие другие"
   ]
  },
  {
   "cell_type": "code",
   "execution_count": 24,
   "id": "a15d17b7",
   "metadata": {},
   "outputs": [],
   "source": [
    "import sys"
   ]
  },
  {
   "cell_type": "markdown",
   "id": "90cb9e18",
   "metadata": {},
   "source": [
    "- Импортируем модуль.\n",
    "- путь до интерпритатора"
   ]
  },
  {
   "cell_type": "code",
   "execution_count": 25,
   "id": "7c496be5",
   "metadata": {},
   "outputs": [
    {
     "name": "stdout",
     "output_type": "stream",
     "text": [
      "C:\\Users\\admin\\AppData\\Local\\Programs\\Python\\Python311\\python.exe\n"
     ]
    }
   ],
   "source": [
    "print(sys.executable)"
   ]
  },
  {
   "cell_type": "markdown",
   "id": "4a0b47cc",
   "metadata": {},
   "source": [
    "- информация о платформе"
   ]
  },
  {
   "cell_type": "code",
   "execution_count": 28,
   "id": "b49944b9",
   "metadata": {},
   "outputs": [
    {
     "name": "stdout",
     "output_type": "stream",
     "text": [
      "win32\n"
     ]
    }
   ],
   "source": [
    "print(sys.platform)"
   ]
  },
  {
   "cell_type": "markdown",
   "id": "59abc43b",
   "metadata": {},
   "source": [
    "- выход из пайтон **sys.exit()**\n",
    "\n",
    "**sys.path** - один из основных модулей\n",
    "\n",
    "# ОЧЕНЬ ВАЖНАЯ переменная\n",
    "\n",
    "она хронит пути, по которым пайтон ищет подключаемые модули\n",
    " она имеет изменяемый тип данных list\n",
    " таким образом мы можем изменять эту переменную\n",
    "\n",
    "мы ожем импортировать  **import math**\n",
    " но не можем импортировать наш модуль с диска с\n",
    "**import module**\n",
    "\n",
    "# КАК ПИТОН НАХОДИТ МОДУЛИ:"
   ]
  },
  {
   "cell_type": "code",
   "execution_count": 29,
   "id": "b56fef05",
   "metadata": {},
   "outputs": [
    {
     "name": "stdout",
     "output_type": "stream",
     "text": [
      "['F:\\\\Education', 'C:\\\\Users\\\\admin\\\\AppData\\\\Local\\\\Programs\\\\Python\\\\Python311\\\\python311.zip', 'C:\\\\Users\\\\admin\\\\AppData\\\\Local\\\\Programs\\\\Python\\\\Python311\\\\DLLs', 'C:\\\\Users\\\\admin\\\\AppData\\\\Local\\\\Programs\\\\Python\\\\Python311\\\\Lib', 'C:\\\\Users\\\\admin\\\\AppData\\\\Local\\\\Programs\\\\Python\\\\Python311', '', 'C:\\\\Users\\\\admin\\\\AppData\\\\Local\\\\Programs\\\\Python\\\\Python311\\\\Lib\\\\site-packages', 'C:\\\\Users\\\\admin\\\\AppData\\\\Local\\\\Programs\\\\Python\\\\Python311\\\\Lib\\\\site-packages\\\\win32', 'C:\\\\Users\\\\admin\\\\AppData\\\\Local\\\\Programs\\\\Python\\\\Python311\\\\Lib\\\\site-packages\\\\win32\\\\lib', 'C:\\\\Users\\\\admin\\\\AppData\\\\Local\\\\Programs\\\\Python\\\\Python311\\\\Lib\\\\site-packages\\\\Pythonwin']\n",
      "<class 'list'>\n"
     ]
    }
   ],
   "source": [
    "import sys\n",
    "print(sys.path)\n",
    "print(type(sys.path))"
   ]
  },
  {
   "cell_type": "markdown",
   "id": "3c636c2d",
   "metadata": {},
   "source": [
    "### Как пайтон узнаёт, что у него есть модуль math и есть например наш модуль?\n",
    "для этого используется переменная **sys.path**\n",
    "если мы импортируем модуль sys и возьмём переменную sys.path\n",
    "то мы получим список папок или путей по которым пайтон ищет модули"
   ]
  },
  {
   "cell_type": "code",
   "execution_count": 30,
   "id": "13e6f110",
   "metadata": {},
   "outputs": [
    {
     "name": "stdout",
     "output_type": "stream",
     "text": [
      "['F:\\\\Education', 'C:\\\\Users\\\\admin\\\\AppData\\\\Local\\\\Programs\\\\Python\\\\Python311\\\\python311.zip', 'C:\\\\Users\\\\admin\\\\AppData\\\\Local\\\\Programs\\\\Python\\\\Python311\\\\DLLs', 'C:\\\\Users\\\\admin\\\\AppData\\\\Local\\\\Programs\\\\Python\\\\Python311\\\\Lib', 'C:\\\\Users\\\\admin\\\\AppData\\\\Local\\\\Programs\\\\Python\\\\Python311', '', 'C:\\\\Users\\\\admin\\\\AppData\\\\Local\\\\Programs\\\\Python\\\\Python311\\\\Lib\\\\site-packages', 'C:\\\\Users\\\\admin\\\\AppData\\\\Local\\\\Programs\\\\Python\\\\Python311\\\\Lib\\\\site-packages\\\\win32', 'C:\\\\Users\\\\admin\\\\AppData\\\\Local\\\\Programs\\\\Python\\\\Python311\\\\Lib\\\\site-packages\\\\win32\\\\lib', 'C:\\\\Users\\\\admin\\\\AppData\\\\Local\\\\Programs\\\\Python\\\\Python311\\\\Lib\\\\site-packages\\\\Pythonwin']\n"
     ]
    }
   ],
   "source": [
    "print(sys.path)"
   ]
  },
  {
   "cell_type": "markdown",
   "id": "80d0cd2a",
   "metadata": {},
   "source": [
    "```\n",
    "['C:\\\\Users\\\\777\\\\Desktop\\\\практика\\\\python\\\\educationCourseAll.py', 'C:\\\\Users\\\\777\\\\Desktop\\\\практика\\\\python\\\\educationCourseAll.py',...\n",
    "```\n",
    " \n",
    "эта переменная является тип list\n",
    " т.е списком"
   ]
  },
  {
   "cell_type": "code",
   "execution_count": 31,
   "id": "48e1f0fd",
   "metadata": {},
   "outputs": [
    {
     "name": "stdout",
     "output_type": "stream",
     "text": [
      "F:\\Education\n",
      "C:\\Users\\admin\\AppData\\Local\\Programs\\Python\\Python311\\python311.zip\n",
      "C:\\Users\\admin\\AppData\\Local\\Programs\\Python\\Python311\\DLLs\n",
      "C:\\Users\\admin\\AppData\\Local\\Programs\\Python\\Python311\\Lib\n",
      "C:\\Users\\admin\\AppData\\Local\\Programs\\Python\\Python311\n",
      "\n",
      "C:\\Users\\admin\\AppData\\Local\\Programs\\Python\\Python311\\Lib\\site-packages\n",
      "C:\\Users\\admin\\AppData\\Local\\Programs\\Python\\Python311\\Lib\\site-packages\\win32\n",
      "C:\\Users\\admin\\AppData\\Local\\Programs\\Python\\Python311\\Lib\\site-packages\\win32\\lib\n",
      "C:\\Users\\admin\\AppData\\Local\\Programs\\Python\\Python311\\Lib\\site-packages\\Pythonwin\n"
     ]
    }
   ],
   "source": [
    "for p in sys.path:\n",
    "    print (p)\n",
    "    "
   ]
  },
  {
   "cell_type": "markdown",
   "id": "10678268",
   "metadata": {},
   "source": [
    "запускаем и видим все наши пути\n",
    "```\n",
    "- ['C:\\\\Users\\\\777\\\\Desktop\\\\практика\\\\python\\\\educationCourseAll.py', 'C:\\\\Users\\\\777\\\\Desktop\\\\практика\\\\python\\\\educationCourseAll.py', 'C:\\\\Users\\\\777\\\\AppData\\\\Local\\\\Programs\\\\Python\\\\Python38\\\\python38.zip', 'C:\\\\Users\\\\777\\\\AppData\\\\Local\\\\Programs\\\\Python\\\\Python38\\\\DLLs', 'C:\\\\Users\\\\777\\\\AppData\\\\Local\\\\Programs\\\\Python\\\\Python38\\\\lib', 'C:\\\\Users\\\\777\\\\AppData\\\\Local\\\\Programs\\\\Python\\\\Python38', 'C:\\\\Users\\\\777\\\\Desktop\\\\практика\\\\python\\\\educationCourseAll.py\\\\venv', 'C:\\\\Users\\\\777\\\\Desktop\\\\практика\\\\python\\\\educationCourseAll.py\\\\venv\\\\lib\\\\site-packages']\n",
    "- C:\\Users\\777\\Desktop\\практика\\python\\educationCourseAll.py\n",
    "- C:\\Users\\777\\Desktop\\практика\\python\\educationCourseAll.py\n",
    "- C:\\Users\\777\\AppData\\Local\\Programs\\Python\\Python38\\python38.zip\n",
    "- C:\\Users\\777\\AppData\\Local\\Programs\\Python\\Python38\\DLLs\n",
    "- C:\\Users\\777\\AppData\\Local\\Programs\\Python\\Python38\\lib\n",
    "- C:\\Users\\777\\AppData\\Local\\Programs\\Python\\Python38\n",
    "- C:\\Users\\777\\Desktop\\практика\\python\\educationCourseAll.py\\venv\n",
    "- C:\\Users\\777\\Desktop\\практика\\python\\educationCourseAll.py\\venv\\lib\\site-packages\n",
    "```    \n",
    "    \n",
    "первые 2 папки это наш текущий проект, т.е папка с нашим кодои\n",
    "- C:\\Users\\777\\Desktop\\практика\\python\\educationCourseAll.py\n",
    "- C:\\Users\\777\\Desktop\\практика\\python\\educationCourseAll.py\n",
    "    \n",
    "как раз отсюда мы и можем импортировать наши модули\n",
    "\n",
    "**далее видим архив и некоторые библиотеки**\n",
    "- C:\\Users\\777\\AppData\\Local\\Programs\\Python\\Python38\\python38.zip\n",
    "- C:\\Users\\777\\AppData\\Local\\Programs\\Python\\Python38\\DLLs\n",
    "- C:\\Users\\777\\AppData\\Local\\Programs\\Python\\Python38\\lib\n",
    "    \n",
    "**папка с интерпритатором пайтон**\n",
    "- C:\\Users\\777\\AppData\\Local\\Programs\\Python\\Python38\n",
    "    \n",
    "**далее папки со сторонними библиотеками**\n",
    "- C:\\Users\\777\\Desktop\\практика\\python\\educationCourseAll.py\\venv\n",
    "- C:\\Users\\777\\Desktop\\практика\\python\\educationCourseAll.py\\venv\\lib\\site-packages\n",
    "\n",
    "### посмотрим как подключить свой модуль\n",
    "из какого то другого места которого нету в этих путях\n",
    " предположим на диске d  есть некоторый модуль My_d_module\n",
    " т.к sys.path - это список\n",
    " **sys.path.appened('D:')**\n",
    " в неё можем с помощью appened добавить новый путь\n",
    " и сказать пайтону, чтобы по этому пути он тоже искал модули.\n",
    "    \n",
    "все модули, которые имеются на диске D можно будет импортировать\n",
    " **import my_d_module**\n",
    "    \n",
    "### Пример для тренировки:\n",
    "\n",
    "в папке с модулем создать 5 подпапок,\n",
    " названия которых состоят из платформы\n",
    " на которой запущен интерпритатор\n",
    " и порядкового номера, начиная с 1: win32_1, win32_2\n",
    "\n",
    "Импортируем нужные нам модули:\n",
    "    "
   ]
  },
  {
   "cell_type": "code",
   "execution_count": null,
   "id": "51f91ac2",
   "metadata": {},
   "outputs": [],
   "source": [
    "import sys, os\n",
    "name = sys.platform"
   ]
  },
  {
   "cell_type": "markdown",
   "id": "c0a0ead1",
   "metadata": {},
   "source": [
    "платформа на которой запущен наш интерпритатор пайтон\n",
    "после этого будем создавать папки. нам нужно их сделать 5 штук"
   ]
  },
  {
   "cell_type": "code",
   "execution_count": null,
   "id": "f8257588",
   "metadata": {},
   "outputs": [],
   "source": [
    "for i in range(1, 6):\n",
    "    new_path = os.path.join(os.getcwd(), '{}_{}'.format(name, i))\n",
    "    "
   ]
  },
  {
   "cell_type": "markdown",
   "id": "925d8960",
   "metadata": {},
   "source": [
    "собераем из двух частей: путь до нашего модуля **os.getcwd()**\n",
    " и вторая часть состоит из названия платформы подчёркивания и порядкового номера\n",
    " **'{}_{}'.format(name, i)**\n",
    " после того как у нас есть путь можем создавать папки:\n",
    " **os.mkdir(new_path)**"
   ]
  },
  {
   "cell_type": "markdown",
   "id": "5b6c72d4",
   "metadata": {},
   "source": [
    "# УРОК 6. ЗАПУСК СКРИПТОВ С ПАРАМЕТРМИ\n",
    "\n",
    "- sys.argv\n",
    "- передача параметров в скрипт\n",
    "- практическое применение\n",
    "\n",
    "### sys.argv\n",
    "список аргументов командной строки при запуске скрипта python\n",
    "  в нём уже есть первый аргумент это\n",
    "  **sys.argv[0]** - путь до скрипта\n",
    "\n",
    "остальные параметры передаются при вызове скрипта через пробел.\n",
    " нам нужно вызвать скрипт и через пробел записать различные значения.\n",
    "**python my_script.py par1 par2 par3**\n",
    " мы будем запускать наши скрипты с помощью командной строки\n",
    "    "
   ]
  },
  {
   "cell_type": "code",
   "execution_count": 32,
   "id": "b4b410b5",
   "metadata": {},
   "outputs": [
    {
     "name": "stdout",
     "output_type": "stream",
     "text": [
      "УРОК 6\n",
      "C:\\Users\\admin\\AppData\\Local\\Programs\\Python\\Python311\\Lib\\site-packages\\ipykernel_launcher.py\n"
     ]
    }
   ],
   "source": [
    "print('УРОК 6')\n",
    "import sys\n",
    "print(sys.argv[0])"
   ]
  },
  {
   "cell_type": "markdown",
   "id": "3ae6fd64",
   "metadata": {},
   "source": [
    "для того чтобы открыть командную строку прямо в пайчарме\n",
    " можем выбрать: \n",
    "> ВП -> View -> Tool windows -> Terminal (alt + f12)\n",
    "\n",
    "внизу будет открыта командная строка с которой мы сможем работать как\n",
    " с обычной командной строкой\n",
    "    \n",
    "теперь чтобы запустить из неё скрипт pr1helloworld.py\n",
    " который лежит в текущей папке\n",
    " нам достаточно написать Python и название скрипта pr1helloworld.py\n",
    "\n",
    "в командной строке\n",
    " в самом скрипте записано всего пара строчек import sys и print(sys.argv[0])\n",
    "  если вызвать скрипт без параметров в терминале:\n",
    "    \n",
    "мы получим название скрипта выведится\n",
    " pr1helloworld.py\n",
    " давайте вызовим эот скрипт теперь из пайчарма\n",
    " при этом получим другой результат :\n",
    "        \n",
    "> C:/Users/777/Desktop/практика/python/educationCourseAll.py/pr1helloworld.py\n",
    "    \n",
    "это полный путь до нащего скрипта\n",
    " результаты отличаются.\n",
    "    \n",
    "сверху видно как пайчарм запускает скрипт:\n",
    "**C:\\Users\\777\\Desktop\\практика\\python\\educationCourseAll.py\\venv\\Scripts\\python.exe C:/Users/777/Desktop/практика/python/educationCourseAll.py/pr1helloworld.py**\n",
    " он вызывает его по полному пути.\n",
    "\n",
    "если же мы пользуемся терминалом\n",
    " то мы вызываем скрипт по относительному пути\n",
    " и получаем просто имя скрипта pr1helloworld.py\n",
    "\n",
    "таким образом **sys.argv[0]** - это первая часть, которая идёт за словом пайтон\n",
    " мы можем получить её внутри нашего скрипта.\n",
    " рассмотрим расширенный пример\n",
    " создали скрипт param.py"
   ]
  },
  {
   "cell_type": "code",
   "execution_count": 1,
   "id": "e68fd1fd",
   "metadata": {},
   "outputs": [
    {
     "name": "stdout",
     "output_type": "stream",
     "text": [
      "C:\\Users\\admin\\AppData\\Local\\Programs\\Python\\Python311\\Lib\\site-packages\\ipykernel_launcher.py\n",
      "-f\n",
      "C:\\Users\\admin\\AppData\\Roaming\\jupyter\\runtime\\kernel-25e3d33a-9766-45f0-b4c5-7bc2ed5c0f4e.json\n"
     ]
    }
   ],
   "source": [
    "import sys\n",
    "\n",
    "for arg in sys.argv:\n",
    "    print(arg)"
   ]
  },
  {
   "cell_type": "markdown",
   "id": "02072bf1",
   "metadata": {},
   "source": [
    "после этого в цикле по  sys.argv мы просто печатаем элементы списка"
   ]
  },
  {
   "cell_type": "code",
   "execution_count": 33,
   "id": "86fe0a1e",
   "metadata": {},
   "outputs": [
    {
     "name": "stdout",
     "output_type": "stream",
     "text": [
      "C:\\Users\\admin\\AppData\\Local\\Programs\\Python\\Python311\\Lib\\site-packages\\ipykernel_launcher.py\n",
      "-f\n",
      "C:\\Users\\admin\\AppData\\Roaming\\jupyter\\runtime\\kernel-3b855494-7b2b-4247-9f98-c3d0a39cd0e3.json\n"
     ]
    }
   ],
   "source": [
    "for arg in sys.argv:\n",
    "    print(arg)"
   ]
  },
  {
   "cell_type": "markdown",
   "id": "c9c3b75d",
   "metadata": {},
   "source": [
    "Этот скрипт мы уже будем вызывать с параметрами\n",
    " в терминале вводим\n",
    " **python param.py**\n",
    " и добавляем через пробел какие то значения\n",
    " **python param.py 123 999 dsdsd 340 3.14**\n",
    " это могут быть строки или числа или даже числа с плавающей точкой\n",
    " выведим их на экран в терминале\n",
    " то мы как раз и получим список наших параметров в цикле\n",
    " проверим какого вида у нас являются аргументы"
   ]
  },
  {
   "cell_type": "code",
   "execution_count": 34,
   "id": "fbeb7c5d",
   "metadata": {},
   "outputs": [
    {
     "name": "stdout",
     "output_type": "stream",
     "text": [
      "C:\\Users\\admin\\AppData\\Local\\Programs\\Python\\Python311\\Lib\\site-packages\\ipykernel_launcher.py\n",
      "<class 'str'>\n",
      "-f\n",
      "<class 'str'>\n",
      "C:\\Users\\admin\\AppData\\Roaming\\jupyter\\runtime\\kernel-3b855494-7b2b-4247-9f98-c3d0a39cd0e3.json\n",
      "<class 'str'>\n"
     ]
    }
   ],
   "source": [
    "import sys\n",
    "\n",
    "for arg in sys.argv:\n",
    "    print(arg)\n",
    "    print(type(arg))"
   ]
  },
  {
   "cell_type": "markdown",
   "id": "8bf16680",
   "metadata": {},
   "source": [
    "Все пераметры передаются как строка. Не зависимо от того число там\n",
    " или строчка или плавающая точка\n",
    " в виде строки мы можем записать любой параметр\n",
    " и после этого привести к другому типу, если это нам нужно\n",
    "\n",
    "`Практический пример`\n",
    " В зависимости от параметра вызывать различные функции скрипта\n",
    " параметр ping - > функция выводит pong\n",
    "2 параметра name и имя человека <Имя> - > функция приветствия пользователя\n",
    "\n",
    "параметр list показать содержтимое текущей директории\n",
    " для написания скрипта потребуются модули sys os\n",
    " \"\"\"\n",
    " параметр ping - > функция выводит pong\n",
    " \n",
    " 2 параметра name и имя человека <Имя> - > функция приветствия пользователя\n",
    " параметр list показать содержтимое текущей директории\n",
    "\"\"\"\n",
    "\n",
    "### СКРИПТ - example.py создаю\n",
    "\n",
    "для написания скрипта потребуются модули sys os. Импортируем их"
   ]
  },
  {
   "cell_type": "code",
   "execution_count": 35,
   "id": "1a970c26",
   "metadata": {},
   "outputs": [],
   "source": [
    "import sys, os\n",
    "\n",
    "def ping():\n",
    "    print('PonG')\n",
    " "
   ]
  },
  {
   "cell_type": "markdown",
   "id": "e3f70956",
   "metadata": {},
   "source": [
    "   \n",
    "Первая функция пинг будет выводить на экран слово Понг\n",
    "\n",
    "Делаем вызов убедимся что функция работает"
   ]
  },
  {
   "cell_type": "code",
   "execution_count": 36,
   "id": "d2f8390d",
   "metadata": {},
   "outputs": [
    {
     "name": "stdout",
     "output_type": "stream",
     "text": [
      "PonG\n"
     ]
    }
   ],
   "source": [
    "ping()"
   ]
  },
  {
   "cell_type": "markdown",
   "id": "d89c1d79",
   "metadata": {},
   "source": [
    "функция приветствия пользователя"
   ]
  },
  {
   "cell_type": "code",
   "execution_count": 42,
   "id": "80e01402",
   "metadata": {},
   "outputs": [],
   "source": [
    "def hello(name):\n",
    "# у функции будет один параметр name\n",
    "    print('Приветствую ', name)"
   ]
  },
  {
   "cell_type": "markdown",
   "id": "716e3cdf",
   "metadata": {},
   "source": [
    "третья функция получает содержимое текущей директории"
   ]
  },
  {
   "cell_type": "code",
   "execution_count": 38,
   "id": "47f14ad8",
   "metadata": {},
   "outputs": [],
   "source": [
    "def get_info():\n",
    "    print(os.listdir())"
   ]
  },
  {
   "cell_type": "markdown",
   "id": "02f19789",
   "metadata": {},
   "source": [
    "чтобы получить содержимое текущей директории\n",
    " мы вызываем из модуля os функцию **listdir()**\n",
    " если путь пустой, как раз будет содержимое теущей директории\n",
    " теперь перейдём к работе с параметрами\n",
    " первый параметр **arv[0]** это название нашего скрипта\n",
    " для начала нам понадобится второй параметр **comand = sys.argv[1]**"
   ]
  },
  {
   "cell_type": "code",
   "execution_count": 39,
   "id": "50b4a88e",
   "metadata": {},
   "outputs": [],
   "source": [
    "import sys, os\n",
    "\n",
    "def ping():\n",
    "    print('PonG')\n",
    "\n",
    "def hello(name):\n",
    "    print('Приветствую ', name)\n",
    "\n",
    "def get_info():\n",
    "    print(os.listdir())\n",
    "\n",
    "comand = sys.argv[1]"
   ]
  },
  {
   "cell_type": "markdown",
   "id": "fe453027",
   "metadata": {},
   "source": [
    "этот параметр будет отвечать за нашу команду\n",
    " после того ка кполучим этот параметр будем писать логику\n",
    " **if - elif - else**"
   ]
  },
  {
   "cell_type": "code",
   "execution_count": 40,
   "id": "2a179cad",
   "metadata": {},
   "outputs": [],
   "source": [
    "if comand == 'ping':\n",
    "    ping()\n",
    "elif comand == 'list':\n",
    "    get_info()\n",
    "elif comand == 'name':\n",
    "    name = sys.argv[2]"
   ]
  },
  {
   "cell_type": "markdown",
   "id": "c6471fdc",
   "metadata": {},
   "source": [
    "здесь пользователь передаст нам сразу 2 параметра\n",
    "поэтому нам нужно получить переменную name из **sys.argv[2]**\n",
    " это будет следующий параметр его индекс будет 2\n",
    " после того как мы получим имя мы уже можем пользоваться\n",
    " функцией hallo\n",
    "  "
   ]
  },
  {
   "cell_type": "code",
   "execution_count": 44,
   "id": "e0a25b00",
   "metadata": {},
   "outputs": [
    {
     "name": "stdout",
     "output_type": "stream",
     "text": [
      "Приветствую  Yurgen\n"
     ]
    }
   ],
   "source": [
    "  \n",
    "hello('Yurgen')"
   ]
  },
  {
   "cell_type": "markdown",
   "id": "8da94310",
   "metadata": {},
   "source": [
    "остаётся проверить как работает наш скрипт\n",
    "откроем терминал  \n",
    "\n",
    "> ВП -> View -> Tool windows -> Terminal (alt + f12)\n",
    "\n",
    "очистим с помощью команды **cls**\n",
    " и будем вызывать в терминале наш скрипт с различными параметрами\n",
    " python example.py ping\n",
    " в результате получили PonG\n",
    " \n",
    " python example.py list\n",
    " получили список\n",
    "    \n",
    "Третий вариант\n",
    " когда нам надо передать 2 параметра\n",
    " вызываем наш скрипт - первый параметр mane.\n",
    " и второй параметр какое то имя\n",
    " python example.py name Yyrgen\n",
    "\n",
    "Таким образом видно что теперь с помощью параметров\n",
    "мы управляем логикой работы нашего скрипта\n",
    " если скрипт вызвать без параметров мы получим ошибку\n",
    " при получении аргумента первого comand = sys.argv[1]\n",
    " потому что его нет. в списке всего их 2\n",
    " это можно решить с помощью определённых условий\n",
    " **if - else**, но самый лучший вариант с помощью обработки исключений"
   ]
  }
 ],
 "metadata": {
  "kernelspec": {
   "display_name": "Python 3 (ipykernel)",
   "language": "python",
   "name": "python3"
  },
  "language_info": {
   "codemirror_mode": {
    "name": "ipython",
    "version": 3
   },
   "file_extension": ".py",
   "mimetype": "text/x-python",
   "name": "python",
   "nbconvert_exporter": "python",
   "pygments_lexer": "ipython3",
   "version": "3.11.3"
  }
 },
 "nbformat": 4,
 "nbformat_minor": 5
}

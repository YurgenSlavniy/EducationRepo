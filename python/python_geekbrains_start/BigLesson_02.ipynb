{
 "cells": [
  {
   "cell_type": "markdown",
   "id": "dad099d6",
   "metadata": {},
   "source": [
    "# ВСТРОЕННЫЕ ТИПЫ И ОПЕРАЦИИ С НИМИ\n",
    "\n",
    "\n",
    "# УРОК 1. СТРОКИ. ОПРЕДЕЛЕНИЕ. МЕТОДЫ. ФОРМАТИРОВАНИЕ\n",
    "\n",
    "\n",
    "- тип данных строка\n",
    "- объявление строк\n",
    "- основные действия со строками\n",
    "- дополнительные действия со строками\n",
    "- форматирование строки\n",
    "- Пример использования\n",
    "\n",
    "для того чтобы объяить переменную строкового типа мы должны поместить текст или символы внутри одинарных ковычек '...'\n",
    "иногда можно воспользоваться двойными ковычками.\n",
    "главное чтобы одинаковыми ковычками открывалось и закрывалось."
   ]
  },
  {
   "cell_type": "code",
   "execution_count": 1,
   "id": "0fdc86fa",
   "metadata": {},
   "outputs": [
    {
     "name": "stdout",
     "output_type": "stream",
     "text": [
      "Гугл\n"
     ]
    }
   ],
   "source": [
    "friend = 'Гугл'\n",
    "print(friend)"
   ]
  },
  {
   "cell_type": "markdown",
   "id": "578af1ed",
   "metadata": {},
   "source": [
    "когда ковычки в ковычках, рассмотрим примеры:"
   ]
  },
  {
   "cell_type": "code",
   "execution_count": 2,
   "id": "ce456559",
   "metadata": {},
   "outputs": [
    {
     "name": "stdout",
     "output_type": "stream",
     "text": [
      "say \"Hello\" say 'Hello'\n"
     ]
    }
   ],
   "source": [
    "say = 'say \"Hello\"'\n",
    "pont = \"say 'Hello'\"\n",
    "print(say, pont)"
   ]
  },
  {
   "cell_type": "markdown",
   "id": "1082e7ec",
   "metadata": {},
   "source": [
    "Строка **str** состоит из набора символов.\n",
    "Можем получить какой любо символ по его индексу из строки.\n",
    "Индекс указывается в квадратных скобках. Все индексы начинаются с 0.\n",
    "В пайтон можно использовать отрицательные индексы"
   ]
  },
  {
   "cell_type": "code",
   "execution_count": 3,
   "id": "d656c9ab",
   "metadata": {},
   "outputs": [
    {
     "name": "stdout",
     "output_type": "stream",
     "text": [
      "Первая буква в слове  П\n"
     ]
    }
   ],
   "source": [
    "friend = 'Поехали!'\n",
    "first_letter = friend[0]\n",
    "print('Первая буква в слове ', first_letter)"
   ]
  },
  {
   "cell_type": "markdown",
   "id": "0e9f0c2c",
   "metadata": {},
   "source": [
    "Переменная friend . Чтобы найти первую букву этой переменной воспользуемся индексом **friend[0]**\n",
    "\n",
    "- [0] - означает первый символ. \n",
    "- [5] - 6ой символ. \n",
    "- [8] - 9ый символ\n",
    "\n",
    "Если проверим тип переменной first_letter - тоже оказывается строковый. \n",
    "В пайтон нет отдельного типа под символ - всё является строкой."
   ]
  },
  {
   "cell_type": "code",
   "execution_count": 4,
   "id": "c4d357a4",
   "metadata": {},
   "outputs": [
    {
     "name": "stdout",
     "output_type": "stream",
     "text": [
      "х\n"
     ]
    }
   ],
   "source": [
    "print(friend[3]) # выведим на экран 4 ый символ переменной friend"
   ]
  },
  {
   "cell_type": "markdown",
   "id": "0a1bf1e6",
   "metadata": {},
   "source": [
    "Также доступна индексация с конца нашей строки"
   ]
  },
  {
   "cell_type": "code",
   "execution_count": 5,
   "id": "4ef16737",
   "metadata": {},
   "outputs": [
    {
     "name": "stdout",
     "output_type": "stream",
     "text": [
      "!\n",
      "л\n"
     ]
    }
   ],
   "source": [
    "print(friend[-1]) # даёт нам последнюю букву. отрицательными индексируемся с конца.\n",
    "print(friend[-3]) # Третий с конца символ"
   ]
  },
  {
   "cell_type": "markdown",
   "id": "41397055",
   "metadata": {},
   "source": [
    "помимо индексов при работе со строкой мы можем пользоваться срезами. \n",
    " Благодоря срезам можно получить несколько символов(часть строки)\n",
    "**friend[start:end]**  \n",
    "\n",
    "чтобы записать срез, мы берём 2 индекса - начальный и конечный, и указываем их через двоеточие"
   ]
  },
  {
   "cell_type": "code",
   "execution_count": 6,
   "id": "36153f94",
   "metadata": {},
   "outputs": [
    {
     "name": "stdout",
     "output_type": "stream",
     "text": [
      "оех\n",
      "Поеха\n",
      "хали!\n",
      "<class 'str'>\n"
     ]
    }
   ],
   "source": [
    "print(friend[1:4]) # вывели на экран элементы строки переменной friend со 2 го по 5 ый  символы\n",
    "print(friend[:5]) # срез с начала строки до какого то элемента\n",
    "print(friend[3:]) # срез с какого то элемента до конца строки\n",
    "print(type(friend[2:5])) # тип среза - <class 'str'>"
   ]
  },
  {
   "cell_type": "markdown",
   "id": "c9a504d2",
   "metadata": {},
   "source": [
    "### Функция len и методы строки\n",
    "\n",
    "- **len(friend)** - длина строки (сколько в ней символов)\n",
    "- **friend.find('a')** - ищем символ \"a\" в строке\n",
    "- **friend.split()** - разбиение строки через пробел\n",
    "- **friend.isdigit()** - строка состоит тлько из чисел\n",
    "- **friend.upper()** - ПРИВЕДЕНИЕ СТРОКИ К ВЕРХНЕМУ РЕГИСТРУ\n",
    "- **friend.lower()** - ПРИВЕДЕНИЕ СТРОКИ К нижнему РЕГИСТРУ"
   ]
  },
  {
   "cell_type": "code",
   "execution_count": 10,
   "id": "b2eebb96",
   "metadata": {},
   "outputs": [
    {
     "name": "stdout",
     "output_type": "stream",
     "text": [
      "лёха игроь танюха маринка семён колян яков\n",
      "Число символов в верхней строке:  42\n",
      "18\n"
     ]
    }
   ],
   "source": [
    "friend1 = 'лёха игроь танюха маринка семён колян яков'\n",
    "print(friend1) # вывели на экран переменную friend\n",
    "print('Число символов в верхней строке: ', len(friend1)) # выведим на экран число символов в строке, которое подсчитает метод len(friend)\n",
    "print(friend1.find('ма')) # метод файнд будет искать, то что укажем в скобках в строке friend"
   ]
  },
  {
   "cell_type": "markdown",
   "id": "60120917",
   "metadata": {},
   "source": [
    "**МЕТОДЫ МЫВЫЗЫВАЕМ ЧЕРЕЗ ТОЧКУ В ОТЛИЧИИ ОТ ФУНКЦИЙ**\n",
    "\n",
    "результатом поиска строки будет число - это индекс на который метод .find нашёл заданное в поиске\n",
    "если нет потстроки метод .find выдаёт -1"
   ]
  },
  {
   "cell_type": "code",
   "execution_count": 11,
   "id": "9869b39d",
   "metadata": {},
   "outputs": [
    {
     "name": "stdout",
     "output_type": "stream",
     "text": [
      "['лёха', 'игроь', 'танюха', 'маринка', 'семён', 'колян', 'яков']\n"
     ]
    }
   ],
   "source": [
    "print(friend1.split()) # метод сплит без параметров будет разбивать нашу строку на части через пробел."
   ]
  },
  {
   "cell_type": "markdown",
   "id": "6e4c3463",
   "metadata": {},
   "source": [
    "мы получили список из 7 строчек. Была одна большая строка, её разбили через пробел и каждое слово сделали элементом списка. \n",
    "Можно использовать другой разделитель в **.split**. и то что будет между этими разделителями попадёт в список, станет элементом списка"
   ]
  },
  {
   "cell_type": "code",
   "execution_count": 12,
   "id": "78a8d9c6",
   "metadata": {},
   "outputs": [
    {
     "name": "stdout",
     "output_type": "stream",
     "text": [
      "['лёх', ' игроь т', 'нюх', ' м', 'ринк', ' семён колян яков']\n",
      "False\n",
      "True\n",
      "ЛЁХА ИГРОЬ ТАНЮХА МАРИНКА СЕМЁН КОЛЯН ЯКОВ\n",
      "лёха игроь танюха маринка семён колян яков\n"
     ]
    }
   ],
   "source": [
    "print(friend1.split('а')) # разделитель буква а\n",
    "print(friend1.isdigit())# метод проверяет состоит ли строка только из чисел. резултат логическое FALSE - не состоит, TRUE - состоит\n",
    "number = '108' # числа у нас введены в ковычках, поэтому это строка <str>\n",
    "print(number.isdigit()) # проверяем эту строчку - тру\n",
    "print(friend1.upper()) # переводим строчку в верхний регистр\n",
    "print(friend1.lower()) # переводим всё в нижний гегистр."
   ]
  },
  {
   "cell_type": "markdown",
   "id": "aa47a0d6",
   "metadata": {},
   "source": [
    "### другие методы строки\n",
    "- функция help(str) посмотреть все методы\n",
    "- выпадающая подсказка в пайчарм\n",
    "- pythonworld.ru\n",
    "- официальная документация пайтон\n",
    "- google\n",
    "\n",
    " Форматирование строк позволяет взять несколько строчек и склеить их между собой.\n",
    "\n",
    "- конкатенация (не рекомендуется) когда + слепливаем несколько строчек\n",
    "- % - оператор\n",
    "- format - функция строки (рекомендуется)\n",
    "\n",
    "форматирование строк"
   ]
  },
  {
   "cell_type": "code",
   "execution_count": 13,
   "id": "ceef3d56",
   "metadata": {},
   "outputs": [],
   "source": [
    "name = 'jon'\n",
    "age = 34"
   ]
  },
  {
   "cell_type": "markdown",
   "id": "cbffb150",
   "metadata": {},
   "source": [
    "### конкатенация.\n",
    "\n",
    "минусы: \n",
    "- плохо читается код, \n",
    "- не забывать про пробелы"
   ]
  },
  {
   "cell_type": "code",
   "execution_count": 14,
   "id": "9bf60e50",
   "metadata": {},
   "outputs": [
    {
     "name": "stdout",
     "output_type": "stream",
     "text": [
      "Привет, jon тебе 34 лет \n"
     ]
    }
   ],
   "source": [
    "hello_str = 'Привет, ' + name + ' тебе ' + str(age) + ' лет '  # конкатенация\n",
    "print(hello_str)"
   ]
  },
  {
   "cell_type": "markdown",
   "id": "cb759c9b",
   "metadata": {},
   "source": [
    "### %  .\n",
    "с помощью **%** показываем что сюда поступит строка **%s**, а туда поступит число **%d**. потом ставим процент и в скобочках указываем порядок переменных"
   ]
  },
  {
   "cell_type": "code",
   "execution_count": 15,
   "id": "0d5b4b97",
   "metadata": {},
   "outputs": [
    {
     "name": "stdout",
     "output_type": "stream",
     "text": [
      "Привет jon тебе 34 лет\n"
     ]
    }
   ],
   "source": [
    "hello_str = 'Привет %s тебе %d лет'%(name, age)\n",
    "print(hello_str)"
   ]
  },
  {
   "cell_type": "markdown",
   "id": "f6b372ec",
   "metadata": {},
   "source": [
    "format похоже на работу %"
   ]
  },
  {
   "cell_type": "code",
   "execution_count": 16,
   "id": "90c16fd9",
   "metadata": {},
   "outputs": [
    {
     "name": "stdout",
     "output_type": "stream",
     "text": [
      "Привет jon тебе 34 лет\n"
     ]
    }
   ],
   "source": [
    "hello_str = 'Привет {} тебе {} лет'.format(name, age)\n",
    "print(hello_str)"
   ]
  },
  {
   "cell_type": "markdown",
   "id": "ebf6b0ea",
   "metadata": {},
   "source": [
    "> Пример: \n",
    "\n",
    "дана строка первые 5 мест на соревнованиях \n",
    "1. иванов \n",
    "2. петров \n",
    "3. сидоров \n",
    "4. никодимов \n",
    "5. сорокин\n",
    "\n",
    "результат - поздравляем первые три места: \n",
    "> 1ИВАНОВ 2 ПЕТРОВ 3 СИДОРОВ с успехом!\""
   ]
  },
  {
   "cell_type": "code",
   "execution_count": 17,
   "id": "672a633d",
   "metadata": {},
   "outputs": [],
   "source": [
    "top5 = 'первые 5 мест на соревнованиях: 1.Иванов 2.Петров 3.Петренко 4.Николаев 5.Жулейко'"
   ]
  },
  {
   "cell_type": "markdown",
   "id": "0bd94366",
   "metadata": {},
   "source": [
    "создали переменную и поместили в неё нашу строку."
   ]
  },
  {
   "cell_type": "code",
   "execution_count": 18,
   "id": "d4d9918c",
   "metadata": {},
   "outputs": [],
   "source": [
    "start = top5.find('1') # сначала найдём индекс с которого мы будем обрезать нашу строку."
   ]
  },
  {
   "cell_type": "markdown",
   "id": "c7e53eb7",
   "metadata": {},
   "source": [
    "с помощью метода find обратимся к переменной top5, которая содержит строку.\n",
    "мы будем искать 1. от этого символа я буду искать 1 место."
   ]
  },
  {
   "cell_type": "code",
   "execution_count": 19,
   "id": "f3739789",
   "metadata": {},
   "outputs": [],
   "source": [
    "end = top5.find('4') # после этого найдём конец строки. ищем 4 - т.к всё что выше 3 места в список не войдёт"
   ]
  },
  {
   "cell_type": "markdown",
   "id": "332761df",
   "metadata": {},
   "source": [
    "после этого можем воспользоваться срезом и найти top3"
   ]
  },
  {
   "cell_type": "code",
   "execution_count": 20,
   "id": "99e7c14a",
   "metadata": {},
   "outputs": [],
   "source": [
    "top3 = top5[start:end] # берём строчку топ5 и будем с помощью среза её обрезать."
   ]
  },
  {
   "cell_type": "markdown",
   "id": "99906d10",
   "metadata": {},
   "source": [
    "обрезать от индекса **start** до индекса **end** , которые выше нашлись с помощью **.find**"
   ]
  },
  {
   "cell_type": "code",
   "execution_count": 21,
   "id": "256cc17b",
   "metadata": {},
   "outputs": [],
   "source": [
    "result = 'Поздравляем {} с успехом!'.format(top3.upper())"
   ]
  },
  {
   "cell_type": "markdown",
   "id": "10c3681f",
   "metadata": {},
   "source": [
    "Берём строчку топ3 которую получили и вставляем с помощью **.format** в переменную резалт\n",
    "top3.upper() - делаем все буквы большими в этой переменной, которая содержи обрезок изначальной строки"
   ]
  },
  {
   "cell_type": "code",
   "execution_count": 22,
   "id": "c4de1057",
   "metadata": {},
   "outputs": [
    {
     "name": "stdout",
     "output_type": "stream",
     "text": [
      "Поздравляем 1.ИВАНОВ 2.ПЕТРОВ 3.ПЕТРЕНКО  с успехом!\n"
     ]
    }
   ],
   "source": [
    "print(result) # выводим на экран результат"
   ]
  },
  {
   "cell_type": "markdown",
   "id": "714f60b0",
   "metadata": {},
   "source": [
    "Поздравляем 1.ИВАНОВ 2.ПЕТРОВ 3.ПЕТРЕНКО  с успехом!"
   ]
  },
  {
   "cell_type": "markdown",
   "id": "af9e1614",
   "metadata": {},
   "source": [
    "# УРОК 2. ВСТРОЕННЫЕ ТИПЫ И ОПЕРАЦИИ С НИМИ. СПИСКИ.\n",
    "\n",
    "Встроенные типы и операции с ними. Списки. Определение.методы. Оператор n. Кортежи\n",
    "\n",
    "- Тип данных list\n",
    "- Объявление списков\n",
    "- Основные действия со списками\n",
    "- Дополнительные действия со списками\n",
    "- оператор in\n",
    "- кортежи\n",
    "\n",
    "Практика ---> Теория\n",
    "\n",
    "Программа \"Победители\": поздравить победителей соревнований по Python!\n",
    "Программа предлагает ввести число участников. После этого мы вводим кто занял какое место.\n",
    "После этого программа делает следующие действия: Выводит всех кто участвовал в соревновании, но сортирует список по имени.\n",
    "После этого программа объявляет победителей - три человека которые заняли первые места.\n",
    "\n",
    "### Списки (list). \n",
    "Списки - упорядоченные ИЗМЕНЯЕМЫЕ коллекции объектов ПРОИЗВОЛЬНЫХ типов.\n",
    "`some_list = ['hello', 123, True]` - пример списка, содержащего строку, числовые данные, Истинное значение\n",
    "чаще всего содержит элементы одного типа"
   ]
  },
  {
   "cell_type": "code",
   "execution_count": 23,
   "id": "913f7e42",
   "metadata": {},
   "outputs": [],
   "source": [
    "friends = ['leopold', 'maximus', 'yora'] # например список из 3 строк"
   ]
  },
  {
   "cell_type": "markdown",
   "id": "7eef457e",
   "metadata": {},
   "source": [
    "для создания пустого списка оставляем пустые квадратные скобки\n",
    "Объявляем пустой список"
   ]
  },
  {
   "cell_type": "code",
   "execution_count": 24,
   "id": "51fc95ee",
   "metadata": {},
   "outputs": [],
   "source": [
    "empty_list = [] # Создаём переменную и присваиваем ей пустой список."
   ]
  },
  {
   "cell_type": "markdown",
   "id": "8217b1d6",
   "metadata": {},
   "source": [
    "Объявляем список и сразу пишем его значение? заполняем значениями - 4 строки."
   ]
  },
  {
   "cell_type": "code",
   "execution_count": 25,
   "id": "8a9b6bb7",
   "metadata": {},
   "outputs": [
    {
     "name": "stdout",
     "output_type": "stream",
     "text": [
      "['opium', 'valium', 'pentalgin', 'nikotin']\n",
      "<class 'list'>\n"
     ]
    }
   ],
   "source": [
    "friendes = ['opium', 'valium', 'pentalgin', 'nikotin']\n",
    "print(friendes)\n",
    "print(type(friendes))# Проверяем тип списка - получим <class 'list'>"
   ]
  },
  {
   "cell_type": "markdown",
   "id": "8329637d",
   "metadata": {},
   "source": [
    "В списке. как ив  строке работают индексы. Они начинаются с нуля, но возвращают они не символы, а строчки из которых состоит список.\n",
    "как и в строке для списка доступны индексы (начинается с 0)"
   ]
  },
  {
   "cell_type": "code",
   "execution_count": 26,
   "id": "07201cb4",
   "metadata": {},
   "outputs": [
    {
     "name": "stdout",
     "output_type": "stream",
     "text": [
      "второй элемент по индексу списка:  pentalgin\n",
      "первый элемент с конца:  nikotin\n"
     ]
    }
   ],
   "source": [
    "print('второй элемент по индексу списка: ', friendes[2])\n",
    "print('первый элемент с конца: ', friendes[-1])"
   ]
  },
  {
   "cell_type": "markdown",
   "id": "238ed41a",
   "metadata": {},
   "source": [
    "Также можно применить срезы"
   ]
  },
  {
   "cell_type": "code",
   "execution_count": 27,
   "id": "24254494",
   "metadata": {},
   "outputs": [
    {
     "name": "stdout",
     "output_type": "stream",
     "text": [
      "срез элементов с индексам 1 - start и 2 - end:  ['valium']\n",
      " первые элементы списка до второго по индексу элемента:  ['opium', 'valium']\n",
      "элементы после третьего элемента списка:  ['nikotin']\n"
     ]
    }
   ],
   "source": [
    "print('срез элементов с индексам 1 - start и 2 - end: ', friendes[1:2])\n",
    "print(' первые элементы списка до второго по индексу элемента: ', friendes[:2])\n",
    "print('элементы после третьего элемента списка: ', friendes[3:])"
   ]
  },
  {
   "cell_type": "markdown",
   "id": "5ed9b5e5",
   "metadata": {},
   "source": [
    "Срезы обязательно возвращают список. Даже если там 1 элемент.\n",
    "Список как ис трока обладает некоторыми методами и функциями которые можно к списку применить:\n",
    "функция len и методы списка"
   ]
  },
  {
   "cell_type": "code",
   "execution_count": 28,
   "id": "374411cd",
   "metadata": {},
   "outputs": [
    {
     "name": "stdout",
     "output_type": "stream",
     "text": [
      "Число элементов в списке 4\n",
      "['pentalgin']\n",
      "Число элементов в списке 1\n",
      "['pentalgin', 'valium']\n",
      "['opium', 'valium', 'pentalgin', 'nikotin', 'kalcium', 'zink']\n",
      "zink\n",
      "['opium', 'valium', 'pentalgin', 'nikotin', 'kalcium']\n"
     ]
    }
   ],
   "source": [
    "print('Число элементов в списке', len(friendes)) # показывает длину списку (сколько в нем элементов)\n",
    "friends.append('mukaltin') # добавление нового элемента в список#\n",
    "friendes.pop() # удаляем последний элемент и возвращаем его т.е можем вывести на экран\n",
    "friends.clear() # Очищаем весь список. Остаётся пустой список\n",
    "friendes.remove('opium') # удаление объекта из списка по его значению\n",
    "del friendes[0] # удаление элемента по индексу\n",
    "print(friendes)\n",
    "print('Число элементов в списке', len(friendes))\n",
    "friendes.append('valium')\n",
    "print(friendes)\n",
    "friendes = ['opium', 'valium', 'pentalgin', 'nikotin','kalcium','zink']\n",
    "print(friendes)\n",
    "print(friendes.pop()) # удаляем последний элемент и возвращаем его т.е можем вывести на экран\n",
    "print(friendes)"
   ]
  },
  {
   "cell_type": "markdown",
   "id": "3dc0ff56",
   "metadata": {},
   "source": [
    "### Другие методы list\n",
    "- сортировка, копирование\n",
    "- выпадающая подсказка в pycharm\n",
    "- pythomworld.ru\n",
    "- официальная документация пайтон\n",
    "- google\n",
    "\n",
    "Оператор **in** очень важный оператор, который работает не только для списков но и для других структур данных\n",
    " позволяет проверить наличие элемента в списке\n",
    " \n",
    "> 'opium' in friendes - результат True или False\n",
    "\n",
    "также оператор работает со строками: 's' in 'superman' проверяем подстроку, входит ли она в какую нибудь строчку\n",
    "    \n",
    "пример со строкой"
   ]
  },
  {
   "cell_type": "code",
   "execution_count": 29,
   "id": "d9c6551c",
   "metadata": {},
   "outputs": [
    {
     "name": "stdout",
     "output_type": "stream",
     "text": [
      "Есть слово man\n"
     ]
    }
   ],
   "source": [
    "hero = 'Superman' # У нас есть строковая переменная hero и присваиваем ей значение superman\n",
    "if hero.find('man') != -1:# нам нужно проверить есть ли в слове Superman слово man/ Если результат не равен -1 , значит есть это man потому что выдала какой то результат find\n",
    "    print('Есть слово man')"
   ]
  },
  {
   "cell_type": "markdown",
   "id": "98eed5f0",
   "metadata": {},
   "source": [
    "можем воспользоваться методом **.find**. \n",
    "\n",
    "hero.find('man') ищем в переменной hero слово 'man'\n",
    "операция нам возвращает какой нибудь индекс, а если не находит ничего возвращает -1\n",
    ".find может получить индекс вхождения подстроки в строку\n",
    "Для локоничности записи можно использовать оператор in"
   ]
  },
  {
   "cell_type": "code",
   "execution_count": 30,
   "id": "cc922304",
   "metadata": {},
   "outputs": [
    {
     "name": "stdout",
     "output_type": "stream",
     "text": [
      "нет слова man\n"
     ]
    }
   ],
   "source": [
    "hero = 'Ivan Durak'\n",
    "if 'man' in hero:\n",
    "    print('Есть слово man')\n",
    "else:\n",
    "    print('нет слова man')"
   ]
  },
  {
   "cell_type": "markdown",
   "id": "2aa073da",
   "metadata": {},
   "source": [
    "есть список целей и нам надо проверить есть ли в этом списке элемент"
   ]
  },
  {
   "cell_type": "code",
   "execution_count": 31,
   "id": "56003812",
   "metadata": {},
   "outputs": [
    {
     "name": "stdout",
     "output_type": "stream",
     "text": [
      "Добавляем элемент в список\n",
      "['python', 'растиши', 'гараж', 'семья', 'учёба', 'деньги', 'здоровье']\n"
     ]
    }
   ],
   "source": [
    "goals = ['python', 'растиши', 'гараж', 'семья','учёба','деньги']\n",
    "if 'здоровье' in goals:\n",
    "    print('Элемент уже есть')\n",
    "else:\n",
    "    print('Добавляем элемент в список')\n",
    "    goals.append('здоровье')\n",
    "    print(goals)"
   ]
  },
  {
   "cell_type": "markdown",
   "id": "07b752eb",
   "metadata": {},
   "source": [
    "Кроме списков в пайтоне есть **Кортеж (tuple)** - список, который нельзя менять\n",
    "записывается в круглых скобках в отличии от списка"
   ]
  },
  {
   "cell_type": "code",
   "execution_count": null,
   "id": "7febef05",
   "metadata": {},
   "outputs": [],
   "source": [
    "roles = ('user','manager','admin')"
   ]
  },
  {
   "cell_type": "markdown",
   "id": "b6d10ed6",
   "metadata": {},
   "source": [
    "кортежи служат для защиты от изменений\n",
    "\n",
    "ПРИМЕР. Программа Winners, интерактивное награждение победителей соревнований по python\n",
    "пользователь вводит кол-во участников соревнований по python\n",
    "пользователь вводит участников и их места в зависимости от кол-ва\n",
    "1) вывод имён участников по алфавиту\n",
    "2) Получить 3 ёх победителей и поздравить их\n",
    "3) Победители: ... Поздравляем!"
   ]
  },
  {
   "cell_type": "code",
   "execution_count": 33,
   "id": "fdfe85c5",
   "metadata": {},
   "outputs": [
    {
     "name": "stdout",
     "output_type": "stream",
     "text": [
      "Соревнования по PYTHON\n",
      "Введите число участников: 1\n",
      "Кто занял 1 место: bvvbf\n"
     ]
    }
   ],
   "source": [
    "print('Соревнования по PYTHON')\n",
    "count = int(input('Введите число участников: ' )) # сперва пользователь введёт число участников и присвоит этот результат в переменную count\n",
    "i = count # берём счётчик цикла и присваиваем ему значение count. Количество участников буду вводить с конца\n",
    "numbers = []  # создадим переменную с пустым списком, куда будем запоминать введёных участников.\n",
    "while i > 0: # пока счётчик цикла больше 0\n",
    "    name = input('Кто занял {} место: '.format(i)) # нам надо спрашивать у пользователя кто занял такое то место\n",
    "    numbers.append(name) # записываем новый элемент в созданный пустой список\n",
    "    i -= 1# после этого не забываем вычесть 1 и снова идём в цикл на проверку, пока i не станет < 0"
   ]
  },
  {
   "cell_type": "markdown",
   "id": "512844e5",
   "metadata": {},
   "source": [
    "можем использовать **.format** и использовать как раз счётчик цикла\n",
    "создадим переменную с пустым списком, куда будем запоминать введёных участников.\n",
    "После этого формируется список numbers состоящий из count элементов.\n",
    "кто участвовал в соревновании (по алфавиту)"
   ]
  },
  {
   "cell_type": "code",
   "execution_count": 34,
   "id": "92924688",
   "metadata": {},
   "outputs": [
    {
     "name": "stdout",
     "output_type": "stream",
     "text": [
      "В соревнованиях участвовали:  ['bvvbf']\n"
     ]
    }
   ],
   "source": [
    "print('В соревнованиях участвовали: ', sorted(numbers))# выводим всех участников по порядку ввода"
   ]
  },
  {
   "cell_type": "markdown",
   "id": "03fd6dea",
   "metadata": {},
   "source": [
    "**sorted** - сортируем по алфавиту. Эта функция умеет сортировать последовательности.\n",
    "мы записали людей с конца\n",
    "нам нужно взять первые 3 места. Помним, что записывали людей с конца, поэтому первые три места - 3 последних введёных"
   ]
  },
  {
   "cell_type": "code",
   "execution_count": 35,
   "id": "2835c219",
   "metadata": {},
   "outputs": [],
   "source": [
    "numbers.reverse() # реверсируем список и последние элементы становятся первыми"
   ]
  },
  {
   "cell_type": "markdown",
   "id": "1b77909e",
   "metadata": {},
   "source": [
    "нам нужно взять первые 3 места."
   ]
  },
  {
   "cell_type": "code",
   "execution_count": 38,
   "id": "12afe6bc",
   "metadata": {},
   "outputs": [
    {
     "name": "stdout",
     "output_type": "stream",
     "text": [
      "Победители: ['bvvbf']. ПОЗДРАВЛЯЕМ!\n"
     ]
    }
   ],
   "source": [
    "result = numbers[:3] # объявим переменную, куда присвоим срез со списка number элементов до 3его по индексу. То. е 0,1,2 ИНДЕКСЫ, А ЭТО  1,2,3 - МЕСТА\n",
    "\n",
    "result = 'Победители: {}. ПОЗДРАВЛЯЕМ!'.format(result)\n",
    "print(result)"
   ]
  },
  {
   "cell_type": "code",
   "execution_count": 39,
   "id": "aefddeb6",
   "metadata": {},
   "outputs": [],
   "source": [
    "roles = ('BTC', 'RTH', 'RUB')"
   ]
  },
  {
   "cell_type": "markdown",
   "id": "1deb44df",
   "metadata": {},
   "source": [
    "\n",
    "# УРОК 3. ПОСЛЕДОВАТЕЛЬНОСТИ. ЦИКЛ for in\n",
    "\n",
    "- Что такое последовательности\n",
    "- Общие действия с последовательностями\n",
    "- Утиная типизация\n",
    "- цикл for in\n",
    "\n",
    "Для разных типов данных строка, список, кортеж мы можем применять одинаковые функции\n",
    "Функция type() - чтобы посмотреть класс данных"
   ]
  },
  {
   "cell_type": "code",
   "execution_count": 40,
   "id": "351e6a8e",
   "metadata": {},
   "outputs": [
    {
     "name": "stdout",
     "output_type": "stream",
     "text": [
      "<class 'str'>\n",
      "<class 'list'>\n",
      "<class 'tuple'>\n"
     ]
    }
   ],
   "source": [
    "print(type(friend)) # \"<class 'str'>\n",
    "print(type(friendes)) # <class 'list'>\n",
    "print(type(roles)) # <class 'tuple'>"
   ]
  },
  {
   "cell_type": "markdown",
   "id": "bb920721",
   "metadata": {},
   "source": [
    "- можем использовать индексацию и брать какой то элемент по индексу"
   ]
  },
  {
   "cell_type": "code",
   "execution_count": 41,
   "id": "f860884c",
   "metadata": {},
   "outputs": [
    {
     "name": "stdout",
     "output_type": "stream",
     "text": [
      "о\n",
      "valium\n",
      "RTH\n"
     ]
    }
   ],
   "source": [
    "print(friend[1])\n",
    "print(friendes[1])\n",
    "print(roles[1])"
   ]
  },
  {
   "cell_type": "markdown",
   "id": "d78fa07c",
   "metadata": {},
   "source": [
    "- срезы"
   ]
  },
  {
   "cell_type": "code",
   "execution_count": 42,
   "id": "05bc934d",
   "metadata": {},
   "outputs": [
    {
     "name": "stdout",
     "output_type": "stream",
     "text": [
      "о\n",
      "['opium', 'valium']\n",
      "('RTH', 'RUB')\n"
     ]
    }
   ],
   "source": [
    "print(friend[1:2])\n",
    "print(friendes[0:2])\n",
    "print(roles[1:3])"
   ]
  },
  {
   "cell_type": "markdown",
   "id": "8132ebb8",
   "metadata": {},
   "source": [
    "- длина"
   ]
  },
  {
   "cell_type": "code",
   "execution_count": 43,
   "id": "ce7bb458",
   "metadata": {},
   "outputs": [
    {
     "name": "stdout",
     "output_type": "stream",
     "text": [
      "8\n",
      "5\n",
      "3\n"
     ]
    }
   ],
   "source": [
    "print(len(friend))\n",
    "print(len(friendes))\n",
    "print(len(roles))"
   ]
  },
  {
   "cell_type": "markdown",
   "id": "6d4d0a66",
   "metadata": {},
   "source": [
    "Таким образом все эти типы данных можно обобщить в одно понятие - Последовательности\n",
    "\n",
    "Последовательность - контейнер, элемнты которого представляют собой некую последовательность\n",
    "Могут быть как изменяемыми (список), так и неизменяемыми (кортеж, строка)\n",
    "реализует определённые методы (доступна индексация, взятие длины, ..., можно использовать цикл for)\n",
    "\n",
    "### Утиная типизация\n",
    "Если это выглядит как утка, плавает как утка и крякает как утка, то это, возможно, и есть утка.\n",
    "В ООП-языках - определение факта реализации определенного интерфейса объектом без явного указания или наследования этого интерфейса, а просто по реализации полного набора его методов\n",
    "Если объект соержит реализацию методов последовательности - он будет считаться последовательностью"
   ]
  },
  {
   "cell_type": "code",
   "execution_count": 44,
   "id": "6d84b86f",
   "metadata": {},
   "outputs": [
    {
     "name": "stdout",
     "output_type": "stream",
     "text": [
      "У меня есть этот друг\n",
      "Буква S нашлась\n"
     ]
    }
   ],
   "source": [
    "friend_name = 'Simon'\n",
    "friends = ['Sid','Simon','Kate','Den','Mike','Kurd']\n",
    "roles = ('admin','guest','user')\n",
    "\n",
    "if 'Sid' in friends:\n",
    "    print('У меня есть этот друг')\n",
    "if 'S' in friend_name:\n",
    "    print('Буква S нашлась')"
   ]
  },
  {
   "cell_type": "markdown",
   "id": "e5b36ea2",
   "metadata": {},
   "source": [
    "**for** - основной цикл для последовательностей\n",
    "позволяет перебирать элементы последовательности по очереди не применяя для этого цикл **while**\n",
    "\n",
    "перебираем по старинке с циклом while"
   ]
  },
  {
   "cell_type": "code",
   "execution_count": 45,
   "id": "6beee18c",
   "metadata": {},
   "outputs": [
    {
     "name": "stdout",
     "output_type": "stream",
     "text": [
      "Sid\n",
      "Simon\n",
      "Kate\n",
      "Den\n",
      "Mike\n",
      "Kurd\n"
     ]
    }
   ],
   "source": [
    "i = 0 # в первую очередь нам понадобится какой нибудь счётчик.\n",
    "while i < len(friends): # пока счётчик не привысил длину последовательности friends\n",
    "    friend = friends[i] # вводим переменную куда записываем значение i ого элемента последовательности\n",
    "    print(friend) # выводим на экран это значение\n",
    "    i += 1 # прибавляем счётчик"
   ]
  },
  {
   "cell_type": "markdown",
   "id": "d9a0db5b",
   "metadata": {},
   "source": [
    "В принципе сработал он неплохо. Аналогично можно перебрать строчку и картеж.\n",
    "НО ЛУЧШЕ ИСПОЛЬЗОВАТЬ ЦИКЛ for\n",
    "позволяет перебирать элементы последовательности по порядку без указания индекса"
   ]
  },
  {
   "cell_type": "code",
   "execution_count": 46,
   "id": "d37f9294",
   "metadata": {},
   "outputs": [
    {
     "name": "stdout",
     "output_type": "stream",
     "text": [
      "Список выведен с помощью цикла for\n",
      "Sid\n",
      "Simon\n",
      "Kate\n",
      "Den\n",
      "Mike\n",
      "Kurd\n"
     ]
    }
   ],
   "source": [
    "print('Список выведен с помощью цикла for')\n",
    "for friend in friends:\n",
    "    print(friend)"
   ]
  },
  {
   "cell_type": "markdown",
   "id": "825501c2",
   "metadata": {},
   "source": [
    "Закнчивает выполнение когда заканчивается последовательность элементов\n",
    "позволяет совершить меньше ошибок при переборе элементов\n",
    "\n",
    "- сперва пишем for потом пишется переменная, которая будет переменной цикла\n",
    "- далее пишем in и указываем последовательность которую будем перебирать\n",
    "- после этого выводим на экран переменную friend и такиим образом выпишем всех друзей из списка\n",
    "- обязательно делаем отступ, когда пишем условие цикла\n",
    "- после того как последовательность закончится, программа пойдет дальше., выйдет из этого цикла\n",
    "т.к. строка и кортеж также последовательности - к ним также можем применить цикл for"
   ]
  },
  {
   "cell_type": "code",
   "execution_count": 47,
   "id": "300d2692",
   "metadata": {},
   "outputs": [
    {
     "name": "stdout",
     "output_type": "stream",
     "text": [
      "л\n",
      "ё\n",
      "х\n",
      "а\n",
      " \n",
      "и\n",
      "г\n",
      "р\n",
      "о\n",
      "ь\n",
      " \n",
      "т\n",
      "а\n",
      "н\n",
      "ю\n",
      "х\n",
      "а\n",
      " \n",
      "м\n",
      "а\n",
      "р\n",
      "и\n",
      "н\n",
      "к\n",
      "а\n",
      " \n",
      "с\n",
      "е\n",
      "м\n",
      "ё\n",
      "н\n",
      " \n",
      "к\n",
      "о\n",
      "л\n",
      "я\n",
      "н\n",
      " \n",
      "я\n",
      "к\n",
      "о\n",
      "в\n"
     ]
    }
   ],
   "source": [
    "for letter in friend1:\n",
    "    print(letter)"
   ]
  },
  {
   "cell_type": "markdown",
   "id": "24725804",
   "metadata": {},
   "source": [
    "перебираем строку по буквам\n",
    "перебор кортежа аналогичен"
   ]
  },
  {
   "cell_type": "code",
   "execution_count": 48,
   "id": "8519f52d",
   "metadata": {},
   "outputs": [
    {
     "name": "stdout",
     "output_type": "stream",
     "text": [
      "admin\n",
      "guest\n",
      "user\n"
     ]
    }
   ],
   "source": [
    "for role in roles:\n",
    "    print(role)"
   ]
  },
  {
   "cell_type": "markdown",
   "id": "82bb51a7",
   "metadata": {},
   "source": [
    "Цикл **while** классический для программирования, но в пайтоне приемущество следует отдавать циклу for\n",
    "особенно при переборе последовательности\n",
    "и когда нам не нужно манипулировать счётчиком индекса и условием цикла"
   ]
  },
  {
   "cell_type": "markdown",
   "id": "31bfc1a4",
   "metadata": {},
   "source": [
    "\n",
    "# УРОК 4. range И КОГДА ЕГО ПРИМЕНЯТЬ\n",
    "\n",
    "- когда применять **range**\n",
    "- варианты использования **range**\n",
    "- циклы **for in range**\n",
    "- циклы **while for for in range** какой выбрать\n",
    "\n",
    "когда нам может помочь **range**\n",
    "функция **range** в пайтон\n",
    "позволяет создать последовательность целых чисел\n",
    "чаще всего используется с циклом **for**"
   ]
  },
  {
   "cell_type": "code",
   "execution_count": 49,
   "id": "a60cbca4",
   "metadata": {},
   "outputs": [
    {
     "name": "stdout",
     "output_type": "stream",
     "text": [
      "range(0, 10)\n",
      "<class 'range'>\n"
     ]
    }
   ],
   "source": [
    "numbers = range(10)\n",
    "print(numbers)\n",
    "print(type(numbers)) # <class 'range'> это специальный тип ни список ни кортеж"
   ]
  },
  {
   "cell_type": "markdown",
   "id": "ddee6ab8",
   "metadata": {},
   "source": [
    "но вместо чисел нам распечатывается range(0,10) какой то диапозон"
   ]
  },
  {
   "cell_type": "code",
   "execution_count": 50,
   "id": "b071912a",
   "metadata": {},
   "outputs": [
    {
     "name": "stdout",
     "output_type": "stream",
     "text": [
      "[0, 1, 2, 3, 4, 5, 6, 7, 8, 9]\n"
     ]
    }
   ],
   "source": [
    "print(list(numbers)) # если мы хотим распечатать содержимое диапазона range приводим к типу list"
   ]
  },
  {
   "cell_type": "markdown",
   "id": "74e04e69",
   "metadata": {},
   "source": [
    "распечаталcя список  целые числа от 0 до 9 .\n",
    "таким образом с помощью функции range с одним параметром можно создать последовательность от 0 и до числа\n",
    "последняя цифра параметра в диапазон не включается\n"
   ]
  },
  {
   "cell_type": "code",
   "execution_count": 51,
   "id": "7de3c4c7",
   "metadata": {},
   "outputs": [],
   "source": [
    "winners = ['exmo','btc','etz']"
   ]
  },
  {
   "cell_type": "markdown",
   "id": "563a0bff",
   "metadata": {},
   "source": [
    "мы имеем список победителей и просто вывести их в цикле по очереди простым перебором\n",
    "простой перебор"
   ]
  },
  {
   "cell_type": "code",
   "execution_count": 52,
   "id": "ada6f28e",
   "metadata": {},
   "outputs": [
    {
     "name": "stdout",
     "output_type": "stream",
     "text": [
      "exmo\n",
      "btc\n",
      "etz\n"
     ]
    }
   ],
   "source": [
    "for winner in winners:\n",
    "    print(winner)"
   ]
  },
  {
   "cell_type": "markdown",
   "id": "3da9eed5",
   "metadata": {},
   "source": [
    "Но что делать если нам надо вывести место победителя?\n",
    "использовать **while**?\n",
    "или есть способ лучше?\n",
    "\n",
    "используем **range**"
   ]
  },
  {
   "cell_type": "code",
   "execution_count": 53,
   "id": "f0e5f5e7",
   "metadata": {},
   "outputs": [
    {
     "name": "stdout",
     "output_type": "stream",
     "text": [
      "0\n",
      "exmo\n",
      "1\n",
      "btc\n",
      "2\n",
      "etz\n"
     ]
    }
   ],
   "source": [
    "for i in range(len(winners)): # у нас счётчик i будет пробегать значения от 0 до длины нашего списка\n",
    "    print(i)\n",
    "    print(winners[i])"
   ]
  },
  {
   "cell_type": "markdown",
   "id": "cf0ae66e",
   "metadata": {},
   "source": [
    "вывести нечётные числа от 1 до 7"
   ]
  },
  {
   "cell_type": "code",
   "execution_count": 54,
   "id": "699bdb9a",
   "metadata": {},
   "outputs": [
    {
     "name": "stdout",
     "output_type": "stream",
     "text": [
      "1\n",
      "3\n",
      "5\n",
      "7\n"
     ]
    }
   ],
   "source": [
    "numbers = [1, 3, 5, 7]\n",
    "for number in numbers:\n",
    "    print(number)"
   ]
  },
  {
   "cell_type": "markdown",
   "id": "e7266fba",
   "metadata": {},
   "source": [
    "как это сделать если цифр будет 1000 или 1000000\n",
    "использовать **while**?\n",
    "или есть способ лучше?\n",
    "\n",
    "параметры **range** . имеет 3 параметра\n",
    "\n",
    "> range(start_or_stop, stop[,step])\n",
    "\n",
    "- start_or_stop начало или конец последовательности\n",
    "- stop - конец последовательности\n",
    "- [,step] - шаг с которым мы идём\n",
    "\n",
    "вывести нечётные числа от 1 до 7"
   ]
  },
  {
   "cell_type": "code",
   "execution_count": 55,
   "id": "920ef86e",
   "metadata": {},
   "outputs": [
    {
     "name": "stdout",
     "output_type": "stream",
     "text": [
      "1\n",
      "3\n",
      "5\n",
      "7\n",
      "[1, 3, 5]\n"
     ]
    }
   ],
   "source": [
    "numbers = [1, 3, 5, 7]\n",
    "for number in numbers:\n",
    "    print(number)\n",
    "\n",
    "print(list(range(1, 7, 2))) # воспользуемся списком или сформируем список с помощью range"
   ]
  },
  {
   "cell_type": "markdown",
   "id": "c34b8a55",
   "metadata": {},
   "source": [
    "вызываем функцию range , стартуем с 1, конечное значение 7, и третий параметр = шаг =2 т.к идём по нечётным числам\n",
    "тоже самое в цикле for"
   ]
  },
  {
   "cell_type": "code",
   "execution_count": 56,
   "id": "b585789e",
   "metadata": {},
   "outputs": [
    {
     "name": "stdout",
     "output_type": "stream",
     "text": [
      "1\n",
      "2\n",
      "3\n",
      "4\n",
      "5\n",
      "6\n",
      "7\n",
      "8\n"
     ]
    }
   ],
   "source": [
    "for number in range(1, 9, 1):\n",
    "    print(number)"
   ]
  },
  {
   "cell_type": "markdown",
   "id": "6a134d8a",
   "metadata": {},
   "source": [
    "Мы выведим теже самые цифры но в столбик.\n",
    "\n",
    "- for - перебор последовательности. Индекс не нужен\n",
    "- for range - перебор последовательности нужен индекс где\n",
    "- for range - необходимо пропустить некоторые элементы или идти с конца в начало\n",
    "- while - цикл связан с условием, но не с последовательностью\n"
   ]
  },
  {
   "cell_type": "markdown",
   "id": "9e1ea929",
   "metadata": {},
   "source": [
    "# УРОК 5. ВСТРОЕННЫЕ ТИПЫ  ОПЕРАЦИИ С НИМИ. СЛОВАРИ. Определение. методы. перебор\n",
    "\n",
    " - определение словаря\n",
    " - объявление словаря\n",
    " - применение словаря\n",
    " - основные действия со словарями\n",
    " - перебор словаря в цикле for\n",
    "\n",
    "### словарь dict\n",
    "неупорядоченные коллекции произвольных объектов с доступом по ключу.\n",
    "**my_dict = {key1:val1, key2:val2...}**  объявляется словарь фигурными скобками в которых мы указываем пары: ключ:значение\n",
    " "
   ]
  },
  {
   "cell_type": "code",
   "execution_count": 58,
   "id": "751d4ee0",
   "metadata": {},
   "outputs": [],
   "source": [
    "dogy = {name:'Ronny', age:8} # например словарь дог"
   ]
  },
  {
   "cell_type": "code",
   "execution_count": 59,
   "id": "31f2bbd0",
   "metadata": {},
   "outputs": [
    {
     "name": "stdout",
     "output_type": "stream",
     "text": [
      "('Шарик', 'Тузик', 'Полкан')\n",
      "<class 'tuple'>\n",
      "Шарик\n",
      "<class 'str'>\n"
     ]
    }
   ],
   "source": [
    "dogs = ('Шарик','Тузик','Полкан')\n",
    "print(dogs)\n",
    "print(type(dogs))\n",
    "dog = dogs[0]\n",
    "print(dog)\n",
    "print(type(dog))"
   ]
  },
  {
   "cell_type": "markdown",
   "id": "35a4deea",
   "metadata": {},
   "source": [
    "как добавить пол собаки?\n",
    "объявим переменную, которая будет у нас словарём. в словаре мы указываем пары. ключ: значение"
   ]
  },
  {
   "cell_type": "code",
   "execution_count": 60,
   "id": "338fc088",
   "metadata": {},
   "outputs": [],
   "source": [
    "doggy = {\n",
    "    'name': 'Шарик',\n",
    "    'gender': 'кабель'\n",
    "}"
   ]
  },
  {
   "cell_type": "markdown",
   "id": "eb2f1a47",
   "metadata": {},
   "source": [
    "В словаре (внутри {}) мы указываем пары: ключ и значение\n",
    "ключ - строка name это будет именно имя собаки. А ключом будет Шарик\n",
    "после этого через запятую можем указать ещё пары ключ:значение сколько хотите\n",
    "таким образом можно хронить одновременно 2 информации о собаках: имя и пол"
   ]
  },
  {
   "cell_type": "code",
   "execution_count": 61,
   "id": "a1f6a20e",
   "metadata": {},
   "outputs": [
    {
     "name": "stdout",
     "output_type": "stream",
     "text": [
      "{'name': 'Шарик', 'gender': 'кабель'}\n",
      "<class 'dict'>\n"
     ]
    }
   ],
   "source": [
    "print(doggy)\n",
    "print(type(doggy))"
   ]
  },
  {
   "cell_type": "markdown",
   "id": "1e36c475",
   "metadata": {},
   "source": [
    "### Основные или стандартные действия со словарями:\n",
    "- получение элемента по ключу doggy['name']"
   ]
  },
  {
   "cell_type": "code",
   "execution_count": 62,
   "id": "124ff4b3",
   "metadata": {},
   "outputs": [
    {
     "name": "stdout",
     "output_type": "stream",
     "text": [
      "{'name': 'Python', 'age': 13}\n",
      "<class 'dict'>\n",
      "13\n"
     ]
    }
   ],
   "source": [
    "friend = {\n",
    "    'name': 'Python',\n",
    "    'age': 13\n",
    "}\n",
    "print(friend)\n",
    "print(type(friend))\n",
    "\n",
    "print(friend['age']) # для начала узнаем сколькко лет нашему другу friend. вместо индекса указываем ключ"
   ]
  },
  {
   "cell_type": "markdown",
   "id": "6206510e",
   "metadata": {},
   "source": [
    "то есть по ключу мы получаем значение.\n",
    "\n",
    "- добавление значения в словарь dog['has_car'] = True"
   ]
  },
  {
   "cell_type": "code",
   "execution_count": 63,
   "id": "6bb3ee39",
   "metadata": {},
   "outputs": [],
   "source": [
    "friend['has_car'] = True # пользуемся квадратными скобками и пишем в них новый ключ - \"Has_car\""
   ]
  },
  {
   "cell_type": "markdown",
   "id": "d7b87a4a",
   "metadata": {},
   "source": [
    "Если ключа ещё нету этого значения , то в словарь добавляется пара - ключ:значение\n",
    "Если ключ уже есть в словаре, то значение заменится."
   ]
  },
  {
   "cell_type": "code",
   "execution_count": 64,
   "id": "6bd8d517",
   "metadata": {},
   "outputs": [
    {
     "name": "stdout",
     "output_type": "stream",
     "text": [
      "{'name': 'Python', 'age': 13, 'has_car': True}\n"
     ]
    }
   ],
   "source": [
    "print(friend) # видим значение true и ключ добавились в словарь"
   ]
  },
  {
   "cell_type": "markdown",
   "id": "0a04a316",
   "metadata": {},
   "source": [
    "изменение значения dog['has_car'] = False"
   ]
  },
  {
   "cell_type": "code",
   "execution_count": 65,
   "id": "e84b9662",
   "metadata": {},
   "outputs": [
    {
     "name": "stdout",
     "output_type": "stream",
     "text": [
      "{'name': 'Python', 'age': 13, 'has_car': False}\n"
     ]
    }
   ],
   "source": [
    "friend['has_car'] = False # заменяет значение  в словаре\n",
    "print(friend)"
   ]
  },
  {
   "cell_type": "markdown",
   "id": "5813bfab",
   "metadata": {},
   "source": [
    "словарь специальная структура двнных с одним ключом может быть обязательно только одно значение\n",
    "\n",
    "**удаление значения remove dog['gender']**"
   ]
  },
  {
   "cell_type": "code",
   "execution_count": 66,
   "id": "b0ee8ce5",
   "metadata": {},
   "outputs": [
    {
     "name": "stdout",
     "output_type": "stream",
     "text": [
      "{'name': 'Python', 'age': 13}\n"
     ]
    }
   ],
   "source": [
    "del friend['has_car'] # оператор дел. указываем переменную и ключ значение которого мы хотим удалить. удалится сразу пара - ключ и значение\n",
    "print(friend)"
   ]
  },
  {
   "cell_type": "markdown",
   "id": "afef9a3e",
   "metadata": {},
   "source": [
    "оператор **in** \n",
    "\n",
    "> 'gender' in dog\n",
    "\n",
    "этот оператор работает ПО КЛЮЧАМ\n",
    "можем проверить есть ли какой то ключ в словаре"
   ]
  },
  {
   "cell_type": "code",
   "execution_count": 67,
   "id": "e3d3f550",
   "metadata": {},
   "outputs": [
    {
     "name": "stdout",
     "output_type": "stream",
     "text": [
      "Возраст есть в словаре\n"
     ]
    }
   ],
   "source": [
    "if 'age' in friend:\n",
    "    print('Возраст есть в словаре')"
   ]
  },
  {
   "cell_type": "markdown",
   "id": "eaf4f332",
   "metadata": {},
   "source": [
    "Если будет ключ age то будет принт, если не будет идём по коду дальше\n",
    "\n",
    "Ваоианты перебора словаря. циклом **for**,\n",
    " - по ключам"
   ]
  },
  {
   "cell_type": "code",
   "execution_count": 68,
   "id": "fbfa99db",
   "metadata": {},
   "outputs": [
    {
     "name": "stdout",
     "output_type": "stream",
     "text": [
      "name\n",
      "Python\n",
      "age\n",
      "13\n"
     ]
    }
   ],
   "source": [
    "for key in friend.keys(): # мы будем идти по циклу, печатать ключи, пока не переберём все ключи. через точку вызываем метод keys\n",
    "    print(key) # печатаются только ключи\n",
    "    print(friend[key]) # получить значения ключей"
   ]
  },
  {
   "cell_type": "markdown",
   "id": "7be382b0",
   "metadata": {},
   "source": [
    "второй способ перебирания по ключам"
   ]
  },
  {
   "cell_type": "code",
   "execution_count": 69,
   "id": "c5820752",
   "metadata": {},
   "outputs": [
    {
     "name": "stdout",
     "output_type": "stream",
     "text": [
      "name\n",
      "Python\n",
      "age\n",
      "13\n"
     ]
    }
   ],
   "source": [
    "for key in friend:\n",
    "    print(key)\n",
    "    print(friend[key])"
   ]
  },
  {
   "cell_type": "markdown",
   "id": "0eeb4b12",
   "metadata": {},
   "source": [
    " - по значениям"
   ]
  },
  {
   "cell_type": "code",
   "execution_count": 70,
   "id": "074ce9a3",
   "metadata": {},
   "outputs": [
    {
     "name": "stdout",
     "output_type": "stream",
     "text": [
      "Python\n",
      "13\n"
     ]
    }
   ],
   "source": [
    "for val in friend.values(): # с помощью метода .values()проходим в цикле по всем значениям\n",
    "    print(val) # распечатываем только значения бкз ключа."
   ]
  },
  {
   "cell_type": "markdown",
   "id": "ef38578e",
   "metadata": {},
   "source": [
    "- по парам ключ:значение"
   ]
  },
  {
   "cell_type": "code",
   "execution_count": 71,
   "id": "5176b952",
   "metadata": {},
   "outputs": [
    {
     "name": "stdout",
     "output_type": "stream",
     "text": [
      "('name', 'Python')\n",
      "('age', 13)\n"
     ]
    }
   ],
   "source": [
    "for item in friend.items(): # будем перебирать пары в виде картежа.\n",
    "    print(item)"
   ]
  },
  {
   "cell_type": "markdown",
   "id": "9d7e54f2",
   "metadata": {},
   "source": [
    "с помощью метода **.items()** возвращаем список из кортежей\n",
    "можно воспользоваться индексом у кортежа, чтобы взять конкретные элементы.\n",
    "но мы можем сразу получить в одну переменную ключ, во вторую значение"
   ]
  },
  {
   "cell_type": "code",
   "execution_count": 72,
   "id": "fb9aff74",
   "metadata": {},
   "outputs": [
    {
     "name": "stdout",
     "output_type": "stream",
     "text": [
      "name Python\n",
      "age 13\n"
     ]
    }
   ],
   "source": [
    "for key, val in friend.items():# Таким образом кортежы сразу распадуться на 2 переменные\n",
    "   print(key, val)"
   ]
  },
  {
   "cell_type": "markdown",
   "id": "d85abc60",
   "metadata": {},
   "source": [
    "\n",
    "# УРОК 6. МНОЖЕСТВА, МЕТОДЫ, ПРИМЕНЕНИЕ\n",
    "\n",
    " - определение множества\n",
    " - объявление множества\n",
    " - действия со множествами\n",
    " - практическое применение множеств\n",
    "\n",
    "Множество или тип **set** в пайтоне\n",
    "неупорядоченные коллекции, содержащие не повторяющиеся элементы\n",
    "во множестве не может быть 2 ух одинаковых элементов"
   ]
  },
  {
   "cell_type": "code",
   "execution_count": 73,
   "id": "5cc445a5",
   "metadata": {},
   "outputs": [],
   "source": [
    "cities = {'Las Vegas','Moscow','Paris'} # вотличии от славаря через запятую прописываем названия элементов"
   ]
  },
  {
   "cell_type": "markdown",
   "id": "5c09b671",
   "metadata": {},
   "source": [
    "пример"
   ]
  },
  {
   "cell_type": "code",
   "execution_count": 74,
   "id": "592965a3",
   "metadata": {},
   "outputs": [
    {
     "name": "stdout",
     "output_type": "stream",
     "text": [
      "<class 'list'> <class 'set'>\n",
      "['Las Vegas', 'Moscow', 'Paris', 'Moscow', 'Paris']\n"
     ]
    }
   ],
   "source": [
    "allcities = ['Las Vegas','Moscow','Paris','Moscow','Paris'] # мы имеем список городов\n",
    "print(type(allcities), type(cities))\n",
    "print(allcities)"
   ]
  },
  {
   "cell_type": "markdown",
   "id": "a336a7b1",
   "metadata": {},
   "source": [
    "Если хотим сделать города неповторяющимеся т.е убрать дубли\n",
    "можем привести наш список к типу множество."
   ]
  },
  {
   "cell_type": "code",
   "execution_count": 75,
   "id": "bea0ada5",
   "metadata": {},
   "outputs": [
    {
     "name": "stdout",
     "output_type": "stream",
     "text": [
      "{'Moscow', 'Paris', 'Las Vegas'}\n",
      "<class 'set'>\n"
     ]
    }
   ],
   "source": [
    "allcities = (set(cities)) # пересохраняем в туже самую переменную, преобразуем в тип set\n",
    "print(allcities) # видим дубли ушли\n",
    "print(type(allcities)) # <class = 'set'>"
   ]
  },
  {
   "cell_type": "markdown",
   "id": "15908a0d",
   "metadata": {},
   "source": [
    "чтобы объявить множество пишем его имя переменной и в фигурных скобках указываем через запятую значения\n",
    "\n",
    "### действия со множествами\n",
    "- добавление элемента **cities.add('Surgut')**\n",
    "- удаление элемента **cities.remove('Las Vegas')**\n",
    "- взятие длины множества **len**\n",
    "- оператор **in**, цикл **for**\n",
    "- работа с несколькими множествами (объединение и пересечение)"
   ]
  },
  {
   "cell_type": "code",
   "execution_count": 76,
   "id": "3d26f143",
   "metadata": {},
   "outputs": [
    {
     "name": "stdout",
     "output_type": "stream",
     "text": [
      "{'Moscow', 'Paris', 'Saransk', 'Las Vegas'}\n"
     ]
    }
   ],
   "source": [
    "allcities.add('Saransk') # добавим новый елемент\n",
    "print(allcities)"
   ]
  },
  {
   "cell_type": "markdown",
   "id": "114b5d48",
   "metadata": {},
   "source": [
    "если добавим неповторяющийся элемент, наше множество расширится"
   ]
  },
  {
   "cell_type": "code",
   "execution_count": 77,
   "id": "dd8d2820",
   "metadata": {},
   "outputs": [
    {
     "name": "stdout",
     "output_type": "stream",
     "text": [
      "{'Moscow', 'Saransk', 'Las Vegas'}\n"
     ]
    }
   ],
   "source": [
    "allcities.remove('Paris') # удаляет элемент\n",
    "print(allcities)"
   ]
  },
  {
   "cell_type": "markdown",
   "id": "eab07a8e",
   "metadata": {},
   "source": [
    "к множествам можно применить методы последовательностей, например взятие длины"
   ]
  },
  {
   "cell_type": "code",
   "execution_count": 78,
   "id": "bd502c84",
   "metadata": {},
   "outputs": [
    {
     "name": "stdout",
     "output_type": "stream",
     "text": [
      "Длина множества (сколько в нём элементов):  3\n",
      "False\n"
     ]
    }
   ],
   "source": [
    "print('Длина множества (сколько в нём элементов): ', len(allcities))\n",
    "print('Saransk ' in allcities) # ответ правда или ложе. есть или нету. Есть ли саранск в этом множестве"
   ]
  },
  {
   "cell_type": "markdown",
   "id": "d1fc97c1",
   "metadata": {},
   "source": [
    "Также работает цикл **for** = перебор элементов можества"
   ]
  },
  {
   "cell_type": "code",
   "execution_count": 79,
   "id": "4b082b79",
   "metadata": {},
   "outputs": [
    {
     "name": "stdout",
     "output_type": "stream",
     "text": [
      "Moscow\n",
      "<class 'str'>\n",
      "Saransk\n",
      "<class 'str'>\n",
      "Las Vegas\n",
      "<class 'str'>\n"
     ]
    }
   ],
   "source": [
    "for city in allcities:\n",
    "    print(city)\n",
    "    print(type(city)) # str"
   ]
  },
  {
   "cell_type": "markdown",
   "id": "ff786faf",
   "metadata": {},
   "source": [
    "### Множества поддерживают операции\n",
    " - объединение |\n",
    " - пересечение &\n",
    " - разность -\n",
    "    \n",
    "они работают также как множества в математике\n",
    "также есть другие методы и операции, которые можно найти в интернете.\n",
    "\n",
    "семейная пара собирается в отпуск\n",
    "каждый из супругов собирает в поездку вещи\n",
    "макс взял эти вещи:"
   ]
  },
  {
   "cell_type": "code",
   "execution_count": 80,
   "id": "6302313a",
   "metadata": {},
   "outputs": [],
   "source": [
    "max_things = {'телефон','зарядка','цитромон','пистолет'}"
   ]
  },
  {
   "cell_type": "markdown",
   "id": "2365ec61",
   "metadata": {},
   "source": [
    "кейт взяла эти вещи"
   ]
  },
  {
   "cell_type": "code",
   "execution_count": 81,
   "id": "a672b189",
   "metadata": {},
   "outputs": [],
   "source": [
    "kate_things = {'пилка', 'вилка','огурец','телефон'}"
   ]
  },
  {
   "cell_type": "markdown",
   "id": "6638c682",
   "metadata": {},
   "source": [
    "- какие вещи взяли супруги?\n",
    "- какие вещи повтаряются?\n",
    "- какие вещи взял макс и не взяла кейт\n",
    "- какие вещи взяла кейт но ре взял макс?\n",
    "\n",
    "Если бы мы пользовались структурами данных на подобии списка\n",
    "то задача была бы достаточно сложна. Пришлось бы перебирать всё элементы и вручную искать\n",
    "какие из них повторяются, а какие нет.\n",
    "если же мы пользуемся множеством, то всё гораздо проще\n",
    "\n",
    "какие вещи взяли супруги?"
   ]
  },
  {
   "cell_type": "code",
   "execution_count": 82,
   "id": "266dffd9",
   "metadata": {},
   "outputs": [
    {
     "name": "stdout",
     "output_type": "stream",
     "text": [
      "{'пистолет', 'пилка', 'вилка', 'огурец', 'цитромон', 'телефон', 'зарядка'}\n"
     ]
    }
   ],
   "source": [
    "print(max_things | kate_things)"
   ]
  },
  {
   "cell_type": "markdown",
   "id": "a889a1f3",
   "metadata": {},
   "source": [
    "для этого берём первое множество max_things и объединить его | со вторым\n",
    "\n",
    "какие вещи повтаряются?"
   ]
  },
  {
   "cell_type": "code",
   "execution_count": 83,
   "id": "a76b971b",
   "metadata": {},
   "outputs": [
    {
     "name": "stdout",
     "output_type": "stream",
     "text": [
      "{'телефон'}\n"
     ]
    }
   ],
   "source": [
    "print(max_things & kate_things)"
   ]
  },
  {
   "cell_type": "markdown",
   "id": "5530ced9",
   "metadata": {},
   "source": [
    "воспользуемся **пересечением &** . \n",
    "знак амперсант - &\n",
    "\n",
    "какие вещи взял макс и не взяла кейт"
   ]
  },
  {
   "cell_type": "code",
   "execution_count": 84,
   "id": "6705b867",
   "metadata": {},
   "outputs": [
    {
     "name": "stdout",
     "output_type": "stream",
     "text": [
      "{'пистолет', 'цитромон', 'зарядка'}\n"
     ]
    }
   ],
   "source": [
    "print(max_things - kate_things)"
   ]
  },
  {
   "cell_type": "markdown",
   "id": "c2964a40",
   "metadata": {},
   "source": [
    "из вещей макса вычитаем вещи кейт\n",
    "\n",
    "какие вещи взяла кейт но не взял макс?"
   ]
  },
  {
   "cell_type": "code",
   "execution_count": 85,
   "id": "1e6c2433",
   "metadata": {},
   "outputs": [
    {
     "name": "stdout",
     "output_type": "stream",
     "text": [
      "{'пилка', 'огурец', 'вилка'}\n"
     ]
    }
   ],
   "source": [
    "print(kate_things - max_things)"
   ]
  },
  {
   "cell_type": "markdown",
   "id": "22d69641",
   "metadata": {},
   "source": [
    "Вычитаем из вещей куйт вещи макса\n",
    "\n",
    "всего за одну строчку решаются достаточно сложные вопросы"
   ]
  }
 ],
 "metadata": {
  "kernelspec": {
   "display_name": "Python 3 (ipykernel)",
   "language": "python",
   "name": "python3"
  },
  "language_info": {
   "codemirror_mode": {
    "name": "ipython",
    "version": 3
   },
   "file_extension": ".py",
   "mimetype": "text/x-python",
   "name": "python",
   "nbconvert_exporter": "python",
   "pygments_lexer": "ipython3",
   "version": "3.11.3"
  }
 },
 "nbformat": 4,
 "nbformat_minor": 5
}

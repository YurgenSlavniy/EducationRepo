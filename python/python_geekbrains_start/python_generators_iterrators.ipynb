{
 "cells": [
  {
   "cell_type": "markdown",
   "id": "1130bccd",
   "metadata": {},
   "source": [
    "# Функции генераторы\n",
    "например нам надо создать список из квадратов чисел последовательности. "
   ]
  },
  {
   "cell_type": "code",
   "execution_count": 2,
   "id": "86e79fef",
   "metadata": {},
   "outputs": [
    {
     "name": "stdout",
     "output_type": "stream",
     "text": [
      "[1, 4, 9, 16, 25, 36, 49, 64, 81, 100]\n"
     ]
    }
   ],
   "source": [
    "a = []\n",
    "for i in range(1,11):\n",
    "    a.append(i**2)\n",
    "print(a)"
   ]
  },
  {
   "cell_type": "markdown",
   "id": "9db27933",
   "metadata": {},
   "source": [
    "Создался цикл из квадратов последовательности чисел от 1 до 10 range(1,11) с использованием цикла for.\n",
    "\n",
    "Можно воспользоваться более короткой записью и записать по-другому. И называется эта запись - генератор списка. (list comprehension)\n",
    "\n",
    "создаём список и заполняем наши квадратные скобки двумя значениями:\n",
    "`b = [<выражение применяемое к каждому эл-ту последовательности> <сама последовательность>]`\n",
    "\n",
    "Во второй части пишем не саму последовательность, а цикл который будет пробегать по элементам этой последовательности. "
   ]
  },
  {
   "cell_type": "code",
   "execution_count": 3,
   "id": "4aa8b320",
   "metadata": {},
   "outputs": [
    {
     "name": "stdout",
     "output_type": "stream",
     "text": [
      "[1, 4, 9, 16, 25, 36, 49, 64, 81, 100]\n"
     ]
    }
   ],
   "source": [
    "b = [i**2 for i in range(1,11)]\n",
    "print(b)"
   ]
  },
  {
   "cell_type": "markdown",
   "id": "3f03ea3f",
   "metadata": {},
   "source": [
    "### Выражения генераторы. \n",
    "- Генератор - итерратор, элементы которого можно обойти только один раз.\n",
    "- Итератор - объект, который поддерживает функцию next(), и помнит какой элемент будет браться следующий.\n",
    "- Итеррируемый объект - объект который предоставляет возможность обойти последовательно все свои элементы. Самый простой пример - это список. \n"
   ]
  },
  {
   "cell_type": "code",
   "execution_count": 4,
   "id": "60f03ac3",
   "metadata": {},
   "outputs": [],
   "source": [
    "s = [1, 2, 3, 4, 5, 6, 7]"
   ]
  },
  {
   "cell_type": "markdown",
   "id": "9e1f8d79",
   "metadata": {},
   "source": [
    "Любой итеррируемый объект может быть преобразован к итератору. Функция iter(), куда параметром передаётся список. "
   ]
  },
  {
   "cell_type": "code",
   "execution_count": 5,
   "id": "188db595",
   "metadata": {},
   "outputs": [
    {
     "name": "stdout",
     "output_type": "stream",
     "text": [
      "<list_iterator object at 0x000000374CAAEAC0>\n"
     ]
    }
   ],
   "source": [
    "d = iter(s)\n",
    "print(d)"
   ]
  },
  {
   "cell_type": "markdown",
   "id": "747a6ac8",
   "metadata": {},
   "source": [
    "Теперь d - это объект расположенный где то в оперативной памяти. У нас получился итерратор - объект который поддерживает функцию next() и помнит какой элемент будет браться следующим. "
   ]
  },
  {
   "cell_type": "code",
   "execution_count": 6,
   "id": "404c3249",
   "metadata": {},
   "outputs": [
    {
     "name": "stdout",
     "output_type": "stream",
     "text": [
      "1\n"
     ]
    }
   ],
   "source": [
    "print(next(d))"
   ]
  },
  {
   "cell_type": "markdown",
   "id": "34031fa6",
   "metadata": {},
   "source": [
    "на каждом этапе вызова функции print(next(d)) мы будем получать следующий элемент итерратора. "
   ]
  },
  {
   "cell_type": "code",
   "execution_count": 7,
   "id": "6ea23cc7",
   "metadata": {},
   "outputs": [
    {
     "name": "stdout",
     "output_type": "stream",
     "text": [
      "2\n"
     ]
    }
   ],
   "source": [
    "print(next(d))"
   ]
  },
  {
   "cell_type": "markdown",
   "id": "43ca79c3",
   "metadata": {},
   "source": [
    "Каждый раз при вызове итерратора мы получаем следующий элемент. После того как элементы в итерраторе закончатся, будет сообщение об ошибке при попытке его вызвать снова. Ошибка stopiterration.\n",
    "\n",
    "Итерратор всегда хронит информацию о том, какой элемент будет браться следующим. \n",
    "\n",
    "Итеррируемый объект - это ещё не итерратор и функция next() непременима к такому объекту, пока не привести его к итерратору. iter()."
   ]
  },
  {
   "cell_type": "markdown",
   "id": "3042f4bf",
   "metadata": {},
   "source": [
    "### Генератор \n",
    "синтаксис записи - круглые скобки. Появится объект хронящийся где то в оперативной памяти. генератор является итерратором, поэтому приминима функция next().\n",
    "\n",
    "Особенность генератора - элементы можно обойти только один раз. "
   ]
  },
  {
   "cell_type": "code",
   "execution_count": 8,
   "id": "71095341",
   "metadata": {},
   "outputs": [
    {
     "name": "stdout",
     "output_type": "stream",
     "text": [
      "<generator object <genexpr> at 0x000000374E3AC0B0>\n"
     ]
    }
   ],
   "source": [
    "gen = (i*2 for i in range(1,8))\n",
    "print(gen)"
   ]
  },
  {
   "cell_type": "code",
   "execution_count": 9,
   "id": "ac24c894",
   "metadata": {},
   "outputs": [
    {
     "name": "stdout",
     "output_type": "stream",
     "text": [
      "2\n",
      "4\n",
      "6\n",
      "8\n",
      "10\n",
      "12\n",
      "14\n"
     ]
    }
   ],
   "source": [
    "for i in gen:\n",
    "    print(i)"
   ]
  },
  {
   "cell_type": "markdown",
   "id": "3422e629",
   "metadata": {},
   "source": [
    "генератор может быть передан в качестве последовательности в цикл for.\n",
    "\n",
    "Любой повторный вызов операции по перебору элементов генератора не выдаст корректных результатов, т.к мы исчерпали генератор первой переборкой элементов. Поэтому сумма элементов генератора = 0. "
   ]
  },
  {
   "cell_type": "code",
   "execution_count": 11,
   "id": "ed6584cc",
   "metadata": {},
   "outputs": [
    {
     "name": "stdout",
     "output_type": "stream",
     "text": [
      "0\n"
     ]
    }
   ],
   "source": [
    "print(sum(gen))"
   ]
  },
  {
   "cell_type": "markdown",
   "id": "b138bebc",
   "metadata": {},
   "source": [
    "Для чего же нужны генераторы? Элементы генератора не хронятся в памяти все вместе. Хоть с помощью генератора и создался список элементов, Но числа не хронятся в памяти, а каждый новый элемент генерируется налету при каждом новом обращении к данной переменной в цикле.  Либо новый элемент формируется при вызове функции next(). "
   ]
  },
  {
   "cell_type": "markdown",
   "id": "9b932e83",
   "metadata": {},
   "source": [
    "например такую последовательность будет прочесть интерпритатору ооочень сложно и он выдаст ошибку MemoryError\n",
    "\n",
    "`p = list(range(10000000000))`\n",
    "\n",
    "`p = [i for i in range(10000000000)]`\n",
    "\n",
    "чтобы сработало нужно воспользоваться генератором.\n",
    "\n",
    "```\n",
    "p = (i for i in range(10000000000))\n",
    "for i in p:\n",
    "   print(i)\n",
    "```\n",
    "\n",
    "Ошибки памяти не возникает, т.к не хронится весь огромный список, э элементы генерируются функцией print(i) при обращении её к генератору.\n",
    "При работе с большими данными удобно использовать.\n",
    "\n",
    "- К выражениям генераторам нельзя применить функцию len().\n",
    "- Нельзя обращаться по индексу к элементам генератора. \n",
    "- Нельзя опускать круглые скобки.\n",
    "- Генераторы можно обходить только один раз.\n",
    "\n",
    "Преобразовать к списку можно с пмощью функции list() При повторной попытке преобразовть тотже генератор мы получим пустой список, т.к уже к генератору обратились раз. Попытка перебора исчерпалась. т.к конвертирующая функция пробежалась по всему генератору."
   ]
  },
  {
   "cell_type": "code",
   "execution_count": 12,
   "id": "e9897987",
   "metadata": {},
   "outputs": [
    {
     "name": "stdout",
     "output_type": "stream",
     "text": [
      "[0, 1, 2, 3, 4, 5, 6]\n"
     ]
    }
   ],
   "source": [
    "p = (i for i in range(7))\n",
    "l = list(p)\n",
    "print(l)\n"
   ]
  },
  {
   "cell_type": "code",
   "execution_count": 15,
   "id": "8b69c1dc",
   "metadata": {},
   "outputs": [
    {
     "name": "stdout",
     "output_type": "stream",
     "text": [
      "[]\n"
     ]
    }
   ],
   "source": [
    "print(list(p))"
   ]
  },
  {
   "cell_type": "markdown",
   "id": "088a1263",
   "metadata": {},
   "source": [
    "### Функции генераторы"
   ]
  },
  {
   "cell_type": "code",
   "execution_count": 16,
   "id": "d780fbae",
   "metadata": {},
   "outputs": [
    {
     "name": "stdout",
     "output_type": "stream",
     "text": [
      "[1, 2, 3, 4, 5]\n"
     ]
    }
   ],
   "source": [
    "def fn():\n",
    "    return [1, 2, 3, 4, 5]\n",
    "\n",
    "print(fn())"
   ]
  },
  {
   "cell_type": "markdown",
   "id": "616ecdf5",
   "metadata": {},
   "source": [
    "Функция генератор замораживает своё выполнение и продолжает выполняться, когда к ней снова обратились. \n",
    "\n",
    "Вместо return нам надо пользоваться yield. "
   ]
  },
  {
   "cell_type": "code",
   "execution_count": 17,
   "id": "6e776555",
   "metadata": {},
   "outputs": [
    {
     "name": "stdout",
     "output_type": "stream",
     "text": [
      "<generator object put_g at 0x000000374E3D7B30>\n"
     ]
    }
   ],
   "source": [
    "def put_g():\n",
    "    for i in [1, 3, 5, 7, 8]:\n",
    "        yield i\n",
    "        \n",
    "j = put_g()\n",
    "print(j)"
   ]
  },
  {
   "cell_type": "code",
   "execution_count": 18,
   "id": "0c9533a6",
   "metadata": {},
   "outputs": [
    {
     "name": "stdout",
     "output_type": "stream",
     "text": [
      "1\n",
      "3\n",
      "5\n",
      "7\n"
     ]
    }
   ],
   "source": [
    "def put_g():\n",
    "    for i in [1, 3, 5, 7, 8]:\n",
    "        yield i\n",
    "        \n",
    "j = put_g()\n",
    "print(next(j))\n",
    "print(next(j))\n",
    "print(next(j))\n",
    "print(next(j))"
   ]
  },
  {
   "cell_type": "markdown",
   "id": "193dac42",
   "metadata": {},
   "source": [
    "При каждом вызове наша функция при помощи конструкции yield запоминает какой элемент она уже возвращала и какой нужно вернуть следующий. Когда доходим до конца и возвращать уже нечего - возвращается ошибка стоп иттерашн. \n",
    "\n",
    "Так как у нас функция итерратор, можем передавать её в цикл for."
   ]
  },
  {
   "cell_type": "code",
   "execution_count": 19,
   "id": "bfac776e",
   "metadata": {},
   "outputs": [
    {
     "name": "stdout",
     "output_type": "stream",
     "text": [
      "1\n",
      "3\n",
      "5\n",
      "7\n",
      "8\n"
     ]
    }
   ],
   "source": [
    "for i in put_g():\n",
    "    print(i)"
   ]
  },
  {
   "cell_type": "markdown",
   "id": "b4c11646",
   "metadata": {},
   "source": [
    "yield - не только возвращает значение, но и замораживает нашу функцию вместе со всеми локальными переменнами на данном месте. И когда к функции будем обращаться вновь она будет запускаться именно с того места со следующей строки после команды yield"
   ]
  },
  {
   "cell_type": "code",
   "execution_count": 21,
   "id": "51620305",
   "metadata": {},
   "outputs": [
    {
     "name": "stdout",
     "output_type": "stream",
     "text": [
      "1\n"
     ]
    }
   ],
   "source": [
    "def put_g():\n",
    "    a = 9\n",
    "    for i in [1, 3, 5, 7, 8]:\n",
    "        yield i\n",
    "        print(a)\n",
    "        a = a * 10 + 9\n",
    "        \n",
    "j = put_g()\n",
    "print(next(j))"
   ]
  },
  {
   "cell_type": "markdown",
   "id": "cc9f0b36",
   "metadata": {},
   "source": [
    "функция остановилась после выполнения команды \"yield i\" функция остановилась и замерла до следующего обращения. А следующее обращение она запустится сразу после \"yield i\" т.е \"print(a)\""
   ]
  },
  {
   "cell_type": "code",
   "execution_count": 22,
   "id": "d8bf259d",
   "metadata": {},
   "outputs": [
    {
     "name": "stdout",
     "output_type": "stream",
     "text": [
      "9\n",
      "3\n"
     ]
    }
   ],
   "source": [
    "print(next(j))"
   ]
  },
  {
   "cell_type": "markdown",
   "id": "9b7d84b2",
   "metadata": {},
   "source": [
    "и опять остановится после выполнения команды \"yield i\""
   ]
  },
  {
   "cell_type": "code",
   "execution_count": 23,
   "id": "6edf3b3a",
   "metadata": {},
   "outputs": [
    {
     "name": "stdout",
     "output_type": "stream",
     "text": [
      "99\n",
      "5\n"
     ]
    }
   ],
   "source": [
    "print(next(j))"
   ]
  },
  {
   "cell_type": "markdown",
   "id": "8f4cc680",
   "metadata": {},
   "source": [
    "и опять остановится после выполнения команды \"yield i\". yield запоминает не только тот элемент который вернул, но и в принципе всё состояние нашей функции в целом со всеми значениями локальных переменных. И при последующем обращении мы продолжаем с того места, где мы остановились. "
   ]
  },
  {
   "cell_type": "markdown",
   "id": "632b845a",
   "metadata": {},
   "source": [
    "#### Реальный пример, где это будет применимо"
   ]
  },
  {
   "cell_type": "markdown",
   "id": "7bf38ed6",
   "metadata": {},
   "source": [
    "Нам необходимо посчитать факториал числа. Создадим функцию параметром в которую будет передоваться число, факториал которого нам надо подсчитать. pr - произведение куда мы будем записывать. Потом создадим пустой список в который будем добавлять результат  работы функции. \n",
    "\n",
    "Потом с помощью обычного цикла for, указав число последовательности переданное в качестве параметра мы считаем значение произведения нашего числа pr = pr * i и добавляем получившийся результат нам в список. \n",
    "\n",
    "В качестве результата выполнения фнкции возвращаем список. "
   ]
  },
  {
   "cell_type": "code",
   "execution_count": 24,
   "id": "133f5473",
   "metadata": {},
   "outputs": [
    {
     "name": "stdout",
     "output_type": "stream",
     "text": [
      "[1, 2, 6, 24, 120, 720, 5040, 40320, 362880, 3628800]\n"
     ]
    }
   ],
   "source": [
    "def fact(n):\n",
    "    pr = 1\n",
    "    a = []\n",
    "    for i in range(1, 1 + n):\n",
    "        pr = pr * i\n",
    "        a.append(pr)\n",
    "    return a\n",
    "  \n",
    "print(fact(10))"
   ]
  },
  {
   "cell_type": "markdown",
   "id": "e8fdbfc1",
   "metadata": {},
   "source": [
    "Обычная функция и для хранения значений у нас используется оперативная память. Чем больше число n, тем больше требуется оперативной памяти, тем больше требуется ресурсов для обработки элементов.  \n",
    "\n",
    "Перепишем на функцию генератор, сохраним его в переменную. "
   ]
  },
  {
   "cell_type": "code",
   "execution_count": 25,
   "id": "ce045e73",
   "metadata": {},
   "outputs": [],
   "source": [
    "def fact_gen(n):\n",
    "    pr = 1\n",
    "    for i in range(1, 1 + n):\n",
    "        pr = pr * i\n",
    "        yield pr"
   ]
  },
  {
   "cell_type": "code",
   "execution_count": 26,
   "id": "8116b018",
   "metadata": {},
   "outputs": [
    {
     "name": "stdout",
     "output_type": "stream",
     "text": [
      "<generator object fact_gen at 0x000000374B4FF6D0>\n"
     ]
    }
   ],
   "source": [
    "gener = fact_gen(20)\n",
    "print(gener)"
   ]
  },
  {
   "cell_type": "markdown",
   "id": "6bfae7da",
   "metadata": {},
   "source": [
    "Каждый раз при вызове нашего генератора будем получать следующее число из нашего списка факториалов чисел "
   ]
  },
  {
   "cell_type": "code",
   "execution_count": 27,
   "id": "1058ae5c",
   "metadata": {},
   "outputs": [
    {
     "name": "stdout",
     "output_type": "stream",
     "text": [
      "1\n"
     ]
    }
   ],
   "source": [
    "print(next(gener))"
   ]
  },
  {
   "cell_type": "code",
   "execution_count": 28,
   "id": "437e68f8",
   "metadata": {},
   "outputs": [
    {
     "name": "stdout",
     "output_type": "stream",
     "text": [
      "2\n"
     ]
    }
   ],
   "source": [
    "print(next(gener))"
   ]
  },
  {
   "cell_type": "code",
   "execution_count": 29,
   "id": "9942a617",
   "metadata": {},
   "outputs": [
    {
     "name": "stdout",
     "output_type": "stream",
     "text": [
      "6\n"
     ]
    }
   ],
   "source": [
    "print(next(gener))"
   ]
  },
  {
   "cell_type": "code",
   "execution_count": 30,
   "id": "4ab33413",
   "metadata": {},
   "outputs": [
    {
     "name": "stdout",
     "output_type": "stream",
     "text": [
      "24\n"
     ]
    }
   ],
   "source": [
    "print(next(gener))"
   ]
  },
  {
   "cell_type": "markdown",
   "id": "7535fa5f",
   "metadata": {},
   "source": [
    "при вызове функции и работе оператора yield, числов  оперативной памяти просто перезатирается"
   ]
  },
  {
   "cell_type": "code",
   "execution_count": 32,
   "id": "f034af92",
   "metadata": {},
   "outputs": [
    {
     "name": "stdout",
     "output_type": "stream",
     "text": [
      "1 2 6 24 120 720 5040 40320 362880 3628800 39916800 479001600 6227020800 87178291200 1307674368000 20922789888000 355687428096000 6402373705728000 121645100408832000 2432902008176640000 "
     ]
    }
   ],
   "source": [
    "for i in fact_gen(20):\n",
    "    print(i, end = ' ')"
   ]
  },
  {
   "cell_type": "code",
   "execution_count": null,
   "id": "0534b078",
   "metadata": {},
   "outputs": [],
   "source": []
  }
 ],
 "metadata": {
  "kernelspec": {
   "display_name": "Python 3 (ipykernel)",
   "language": "python",
   "name": "python3"
  },
  "language_info": {
   "codemirror_mode": {
    "name": "ipython",
    "version": 3
   },
   "file_extension": ".py",
   "mimetype": "text/x-python",
   "name": "python",
   "nbconvert_exporter": "python",
   "pygments_lexer": "ipython3",
   "version": "3.8.8"
  }
 },
 "nbformat": 4,
 "nbformat_minor": 5
}

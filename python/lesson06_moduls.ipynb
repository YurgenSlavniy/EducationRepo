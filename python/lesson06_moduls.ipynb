{
 "cells": [
  {
   "cell_type": "markdown",
   "id": "bb7b2102",
   "metadata": {},
   "source": [
    "# https://metanit.com/python/tutorial/2.10.php\n",
    "# Модули\n",
    "### Определение и подключение модулей\n",
    "\n",
    "Модуль в языке Python представляет отдельный файл с кодом, который можно повторно использовать в других программах.\n",
    "\n",
    "Для создания модуля необходимо создать собственно файл с расширением `*.py`, который будет представлять модуль. Название файла будет представлять название модуля. Затем в этом файле надо определить одну или несколько функций.\n",
    "\n",
    "Допустим, основной файл программы называется __main.py__. И мы хотим подключить к нему внешние модули.\n",
    "\n",
    "Для этого сначала определим новый модуль: создадим в той же папке, где находится main.py, новый файл, который назовем `message.py`. По умолчанию интерпретатор Python ищет модули по ряду стандартных путей, один из которых - это папка главного, запускаемого скрипта. Поэтому, чтобы интерпретатор подхватил модуль message.py, для простоты оба файла поместим в один проект.\n",
    "\n",
    "Соответственно модуль будет называться __message__. Определим в нем следующий код:"
   ]
  },
  {
   "cell_type": "code",
   "execution_count": 1,
   "id": "53c355e5",
   "metadata": {},
   "outputs": [],
   "source": [
    "# message.py\n",
    "\n",
    "hello = \"Hello all\"\n",
    " \n",
    "def print_message(text):\n",
    "    print(f\"Message: {text}\")"
   ]
  },
  {
   "cell_type": "markdown",
   "id": "4e327184",
   "metadata": {},
   "source": [
    "Здесь определена переменная hello и функция print_message, которая в качестве параметра получает некоторый текст и выводит его на консоль.\n",
    "\n",
    "В основном файле программы - __main.py__ используем данный модуль:"
   ]
  },
  {
   "cell_type": "code",
   "execution_count": null,
   "id": "cdf4bd9d",
   "metadata": {},
   "outputs": [],
   "source": [
    "# main.py\n",
    "\n",
    "import message      # подключаем модуль message\n",
    " \n",
    "# выводим значение переменной hello\n",
    "print(message.hello)        # Hello all\n",
    "# обращаемся к функии print_message\n",
    "message.print_message(\"Hello work\")  # Message: Hello work"
   ]
  },
  {
   "cell_type": "markdown",
   "id": "5788a41b",
   "metadata": {},
   "source": [
    "Для использования модуля его надо импортировать с помощью оператора __import__, после которого указывается имя модуля: \n",
    "\n",
    "> import message.\n",
    "\n",
    "Чтобы обращаться к функциональности модуля, нам нужно получить его пространство имен. По умолчанию оно будет совпадать с именем модуля, то есть в нашем случае также будет называться message.\n",
    "\n",
    "Получив пространство имен модуля, мы сможем обратиться к его функциям по схеме\n",
    "\n",
    "> пространство_имен.функция\n",
    "\n",
    "Например, обращение к функции print_message() из модуля message:"
   ]
  },
  {
   "cell_type": "code",
   "execution_count": null,
   "id": "6247529a",
   "metadata": {},
   "outputs": [],
   "source": [
    "message.print_message(\"Hello work\")"
   ]
  },
  {
   "cell_type": "markdown",
   "id": "63d95dd3",
   "metadata": {},
   "source": [
    "И после этого мы можем запустить главный скрипт main.py, и он задействует модуль message.py. В частности, консольный вывод будет следующим:\n",
    "```\n",
    "Hello all\n",
    "Message: Hello work\n",
    "```\n",
    "### Подключение функциональности модуля в глобальное пространство имен\n",
    "\n",
    "Другой вариант настройки предполагает импорт функциональности модуля в глобальное пространство имен текущего модуля с помощью ключевого слова from:"
   ]
  },
  {
   "cell_type": "code",
   "execution_count": null,
   "id": "c035a975",
   "metadata": {},
   "outputs": [],
   "source": [
    "# main.py\n",
    "\n",
    "from message import print_message\n",
    " \n",
    "# обращаемся к функии print_message из модуля message\n",
    "print_message(\"Hello work\")  # Message: Hello work\n",
    " \n",
    "# переменная hello из модуля message не доступна, так как она не импортирована\n",
    "# print(message.hello)   \n",
    "# print(hello) "
   ]
  },
  {
   "cell_type": "markdown",
   "id": "f8eebb7a",
   "metadata": {},
   "source": [
    "В данном случае мы импортируем из модуля message в глобальное пространство имен функцию print_message(). Поэтому мы сможем ее использовать без указания пространства имен модуля как если бы она была определена в этом же файле.\n",
    "\n",
    "Все остальные функции, переменные из модуля недоступны (как например, в примере выше переменная hello). Если мы хотим их также использовать, то их можно подключить по отдельности:"
   ]
  },
  {
   "cell_type": "code",
   "execution_count": null,
   "id": "3a120f6b",
   "metadata": {},
   "outputs": [],
   "source": [
    "# main.py\n",
    "\n",
    "from message import print_message\n",
    "from message import hello\n",
    " \n",
    "# обращаемся к функции print_message из модуля message\n",
    "print_message(\"Hello work\")  # Message: Hello work\n",
    " \n",
    "# обращаемся к переменной hello из модуля message\n",
    "print(hello)    # Hello all"
   ]
  },
  {
   "cell_type": "markdown",
   "id": "a4067919",
   "metadata": {},
   "source": [
    "Если необходимо импортировать в глобальное пространство имен весь функционал, то вместо названий отдельных функций и переменных можно использовать символ зводочки `*`:"
   ]
  },
  {
   "cell_type": "code",
   "execution_count": null,
   "id": "0cab589d",
   "metadata": {},
   "outputs": [],
   "source": [
    "# main.py\n",
    "\n",
    "from message import *\n",
    " \n",
    "# обращаемся к функции print_message из модуля message\n",
    "print_message(\"Hello work\")  # Message: Hello work\n",
    " \n",
    "# обращаемся к переменной hello из модуля message\n",
    "print(hello)    # Hello all"
   ]
  },
  {
   "cell_type": "markdown",
   "id": "1f9b8553",
   "metadata": {},
   "source": [
    "Но стоит отметить, что импорт в глобальное пространство имен чреват коллизиями имен функций. Например, если у нас том же файле определена функция с тем же именем до ее вызова, то будет вызываться функция, которая определена последней:"
   ]
  },
  {
   "cell_type": "code",
   "execution_count": null,
   "id": "3340234e",
   "metadata": {},
   "outputs": [],
   "source": [
    "# main.py\n",
    "\n",
    "from message import *\n",
    "  \n",
    "print_message(\"Hello work\")  # Message: Hello work - применяется функция из модуля message\n",
    " \n",
    "def print_message(some_text):\n",
    "    print(f\"Text: {some_text}\")\n",
    "\n",
    "print_message(\"Hello work\")  # Text: Hello work - применяется функция из текущего файла"
   ]
  },
  {
   "cell_type": "markdown",
   "id": "6f0e8ca8",
   "metadata": {},
   "source": [
    "Таким образом, одноименная функция текущего файла скрывает функцию из подключенного модуля.\n",
    "Установка псевдонимов\n",
    "\n",
    "При импорте модуля и его функциональности мы можем установить для них псевдонимы. Для этого применяется ключевое слово as, после которого указывается псевдоним. Например, установим псевдоним для модуля:"
   ]
  },
  {
   "cell_type": "code",
   "execution_count": null,
   "id": "19198fce",
   "metadata": {},
   "outputs": [],
   "source": [
    "# main.py\n",
    "\n",
    "import message as mes  # модуль message проецируется на псевдоним mes\n",
    " \n",
    "# выводим значение переменной hello\n",
    "print(mes.hello)        # Hello all\n",
    "# обращаемся к функии print_message\n",
    "mes.print_message(\"Hello work\")  # Message: Hello work"
   ]
  },
  {
   "cell_type": "markdown",
   "id": "4212246c",
   "metadata": {},
   "source": [
    "В данном случае пространство имен будет называться mes, и через этот псевдоним можно обращаться к функциональности модуля.\n",
    "\n",
    "Подобным образом можно установить псевдонимы для отдельной функциональности модуля:"
   ]
  },
  {
   "cell_type": "code",
   "execution_count": null,
   "id": "4a80815d",
   "metadata": {},
   "outputs": [],
   "source": [
    "# main.py\n",
    "\n",
    "from message import print_message as display\n",
    "from message import hello as welcome\n",
    " \n",
    "print(welcome)          # Hello all - переменная hello из модуля message\n",
    "display(\"Hello work\")   # Message: Hello work - функция print_message из модуля message"
   ]
  },
  {
   "cell_type": "markdown",
   "id": "fad821f0",
   "metadata": {},
   "source": [
    "Здесь для функции print_message из модуля message устанавливается псевдоним display, а для переменной hello - псевдоним welcome. И через эти псевдонимы мы сможем к ним обращаться.\n",
    "\n",
    "Псевдонимы могут быть полезны, когда нас не устраивают имена функций и переменных, например, они слишком длинные, и мы хотим их сократить, либо мы хотим дать им более описательные, с нашей точки зрения, имена. Либо если в текущем файле уже есть функциональность с теми же именами, и с помощью установки псевдонимов мы можем избежать конфликта имен. Например:"
   ]
  },
  {
   "cell_type": "code",
   "execution_count": null,
   "id": "aa1911fb",
   "metadata": {},
   "outputs": [],
   "source": [
    "# main.py\n",
    "\n",
    "from message import print_message as display\n",
    " \n",
    "def print_message(some_text):\n",
    "    print(f\"Text: {some_text}\")\n",
    "\n",
    "# функция print_message из модуля message\n",
    "display(\"Hello work\")       # Message: Hello work\n",
    " \n",
    "# функция print_message из текущего файла\n",
    "print_message(\"Hello work\")  # Text: Hello work"
   ]
  },
  {
   "cell_type": "markdown",
   "id": "70e9eeb4",
   "metadata": {},
   "source": [
    "### Имя модуля\n",
    "\n",
    "В примере выше модуль main.py, который является главным, использует модуль message.py. При запуске модуля main.py программа выполнит всю необходимую работу. Однако, если мы запустим отдельно модуль message.py сам по себе, то ничего на консоли не увидим. Ведь модуль message просто определяет функцию и переменную и не выполняет никаких других действий. Но мы можем сделать так, чтобы модуль message.py мог использоваться как сам по себе, так и подключаться в другие модули.\n",
    "\n",
    "При выполнении модуля среда определяет его имя и присваивает его глобальной переменной `__name__ `(с обеих сторон по два подчеркивания). Если модуль является запускаемым, то его имя равно `__main__` (также по два подчеркивания с каждой стороны). Если модуль используется в другом модуле, то в момент выполнения его имя аналогично названию файла без расширения py. И мы можем это использовать. Так, изменим содержимое файла message.py:"
   ]
  },
  {
   "cell_type": "code",
   "execution_count": null,
   "id": "5f445e66",
   "metadata": {},
   "outputs": [],
   "source": [
    "# message.py\n",
    "\n",
    "hello = \"Hello all\"\n",
    " \n",
    " \n",
    "def print_message(text):\n",
    "    print(f\"Message: {text}\")\n",
    " \n",
    " \n",
    "def main():\n",
    "    print_message(hello)\n",
    " \n",
    " \n",
    "if __name__ == \"__main__\": \n",
    "    main()"
   ]
  },
  {
   "cell_type": "markdown",
   "id": "b2ec733a",
   "metadata": {},
   "source": [
    "В данном случае в модуль message.py для тестирования функциональности модуля добавлена функция main. И мы можем сразу запустить файл message.py отдельно от всех и протестировать код.\n",
    "\n",
    "Следует обратить внимание на вызов функции main:"
   ]
  },
  {
   "cell_type": "code",
   "execution_count": null,
   "id": "35135ff6",
   "metadata": {},
   "outputs": [],
   "source": [
    "if __name__ == \"__main__\":\n",
    "    main()"
   ]
  },
  {
   "cell_type": "markdown",
   "id": "214fd44f",
   "metadata": {},
   "source": [
    "Переменная `__name__` указывает на имя модуля. Для главного модуля, который непосредственно запускается, эта переменная всегда будет иметь значение `__main__` вне зависимости от имени файла.\n",
    "\n",
    "Поэтому, если мы будем запускать скрипт message.py отдельно, сам по себе, то Python присвоит переменной `__name__` значение `__main__`, далее в выражении if вызовет функцию main из этого же файла.\n",
    "\n",
    "Однако если мы будем запускать другой скрипт, а этот - message.py - будем подключать в качестве вспомогательного, для message.py переменная `__name__` будет иметь значение message. И соответственно метод main в файле message.py не будет работать.\n",
    "\n",
    "Данный подход с проверкой имени модуля является более рекомендуемым подходом, чем просто вызов метода main.\n",
    "\n",
    "В файле main.py также можно сделать проверку на то, является ли модуль главным (хотя в прицнипе это необязательно):"
   ]
  },
  {
   "cell_type": "code",
   "execution_count": null,
   "id": "07d9385b",
   "metadata": {},
   "outputs": [],
   "source": [
    "# main.py\n",
    "\n",
    "import message\n",
    " \n",
    "def main(): \n",
    "    message.print_message(\"Hello work\")  # Message: Hello work\n",
    " \n",
    " \n",
    "if __name__ == \"__main__\":\n",
    "    main()\n",
    "    "
   ]
  },
  {
   "cell_type": "markdown",
   "id": "7d781e31",
   "metadata": {},
   "source": [
    "Python предоставляет ряд встроенных модулей, которые мы можем использовать в своих программах. В следующих статьях рассмотрим основные из них."
   ]
  },
  {
   "cell_type": "markdown",
   "id": "1f653e4a",
   "metadata": {},
   "source": [
    "# Генерация байткода модулей\n",
    "\n",
    "При выполнении скрипта на языке Python все выполнение в общем случае разбивается на две стадии:\n",
    "\n",
    "- Файл с кодом (файл с расширением .py) компилируется в промежуточный байткод.\n",
    "\n",
    "- Далее скомпилированный байткодом интерпретируется, то есть происходит собственно выполнение программы\n",
    "\n",
    "При этом нам не надо явным образом генерировать никакой байткод, он создается неявно при выполнении скрипта Python. Если программа импортирует внешние модули/библиотеки и они импортируются первый раз, то их скомпилированный байткод сохраняется в файле с расширением `.pyc` и кэшируется в каталоге `__pycache__` в папке, где расположен файл с кодом python. Если мы вносим в исходный файл библиотеки изменения, то Python перекомпилирует файл байткода. Если изменений в коде нет, то загружается ранее скомпилированный байткод из файла `*.pyc`. Это позволяет оптимизировать работу с приложением, быстрее его компилировать и выполнять.\n",
    "\n",
    "Однако байткод основного скрипта, который представляет основной файл программы и который передается интерпретатору python, не сохраняется в файле `*.pyc` и перекомпилируется каждый раз при запуске приложения.\n",
    "\n",
    "Допустим, в папке проекта у нас размещен файл user.py со простейшей функцией, которая принимает два параметра и выводит их значения:"
   ]
  },
  {
   "cell_type": "code",
   "execution_count": 4,
   "id": "85463050",
   "metadata": {},
   "outputs": [],
   "source": [
    "def printUser(username, userage):\n",
    "    print(f\"Name: {username}  Age:{userage}\")"
   ]
  },
  {
   "cell_type": "markdown",
   "id": "1137e24c",
   "metadata": {},
   "source": [
    "Подключим этот файл в главном модуле программы, который пусть называется app.py:"
   ]
  },
  {
   "cell_type": "code",
   "execution_count": null,
   "id": "da9ecc73",
   "metadata": {},
   "outputs": [],
   "source": [
    "import user\n",
    "username = \"Tom\"\n",
    "userage = 39\n",
    "\n",
    " \n",
    "user.printUser(username, userage)"
   ]
  },
  {
   "cell_type": "markdown",
   "id": "a5d1de95",
   "metadata": {},
   "source": [
    "При выполнении этого скрипта в папке проекте (где располагается модуль \"user.py\") будет создан каталог `__pycache__`. А в нем будет сгенерирован файл байткода, который будет наподобие следующего `user.cpython-версия.pyc`, где в качестве версии будет применяться версия используемого интерпретатора, например, 311 (для версии Python 3.11). Сгенерированный pyc-файл является бинарным, поэтому текстовом редакторе нет смысла его открывать.\n",
    "\n",
    "### Ручная компиляция байткода\n",
    "\n",
    "Хотя файл байткода создается автоматически, мы вручную можем его сгенерировать. Для этого есть несколько способов: \n",
    "- компиляция с помощью скрипта py_compile \n",
    "- компиляция с помощью модуля compileall.\n",
    "\n",
    "Скрипт `py_compile` применяется для компиляции отдельных файлов. Для компиляции произвольного скрипта user.py в файл с байткодом мы могли бы использовать следующую программу:"
   ]
  },
  {
   "cell_type": "code",
   "execution_count": null,
   "id": "3e0b6e76",
   "metadata": {},
   "outputs": [],
   "source": [
    "import py_compile\n",
    " \n",
    "py_compile.compile(\"user.py\")   # передаем путь к скрипту"
   ]
  },
  {
   "cell_type": "markdown",
   "id": "f998a1d1",
   "metadata": {},
   "source": [
    "Для компиляции в функцию `compile()` передаем путь к скрипту. После выполнения программы в текущей папке также будет сгенерирован каталог `__pycache__`, а в нем файл `user.cpython-311.pyc`\n",
    "\n",
    "Модуль compileall применяется для компиляции всех файлов Python по определенным путям. Например, скомпилируем все файлы в каталоге C:/python/files\n",
    "\n",
    "> python -m compileall c:\\python\\files\n",
    "\n",
    "По умолчанию компилируются даже те файлы, которые содержатся в подкаталогах. Если надо скомпилировать только те файлы, которые располагаются непосредственно в указанно папке, то применяется опция -l\n",
    "\n",
    "> python -m compileall c:\\python\\files -l"
   ]
  },
  {
   "cell_type": "markdown",
   "id": "2f0837f9",
   "metadata": {},
   "source": [
    "# Модуль random\n",
    "Модуль random управляет генерацией случайных чисел. Его основные функции:\n",
    "\n",
    "- random(): генерирует случайное число от 0.0 до 1.0\n",
    "\n",
    "- randint(): возвращает случайное число из определенного диапазона\n",
    "\n",
    "- randrange(): возвращает случайное число из определенного набора чисел\n",
    "\n",
    "- shuffle(): перемешивает список\n",
    "\n",
    "- choice(): возвращает случайный элемент списка\n",
    "\n",
    "Функция __random()__ возвращает случайное число с плавающей точкой в промежутке от 0.0 до 1.0. Если же нам необходимо число из большего диапазона, скажем от 0 до 100, то мы можем соответственно умножить результат функции random на 100."
   ]
  },
  {
   "cell_type": "code",
   "execution_count": 6,
   "id": "b75b12e2",
   "metadata": {},
   "outputs": [
    {
     "name": "stdout",
     "output_type": "stream",
     "text": [
      "0.008312863829425976\n",
      "51.91287269527815\n"
     ]
    }
   ],
   "source": [
    "import random\n",
    " \n",
    "number = random.random()  # значение от 0.0 до 1.0\n",
    "print(number)\n",
    "number = random.random() * 100  # значение от 0.0 до 100.0\n",
    "print(number)"
   ]
  },
  {
   "cell_type": "markdown",
   "id": "6f901ac2",
   "metadata": {},
   "source": [
    "Функция __randint(min, max)__ возвращает случайное целое число в промежутке между двумя значениями min и max."
   ]
  },
  {
   "cell_type": "code",
   "execution_count": 7,
   "id": "eaf116b5",
   "metadata": {},
   "outputs": [
    {
     "name": "stdout",
     "output_type": "stream",
     "text": [
      "27\n"
     ]
    }
   ],
   "source": [
    "import random\n",
    " \n",
    "number = random.randint(20, 35)  # значение от 20 до 35\n",
    "print(number)"
   ]
  },
  {
   "cell_type": "markdown",
   "id": "a6009fff",
   "metadata": {},
   "source": [
    "Функция __randrange()__ возвращает случайное целое число из определенного набора чисел. Она имеет три формы:\n",
    "\n",
    "- __randrange(stop)__: в качестве набора чисел, из которых происходит извлечение случайного значения, будет использоваться диапазон от 0 до числа stop\n",
    "\n",
    "- __randrange(start, stop)__: набор чисел представляет диапазон от числа start до числа stop\n",
    "\n",
    "- __randrange(start, stop, step)__: набор чисел представляет диапазон от числа start до числа stop, при этом каждое число в диапазоне отличается от предыдущего на шаг step"
   ]
  },
  {
   "cell_type": "code",
   "execution_count": 8,
   "id": "70c1a71a",
   "metadata": {},
   "outputs": [
    {
     "name": "stdout",
     "output_type": "stream",
     "text": [
      "4\n",
      "4\n",
      "2\n"
     ]
    }
   ],
   "source": [
    "import random\n",
    " \n",
    "number = random.randrange(10)  # значение от 0 до 10 не включая\n",
    "print(number)\n",
    "number = random.randrange(2, 10)  # значение в диапазоне 2, 3, 4, 5, 6, 7, 8, 9\n",
    "print(number)\n",
    "number = random.randrange(2, 10, 2)  # значение в диапазоне 2, 4, 6, 8\n",
    "print(number)"
   ]
  },
  {
   "cell_type": "markdown",
   "id": "c6a8f17b",
   "metadata": {},
   "source": [
    "### Работа со списком\n",
    "\n",
    "Для работы со списками в модуле random определены две функции: функция __shuffle()__ перемешивает список случайным образом, а функция __choice()__ возвращает один случайный элемент из списка:"
   ]
  },
  {
   "cell_type": "code",
   "execution_count": 9,
   "id": "de5dbbb8",
   "metadata": {},
   "outputs": [
    {
     "name": "stdout",
     "output_type": "stream",
     "text": [
      "[6, 1, 8, 3, 4, 2, 7, 5]\n",
      "1\n"
     ]
    }
   ],
   "source": [
    "numbers = [1, 2, 3, 4, 5, 6, 7, 8]\n",
    "random.shuffle(numbers)\n",
    "print(numbers)  \n",
    "random_number = random.choice(numbers)\n",
    "print(random_number)"
   ]
  },
  {
   "cell_type": "markdown",
   "id": "79334ec7",
   "metadata": {},
   "source": [
    "# Модуль math\n",
    "Встроенный модуль __math__ в Python предоставляет набор функций для выполнения математических, тригонометрических и логарифмических операций. Некоторые из основных функций модуля:\n",
    "\n",
    "- __pow(num, power)__: возведение числа num в степень power\n",
    "\n",
    "- __sqrt(num)__: квадратный корень числа num\n",
    "\n",
    "- __ceil(num)__: округление числа до ближайшего наибольшего целого\n",
    "\n",
    "- __floor(num)__: округление числа до ближайшего наименьшего целого\n",
    "\n",
    "- __factorial(num)__: факториал числа\n",
    "\n",
    "- __degrees(rad)__: перевод из радиан в градусы\n",
    "\n",
    "- __radians(grad)__: перевод из градусов в радианы\n",
    "- __cos(rad)__: косинус угла в радианах\n",
    "\n",
    "- __sin(rad)__: синус угла в радианах\n",
    "- __tan(rad)__: тангенс угла в радианах\n",
    "\n",
    "- __acos(rad)__: арккосинус угла в радианах\n",
    "\n",
    "- __asin(rad)__: арксинус угла в радианах\n",
    "\n",
    "- __atan(rad)__: арктангенс угла в радианах\n",
    "- __log(n, base)__: логарифм числа n по основанию base\n",
    "- __log10(n)__: десятичный логарифм числа n\n",
    "\n",
    "Пример применения некоторых функций:"
   ]
  },
  {
   "cell_type": "code",
   "execution_count": 10,
   "id": "a4d869a1",
   "metadata": {},
   "outputs": [
    {
     "name": "stdout",
     "output_type": "stream",
     "text": [
      "8.0\n",
      "8\n",
      "3.0\n",
      "5\n",
      "4\n",
      "179.9998479605043\n",
      "3.141592653589793\n",
      "0.5000000000000001\n",
      "1.0\n",
      "0.0\n",
      "3.0\n",
      "2.0\n"
     ]
    }
   ],
   "source": [
    "import math\n",
    " \n",
    "# возведение числа 2 в степень 3\n",
    "n1 = math.pow(2, 3)\n",
    "print(n1)  # 8\n",
    " \n",
    "# ту же самую операцию можно выполнить так\n",
    "n2 = 2**3\n",
    "print(n2)\n",
    " \n",
    "# квадратный корень числа\n",
    "print(math.sqrt(9))  # 3\n",
    " \n",
    "# ближайшее наибольшее целое число\n",
    "print(math.ceil(4.56))  # 5\n",
    " \n",
    "# ближайшее наименьшее целое число\n",
    "print(math.floor(4.56))  # 4\n",
    " \n",
    "# перевод из радиан в градусы\n",
    "print(math.degrees(3.14159))  # 180\n",
    " \n",
    "# перевод из градусов в радианы\n",
    "print(math.radians(180))   # 3.1415.....\n",
    "# косинус\n",
    "print(math.cos(math.radians(60)))  # 0.5\n",
    "# cинус\n",
    "print(math.sin(math.radians(90)))   # 1.0\n",
    "# тангенс\n",
    "print(math.tan(math.radians(0)))    # 0.0\n",
    " \n",
    "print(math.log(8,2))    # 3.0\n",
    "print(math.log10(100))    # 2.0"
   ]
  },
  {
   "cell_type": "markdown",
   "id": "fc13dcef",
   "metadata": {},
   "source": [
    "Также модуль math предоставляет ряд встроенных констант, такие как PI и E:"
   ]
  },
  {
   "cell_type": "code",
   "execution_count": 11,
   "id": "6a919faa",
   "metadata": {},
   "outputs": [
    {
     "name": "stdout",
     "output_type": "stream",
     "text": [
      "2827.4333882308138\n",
      "2.302585092994046\n"
     ]
    }
   ],
   "source": [
    "import math\n",
    "radius = 30\n",
    "# площадь круга с радиусом 30\n",
    "area = math.pi * math.pow(radius, 2)\n",
    "print(area)\n",
    " \n",
    "# натуральный логарифм числа 10\n",
    "number = math.log(10, math.e)\n",
    "print(number)"
   ]
  },
  {
   "cell_type": "markdown",
   "id": "c9cdaa78",
   "metadata": {},
   "source": [
    "# Модуль locale\n",
    "При форматировании чисел Python по умолчанию использует англосаксонскую систему, при которой разряды целого числа отделяются друг от друга запятыми, а дробная часть от целой отделяется точкой. В континентальной Европе, например, используется другая система, при которой разряды разделяются точкой, а дробная и целая часть - запятой:"
   ]
  },
  {
   "cell_type": "code",
   "execution_count": 12,
   "id": "f0b9027f",
   "metadata": {},
   "outputs": [
    {
     "data": {
      "text/plain": [
       "(1.234, 567)"
      ]
     },
     "execution_count": 12,
     "metadata": {},
     "output_type": "execute_result"
    }
   ],
   "source": [
    "# англосаксонская система\n",
    "1,234.567\n",
    "# европейская система\n",
    "1.234,567"
   ]
  },
  {
   "cell_type": "markdown",
   "id": "e3d0146c",
   "metadata": {},
   "source": [
    "И для решения проблемы форматирования под определенную культуру в Python имеется встроенный модуль locale.\n",
    "\n",
    "Для установки локальной культуры в модуле locale определена функция setlocale(). Она принимает два параметра:\n",
    "\n",
    "> setlocale(category, locale)\n",
    "\n",
    "Первый параметр указывает на категорию, к которой применяется функция - к числам, валютам или и числам, и валютам. В качестве значения для параметра мы можем передавать одну из следующих констант:\n",
    "\n",
    "- `LC_ALL`: применяет локализацию ко всем категориям - к форматированию чисел, валют, дат и т.д.\n",
    "\n",
    "- `LC_NUMERIC`: применяет локализацию к числам\n",
    "\n",
    "- `LC_MONETARY`: применяет локализацию к валютам\n",
    "\n",
    "- `LC_TIME`: применяет локализацию к датам и времени\n",
    "\n",
    "- `LC_CTYPE`: применяет локализацию при переводе символов в верхний или нижний регистр\n",
    "\n",
    "- `LC_COLLIATE`: применяет локаль при сравнении строк\n",
    "\n",
    "Второй параметр функции setlocale указывает на локальную культуру, которую надо использовать. На ОС Windows можно использовать код страны по ISO из двух символов, например, для США - \"us\", для Германии - \"de\", для России - \"ru\". Но на MacOS необходимо указывать код языка и код страны, например, для английского в США - \"en_US\", для немецкого в Германии - \"de_DE\", для русского в России - \"ru_RU\". По умолчанию фактически используется культура \"en_US\".\n",
    "\n",
    "Непосредственно для форматирования чисел и валют модуль locale предоставляет две функции:\n",
    "\n",
    "- __currency(num)__: форматирует валюту\n",
    "\n",
    "- __format_string(str, num)__: подставляет число num вместо плейсхолдера в строку str\n",
    "\n",
    "Применяются следующие плейсхолдеры:\n",
    "\n",
    "- `d`: для целых чисел\n",
    "\n",
    "- `f`: для чисел с плавающей точкой\n",
    "\n",
    "- `e`: для экспоненциальной записи чисел\n",
    "\n",
    "Перед каждым плейсхолдером ставится знак процента %, например:"
   ]
  },
  {
   "cell_type": "markdown",
   "id": "6382e2fa",
   "metadata": {},
   "source": [
    "> \"%d\""
   ]
  },
  {
   "cell_type": "markdown",
   "id": "109cb7bf",
   "metadata": {},
   "source": [
    "При выводе дробных чисел перед плейсхолдером после точки можно указать, сколько знаков в дробной части должно отображаться:"
   ]
  },
  {
   "cell_type": "code",
   "execution_count": 13,
   "id": "bb3ebea7",
   "metadata": {},
   "outputs": [
    {
     "name": "stderr",
     "output_type": "stream",
     "text": [
      "UsageError: Line magic function `%.2f` not found.\n"
     ]
    }
   ],
   "source": [
    "%.2f        # два знака в дробной части"
   ]
  },
  {
   "cell_type": "markdown",
   "id": "fbf46149",
   "metadata": {},
   "source": [
    "Применим локализацию чисел и валют в немецкой культуре:"
   ]
  },
  {
   "cell_type": "code",
   "execution_count": null,
   "id": "52f6b173",
   "metadata": {},
   "outputs": [],
   "source": [
    "import locale\n",
    " \n",
    "locale.setlocale(locale.LC_ALL, \"de\")        # для  Windows\n",
    "# locale.setlocale(locale.LC_ALL, \"de_DE\")   # для MacOS\n",
    " \n",
    "number = 12345.6789\n",
    "formatted = locale.format_string(\"%f\", number)\n",
    "print(formatted)    # 12345,678900\n",
    " \n",
    "formatted = locale.format_string(\"%.2f\", number)\n",
    "print(formatted)    # 12345,68\n",
    " \n",
    "formatted = locale.format_string(\"%d\", number)\n",
    "print(formatted)    # 12345\n",
    " \n",
    "formatted = locale.format_string(\"%e\", number)\n",
    "print(formatted)    # 1,234568e+04\n",
    " \n",
    "money = 234.678\n",
    "formatted = locale.currency(money)\n",
    "print(formatted)    # 234,68 €"
   ]
  },
  {
   "cell_type": "markdown",
   "id": "7172cc8b",
   "metadata": {},
   "source": [
    "Если вместо конкретного кода в качестве второго параметра передается пустая строка, то Python будет использовать культуру, которая применяется на текущей рабочей машине. А с помощью функции getlocale() можно получить эту культуру:"
   ]
  },
  {
   "cell_type": "code",
   "execution_count": 15,
   "id": "a4f1fea5",
   "metadata": {},
   "outputs": [
    {
     "name": "stdout",
     "output_type": "stream",
     "text": [
      "12345,68\n",
      "('en_US', 'UTF-8')\n"
     ]
    }
   ],
   "source": [
    "import locale\n",
    " \n",
    "locale.setlocale(locale.LC_ALL, \"\")\n",
    " \n",
    "number = 12345.6789\n",
    "formatted = locale.format_string(\"%.02f\", number)\n",
    "print(formatted)    # 12345,68\n",
    "print(locale.getlocale())   \n",
    "# ('Russian_Russia', '1251') - Windows\n",
    "# ('ru_RU', 'UTF-8')  - MacOS"
   ]
  },
  {
   "cell_type": "markdown",
   "id": "6236bed0",
   "metadata": {},
   "source": [
    "Стоит отметить, что в зависимости от системы вывод может отличаться."
   ]
  },
  {
   "cell_type": "markdown",
   "id": "f0678e41",
   "metadata": {},
   "source": [
    "# Модуль decimal\n",
    "При работе с числами с плавающей точкой (то есть float) мы сталкиваемся с тем, что в результате вычислений мы получаем не совсем верный результат:"
   ]
  },
  {
   "cell_type": "code",
   "execution_count": 16,
   "id": "0dc08344",
   "metadata": {},
   "outputs": [
    {
     "name": "stdout",
     "output_type": "stream",
     "text": [
      "0.30000000000000004\n"
     ]
    }
   ],
   "source": [
    "number = 0.1 + 0.1 + 0.1\n",
    "print(number)       # 0.30000000000000004"
   ]
  },
  {
   "cell_type": "markdown",
   "id": "edc0f069",
   "metadata": {},
   "source": [
    "Проблему может решить использование функции __round()__, которая округлит число. Однако есть и другой способ, который заключается в использовании встроенного модуля decimal.\n",
    "\n",
    "Ключевым компонентом для работы с числами в этом модуле является класс Decimal. Для его применения нам надо создать его объект с помощью конструктора. В конструктор передается строковое значение, которое представляет число:"
   ]
  },
  {
   "cell_type": "code",
   "execution_count": 17,
   "id": "b4b96cbf",
   "metadata": {},
   "outputs": [],
   "source": [
    "from decimal import Decimal\n",
    " \n",
    "number = Decimal(\"0.1\")"
   ]
  },
  {
   "cell_type": "markdown",
   "id": "ce4a54e9",
   "metadata": {},
   "source": [
    "После этого объект Decimal можно использовать в арифметических операциях:"
   ]
  },
  {
   "cell_type": "code",
   "execution_count": 18,
   "id": "c46bee39",
   "metadata": {},
   "outputs": [
    {
     "name": "stdout",
     "output_type": "stream",
     "text": [
      "0.3\n"
     ]
    }
   ],
   "source": [
    "from decimal import Decimal\n",
    " \n",
    "number = Decimal(\"0.1\")\n",
    "number = number + number + number\n",
    "print(number)       # 0.3"
   ]
  },
  {
   "cell_type": "markdown",
   "id": "513a04da",
   "metadata": {},
   "source": [
    "В операциях с Decimal можно использовать целые числа:"
   ]
  },
  {
   "cell_type": "code",
   "execution_count": 19,
   "id": "018e87fa",
   "metadata": {},
   "outputs": [],
   "source": [
    "number = Decimal(\"0.1\")\n",
    "number = number + 2"
   ]
  },
  {
   "cell_type": "markdown",
   "id": "474db73f",
   "metadata": {},
   "source": [
    "Однако нельзя смешивать в операциях дробные числа float и Decimal:"
   ]
  },
  {
   "cell_type": "code",
   "execution_count": 20,
   "id": "3d150b32",
   "metadata": {},
   "outputs": [
    {
     "ename": "TypeError",
     "evalue": "unsupported operand type(s) for +: 'decimal.Decimal' and 'float'",
     "output_type": "error",
     "traceback": [
      "\u001b[0;31m---------------------------------------------------------------------------\u001b[0m",
      "\u001b[0;31mTypeError\u001b[0m                                 Traceback (most recent call last)",
      "Cell \u001b[0;32mIn[20], line 2\u001b[0m\n\u001b[1;32m      1\u001b[0m number \u001b[38;5;241m=\u001b[39m Decimal(\u001b[38;5;124m\"\u001b[39m\u001b[38;5;124m0.1\u001b[39m\u001b[38;5;124m\"\u001b[39m)\n\u001b[0;32m----> 2\u001b[0m number \u001b[38;5;241m=\u001b[39m \u001b[43mnumber\u001b[49m\u001b[43m \u001b[49m\u001b[38;5;241;43m+\u001b[39;49m\u001b[43m \u001b[49m\u001b[38;5;241;43m0.1\u001b[39;49m   \u001b[38;5;66;03m# здесь возникнет ошибка\u001b[39;00m\n",
      "\u001b[0;31mTypeError\u001b[0m: unsupported operand type(s) for +: 'decimal.Decimal' and 'float'"
     ]
    }
   ],
   "source": [
    "number = Decimal(\"0.1\")\n",
    "number = number + 0.1   # здесь возникнет ошибка"
   ]
  },
  {
   "cell_type": "markdown",
   "id": "b278744f",
   "metadata": {},
   "source": [
    "С помощью дополнительных знаков мы можем определить, сколько будет символов в дробной части числа:"
   ]
  },
  {
   "cell_type": "code",
   "execution_count": null,
   "id": "32619f7e",
   "metadata": {},
   "outputs": [],
   "source": [
    "number = Decimal(\"0.10\")\n",
    "number = 3 * number\n",
    "print(number)       # 0.30"
   ]
  },
  {
   "cell_type": "markdown",
   "id": "51b95b57",
   "metadata": {},
   "source": [
    "Строка \"0.10\" определяет два знака в дробной части, даже если последние символы будут представлять ноль. Соответственно \"0.100\" представляет три знака в дробной части.\n",
    "Округление чисел\n",
    "\n",
    "Объекты Decimal имеют метод __quantize()__, который позволяет округлять числа. В этот метод в качестве первого аргумента передается также объект Decimal, который указывает формат округления числа:"
   ]
  },
  {
   "cell_type": "code",
   "execution_count": 21,
   "id": "fd1303b5",
   "metadata": {},
   "outputs": [
    {
     "name": "stdout",
     "output_type": "stream",
     "text": [
      "0.44\n",
      "0.56\n",
      "1.00\n"
     ]
    }
   ],
   "source": [
    "from decimal import Decimal\n",
    " \n",
    "number = Decimal(\"0.444\")\n",
    "number = number.quantize(Decimal(\"1.00\"))\n",
    "print(number)       # 0.44\n",
    " \n",
    "number = Decimal(\"0.555678\")\n",
    "print(number.quantize(Decimal(\"1.00\")))       # 0.56\n",
    " \n",
    "number = Decimal(\"0.999\")\n",
    "print(number.quantize(Decimal(\"1.00\")))       # 1.00"
   ]
  },
  {
   "cell_type": "markdown",
   "id": "66d590e0",
   "metadata": {},
   "source": [
    "Используемая строка \"1.00\" указывает, что округление будет идти до двух знаков в дробной части.\n",
    "\n",
    "По умолчанию округление описывается константой ROUND_HALF_EVEN, при котором округление происходит до ближайшего четного числа, если округляемая часть равна 5. Например:"
   ]
  },
  {
   "cell_type": "code",
   "execution_count": 22,
   "id": "5fc89887",
   "metadata": {},
   "outputs": [
    {
     "name": "stdout",
     "output_type": "stream",
     "text": [
      "10.02\n",
      "10.04\n"
     ]
    }
   ],
   "source": [
    "from decimal import Decimal, ROUND_HALF_EVEN\n",
    " \n",
    "number = Decimal(\"10.025\")      # 2 - ближайшее четное число\n",
    "print(number.quantize(Decimal(\"1.00\"), ROUND_HALF_EVEN))       # 10.02\n",
    " \n",
    "number = Decimal(\"10.035\")      # 4 - ближайшее четное число\n",
    "print(number.quantize(Decimal(\"1.00\"), ROUND_HALF_EVEN))       # 10.04"
   ]
  },
  {
   "cell_type": "markdown",
   "id": "7df43e45",
   "metadata": {},
   "source": [
    "Стратегия округления передается в качестве второго параметра в quantize.\n",
    "\n",
    "Строка \"1.00\" означает, что округление будет идти до двух чисел в дробной части. Но в первом случае \"10.025\" - вторым знаком идет 2 - четное число, поэтому, несмотря на то, что следующее число 5, двойка не округляется до тройки.\n",
    "\n",
    "Во втором случае \"10.035\" - вторым знаком идет 3 - нечетное число, ближайшим четным числом будет 4, поэтому 35 округляется до 40.\n",
    "\n",
    "Данное поведение при округлении, возможно, не всем покажется желательным, и в этом случае его можно переопределить, использовав одну из следующих констант:\n",
    "\n",
    "- `ROUND_HALF_UP`: округляет число в сторону повышения, если после него идет число 5 или выше\n",
    "\n",
    "- `ROUND_HALF_DOWN`: округляет число в сторону повышения, если после него идет число больше 5"
   ]
  },
  {
   "cell_type": "code",
   "execution_count": 23,
   "id": "6d2eeb93",
   "metadata": {},
   "outputs": [
    {
     "ename": "SyntaxError",
     "evalue": "invalid syntax (1212015768.py, line 6)",
     "output_type": "error",
     "traceback": [
      "\u001b[0;36m  Cell \u001b[0;32mIn[23], line 6\u001b[0;36m\u001b[0m\n\u001b[0;31m    ROUND_05UP: округляет 0 до единицы, если после него идет число 5 и выше\u001b[0m\n\u001b[0m                          ^\u001b[0m\n\u001b[0;31mSyntaxError\u001b[0m\u001b[0;31m:\u001b[0m invalid syntax\n"
     ]
    }
   ],
   "source": [
    "number = Decimal(\"10.026\")\n",
    "print(number.quantize(Decimal(\"1.00\"), ROUND_HALF_DOWN))       # 10.03\n",
    "number = Decimal(\"10.025\")\n",
    "print(number.quantize(Decimal(\"1.00\"), ROUND_HALF_DOWN))       # 10.02\n",
    "\n",
    "ROUND_05UP: округляет 0 до единицы, если после него идет число 5 и выше\n",
    "\n",
    "print(number.quantize(Decimal(\"1.00\"), ROUND_05UP))       # 10.01\n",
    "number = Decimal(\"10.025\")\n",
    "print(number.quantize(Decimal(\"1.00\"), ROUND_05UP))       # 10.02\n",
    "ROUND_CEILING: округляет число в большую сторону вне зависимости от того, какое число идет после него\n",
    "\n",
    "number = Decimal(\"10.021\")\n",
    "print(number.quantize(Decimal(\"1.00\"), ROUND_CEILING))       # 10.03\n",
    "     \n",
    "number = Decimal(\"10.025\")\n",
    "print(number.quantize(Decimal(\"1.00\"), ROUND_CEILING))       # 10.03"
   ]
  },
  {
   "cell_type": "markdown",
   "id": "5ea7914e",
   "metadata": {},
   "source": [
    "ROUND_FLOOR: не округляет число вне зависимости от того, какое число идет после него"
   ]
  },
  {
   "cell_type": "code",
   "execution_count": 24,
   "id": "98d69ece",
   "metadata": {},
   "outputs": [
    {
     "ename": "NameError",
     "evalue": "name 'ROUND_FLOOR' is not defined",
     "output_type": "error",
     "traceback": [
      "\u001b[0;31m---------------------------------------------------------------------------\u001b[0m",
      "\u001b[0;31mNameError\u001b[0m                                 Traceback (most recent call last)",
      "Cell \u001b[0;32mIn[24], line 2\u001b[0m\n\u001b[1;32m      1\u001b[0m number \u001b[38;5;241m=\u001b[39m Decimal(\u001b[38;5;124m\"\u001b[39m\u001b[38;5;124m10.021\u001b[39m\u001b[38;5;124m\"\u001b[39m)\n\u001b[0;32m----> 2\u001b[0m \u001b[38;5;28mprint\u001b[39m(number\u001b[38;5;241m.\u001b[39mquantize(Decimal(\u001b[38;5;124m\"\u001b[39m\u001b[38;5;124m1.00\u001b[39m\u001b[38;5;124m\"\u001b[39m), \u001b[43mROUND_FLOOR\u001b[49m))       \u001b[38;5;66;03m# 10.02\u001b[39;00m\n\u001b[1;32m      4\u001b[0m number \u001b[38;5;241m=\u001b[39m Decimal(\u001b[38;5;124m\"\u001b[39m\u001b[38;5;124m10.025\u001b[39m\u001b[38;5;124m\"\u001b[39m)\n\u001b[1;32m      5\u001b[0m \u001b[38;5;28mprint\u001b[39m(number\u001b[38;5;241m.\u001b[39mquantize(Decimal(\u001b[38;5;124m\"\u001b[39m\u001b[38;5;124m1.00\u001b[39m\u001b[38;5;124m\"\u001b[39m), ROUND_FLOOR))       \u001b[38;5;66;03m# 10.02\u001b[39;00m\n",
      "\u001b[0;31mNameError\u001b[0m: name 'ROUND_FLOOR' is not defined"
     ]
    }
   ],
   "source": [
    "number = Decimal(\"10.021\")\n",
    "print(number.quantize(Decimal(\"1.00\"), ROUND_FLOOR))       # 10.02\n",
    "\n",
    "number = Decimal(\"10.025\")\n",
    "print(number.quantize(Decimal(\"1.00\"), ROUND_FLOOR))       # 10.02"
   ]
  },
  {
   "cell_type": "markdown",
   "id": "28989afb",
   "metadata": {},
   "source": [
    "# Модуль dataclass. Data-классы\n",
    "Модуль dataclasses предоставляет декоратор dataclass, который позволяет создавать data-классы - подобные позволяют значительно сократить шаблонный код классов. Как правило, такие классы предназначены для хранения некоторого состояния, некоторых данных и когда не требуется какое-то поведение в виде функций.\n",
    "\n",
    "Рассмотрим простейший пример:"
   ]
  },
  {
   "cell_type": "code",
   "execution_count": 25,
   "id": "5be531e6",
   "metadata": {},
   "outputs": [
    {
     "name": "stdout",
     "output_type": "stream",
     "text": [
      "Name: Tom  Age: 38\n"
     ]
    }
   ],
   "source": [
    "class Person:\n",
    "    def __init__(self, name, age):\n",
    "        self.name = name\n",
    "        self.age = age\n",
    "        \n",
    "tom = Person(\"Tom\", 38)\n",
    "print(f\"Name: {tom.name}  Age: {tom.age}\")      # Name: Tom  Age: 38"
   ]
  },
  {
   "cell_type": "markdown",
   "id": "2cdac78a",
   "metadata": {},
   "source": [
    "Здесь определен __класс Person__, у которого в функции конструктора определены два атрибута: `name` и `age`. Далее создаем один объект этого класса и выводим значения его атрибутов на консоль.\n",
    "\n",
    "Теперь изменим эту программу, сделав класс Person data-классом:"
   ]
  },
  {
   "cell_type": "code",
   "execution_count": 26,
   "id": "9d3defa7",
   "metadata": {},
   "outputs": [
    {
     "name": "stdout",
     "output_type": "stream",
     "text": [
      "Name: Tom  Age: 38\n"
     ]
    }
   ],
   "source": [
    "from dataclasses import dataclass\n",
    " \n",
    "@dataclass\n",
    "class Person:\n",
    "    name: str\n",
    "    age: int\n",
    "\n",
    "tom = Person(\"Tom\", 38)\n",
    "print(f\"Name: {tom.name}  Age: {tom.age}\")      # Name: Tom  Age: 38"
   ]
  },
  {
   "cell_type": "markdown",
   "id": "3ef10771",
   "metadata": {},
   "source": [
    "Для создания data-класса импортируем из модуля dataclasses декоратор dataclass и применяем его к классу Person. И в этом случае в самом классе нам уже не надо указывать конструктор - функцию `__init__`. Мы просто указываем атрибуты. А Python потом сам сгенерирует конструктор, в который также мы можем передать значения для атрибутов объекта.\n",
    "\n",
    "Таким образом, мы уже сократили определение класса и сделали его более простым. Но генерацией метода `__init__` функциональность декоратора dataclass не ограничивается. В реальности data-класс"
   ]
  },
  {
   "cell_type": "code",
   "execution_count": 27,
   "id": "f2e93ae6",
   "metadata": {},
   "outputs": [],
   "source": [
    "@dataclass\n",
    "class Person:\n",
    "    name: str\n",
    "    age: int"
   ]
  },
  {
   "cell_type": "markdown",
   "id": "98b2c688",
   "metadata": {},
   "source": [
    "будет аналогичен следующему:"
   ]
  },
  {
   "cell_type": "code",
   "execution_count": 28,
   "id": "6aac55fd",
   "metadata": {},
   "outputs": [],
   "source": [
    "class Person:\n",
    "    def __init__(self, name, age):\n",
    "        self.name = name\n",
    "        self.age = age\n",
    " \n",
    "    def __repr__(self):\n",
    "        return f\"Person(name={self.name!r}, age={self.age!r}\"\n",
    "     \n",
    "    def __eq__(self, other):\n",
    "        if other.__class__ is self.__class__:\n",
    "            return (self.name, self.age) == (other.name, other.age)\n",
    "        return NotImplemented"
   ]
  },
  {
   "cell_type": "markdown",
   "id": "bc1ee01a",
   "metadata": {},
   "source": [
    "В данном случае мы видим, что кроме функции `__init__`, также определяется функция `__repr__()` для возвращения строкового представления и функция `__eq__()` для сравнения двух объектов. Применение данных функций:"
   ]
  },
  {
   "cell_type": "code",
   "execution_count": 29,
   "id": "f3e2043e",
   "metadata": {},
   "outputs": [
    {
     "name": "stdout",
     "output_type": "stream",
     "text": [
      "True\n",
      "False\n",
      "Person(name='Tom', age=38)\n"
     ]
    }
   ],
   "source": [
    "from dataclasses import dataclass\n",
    " \n",
    "@dataclass\n",
    "class Person:\n",
    "    name: str\n",
    "    age: int\n",
    " \n",
    " \n",
    "tom = Person(\"Tom\", 38)\n",
    "bob = Person(\"Bob\", 42)\n",
    "tomas = Person(\"Tom\", 38) \n",
    "print(tom == tomas)     # True\n",
    "print(tom == bob)       # False\n",
    "print(tom)              # Person(name=\"Tom\", age=38)"
   ]
  },
  {
   "cell_type": "markdown",
   "id": "cf1c5073",
   "metadata": {},
   "source": [
    "Параметры декоратора __dataclass__\n",
    "\n",
    "С помощью параметров декоратор dataclass позволяет сгенерировать дополнительный шаблонный код и вообще настроить генерацию кода:"
   ]
  },
  {
   "cell_type": "code",
   "execution_count": 30,
   "id": "cc597c46",
   "metadata": {},
   "outputs": [
    {
     "ename": "SyntaxError",
     "evalue": "invalid syntax (1549309686.py, line 3)",
     "output_type": "error",
     "traceback": [
      "\u001b[0;36m  Cell \u001b[0;32mIn[30], line 3\u001b[0;36m\u001b[0m\n\u001b[0;31m    kw_only=False, slots=False)\u001b[0m\n\u001b[0m                               ^\u001b[0m\n\u001b[0;31mSyntaxError\u001b[0m\u001b[0;31m:\u001b[0m invalid syntax\n"
     ]
    }
   ],
   "source": [
    "def dataclass(cls=None, /, *, init=True, repr=True, eq=True, order=False,\n",
    "              unsafe_hash=False, frozen=False, match_args=True,\n",
    "              kw_only=False, slots=False)"
   ]
  },
  {
   "cell_type": "markdown",
   "id": "8916a343",
   "metadata": {},
   "source": [
    "Рассмотрим базовые параметры:\n",
    "\n",
    "- __init__: если равно True, то генерируется функция `__init__()`. По умолчанию равно True\n",
    "\n",
    "- __repr__: если равно True, то генерируется функция `__repr__()`, которая возвращает строковое представление объекта. По умолчанию равно True\n",
    "\n",
    "- __eq__: если равно True, то генерируется функция ``__eq__()`, которая сравнивает два объекта. По умолчанию равно True\n",
    "\n",
    "- __order__: если равно True, то генерируются функции `__lt__` (операция <), `__le__` (<=), `__gt__` (>), `__ge__` (>=), которые применяются для упорядочивания объектов. По умолчанию равно False\n",
    "\n",
    "- __unsafe_hash__: если равно True, то генерируется функция `__hash__()`, которая возвращает хеш объекта. По умолчанию равно False\n",
    "\n",
    "Кроме того, те функции, которые создаются по умолчанию, могут быть переопределены.\n",
    "\n",
    "Применение параметров:"
   ]
  },
  {
   "cell_type": "code",
   "execution_count": 31,
   "id": "c0a8df84",
   "metadata": {},
   "outputs": [
    {
     "name": "stdout",
     "output_type": "stream",
     "text": [
      "4516051812125656423\n",
      "Person. Name: Tom  Age: 38\n"
     ]
    }
   ],
   "source": [
    "from dataclasses import dataclass\n",
    " \n",
    "@dataclass(unsafe_hash=True, order=True)\n",
    "class Person:\n",
    "    name: str\n",
    "    age: int\n",
    "    def __repr__(self):\n",
    "        return f\"Person. Name: {self.name}  Age: {self.age}\"\n",
    " \n",
    " \n",
    "tom = Person(\"Tom\", 38)\n",
    "print(tom.__hash__())   # -421667297069596717\n",
    "print(tom)              # Person. Name: Tom  Age: 38"
   ]
  },
  {
   "cell_type": "markdown",
   "id": "67f04873",
   "metadata": {},
   "source": [
    "В данном случае включаем генерирование хеша и функций упорядочивания, а также явным образом переопределяем функцию `__repr__` для создания строкового представления объекта.\n",
    "значения по умолчанию\n",
    "\n",
    "При необходимости атрибутам можно присвоить значения по умолчанию, если в конструкторе им не передаются значения:"
   ]
  },
  {
   "cell_type": "code",
   "execution_count": 32,
   "id": "8f120d2d",
   "metadata": {},
   "outputs": [
    {
     "name": "stdout",
     "output_type": "stream",
     "text": [
      "Person(name='Tom', age=38)\n",
      "Person(name='Bob', age=18)\n"
     ]
    }
   ],
   "source": [
    "from dataclasses import dataclass\n",
    " \n",
    "@dataclass\n",
    "class Person:\n",
    "    name: str\n",
    "    age: int = 18\n",
    " \n",
    " \n",
    "tom = Person(\"Tom\", 38)\n",
    "print(tom)              # Person(name=\"Tom\", age=38)\n",
    " \n",
    "bob = Person(\"Bob\")\n",
    "print(bob)              # Person(name=\"Bob\", age=18)"
   ]
  },
  {
   "cell_type": "markdown",
   "id": "03c6b416",
   "metadata": {},
   "source": [
    "Добавление дополнительного функционала\n",
    "\n",
    "Хотя data-классы предназначены прежде всего для хранения различных данных, но также в них можно определять поведение с помощью дополнительных функций:"
   ]
  },
  {
   "cell_type": "code",
   "execution_count": 33,
   "id": "2c5df253",
   "metadata": {},
   "outputs": [
    {
     "name": "stdout",
     "output_type": "stream",
     "text": [
      "Tom says hello\n"
     ]
    }
   ],
   "source": [
    "from dataclasses import dataclass\n",
    " \n",
    "@dataclass\n",
    "class Person:\n",
    "    name: str\n",
    "    age: int\n",
    " \n",
    "    def say_hello(self):\n",
    "        print(f\"{self.name} says hello\")\n",
    " \n",
    " \n",
    "tom = Person(\"Tom\", 38)\n",
    "tom.say_hello()     # Tom says hello"
   ]
  }
 ],
 "metadata": {
  "kernelspec": {
   "display_name": "Python 3 (ipykernel)",
   "language": "python",
   "name": "python3"
  },
  "language_info": {
   "codemirror_mode": {
    "name": "ipython",
    "version": 3
   },
   "file_extension": ".py",
   "mimetype": "text/x-python",
   "name": "python",
   "nbconvert_exporter": "python",
   "pygments_lexer": "ipython3",
   "version": "3.8.10"
  }
 },
 "nbformat": 4,
 "nbformat_minor": 5
}

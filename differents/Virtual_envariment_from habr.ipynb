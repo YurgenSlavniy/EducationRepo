{
 "cells": [
  {
   "cell_type": "markdown",
   "id": "242ffb92",
   "metadata": {},
   "source": [
    "# Создание виртуальных окружений и установка библиотек для Python 3 в IDE PyCharm\n",
    "\n",
    "Язык программирования Python считается достаточно простым. На нем легче и быстрее пишутся программы, по сравнению с компилируемыми языками программирования. Для Python существует множество библиотек, позволяющих решать практически любые задачи. Есть, конечно, и минусы и другие нюансы, но это отдельная тема.\n",
    "\n",
    "\n",
    "Довольно часто я вижу, как мои знакомые и друзья начинают изучать Python и сталкиваются с проблемой установки и использования сторонних библиотек. Они могут несколько часов потратить на установку библиотеки, и даже, могут не справиться с этим и забить на неё. В то время как, в большинстве случаев, это можно было сделать за несколько минут.\n",
    "\n",
    "\n",
    "Статья начинается с базовых вещей: с установки Python 3, инструментов разработки Pip и Virtualenv и среды разработки PyCharm в Windows и в Ubuntu. Для многих это не представляет трудностей и возможно, что уже всё установлено.\n",
    "\n",
    "\n",
    "После чего будет то, ради чего задумывалась статья, я покажу как в PyCharm создавать и использовать виртуальные окружения и устанавливать в них библиотеки с помощью Pip.\n",
    "\n",
    "### Установка Python и Pip\n",
    "\n",
    "Pip является менеджером пакетов для Python. Именно с помощью него обычно устанавливаются модули/библиотеки для разработки в виде пакетов. В Windows Pip можно установить через стандартный установщик Python. В Ubuntu Pip ставится отдельно.\n",
    "\n",
    "### Установка Python и Pip в Windows\n",
    "\n",
    "Для windows заходим на официальную страницу загрузки, где затем переходим на страницу загрузки определенной версии Python. У меня используется Python 3.6.8, из-за того, что LLVM 9 требует установленного Python 3.6.\n",
    "\n",
    "\n",
    "Далее в таблице с файлами выбираем \"Windows x86-64 executable installer\" для 64-битной системы или \"Windows x86 executable installer\" для 32-битной. И запускаем скачанный установщик, например, для версии Python 3.8.1 он называется python-3.8.1-amd64.exe.\n",
    "\n",
    "\n",
    "Во время установки ставим галочку возле Add Python 3.x to PATH и нажимаем Install Now:\n",
    "\n",
    "### Установка Python и Pip в Ubuntu\n",
    "\n",
    "В Ubuntu установить Python 3 можно через терминал. Запускаем его и вводим команду установки. Вторая команда выводит версию Python.\n",
    "\n",
    "```\n",
    "sudo apt install python3-minimal\n",
    "python3 -V\n",
    "```\n",
    "\n",
    "Далее устанавливаем Pip и обновляем его. После обновления необходимо перезапустить текущую сессию (или перезагрузить компьютер), иначе возникнет ошибка во время вызова Pip.\n",
    "\n",
    "```\n",
    "sudo apt install python3-pip\n",
    "pip3 install --user --upgrade pip\n",
    "```\n",
    "\n",
    "## Основные команды Pip\n",
    "\n",
    "Рассмотрим основные команды при работе с Pip в командой строке Windows и в терминале Ubuntu.\n",
    "\n",
    "Команда --- Описание\n",
    "- pip help --- Справка по командам\n",
    "- pip search package_name --- Поиск пакета\n",
    "- pip show package_name --- Информация об пакете\n",
    "- pip install package_name --- Установка пакета(ов)\n",
    "- pip uninstall package_name --- Удаление пакета(ов)\n",
    "- pip list --- Список установленных пакетов\n",
    "- pip install -U\t --- Обновление пакета(ов)\n",
    "\n",
    "Если виртуальные окружения не используются, то во время установки пакета(ов) полезно использовать дополнительно ключ --user, устанавливая пакет(ы) локально только для текущего пользователя.\n",
    "\n"
   ]
  },
  {
   "cell_type": "markdown",
   "id": "6bd5ed97",
   "metadata": {},
   "source": [
    "### Установка VirtualEnv и VirtualEnvWrapper\n",
    "\n",
    "VirtualEnv используется для создания виртуальных окружений для Python программ. Это необходимо для избежания конфликтов, позволяя установить одну версию библиотеки для одной программы, и другу для второй. Всё удобство использования VirtualEnv постигается на практике.\n",
    "\n",
    "\n",
    "### Установка VirtualEnv и VirtualEnvWrapper в Windows\n",
    "\n",
    "В командной строке выполняем команды:"
   ]
  },
  {
   "cell_type": "code",
   "execution_count": null,
   "id": "52406cb4",
   "metadata": {},
   "outputs": [],
   "source": [
    "pip install virtualenv\n",
    "pip install virtualenvwrapper-win"
   ]
  },
  {
   "cell_type": "markdown",
   "id": "702cae2e",
   "metadata": {},
   "source": [
    "### Установка VirtualEnv и VirtualEnvWrapper в Ubuntu\n",
    "\n",
    "Для Ubuntu команда установки будет следующей:"
   ]
  },
  {
   "cell_type": "code",
   "execution_count": null,
   "id": "12858693",
   "metadata": {},
   "outputs": [],
   "source": [
    "pip3 install --user virtualenv virtualenvwrapper"
   ]
  },
  {
   "cell_type": "markdown",
   "id": "16e9f7c7",
   "metadata": {},
   "source": [
    "После которой в конец ~/.bashrc добавляем:"
   ]
  },
  {
   "cell_type": "code",
   "execution_count": null,
   "id": "cbd54d02",
   "metadata": {},
   "outputs": [],
   "source": [
    "export VIRTUALENVWRAPPER_PYTHON=/usr/bin/python3\n",
    "source ~/.local/bin/virtualenvwrapper.sh"
   ]
  },
  {
   "cell_type": "markdown",
   "id": "9aeecbfa",
   "metadata": {},
   "source": [
    "При новом запуске терминала должны будут появиться сообщения, начинающиеся на virtualenvwrapper.user_scripts creating, что говорит об успешном завершении установки.\n",
    "\n",
    "\n",
    "### Работа с виртуальным окружением VirtualEnv\n",
    "\n",
    "Рассмотрим основные команды при работе с VirtualEnv в командой строке Windows и в терминале Ubuntu.\n",
    "\n",
    "Команда ---\tОписание\n",
    "- mkvirtualenv env-name ---\tСоздаем новое окружение\n",
    "- workon ---\tСмотрим список окружений\n",
    "- workon env-name ---\tМеняем окружение\n",
    "- deactivate ---\tВыходим из окружения\n",
    "- rmvirtualenv env-name ---\tУдаляем окружение\n",
    "\n",
    "Находясь в одном из окружений, можно ставить пакеты через Pip, как обычно и нет необходимости добавлять ключ --user:"
   ]
  },
  {
   "cell_type": "code",
   "execution_count": null,
   "id": "565d7160",
   "metadata": {},
   "outputs": [],
   "source": [
    "pip3 install markdown"
   ]
  },
  {
   "cell_type": "markdown",
   "id": "f3d97fb7",
   "metadata": {},
   "source": [
    "Для Windows можно указать в переменных среды WORKON_HOME для переопределения пути, где хранятся виртуальные окружения. По умолчанию, используется путь %USERPROFILE%\\Envs.\n",
    "\n",
    "\n",
    "## Установка PyCharm\n",
    "\n",
    "PyCharm — интегрированная среда разработки для языка программирования Python. Обладает всеми базовыми вещами необходимых для разработки. В нашем случае огромное значение имеет хорошее взаимодействие PyCharm с VirtualEnv и Pip, чем мы и будем пользоваться.\n",
    "\n",
    "\n",
    "### Установка PyCharm в Windows\n",
    "\n",
    "Скачиваем установщик PyCharm Community для Windows с официального сайта JetBrains. Если умеете проверять контрольные суммы у скаченных файлов, то не забываем это сделать.\n",
    "\n",
    "\n",
    "В самой установке ничего особенного нету. По сути только нажимаем на кнопки next, и в завершение на кнопку Install. Единственно, можно убрать версию из имени папки установки, т.к. PyCharm постоянно обновляется и указанная версия в будущем станет не правильной.\n",
    "\n",
    "\n",
    "### Установка PyCharm в Ubuntu\n",
    "\n",
    "Скачиваем установщик PyCharm Community для Linux с официального сайта JetBrains. Очень хорошей практикой является проверка контрольных сумм, так что если умеете, не ленитесь с проверкой.\n",
    "\n",
    "\n",
    "Распаковываем архив с PyCharm и переименовываем папку с программой в pycharm-community, убрав версию из названия.\n",
    "\n",
    "\n",
    "Теперь в директории ~/.local (Ctrl + H — Показ скрытый файлов), создаем папку opt, куда и перемещаем pycharm-community. В результате по пути /.local/opt/pycharm-community должны размещаться папки bin, help и т.д. Таким образом PyCharm будет находится в своём скромном месте и никому не будет мешать.\n",
    "\n",
    "\n",
    "Далее выполняем команды в терминале:"
   ]
  },
  {
   "cell_type": "code",
   "execution_count": null,
   "id": "109111d6",
   "metadata": {},
   "outputs": [],
   "source": [
    "cd /home/maksim/.local/opt/pycharm-community/bin\n",
    "sh ./pycharm.sh"
   ]
  },
  {
   "cell_type": "markdown",
   "id": "e8341908",
   "metadata": {},
   "source": [
    "Производим установку. И очень важно в конце не забыть создать desktop файл для запуска PyCharm. Для этого в Окне приветствия в нижнем правом углу нажимаем на Configure → Create Desktop Entry.\n",
    "\n",
    "### Установка PyCharm в Ubuntu из snap-пакета\n",
    "\n",
    "PyCharm теперь можно устанавливать из snap-пакета. Если вы используете Ubuntu 16.04 или более позднюю версию, можете установить PyCharm из командной строки."
   ]
  },
  {
   "cell_type": "code",
   "execution_count": null,
   "id": "fd0b2fb9",
   "metadata": {},
   "outputs": [],
   "source": [
    "sudo snap install pycharm-community --classic"
   ]
  },
  {
   "cell_type": "markdown",
   "id": "fdd7efd3",
   "metadata": {},
   "source": [
    "### Использование VirtualEnv и Pip в PyCharm\n",
    "\n",
    "Поддержка Pip и Virtualenv в PyCharm появилась уже довольно давно. Иногда конечно возникают проблемы, но взаимодействие работает в основном стабильно.\n",
    "\n",
    "\n",
    "Рассмотрим два варианта работы с виртуальными окружениями:\n",
    "\n",
    "\n",
    "Создаём проект со своим собственным виртуальным окружением, куда затем будут устанавливаться необходимые библиотеки;\n",
    "\n",
    "Предварительно создаём виртуальное окружение, куда установим нужные библиотеки. И затем при создании проекта в PyCharm можно будет его выбирать, т.е. использовать для нескольких проектов."
   ]
  },
  {
   "cell_type": "markdown",
   "id": "d5b2f283",
   "metadata": {},
   "source": [
    "# Первый пример: использование собственного виртуального окружения для проекта\n",
    "\n",
    "Создадим программу, генерирующую изображение с тремя графиками нормального распределения Гаусса Для этого будут использоваться библиотеки matplotlib и numpy, которые будут установлены в специальное созданное виртуальное окружение для программы.\n",
    "\n",
    "\n",
    "Запускаем PyCharm и окне приветствия выбираем Create New Project.\n",
    "\n",
    "\n",
    "В мастере создания проекта, указываем в поле Location путь расположения создаваемого проекта. Имя конечной директории также является именем проекта. В примере директория называется 'first_program'.\n",
    "\n",
    "\n",
    "Далее разворачиваем параметры окружения, щелкая по Project Interpreter. И выбираем New environment using Virtualenv. Путь расположения окружения генерируется автоматически. В Windows можно поменять в пути папку venv на Envs, чтобы команда workon находила создаваемые в PyCharm окружения. Ставить дополнительно галочки — нет необходимости. И нажимаем на Create.\n",
    "\n",
    "Теперь установим библиотеки, которые будем использовать в программе. С помощью главного меню переходим в настройки File → Settings. Где переходим в Project: project_name → Project Interpreter.\n",
    "\n",
    "Здесь мы видим таблицу со списком установленных пакетов. В начале установлено только два пакета: pip и setuptools.\n",
    "\n",
    "\n",
    "Справа от таблицы имеется панель управления с четырьмя кнопками:\n",
    "\n",
    "\n",
    "- Кнопка с плюсом добавляет пакет в окружение;\n",
    "- Кнопка с минусом удаляет пакет из окружения;\n",
    "- Кнопка с треугольником обновляет пакет;\n",
    "- Кнопка с глазом включает отображение ранних релизов для пакетов.\n",
    "\n",
    "Для добавления (установки) библиотеки в окружение нажимаем на плюс. В поле поиска вводим название библиотеки. В данном примере будем устанавливать matplotlib. Дополнительно, через Specify version можно указать версию устанавливаемого пакета и через Options указать параметры. Сейчас для matplotlib нет необходимости в дополнительных параметрах. Для установки нажимаем Install Package.\n",
    "\n",
    "После установки закрываем окно добавления пакетов в проект и видим, что в окружение проекта добавился пакет matplotlib с его зависимостями. В том, числе был установлен пакет с библиотекой numpy. Выходим из настроек.\n",
    "\n",
    "Теперь мы можем создать файл с кодом в проекте, например, first.py. Код программы имеет следующий вид:\n"
   ]
  },
  {
   "cell_type": "code",
   "execution_count": 1,
   "id": "67a52a8a",
   "metadata": {},
   "outputs": [
    {
     "data": {
      "image/png": "[encoded data removed]",
      "text/plain": [
       "<Figure size 512x384 with 1 Axes>"
      ]
     },
     "metadata": {
      "needs_background": "light"
     },
     "output_type": "display_data"
    }
   ],
   "source": [
    "import matplotlib.pyplot as plt\n",
    "import numpy as np\n",
    "\n",
    "x = np.linspace(-5, 5, 100)\n",
    "\n",
    "def gauss(sigma, mu):\n",
    "    return 1/(sigma * (2*np.pi)**.5) * np.e ** (-(x-mu)**2/(2 * sigma**2))\n",
    "\n",
    "dpi = 80\n",
    "fig = plt.figure(dpi=dpi, figsize=(512 / dpi, 384 / dpi))\n",
    "\n",
    "plt.plot(x, gauss(0.5, 1.0), 'ro-')\n",
    "plt.plot(x, gauss(1.0, 0.5), 'go-')\n",
    "plt.plot(x, gauss(1.5, 0.0), 'bo-')\n",
    "\n",
    "plt.legend(['sigma = 0.5, mu = 1.0',\n",
    "            'sigma = 1.0, mu = 0.5',\n",
    "            'sigma = 1.5, mu = 0.0'], loc='upper left')\n",
    "\n",
    "fig.savefig('gauss.png')"
   ]
  },
  {
   "cell_type": "markdown",
   "id": "04c13735",
   "metadata": {},
   "source": [
    "Для запуска программы, необходимо создать профиль с конфигурацией. Для этого в верхнем правом углу нажимаем на кнопку Add Configuration.... Откроется окно Run/Debug Configurations, где нажимаем на кнопку с плюсом (Add New Configuration) в правом верхнем углу и выбираем Python.\n",
    "\n",
    "\n",
    "Далее указываем в поле Name имя конфигурации и в поле Script path расположение Python файла с кодом программы. Остальные параметры не трогаем. В завершение нажимаем на Apply, затем на OK.\n",
    "\n",
    "Теперь можно выполнить программу и в директории с программой появится файл gauss.png:\n",
    "\n",
    "# Второй пример: использование предварительно созданного виртуального окружения\n",
    "\n",
    "Данный пример можно использовать во время изучения работы с библиотекой. Например, изучаем PySide2 и нам придется создать множество проектов. Создание для каждого проекта отдельного окружения довольно накладно. Это нужно каждый раз скачивать пакеты, также свободное место на локальных дисках ограничено.\n",
    "\n",
    "\n",
    "Более практично заранее подготовить окружение с установленными нужными библиотеками. И во время создания проектов использовать это окружение.\n",
    "\n",
    "\n",
    "В этом примере мы создадим виртуальное окружения PySide2, куда установим данную библиотеку. Затем создадим программу, использующую библиотеку PySide2 из предварительно созданного виртуального окружения. Программа будет показывать метку, отображающую версию установленной библиотеки PySide2.\n",
    "\n",
    "\n",
    "Начнем с экран приветствия PyCharm. Для этого нужно выйти из текущего проекта. На экране приветствия в нижнем правом углу через Configure → Settings переходим в настройки. Затем переходим в раздел Project Interpreter. В верхнем правом углу есть кнопка с шестерёнкой, нажимаем на неё и выбираем Add..., создавая новое окружение. И указываем расположение для нового окружения. Имя конечной директории будет также именем самого окружения, в данном примере — pyside2. В Windows можно поменять в пути папку venv на Envs, чтобы команда workon находила создаваемые в PyCharm окружения. Нажимаем на ОК.\n",
    "\n",
    "Далее в созданном окружении устанавливаем пакет с библиотекой PySide2, также как мы устанавливали matplotlib. И выходим из настроек.\n",
    "\n",
    "\n",
    "Теперь мы можем создавать новый проект использующий библиотеку PySide2. В окне приветствия выбираем Create New Project.\n",
    "\n",
    "\n",
    "В мастере создания проекта, указываем имя расположения проекта в поле Location. Разворачиваем параметры окружения, щелкая по Project Interpreter, где выбираем Existing interpreter и указываем нужное нам окружение pyside2.\n",
    "\n",
    "Для проверки работы библиотеки создаем файл second.py со следующий кодом:"
   ]
  },
  {
   "cell_type": "code",
   "execution_count": null,
   "id": "c3a75254",
   "metadata": {},
   "outputs": [],
   "source": [
    "import sys\n",
    "\n",
    "from PySide2.QtWidgets import QApplication, QLabel\n",
    "from PySide2 import QtCore\n",
    "\n",
    "if __name__ == \"__main__\":\n",
    "    app = QApplication(sys.argv)\n",
    "\n",
    "    label = QLabel(QtCore.qVersion())\n",
    "    label.show()\n",
    "\n",
    "    QtCore.qVersion()\n",
    "\n",
    "    sys.exit(app.exec_())"
   ]
  },
  {
   "cell_type": "markdown",
   "id": "14679232",
   "metadata": {},
   "source": [
    "Далее создаем конфигурацию запуска программы, также как создавали для первого примера. После чего можно выполнить программу.\n",
    "\n",
    "\n",
    "Заключение\n",
    "\n",
    "У меня нет богатого опыта программирования на Python. И я не знаком с другими IDE для Python. Поэтому, возможно, данные IDE также умеют работать с Pip и Virtualenv. Использовать Pip и Virtualenv можно в командой строке или в терминале. Установка библиотеки через Pip может завершиться ошибкой. Есть способы установки библиотек без Pip. Также создавать виртуальные окружения можно не только с помощью Virtualenv.\n",
    "\n",
    "\n",
    "В общем, я лишь поделился небольшой частью опыта из данной области. Но, если не вдаваться в глубокие дебри, то этого вполне достаточно знать, чтобы писать простые программы на Python с использованием сторонних библиотек."
   ]
  },
  {
   "cell_type": "markdown",
   "id": "cbebb913",
   "metadata": {},
   "source": [
    "# https://habr.com/ru/post/491916/"
   ]
  },
  {
   "cell_type": "code",
   "execution_count": null,
   "id": "cc9ee79d",
   "metadata": {},
   "outputs": [],
   "source": []
  }
 ],
 "metadata": {
  "kernelspec": {
   "display_name": "Python 3 (ipykernel)",
   "language": "python",
   "name": "python3"
  },
  "language_info": {
   "codemirror_mode": {
    "name": "ipython",
    "version": 3
   },
   "file_extension": ".py",
   "mimetype": "text/x-python",
   "name": "python",
   "nbconvert_exporter": "python",
   "pygments_lexer": "ipython3",
   "version": "3.8.8"
  }
 },
 "nbformat": 4,
 "nbformat_minor": 5
}

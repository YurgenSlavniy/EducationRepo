{
 "cells": [
  {
   "cell_type": "markdown",
   "id": "5957888c",
   "metadata": {},
   "source": [
    "# PART_03. Напишем django app приложение.\n",
    "\n",
    "### Написание вашего первого приложения Django, часть 3\n",
    "\n",
    "Этот урок начинается с того места, где закончился урок 2. Мы продолжаем работу над приложением веб-опроса и сосредоточимся на создании публичного интерфейса — «представлений».\n",
    "\n",
    "`Где получить помощь:`\n",
    "\n",
    "Если у вас возникли проблемы с изучением этого руководства, перейдите в раздел «Помощь» в разделе «Часто задаваемые вопросы».\n",
    "\n",
    "# Overview\n",
    "\n",
    "__Представление (view)__ — это «тип» веб-страницы в вашем приложении Django, который обычно выполняет определенную функцию и имеет определенный шаблон. Например, в приложении блога у вас могут быть следующие представления:\n",
    "\n",
    "- Домашняя страница блога – отображает несколько последних записей.\n",
    "- Страница «подробности» записи – страница постоянной ссылки для одной записи.\n",
    "- Страница архива по годам — отображает все месяцы с записями в данном году.\n",
    "- Страница архива по месяцам – отображает все дни с записями в данном месяце.\n",
    "- Страница архива по дням — отображает все записи за данный день.\n",
    "- Действие комментария – обрабатывает публикацию комментариев к данной записи.\n",
    "\n",
    "В нашем приложении для опроса у нас будут следующие четыре представления:\n",
    "\n",
    "1. Страница «указатель» “index” вопросов – отображает несколько последних вопросов.\n",
    "2. Страница «Подробности» “detail” вопроса — отображает текст вопроса без результатов, но с формой для голосования.\n",
    "3. Страница «Результаты» “results” вопроса — отображает результаты по конкретному вопросу.\n",
    "4. Действие голосования – управляет голосованием за определенный вариант в конкретном вопросе.\n",
    "\n",
    "В Django веб-страницы и другой контент предоставляются посредством представлений. Каждое представление представлено функцией Python (или методом, в случае представлений на основе классов). Django выберет представление, проверив запрошенный URL-адрес (точнее, часть URL-адреса после имени домена).\n",
    "\n",
    "За время пребывания в сети вы, возможно, встречали таких красавиц, как _`ME2/Sites/dirmod.htm?sid=&type=gen&mod=Core+Pages&gid=A6CD4967199A42D9B65B1B`_. Вам будет приятно узнать, что Django позволяет нам использовать гораздо более элегантные шаблоны URL.\n",
    "\n",
    "__`Шаблон URL-адреса`__ — это общая форма URL-адреса, например: /newsarchive/<год>/<месяц>/.\n",
    "\n",
    "Чтобы перейти от URL-адреса к представлению, Django использует так называемые `«URLconfs»`. URLconf сопоставляет шаблоны URL с представлениями.\n",
    "\n",
    "В этом руководстве представлены базовые инструкции по использованию `URLconfs`, и вы можете обратиться к диспетчеру URL-адресов для получения дополнительной информации.\n",
    "\n",
    "# Writing more views\n",
    "\n",
    "Теперь давайте добавим еще несколько просмотров (views) в `mysite/polls/views.py`. Эти взгляды немного отличаются, поскольку они принимают аргумент:"
   ]
  },
  {
   "cell_type": "code",
   "execution_count": null,
   "id": "7d3c357a",
   "metadata": {},
   "outputs": [],
   "source": [
    "# mysite/polls/views.py\n",
    "\n",
    "# ...\n",
    "\n",
    "def detail(request, question_id):\n",
    "    return HttpResponse(\"You're looking at question %s.\" % question_id)\n",
    "\n",
    "\n",
    "def results(request, question_id):\n",
    "    response = \"You're looking at the results of question %s.\"\n",
    "    return HttpResponse(response % question_id)\n",
    "\n",
    "\n",
    "def vote(request, question_id):\n",
    "    return HttpResponse(\"You're voting on question %s.\" % question_id)"
   ]
  },
  {
   "cell_type": "markdown",
   "id": "dbc90b4a",
   "metadata": {},
   "source": [
    "Подключите эти новые представления к модулю `polls.urls`, добавив следующие вызовы path():"
   ]
  },
  {
   "cell_type": "code",
   "execution_count": null,
   "id": "0ae7c88a",
   "metadata": {},
   "outputs": [],
   "source": [
    "# mysite/polls/urls.py\n",
    "\n",
    "from django.urls import path\n",
    "from . import views\n",
    "\n",
    "urlpatterns = [\n",
    "    # ex: /polls/\n",
    "    path(\"\", views.index, name=\"index\"),\n",
    "    # ex: /polls/5/\n",
    "    path(\"<int:question_id>/\", views.detail, name=\"detail\"),\n",
    "    # ex: /polls/5/results/\n",
    "    path(\"<int:question_id>/results/\", views.results, name=\"results\"),\n",
    "    # ex: /polls/5/vote/\n",
    "    path(\"<int:question_id>/vote/\", views.vote, name=\"vote\"),\n",
    "]"
   ]
  },
  {
   "cell_type": "markdown",
   "id": "d32769b1",
   "metadata": {},
   "source": [
    "Посмотрите в своем браузере _`«/polls/34/»`_. Он запустит метод Detail() и отобразит любой идентификатор, который вы указали в URL-адресе. Попробуйте также _`«/polls/34/results/»`_ и _`«/polls/34/vote/»`_ — они отобразят результаты-заполнители и страницы голосования.\n",
    "\n",
    "Когда кто-то запрашивает страницу с вашего веб-сайта, скажем, _`«/polls/34/»`_, Django загрузит модуль Python mysite.urls, поскольку на него указывает параметр `ROOT_URLCONF`. Он находит переменную с именем `urlpatterns` и просматривает шаблоны по порядку. Найдя совпадение в _`polls/`_, он удаляет соответствующий текст (\"polls/\") и отправляет оставшийся текст - _`\"34/\"`_ - в URLconf __`polls.urls`__ для дальнейшей обработки. Там он соответствует `<int:question_id>/`, что приводит к вызову представления Detail() следующим образом:\n",
    "```\n",
    "detail(request=<HttpRequest object>, question_id=34)\n",
    "```\n",
    "Часть `question_id=34` берется из `<int:question_id>`. Использование угловых скобок «захватывает» часть URL-адреса и отправляет ее в качестве аргумента ключевого слова в функцию просмотра. `question_id` определяет имя, которое будет использоваться для идентификации совпадающего шаблона, а часть `int` представляет собой преобразователь, который определяет, какие шаблоны должны соответствовать этой части пути URL. Двоеточие `(:)` разделяет имя конвертера и шаблона.\n",
    "\n",
    "### Пишите представления, которые действительно что-то делают\n",
    "\n",
    "Каждое представление отвечает за одно из двух действий: \n",
    "1. возврат объекта `HttpResponse`, содержащего содержимое запрошенной страницы, \n",
    "2. создание исключения, например `Http404`. Остальное зависит от тебя.\n",
    "\n",
    "Ваше представление может читать записи из базы данных или нет. Он может использовать систему шаблонов, такую как Django, или стороннюю систему шаблонов Python, или нет. Он может генерировать PDF-файл, выводить XML, создавать ZIP-файл «на лету» и делать все, что вы захотите, используя любые библиотеки Python.\n",
    "\n",
    "Все, что нужно Django, — это __`HttpResponse`__. Или исключение.\n",
    "\n",
    "Поскольку это удобно, давайте воспользуемся собственным API базы данных Django, который мы рассмотрели в уроке 2. Вот один из примеров нового представления index(), которое отображает 5 последних вопросов опроса в системе, разделенных запятыми, в зависимости от даты публикации:\n"
   ]
  },
  {
   "cell_type": "code",
   "execution_count": null,
   "id": "3e8b8c48",
   "metadata": {},
   "outputs": [],
   "source": [
    "# mysite/polls/views.py\n",
    "\n",
    "# ...\n",
    "\n",
    "from django.http import HttpResponse\n",
    "from .models import Question\n",
    "\n",
    "\n",
    "def index(request):\n",
    "    latest_question_list = Question.objects.order_by(\"-pub_date\")[:5]\n",
    "    output = \", \".join([q.question_text for q in latest_question_list])\n",
    "    return HttpResponse(output)\n",
    "\n",
    "# ...\n",
    "\n",
    "# Leave the rest of the views (detail, results, vote) unchanged"
   ]
  },
  {
   "cell_type": "markdown",
   "id": "7f3eaf0a",
   "metadata": {},
   "source": [
    "Однако здесь есть проблема: дизайн страницы жестко запрограммирован в представлении. Если вы хотите изменить внешний вид страницы, вам придется отредактировать этот код Python. Итак, давайте воспользуемся системой шаблонов Django, чтобы отделить дизайн от Python, создав шаблон, который может использовать представление.\n",
    "\n",
    "Сначала создайте каталог под названием `templates` в каталоге `polls`. Django будет искать там шаблоны.\n",
    "\n",
    "Параметр `TEMPLATES` вашего проекта описывает, как Django будет загружать и отображать шаблоны. Файл настроек по умолчанию настраивает серверную часть `DjangoTemplates`, для параметра `APP_DIRS` которого установлено значение `True`. По соглашению `DjangoTemplates` ищет подкаталог `templates`в каждом из `INSTALLED_APPS.`\n",
    "\n",
    "В каталоге шаблонов, который вы только что создали, создайте еще один каталог под названием `polls` и внутри него создайте файл `index.html`. Другими словами, ваш шаблон должен находиться по адресу __`mysite/polls/templates/polls/index.html`__. Поскольку загрузчик шаблонов `app_directories` работает, как описано выше, вы можете ссылаться на этот шаблон в Django как `polls/index.html`.\n",
    "\n",
    "> Пространство имен шаблонов\n",
    "```\n",
    "Теперь нам, возможно, удастся поместить наши шаблоны непосредственно в polls/templates (вместо того, чтобы создавать еще один подкаталог опросов), но на самом деле это было бы плохой идеей. Django выберет первый найденный шаблон, имя которого совпадает, и если у вас есть шаблон с таким же именем в другом приложении, Django не сможет различить их. Нам нужно иметь возможность указать Django на правильный путь, и лучший способ обеспечить это — создать для них пространство имен. То есть, поместив эти шаблоны в другой каталог, названный в честь самого приложения.\n",
    "```\n",
    "Поместите следующий код в этот шаблон:"
   ]
  },
  {
   "cell_type": "code",
   "execution_count": null,
   "id": "ff6106e3",
   "metadata": {},
   "outputs": [],
   "source": [
    "# mysite/polls/templates/polls/index.html\n",
    "\n",
    "# ...\n",
    "\n",
    "{% if latest_question_list %}\n",
    "    <ul>\n",
    "    {% for question in latest_question_list %}\n",
    "        <li><a href=\"/polls/{{ question.id }}/\">{{ question.question_text }}</a></li>\n",
    "    {% endfor %}\n",
    "    </ul>\n",
    "{% else %}\n",
    "    <p>No polls are available.</p>\n",
    "{% endif %}\n",
    "\n",
    "# ..."
   ]
  },
  {
   "cell_type": "markdown",
   "id": "4316867b",
   "metadata": {},
   "source": [
    "> Примечание\n",
    "```\n",
    "Чтобы сделать руководство короче, во всех примерах шаблонов используется неполный HTML. В своих проектах вам следует использовать полные HTML-документы.\n",
    "```\n",
    "Теперь давайте обновим наше индексное представление в `polls/views.py`, чтобы использовать шаблон:"
   ]
  },
  {
   "cell_type": "code",
   "execution_count": null,
   "id": "caed97c7",
   "metadata": {},
   "outputs": [],
   "source": [
    "# mysite/polls/views.py\n",
    "\n",
    "# ...\n",
    "\n",
    "from django.http import HttpResponse\n",
    "from django.template import loader\n",
    "\n",
    "from .models import Question\n",
    "\n",
    "\n",
    "def index(request):\n",
    "    latest_question_list = Question.objects.order_by(\"-pub_date\")[:5]\n",
    "    template = loader.get_template(\"polls/index.html\")\n",
    "    context = {\n",
    "        \"latest_question_list\": latest_question_list,\n",
    "    }\n",
    "    return HttpResponse(template.render(context, request))\n",
    "\n",
    "# ..."
   ]
  },
  {
   "cell_type": "markdown",
   "id": "f271ec47",
   "metadata": {},
   "source": [
    "Этот код загружает шаблон `polls/index.html` (mysite/polls/templates/polls/index.html) и передает ему контекст. Контекст — это словарь, сопоставляющий имена переменных шаблона с объектами Python.\n",
    "\n",
    "Загрузите страницу, указав в браузере `/polls/`, и вы увидите маркированный список, содержащий вопрос «Что случилось» из урока 2. Ссылка ведет на страницу с подробными сведениями о вопросе.\n",
    "\n",
    "### A shortcut: render()\n",
    "\n",
    "Это очень распространенная идиома: загрузить шаблон, заполнить контекст и вернуть объект `HttpResponse` с результатом визуализированного шаблона. Джанго предоставляет ярлык. Вот полное переписанное представление `index()`:\n"
   ]
  },
  {
   "cell_type": "code",
   "execution_count": null,
   "id": "24f81d01",
   "metadata": {},
   "outputs": [],
   "source": [
    "# mysite/polls/views.py\n",
    "\n",
    "# ...\n",
    "\n",
    "from django.shortcuts import render\n",
    "\n",
    "from .models import Question\n",
    "\n",
    "\n",
    "def index(request):\n",
    "    latest_question_list = Question.objects.order_by(\"-pub_date\")[:5]\n",
    "    context = {\"latest_question_list\": latest_question_list}\n",
    "    return render(request, \"polls/index.html\", context)\n",
    "\n",
    "# ..."
   ]
  },
  {
   "cell_type": "markdown",
   "id": "f7a60f3c",
   "metadata": {},
   "source": [
    "`Обратите внимание:` как только мы сделали это во всех этих представлениях, нам больше не нужно импортировать `loader` и `HttpResponse` (вы захотите сохранить HttpResponse, если у вас все еще есть методы-заглушки для подробностей, результатов и голосования).\n",
    "\n",
    "Функция `render()` принимает объект запроса в качестве первого аргумента, имя шаблона в качестве второго аргумента и словарь в качестве необязательного третьего аргумента. Он возвращает объект HttpResponse данного шаблона, отображаемый с заданным контекстом.\n",
    "\n",
    "### Вызов ошибки 404\n",
    "\n",
    "Теперь давайте займемся представлением подробностей вопроса — страницей, на которой отображается текст вопроса для данного опроса. Вот views:"
   ]
  },
  {
   "cell_type": "code",
   "execution_count": null,
   "id": "9247833d",
   "metadata": {},
   "outputs": [],
   "source": [
    "# mysite/polls/views.py\n",
    "\n",
    "from django.http import Http404\n",
    "from django.shortcuts import render\n",
    "\n",
    "from .models import Question\n",
    "\n",
    "\n",
    "# ...\n",
    "def detail(request, question_id):\n",
    "    try:\n",
    "        question = Question.objects.get(pk=question_id)\n",
    "    except Question.DoesNotExist:\n",
    "        raise Http404(\"Question does not exist\")\n",
    "    return render(request, \"polls/detail.html\", {\"question\": question})"
   ]
  },
  {
   "cell_type": "markdown",
   "id": "5a2eb268",
   "metadata": {},
   "source": [
    "`Новая концепция:` представление вызывает исключение `Http404`, если вопрос с запрошенным идентификатором не существует.\n",
    "\n",
    "Мы обсудим, что вы могли бы поместить в этот шаблон `polls/detail.html` чуть позже, но если вы хотите быстро заставить приведенный выше пример работать, файл, содержащий только: __`polls/templates/polls/detail.html`__\n",
    "\n",
    "```\n",
    "{{ question }}\n",
    "```\n",
    "\n",
    "поможет вам начать сейчас.\n",
    "\n",
    "### A shortcut: get_object_or_404()\n",
    "\n",
    "Очень распространена идиома: использовать `get()` и вызвать `Http404`, если объект не существует. Джанго предоставляет ярлык. Вот переписанное представление Detail():"
   ]
  },
  {
   "cell_type": "code",
   "execution_count": null,
   "id": "2ac20005",
   "metadata": {},
   "outputs": [],
   "source": [
    "# mysite/polls/views.py\n",
    "\n",
    "from django.shortcuts import get_object_or_404, render\n",
    "\n",
    "from .models import Question\n",
    "\n",
    "\n",
    "# ...\n",
    "def detail(request, question_id):\n",
    "    question = get_object_or_404(Question, pk=question_id)\n",
    "    return render(request, \"polls/detail.html\", {\"question\": question})"
   ]
  },
  {
   "cell_type": "markdown",
   "id": "6cbb8bed",
   "metadata": {},
   "source": [
    "Функция `get_object_or_404()` принимает модель Django в качестве первого аргумента и произвольное количество аргументов с ключевым словом, которые передаются в функцию `get()` менеджера модели. Он вызывает `Http404`, если объект не существует.\n",
    "\n",
    "> Философия\n",
    "```\n",
    "Почему мы используем вспомогательную функцию get_object_or_404() вместо автоматического перехвата исключений ObjectDoesNotExist на более высоком уровне или использования API модели для вызова Http404 вместо ObjectDoesNotExist?\n",
    "\n",
    "Потому что это соединило бы уровень модели со слоем представления. Одна из главных целей дизайна Django — поддерживать слабую связанность. Некоторая контролируемая связь представлена в модуле django.shortcuts.\n",
    "```\n",
    "Существует также функция `get_list_or_404()`, которая работает так же, как `get_object_or_404()`, за исключением использования `filter()` вместо `get()`. Он вызывает `Http404`, если список пуст.\n",
    "\n",
    "### Используйте систему шаблонов (Use the template system)\n",
    "\n",
    "Вернёмся к представлению `Detail()` нашего приложения для опроса. Учитывая вопрос о контекстной переменной, вот как может выглядеть шаблон _`polls/detail.html`_:\n"
   ]
  },
  {
   "cell_type": "code",
   "execution_count": null,
   "id": "e3b47f83",
   "metadata": {},
   "outputs": [],
   "source": [
    "# mysite/polls/templates/polls/detail.html\n",
    "\n",
    "<h1>{{ question.question_text }}</h1>\n",
    "<ul>\n",
    "{% for choice in question.choice_set.all %}\n",
    "    <li>{{ choice.choice_text }}</li>\n",
    "{% endfor %}\n",
    "</ul>"
   ]
  },
  {
   "cell_type": "markdown",
   "id": "8f1ab1dc",
   "metadata": {},
   "source": [
    "Система шаблонов использует синтаксис точечного поиска для доступа к атрибутам переменных. В примере `{{ question.question_text }}` сначала Django выполняет поиск в словаре по объекту `question`. В противном случае он пытается выполнить поиск атрибутов, что в данном случае работает. Если бы поиск атрибута не удался, он бы попытался выполнить поиск по индексу списка.\n",
    "\n",
    "Вызов метода происходит в цикле `{% for %}: question.choice_set.all` интерпретируется как код Python `question.choice_set.all()`, который возвращает итерацию объектов `Choice` и подходит для использования в `{% for % }` tag.\n",
    "\n",
    "Дополнительную информацию о шаблонах см. в руководстве по шаблонам.\n",
    "\n",
    "### Удаление жестко запрограммированных URL-адресов в шаблонах\n",
    "\n",
    "Помните, когда мы писали ссылку на вопрос в шаблоне `polls/index.html`, ссылка была частично жестко закодирована следующим образом:"
   ]
  },
  {
   "cell_type": "code",
   "execution_count": null,
   "id": "8e0fbcaa",
   "metadata": {},
   "outputs": [],
   "source": [
    "<li><a href=\"/polls/{{ question.id }}/\">{{ question.question_text }}</a></li>"
   ]
  },
  {
   "cell_type": "markdown",
   "id": "43a3a35d",
   "metadata": {},
   "source": [
    "Проблема с этим жестко запрограммированным, тесно связанным подходом заключается в том, что становится сложно изменять URL-адреса в проектах с большим количеством шаблонов. Однако, поскольку вы определили аргумент name в функциях `path()` в модуле `polls.urls`, вы можете удалить зависимость от конкретных URL-путей, определенных в ваших конфигурациях URL-адресов, с помощью тега шаблона `{% url %}`:"
   ]
  },
  {
   "cell_type": "code",
   "execution_count": null,
   "id": "cf44a9fe",
   "metadata": {},
   "outputs": [],
   "source": [
    "<li><a href=\"{% url 'detail' question.id %}\">{{ question.question_text }}</a></li>"
   ]
  },
  {
   "cell_type": "markdown",
   "id": "ccabe18d",
   "metadata": {},
   "source": [
    "Это работает путем поиска определения URL-адреса, указанного в модуле `polls.urls`. Вы можете увидеть, где именно указано URL-имя `«detail»` ниже:"
   ]
  },
  {
   "cell_type": "code",
   "execution_count": null,
   "id": "8de0953c",
   "metadata": {},
   "outputs": [],
   "source": [
    "...\n",
    "# the 'name' value as called by the {% url %} template tag\n",
    "path(\"<int:question_id>/\", views.detail, name=\"detail\"),\n",
    "..."
   ]
  },
  {
   "cell_type": "markdown",
   "id": "dabb1a4c",
   "metadata": {},
   "source": [
    "Если вы хотите изменить URL-адрес подробного представления опросов на что-то другое, например на `polls/species/12/`, вместо того, чтобы делать это в шаблоне (или шаблонах), вы должны изменить его в `polls/urls.py`:"
   ]
  },
  {
   "cell_type": "code",
   "execution_count": null,
   "id": "ca279049",
   "metadata": {},
   "outputs": [],
   "source": [
    "# mysite/polls/urls.py\n",
    "\n",
    "...\n",
    "# added the word 'specifics'\n",
    "path(\"specifics/<int:question_id>/\", views.detail, name=\"detail\"),\n",
    "..."
   ]
  },
  {
   "cell_type": "markdown",
   "id": "ce9cfaed",
   "metadata": {},
   "source": [
    "### Имена URL-адресов пространства имен\n",
    "\n",
    "В учебном проекте есть только одно приложение — __`polls`__. В реальных проектах Django может быть пять, десять, двадцать приложений и более. Как Django различает имена URL-адресов между ними? Например, приложение для опросов имеет подробное представление, как и приложение для блога, работающее в том же проекте. Как сделать так, чтобы Django знал, какое представление приложения создать для URL-адреса при использовании тега шаблона `{% url %}`?\n",
    "\n",
    "Ответ заключается в добавлении пространств имен в ваш `URLconf`. В файле `polls/urls.py` добавьте `app_name`, чтобы задать пространство имен приложения:"
   ]
  },
  {
   "cell_type": "code",
   "execution_count": null,
   "id": "0c6e5b2f",
   "metadata": {},
   "outputs": [],
   "source": [
    "# mysite/polls/urls.py\n",
    "\n",
    "from django.urls import path\n",
    "\n",
    "from . import views\n",
    "\n",
    "app_name = \"polls\"\n",
    "urlpatterns = [\n",
    "    path(\"\", views.index, name=\"index\"),\n",
    "    path(\"<int:question_id>/\", views.detail, name=\"detail\"),\n",
    "    path(\"<int:question_id>/results/\", views.results, name=\"results\"),\n",
    "    path(\"<int:question_id>/vote/\", views.vote, name=\"vote\"),\n",
    "]"
   ]
  },
  {
   "cell_type": "markdown",
   "id": "6436780f",
   "metadata": {},
   "source": [
    "Теперь измените шаблон `polls/index.html` на:"
   ]
  },
  {
   "cell_type": "code",
   "execution_count": null,
   "id": "df83a364",
   "metadata": {},
   "outputs": [],
   "source": [
    "# mysite/polls/templates/polls/index.html\n",
    "\n",
    "<li><a href=\"{% url 'detail' question.id %}\">{{ question.question_text }}</a></li>"
   ]
  },
  {
   "cell_type": "markdown",
   "id": "bbe00a64",
   "metadata": {},
   "source": [
    "чтобы указать на подробное представление пространства имен:\n",
    "    "
   ]
  },
  {
   "cell_type": "code",
   "execution_count": null,
   "id": "e4a214d9",
   "metadata": {},
   "outputs": [],
   "source": [
    "# mysite/polls/templates/polls/index.html\n",
    "\n",
    "<li><a href=\"{% url 'polls:detail' question.id %}\">{{ question.question_text }}</a></li>"
   ]
  },
  {
   "cell_type": "markdown",
   "id": "ae51eff3",
   "metadata": {},
   "source": [
    "Когда вы освоитесь с написанием представлений, прочитайте часть 4 этого руководства, чтобы изучить основы обработки форм и общих представлений."
   ]
  },
  {
   "cell_type": "markdown",
   "id": "ab903f0d",
   "metadata": {},
   "source": [
    "# RESUME:\n",
    "\n",
    "64. `mysite/polls/views.py` -> создаём три представления detail, results, vote.\n",
    "65. `mysite/polls/urls.py` -> подключаем представления к модулю polls/urls.py\n",
    "66. `mysite/polls/views.py` -> пишем новое представление def index()\n",
    "67. `mysite/polls/templates/polls/` -> создаём новые директории для шаблонов /templates/polls/\n",
    "68. `mysite/polls/templates/polls/index.html` -> создаём хтмл документ для странички index.html\n",
    "69. `mysite/polls/views.py` -> обновляем индексное представление def index()\n",
    "70. `mysite/polls/views.py` -> смотрим ещё один вариант функции представления def index()\n",
    "71. `mysite/polls/views.py` -> def detail работаем с этим представлением, трай эсепт пробуем. \n",
    "72. `mysite/polls/templates/polls/detail.html` -> Создаём шаблон хтмл для созданного ранее представления. detail.html\n",
    "73. `mysite/polls/urls.py` -> меняем адреса"
   ]
  },
  {
   "cell_type": "code",
   "execution_count": null,
   "id": "3489eae5",
   "metadata": {},
   "outputs": [],
   "source": []
  }
 ],
 "metadata": {
  "kernelspec": {
   "display_name": "Python 3 (ipykernel)",
   "language": "python",
   "name": "python3"
  },
  "language_info": {
   "codemirror_mode": {
    "name": "ipython",
    "version": 3
   },
   "file_extension": ".py",
   "mimetype": "text/x-python",
   "name": "python",
   "nbconvert_exporter": "python",
   "pygments_lexer": "ipython3",
   "version": "3.8.10"
  }
 },
 "nbformat": 4,
 "nbformat_minor": 5
}

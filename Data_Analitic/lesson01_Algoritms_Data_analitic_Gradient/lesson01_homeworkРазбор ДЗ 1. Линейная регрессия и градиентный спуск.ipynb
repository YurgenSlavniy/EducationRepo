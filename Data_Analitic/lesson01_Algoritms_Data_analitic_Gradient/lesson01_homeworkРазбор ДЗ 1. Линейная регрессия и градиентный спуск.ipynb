{
 "cells": [
  {
   "cell_type": "markdown",
   "metadata": {},
   "source": [
    "### Домашнее задание <a class=\"anchor\" id=\"hw\"></a><center>"
   ]
  },
  {
   "cell_type": "markdown",
   "metadata": {},
   "source": [
    "__Задача:__ предсказание баллов ЕГЭ ученика в зависимости от кол-ва лет стажа его репетитора"
   ]
  },
  {
   "cell_type": "code",
   "execution_count": 1,
   "metadata": {},
   "outputs": [],
   "source": [
    "import numpy as np\n",
    "import warnings\n",
    "warnings.filterwarnings('ignore')"
   ]
  },
  {
   "cell_type": "code",
   "execution_count": 2,
   "metadata": {
    "colab": {},
    "colab_type": "code",
    "id": "i77tZbAd5plB"
   },
   "outputs": [],
   "source": [
    "X = np.array([[ 1,  1],\n",
    "              [ 1,  1],\n",
    "              [ 1,  2],\n",
    "              [ 1,  5],\n",
    "              [ 1,  3],\n",
    "              [ 1,  0],\n",
    "              [ 1,  5],\n",
    "              [ 1, 10],\n",
    "              [ 1,  1],\n",
    "              [ 1,  2]])"
   ]
  },
  {
   "cell_type": "code",
   "execution_count": 3,
   "metadata": {
    "colab": {
     "base_uri": "https://localhost:8080/",
     "height": 34
    },
    "colab_type": "code",
    "id": "ejifaMBe6VaP",
    "outputId": "190a541b-5c6d-48f6-8982-b513de5d7606"
   },
   "outputs": [
    {
     "data": {
      "text/plain": [
       "(10, 2)"
      ]
     },
     "execution_count": 3,
     "metadata": {},
     "output_type": "execute_result"
    }
   ],
   "source": [
    "X.shape"
   ]
  },
  {
   "cell_type": "code",
   "execution_count": 4,
   "metadata": {
    "colab": {},
    "colab_type": "code",
    "id": "VsNrKi1Q6Wmh"
   },
   "outputs": [],
   "source": [
    "y = [45, 55, 50, 55, 60, 35, 75, 80, 50, 60]"
   ]
  },
  {
   "cell_type": "code",
   "execution_count": 5,
   "metadata": {},
   "outputs": [],
   "source": [
    "def calc_mse(y, y_pred):\n",
    "    err = np.mean((y - y_pred)**2)\n",
    "    return err"
   ]
  },
  {
   "cell_type": "markdown",
   "metadata": {
    "colab_type": "text",
    "id": "huXrhXQsZTMt"
   },
   "source": [
    "**1. Подберите скорость обучения (eta) и количество итераций**\n",
    "\n",
    "Можно было пойти двумя путями:\n",
    "\n",
    "*1. Перебирать в цикле скорости обучения и количество итераций*"
   ]
  },
  {
   "cell_type": "code",
   "execution_count": 6,
   "metadata": {},
   "outputs": [
    {
     "data": {
      "text/plain": [
       "array([[ 1,  1],\n",
       "       [ 1,  1],\n",
       "       [ 1,  2],\n",
       "       [ 1,  5],\n",
       "       [ 1,  3],\n",
       "       [ 1,  0],\n",
       "       [ 1,  5],\n",
       "       [ 1, 10],\n",
       "       [ 1,  1],\n",
       "       [ 1,  2]])"
      ]
     },
     "execution_count": 6,
     "metadata": {},
     "output_type": "execute_result"
    }
   ],
   "source": [
    "X"
   ]
  },
  {
   "cell_type": "code",
   "execution_count": 7,
   "metadata": {},
   "outputs": [
    {
     "name": "stdout",
     "output_type": "stream",
     "text": [
      "Лучшая ошибка 43.96875547475652 с параметрами {'eta': 0.1, 'n_iter': 1000}\n"
     ]
    }
   ],
   "source": [
    "n = X.shape[0]\n",
    "\n",
    "etas = [1e-1, 5e-2, 1e-2, 5e-3, 1e-3, 5e-4, 1e-4]\n",
    "n_iters = [10, 100, 250, 500, 800, 1000]\n",
    "\n",
    "best_error = np.inf\n",
    "best_params = {}\n",
    "\n",
    "\n",
    "for eta in etas:\n",
    "    for n_iter in n_iters:\n",
    "        W = np.array([1, 0.5])\n",
    "        curr_eta = eta\n",
    "        \n",
    "        for i in range(n_iter):\n",
    "            y_pred = np.dot(X, W)\n",
    "            err = calc_mse(y, y_pred)\n",
    "            for k in range(W.shape[0]):\n",
    "                W[k] -= curr_eta * (1/n * 2 * X[:, k] @ (y_pred - y))\n",
    "            if i % 10 == 0:\n",
    "                curr_eta /= 1.1\n",
    "#                 print(f'Iteration #{i}: W_new = {W}, MSE = {round(err, 2)}')\n",
    "                \n",
    "        if err < best_error:\n",
    "            best_error = err\n",
    "            best_params = {\n",
    "                'eta': eta,\n",
    "                'n_iter': n_iter\n",
    "            }\n",
    "print(f'Лучшая ошибка {best_error} с параметрами {best_params}')"
   ]
  },
  {
   "cell_type": "markdown",
   "metadata": {},
   "source": [
    "*2. Перебирать вручную*"
   ]
  },
  {
   "cell_type": "code",
   "execution_count": 8,
   "metadata": {
    "colab": {
     "base_uri": "https://localhost:8080/",
     "height": 185
    },
    "colab_type": "code",
    "id": "IDB22MQKMYaJ",
    "outputId": "4c03219e-a57c-4583-f439-6699fd0619bb",
    "scrolled": true
   },
   "outputs": [
    {
     "name": "stdout",
     "output_type": "stream",
     "text": [
      "Number of objects = 10        \n",
      "Learning rate = 0.1        \n",
      "Initial weights = [1.  0.5] \n",
      "\n",
      "Iteration #0: W_new = [11.8 38.2], MSE = 3047.75\n",
      "Iteration #10: W_new = [12651.73553914 69617.0969639 ], MSE = 18310954068.05\n",
      "Iteration #20: W_new = [ 7732434.81888022 42641607.3785219 ], MSE = 9128819654907584.0\n",
      "Iteration #30: W_new = [1.06344502e+09 5.86454589e+09], MSE = 2.327920364266852e+20\n",
      "Iteration #40: W_new = [3.00127077e+10 1.65510116e+11], MSE = 2.545133529815946e+23\n",
      "Iteration #50: W_new = [1.55345341e+11 8.56677968e+11], MSE = 9.572295620500115e+24\n",
      "Iteration #60: W_new = [1.27742291e+11 7.04456313e+11], MSE = 9.35148012647598e+24\n",
      "Iteration #70: W_new = [1.38141953e+10 7.61806995e+10], MSE = 1.6408589528283862e+23\n",
      "Iteration #80: W_new = [1.51674189e+08 8.36432543e+08], MSE = 3.1255335378744607e+19\n",
      "Iteration #90: W_new = [116395.49982335 641638.79865344], MSE = 31317286806394.33\n",
      "Iteration #100: W_new = [48.41962396 22.99884644], MSE = 53518.86\n",
      "Iteration #110: W_new = [44.97713118  3.82798845], MSE = 43.97\n",
      "Iteration #120: W_new = [44.99893245  3.82402699], MSE = 43.97\n",
      "Iteration #130: W_new = [45.01386326  3.82131952], MSE = 43.97\n",
      "Iteration #140: W_new = [45.0243589  3.8194163], MSE = 43.97\n",
      "Iteration #150: W_new = [45.03191376  3.81804634], MSE = 43.97\n",
      "Iteration #160: W_new = [45.03746993  3.81703882], MSE = 43.97\n",
      "Iteration #170: W_new = [45.04163658  3.81628326], MSE = 43.97\n",
      "Iteration #180: W_new = [45.04481694  3.81570655], MSE = 43.97\n",
      "Iteration #190: W_new = [45.04728371  3.81525924], MSE = 43.97\n",
      "Iteration #200: W_new = [45.04922507  3.8149072 ], MSE = 43.97\n",
      "Iteration #210: W_new = [45.05077324  3.81462647], MSE = 43.97\n",
      "Iteration #220: W_new = [45.05202275  3.81439989], MSE = 43.97\n",
      "Iteration #230: W_new = [45.05304225  3.81421502], MSE = 43.97\n",
      "Iteration #240: W_new = [45.05388235  3.81406268], MSE = 43.97\n",
      "Iteration #250: W_new = [45.05458086  3.81393601], MSE = 43.97\n",
      "Iteration #260: W_new = [45.05516639  3.81382984], MSE = 43.97\n",
      "Iteration #270: W_new = [45.05566087  3.81374017], MSE = 43.97\n",
      "Iteration #280: W_new = [45.05608128  3.81366394], MSE = 43.97\n",
      "Iteration #290: W_new = [45.0564409   3.81359872], MSE = 43.97\n",
      "Iteration #300: W_new = [45.05675023  3.81354263], MSE = 43.97\n",
      "Iteration #310: W_new = [45.05701766  3.81349414], MSE = 43.97\n",
      "Iteration #320: W_new = [45.05724991  3.81345202], MSE = 43.97\n",
      "Iteration #330: W_new = [45.05745247  3.81341529], MSE = 43.97\n",
      "Iteration #340: W_new = [45.05762978  3.81338314], MSE = 43.97\n",
      "Iteration #350: W_new = [45.05778555  3.81335489], MSE = 43.97\n",
      "Iteration #360: W_new = [45.0579228  3.81333  ], MSE = 43.97\n",
      "Iteration #370: W_new = [45.05804409  3.81330801], MSE = 43.97\n",
      "Iteration #380: W_new = [45.05815155  3.81328852], MSE = 43.97\n",
      "Iteration #390: W_new = [45.05824698  3.81327122], MSE = 43.97\n",
      "Iteration #400: W_new = [45.05833191  3.81325582], MSE = 43.97\n",
      "Iteration #410: W_new = [45.05840763  3.81324209], MSE = 43.97\n",
      "Iteration #420: W_new = [45.05847528  3.81322982], MSE = 43.97\n",
      "Iteration #430: W_new = [45.0585358   3.81321885], MSE = 43.97\n",
      "Iteration #440: W_new = [45.05859002  3.81320901], MSE = 43.97\n",
      "Iteration #450: W_new = [45.05863866  3.81320019], MSE = 43.97\n",
      "Iteration #460: W_new = [45.05868236  3.81319227], MSE = 43.97\n",
      "Iteration #470: W_new = [45.05872165  3.81318514], MSE = 43.97\n",
      "Iteration #480: W_new = [45.05875702  3.81317873], MSE = 43.97\n",
      "Iteration #490: W_new = [45.05878888  3.81317295], MSE = 43.97\n"
     ]
    }
   ],
   "source": [
    "n = X.shape[0]\n",
    "\n",
    "eta = 0.1\n",
    "n_iter = 500\n",
    "\n",
    "W = np.array([1, 0.5])\n",
    "print(f'Number of objects = {n} \\\n",
    "       \\nLearning rate = {eta} \\\n",
    "       \\nInitial weights = {W} \\n')\n",
    "\n",
    "for i in range(n_iter):\n",
    "    y_pred = np.dot(X, W)\n",
    "    err = calc_mse(y, y_pred)\n",
    "    for k in range(W.shape[0]):\n",
    "        W[k] -= eta * (1/n * 2 * X[:, k] @ (y_pred - y))\n",
    "    if i % 10 == 0:\n",
    "        eta /= 1.1\n",
    "#         print(eta)\n",
    "        print(f'Iteration #{i}: W_new = {W}, MSE = {round(err, 2)}')"
   ]
  },
  {
   "attachments": {
    "image.png": {
     "image/png": "[encoded data removed]"
    }
   },
   "cell_type": "markdown",
   "metadata": {},
   "source": [
    "![image.png](attachment:image.png)"
   ]
  },
  {
   "cell_type": "markdown",
   "metadata": {
    "colab_type": "text",
    "id": "5Qu1o4JhZYwI"
   },
   "source": [
    "2*. В этом коде мы избавляемся от итераций по весам, но тут есть ошибка, исправьте ее"
   ]
  },
  {
   "cell_type": "code",
   "execution_count": 9,
   "metadata": {},
   "outputs": [
    {
     "data": {
      "text/plain": [
       "((2, 10), 10)"
      ]
     },
     "execution_count": 9,
     "metadata": {},
     "output_type": "execute_result"
    }
   ],
   "source": [
    "(X.T).shape, len(y)"
   ]
  },
  {
   "cell_type": "code",
   "execution_count": 10,
   "metadata": {},
   "outputs": [
    {
     "name": "stdout",
     "output_type": "stream",
     "text": [
      "Number of objects = 10        \n",
      "Learning rate = 0.01        \n",
      "Initial weights = [1.  0.5] \n",
      "\n",
      "Iteration #0: W_new = [2.08 4.27], MSE = 3047.75\n",
      "Iteration #100: W_new = [28.38281518  6.83710367], MSE = 177.43\n",
      "Iteration #200: W_new = [38.38986469  5.02247953], MSE = 65.33\n",
      "Iteration #300: W_new = [42.39314129  4.29654705], MSE = 47.39\n",
      "Iteration #400: W_new = [43.99463466  4.00614091], MSE = 44.52\n",
      "Iteration #500: W_new = [44.63530512  3.8899652 ], MSE = 44.06\n",
      "Iteration #600: W_new = [44.89160255  3.84348962], MSE = 43.98\n"
     ]
    }
   ],
   "source": [
    "n = X.shape[0]\n",
    "\n",
    "eta = 1e-2\n",
    "n_iter = 700\n",
    "\n",
    "W = np.array([1, 0.5])\n",
    "print(f'Number of objects = {n} \\\n",
    "       \\nLearning rate = {eta} \\\n",
    "       \\nInitial weights = {W} \\n')\n",
    "\n",
    "for i in range(n_iter):\n",
    "    y_pred = np.dot(X, W)\n",
    "    err = calc_mse(y, y_pred)\n",
    "#     for k in range(W.shape[0]):\n",
    "#         W[k] -= eta * (1/n * 2 * X[:, k] @ (y_pred - y))\n",
    "\n",
    "    # ИЗМЕНЕНИЯ\n",
    "#     print(X.shape, (y_pred - y).shape)\n",
    "#     print(W.shape)\n",
    "    W -= eta * (1/n * 2 * np.dot(X.T, y_pred - y))\n",
    "    #\n",
    "    if i % 100 == 0:\n",
    "        print(f'Iteration #{i}: W_new = {W}, MSE = {round(err,2)}')"
   ]
  },
  {
   "cell_type": "markdown",
   "metadata": {},
   "source": [
    "**3*. Вместо того, чтобы задавать количество итераций, задайте другое условие останова алгоритма - когда веса перестают изменяться меньше определенного порога $\\epsilon$.**"
   ]
  },
  {
   "cell_type": "markdown",
   "metadata": {},
   "source": [
    "L1, L2"
   ]
  },
  {
   "cell_type": "code",
   "execution_count": 11,
   "metadata": {},
   "outputs": [
    {
     "data": {
      "text/plain": [
       "4.237924020083418"
      ]
     },
     "execution_count": 11,
     "metadata": {},
     "output_type": "execute_result"
    }
   ],
   "source": [
    "weights0 = np.array([1, 0.5])\n",
    "weights1 = np.array([5, 1.9])\n",
    "np.linalg.norm(weights0 - weights1, ord=2)"
   ]
  },
  {
   "cell_type": "code",
   "execution_count": 12,
   "metadata": {},
   "outputs": [],
   "source": [
    "import matplotlib.pyplot as plt\n",
    "\n",
    "def plot_vectors(a, b):\n",
    "    fig, ax = plt.subplots(figsize=(8, 5))\n",
    "    ax.plot([a[0]], [a[1]], '*')\n",
    "    ax.plot([b[0]], [b[1]], '+')\n",
    "    ax.set_xlabel('intercept')\n",
    "    ax.set_ylabel('w1')\n",
    "    return ax"
   ]
  },
  {
   "cell_type": "code",
   "execution_count": 13,
   "metadata": {},
   "outputs": [
    {
     "data": {
      "image/png": "[encoded data removed]",
      "text/plain": [
       "<Figure size 576x360 with 1 Axes>"
      ]
     },
     "metadata": {
      "needs_background": "light"
     },
     "output_type": "display_data"
    }
   ],
   "source": [
    "ax = plot_vectors(weights0, weights1)\n",
    "ax.plot([weights0[0], weights1[0]], [weights0[1], weights1[1]]);"
   ]
  },
  {
   "cell_type": "code",
   "execution_count": 14,
   "metadata": {},
   "outputs": [
    {
     "data": {
      "text/plain": [
       "4.237924020083418"
      ]
     },
     "execution_count": 14,
     "metadata": {},
     "output_type": "execute_result"
    }
   ],
   "source": [
    "# a**2 + b**2 = c**2\n",
    "((5-1)**2 + (1.9-0.5)**2)**0.5"
   ]
  },
  {
   "cell_type": "code",
   "execution_count": 15,
   "metadata": {},
   "outputs": [
    {
     "data": {
      "image/png": "[encoded data removed]",
      "text/plain": [
       "<Figure size 576x360 with 1 Axes>"
      ]
     },
     "metadata": {
      "needs_background": "light"
     },
     "output_type": "display_data"
    }
   ],
   "source": [
    "ax = plot_vectors(weights0, weights1)\n",
    "ax.plot([weights0[0], weights1[0]], [weights0[1], weights0[1]], c='r')\n",
    "ax.plot([weights1[0], weights1[0]], [weights0[1], weights1[1]], c='r');"
   ]
  },
  {
   "cell_type": "code",
   "execution_count": 16,
   "metadata": {},
   "outputs": [
    {
     "data": {
      "text/plain": [
       "5.4"
      ]
     },
     "execution_count": 16,
     "metadata": {},
     "output_type": "execute_result"
    }
   ],
   "source": [
    "np.linalg.norm(weights0 - weights1, ord=1)"
   ]
  },
  {
   "cell_type": "code",
   "execution_count": 17,
   "metadata": {},
   "outputs": [
    {
     "data": {
      "text/plain": [
       "5.4"
      ]
     },
     "execution_count": 17,
     "metadata": {},
     "output_type": "execute_result"
    }
   ],
   "source": [
    "abs(5-1) + abs(1.9-0.5)"
   ]
  },
  {
   "cell_type": "code",
   "execution_count": 18,
   "metadata": {},
   "outputs": [
    {
     "name": "stdout",
     "output_type": "stream",
     "text": [
      "Number of objects = 10        \n",
      "Learning rate = 0.01        \n",
      "Initial weights = [1.  0.5] \n",
      "\n",
      "Iteration #0: W_new = [2.08 4.27], MSE = 3047.75\n",
      "Iteration #10: W_new = [ 7.0011236 10.6169007], MSE = 738.65\n",
      "Iteration #20: W_new = [10.3486292  10.10603105], MSE = 622.03\n",
      "Iteration #30: W_new = [13.38789582  9.55618391], MSE = 525.24\n",
      "Iteration #40: W_new = [16.16088505  9.05336203], MSE = 444.66\n",
      "Iteration #50: W_new = [18.69110735  8.59454545], MSE = 377.58\n",
      "Iteration #60: W_new = [20.99981865  8.17589626], MSE = 321.72\n",
      "Iteration #70: W_new = [23.10641138  7.79389815], MSE = 275.22\n",
      "Iteration #80: W_new = [25.02858024  7.44534246], MSE = 236.5\n",
      "Iteration #90: W_new = [26.78247081  7.12730145], MSE = 204.27\n",
      "Iteration #100: W_new = [28.38281518  6.83710367], MSE = 177.43\n",
      "Iteration #110: W_new = [29.84305573  6.57231156], MSE = 155.08\n",
      "Iteration #120: W_new = [31.17545797  6.33070096], MSE = 136.48\n",
      "Iteration #130: W_new = [32.39121367  6.11024241], MSE = 120.99\n",
      "Iteration #140: W_new = [33.50053475  5.90908413], MSE = 108.09\n",
      "Iteration #150: W_new = [34.51273915  5.72553647], MSE = 97.36\n",
      "Iteration #160: W_new = [35.43632906  5.55805768], MSE = 88.42\n",
      "Iteration #170: W_new = [36.27906231  5.405241  ], MSE = 80.98\n",
      "Iteration #180: W_new = [37.0480176   5.26580281], MSE = 74.78\n",
      "Iteration #190: W_new = [37.74965389  5.13857189], MSE = 69.62\n",
      "Iteration #200: W_new = [38.38986469  5.02247953], MSE = 65.33\n",
      "Iteration #210: W_new = [38.97402756  4.9165506 ], MSE = 61.75\n",
      "Iteration #220: W_new = [39.50704928  4.81989533], MSE = 58.77\n",
      "Iteration #230: W_new = [39.99340705  4.73170185], MSE = 56.29\n",
      "Iteration #240: W_new = [40.43718613  4.65122936], MSE = 54.23\n",
      "Iteration #250: W_new = [40.84211409  4.57780191], MSE = 52.51\n",
      "Iteration #260: W_new = [41.21159221  4.51080275], MSE = 51.08\n",
      "Iteration #270: W_new = [41.54872398  4.4496691 ], MSE = 49.89\n",
      "Iteration #280: W_new = [41.8563412   4.39388747], MSE = 48.9\n",
      "Iteration #290: W_new = [42.13702774  4.34298929], MSE = 48.07\n",
      "Iteration #300: W_new = [42.39314129  4.29654705], MSE = 47.39\n",
      "Iteration #310: W_new = [42.6268331   4.25417064], MSE = 46.81\n",
      "Iteration #320: W_new = [42.84006612  4.21550412], MSE = 46.34\n",
      "Iteration #330: W_new = [43.03463143  4.1802227 ], MSE = 45.94\n",
      "Iteration #340: W_new = [43.21216332  4.14803003], MSE = 45.61\n",
      "Iteration #350: W_new = [43.37415299  4.1186557 ], MSE = 45.34\n",
      "Iteration #360: W_new = [43.5219611   4.09185298], MSE = 45.11\n",
      "Iteration #370: W_new = [43.6568292   4.06739673], MSE = 44.92\n",
      "Iteration #380: W_new = [43.77989013  4.04508153], MSE = 44.76\n",
      "Iteration #390: W_new = [43.89217756  4.02471993], MSE = 44.63\n",
      "Iteration #400: W_new = [43.99463466  4.00614091], MSE = 44.52\n",
      "Iteration #410: W_new = [44.08812206  3.98918842], MSE = 44.42\n",
      "Iteration #420: W_new = [44.173425    3.97372004], MSE = 44.35\n",
      "Iteration #430: W_new = [44.25126001  3.95960587], MSE = 44.28\n",
      "Iteration #440: W_new = [44.32228086  3.94672733], MSE = 44.23\n",
      "Iteration #450: W_new = [44.38708413  3.93497626], MSE = 44.19\n",
      "Iteration #460: W_new = [44.44621412  3.92425394], MSE = 44.15\n",
      "Iteration #470: W_new = [44.50016751  3.91447033], MSE = 44.12\n",
      "Iteration #480: W_new = [44.5493975   3.90554323], MSE = 44.1\n",
      "Iteration #490: W_new = [44.5943176   3.89739766], MSE = 44.07\n",
      "Iteration #500: W_new = [44.63530512  3.8899652 ], MSE = 44.06\n",
      "Iteration #510: W_new = [44.67270435  3.88318343], MSE = 44.04\n",
      "Iteration #520: W_new = [44.70682942  3.87699538], MSE = 44.03\n",
      "Iteration #530: W_new = [44.73796697  3.87134906], MSE = 44.02\n",
      "Iteration #540: W_new = [44.76637856  3.86619706], MSE = 44.01\n",
      "Iteration #550: W_new = [44.79230282  3.86149609], MSE = 44.0\n",
      "Iteration #560: W_new = [44.81595752  3.85720668], MSE = 44.0\n",
      "Iteration #570: W_new = [44.83754134  3.85329279], MSE = 43.99\n",
      "Iteration #580: W_new = [44.85723558  3.84972154], MSE = 43.99\n",
      "Iteration #590: W_new = [44.87520567  3.84646294], MSE = 43.99\n",
      "Iteration #600: W_new = [44.89160255  3.84348962], MSE = 43.98\n",
      "Iteration #610: W_new = [44.90656394  3.8407766 ], MSE = 43.98\n",
      "Iteration #620: W_new = [44.92021553  3.83830109], MSE = 43.98\n",
      "Iteration #630: W_new = [44.93267197  3.83604231], MSE = 43.98\n",
      "Iteration #640: W_new = [44.94403791  3.83398127], MSE = 43.98\n",
      "Iteration #650: W_new = [44.95440879  3.83210067], MSE = 43.97\n",
      "Iteration #660: W_new = [44.96387175  3.83038471], MSE = 43.97\n",
      "Iteration #670: W_new = [44.97250627  3.82881898], MSE = 43.97\n",
      "Iteration #680: W_new = [44.98038486  3.82739031], MSE = 43.97\n",
      "Iteration #690: W_new = [44.98757372  3.82608673], MSE = 43.97\n",
      "Iteration #700: W_new = [44.99413322  3.82489726], MSE = 43.97\n",
      "Iteration #710: W_new = [45.00011846  3.82381193], MSE = 43.97\n",
      "Iteration #720: W_new = [45.00557972  3.82282162], MSE = 43.97\n",
      "Iteration #730: W_new = [45.01056286  3.821918  ], MSE = 43.97\n",
      "Iteration #740: W_new = [45.01510975  3.82109349], MSE = 43.97\n",
      "Iteration #750: W_new = [45.01925858  3.82034116], MSE = 43.97\n",
      "Iteration #760: W_new = [45.0230442  3.8196547], MSE = 43.97\n",
      "Iteration #770: W_new = [45.0264984   3.81902834], MSE = 43.97\n",
      "Iteration #780: W_new = [45.0296502   3.81845681], MSE = 43.97\n",
      "Iteration #790: W_new = [45.03252607  3.81793531], MSE = 43.97\n",
      "Iteration #800: W_new = [45.03515017  3.81745947], MSE = 43.97\n",
      "Iteration #810: W_new = [45.03754454  3.81702529], MSE = 43.97\n",
      "Iteration #820: W_new = [45.03972929  3.81662912], MSE = 43.97\n",
      "Iteration #830: W_new = [45.04172277  3.81626763], MSE = 43.97\n",
      "Iteration #840: W_new = [45.04354174  3.81593779], MSE = 43.97\n",
      "Iteration #850: W_new = [45.04520146  3.81563682], MSE = 43.97\n",
      "Iteration #860: W_new = [45.04671588  3.81536221], MSE = 43.97\n",
      "Iteration #870: W_new = [45.04809772  3.81511163], MSE = 43.97\n",
      "Iteration #880: W_new = [45.04935858  3.81488299], MSE = 43.97\n",
      "Iteration #890: W_new = [45.05050906  3.81467437], MSE = 43.97\n",
      "Iteration #900: W_new = [45.05155882  3.81448401], MSE = 43.97\n",
      "Iteration #910: W_new = [45.05251668  3.81431032], MSE = 43.97\n",
      "Iteration #920: W_new = [45.05339068  3.81415184], MSE = 43.97\n",
      "Iteration #930: W_new = [45.05418816  3.81400722], MSE = 43.97\n",
      "Iteration #940: W_new = [45.05491583  3.81387527], MSE = 43.97\n",
      "Iteration #950: W_new = [45.05557979  3.81375487], MSE = 43.97\n",
      "Iteration #960: W_new = [45.05618563  3.81364501], MSE = 43.97\n",
      "Iteration #970: W_new = [45.05673843  3.81354477], MSE = 43.97\n",
      "Iteration #980: W_new = [45.05724283  3.81345331], MSE = 43.97\n",
      "Iteration #990: W_new = [45.05770308  3.81336985], MSE = 43.97\n",
      "Iteration #1000: W_new = [45.05812303  3.8132937 ], MSE = 43.97\n",
      "Iteration #1010: W_new = [45.05850621  3.81322421], MSE = 43.97\n",
      "Iteration #1020: W_new = [45.05885585  3.81316081], MSE = 43.97\n",
      "Iteration #1030: W_new = [45.05917489  3.81310296], MSE = 43.97\n",
      "Iteration #1040: W_new = [45.05946599  3.81305017], MSE = 43.97\n",
      "Iteration #1050: W_new = [45.0597316   3.81300201], MSE = 43.97\n",
      "Iteration #1060: W_new = [45.05997396  3.81295806], MSE = 43.97\n",
      "Iteration #1070: W_new = [45.06019511  3.81291796], MSE = 43.97\n",
      "Iteration #1080: W_new = [45.06039689  3.81288137], MSE = 43.97\n",
      "Iteration #1090: W_new = [45.06058101  3.81284798], MSE = 43.97\n",
      "Iteration #1100: W_new = [45.06074901  3.81281751], MSE = 43.97\n",
      "Iteration #1110: W_new = [45.0609023   3.81278972], MSE = 43.97\n",
      "Iteration #1120: W_new = [45.06104218  3.81276435], MSE = 43.97\n",
      "Iteration #1130: W_new = [45.0611698   3.81274121], MSE = 43.97\n",
      "Iteration #1140: W_new = [45.06128626  3.81272009], MSE = 43.97\n",
      "Iteration #1150: W_new = [45.06139251  3.81270083], MSE = 43.97\n",
      "Iteration #1160: W_new = [45.06148947  3.81268324], MSE = 43.97\n",
      "Iteration #1170: W_new = [45.06157794  3.8126672 ], MSE = 43.97\n",
      "Iteration #1180: W_new = [45.06165866  3.81265256], MSE = 43.97\n",
      "Iteration #1190: W_new = [45.06173232  3.81263921], MSE = 43.97\n",
      "Iteration #1200: W_new = [45.06179952  3.81262702], MSE = 43.97\n",
      "Iteration #1210: W_new = [45.06186085  3.8126159 ], MSE = 43.97\n",
      "Iteration #1220: W_new = [45.0619168   3.81260575], MSE = 43.97\n",
      "Iteration #1230: W_new = [45.06196786  3.8125965 ], MSE = 43.97\n",
      "Iteration #1240: W_new = [45.06201445  3.81258805], MSE = 43.97\n",
      "Iteration #1250: W_new = [45.06205696  3.81258034], MSE = 43.97\n",
      "Iteration #1260: W_new = [45.06209574  3.81257331], MSE = 43.97\n",
      "Iteration #1270: W_new = [45.06213113  3.81256689], MSE = 43.97\n",
      "Iteration #1280: W_new = [45.06216343  3.81256103], MSE = 43.97\n",
      "Iteration #1290: W_new = [45.06219289  3.81255569], MSE = 43.97\n",
      "Iteration #1300: W_new = [45.06221978  3.81255081], MSE = 43.97\n",
      "Iteration #1310: W_new = [45.06224431  3.81254637], MSE = 43.97\n",
      "Iteration #1320: W_new = [45.06226669  3.81254231], MSE = 43.97\n",
      "Iteration #1330: W_new = [45.06228712  3.8125386 ], MSE = 43.97\n",
      "Iteration #1340: W_new = [45.06230576  3.81253522], MSE = 43.97\n",
      "Iteration #1350: W_new = [45.06232276  3.81253214], MSE = 43.97\n",
      "Iteration #1360: W_new = [45.06233828  3.81252933], MSE = 43.97\n",
      "Iteration #1370: W_new = [45.06235244  3.81252676], MSE = 43.97\n",
      "Iteration #1380: W_new = [45.06236536  3.81252442], MSE = 43.97\n",
      "Iteration #1390: W_new = [45.06237714  3.81252228], MSE = 43.97\n",
      "Iteration #1400: W_new = [45.0623879   3.81252033], MSE = 43.97\n",
      "Iteration #1410: W_new = [45.06239771  3.81251855], MSE = 43.97\n",
      "Iteration #1420: W_new = [45.06240667  3.81251692], MSE = 43.97\n",
      "Iteration #1430: W_new = [45.06241484  3.81251544], MSE = 43.97\n",
      "Iteration #1440: W_new = [45.06242229  3.81251409], MSE = 43.97\n",
      "Iteration #1450: W_new = [45.0624291   3.81251286], MSE = 43.97\n",
      "Iteration #1460: W_new = [45.0624353   3.81251173], MSE = 43.97\n",
      "Iteration #1470: W_new = [45.06244097  3.8125107 ], MSE = 43.97\n",
      "Iteration #1480: W_new = [45.06244614  3.81250977], MSE = 43.97\n",
      "Iteration #1490: W_new = [45.06245085  3.81250891], MSE = 43.97\n",
      "Iteration #1500: W_new = [45.06245515  3.81250813], MSE = 43.97\n",
      "Iteration #1510: W_new = [45.06245908  3.81250742], MSE = 43.97\n",
      "Iteration #1520: W_new = [45.06246266  3.81250677], MSE = 43.97\n",
      "Iteration #1530: W_new = [45.06246593  3.81250618], MSE = 43.97\n",
      "Iteration #1540: W_new = [45.06246891  3.81250564], MSE = 43.97\n",
      "Iteration #1550: W_new = [45.06247164  3.81250514], MSE = 43.97\n",
      "Iteration #1560: W_new = [45.06247412  3.81250469], MSE = 43.97\n",
      "Iteration #1570: W_new = [45.06247638  3.81250428], MSE = 43.97\n",
      "Iteration #1580: W_new = [45.06247845  3.81250391], MSE = 43.97\n",
      "Iteration #1590: W_new = [45.06248034  3.81250357], MSE = 43.97\n"
     ]
    },
    {
     "name": "stdout",
     "output_type": "stream",
     "text": [
      "Iteration #1600: W_new = [45.06248206  3.81250325], MSE = 43.97\n",
      "Iteration #1610: W_new = [45.06248363  3.81250297], MSE = 43.97\n",
      "Iteration #1620: W_new = [45.06248506  3.81250271], MSE = 43.97\n",
      "Iteration #1630: W_new = [45.06248637  3.81250247], MSE = 43.97\n",
      "Iteration #1640: W_new = [45.06248756  3.81250226], MSE = 43.97\n",
      "Iteration #1650: W_new = [45.06248865  3.81250206], MSE = 43.97\n",
      "Iteration #1660: W_new = [45.06248965  3.81250188], MSE = 43.97\n",
      "Iteration #1670: W_new = [45.06249055  3.81250171], MSE = 43.97\n",
      "Iteration #1680: W_new = [45.06249138  3.81250156], MSE = 43.97\n",
      "Iteration #1690: W_new = [45.06249213  3.81250143], MSE = 43.97\n",
      "Iteration #1700: W_new = [45.06249282  3.8125013 ], MSE = 43.97\n",
      "Iteration #1710: W_new = [45.06249345  3.81250119], MSE = 43.97\n",
      "Iteration #1720: W_new = [45.06249402  3.81250108], MSE = 43.97\n",
      "Iteration #1730: W_new = [45.06249455  3.81250099], MSE = 43.97\n",
      "Iteration #1740: W_new = [45.06249503  3.8125009 ], MSE = 43.97\n",
      "Iteration #1750: W_new = [45.06249546  3.81250082], MSE = 43.97\n",
      "Iteration #1760: W_new = [45.06249586  3.81250075], MSE = 43.97\n",
      "Iteration #1770: W_new = [45.06249622  3.81250069], MSE = 43.97\n",
      "Iteration #1780: W_new = [45.06249655  3.81250063], MSE = 43.97\n",
      "Iteration #1790: W_new = [45.06249685  3.81250057], MSE = 43.97\n",
      "Iteration #1800: W_new = [45.06249713  3.81250052], MSE = 43.97\n",
      "Iteration #1810: W_new = [45.06249738  3.81250048], MSE = 43.97\n",
      "Iteration #1820: W_new = [45.06249761  3.81250043], MSE = 43.97\n",
      "Iteration #1830: W_new = [45.06249782  3.8125004 ], MSE = 43.97\n",
      "Iteration #1840: W_new = [45.06249801  3.81250036], MSE = 43.97\n",
      "Iteration #1850: W_new = [45.06249818  3.81250033], MSE = 43.97\n",
      "Iteration #1860: W_new = [45.06249834  3.8125003 ], MSE = 43.97\n",
      "Iteration #1870: W_new = [45.06249849  3.81250027], MSE = 43.97\n",
      "Iteration #1880: W_new = [45.06249862  3.81250025], MSE = 43.97\n",
      "Iteration #1890: W_new = [45.06249874  3.81250023], MSE = 43.97\n",
      "Iteration #1900: W_new = [45.06249885  3.81250021], MSE = 43.97\n"
     ]
    }
   ],
   "source": [
    "n = X.shape[0]\n",
    "\n",
    "eta = 1e-2 \n",
    "epsilon = 1e-8\n",
    "iter_num = 0\n",
    "\n",
    "W = np.array([1, 0.5])\n",
    "print(f'Number of objects = {n} \\\n",
    "       \\nLearning rate = {eta} \\\n",
    "       \\nInitial weights = {W} \\n')\n",
    "weight_dist = np.inf\n",
    "\n",
    "while weight_dist > epsilon:\n",
    "    y_pred = np.dot(X, W)\n",
    "    err = calc_mse(y, y_pred)\n",
    "\n",
    "    W_new = W - eta * (1/n * 2 * np.dot(X.T, y_pred - y))\n",
    "    weight_dist = np.linalg.norm(W_new - W, ord=2)\n",
    "    W = W_new.copy()\n",
    "    \n",
    "    if iter_num % 10 == 0:\n",
    "        print(f'Iteration #{iter_num}: W_new = {W}, MSE = {round(err,2)}')\n",
    "    iter_num += 1"
   ]
  }
 ],
 "metadata": {
  "kernelspec": {
   "display_name": "Python 3 (ipykernel)",
   "language": "python",
   "name": "python3"
  },
  "language_info": {
   "codemirror_mode": {
    "name": "ipython",
    "version": 3
   },
   "file_extension": ".py",
   "mimetype": "text/x-python",
   "name": "python",
   "nbconvert_exporter": "python",
   "pygments_lexer": "ipython3",
   "version": "3.8.8"
  }
 },
 "nbformat": 4,
 "nbformat_minor": 2
}
